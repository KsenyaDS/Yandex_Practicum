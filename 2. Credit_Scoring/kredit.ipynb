{
 "cells": [
  {
   "cell_type": "markdown",
   "metadata": {},
   "source": [
    "# Исследование надёжности заёмщиков\n",
    "\n",
    "Заказчик — кредитный отдел банка. Нужно разобраться, влияет ли семейное положение и количество детей клиента на факт погашения кредита в срок. Входные данные от банка — статистика о платёжеспособности клиентов.\n",
    "\n",
    "Результаты исследования будут учтены при построении модели **кредитного скоринга** — специальной системы, которая оценивает способность потенциального заёмщика вернуть кредит банку."
   ]
  },
  {
   "cell_type": "markdown",
   "metadata": {},
   "source": [
    "Предоставлен файл с следующими данными:"
   ]
  },
  {
   "cell_type": "markdown",
   "metadata": {},
   "source": [
    "# Описание данных\n",
    "- children — количество детей в семье\n",
    "- days_employed — общий трудовой стаж в днях\n",
    "- dob_years — возраст клиента в годах\n",
    "- education — уровень образования клиента\n",
    "- education_id — идентификатор уровня образования\n",
    "- family_status — семейное положение\n",
    "- family_status_id — идентификатор семейного положения\n",
    "- gender — пол клиента\n",
    "- income_type — тип занятости\n",
    "- debt — имел ли задолженность по возврату кредитов\n",
    "- total_income — ежемесячный доход\n",
    "- purpose — цель получения кредита"
   ]
  },
  {
   "cell_type": "markdown",
   "metadata": {},
   "source": [
    "\n",
    "# Структура проекта\n",
    "1. [Изучение данных](#start)\n",
    "2. [Предобработка данных](#preprocessing)\n",
    "    * [Обработка пропущенных значений](#null)\n",
    "    * [Обработка аномальных значений](#anomaly)  \n",
    "    * [Замена типа данных](#type)\n",
    "    * [Обработка дубликатов](#duplicates)\n",
    "    * [Лематизация данных](#lemma)\n",
    "    * [Категоризация данных](#category)\n",
    "3. [Исследовательский анализ данных](#analysis)\n",
    "4. [Построение моделей](#model)\n",
    "5. [Вывод](#conclusion)"
   ]
  },
  {
   "cell_type": "markdown",
   "metadata": {},
   "source": [
    "# Шаг 1. Изучение данных\n",
    "<a id=\"start\"></a>"
   ]
  },
  {
   "cell_type": "markdown",
   "metadata": {},
   "source": [
    "На данном этапе познакомимся с данными. Посмотрим есть ли в данных дубликаты, пропуски, аномальные значения, неправильные типы данных."
   ]
  },
  {
   "cell_type": "markdown",
   "metadata": {},
   "source": [
    "Для начала импортируем необходимые библиотеки для работы над проектом. "
   ]
  },
  {
   "cell_type": "code",
   "execution_count": 1,
   "metadata": {},
   "outputs": [],
   "source": [
    "import pandas as pd\n",
    "import numpy as np\n",
    "import seaborn as sns\n",
    "from IPython.display import display\n",
    "import phik\n",
    "import time\n",
    "from phik import resources, report\n",
    "from phik.report import plot_correlation_matrix\n",
    "import missingno as msno # импорт библиотеки missingno\n",
    "import json\n",
    "from pymystem3 import Mystem\n",
    "from collections import Counter\n",
    "import matplotlib.pyplot as plt\n",
    "from phik import resources, report\n",
    "from phik.report import plot_correlation_matrix\n",
    "from sklearn.model_selection import GridSearchCV\n",
    "from sklearn.model_selection import RandomizedSearchCV\n",
    "\n",
    "from sklearn.model_selection import train_test_split\n",
    "from catboost import CatBoostClassifier\n",
    "from sklearn.tree import DecisionTreeClassifier \n",
    "\n",
    "\n",
    "from sklearn.ensemble import RandomForestClassifier\n",
    "from lightgbm import LGBMClassifier \n",
    "from sklearn.preprocessing import LabelEncoder, StandardScaler\n",
    "from sklearn.metrics import roc_auc_score\n",
    "from sklearn.metrics import accuracy_score\n",
    "from sklearn.utils import shuffle\n",
    "from sklearn.metrics import f1_score, make_scorer\n",
    "from sklearn.linear_model import LogisticRegression\n",
    "from sklearn.linear_model import SGDClassifier\n",
    "from sklearn import svm\n",
    "from sklearn.neighbors import KNeighborsClassifier"
   ]
  },
  {
   "cell_type": "markdown",
   "metadata": {},
   "source": [
    "Установим отсутствующие библиотеки."
   ]
  },
  {
   "cell_type": "code",
   "execution_count": 2,
   "metadata": {},
   "outputs": [
    {
     "name": "stdout",
     "output_type": "stream",
     "text": [
      "Requirement already satisfied: phik in c:\\miniconda\\lib\\site-packages (0.12.0)\n",
      "Requirement already satisfied: scipy>=1.5.2 in c:\\miniconda\\lib\\site-packages (from phik) (1.7.1)\n",
      "Requirement already satisfied: pandas>=0.25.1 in c:\\miniconda\\lib\\site-packages (from phik) (1.3.4)\n",
      "Requirement already satisfied: matplotlib>=2.2.3 in c:\\users\\ксения\\appdata\\roaming\\python\\python39\\site-packages (from phik) (3.5.2)\n",
      "Requirement already satisfied: numpy>=1.18.0 in c:\\miniconda\\lib\\site-packages (from phik) (1.22.4)\n",
      "Requirement already satisfied: joblib>=0.14.1 in c:\\miniconda\\lib\\site-packages (from phik) (1.0.1)\n",
      "Requirement already satisfied: cycler>=0.10 in c:\\miniconda\\lib\\site-packages (from matplotlib>=2.2.3->phik) (0.10.0)\n",
      "Requirement already satisfied: pillow>=6.2.0 in c:\\miniconda\\lib\\site-packages (from matplotlib>=2.2.3->phik) (8.4.0)\n",
      "Requirement already satisfied: python-dateutil>=2.7 in c:\\users\\ксения\\appdata\\roaming\\python\\python39\\site-packages (from matplotlib>=2.2.3->phik) (2.8.2)\n",
      "Requirement already satisfied: kiwisolver>=1.0.1 in c:\\miniconda\\lib\\site-packages (from matplotlib>=2.2.3->phik) (1.3.2)\n",
      "Requirement already satisfied: packaging>=20.0 in c:\\miniconda\\lib\\site-packages (from matplotlib>=2.2.3->phik) (21.0)\n",
      "Requirement already satisfied: pyparsing>=2.2.1 in c:\\miniconda\\lib\\site-packages (from matplotlib>=2.2.3->phik) (2.4.7)\n",
      "Requirement already satisfied: fonttools>=4.22.0 in c:\\miniconda\\lib\\site-packages (from matplotlib>=2.2.3->phik) (4.34.4)\n",
      "Requirement already satisfied: pytz>=2017.3 in c:\\miniconda\\lib\\site-packages (from pandas>=0.25.1->phik) (2021.3)\n",
      "Requirement already satisfied: six in c:\\users\\ксения\\appdata\\roaming\\python\\python39\\site-packages (from cycler>=0.10->matplotlib>=2.2.3->phik) (1.16.0)\n",
      "\n",
      "[notice] A new release of pip available: 22.1.2 -> 22.2.2\n",
      "[notice] To update, run: python.exe -m pip install --upgrade pip\n",
      "Requirement already satisfied: pymystem3 in c:\\miniconda\\lib\\site-packages (0.2.0)\n",
      "Requirement already satisfied: requests in c:\\miniconda\\lib\\site-packages (from pymystem3) (2.25.1)\n",
      "Requirement already satisfied: urllib3<1.27,>=1.21.1 in c:\\miniconda\\lib\\site-packages (from requests->pymystem3) (1.26.6)\n",
      "Requirement already satisfied: chardet<5,>=3.0.2 in c:\\miniconda\\lib\\site-packages (from requests->pymystem3) (4.0.0)\n",
      "Requirement already satisfied: certifi>=2017.4.17 in c:\\miniconda\\lib\\site-packages (from requests->pymystem3) (2022.6.15)\n",
      "Requirement already satisfied: idna<3,>=2.5 in c:\\miniconda\\lib\\site-packages (from requests->pymystem3) (2.10)\n",
      "\n",
      "[notice] A new release of pip available: 22.1.2 -> 22.2.2\n",
      "[notice] To update, run: python.exe -m pip install --upgrade pip\n"
     ]
    }
   ],
   "source": [
    "!pip install phik\n",
    "!pip install pymystem3"
   ]
  },
  {
   "cell_type": "markdown",
   "metadata": {},
   "source": [
    "Загрузим файл с данными."
   ]
  },
  {
   "cell_type": "code",
   "execution_count": 3,
   "metadata": {},
   "outputs": [],
   "source": [
    "data = pd.read_csv('data.csv')"
   ]
  },
  {
   "cell_type": "markdown",
   "metadata": {},
   "source": [
    "Посмотрим, что содержится в датасете."
   ]
  },
  {
   "cell_type": "code",
   "execution_count": 4,
   "metadata": {},
   "outputs": [
    {
     "data": {
      "text/html": [
       "<div>\n",
       "<style scoped>\n",
       "    .dataframe tbody tr th:only-of-type {\n",
       "        vertical-align: middle;\n",
       "    }\n",
       "\n",
       "    .dataframe tbody tr th {\n",
       "        vertical-align: top;\n",
       "    }\n",
       "\n",
       "    .dataframe thead th {\n",
       "        text-align: right;\n",
       "    }\n",
       "</style>\n",
       "<table border=\"1\" class=\"dataframe\">\n",
       "  <thead>\n",
       "    <tr style=\"text-align: right;\">\n",
       "      <th></th>\n",
       "      <th>children</th>\n",
       "      <th>days_employed</th>\n",
       "      <th>dob_years</th>\n",
       "      <th>education</th>\n",
       "      <th>education_id</th>\n",
       "      <th>family_status</th>\n",
       "      <th>family_status_id</th>\n",
       "      <th>gender</th>\n",
       "      <th>income_type</th>\n",
       "      <th>debt</th>\n",
       "      <th>total_income</th>\n",
       "      <th>purpose</th>\n",
       "    </tr>\n",
       "  </thead>\n",
       "  <tbody>\n",
       "    <tr>\n",
       "      <th>0</th>\n",
       "      <td>1</td>\n",
       "      <td>-8437.673028</td>\n",
       "      <td>42</td>\n",
       "      <td>высшее</td>\n",
       "      <td>0</td>\n",
       "      <td>женат / замужем</td>\n",
       "      <td>0</td>\n",
       "      <td>F</td>\n",
       "      <td>сотрудник</td>\n",
       "      <td>0</td>\n",
       "      <td>253875.639453</td>\n",
       "      <td>покупка жилья</td>\n",
       "    </tr>\n",
       "    <tr>\n",
       "      <th>1</th>\n",
       "      <td>1</td>\n",
       "      <td>-4024.803754</td>\n",
       "      <td>36</td>\n",
       "      <td>среднее</td>\n",
       "      <td>1</td>\n",
       "      <td>женат / замужем</td>\n",
       "      <td>0</td>\n",
       "      <td>F</td>\n",
       "      <td>сотрудник</td>\n",
       "      <td>0</td>\n",
       "      <td>112080.014102</td>\n",
       "      <td>приобретение автомобиля</td>\n",
       "    </tr>\n",
       "    <tr>\n",
       "      <th>2</th>\n",
       "      <td>0</td>\n",
       "      <td>-5623.422610</td>\n",
       "      <td>33</td>\n",
       "      <td>Среднее</td>\n",
       "      <td>1</td>\n",
       "      <td>женат / замужем</td>\n",
       "      <td>0</td>\n",
       "      <td>M</td>\n",
       "      <td>сотрудник</td>\n",
       "      <td>0</td>\n",
       "      <td>145885.952297</td>\n",
       "      <td>покупка жилья</td>\n",
       "    </tr>\n",
       "    <tr>\n",
       "      <th>3</th>\n",
       "      <td>3</td>\n",
       "      <td>-4124.747207</td>\n",
       "      <td>32</td>\n",
       "      <td>среднее</td>\n",
       "      <td>1</td>\n",
       "      <td>женат / замужем</td>\n",
       "      <td>0</td>\n",
       "      <td>M</td>\n",
       "      <td>сотрудник</td>\n",
       "      <td>0</td>\n",
       "      <td>267628.550329</td>\n",
       "      <td>дополнительное образование</td>\n",
       "    </tr>\n",
       "    <tr>\n",
       "      <th>4</th>\n",
       "      <td>0</td>\n",
       "      <td>340266.072047</td>\n",
       "      <td>53</td>\n",
       "      <td>среднее</td>\n",
       "      <td>1</td>\n",
       "      <td>гражданский брак</td>\n",
       "      <td>1</td>\n",
       "      <td>F</td>\n",
       "      <td>пенсионер</td>\n",
       "      <td>0</td>\n",
       "      <td>158616.077870</td>\n",
       "      <td>сыграть свадьбу</td>\n",
       "    </tr>\n",
       "    <tr>\n",
       "      <th>5</th>\n",
       "      <td>0</td>\n",
       "      <td>-926.185831</td>\n",
       "      <td>27</td>\n",
       "      <td>высшее</td>\n",
       "      <td>0</td>\n",
       "      <td>гражданский брак</td>\n",
       "      <td>1</td>\n",
       "      <td>M</td>\n",
       "      <td>компаньон</td>\n",
       "      <td>0</td>\n",
       "      <td>255763.565419</td>\n",
       "      <td>покупка жилья</td>\n",
       "    </tr>\n",
       "    <tr>\n",
       "      <th>6</th>\n",
       "      <td>0</td>\n",
       "      <td>-2879.202052</td>\n",
       "      <td>43</td>\n",
       "      <td>высшее</td>\n",
       "      <td>0</td>\n",
       "      <td>женат / замужем</td>\n",
       "      <td>0</td>\n",
       "      <td>F</td>\n",
       "      <td>компаньон</td>\n",
       "      <td>0</td>\n",
       "      <td>240525.971920</td>\n",
       "      <td>операции с жильем</td>\n",
       "    </tr>\n",
       "    <tr>\n",
       "      <th>7</th>\n",
       "      <td>0</td>\n",
       "      <td>-152.779569</td>\n",
       "      <td>50</td>\n",
       "      <td>СРЕДНЕЕ</td>\n",
       "      <td>1</td>\n",
       "      <td>женат / замужем</td>\n",
       "      <td>0</td>\n",
       "      <td>M</td>\n",
       "      <td>сотрудник</td>\n",
       "      <td>0</td>\n",
       "      <td>135823.934197</td>\n",
       "      <td>образование</td>\n",
       "    </tr>\n",
       "    <tr>\n",
       "      <th>8</th>\n",
       "      <td>2</td>\n",
       "      <td>-6929.865299</td>\n",
       "      <td>35</td>\n",
       "      <td>ВЫСШЕЕ</td>\n",
       "      <td>0</td>\n",
       "      <td>гражданский брак</td>\n",
       "      <td>1</td>\n",
       "      <td>F</td>\n",
       "      <td>сотрудник</td>\n",
       "      <td>0</td>\n",
       "      <td>95856.832424</td>\n",
       "      <td>на проведение свадьбы</td>\n",
       "    </tr>\n",
       "    <tr>\n",
       "      <th>9</th>\n",
       "      <td>0</td>\n",
       "      <td>-2188.756445</td>\n",
       "      <td>41</td>\n",
       "      <td>среднее</td>\n",
       "      <td>1</td>\n",
       "      <td>женат / замужем</td>\n",
       "      <td>0</td>\n",
       "      <td>M</td>\n",
       "      <td>сотрудник</td>\n",
       "      <td>0</td>\n",
       "      <td>144425.938277</td>\n",
       "      <td>покупка жилья для семьи</td>\n",
       "    </tr>\n",
       "    <tr>\n",
       "      <th>10</th>\n",
       "      <td>2</td>\n",
       "      <td>-4171.483647</td>\n",
       "      <td>36</td>\n",
       "      <td>высшее</td>\n",
       "      <td>0</td>\n",
       "      <td>женат / замужем</td>\n",
       "      <td>0</td>\n",
       "      <td>M</td>\n",
       "      <td>компаньон</td>\n",
       "      <td>0</td>\n",
       "      <td>113943.491460</td>\n",
       "      <td>покупка недвижимости</td>\n",
       "    </tr>\n",
       "    <tr>\n",
       "      <th>11</th>\n",
       "      <td>0</td>\n",
       "      <td>-792.701887</td>\n",
       "      <td>40</td>\n",
       "      <td>среднее</td>\n",
       "      <td>1</td>\n",
       "      <td>женат / замужем</td>\n",
       "      <td>0</td>\n",
       "      <td>F</td>\n",
       "      <td>сотрудник</td>\n",
       "      <td>0</td>\n",
       "      <td>77069.234271</td>\n",
       "      <td>покупка коммерческой недвижимости</td>\n",
       "    </tr>\n",
       "    <tr>\n",
       "      <th>12</th>\n",
       "      <td>0</td>\n",
       "      <td>NaN</td>\n",
       "      <td>65</td>\n",
       "      <td>среднее</td>\n",
       "      <td>1</td>\n",
       "      <td>гражданский брак</td>\n",
       "      <td>1</td>\n",
       "      <td>M</td>\n",
       "      <td>пенсионер</td>\n",
       "      <td>0</td>\n",
       "      <td>NaN</td>\n",
       "      <td>сыграть свадьбу</td>\n",
       "    </tr>\n",
       "    <tr>\n",
       "      <th>13</th>\n",
       "      <td>0</td>\n",
       "      <td>-1846.641941</td>\n",
       "      <td>54</td>\n",
       "      <td>неоконченное высшее</td>\n",
       "      <td>2</td>\n",
       "      <td>женат / замужем</td>\n",
       "      <td>0</td>\n",
       "      <td>F</td>\n",
       "      <td>сотрудник</td>\n",
       "      <td>0</td>\n",
       "      <td>130458.228857</td>\n",
       "      <td>приобретение автомобиля</td>\n",
       "    </tr>\n",
       "    <tr>\n",
       "      <th>14</th>\n",
       "      <td>0</td>\n",
       "      <td>-1844.956182</td>\n",
       "      <td>56</td>\n",
       "      <td>высшее</td>\n",
       "      <td>0</td>\n",
       "      <td>гражданский брак</td>\n",
       "      <td>1</td>\n",
       "      <td>F</td>\n",
       "      <td>компаньон</td>\n",
       "      <td>1</td>\n",
       "      <td>165127.911772</td>\n",
       "      <td>покупка жилой недвижимости</td>\n",
       "    </tr>\n",
       "  </tbody>\n",
       "</table>\n",
       "</div>"
      ],
      "text/plain": [
       "    children  days_employed  dob_years            education  education_id  \\\n",
       "0          1   -8437.673028         42               высшее             0   \n",
       "1          1   -4024.803754         36              среднее             1   \n",
       "2          0   -5623.422610         33              Среднее             1   \n",
       "3          3   -4124.747207         32              среднее             1   \n",
       "4          0  340266.072047         53              среднее             1   \n",
       "5          0    -926.185831         27               высшее             0   \n",
       "6          0   -2879.202052         43               высшее             0   \n",
       "7          0    -152.779569         50              СРЕДНЕЕ             1   \n",
       "8          2   -6929.865299         35               ВЫСШЕЕ             0   \n",
       "9          0   -2188.756445         41              среднее             1   \n",
       "10         2   -4171.483647         36               высшее             0   \n",
       "11         0    -792.701887         40              среднее             1   \n",
       "12         0            NaN         65              среднее             1   \n",
       "13         0   -1846.641941         54  неоконченное высшее             2   \n",
       "14         0   -1844.956182         56               высшее             0   \n",
       "\n",
       "       family_status  family_status_id gender income_type  debt  \\\n",
       "0    женат / замужем                 0      F   сотрудник     0   \n",
       "1    женат / замужем                 0      F   сотрудник     0   \n",
       "2    женат / замужем                 0      M   сотрудник     0   \n",
       "3    женат / замужем                 0      M   сотрудник     0   \n",
       "4   гражданский брак                 1      F   пенсионер     0   \n",
       "5   гражданский брак                 1      M   компаньон     0   \n",
       "6    женат / замужем                 0      F   компаньон     0   \n",
       "7    женат / замужем                 0      M   сотрудник     0   \n",
       "8   гражданский брак                 1      F   сотрудник     0   \n",
       "9    женат / замужем                 0      M   сотрудник     0   \n",
       "10   женат / замужем                 0      M   компаньон     0   \n",
       "11   женат / замужем                 0      F   сотрудник     0   \n",
       "12  гражданский брак                 1      M   пенсионер     0   \n",
       "13   женат / замужем                 0      F   сотрудник     0   \n",
       "14  гражданский брак                 1      F   компаньон     1   \n",
       "\n",
       "     total_income                            purpose  \n",
       "0   253875.639453                      покупка жилья  \n",
       "1   112080.014102            приобретение автомобиля  \n",
       "2   145885.952297                      покупка жилья  \n",
       "3   267628.550329         дополнительное образование  \n",
       "4   158616.077870                    сыграть свадьбу  \n",
       "5   255763.565419                      покупка жилья  \n",
       "6   240525.971920                  операции с жильем  \n",
       "7   135823.934197                        образование  \n",
       "8    95856.832424              на проведение свадьбы  \n",
       "9   144425.938277            покупка жилья для семьи  \n",
       "10  113943.491460               покупка недвижимости  \n",
       "11   77069.234271  покупка коммерческой недвижимости  \n",
       "12            NaN                    сыграть свадьбу  \n",
       "13  130458.228857            приобретение автомобиля  \n",
       "14  165127.911772         покупка жилой недвижимости  "
      ]
     },
     "execution_count": 4,
     "metadata": {},
     "output_type": "execute_result"
    }
   ],
   "source": [
    "data.head(15)"
   ]
  },
  {
   "cell_type": "markdown",
   "metadata": {},
   "source": [
    "Взглянув на датасет замечаем, что в нем есть:\n",
    "\n",
    "- пропущенные значения \n",
    "- аномальные значения\n",
    "- неправильные типы данных\n",
    "- дубликаты \n",
    "\n",
    "Рассмотрим поподробнее. Изучим общую информацию о нем."
   ]
  },
  {
   "cell_type": "code",
   "execution_count": 5,
   "metadata": {},
   "outputs": [
    {
     "name": "stdout",
     "output_type": "stream",
     "text": [
      "<class 'pandas.core.frame.DataFrame'>\n",
      "RangeIndex: 21525 entries, 0 to 21524\n",
      "Data columns (total 12 columns):\n",
      " #   Column            Non-Null Count  Dtype  \n",
      "---  ------            --------------  -----  \n",
      " 0   children          21525 non-null  int64  \n",
      " 1   days_employed     19351 non-null  float64\n",
      " 2   dob_years         21525 non-null  int64  \n",
      " 3   education         21525 non-null  object \n",
      " 4   education_id      21525 non-null  int64  \n",
      " 5   family_status     21525 non-null  object \n",
      " 6   family_status_id  21525 non-null  int64  \n",
      " 7   gender            21525 non-null  object \n",
      " 8   income_type       21525 non-null  object \n",
      " 9   debt              21525 non-null  int64  \n",
      " 10  total_income      19351 non-null  float64\n",
      " 11  purpose           21525 non-null  object \n",
      "dtypes: float64(2), int64(5), object(5)\n",
      "memory usage: 2.0+ MB\n"
     ]
    }
   ],
   "source": [
    "data.info()"
   ]
  },
  {
   "cell_type": "markdown",
   "metadata": {},
   "source": [
    "Столбцы `days_employed` и `total_income` неправильного типа данных, необходимо привести их к типу int. Также обнаружены пропущенные значения в этих столбцах `days_employed` и `total_income`. Посмотрим на процентное соотношение пропусков."
   ]
  },
  {
   "cell_type": "code",
   "execution_count": 6,
   "metadata": {},
   "outputs": [
    {
     "data": {
      "text/plain": [
       "days_employed       0.100999\n",
       "total_income        0.100999\n",
       "children            0.000000\n",
       "dob_years           0.000000\n",
       "education           0.000000\n",
       "education_id        0.000000\n",
       "family_status       0.000000\n",
       "family_status_id    0.000000\n",
       "gender              0.000000\n",
       "income_type         0.000000\n",
       "debt                0.000000\n",
       "purpose             0.000000\n",
       "dtype: float64"
      ]
     },
     "execution_count": 6,
     "metadata": {},
     "output_type": "execute_result"
    }
   ],
   "source": [
    "data.isnull().mean().sort_values(ascending=False)"
   ]
  },
  {
   "cell_type": "markdown",
   "metadata": {},
   "source": [
    "Пропущенные значения занимают 10% от датасета. Видим, что кол-во пропущенных значений в столбцах совпадают. Также заметили, что пропуски есть в обоих столбцах. Причины пропусков скорее всего не случайны. Возможно связаны с сокрытием информации. Например клиент мог взять кредит без подтверждения дохода по двум документам. Построим матрицу пропущенных значений. "
   ]
  },
  {
   "cell_type": "code",
   "execution_count": 7,
   "metadata": {},
   "outputs": [
    {
     "data": {
      "text/plain": [
       "<AxesSubplot:>"
      ]
     },
     "execution_count": 7,
     "metadata": {},
     "output_type": "execute_result"
    },
    {
     "data": {
      "image/png": "[encoded data removed]",
      "text/plain": [
       "<Figure size 1440x864 with 2 Axes>"
      ]
     },
     "metadata": {
      "needs_background": "light"
     },
     "output_type": "display_data"
    }
   ],
   "source": [
    "msno.heatmap(data)"
   ]
  },
  {
   "cell_type": "markdown",
   "metadata": {},
   "source": [
    "Как мы и думали, все пропущенные значения совпадают в обоих столбцах. Причины пропусков явно не случайны."
   ]
  },
  {
   "cell_type": "markdown",
   "metadata": {},
   "source": [
    "Посмотрим на распределение данных в столбцах."
   ]
  },
  {
   "cell_type": "code",
   "execution_count": 8,
   "metadata": {},
   "outputs": [
    {
     "data": {
      "text/html": [
       "<div>\n",
       "<style scoped>\n",
       "    .dataframe tbody tr th:only-of-type {\n",
       "        vertical-align: middle;\n",
       "    }\n",
       "\n",
       "    .dataframe tbody tr th {\n",
       "        vertical-align: top;\n",
       "    }\n",
       "\n",
       "    .dataframe thead th {\n",
       "        text-align: right;\n",
       "    }\n",
       "</style>\n",
       "<table border=\"1\" class=\"dataframe\">\n",
       "  <thead>\n",
       "    <tr style=\"text-align: right;\">\n",
       "      <th></th>\n",
       "      <th>children</th>\n",
       "      <th>days_employed</th>\n",
       "      <th>dob_years</th>\n",
       "      <th>education_id</th>\n",
       "      <th>family_status_id</th>\n",
       "      <th>debt</th>\n",
       "      <th>total_income</th>\n",
       "    </tr>\n",
       "  </thead>\n",
       "  <tbody>\n",
       "    <tr>\n",
       "      <th>count</th>\n",
       "      <td>21525.000000</td>\n",
       "      <td>19351.000000</td>\n",
       "      <td>21525.000000</td>\n",
       "      <td>21525.000000</td>\n",
       "      <td>21525.000000</td>\n",
       "      <td>21525.000000</td>\n",
       "      <td>1.935100e+04</td>\n",
       "    </tr>\n",
       "    <tr>\n",
       "      <th>mean</th>\n",
       "      <td>0.538908</td>\n",
       "      <td>63046.497661</td>\n",
       "      <td>43.293380</td>\n",
       "      <td>0.817236</td>\n",
       "      <td>0.972544</td>\n",
       "      <td>0.080883</td>\n",
       "      <td>1.674223e+05</td>\n",
       "    </tr>\n",
       "    <tr>\n",
       "      <th>std</th>\n",
       "      <td>1.381587</td>\n",
       "      <td>140827.311974</td>\n",
       "      <td>12.574584</td>\n",
       "      <td>0.548138</td>\n",
       "      <td>1.420324</td>\n",
       "      <td>0.272661</td>\n",
       "      <td>1.029716e+05</td>\n",
       "    </tr>\n",
       "    <tr>\n",
       "      <th>min</th>\n",
       "      <td>-1.000000</td>\n",
       "      <td>-18388.949901</td>\n",
       "      <td>0.000000</td>\n",
       "      <td>0.000000</td>\n",
       "      <td>0.000000</td>\n",
       "      <td>0.000000</td>\n",
       "      <td>2.066726e+04</td>\n",
       "    </tr>\n",
       "    <tr>\n",
       "      <th>25%</th>\n",
       "      <td>0.000000</td>\n",
       "      <td>-2747.423625</td>\n",
       "      <td>33.000000</td>\n",
       "      <td>1.000000</td>\n",
       "      <td>0.000000</td>\n",
       "      <td>0.000000</td>\n",
       "      <td>1.030532e+05</td>\n",
       "    </tr>\n",
       "    <tr>\n",
       "      <th>50%</th>\n",
       "      <td>0.000000</td>\n",
       "      <td>-1203.369529</td>\n",
       "      <td>42.000000</td>\n",
       "      <td>1.000000</td>\n",
       "      <td>0.000000</td>\n",
       "      <td>0.000000</td>\n",
       "      <td>1.450179e+05</td>\n",
       "    </tr>\n",
       "    <tr>\n",
       "      <th>75%</th>\n",
       "      <td>1.000000</td>\n",
       "      <td>-291.095954</td>\n",
       "      <td>53.000000</td>\n",
       "      <td>1.000000</td>\n",
       "      <td>1.000000</td>\n",
       "      <td>0.000000</td>\n",
       "      <td>2.034351e+05</td>\n",
       "    </tr>\n",
       "    <tr>\n",
       "      <th>max</th>\n",
       "      <td>20.000000</td>\n",
       "      <td>401755.400475</td>\n",
       "      <td>75.000000</td>\n",
       "      <td>4.000000</td>\n",
       "      <td>4.000000</td>\n",
       "      <td>1.000000</td>\n",
       "      <td>2.265604e+06</td>\n",
       "    </tr>\n",
       "  </tbody>\n",
       "</table>\n",
       "</div>"
      ],
      "text/plain": [
       "           children  days_employed     dob_years  education_id  \\\n",
       "count  21525.000000   19351.000000  21525.000000  21525.000000   \n",
       "mean       0.538908   63046.497661     43.293380      0.817236   \n",
       "std        1.381587  140827.311974     12.574584      0.548138   \n",
       "min       -1.000000  -18388.949901      0.000000      0.000000   \n",
       "25%        0.000000   -2747.423625     33.000000      1.000000   \n",
       "50%        0.000000   -1203.369529     42.000000      1.000000   \n",
       "75%        1.000000    -291.095954     53.000000      1.000000   \n",
       "max       20.000000  401755.400475     75.000000      4.000000   \n",
       "\n",
       "       family_status_id          debt  total_income  \n",
       "count      21525.000000  21525.000000  1.935100e+04  \n",
       "mean           0.972544      0.080883  1.674223e+05  \n",
       "std            1.420324      0.272661  1.029716e+05  \n",
       "min            0.000000      0.000000  2.066726e+04  \n",
       "25%            0.000000      0.000000  1.030532e+05  \n",
       "50%            0.000000      0.000000  1.450179e+05  \n",
       "75%            1.000000      0.000000  2.034351e+05  \n",
       "max            4.000000      1.000000  2.265604e+06  "
      ]
     },
     "execution_count": 8,
     "metadata": {},
     "output_type": "execute_result"
    }
   ],
   "source": [
    "data.describe()"
   ]
  },
  {
   "cell_type": "markdown",
   "metadata": {},
   "source": [
    "Видим, что в столбцах `children`, `days_employed ` есть аномальные значения."
   ]
  },
  {
   "cell_type": "markdown",
   "metadata": {},
   "source": [
    "Проверим, есть ли в данных некорректные значения, неявные дубликаты. Посмотрим на уникальные значения во всех столбцах."
   ]
  },
  {
   "cell_type": "code",
   "execution_count": 9,
   "metadata": {},
   "outputs": [
    {
     "data": {
      "text/plain": [
       "'children'"
      ]
     },
     "metadata": {},
     "output_type": "display_data"
    },
    {
     "data": {
      "text/plain": [
       "array([ 1,  0,  3,  2, -1,  4, 20,  5], dtype=int64)"
      ]
     },
     "metadata": {},
     "output_type": "display_data"
    },
    {
     "data": {
      "text/plain": [
       "'days_employed'"
      ]
     },
     "metadata": {},
     "output_type": "display_data"
    },
    {
     "data": {
      "text/plain": [
       "array([-8437.67302776, -4024.80375385, -5623.42261023, ...,\n",
       "       -2113.3468877 , -3112.4817052 , -1984.50758853])"
      ]
     },
     "metadata": {},
     "output_type": "display_data"
    },
    {
     "data": {
      "text/plain": [
       "'dob_years'"
      ]
     },
     "metadata": {},
     "output_type": "display_data"
    },
    {
     "data": {
      "text/plain": [
       "array([42, 36, 33, 32, 53, 27, 43, 50, 35, 41, 40, 65, 54, 56, 26, 48, 24,\n",
       "       21, 57, 67, 28, 63, 62, 47, 34, 68, 25, 31, 30, 20, 49, 37, 45, 61,\n",
       "       64, 44, 52, 46, 23, 38, 39, 51,  0, 59, 29, 60, 55, 58, 71, 22, 73,\n",
       "       66, 69, 19, 72, 70, 74, 75], dtype=int64)"
      ]
     },
     "metadata": {},
     "output_type": "display_data"
    },
    {
     "data": {
      "text/plain": [
       "'education'"
      ]
     },
     "metadata": {},
     "output_type": "display_data"
    },
    {
     "data": {
      "text/plain": [
       "array(['высшее', 'среднее', 'Среднее', 'СРЕДНЕЕ', 'ВЫСШЕЕ',\n",
       "       'неоконченное высшее', 'начальное', 'Высшее',\n",
       "       'НЕОКОНЧЕННОЕ ВЫСШЕЕ', 'Неоконченное высшее', 'НАЧАЛЬНОЕ',\n",
       "       'Начальное', 'Ученая степень', 'УЧЕНАЯ СТЕПЕНЬ', 'ученая степень'],\n",
       "      dtype=object)"
      ]
     },
     "metadata": {},
     "output_type": "display_data"
    },
    {
     "data": {
      "text/plain": [
       "'education_id'"
      ]
     },
     "metadata": {},
     "output_type": "display_data"
    },
    {
     "data": {
      "text/plain": [
       "array([0, 1, 2, 3, 4], dtype=int64)"
      ]
     },
     "metadata": {},
     "output_type": "display_data"
    },
    {
     "data": {
      "text/plain": [
       "'family_status'"
      ]
     },
     "metadata": {},
     "output_type": "display_data"
    },
    {
     "data": {
      "text/plain": [
       "array(['женат / замужем', 'гражданский брак', 'вдовец / вдова',\n",
       "       'в разводе', 'Не женат / не замужем'], dtype=object)"
      ]
     },
     "metadata": {},
     "output_type": "display_data"
    },
    {
     "data": {
      "text/plain": [
       "'family_status_id'"
      ]
     },
     "metadata": {},
     "output_type": "display_data"
    },
    {
     "data": {
      "text/plain": [
       "array([0, 1, 2, 3, 4], dtype=int64)"
      ]
     },
     "metadata": {},
     "output_type": "display_data"
    },
    {
     "data": {
      "text/plain": [
       "'gender'"
      ]
     },
     "metadata": {},
     "output_type": "display_data"
    },
    {
     "data": {
      "text/plain": [
       "array(['F', 'M', 'XNA'], dtype=object)"
      ]
     },
     "metadata": {},
     "output_type": "display_data"
    },
    {
     "data": {
      "text/plain": [
       "'income_type'"
      ]
     },
     "metadata": {},
     "output_type": "display_data"
    },
    {
     "data": {
      "text/plain": [
       "array(['сотрудник', 'пенсионер', 'компаньон', 'госслужащий',\n",
       "       'безработный', 'предприниматель', 'студент', 'в декрете'],\n",
       "      dtype=object)"
      ]
     },
     "metadata": {},
     "output_type": "display_data"
    },
    {
     "data": {
      "text/plain": [
       "'debt'"
      ]
     },
     "metadata": {},
     "output_type": "display_data"
    },
    {
     "data": {
      "text/plain": [
       "array([0, 1], dtype=int64)"
      ]
     },
     "metadata": {},
     "output_type": "display_data"
    },
    {
     "data": {
      "text/plain": [
       "'total_income'"
      ]
     },
     "metadata": {},
     "output_type": "display_data"
    },
    {
     "data": {
      "text/plain": [
       "array([253875.6394526 , 112080.01410244, 145885.95229686, ...,\n",
       "        89672.56115303, 244093.05050043,  82047.41889948])"
      ]
     },
     "metadata": {},
     "output_type": "display_data"
    },
    {
     "data": {
      "text/plain": [
       "'purpose'"
      ]
     },
     "metadata": {},
     "output_type": "display_data"
    },
    {
     "data": {
      "text/plain": [
       "array(['покупка жилья', 'приобретение автомобиля',\n",
       "       'дополнительное образование', 'сыграть свадьбу',\n",
       "       'операции с жильем', 'образование', 'на проведение свадьбы',\n",
       "       'покупка жилья для семьи', 'покупка недвижимости',\n",
       "       'покупка коммерческой недвижимости', 'покупка жилой недвижимости',\n",
       "       'строительство собственной недвижимости', 'недвижимость',\n",
       "       'строительство недвижимости', 'на покупку подержанного автомобиля',\n",
       "       'на покупку своего автомобиля',\n",
       "       'операции с коммерческой недвижимостью',\n",
       "       'строительство жилой недвижимости', 'жилье',\n",
       "       'операции со своей недвижимостью', 'автомобили',\n",
       "       'заняться образованием', 'сделка с подержанным автомобилем',\n",
       "       'получение образования', 'автомобиль', 'свадьба',\n",
       "       'получение дополнительного образования', 'покупка своего жилья',\n",
       "       'операции с недвижимостью', 'получение высшего образования',\n",
       "       'свой автомобиль', 'сделка с автомобилем',\n",
       "       'профильное образование', 'высшее образование',\n",
       "       'покупка жилья для сдачи', 'на покупку автомобиля', 'ремонт жилью',\n",
       "       'заняться высшим образованием'], dtype=object)"
      ]
     },
     "metadata": {},
     "output_type": "display_data"
    }
   ],
   "source": [
    "for columns in data.columns:\n",
    "    display(columns, data[columns].unique())"
   ]
  },
  {
   "cell_type": "markdown",
   "metadata": {},
   "source": [
    "Замечаем, что есть неккоректные значения в столбцах `children`, например -1, 20. В столбце `gender` неизвестное значение 'XNA'. Также видим дубликаты в данных, в столбце `education` из-за различного регистра, например 'НАЧАЛЬНОЕ' 'Начальное',  и в столбце purpose из-за отсутствия лемматизации слов, например 'сыграть свадьбу' и  'на проведение свадьбы'. "
   ]
  },
  {
   "cell_type": "markdown",
   "metadata": {},
   "source": [
    "## **Вывод**"
   ]
  },
  {
   "cell_type": "markdown",
   "metadata": {},
   "source": [
    "В результате анализа данных обнаружили:\n",
    "- в столбцах `days_employed` и `total_income` пропущены значения. Причины пропусков скорее всего не случайны. Возможно это связано с сокрытием информации. Необходимо обработать пропуски.\n",
    "- в столбце `education` дубликаты, т.к данные представлены в разных регистрах: в верхнем и нижнем. Необходимо привести столбец к единому нижнему регистру.\n",
    "- в столбце `purpose` дублируются данные, например на проведение свадьбы и сыграть свадьбу. Необходимо лемматизировать значения.\n",
    "- в столбцах `days_employed` и `total_income` некорректный тип данных float, который нужно заменить на int.\n",
    "- в столбцах `days_employed`,`dob_years`,`children` неккоректные значения. Необходимо обработать данные."
   ]
  },
  {
   "cell_type": "markdown",
   "metadata": {},
   "source": [
    "# Шаг 2. Предобработка данных\n",
    "<a id=\"preprocessing\"></a>"
   ]
  },
  {
   "cell_type": "markdown",
   "metadata": {},
   "source": [
    "На данном этапе обработаем данные:\n",
    "- избавимся от пропусков \n",
    "- удалим дубликаты\n",
    "- обработаем аномальные значения\n",
    "- приведем данные к нужному типу "
   ]
  },
  {
   "cell_type": "markdown",
   "metadata": {},
   "source": [
    "## Обработка пропусков\n",
    "<a id=\"null\"></a>"
   ]
  },
  {
   "cell_type": "markdown",
   "metadata": {},
   "source": [
    "Как мы уже выяснили, в столбцах days_employed и total_income пропущены значения. Необходимо обработать пропущенные значения. Либо удалить, либо заполнить каким-то значением. "
   ]
  },
  {
   "cell_type": "markdown",
   "metadata": {},
   "source": [
    "Посмотрим на матрицу корреляции."
   ]
  },
  {
   "cell_type": "code",
   "execution_count": 10,
   "metadata": {},
   "outputs": [
    {
     "name": "stdout",
     "output_type": "stream",
     "text": [
      "interval columns not set, guessing: ['children', 'days_employed', 'dob_years', 'education_id', 'family_status_id', 'debt', 'total_income']\n"
     ]
    },
    {
     "data": {
      "text/html": [
       "<div>\n",
       "<style scoped>\n",
       "    .dataframe tbody tr th:only-of-type {\n",
       "        vertical-align: middle;\n",
       "    }\n",
       "\n",
       "    .dataframe tbody tr th {\n",
       "        vertical-align: top;\n",
       "    }\n",
       "\n",
       "    .dataframe thead th {\n",
       "        text-align: right;\n",
       "    }\n",
       "</style>\n",
       "<table border=\"1\" class=\"dataframe\">\n",
       "  <thead>\n",
       "    <tr style=\"text-align: right;\">\n",
       "      <th></th>\n",
       "      <th>children</th>\n",
       "      <th>days_employed</th>\n",
       "      <th>dob_years</th>\n",
       "      <th>education</th>\n",
       "      <th>education_id</th>\n",
       "      <th>family_status</th>\n",
       "      <th>family_status_id</th>\n",
       "      <th>gender</th>\n",
       "      <th>income_type</th>\n",
       "      <th>debt</th>\n",
       "      <th>total_income</th>\n",
       "      <th>purpose</th>\n",
       "    </tr>\n",
       "  </thead>\n",
       "  <tbody>\n",
       "    <tr>\n",
       "      <th>children</th>\n",
       "      <td>1.000000</td>\n",
       "      <td>0.116614</td>\n",
       "      <td>0.255190</td>\n",
       "      <td>0.029776</td>\n",
       "      <td>0.007694</td>\n",
       "      <td>0.098733</td>\n",
       "      <td>0.098733</td>\n",
       "      <td>0.026507</td>\n",
       "      <td>0.203771</td>\n",
       "      <td>0.016899</td>\n",
       "      <td>0.007682</td>\n",
       "      <td>0.032290</td>\n",
       "    </tr>\n",
       "    <tr>\n",
       "      <th>days_employed</th>\n",
       "      <td>0.116614</td>\n",
       "      <td>1.000000</td>\n",
       "      <td>0.781338</td>\n",
       "      <td>0.203581</td>\n",
       "      <td>0.124125</td>\n",
       "      <td>0.202052</td>\n",
       "      <td>0.202052</td>\n",
       "      <td>0.317309</td>\n",
       "      <td>0.788142</td>\n",
       "      <td>0.028523</td>\n",
       "      <td>0.132720</td>\n",
       "      <td>0.000000</td>\n",
       "    </tr>\n",
       "    <tr>\n",
       "      <th>dob_years</th>\n",
       "      <td>0.255190</td>\n",
       "      <td>0.781338</td>\n",
       "      <td>1.000000</td>\n",
       "      <td>0.188952</td>\n",
       "      <td>0.185947</td>\n",
       "      <td>0.281225</td>\n",
       "      <td>0.281225</td>\n",
       "      <td>0.213078</td>\n",
       "      <td>0.481244</td>\n",
       "      <td>0.068791</td>\n",
       "      <td>0.081912</td>\n",
       "      <td>0.000000</td>\n",
       "    </tr>\n",
       "    <tr>\n",
       "      <th>education</th>\n",
       "      <td>0.029776</td>\n",
       "      <td>0.203581</td>\n",
       "      <td>0.188952</td>\n",
       "      <td>1.000000</td>\n",
       "      <td>1.000000</td>\n",
       "      <td>0.129056</td>\n",
       "      <td>0.129056</td>\n",
       "      <td>0.060869</td>\n",
       "      <td>0.185330</td>\n",
       "      <td>0.062447</td>\n",
       "      <td>0.158946</td>\n",
       "      <td>0.000000</td>\n",
       "    </tr>\n",
       "    <tr>\n",
       "      <th>education_id</th>\n",
       "      <td>0.007694</td>\n",
       "      <td>0.124125</td>\n",
       "      <td>0.185947</td>\n",
       "      <td>1.000000</td>\n",
       "      <td>1.000000</td>\n",
       "      <td>0.144882</td>\n",
       "      <td>0.144882</td>\n",
       "      <td>0.041644</td>\n",
       "      <td>0.170108</td>\n",
       "      <td>0.047200</td>\n",
       "      <td>0.160430</td>\n",
       "      <td>0.000000</td>\n",
       "    </tr>\n",
       "    <tr>\n",
       "      <th>family_status</th>\n",
       "      <td>0.098733</td>\n",
       "      <td>0.202052</td>\n",
       "      <td>0.281225</td>\n",
       "      <td>0.129056</td>\n",
       "      <td>0.144882</td>\n",
       "      <td>1.000000</td>\n",
       "      <td>1.000000</td>\n",
       "      <td>0.143941</td>\n",
       "      <td>0.179178</td>\n",
       "      <td>0.027480</td>\n",
       "      <td>0.027813</td>\n",
       "      <td>0.632444</td>\n",
       "    </tr>\n",
       "    <tr>\n",
       "      <th>family_status_id</th>\n",
       "      <td>0.098733</td>\n",
       "      <td>0.202052</td>\n",
       "      <td>0.281225</td>\n",
       "      <td>0.129056</td>\n",
       "      <td>0.144882</td>\n",
       "      <td>1.000000</td>\n",
       "      <td>1.000000</td>\n",
       "      <td>0.143941</td>\n",
       "      <td>0.179178</td>\n",
       "      <td>0.027480</td>\n",
       "      <td>0.027813</td>\n",
       "      <td>0.632444</td>\n",
       "    </tr>\n",
       "    <tr>\n",
       "      <th>gender</th>\n",
       "      <td>0.026507</td>\n",
       "      <td>0.317309</td>\n",
       "      <td>0.213078</td>\n",
       "      <td>0.060869</td>\n",
       "      <td>0.041644</td>\n",
       "      <td>0.143941</td>\n",
       "      <td>0.143941</td>\n",
       "      <td>1.000000</td>\n",
       "      <td>0.184467</td>\n",
       "      <td>0.033683</td>\n",
       "      <td>0.198377</td>\n",
       "      <td>0.000000</td>\n",
       "    </tr>\n",
       "    <tr>\n",
       "      <th>income_type</th>\n",
       "      <td>0.203771</td>\n",
       "      <td>0.788142</td>\n",
       "      <td>0.481244</td>\n",
       "      <td>0.185330</td>\n",
       "      <td>0.170108</td>\n",
       "      <td>0.179178</td>\n",
       "      <td>0.179178</td>\n",
       "      <td>0.184467</td>\n",
       "      <td>1.000000</td>\n",
       "      <td>0.084127</td>\n",
       "      <td>0.129032</td>\n",
       "      <td>0.000000</td>\n",
       "    </tr>\n",
       "    <tr>\n",
       "      <th>debt</th>\n",
       "      <td>0.016899</td>\n",
       "      <td>0.028523</td>\n",
       "      <td>0.068791</td>\n",
       "      <td>0.062447</td>\n",
       "      <td>0.047200</td>\n",
       "      <td>0.027480</td>\n",
       "      <td>0.027480</td>\n",
       "      <td>0.033683</td>\n",
       "      <td>0.084127</td>\n",
       "      <td>1.000000</td>\n",
       "      <td>0.018616</td>\n",
       "      <td>0.032122</td>\n",
       "    </tr>\n",
       "    <tr>\n",
       "      <th>total_income</th>\n",
       "      <td>0.007682</td>\n",
       "      <td>0.132720</td>\n",
       "      <td>0.081912</td>\n",
       "      <td>0.158946</td>\n",
       "      <td>0.160430</td>\n",
       "      <td>0.027813</td>\n",
       "      <td>0.027813</td>\n",
       "      <td>0.198377</td>\n",
       "      <td>0.129032</td>\n",
       "      <td>0.018616</td>\n",
       "      <td>1.000000</td>\n",
       "      <td>0.000000</td>\n",
       "    </tr>\n",
       "    <tr>\n",
       "      <th>purpose</th>\n",
       "      <td>0.032290</td>\n",
       "      <td>0.000000</td>\n",
       "      <td>0.000000</td>\n",
       "      <td>0.000000</td>\n",
       "      <td>0.000000</td>\n",
       "      <td>0.632444</td>\n",
       "      <td>0.632444</td>\n",
       "      <td>0.000000</td>\n",
       "      <td>0.000000</td>\n",
       "      <td>0.032122</td>\n",
       "      <td>0.000000</td>\n",
       "      <td>1.000000</td>\n",
       "    </tr>\n",
       "  </tbody>\n",
       "</table>\n",
       "</div>"
      ],
      "text/plain": [
       "                  children  days_employed  dob_years  education  education_id  \\\n",
       "children          1.000000       0.116614   0.255190   0.029776      0.007694   \n",
       "days_employed     0.116614       1.000000   0.781338   0.203581      0.124125   \n",
       "dob_years         0.255190       0.781338   1.000000   0.188952      0.185947   \n",
       "education         0.029776       0.203581   0.188952   1.000000      1.000000   \n",
       "education_id      0.007694       0.124125   0.185947   1.000000      1.000000   \n",
       "family_status     0.098733       0.202052   0.281225   0.129056      0.144882   \n",
       "family_status_id  0.098733       0.202052   0.281225   0.129056      0.144882   \n",
       "gender            0.026507       0.317309   0.213078   0.060869      0.041644   \n",
       "income_type       0.203771       0.788142   0.481244   0.185330      0.170108   \n",
       "debt              0.016899       0.028523   0.068791   0.062447      0.047200   \n",
       "total_income      0.007682       0.132720   0.081912   0.158946      0.160430   \n",
       "purpose           0.032290       0.000000   0.000000   0.000000      0.000000   \n",
       "\n",
       "                  family_status  family_status_id    gender  income_type  \\\n",
       "children               0.098733          0.098733  0.026507     0.203771   \n",
       "days_employed          0.202052          0.202052  0.317309     0.788142   \n",
       "dob_years              0.281225          0.281225  0.213078     0.481244   \n",
       "education              0.129056          0.129056  0.060869     0.185330   \n",
       "education_id           0.144882          0.144882  0.041644     0.170108   \n",
       "family_status          1.000000          1.000000  0.143941     0.179178   \n",
       "family_status_id       1.000000          1.000000  0.143941     0.179178   \n",
       "gender                 0.143941          0.143941  1.000000     0.184467   \n",
       "income_type            0.179178          0.179178  0.184467     1.000000   \n",
       "debt                   0.027480          0.027480  0.033683     0.084127   \n",
       "total_income           0.027813          0.027813  0.198377     0.129032   \n",
       "purpose                0.632444          0.632444  0.000000     0.000000   \n",
       "\n",
       "                      debt  total_income   purpose  \n",
       "children          0.016899      0.007682  0.032290  \n",
       "days_employed     0.028523      0.132720  0.000000  \n",
       "dob_years         0.068791      0.081912  0.000000  \n",
       "education         0.062447      0.158946  0.000000  \n",
       "education_id      0.047200      0.160430  0.000000  \n",
       "family_status     0.027480      0.027813  0.632444  \n",
       "family_status_id  0.027480      0.027813  0.632444  \n",
       "gender            0.033683      0.198377  0.000000  \n",
       "income_type       0.084127      0.129032  0.000000  \n",
       "debt              1.000000      0.018616  0.032122  \n",
       "total_income      0.018616      1.000000  0.000000  \n",
       "purpose           0.032122      0.000000  1.000000  "
      ]
     },
     "execution_count": 10,
     "metadata": {},
     "output_type": "execute_result"
    }
   ],
   "source": [
    "phik_overview = data.phik_matrix()\n",
    "phik_overview"
   ]
  },
  {
   "cell_type": "markdown",
   "metadata": {},
   "source": [
    "Рассмотрим тепловую карту, чтобы нагляднее рассмотреть зависимости между признаками."
   ]
  },
  {
   "cell_type": "code",
   "execution_count": 11,
   "metadata": {},
   "outputs": [
    {
     "data": {
      "text/plain": [
       "<AxesSubplot:>"
      ]
     },
     "execution_count": 11,
     "metadata": {},
     "output_type": "execute_result"
    },
    {
     "data": {
      "image/png": "[encoded data removed]",
      "text/plain": [
       "<Figure size 1080x576 with 2 Axes>"
      ]
     },
     "metadata": {},
     "output_type": "display_data"
    }
   ],
   "source": [
    "sns.set(rc = {'figure.figsize':(15,8)})\n",
    "sns.heatmap(phik_overview)"
   ]
  },
  {
   "cell_type": "markdown",
   "metadata": {},
   "source": [
    "Нас интересуют только столбцы с пропусками. Отсортируем по убыванию зависимость данных в пропущенных столбцах."
   ]
  },
  {
   "cell_type": "code",
   "execution_count": 12,
   "metadata": {},
   "outputs": [
    {
     "data": {
      "text/plain": [
       "days_employed       1.000000\n",
       "income_type         0.788142\n",
       "dob_years           0.781338\n",
       "gender              0.317309\n",
       "education           0.203581\n",
       "family_status_id    0.202052\n",
       "family_status       0.202052\n",
       "total_income        0.132720\n",
       "education_id        0.124125\n",
       "children            0.116614\n",
       "debt                0.028523\n",
       "purpose             0.000000\n",
       "Name: days_employed, dtype: float64"
      ]
     },
     "execution_count": 12,
     "metadata": {},
     "output_type": "execute_result"
    }
   ],
   "source": [
    "phik1 = phik_overview['days_employed'].sort_values(ascending=False)\n",
    "phik1"
   ]
  },
  {
   "cell_type": "markdown",
   "metadata": {},
   "source": [
    "Видим, что общий трудовой стаж сильно зависит от типа занятости и возраста заемщика. "
   ]
  },
  {
   "cell_type": "code",
   "execution_count": 13,
   "metadata": {},
   "outputs": [
    {
     "data": {
      "text/plain": [
       "total_income        1.000000\n",
       "gender              0.198377\n",
       "education_id        0.160430\n",
       "education           0.158946\n",
       "days_employed       0.132720\n",
       "income_type         0.129032\n",
       "dob_years           0.081912\n",
       "family_status       0.027813\n",
       "family_status_id    0.027813\n",
       "debt                0.018616\n",
       "children            0.007682\n",
       "purpose             0.000000\n",
       "Name: total_income, dtype: float64"
      ]
     },
     "execution_count": 13,
     "metadata": {},
     "output_type": "execute_result"
    }
   ],
   "source": [
    "phik2 = phik_overview['total_income'].sort_values(ascending=False)\n",
    "phik2"
   ]
  },
  {
   "cell_type": "markdown",
   "metadata": {},
   "source": [
    "С ежемесячным доходом другая ситуация. Замечаем, что корреляция слабая. Больше всего ежемесячный доход зависит от пола. Очень интересно."
   ]
  },
  {
   "cell_type": "code",
   "execution_count": 14,
   "metadata": {
    "scrolled": true
   },
   "outputs": [],
   "source": [
    "data_transformed_income = data.groupby('income_type')['total_income'].transform('mean')\n",
    "data['total_income'] = data['total_income'].fillna(data_transformed_income)"
   ]
  },
  {
   "cell_type": "markdown",
   "metadata": {},
   "source": [
    "Можно заменить пропуски в столбце days_employed средним значением по типу занятости. Но пропуски в столбце total_income заменить средним значением не получится из-за небольшой корреляции. Так как пропущенные значения отсутствуют в обоих столбцах, процент пропущенных значений небольшой, мы можем удалить пропуски. "
   ]
  },
  {
   "cell_type": "code",
   "execution_count": 15,
   "metadata": {},
   "outputs": [],
   "source": [
    "#data_transformed_days = data.groupby('income_type')['days_employed'].transform('mean')\n",
    "#data['days_employed'] = data['days_employed'].fillna(data_transformed_days)"
   ]
  },
  {
   "cell_type": "code",
   "execution_count": 16,
   "metadata": {},
   "outputs": [],
   "source": [
    "data = data.dropna()"
   ]
  },
  {
   "cell_type": "markdown",
   "metadata": {},
   "source": [
    "Проверим пропуски снова."
   ]
  },
  {
   "cell_type": "code",
   "execution_count": 17,
   "metadata": {},
   "outputs": [
    {
     "data": {
      "text/plain": [
       "children            0\n",
       "days_employed       0\n",
       "dob_years           0\n",
       "education           0\n",
       "education_id        0\n",
       "family_status       0\n",
       "family_status_id    0\n",
       "gender              0\n",
       "income_type         0\n",
       "debt                0\n",
       "total_income        0\n",
       "purpose             0\n",
       "dtype: int64"
      ]
     },
     "execution_count": 17,
     "metadata": {},
     "output_type": "execute_result"
    }
   ],
   "source": [
    "data.isnull().sum()"
   ]
  },
  {
   "cell_type": "markdown",
   "metadata": {},
   "source": [
    "Пропущенные значения удалили."
   ]
  },
  {
   "cell_type": "markdown",
   "metadata": {},
   "source": [
    "## Обработка аномалий\n",
    "<a id=\"anomaly\"></a>"
   ]
  },
  {
   "cell_type": "markdown",
   "metadata": {},
   "source": [
    "Как мы уже знаем, что в столбцах `days_employed `,`children`,`dob_years`,`gender` есть аномальные значения. Рассмотрим подробнее столбец `days_employed `. Cгруппируем столбец по `income_type`. "
   ]
  },
  {
   "cell_type": "code",
   "execution_count": 18,
   "metadata": {},
   "outputs": [
    {
     "data": {
      "text/html": [
       "<div>\n",
       "<style scoped>\n",
       "    .dataframe tbody tr th:only-of-type {\n",
       "        vertical-align: middle;\n",
       "    }\n",
       "\n",
       "    .dataframe tbody tr th {\n",
       "        vertical-align: top;\n",
       "    }\n",
       "\n",
       "    .dataframe thead th {\n",
       "        text-align: right;\n",
       "    }\n",
       "</style>\n",
       "<table border=\"1\" class=\"dataframe\">\n",
       "  <thead>\n",
       "    <tr style=\"text-align: right;\">\n",
       "      <th></th>\n",
       "      <th>days_employed</th>\n",
       "    </tr>\n",
       "    <tr>\n",
       "      <th>income_type</th>\n",
       "      <th></th>\n",
       "    </tr>\n",
       "  </thead>\n",
       "  <tbody>\n",
       "    <tr>\n",
       "      <th>безработный</th>\n",
       "      <td>366413.652744</td>\n",
       "    </tr>\n",
       "    <tr>\n",
       "      <th>в декрете</th>\n",
       "      <td>-3296.759962</td>\n",
       "    </tr>\n",
       "    <tr>\n",
       "      <th>госслужащий</th>\n",
       "      <td>-3399.896902</td>\n",
       "    </tr>\n",
       "    <tr>\n",
       "      <th>компаньон</th>\n",
       "      <td>-2111.524398</td>\n",
       "    </tr>\n",
       "    <tr>\n",
       "      <th>пенсионер</th>\n",
       "      <td>365003.491245</td>\n",
       "    </tr>\n",
       "    <tr>\n",
       "      <th>предприниматель</th>\n",
       "      <td>-520.848083</td>\n",
       "    </tr>\n",
       "    <tr>\n",
       "      <th>сотрудник</th>\n",
       "      <td>-2326.499216</td>\n",
       "    </tr>\n",
       "    <tr>\n",
       "      <th>студент</th>\n",
       "      <td>-578.751554</td>\n",
       "    </tr>\n",
       "  </tbody>\n",
       "</table>\n",
       "</div>"
      ],
      "text/plain": [
       "                 days_employed\n",
       "income_type                   \n",
       "безработный      366413.652744\n",
       "в декрете         -3296.759962\n",
       "госслужащий       -3399.896902\n",
       "компаньон         -2111.524398\n",
       "пенсионер        365003.491245\n",
       "предприниматель    -520.848083\n",
       "сотрудник         -2326.499216\n",
       "студент            -578.751554"
      ]
     },
     "metadata": {},
     "output_type": "display_data"
    }
   ],
   "source": [
    "mean_days_employed = data.groupby(['income_type']).agg({'days_employed':'mean'})\n",
    "display(mean_days_employed)"
   ]
  },
  {
   "cell_type": "markdown",
   "metadata": {},
   "source": [
    "Замечаем, что аномально большие значения находятся в строках 'пенсионеры' и 'безработные' при этом все значения положительные, в остальных столбцах значения в пределах нормы, но при этом орицательные. Отрицательные данные в столбцах могли возникнуть, потому что у пенсионеров и безработных есть дата завершения работы, а у работающих ее нет. Аномально большие значения могли возникнуть из-за ошибки ввода формата данных, например некоторые значения рассчитывались по дням, другие по часам."
   ]
  },
  {
   "cell_type": "markdown",
   "metadata": {},
   "source": [
    " Приведем отрицательные значения к положительным с помощью модуля."
   ]
  },
  {
   "cell_type": "code",
   "execution_count": 19,
   "metadata": {},
   "outputs": [],
   "source": [
    "data['days_employed'] = data['days_employed'].abs()"
   ]
  },
  {
   "cell_type": "markdown",
   "metadata": {},
   "source": [
    "Теперь разберемся с аномально большими значениями. Мы заметили, что у безработных и пенсионеров данные отличаются от других типов занятости. Рассмотрим распределение данных в столбцах по этим типам занятости."
   ]
  },
  {
   "cell_type": "code",
   "execution_count": 20,
   "metadata": {},
   "outputs": [
    {
     "data": {
      "text/html": [
       "<div>\n",
       "<style scoped>\n",
       "    .dataframe tbody tr th:only-of-type {\n",
       "        vertical-align: middle;\n",
       "    }\n",
       "\n",
       "    .dataframe tbody tr th {\n",
       "        vertical-align: top;\n",
       "    }\n",
       "\n",
       "    .dataframe thead th {\n",
       "        text-align: right;\n",
       "    }\n",
       "</style>\n",
       "<table border=\"1\" class=\"dataframe\">\n",
       "  <thead>\n",
       "    <tr style=\"text-align: right;\">\n",
       "      <th></th>\n",
       "      <th>children</th>\n",
       "      <th>days_employed</th>\n",
       "      <th>dob_years</th>\n",
       "      <th>education_id</th>\n",
       "      <th>family_status_id</th>\n",
       "      <th>debt</th>\n",
       "      <th>total_income</th>\n",
       "    </tr>\n",
       "  </thead>\n",
       "  <tbody>\n",
       "    <tr>\n",
       "      <th>count</th>\n",
       "      <td>2.000000</td>\n",
       "      <td>2.000000</td>\n",
       "      <td>2.000000</td>\n",
       "      <td>2.000000</td>\n",
       "      <td>2.000000</td>\n",
       "      <td>2.000000</td>\n",
       "      <td>2.000000</td>\n",
       "    </tr>\n",
       "    <tr>\n",
       "      <th>mean</th>\n",
       "      <td>0.500000</td>\n",
       "      <td>366413.652744</td>\n",
       "      <td>38.000000</td>\n",
       "      <td>0.500000</td>\n",
       "      <td>0.500000</td>\n",
       "      <td>0.500000</td>\n",
       "      <td>131339.751676</td>\n",
       "    </tr>\n",
       "    <tr>\n",
       "      <th>std</th>\n",
       "      <td>0.707107</td>\n",
       "      <td>40855.478519</td>\n",
       "      <td>9.899495</td>\n",
       "      <td>0.707107</td>\n",
       "      <td>0.707107</td>\n",
       "      <td>0.707107</td>\n",
       "      <td>100950.466876</td>\n",
       "    </tr>\n",
       "    <tr>\n",
       "      <th>min</th>\n",
       "      <td>0.000000</td>\n",
       "      <td>337524.466835</td>\n",
       "      <td>31.000000</td>\n",
       "      <td>0.000000</td>\n",
       "      <td>0.000000</td>\n",
       "      <td>0.000000</td>\n",
       "      <td>59956.991984</td>\n",
       "    </tr>\n",
       "    <tr>\n",
       "      <th>25%</th>\n",
       "      <td>0.250000</td>\n",
       "      <td>351969.059790</td>\n",
       "      <td>34.500000</td>\n",
       "      <td>0.250000</td>\n",
       "      <td>0.250000</td>\n",
       "      <td>0.250000</td>\n",
       "      <td>95648.371830</td>\n",
       "    </tr>\n",
       "    <tr>\n",
       "      <th>50%</th>\n",
       "      <td>0.500000</td>\n",
       "      <td>366413.652744</td>\n",
       "      <td>38.000000</td>\n",
       "      <td>0.500000</td>\n",
       "      <td>0.500000</td>\n",
       "      <td>0.500000</td>\n",
       "      <td>131339.751676</td>\n",
       "    </tr>\n",
       "    <tr>\n",
       "      <th>75%</th>\n",
       "      <td>0.750000</td>\n",
       "      <td>380858.245699</td>\n",
       "      <td>41.500000</td>\n",
       "      <td>0.750000</td>\n",
       "      <td>0.750000</td>\n",
       "      <td>0.750000</td>\n",
       "      <td>167031.131522</td>\n",
       "    </tr>\n",
       "    <tr>\n",
       "      <th>max</th>\n",
       "      <td>1.000000</td>\n",
       "      <td>395302.838654</td>\n",
       "      <td>45.000000</td>\n",
       "      <td>1.000000</td>\n",
       "      <td>1.000000</td>\n",
       "      <td>1.000000</td>\n",
       "      <td>202722.511368</td>\n",
       "    </tr>\n",
       "  </tbody>\n",
       "</table>\n",
       "</div>"
      ],
      "text/plain": [
       "       children  days_employed  dob_years  education_id  family_status_id  \\\n",
       "count  2.000000       2.000000   2.000000      2.000000          2.000000   \n",
       "mean   0.500000  366413.652744  38.000000      0.500000          0.500000   \n",
       "std    0.707107   40855.478519   9.899495      0.707107          0.707107   \n",
       "min    0.000000  337524.466835  31.000000      0.000000          0.000000   \n",
       "25%    0.250000  351969.059790  34.500000      0.250000          0.250000   \n",
       "50%    0.500000  366413.652744  38.000000      0.500000          0.500000   \n",
       "75%    0.750000  380858.245699  41.500000      0.750000          0.750000   \n",
       "max    1.000000  395302.838654  45.000000      1.000000          1.000000   \n",
       "\n",
       "           debt   total_income  \n",
       "count  2.000000       2.000000  \n",
       "mean   0.500000  131339.751676  \n",
       "std    0.707107  100950.466876  \n",
       "min    0.000000   59956.991984  \n",
       "25%    0.250000   95648.371830  \n",
       "50%    0.500000  131339.751676  \n",
       "75%    0.750000  167031.131522  \n",
       "max    1.000000  202722.511368  "
      ]
     },
     "execution_count": 20,
     "metadata": {},
     "output_type": "execute_result"
    }
   ],
   "source": [
    "data[data['income_type']=='безработный'].describe()"
   ]
  },
  {
   "cell_type": "markdown",
   "metadata": {},
   "source": [
    "Видим, что всего лишь 2 безработных человека в выборке. Ориентироваться на эти данные не можем. Посмотрим на распределение данных у пенсионеров."
   ]
  },
  {
   "cell_type": "code",
   "execution_count": 21,
   "metadata": {},
   "outputs": [
    {
     "data": {
      "text/html": [
       "<div>\n",
       "<style scoped>\n",
       "    .dataframe tbody tr th:only-of-type {\n",
       "        vertical-align: middle;\n",
       "    }\n",
       "\n",
       "    .dataframe tbody tr th {\n",
       "        vertical-align: top;\n",
       "    }\n",
       "\n",
       "    .dataframe thead th {\n",
       "        text-align: right;\n",
       "    }\n",
       "</style>\n",
       "<table border=\"1\" class=\"dataframe\">\n",
       "  <thead>\n",
       "    <tr style=\"text-align: right;\">\n",
       "      <th></th>\n",
       "      <th>children</th>\n",
       "      <th>days_employed</th>\n",
       "      <th>dob_years</th>\n",
       "      <th>education_id</th>\n",
       "      <th>family_status_id</th>\n",
       "      <th>debt</th>\n",
       "      <th>total_income</th>\n",
       "    </tr>\n",
       "  </thead>\n",
       "  <tbody>\n",
       "    <tr>\n",
       "      <th>count</th>\n",
       "      <td>3443.000000</td>\n",
       "      <td>3443.000000</td>\n",
       "      <td>3443.000000</td>\n",
       "      <td>3443.000000</td>\n",
       "      <td>3443.000000</td>\n",
       "      <td>3443.000000</td>\n",
       "      <td>3443.000000</td>\n",
       "    </tr>\n",
       "    <tr>\n",
       "      <th>mean</th>\n",
       "      <td>0.128086</td>\n",
       "      <td>365003.491245</td>\n",
       "      <td>59.137090</td>\n",
       "      <td>0.914900</td>\n",
       "      <td>0.984606</td>\n",
       "      <td>0.052570</td>\n",
       "      <td>137127.465690</td>\n",
       "    </tr>\n",
       "    <tr>\n",
       "      <th>std</th>\n",
       "      <td>0.955201</td>\n",
       "      <td>21069.606065</td>\n",
       "      <td>7.563777</td>\n",
       "      <td>0.517016</td>\n",
       "      <td>1.316346</td>\n",
       "      <td>0.223207</td>\n",
       "      <td>80246.953231</td>\n",
       "    </tr>\n",
       "    <tr>\n",
       "      <th>min</th>\n",
       "      <td>-1.000000</td>\n",
       "      <td>328728.720605</td>\n",
       "      <td>0.000000</td>\n",
       "      <td>0.000000</td>\n",
       "      <td>0.000000</td>\n",
       "      <td>0.000000</td>\n",
       "      <td>20667.263793</td>\n",
       "    </tr>\n",
       "    <tr>\n",
       "      <th>25%</th>\n",
       "      <td>0.000000</td>\n",
       "      <td>346649.346146</td>\n",
       "      <td>56.000000</td>\n",
       "      <td>1.000000</td>\n",
       "      <td>0.000000</td>\n",
       "      <td>0.000000</td>\n",
       "      <td>82881.443465</td>\n",
       "    </tr>\n",
       "    <tr>\n",
       "      <th>50%</th>\n",
       "      <td>0.000000</td>\n",
       "      <td>365213.306266</td>\n",
       "      <td>60.000000</td>\n",
       "      <td>1.000000</td>\n",
       "      <td>0.000000</td>\n",
       "      <td>0.000000</td>\n",
       "      <td>118514.486412</td>\n",
       "    </tr>\n",
       "    <tr>\n",
       "      <th>75%</th>\n",
       "      <td>0.000000</td>\n",
       "      <td>383231.396871</td>\n",
       "      <td>64.000000</td>\n",
       "      <td>1.000000</td>\n",
       "      <td>2.000000</td>\n",
       "      <td>0.000000</td>\n",
       "      <td>169700.433010</td>\n",
       "    </tr>\n",
       "    <tr>\n",
       "      <th>max</th>\n",
       "      <td>20.000000</td>\n",
       "      <td>401755.400475</td>\n",
       "      <td>74.000000</td>\n",
       "      <td>4.000000</td>\n",
       "      <td>4.000000</td>\n",
       "      <td>1.000000</td>\n",
       "      <td>735103.270167</td>\n",
       "    </tr>\n",
       "  </tbody>\n",
       "</table>\n",
       "</div>"
      ],
      "text/plain": [
       "          children  days_employed    dob_years  education_id  \\\n",
       "count  3443.000000    3443.000000  3443.000000   3443.000000   \n",
       "mean      0.128086  365003.491245    59.137090      0.914900   \n",
       "std       0.955201   21069.606065     7.563777      0.517016   \n",
       "min      -1.000000  328728.720605     0.000000      0.000000   \n",
       "25%       0.000000  346649.346146    56.000000      1.000000   \n",
       "50%       0.000000  365213.306266    60.000000      1.000000   \n",
       "75%       0.000000  383231.396871    64.000000      1.000000   \n",
       "max      20.000000  401755.400475    74.000000      4.000000   \n",
       "\n",
       "       family_status_id         debt   total_income  \n",
       "count       3443.000000  3443.000000    3443.000000  \n",
       "mean           0.984606     0.052570  137127.465690  \n",
       "std            1.316346     0.223207   80246.953231  \n",
       "min            0.000000     0.000000   20667.263793  \n",
       "25%            0.000000     0.000000   82881.443465  \n",
       "50%            0.000000     0.000000  118514.486412  \n",
       "75%            2.000000     0.000000  169700.433010  \n",
       "max            4.000000     1.000000  735103.270167  "
      ]
     },
     "execution_count": 21,
     "metadata": {},
     "output_type": "execute_result"
    }
   ],
   "source": [
    "data[data['income_type']=='пенсионер'].describe()"
   ]
  },
  {
   "cell_type": "markdown",
   "metadata": {},
   "source": [
    "Видим, что среднее значение трудового стажа у пенсионеров составляет примерно 365000, средний возраст 59 лет. Допустим, если все пенсионеры начали работать в 18 лет, то их трудовой стаж в годах составляет в среднем 41 год, в днях 14 965, но явно не 365000. Если мы разделим 365000 на 14 965, то получим значение 24,3. Как мы и предполагали, трудовой стаж для пенсионеров и безработных рассчитывали по часам, а не по дням, как это было указано. Разделим значения для данных категорий на 24. "
   ]
  },
  {
   "cell_type": "code",
   "execution_count": 22,
   "metadata": {},
   "outputs": [],
   "source": [
    "def h_to_days(row):\n",
    "    if row['income_type'] == 'безработный' or row['income_type'] == 'пенсионер':\n",
    "        row['days_employed']= row['days_employed']/24\n",
    "    return row['days_employed']\n",
    "data['days_employed'] = data.apply(h_to_days, axis=1)"
   ]
  },
  {
   "cell_type": "markdown",
   "metadata": {},
   "source": [
    "Проверим, как отработала функция."
   ]
  },
  {
   "cell_type": "code",
   "execution_count": 23,
   "metadata": {},
   "outputs": [
    {
     "data": {
      "text/html": [
       "<div>\n",
       "<style scoped>\n",
       "    .dataframe tbody tr th:only-of-type {\n",
       "        vertical-align: middle;\n",
       "    }\n",
       "\n",
       "    .dataframe tbody tr th {\n",
       "        vertical-align: top;\n",
       "    }\n",
       "\n",
       "    .dataframe thead th {\n",
       "        text-align: right;\n",
       "    }\n",
       "</style>\n",
       "<table border=\"1\" class=\"dataframe\">\n",
       "  <thead>\n",
       "    <tr style=\"text-align: right;\">\n",
       "      <th></th>\n",
       "      <th>children</th>\n",
       "      <th>days_employed</th>\n",
       "      <th>dob_years</th>\n",
       "      <th>education_id</th>\n",
       "      <th>family_status_id</th>\n",
       "      <th>debt</th>\n",
       "      <th>total_income</th>\n",
       "    </tr>\n",
       "  </thead>\n",
       "  <tbody>\n",
       "    <tr>\n",
       "      <th>count</th>\n",
       "      <td>3443.000000</td>\n",
       "      <td>3443.000000</td>\n",
       "      <td>3443.000000</td>\n",
       "      <td>3443.000000</td>\n",
       "      <td>3443.000000</td>\n",
       "      <td>3443.000000</td>\n",
       "      <td>3443.000000</td>\n",
       "    </tr>\n",
       "    <tr>\n",
       "      <th>mean</th>\n",
       "      <td>0.128086</td>\n",
       "      <td>15208.478802</td>\n",
       "      <td>59.137090</td>\n",
       "      <td>0.914900</td>\n",
       "      <td>0.984606</td>\n",
       "      <td>0.052570</td>\n",
       "      <td>137127.465690</td>\n",
       "    </tr>\n",
       "    <tr>\n",
       "      <th>std</th>\n",
       "      <td>0.955201</td>\n",
       "      <td>877.900253</td>\n",
       "      <td>7.563777</td>\n",
       "      <td>0.517016</td>\n",
       "      <td>1.316346</td>\n",
       "      <td>0.223207</td>\n",
       "      <td>80246.953231</td>\n",
       "    </tr>\n",
       "    <tr>\n",
       "      <th>min</th>\n",
       "      <td>-1.000000</td>\n",
       "      <td>13697.030025</td>\n",
       "      <td>0.000000</td>\n",
       "      <td>0.000000</td>\n",
       "      <td>0.000000</td>\n",
       "      <td>0.000000</td>\n",
       "      <td>20667.263793</td>\n",
       "    </tr>\n",
       "    <tr>\n",
       "      <th>25%</th>\n",
       "      <td>0.000000</td>\n",
       "      <td>14443.722756</td>\n",
       "      <td>56.000000</td>\n",
       "      <td>1.000000</td>\n",
       "      <td>0.000000</td>\n",
       "      <td>0.000000</td>\n",
       "      <td>82881.443465</td>\n",
       "    </tr>\n",
       "    <tr>\n",
       "      <th>50%</th>\n",
       "      <td>0.000000</td>\n",
       "      <td>15217.221094</td>\n",
       "      <td>60.000000</td>\n",
       "      <td>1.000000</td>\n",
       "      <td>0.000000</td>\n",
       "      <td>0.000000</td>\n",
       "      <td>118514.486412</td>\n",
       "    </tr>\n",
       "    <tr>\n",
       "      <th>75%</th>\n",
       "      <td>0.000000</td>\n",
       "      <td>15967.974870</td>\n",
       "      <td>64.000000</td>\n",
       "      <td>1.000000</td>\n",
       "      <td>2.000000</td>\n",
       "      <td>0.000000</td>\n",
       "      <td>169700.433010</td>\n",
       "    </tr>\n",
       "    <tr>\n",
       "      <th>max</th>\n",
       "      <td>20.000000</td>\n",
       "      <td>16739.808353</td>\n",
       "      <td>74.000000</td>\n",
       "      <td>4.000000</td>\n",
       "      <td>4.000000</td>\n",
       "      <td>1.000000</td>\n",
       "      <td>735103.270167</td>\n",
       "    </tr>\n",
       "  </tbody>\n",
       "</table>\n",
       "</div>"
      ],
      "text/plain": [
       "          children  days_employed    dob_years  education_id  \\\n",
       "count  3443.000000    3443.000000  3443.000000   3443.000000   \n",
       "mean      0.128086   15208.478802    59.137090      0.914900   \n",
       "std       0.955201     877.900253     7.563777      0.517016   \n",
       "min      -1.000000   13697.030025     0.000000      0.000000   \n",
       "25%       0.000000   14443.722756    56.000000      1.000000   \n",
       "50%       0.000000   15217.221094    60.000000      1.000000   \n",
       "75%       0.000000   15967.974870    64.000000      1.000000   \n",
       "max      20.000000   16739.808353    74.000000      4.000000   \n",
       "\n",
       "       family_status_id         debt   total_income  \n",
       "count       3443.000000  3443.000000    3443.000000  \n",
       "mean           0.984606     0.052570  137127.465690  \n",
       "std            1.316346     0.223207   80246.953231  \n",
       "min            0.000000     0.000000   20667.263793  \n",
       "25%            0.000000     0.000000   82881.443465  \n",
       "50%            0.000000     0.000000  118514.486412  \n",
       "75%            2.000000     0.000000  169700.433010  \n",
       "max            4.000000     1.000000  735103.270167  "
      ]
     },
     "execution_count": 23,
     "metadata": {},
     "output_type": "execute_result"
    }
   ],
   "source": [
    "data[data['income_type']=='пенсионер'].describe()"
   ]
  },
  {
   "cell_type": "markdown",
   "metadata": {},
   "source": [
    "Аномальных значений в столбце income_type больше нет. Также в столбце children замечали аномалии. Проверим все значения столбца children."
   ]
  },
  {
   "cell_type": "code",
   "execution_count": 24,
   "metadata": {},
   "outputs": [
    {
     "data": {
      "text/plain": [
       " 0     12710\n",
       " 1      4343\n",
       " 2      1851\n",
       " 3       294\n",
       " 20       67\n",
       "-1        44\n",
       " 4        34\n",
       " 5         8\n",
       "Name: children, dtype: int64"
      ]
     },
     "execution_count": 24,
     "metadata": {},
     "output_type": "execute_result"
    }
   ],
   "source": [
    "data['children'].value_counts()"
   ]
  },
  {
   "cell_type": "markdown",
   "metadata": {},
   "source": [
    "В столбце `children` обнаружены аномальные значения: -1, 20. Ошибочные значения возможно связаны с опечатками при вводе данных. Заменим данные с ошибками на корректные значения."
   ]
  },
  {
   "cell_type": "code",
   "execution_count": 25,
   "metadata": {},
   "outputs": [],
   "source": [
    "data['children'] = data['children'].replace(20, 2)\n",
    "data['children'] = data['children'].replace(-1, 1)"
   ]
  },
  {
   "cell_type": "markdown",
   "metadata": {},
   "source": [
    "Проверим все значения столбца dob_years и отсортируем их по возрастанию."
   ]
  },
  {
   "cell_type": "code",
   "execution_count": 26,
   "metadata": {},
   "outputs": [
    {
     "data": {
      "text/plain": [
       "0      91\n",
       "19     13\n",
       "20     46\n",
       "21     93\n",
       "22    166\n",
       "23    218\n",
       "24    243\n",
       "25    334\n",
       "26    373\n",
       "27    457\n",
       "28    446\n",
       "29    495\n",
       "30    482\n",
       "31    495\n",
       "32    473\n",
       "33    530\n",
       "34    534\n",
       "35    553\n",
       "36    492\n",
       "37    484\n",
       "38    544\n",
       "39    522\n",
       "40    543\n",
       "41    548\n",
       "42    532\n",
       "43    463\n",
       "44    503\n",
       "45    447\n",
       "46    427\n",
       "47    421\n",
       "48    492\n",
       "49    458\n",
       "50    463\n",
       "51    398\n",
       "52    431\n",
       "53    415\n",
       "54    424\n",
       "55    395\n",
       "56    433\n",
       "57    404\n",
       "58    405\n",
       "59    410\n",
       "60    338\n",
       "61    317\n",
       "62    314\n",
       "63    240\n",
       "64    228\n",
       "65    174\n",
       "66    163\n",
       "67    151\n",
       "68     90\n",
       "69     80\n",
       "70     62\n",
       "71     53\n",
       "72     31\n",
       "73      7\n",
       "74      6\n",
       "75      1\n",
       "Name: dob_years, dtype: int64"
      ]
     },
     "execution_count": 26,
     "metadata": {},
     "output_type": "execute_result"
    }
   ],
   "source": [
    "data['dob_years'].value_counts().sort_index()"
   ]
  },
  {
   "cell_type": "markdown",
   "metadata": {},
   "source": [
    "Обнаружена ошибка в столбце `dob_years` с некорректным значением - 0. Не может быть младенец заемщиком в банке. Возможно нулем был обозначен пропуск в данных. Необходимо написать функцию для замены ошибочного значения средним значением по столбцу `income_type`."
   ]
  },
  {
   "cell_type": "code",
   "execution_count": 27,
   "metadata": {},
   "outputs": [],
   "source": [
    "data_grouped = data.groupby('income_type')['dob_years'].mean()\n",
    "def func(row):\n",
    "    if row['dob_years'] == 0:\n",
    "        return data_grouped.loc[row['income_type']]\n",
    "    return row['dob_years']\n",
    "data['dob_years'] = data.apply(func, axis=1)\n",
    "data['dob_years'] = data['dob_years'].astype('int')"
   ]
  },
  {
   "cell_type": "markdown",
   "metadata": {},
   "source": [
    "Проверим работу функции."
   ]
  },
  {
   "cell_type": "code",
   "execution_count": 28,
   "metadata": {},
   "outputs": [
    {
     "name": "stdout",
     "output_type": "stream",
     "text": [
      "Series([], Name: dob_years, dtype: int32)\n"
     ]
    }
   ],
   "source": [
    "print(data[data['dob_years']==0]['dob_years'])"
   ]
  },
  {
   "cell_type": "markdown",
   "metadata": {},
   "source": [
    "Теперь все в порядке. Изучим значения столбца gender."
   ]
  },
  {
   "cell_type": "code",
   "execution_count": 29,
   "metadata": {},
   "outputs": [
    {
     "data": {
      "text/plain": [
       "F      12752\n",
       "M       6598\n",
       "XNA        1\n",
       "Name: gender, dtype: int64"
      ]
     },
     "execution_count": 29,
     "metadata": {},
     "output_type": "execute_result"
    }
   ],
   "source": [
    "data['gender'].value_counts()"
   ]
  },
  {
   "cell_type": "markdown",
   "metadata": {},
   "source": [
    "Обнаружено 1 неккоректное значение 'XNA'. Удалим его из выборки датафрейма."
   ]
  },
  {
   "cell_type": "code",
   "execution_count": 30,
   "metadata": {},
   "outputs": [],
   "source": [
    "data = data[data['gender'] != 'XNA']"
   ]
  },
  {
   "cell_type": "markdown",
   "metadata": {},
   "source": [
    "Проверим снова значения в столбце gender."
   ]
  },
  {
   "cell_type": "code",
   "execution_count": 31,
   "metadata": {},
   "outputs": [
    {
     "data": {
      "text/plain": [
       "F    12752\n",
       "M     6598\n",
       "Name: gender, dtype: int64"
      ]
     },
     "execution_count": 31,
     "metadata": {},
     "output_type": "execute_result"
    }
   ],
   "source": [
    "data['gender'].value_counts()"
   ]
  },
  {
   "cell_type": "markdown",
   "metadata": {},
   "source": [
    "**Вывод** \n",
    "\n",
    "В столбцах `days_employed` и `total_income` обнаружены пропуски и заполнены средним значением, cгрупированным по столбцу `income_type`."
   ]
  },
  {
   "cell_type": "markdown",
   "metadata": {},
   "source": [
    "## Замена типа данных\n",
    "<a id=\"type\"></a>"
   ]
  },
  {
   "cell_type": "markdown",
   "metadata": {},
   "source": [
    "Исходя из общей информации о таблице, мы заметили, что два столбца имеют вещественный тип данных, который и надо заменить на целочисленный. Заменим тип данных в столбцах `days_employed`, `total_income` с float на int. Для этого воспользуемся методом astype(). Аргумент ('int') метода astype() означает, что значение нужно перевести в целое число:\n"
   ]
  },
  {
   "cell_type": "code",
   "execution_count": 32,
   "metadata": {},
   "outputs": [],
   "source": [
    "data['days_employed'] = data['days_employed'].astype('int')\n",
    "data['total_income'] = data['total_income'].astype('int')"
   ]
  },
  {
   "cell_type": "markdown",
   "metadata": {},
   "source": [
    "Проверим замену типа данных."
   ]
  },
  {
   "cell_type": "code",
   "execution_count": 33,
   "metadata": {},
   "outputs": [
    {
     "name": "stdout",
     "output_type": "stream",
     "text": [
      "<class 'pandas.core.frame.DataFrame'>\n",
      "Int64Index: 19350 entries, 0 to 21524\n",
      "Data columns (total 12 columns):\n",
      " #   Column            Non-Null Count  Dtype \n",
      "---  ------            --------------  ----- \n",
      " 0   children          19350 non-null  int64 \n",
      " 1   days_employed     19350 non-null  int32 \n",
      " 2   dob_years         19350 non-null  int32 \n",
      " 3   education         19350 non-null  object\n",
      " 4   education_id      19350 non-null  int64 \n",
      " 5   family_status     19350 non-null  object\n",
      " 6   family_status_id  19350 non-null  int64 \n",
      " 7   gender            19350 non-null  object\n",
      " 8   income_type       19350 non-null  object\n",
      " 9   debt              19350 non-null  int64 \n",
      " 10  total_income      19350 non-null  int32 \n",
      " 11  purpose           19350 non-null  object\n",
      "dtypes: int32(3), int64(4), object(5)\n",
      "memory usage: 1.7+ MB\n"
     ]
    },
    {
     "data": {
      "text/html": [
       "<div>\n",
       "<style scoped>\n",
       "    .dataframe tbody tr th:only-of-type {\n",
       "        vertical-align: middle;\n",
       "    }\n",
       "\n",
       "    .dataframe tbody tr th {\n",
       "        vertical-align: top;\n",
       "    }\n",
       "\n",
       "    .dataframe thead th {\n",
       "        text-align: right;\n",
       "    }\n",
       "</style>\n",
       "<table border=\"1\" class=\"dataframe\">\n",
       "  <thead>\n",
       "    <tr style=\"text-align: right;\">\n",
       "      <th></th>\n",
       "      <th>children</th>\n",
       "      <th>days_employed</th>\n",
       "      <th>dob_years</th>\n",
       "      <th>education</th>\n",
       "      <th>education_id</th>\n",
       "      <th>family_status</th>\n",
       "      <th>family_status_id</th>\n",
       "      <th>gender</th>\n",
       "      <th>income_type</th>\n",
       "      <th>debt</th>\n",
       "      <th>total_income</th>\n",
       "      <th>purpose</th>\n",
       "    </tr>\n",
       "  </thead>\n",
       "  <tbody>\n",
       "    <tr>\n",
       "      <th>0</th>\n",
       "      <td>1</td>\n",
       "      <td>8437</td>\n",
       "      <td>42</td>\n",
       "      <td>высшее</td>\n",
       "      <td>0</td>\n",
       "      <td>женат / замужем</td>\n",
       "      <td>0</td>\n",
       "      <td>F</td>\n",
       "      <td>сотрудник</td>\n",
       "      <td>0</td>\n",
       "      <td>253875</td>\n",
       "      <td>покупка жилья</td>\n",
       "    </tr>\n",
       "    <tr>\n",
       "      <th>1</th>\n",
       "      <td>1</td>\n",
       "      <td>4024</td>\n",
       "      <td>36</td>\n",
       "      <td>среднее</td>\n",
       "      <td>1</td>\n",
       "      <td>женат / замужем</td>\n",
       "      <td>0</td>\n",
       "      <td>F</td>\n",
       "      <td>сотрудник</td>\n",
       "      <td>0</td>\n",
       "      <td>112080</td>\n",
       "      <td>приобретение автомобиля</td>\n",
       "    </tr>\n",
       "    <tr>\n",
       "      <th>2</th>\n",
       "      <td>0</td>\n",
       "      <td>5623</td>\n",
       "      <td>33</td>\n",
       "      <td>Среднее</td>\n",
       "      <td>1</td>\n",
       "      <td>женат / замужем</td>\n",
       "      <td>0</td>\n",
       "      <td>M</td>\n",
       "      <td>сотрудник</td>\n",
       "      <td>0</td>\n",
       "      <td>145885</td>\n",
       "      <td>покупка жилья</td>\n",
       "    </tr>\n",
       "    <tr>\n",
       "      <th>3</th>\n",
       "      <td>3</td>\n",
       "      <td>4124</td>\n",
       "      <td>32</td>\n",
       "      <td>среднее</td>\n",
       "      <td>1</td>\n",
       "      <td>женат / замужем</td>\n",
       "      <td>0</td>\n",
       "      <td>M</td>\n",
       "      <td>сотрудник</td>\n",
       "      <td>0</td>\n",
       "      <td>267628</td>\n",
       "      <td>дополнительное образование</td>\n",
       "    </tr>\n",
       "    <tr>\n",
       "      <th>4</th>\n",
       "      <td>0</td>\n",
       "      <td>14177</td>\n",
       "      <td>53</td>\n",
       "      <td>среднее</td>\n",
       "      <td>1</td>\n",
       "      <td>гражданский брак</td>\n",
       "      <td>1</td>\n",
       "      <td>F</td>\n",
       "      <td>пенсионер</td>\n",
       "      <td>0</td>\n",
       "      <td>158616</td>\n",
       "      <td>сыграть свадьбу</td>\n",
       "    </tr>\n",
       "  </tbody>\n",
       "</table>\n",
       "</div>"
      ],
      "text/plain": [
       "   children  days_employed  dob_years education  education_id  \\\n",
       "0         1           8437         42    высшее             0   \n",
       "1         1           4024         36   среднее             1   \n",
       "2         0           5623         33   Среднее             1   \n",
       "3         3           4124         32   среднее             1   \n",
       "4         0          14177         53   среднее             1   \n",
       "\n",
       "      family_status  family_status_id gender income_type  debt  total_income  \\\n",
       "0   женат / замужем                 0      F   сотрудник     0        253875   \n",
       "1   женат / замужем                 0      F   сотрудник     0        112080   \n",
       "2   женат / замужем                 0      M   сотрудник     0        145885   \n",
       "3   женат / замужем                 0      M   сотрудник     0        267628   \n",
       "4  гражданский брак                 1      F   пенсионер     0        158616   \n",
       "\n",
       "                      purpose  \n",
       "0               покупка жилья  \n",
       "1     приобретение автомобиля  \n",
       "2               покупка жилья  \n",
       "3  дополнительное образование  \n",
       "4             сыграть свадьбу  "
      ]
     },
     "execution_count": 33,
     "metadata": {},
     "output_type": "execute_result"
    }
   ],
   "source": [
    "data.info()\n",
    "data.head()"
   ]
  },
  {
   "cell_type": "markdown",
   "metadata": {},
   "source": [
    "Осуществили замену типов данных."
   ]
  },
  {
   "cell_type": "markdown",
   "metadata": {},
   "source": [
    "**Вывод** \n",
    "\n",
    "Осуществлена замена типа данных в столбцах `days_employed`, `total_income` с float на int."
   ]
  },
  {
   "cell_type": "markdown",
   "metadata": {},
   "source": [
    "## Обработка дубликатов\n",
    "<a id=\"duplicates\"></a>"
   ]
  },
  {
   "cell_type": "markdown",
   "metadata": {},
   "source": [
    "При знакомстве с данными мы обнаружили неявные дубликаты. Проверим наличие явных дубикатов в датафрейме. А также избавимся от всех дубликатов в данных."
   ]
  },
  {
   "cell_type": "markdown",
   "metadata": {},
   "source": [
    "### Обработка явных дубликатов"
   ]
  },
  {
   "cell_type": "markdown",
   "metadata": {},
   "source": [
    "Посчитаем количество явных дубликатов в датафрейме."
   ]
  },
  {
   "cell_type": "code",
   "execution_count": 34,
   "metadata": {},
   "outputs": [
    {
     "data": {
      "text/plain": [
       "0"
      ]
     },
     "execution_count": 34,
     "metadata": {},
     "output_type": "execute_result"
    }
   ],
   "source": [
    "data.duplicated().sum()"
   ]
  },
  {
   "cell_type": "markdown",
   "metadata": {},
   "source": [
    "Причинами явных дубликатов могут быть ошибки ввода данных. Удалим явные дубликаты из датафрейма."
   ]
  },
  {
   "cell_type": "code",
   "execution_count": 35,
   "metadata": {},
   "outputs": [],
   "source": [
    "data = data.drop_duplicates().reset_index(drop=True)"
   ]
  },
  {
   "cell_type": "markdown",
   "metadata": {},
   "source": [
    "Проверим удаление дубликатов"
   ]
  },
  {
   "cell_type": "code",
   "execution_count": 36,
   "metadata": {},
   "outputs": [
    {
     "data": {
      "text/plain": [
       "0"
      ]
     },
     "execution_count": 36,
     "metadata": {},
     "output_type": "execute_result"
    }
   ],
   "source": [
    "data.duplicated().sum()"
   ]
  },
  {
   "cell_type": "markdown",
   "metadata": {},
   "source": [
    "### Обработка неявных дубликатов"
   ]
  },
  {
   "cell_type": "markdown",
   "metadata": {},
   "source": [
    "При изучении файла обнаружили неявные дубликаты в столбце `education` из-за различного регистра. Выведем на экран уникальные значения из столбца `education`."
   ]
  },
  {
   "cell_type": "code",
   "execution_count": 37,
   "metadata": {},
   "outputs": [
    {
     "data": {
      "text/plain": [
       "array(['высшее', 'среднее', 'Среднее', 'СРЕДНЕЕ', 'ВЫСШЕЕ',\n",
       "       'неоконченное высшее', 'начальное', 'Высшее',\n",
       "       'НЕОКОНЧЕННОЕ ВЫСШЕЕ', 'Неоконченное высшее', 'НАЧАЛЬНОЕ',\n",
       "       'Начальное', 'Ученая степень', 'УЧЕНАЯ СТЕПЕНЬ', 'ученая степень'],\n",
       "      dtype=object)"
      ]
     },
     "execution_count": 37,
     "metadata": {},
     "output_type": "execute_result"
    }
   ],
   "source": [
    "data['education'].unique()"
   ]
  },
  {
   "cell_type": "markdown",
   "metadata": {},
   "source": [
    "Чтобы устранить такие дубликаты, все символы в строке приведем к нижнему регистру c вызовом метода str.lower():"
   ]
  },
  {
   "cell_type": "code",
   "execution_count": 38,
   "metadata": {},
   "outputs": [],
   "source": [
    "data['education'] = data['education'].str.lower()"
   ]
  },
  {
   "cell_type": "markdown",
   "metadata": {},
   "source": [
    "Проверим уникальные значения из столбца `education`"
   ]
  },
  {
   "cell_type": "code",
   "execution_count": 39,
   "metadata": {},
   "outputs": [
    {
     "data": {
      "text/plain": [
       "array(['высшее', 'среднее', 'неоконченное высшее', 'начальное',\n",
       "       'ученая степень'], dtype=object)"
      ]
     },
     "execution_count": 39,
     "metadata": {},
     "output_type": "execute_result"
    }
   ],
   "source": [
    "data['education'].unique()"
   ]
  },
  {
   "cell_type": "code",
   "execution_count": 40,
   "metadata": {},
   "outputs": [
    {
     "data": {
      "text/html": [
       "<div>\n",
       "<style scoped>\n",
       "    .dataframe tbody tr th:only-of-type {\n",
       "        vertical-align: middle;\n",
       "    }\n",
       "\n",
       "    .dataframe tbody tr th {\n",
       "        vertical-align: top;\n",
       "    }\n",
       "\n",
       "    .dataframe thead th {\n",
       "        text-align: right;\n",
       "    }\n",
       "</style>\n",
       "<table border=\"1\" class=\"dataframe\">\n",
       "  <thead>\n",
       "    <tr style=\"text-align: right;\">\n",
       "      <th></th>\n",
       "      <th>children</th>\n",
       "      <th>days_employed</th>\n",
       "      <th>dob_years</th>\n",
       "      <th>education</th>\n",
       "      <th>education_id</th>\n",
       "      <th>family_status</th>\n",
       "      <th>family_status_id</th>\n",
       "      <th>gender</th>\n",
       "      <th>income_type</th>\n",
       "      <th>debt</th>\n",
       "      <th>total_income</th>\n",
       "      <th>purpose</th>\n",
       "    </tr>\n",
       "  </thead>\n",
       "  <tbody>\n",
       "    <tr>\n",
       "      <th>0</th>\n",
       "      <td>1</td>\n",
       "      <td>8437</td>\n",
       "      <td>42</td>\n",
       "      <td>высшее</td>\n",
       "      <td>0</td>\n",
       "      <td>женат / замужем</td>\n",
       "      <td>0</td>\n",
       "      <td>F</td>\n",
       "      <td>сотрудник</td>\n",
       "      <td>0</td>\n",
       "      <td>253875</td>\n",
       "      <td>покупка жилья</td>\n",
       "    </tr>\n",
       "    <tr>\n",
       "      <th>1</th>\n",
       "      <td>1</td>\n",
       "      <td>4024</td>\n",
       "      <td>36</td>\n",
       "      <td>среднее</td>\n",
       "      <td>1</td>\n",
       "      <td>женат / замужем</td>\n",
       "      <td>0</td>\n",
       "      <td>F</td>\n",
       "      <td>сотрудник</td>\n",
       "      <td>0</td>\n",
       "      <td>112080</td>\n",
       "      <td>приобретение автомобиля</td>\n",
       "    </tr>\n",
       "    <tr>\n",
       "      <th>2</th>\n",
       "      <td>0</td>\n",
       "      <td>5623</td>\n",
       "      <td>33</td>\n",
       "      <td>среднее</td>\n",
       "      <td>1</td>\n",
       "      <td>женат / замужем</td>\n",
       "      <td>0</td>\n",
       "      <td>M</td>\n",
       "      <td>сотрудник</td>\n",
       "      <td>0</td>\n",
       "      <td>145885</td>\n",
       "      <td>покупка жилья</td>\n",
       "    </tr>\n",
       "    <tr>\n",
       "      <th>3</th>\n",
       "      <td>3</td>\n",
       "      <td>4124</td>\n",
       "      <td>32</td>\n",
       "      <td>среднее</td>\n",
       "      <td>1</td>\n",
       "      <td>женат / замужем</td>\n",
       "      <td>0</td>\n",
       "      <td>M</td>\n",
       "      <td>сотрудник</td>\n",
       "      <td>0</td>\n",
       "      <td>267628</td>\n",
       "      <td>дополнительное образование</td>\n",
       "    </tr>\n",
       "    <tr>\n",
       "      <th>4</th>\n",
       "      <td>0</td>\n",
       "      <td>14177</td>\n",
       "      <td>53</td>\n",
       "      <td>среднее</td>\n",
       "      <td>1</td>\n",
       "      <td>гражданский брак</td>\n",
       "      <td>1</td>\n",
       "      <td>F</td>\n",
       "      <td>пенсионер</td>\n",
       "      <td>0</td>\n",
       "      <td>158616</td>\n",
       "      <td>сыграть свадьбу</td>\n",
       "    </tr>\n",
       "  </tbody>\n",
       "</table>\n",
       "</div>"
      ],
      "text/plain": [
       "   children  days_employed  dob_years education  education_id  \\\n",
       "0         1           8437         42    высшее             0   \n",
       "1         1           4024         36   среднее             1   \n",
       "2         0           5623         33   среднее             1   \n",
       "3         3           4124         32   среднее             1   \n",
       "4         0          14177         53   среднее             1   \n",
       "\n",
       "      family_status  family_status_id gender income_type  debt  total_income  \\\n",
       "0   женат / замужем                 0      F   сотрудник     0        253875   \n",
       "1   женат / замужем                 0      F   сотрудник     0        112080   \n",
       "2   женат / замужем                 0      M   сотрудник     0        145885   \n",
       "3   женат / замужем                 0      M   сотрудник     0        267628   \n",
       "4  гражданский брак                 1      F   пенсионер     0        158616   \n",
       "\n",
       "                      purpose  \n",
       "0               покупка жилья  \n",
       "1     приобретение автомобиля  \n",
       "2               покупка жилья  \n",
       "3  дополнительное образование  \n",
       "4             сыграть свадьбу  "
      ]
     },
     "execution_count": 40,
     "metadata": {},
     "output_type": "execute_result"
    }
   ],
   "source": [
    "data.head()"
   ]
  },
  {
   "cell_type": "markdown",
   "metadata": {},
   "source": [
    "**Вывод**\n",
    "\n",
    "Выявили и устранили явные и неявные дубликаты во всех столбцах датасета. При поиске дубликатов обнаружены аномальные значения, которые были обработаны."
   ]
  },
  {
   "cell_type": "markdown",
   "metadata": {},
   "source": [
    "## Лемматизация\n",
    "<a id=\"lemma\"></a>"
   ]
  },
  {
   "cell_type": "markdown",
   "metadata": {},
   "source": [
    "В столбце purpose обнаружили неявные дубликаты. Необходимо лемматизировать значения в данном столбце. Изучим уникальные значения из столбца `purpose`."
   ]
  },
  {
   "cell_type": "code",
   "execution_count": 41,
   "metadata": {},
   "outputs": [
    {
     "data": {
      "text/plain": [
       "свадьба                                   721\n",
       "сыграть свадьбу                           693\n",
       "на проведение свадьбы                     685\n",
       "операции с недвижимостью                  615\n",
       "покупка коммерческой недвижимости         597\n",
       "покупка жилья                             595\n",
       "покупка жилья для сдачи                   588\n",
       "жилье                                     587\n",
       "операции с коммерческой недвижимостью     581\n",
       "строительство жилой недвижимости          580\n",
       "операции с жильем                         579\n",
       "покупка своего жилья                      574\n",
       "недвижимость                              572\n",
       "покупка жилья для семьи                   570\n",
       "строительство недвижимости                561\n",
       "строительство собственной недвижимости    560\n",
       "операции со своей недвижимостью           559\n",
       "покупка недвижимости                      551\n",
       "покупка жилой недвижимости                546\n",
       "ремонт жилью                              542\n",
       "автомобиль                                454\n",
       "на покупку своего автомобиля              452\n",
       "на покупку автомобиля                     442\n",
       "заняться высшим образованием              440\n",
       "на покупку подержанного автомобиля        437\n",
       "сделка с подержанным автомобилем          435\n",
       "свой автомобиль                           428\n",
       "автомобили                                421\n",
       "приобретение автомобиля                   419\n",
       "дополнительное образование                414\n",
       "высшее образование                        413\n",
       "сделка с автомобилем                      409\n",
       "образование                               405\n",
       "получение дополнительного образования     396\n",
       "получение образования                     393\n",
       "получение высшего образования             390\n",
       "профильное образование                    389\n",
       "заняться образованием                     357\n",
       "Name: purpose, dtype: int64"
      ]
     },
     "execution_count": 41,
     "metadata": {},
     "output_type": "execute_result"
    }
   ],
   "source": [
    "data['purpose'].value_counts()"
   ]
  },
  {
   "cell_type": "markdown",
   "metadata": {},
   "source": [
    "Необходимо написать функцию для лемматизации значений, т.к данные в столбце `purpose` дублируются, например 'свадьба', 'на проведение свадьбы', 'cыграть свадьбу'.\n",
    "Просмотрев уникальные значения из столбца `purpose` делаем вывод, \n",
    "что необходимо сформировать 6 видов целей кредита: 'жилье', 'свадьба', 'автомобиль', 'образование', 'недвижимость', 'строительство'."
   ]
  },
  {
   "cell_type": "code",
   "execution_count": 42,
   "metadata": {},
   "outputs": [],
   "source": [
    "m = Mystem()\n",
    "purpose_mass_string = ''\n",
    "def lemma(purpose):\n",
    "    global purpose_mass_string\n",
    "    if purpose_mass_string:\n",
    "        purpose_mass_string += '|'\n",
    "    purpose_mass_string += purpose\n",
    "  \n",
    "    \n",
    "data['purpose_lem'] = data['purpose'].apply(lemma)\n",
    "\n",
    "lem_purposes = '' .join(m.lemmatize(purpose_mass_string)).split('|')\n",
    "\n",
    "def lemma2(purpose):\n",
    "    global lem_purposes\n",
    "    lem_purpose = lem_purposes.pop(0)\n",
    "    purpose_lem_arr = [\"жилье\", \"свадьба\", \"автомобиль\",\"образование\",\"недвижимость\",\"строительство\"]\n",
    "    for lem_purpose_word in purpose_lem_arr:\n",
    "        if lem_purpose_word in lem_purpose:\n",
    "            return lem_purpose_word\n",
    "\n",
    "data['purpose_lem'] = data['purpose'].apply(lemma2)  "
   ]
  },
  {
   "cell_type": "markdown",
   "metadata": {},
   "source": [
    "Проверим работу функции."
   ]
  },
  {
   "cell_type": "code",
   "execution_count": 43,
   "metadata": {},
   "outputs": [
    {
     "data": {
      "text/html": [
       "<div>\n",
       "<style scoped>\n",
       "    .dataframe tbody tr th:only-of-type {\n",
       "        vertical-align: middle;\n",
       "    }\n",
       "\n",
       "    .dataframe tbody tr th {\n",
       "        vertical-align: top;\n",
       "    }\n",
       "\n",
       "    .dataframe thead th {\n",
       "        text-align: right;\n",
       "    }\n",
       "</style>\n",
       "<table border=\"1\" class=\"dataframe\">\n",
       "  <thead>\n",
       "    <tr style=\"text-align: right;\">\n",
       "      <th></th>\n",
       "      <th>children</th>\n",
       "      <th>days_employed</th>\n",
       "      <th>dob_years</th>\n",
       "      <th>education</th>\n",
       "      <th>education_id</th>\n",
       "      <th>family_status</th>\n",
       "      <th>family_status_id</th>\n",
       "      <th>gender</th>\n",
       "      <th>income_type</th>\n",
       "      <th>debt</th>\n",
       "      <th>total_income</th>\n",
       "      <th>purpose</th>\n",
       "      <th>purpose_lem</th>\n",
       "    </tr>\n",
       "  </thead>\n",
       "  <tbody>\n",
       "    <tr>\n",
       "      <th>0</th>\n",
       "      <td>1</td>\n",
       "      <td>8437</td>\n",
       "      <td>42</td>\n",
       "      <td>высшее</td>\n",
       "      <td>0</td>\n",
       "      <td>женат / замужем</td>\n",
       "      <td>0</td>\n",
       "      <td>F</td>\n",
       "      <td>сотрудник</td>\n",
       "      <td>0</td>\n",
       "      <td>253875</td>\n",
       "      <td>покупка жилья</td>\n",
       "      <td>жилье</td>\n",
       "    </tr>\n",
       "    <tr>\n",
       "      <th>1</th>\n",
       "      <td>1</td>\n",
       "      <td>4024</td>\n",
       "      <td>36</td>\n",
       "      <td>среднее</td>\n",
       "      <td>1</td>\n",
       "      <td>женат / замужем</td>\n",
       "      <td>0</td>\n",
       "      <td>F</td>\n",
       "      <td>сотрудник</td>\n",
       "      <td>0</td>\n",
       "      <td>112080</td>\n",
       "      <td>приобретение автомобиля</td>\n",
       "      <td>автомобиль</td>\n",
       "    </tr>\n",
       "    <tr>\n",
       "      <th>2</th>\n",
       "      <td>0</td>\n",
       "      <td>5623</td>\n",
       "      <td>33</td>\n",
       "      <td>среднее</td>\n",
       "      <td>1</td>\n",
       "      <td>женат / замужем</td>\n",
       "      <td>0</td>\n",
       "      <td>M</td>\n",
       "      <td>сотрудник</td>\n",
       "      <td>0</td>\n",
       "      <td>145885</td>\n",
       "      <td>покупка жилья</td>\n",
       "      <td>жилье</td>\n",
       "    </tr>\n",
       "    <tr>\n",
       "      <th>3</th>\n",
       "      <td>3</td>\n",
       "      <td>4124</td>\n",
       "      <td>32</td>\n",
       "      <td>среднее</td>\n",
       "      <td>1</td>\n",
       "      <td>женат / замужем</td>\n",
       "      <td>0</td>\n",
       "      <td>M</td>\n",
       "      <td>сотрудник</td>\n",
       "      <td>0</td>\n",
       "      <td>267628</td>\n",
       "      <td>дополнительное образование</td>\n",
       "      <td>образование</td>\n",
       "    </tr>\n",
       "    <tr>\n",
       "      <th>4</th>\n",
       "      <td>0</td>\n",
       "      <td>14177</td>\n",
       "      <td>53</td>\n",
       "      <td>среднее</td>\n",
       "      <td>1</td>\n",
       "      <td>гражданский брак</td>\n",
       "      <td>1</td>\n",
       "      <td>F</td>\n",
       "      <td>пенсионер</td>\n",
       "      <td>0</td>\n",
       "      <td>158616</td>\n",
       "      <td>сыграть свадьбу</td>\n",
       "      <td>свадьба</td>\n",
       "    </tr>\n",
       "    <tr>\n",
       "      <th>5</th>\n",
       "      <td>0</td>\n",
       "      <td>926</td>\n",
       "      <td>27</td>\n",
       "      <td>высшее</td>\n",
       "      <td>0</td>\n",
       "      <td>гражданский брак</td>\n",
       "      <td>1</td>\n",
       "      <td>M</td>\n",
       "      <td>компаньон</td>\n",
       "      <td>0</td>\n",
       "      <td>255763</td>\n",
       "      <td>покупка жилья</td>\n",
       "      <td>жилье</td>\n",
       "    </tr>\n",
       "    <tr>\n",
       "      <th>6</th>\n",
       "      <td>0</td>\n",
       "      <td>2879</td>\n",
       "      <td>43</td>\n",
       "      <td>высшее</td>\n",
       "      <td>0</td>\n",
       "      <td>женат / замужем</td>\n",
       "      <td>0</td>\n",
       "      <td>F</td>\n",
       "      <td>компаньон</td>\n",
       "      <td>0</td>\n",
       "      <td>240525</td>\n",
       "      <td>операции с жильем</td>\n",
       "      <td>жилье</td>\n",
       "    </tr>\n",
       "    <tr>\n",
       "      <th>7</th>\n",
       "      <td>0</td>\n",
       "      <td>152</td>\n",
       "      <td>50</td>\n",
       "      <td>среднее</td>\n",
       "      <td>1</td>\n",
       "      <td>женат / замужем</td>\n",
       "      <td>0</td>\n",
       "      <td>M</td>\n",
       "      <td>сотрудник</td>\n",
       "      <td>0</td>\n",
       "      <td>135823</td>\n",
       "      <td>образование</td>\n",
       "      <td>образование</td>\n",
       "    </tr>\n",
       "    <tr>\n",
       "      <th>8</th>\n",
       "      <td>2</td>\n",
       "      <td>6929</td>\n",
       "      <td>35</td>\n",
       "      <td>высшее</td>\n",
       "      <td>0</td>\n",
       "      <td>гражданский брак</td>\n",
       "      <td>1</td>\n",
       "      <td>F</td>\n",
       "      <td>сотрудник</td>\n",
       "      <td>0</td>\n",
       "      <td>95856</td>\n",
       "      <td>на проведение свадьбы</td>\n",
       "      <td>свадьба</td>\n",
       "    </tr>\n",
       "    <tr>\n",
       "      <th>9</th>\n",
       "      <td>0</td>\n",
       "      <td>2188</td>\n",
       "      <td>41</td>\n",
       "      <td>среднее</td>\n",
       "      <td>1</td>\n",
       "      <td>женат / замужем</td>\n",
       "      <td>0</td>\n",
       "      <td>M</td>\n",
       "      <td>сотрудник</td>\n",
       "      <td>0</td>\n",
       "      <td>144425</td>\n",
       "      <td>покупка жилья для семьи</td>\n",
       "      <td>жилье</td>\n",
       "    </tr>\n",
       "    <tr>\n",
       "      <th>10</th>\n",
       "      <td>2</td>\n",
       "      <td>4171</td>\n",
       "      <td>36</td>\n",
       "      <td>высшее</td>\n",
       "      <td>0</td>\n",
       "      <td>женат / замужем</td>\n",
       "      <td>0</td>\n",
       "      <td>M</td>\n",
       "      <td>компаньон</td>\n",
       "      <td>0</td>\n",
       "      <td>113943</td>\n",
       "      <td>покупка недвижимости</td>\n",
       "      <td>недвижимость</td>\n",
       "    </tr>\n",
       "    <tr>\n",
       "      <th>11</th>\n",
       "      <td>0</td>\n",
       "      <td>792</td>\n",
       "      <td>40</td>\n",
       "      <td>среднее</td>\n",
       "      <td>1</td>\n",
       "      <td>женат / замужем</td>\n",
       "      <td>0</td>\n",
       "      <td>F</td>\n",
       "      <td>сотрудник</td>\n",
       "      <td>0</td>\n",
       "      <td>77069</td>\n",
       "      <td>покупка коммерческой недвижимости</td>\n",
       "      <td>недвижимость</td>\n",
       "    </tr>\n",
       "    <tr>\n",
       "      <th>12</th>\n",
       "      <td>0</td>\n",
       "      <td>1846</td>\n",
       "      <td>54</td>\n",
       "      <td>неоконченное высшее</td>\n",
       "      <td>2</td>\n",
       "      <td>женат / замужем</td>\n",
       "      <td>0</td>\n",
       "      <td>F</td>\n",
       "      <td>сотрудник</td>\n",
       "      <td>0</td>\n",
       "      <td>130458</td>\n",
       "      <td>приобретение автомобиля</td>\n",
       "      <td>автомобиль</td>\n",
       "    </tr>\n",
       "    <tr>\n",
       "      <th>13</th>\n",
       "      <td>0</td>\n",
       "      <td>1844</td>\n",
       "      <td>56</td>\n",
       "      <td>высшее</td>\n",
       "      <td>0</td>\n",
       "      <td>гражданский брак</td>\n",
       "      <td>1</td>\n",
       "      <td>F</td>\n",
       "      <td>компаньон</td>\n",
       "      <td>1</td>\n",
       "      <td>165127</td>\n",
       "      <td>покупка жилой недвижимости</td>\n",
       "      <td>недвижимость</td>\n",
       "    </tr>\n",
       "    <tr>\n",
       "      <th>14</th>\n",
       "      <td>1</td>\n",
       "      <td>972</td>\n",
       "      <td>26</td>\n",
       "      <td>среднее</td>\n",
       "      <td>1</td>\n",
       "      <td>женат / замужем</td>\n",
       "      <td>0</td>\n",
       "      <td>F</td>\n",
       "      <td>сотрудник</td>\n",
       "      <td>0</td>\n",
       "      <td>116820</td>\n",
       "      <td>строительство собственной недвижимости</td>\n",
       "      <td>недвижимость</td>\n",
       "    </tr>\n",
       "  </tbody>\n",
       "</table>\n",
       "</div>"
      ],
      "text/plain": [
       "    children  days_employed  dob_years            education  education_id  \\\n",
       "0          1           8437         42               высшее             0   \n",
       "1          1           4024         36              среднее             1   \n",
       "2          0           5623         33              среднее             1   \n",
       "3          3           4124         32              среднее             1   \n",
       "4          0          14177         53              среднее             1   \n",
       "5          0            926         27               высшее             0   \n",
       "6          0           2879         43               высшее             0   \n",
       "7          0            152         50              среднее             1   \n",
       "8          2           6929         35               высшее             0   \n",
       "9          0           2188         41              среднее             1   \n",
       "10         2           4171         36               высшее             0   \n",
       "11         0            792         40              среднее             1   \n",
       "12         0           1846         54  неоконченное высшее             2   \n",
       "13         0           1844         56               высшее             0   \n",
       "14         1            972         26              среднее             1   \n",
       "\n",
       "       family_status  family_status_id gender income_type  debt  total_income  \\\n",
       "0    женат / замужем                 0      F   сотрудник     0        253875   \n",
       "1    женат / замужем                 0      F   сотрудник     0        112080   \n",
       "2    женат / замужем                 0      M   сотрудник     0        145885   \n",
       "3    женат / замужем                 0      M   сотрудник     0        267628   \n",
       "4   гражданский брак                 1      F   пенсионер     0        158616   \n",
       "5   гражданский брак                 1      M   компаньон     0        255763   \n",
       "6    женат / замужем                 0      F   компаньон     0        240525   \n",
       "7    женат / замужем                 0      M   сотрудник     0        135823   \n",
       "8   гражданский брак                 1      F   сотрудник     0         95856   \n",
       "9    женат / замужем                 0      M   сотрудник     0        144425   \n",
       "10   женат / замужем                 0      M   компаньон     0        113943   \n",
       "11   женат / замужем                 0      F   сотрудник     0         77069   \n",
       "12   женат / замужем                 0      F   сотрудник     0        130458   \n",
       "13  гражданский брак                 1      F   компаньон     1        165127   \n",
       "14   женат / замужем                 0      F   сотрудник     0        116820   \n",
       "\n",
       "                                   purpose   purpose_lem  \n",
       "0                            покупка жилья         жилье  \n",
       "1                  приобретение автомобиля    автомобиль  \n",
       "2                            покупка жилья         жилье  \n",
       "3               дополнительное образование   образование  \n",
       "4                          сыграть свадьбу       свадьба  \n",
       "5                            покупка жилья         жилье  \n",
       "6                        операции с жильем         жилье  \n",
       "7                              образование   образование  \n",
       "8                    на проведение свадьбы       свадьба  \n",
       "9                  покупка жилья для семьи         жилье  \n",
       "10                    покупка недвижимости  недвижимость  \n",
       "11       покупка коммерческой недвижимости  недвижимость  \n",
       "12                 приобретение автомобиля    автомобиль  \n",
       "13              покупка жилой недвижимости  недвижимость  \n",
       "14  строительство собственной недвижимости  недвижимость  "
      ]
     },
     "execution_count": 43,
     "metadata": {},
     "output_type": "execute_result"
    }
   ],
   "source": [
    "data.head(15)"
   ]
  },
  {
   "cell_type": "markdown",
   "metadata": {},
   "source": [
    "**Вывод**\n",
    "\n",
    "При анализе столбца `purpose` были обнаружены неявные дубликаты, например 'свадьба', 'на проведение свадьбы', 'cыграть свадьбу'. Данную проблему решили применением функции с лемматизацией столбца `purpose`, в новом столбце `purpose_lem` cформировано 6 целей кредита: 'жилье', 'свадьба', 'автомобиль', 'образование', 'недвижимость', 'строительство'."
   ]
  },
  {
   "cell_type": "markdown",
   "metadata": {},
   "source": [
    "## Категоризация данных\n",
    "<a id=\"category\"></a>"
   ]
  },
  {
   "cell_type": "markdown",
   "metadata": {},
   "source": [
    "Для анализа зависимости между уровнем дохода и возвратом кредита в срок потребуется категоризовать данные. Необходимо написать функцию, которая сформирует несколько групп дохода в зависимости от уровня ежемесячного дохода. Для начала необходимо распределить группы дохода. Функция qcut разделит данные на 4 интервала равного размера."
   ]
  },
  {
   "cell_type": "code",
   "execution_count": 44,
   "metadata": {},
   "outputs": [
    {
     "name": "stdout",
     "output_type": "stream",
     "text": [
      "0        (203423.5, 2265604.0]\n",
      "1         (103040.5, 145011.0]\n",
      "2         (145011.0, 203423.5]\n",
      "3        (203423.5, 2265604.0]\n",
      "4         (145011.0, 203423.5]\n",
      "                 ...          \n",
      "19345    (203423.5, 2265604.0]\n",
      "19346     (145011.0, 203423.5]\n",
      "19347    (20666.999, 103040.5]\n",
      "19348    (203423.5, 2265604.0]\n",
      "19349    (20666.999, 103040.5]\n",
      "Name: total_income, Length: 19350, dtype: category\n",
      "Categories (4, interval[float64, right]): [(20666.999, 103040.5] < (103040.5, 145011.0] < (145011.0, 203423.5] < (203423.5, 2265604.0]]\n"
     ]
    }
   ],
   "source": [
    "qcut = pd.qcut(data['total_income'], 4)\n",
    "print(qcut)"
   ]
  },
  {
   "cell_type": "markdown",
   "metadata": {},
   "source": [
    "Получилось 4 категории дохода, которые мы определим как 1.Доход низкий (от 20666 до 103040) 2. Доход средний (от 103040 до 145011) 3. Доход выше среднего (от 145011 до 203424) 4. Доход высокий (от 203424 и выше)"
   ]
  },
  {
   "cell_type": "code",
   "execution_count": 45,
   "metadata": {},
   "outputs": [],
   "source": [
    "def income_cat(row):\n",
    "    \n",
    "    income = row['total_income']\n",
    "\n",
    "    if 20666<= income <=103040:\n",
    "        return 'Доход низкий'\n",
    "    \n",
    "    elif  103040<= income <= 145011:\n",
    "        return 'Доход средний'\n",
    "    \n",
    "    elif 145011<= income <= 203424:\n",
    "        return 'Доход выше среднего'\n",
    "    \n",
    "    else:\n",
    "        return 'Доход высокий'\n",
    "\n",
    "data['income_cat'] = data.apply(income_cat, axis=1)\n"
   ]
  },
  {
   "cell_type": "code",
   "execution_count": 46,
   "metadata": {},
   "outputs": [
    {
     "data": {
      "text/html": [
       "<div>\n",
       "<style scoped>\n",
       "    .dataframe tbody tr th:only-of-type {\n",
       "        vertical-align: middle;\n",
       "    }\n",
       "\n",
       "    .dataframe tbody tr th {\n",
       "        vertical-align: top;\n",
       "    }\n",
       "\n",
       "    .dataframe thead th {\n",
       "        text-align: right;\n",
       "    }\n",
       "</style>\n",
       "<table border=\"1\" class=\"dataframe\">\n",
       "  <thead>\n",
       "    <tr style=\"text-align: right;\">\n",
       "      <th></th>\n",
       "      <th>children</th>\n",
       "      <th>days_employed</th>\n",
       "      <th>dob_years</th>\n",
       "      <th>education</th>\n",
       "      <th>education_id</th>\n",
       "      <th>family_status</th>\n",
       "      <th>family_status_id</th>\n",
       "      <th>gender</th>\n",
       "      <th>income_type</th>\n",
       "      <th>debt</th>\n",
       "      <th>total_income</th>\n",
       "      <th>purpose</th>\n",
       "      <th>purpose_lem</th>\n",
       "      <th>income_cat</th>\n",
       "    </tr>\n",
       "  </thead>\n",
       "  <tbody>\n",
       "    <tr>\n",
       "      <th>0</th>\n",
       "      <td>1</td>\n",
       "      <td>8437</td>\n",
       "      <td>42</td>\n",
       "      <td>высшее</td>\n",
       "      <td>0</td>\n",
       "      <td>женат / замужем</td>\n",
       "      <td>0</td>\n",
       "      <td>F</td>\n",
       "      <td>сотрудник</td>\n",
       "      <td>0</td>\n",
       "      <td>253875</td>\n",
       "      <td>покупка жилья</td>\n",
       "      <td>жилье</td>\n",
       "      <td>Доход высокий</td>\n",
       "    </tr>\n",
       "    <tr>\n",
       "      <th>1</th>\n",
       "      <td>1</td>\n",
       "      <td>4024</td>\n",
       "      <td>36</td>\n",
       "      <td>среднее</td>\n",
       "      <td>1</td>\n",
       "      <td>женат / замужем</td>\n",
       "      <td>0</td>\n",
       "      <td>F</td>\n",
       "      <td>сотрудник</td>\n",
       "      <td>0</td>\n",
       "      <td>112080</td>\n",
       "      <td>приобретение автомобиля</td>\n",
       "      <td>автомобиль</td>\n",
       "      <td>Доход средний</td>\n",
       "    </tr>\n",
       "    <tr>\n",
       "      <th>2</th>\n",
       "      <td>0</td>\n",
       "      <td>5623</td>\n",
       "      <td>33</td>\n",
       "      <td>среднее</td>\n",
       "      <td>1</td>\n",
       "      <td>женат / замужем</td>\n",
       "      <td>0</td>\n",
       "      <td>M</td>\n",
       "      <td>сотрудник</td>\n",
       "      <td>0</td>\n",
       "      <td>145885</td>\n",
       "      <td>покупка жилья</td>\n",
       "      <td>жилье</td>\n",
       "      <td>Доход выше среднего</td>\n",
       "    </tr>\n",
       "    <tr>\n",
       "      <th>3</th>\n",
       "      <td>3</td>\n",
       "      <td>4124</td>\n",
       "      <td>32</td>\n",
       "      <td>среднее</td>\n",
       "      <td>1</td>\n",
       "      <td>женат / замужем</td>\n",
       "      <td>0</td>\n",
       "      <td>M</td>\n",
       "      <td>сотрудник</td>\n",
       "      <td>0</td>\n",
       "      <td>267628</td>\n",
       "      <td>дополнительное образование</td>\n",
       "      <td>образование</td>\n",
       "      <td>Доход высокий</td>\n",
       "    </tr>\n",
       "    <tr>\n",
       "      <th>4</th>\n",
       "      <td>0</td>\n",
       "      <td>14177</td>\n",
       "      <td>53</td>\n",
       "      <td>среднее</td>\n",
       "      <td>1</td>\n",
       "      <td>гражданский брак</td>\n",
       "      <td>1</td>\n",
       "      <td>F</td>\n",
       "      <td>пенсионер</td>\n",
       "      <td>0</td>\n",
       "      <td>158616</td>\n",
       "      <td>сыграть свадьбу</td>\n",
       "      <td>свадьба</td>\n",
       "      <td>Доход выше среднего</td>\n",
       "    </tr>\n",
       "    <tr>\n",
       "      <th>...</th>\n",
       "      <td>...</td>\n",
       "      <td>...</td>\n",
       "      <td>...</td>\n",
       "      <td>...</td>\n",
       "      <td>...</td>\n",
       "      <td>...</td>\n",
       "      <td>...</td>\n",
       "      <td>...</td>\n",
       "      <td>...</td>\n",
       "      <td>...</td>\n",
       "      <td>...</td>\n",
       "      <td>...</td>\n",
       "      <td>...</td>\n",
       "      <td>...</td>\n",
       "    </tr>\n",
       "    <tr>\n",
       "      <th>19345</th>\n",
       "      <td>1</td>\n",
       "      <td>4529</td>\n",
       "      <td>43</td>\n",
       "      <td>среднее</td>\n",
       "      <td>1</td>\n",
       "      <td>гражданский брак</td>\n",
       "      <td>1</td>\n",
       "      <td>F</td>\n",
       "      <td>компаньон</td>\n",
       "      <td>0</td>\n",
       "      <td>224791</td>\n",
       "      <td>операции с жильем</td>\n",
       "      <td>жилье</td>\n",
       "      <td>Доход высокий</td>\n",
       "    </tr>\n",
       "    <tr>\n",
       "      <th>19346</th>\n",
       "      <td>0</td>\n",
       "      <td>14330</td>\n",
       "      <td>67</td>\n",
       "      <td>среднее</td>\n",
       "      <td>1</td>\n",
       "      <td>женат / замужем</td>\n",
       "      <td>0</td>\n",
       "      <td>F</td>\n",
       "      <td>пенсионер</td>\n",
       "      <td>0</td>\n",
       "      <td>155999</td>\n",
       "      <td>сделка с автомобилем</td>\n",
       "      <td>автомобиль</td>\n",
       "      <td>Доход выше среднего</td>\n",
       "    </tr>\n",
       "    <tr>\n",
       "      <th>19347</th>\n",
       "      <td>1</td>\n",
       "      <td>2113</td>\n",
       "      <td>38</td>\n",
       "      <td>среднее</td>\n",
       "      <td>1</td>\n",
       "      <td>гражданский брак</td>\n",
       "      <td>1</td>\n",
       "      <td>M</td>\n",
       "      <td>сотрудник</td>\n",
       "      <td>1</td>\n",
       "      <td>89672</td>\n",
       "      <td>недвижимость</td>\n",
       "      <td>недвижимость</td>\n",
       "      <td>Доход низкий</td>\n",
       "    </tr>\n",
       "    <tr>\n",
       "      <th>19348</th>\n",
       "      <td>3</td>\n",
       "      <td>3112</td>\n",
       "      <td>38</td>\n",
       "      <td>среднее</td>\n",
       "      <td>1</td>\n",
       "      <td>женат / замужем</td>\n",
       "      <td>0</td>\n",
       "      <td>M</td>\n",
       "      <td>сотрудник</td>\n",
       "      <td>1</td>\n",
       "      <td>244093</td>\n",
       "      <td>на покупку своего автомобиля</td>\n",
       "      <td>автомобиль</td>\n",
       "      <td>Доход высокий</td>\n",
       "    </tr>\n",
       "    <tr>\n",
       "      <th>19349</th>\n",
       "      <td>2</td>\n",
       "      <td>1984</td>\n",
       "      <td>40</td>\n",
       "      <td>среднее</td>\n",
       "      <td>1</td>\n",
       "      <td>женат / замужем</td>\n",
       "      <td>0</td>\n",
       "      <td>F</td>\n",
       "      <td>сотрудник</td>\n",
       "      <td>0</td>\n",
       "      <td>82047</td>\n",
       "      <td>на покупку автомобиля</td>\n",
       "      <td>автомобиль</td>\n",
       "      <td>Доход низкий</td>\n",
       "    </tr>\n",
       "  </tbody>\n",
       "</table>\n",
       "<p>19350 rows × 14 columns</p>\n",
       "</div>"
      ],
      "text/plain": [
       "       children  days_employed  dob_years education  education_id  \\\n",
       "0             1           8437         42    высшее             0   \n",
       "1             1           4024         36   среднее             1   \n",
       "2             0           5623         33   среднее             1   \n",
       "3             3           4124         32   среднее             1   \n",
       "4             0          14177         53   среднее             1   \n",
       "...         ...            ...        ...       ...           ...   \n",
       "19345         1           4529         43   среднее             1   \n",
       "19346         0          14330         67   среднее             1   \n",
       "19347         1           2113         38   среднее             1   \n",
       "19348         3           3112         38   среднее             1   \n",
       "19349         2           1984         40   среднее             1   \n",
       "\n",
       "          family_status  family_status_id gender income_type  debt  \\\n",
       "0       женат / замужем                 0      F   сотрудник     0   \n",
       "1       женат / замужем                 0      F   сотрудник     0   \n",
       "2       женат / замужем                 0      M   сотрудник     0   \n",
       "3       женат / замужем                 0      M   сотрудник     0   \n",
       "4      гражданский брак                 1      F   пенсионер     0   \n",
       "...                 ...               ...    ...         ...   ...   \n",
       "19345  гражданский брак                 1      F   компаньон     0   \n",
       "19346   женат / замужем                 0      F   пенсионер     0   \n",
       "19347  гражданский брак                 1      M   сотрудник     1   \n",
       "19348   женат / замужем                 0      M   сотрудник     1   \n",
       "19349   женат / замужем                 0      F   сотрудник     0   \n",
       "\n",
       "       total_income                       purpose   purpose_lem  \\\n",
       "0            253875                 покупка жилья         жилье   \n",
       "1            112080       приобретение автомобиля    автомобиль   \n",
       "2            145885                 покупка жилья         жилье   \n",
       "3            267628    дополнительное образование   образование   \n",
       "4            158616               сыграть свадьбу       свадьба   \n",
       "...             ...                           ...           ...   \n",
       "19345        224791             операции с жильем         жилье   \n",
       "19346        155999          сделка с автомобилем    автомобиль   \n",
       "19347         89672                  недвижимость  недвижимость   \n",
       "19348        244093  на покупку своего автомобиля    автомобиль   \n",
       "19349         82047         на покупку автомобиля    автомобиль   \n",
       "\n",
       "                income_cat  \n",
       "0            Доход высокий  \n",
       "1            Доход средний  \n",
       "2      Доход выше среднего  \n",
       "3            Доход высокий  \n",
       "4      Доход выше среднего  \n",
       "...                    ...  \n",
       "19345        Доход высокий  \n",
       "19346  Доход выше среднего  \n",
       "19347         Доход низкий  \n",
       "19348        Доход высокий  \n",
       "19349         Доход низкий  \n",
       "\n",
       "[19350 rows x 14 columns]"
      ]
     },
     "execution_count": 46,
     "metadata": {},
     "output_type": "execute_result"
    }
   ],
   "source": [
    "data"
   ]
  },
  {
   "cell_type": "markdown",
   "metadata": {},
   "source": [
    "Еще мы заметили, что между признаками education и education_id, а также family_status и family_status_id сильная корреляция. Мультиколлинеарность негативно влияет на модели машинного обучения. Поэтому определим и выделим словари в данных признаках. "
   ]
  },
  {
   "cell_type": "code",
   "execution_count": 47,
   "metadata": {},
   "outputs": [
    {
     "data": {
      "text/plain": [
       "{0: 'высшее',\n",
       " 1: 'среднее',\n",
       " 2: 'неоконченное высшее',\n",
       " 3: 'начальное',\n",
       " 4: 'ученая степень'}"
      ]
     },
     "execution_count": 47,
     "metadata": {},
     "output_type": "execute_result"
    }
   ],
   "source": [
    "education = data.set_index('education_id')['education'].to_dict()\n",
    "education"
   ]
  },
  {
   "cell_type": "code",
   "execution_count": 48,
   "metadata": {},
   "outputs": [
    {
     "data": {
      "text/plain": [
       "{0: 'женат / замужем',\n",
       " 1: 'гражданский брак',\n",
       " 2: 'вдовец / вдова',\n",
       " 3: 'в разводе',\n",
       " 4: 'Не женат / не замужем'}"
      ]
     },
     "execution_count": 48,
     "metadata": {},
     "output_type": "execute_result"
    }
   ],
   "source": [
    "family_status = data.set_index('family_status_id')['family_status'].to_dict()\n",
    "family_status"
   ]
  },
  {
   "cell_type": "markdown",
   "metadata": {},
   "source": [
    "А столбцы с текстовой информации можно удалить, чтобы было удобнее работать с данными и исключить мультиколлинеарность."
   ]
  },
  {
   "cell_type": "code",
   "execution_count": 49,
   "metadata": {},
   "outputs": [],
   "source": [
    "#data = data.drop(['education', 'family_status'], axis=1) "
   ]
  },
  {
   "cell_type": "markdown",
   "metadata": {},
   "source": [
    "**Вывод**\n",
    "\n",
    "Для категоризации данных мы использовали функцию дискретизации на основе квантилей, которая определила 4 равных интервала уровня дохода. Затем мы написали функцию, которая формирует новый столбец с информацией о уровне дохода: низкий, средний, выше среднего, высокий."
   ]
  },
  {
   "cell_type": "code",
   "execution_count": 50,
   "metadata": {},
   "outputs": [
    {
     "name": "stdout",
     "output_type": "stream",
     "text": [
      "0        (5537.5, 18388.0]\n",
      "1         (2194.0, 5537.5]\n",
      "2        (5537.5, 18388.0]\n",
      "3         (2194.0, 5537.5]\n",
      "4        (5537.5, 18388.0]\n",
      "               ...        \n",
      "19345     (2194.0, 5537.5]\n",
      "19346    (5537.5, 18388.0]\n",
      "19347     (926.25, 2194.0]\n",
      "19348     (2194.0, 5537.5]\n",
      "19349     (926.25, 2194.0]\n",
      "Name: days_employed, Length: 19350, dtype: category\n",
      "Categories (4, interval[float64, right]): [(23.999, 926.25] < (926.25, 2194.0] < (2194.0, 5537.5] < (5537.5, 18388.0]]\n"
     ]
    }
   ],
   "source": [
    "qcut = pd.qcut(data['days_employed'], 4)\n",
    "print(qcut)"
   ]
  },
  {
   "cell_type": "code",
   "execution_count": 51,
   "metadata": {},
   "outputs": [],
   "source": [
    "def emission(data, column):\n",
    "    q1 = data[column].quantile(q=0.25)\n",
    "    q3 = data[column].quantile(q=0.75)\n",
    "    norm = data.loc[(data[column] < q3 + 1.5*(q3 - q1)) & (data[column] > q1 - 1.5*(q3-q1)), column]\n",
    "    return norm\n",
    "emission_list = ['days_employed']\n",
    "for item in emission_list:\n",
    "    data[item] = emission(data, item)"
   ]
  },
  {
   "cell_type": "code",
   "execution_count": 52,
   "metadata": {},
   "outputs": [
    {
     "data": {
      "text/plain": [
       "children               0\n",
       "days_employed       3516\n",
       "dob_years              0\n",
       "education              0\n",
       "education_id           0\n",
       "family_status          0\n",
       "family_status_id       0\n",
       "gender                 0\n",
       "income_type            0\n",
       "debt                   0\n",
       "total_income           0\n",
       "purpose                0\n",
       "purpose_lem            0\n",
       "income_cat             0\n",
       "dtype: int64"
      ]
     },
     "execution_count": 52,
     "metadata": {},
     "output_type": "execute_result"
    }
   ],
   "source": [
    "data.isnull().sum()"
   ]
  },
  {
   "cell_type": "code",
   "execution_count": 53,
   "metadata": {},
   "outputs": [],
   "source": [
    "data = data.dropna()"
   ]
  },
  {
   "cell_type": "markdown",
   "metadata": {},
   "source": [
    "# Шаг 3. Исследовательский анализ данных\n",
    "<a id=\"analysis\"></a>"
   ]
  },
  {
   "cell_type": "markdown",
   "metadata": {},
   "source": [
    "Найдем ответы на следующие вопросы."
   ]
  },
  {
   "cell_type": "markdown",
   "metadata": {},
   "source": [
    " - **Есть ли зависимость между наличием детей и возвратом кредита в срок?**\n",
    " "
   ]
  },
  {
   "cell_type": "markdown",
   "metadata": {},
   "source": [
    "Выведем на экран процент задолженности по возврату кредитов в зависимости от кол-ва детей."
   ]
  },
  {
   "cell_type": "code",
   "execution_count": 54,
   "metadata": {},
   "outputs": [
    {
     "data": {
      "text/html": [
       "<style type=\"text/css\">\n",
       "</style>\n",
       "<table id=\"T_11c56_\">\n",
       "  <thead>\n",
       "    <tr>\n",
       "      <th class=\"blank level0\" >&nbsp;</th>\n",
       "      <th class=\"col_heading level0 col0\" >no_debt</th>\n",
       "      <th class=\"col_heading level0 col1\" >yes_debt</th>\n",
       "      <th class=\"col_heading level0 col2\" >%debt</th>\n",
       "    </tr>\n",
       "    <tr>\n",
       "      <th class=\"index_name level0\" >children</th>\n",
       "      <th class=\"blank col0\" >&nbsp;</th>\n",
       "      <th class=\"blank col1\" >&nbsp;</th>\n",
       "      <th class=\"blank col2\" >&nbsp;</th>\n",
       "    </tr>\n",
       "  </thead>\n",
       "  <tbody>\n",
       "    <tr>\n",
       "      <th id=\"T_11c56_level0_row0\" class=\"row_heading level0 row0\" >5</th>\n",
       "      <td id=\"T_11c56_row0_col0\" class=\"data row0 col0\" >8</td>\n",
       "      <td id=\"T_11c56_row0_col1\" class=\"data row0 col1\" >0</td>\n",
       "      <td id=\"T_11c56_row0_col2\" class=\"data row0 col2\" >0.00%</td>\n",
       "    </tr>\n",
       "    <tr>\n",
       "      <th id=\"T_11c56_level0_row1\" class=\"row_heading level0 row1\" >3</th>\n",
       "      <td id=\"T_11c56_row1_col0\" class=\"data row1 col0\" >267</td>\n",
       "      <td id=\"T_11c56_row1_col1\" class=\"data row1 col1\" >21</td>\n",
       "      <td id=\"T_11c56_row1_col2\" class=\"data row1 col2\" >7.29%</td>\n",
       "    </tr>\n",
       "    <tr>\n",
       "      <th id=\"T_11c56_level0_row2\" class=\"row_heading level0 row2\" >0</th>\n",
       "      <td id=\"T_11c56_row2_col0\" class=\"data row2 col0\" >8706</td>\n",
       "      <td id=\"T_11c56_row2_col1\" class=\"data row2 col1\" >784</td>\n",
       "      <td id=\"T_11c56_row2_col2\" class=\"data row2 col2\" >8.26%</td>\n",
       "    </tr>\n",
       "    <tr>\n",
       "      <th id=\"T_11c56_level0_row3\" class=\"row_heading level0 row3\" >4</th>\n",
       "      <td id=\"T_11c56_row3_col0\" class=\"data row3 col0\" >30</td>\n",
       "      <td id=\"T_11c56_row3_col1\" class=\"data row3 col1\" >3</td>\n",
       "      <td id=\"T_11c56_row3_col2\" class=\"data row3 col2\" >9.09%</td>\n",
       "    </tr>\n",
       "    <tr>\n",
       "      <th id=\"T_11c56_level0_row4\" class=\"row_heading level0 row4\" >1</th>\n",
       "      <td id=\"T_11c56_row4_col0\" class=\"data row4 col0\" >3725</td>\n",
       "      <td id=\"T_11c56_row4_col1\" class=\"data row4 col1\" >397</td>\n",
       "      <td id=\"T_11c56_row4_col2\" class=\"data row4 col2\" >9.63%</td>\n",
       "    </tr>\n",
       "    <tr>\n",
       "      <th id=\"T_11c56_level0_row5\" class=\"row_heading level0 row5\" >2</th>\n",
       "      <td id=\"T_11c56_row5_col0\" class=\"data row5 col0\" >1710</td>\n",
       "      <td id=\"T_11c56_row5_col1\" class=\"data row5 col1\" >183</td>\n",
       "      <td id=\"T_11c56_row5_col2\" class=\"data row5 col2\" >9.67%</td>\n",
       "    </tr>\n",
       "  </tbody>\n",
       "</table>\n"
      ],
      "text/plain": [
       "<pandas.io.formats.style.Styler at 0x1c10b437be0>"
      ]
     },
     "execution_count": 54,
     "metadata": {},
     "output_type": "execute_result"
    }
   ],
   "source": [
    "d1 = data.pivot_table(index=['debt'], columns='children', values = 'family_status_id', aggfunc='count').T\n",
    "d1['debt'] = d1[1]/(d1[0]+d1[1])\n",
    "d1.set_axis(['no_debt', 'yes_debt','%debt'], axis='columns', inplace=True) #Замена названий столбцов \n",
    "d1['%debt'] = d1['%debt'].fillna(0)\n",
    "d1['yes_debt'] = d1['yes_debt'].fillna(0)\n",
    "d1 = d1.sort_values(by='%debt')\n",
    "d1 = d1.style.format({'no_debt': \"{:.0f}\",'yes_debt': \"{:.0f}\",'%debt': \"{:.2%}\"})\n",
    "d1"
   ]
  },
  {
   "cell_type": "markdown",
   "metadata": {},
   "source": [
    "**Вывод**\n",
    "\n",
    "В результе анализа замечаем, что \n",
    "- большинство заемщиков не имеют детей. \n",
    "- с увеличением кол-ва детей кол-во заемщиков становится меньше. Это вполне логично. \n",
    "- среди многодетных детей (от 3-х детей) процент должников ниже, чем у заемщиков с 1 или 2 детьми. \n",
    "- процент возврата долга у самых многодетных людей (5 детей) самый низкий - 0 %\n",
    "\n",
    "В среднем появление ребенка увеличивает возможность просрочки платежа по кредиту. Так процент должников среди бездетных заемщиков ниже, чем у заемщиков с 1 ребенком. А процент должников среди заемщиков с 1 ребенком ниже, чем у заемщиков с 2 детьми. Однако увеличение кол-ва детей в семье не увеличивает возможность долга по кредиту, например, среди многодетных семей с 3, 4, 5 детьми, долгов меньше, чем у семей с 1, 2 детьми. При этом кол-во многодетных заемщиков значительно ниже, чем остальных, этим и объясняется низкий процент должников. "
   ]
  },
  {
   "cell_type": "markdown",
   "metadata": {},
   "source": [
    "- **Есть ли зависимость между семейным положением и возвратом кредита в срок?**"
   ]
  },
  {
   "cell_type": "markdown",
   "metadata": {},
   "source": [
    "Выведем на экран процент задолженности по возврату кредитов в зависимости от семейного положения"
   ]
  },
  {
   "cell_type": "code",
   "execution_count": 55,
   "metadata": {},
   "outputs": [
    {
     "data": {
      "text/html": [
       "<style type=\"text/css\">\n",
       "</style>\n",
       "<table id=\"T_f5edb_\">\n",
       "  <thead>\n",
       "    <tr>\n",
       "      <th class=\"blank level0\" >&nbsp;</th>\n",
       "      <th class=\"col_heading level0 col0\" >no_debt</th>\n",
       "      <th class=\"col_heading level0 col1\" >yes_debt</th>\n",
       "      <th class=\"col_heading level0 col2\" >%debt</th>\n",
       "    </tr>\n",
       "    <tr>\n",
       "      <th class=\"index_name level0\" >family_status</th>\n",
       "      <th class=\"blank col0\" >&nbsp;</th>\n",
       "      <th class=\"blank col1\" >&nbsp;</th>\n",
       "      <th class=\"blank col2\" >&nbsp;</th>\n",
       "    </tr>\n",
       "  </thead>\n",
       "  <tbody>\n",
       "    <tr>\n",
       "      <th id=\"T_f5edb_level0_row0\" class=\"row_heading level0 row0\" >вдовец / вдова</th>\n",
       "      <td id=\"T_f5edb_row0_col0\" class=\"data row0 col0\" >352</td>\n",
       "      <td id=\"T_f5edb_row0_col1\" class=\"data row0 col1\" >24</td>\n",
       "      <td id=\"T_f5edb_row0_col2\" class=\"data row0 col2\" >6.38%</td>\n",
       "    </tr>\n",
       "    <tr>\n",
       "      <th id=\"T_f5edb_level0_row1\" class=\"row_heading level0 row1\" >в разводе</th>\n",
       "      <td id=\"T_f5edb_row1_col0\" class=\"data row1 col0\" >818</td>\n",
       "      <td id=\"T_f5edb_row1_col1\" class=\"data row1 col1\" >65</td>\n",
       "      <td id=\"T_f5edb_row1_col2\" class=\"data row1 col2\" >7.36%</td>\n",
       "    </tr>\n",
       "    <tr>\n",
       "      <th id=\"T_f5edb_level0_row2\" class=\"row_heading level0 row2\" >женат / замужем</th>\n",
       "      <td id=\"T_f5edb_row2_col0\" class=\"data row2 col0\" >8472</td>\n",
       "      <td id=\"T_f5edb_row2_col1\" class=\"data row2 col1\" >748</td>\n",
       "      <td id=\"T_f5edb_row2_col2\" class=\"data row2 col2\" >8.11%</td>\n",
       "    </tr>\n",
       "    <tr>\n",
       "      <th id=\"T_f5edb_level0_row3\" class=\"row_heading level0 row3\" >гражданский брак</th>\n",
       "      <td id=\"T_f5edb_row3_col0\" class=\"data row3 col0\" >2839</td>\n",
       "      <td id=\"T_f5edb_row3_col1\" class=\"data row3 col1\" >310</td>\n",
       "      <td id=\"T_f5edb_row3_col2\" class=\"data row3 col2\" >9.84%</td>\n",
       "    </tr>\n",
       "    <tr>\n",
       "      <th id=\"T_f5edb_level0_row4\" class=\"row_heading level0 row4\" >Не женат / не замужем</th>\n",
       "      <td id=\"T_f5edb_row4_col0\" class=\"data row4 col0\" >1965</td>\n",
       "      <td id=\"T_f5edb_row4_col1\" class=\"data row4 col1\" >241</td>\n",
       "      <td id=\"T_f5edb_row4_col2\" class=\"data row4 col2\" >10.92%</td>\n",
       "    </tr>\n",
       "  </tbody>\n",
       "</table>\n"
      ],
      "text/plain": [
       "<pandas.io.formats.style.Styler at 0x1c120ca7730>"
      ]
     },
     "execution_count": 55,
     "metadata": {},
     "output_type": "execute_result"
    }
   ],
   "source": [
    "data_pivot2 = data.pivot_table(index=['debt'], columns='family_status', values = 'family_status_id', aggfunc='count').T\n",
    "data_pivot2['debt'] = data_pivot2[1]/(data_pivot2[0]+data_pivot2[1])\n",
    "d2 = data_pivot2.sort_values(by='debt')\n",
    "d2.set_axis(['no_debt', 'yes_debt','%debt'], axis='columns', inplace=True) #Замена названий столбцов \n",
    "d2 = d2.style.format({'no_debt': \"{:.0f}\",'yes_debt': \"{:.0f}\",'%debt': \"{:.2%}\"})\n",
    "d2"
   ]
  },
  {
   "cell_type": "markdown",
   "metadata": {},
   "source": [
    "**Вывод**\n",
    "\n",
    "В результе анализа замечаем, что:\n",
    "- большинство заемщиков женаты/замужем.\n",
    "- процент должников среди людей, которые на данный момент замужем или когда-то были замужем меньше, по сравнению с людьми без штампа в паспорте. \n",
    "- самый большой процент должников среди неженатых/незамужних людей и людей в гражданскои браке.\n",
    "\n",
    "Зависимость между семейным положением и возвратом кредита в срок существует. Люди без штампа в паспорте меньше выплачивают кредит в срок, чем люди в браке или которые были когда-то в браке.\n"
   ]
  },
  {
   "cell_type": "markdown",
   "metadata": {},
   "source": [
    "- **Есть ли зависимость между уровнем дохода и возвратом кредита в срок?**"
   ]
  },
  {
   "cell_type": "markdown",
   "metadata": {},
   "source": [
    "Выведем на экран процент задолженности по возврату кредитов в зависимости от уровня дохода"
   ]
  },
  {
   "cell_type": "code",
   "execution_count": 56,
   "metadata": {},
   "outputs": [
    {
     "data": {
      "text/html": [
       "<style type=\"text/css\">\n",
       "</style>\n",
       "<table id=\"T_94926_\">\n",
       "  <thead>\n",
       "    <tr>\n",
       "      <th class=\"blank level0\" >&nbsp;</th>\n",
       "      <th class=\"col_heading level0 col0\" >no_debt</th>\n",
       "      <th class=\"col_heading level0 col1\" >yes_debt</th>\n",
       "      <th class=\"col_heading level0 col2\" >%debt</th>\n",
       "    </tr>\n",
       "    <tr>\n",
       "      <th class=\"index_name level0\" >income_cat</th>\n",
       "      <th class=\"blank col0\" >&nbsp;</th>\n",
       "      <th class=\"blank col1\" >&nbsp;</th>\n",
       "      <th class=\"blank col2\" >&nbsp;</th>\n",
       "    </tr>\n",
       "  </thead>\n",
       "  <tbody>\n",
       "    <tr>\n",
       "      <th id=\"T_94926_level0_row0\" class=\"row_heading level0 row0\" >Доход высокий</th>\n",
       "      <td id=\"T_94926_row0_col0\" class=\"data row0 col0\" >3994</td>\n",
       "      <td id=\"T_94926_row0_col1\" class=\"data row0 col1\" >311</td>\n",
       "      <td id=\"T_94926_row0_col2\" class=\"data row0 col2\" >7.22%</td>\n",
       "    </tr>\n",
       "    <tr>\n",
       "      <th id=\"T_94926_level0_row1\" class=\"row_heading level0 row1\" >Доход низкий</th>\n",
       "      <td id=\"T_94926_row1_col0\" class=\"data row1 col0\" >3145</td>\n",
       "      <td id=\"T_94926_row1_col1\" class=\"data row1 col1\" >317</td>\n",
       "      <td id=\"T_94926_row1_col2\" class=\"data row1 col2\" >9.16%</td>\n",
       "    </tr>\n",
       "    <tr>\n",
       "      <th id=\"T_94926_level0_row2\" class=\"row_heading level0 row2\" >Доход выше среднего</th>\n",
       "      <td id=\"T_94926_row2_col0\" class=\"data row2 col0\" >3738</td>\n",
       "      <td id=\"T_94926_row2_col1\" class=\"data row2 col1\" >382</td>\n",
       "      <td id=\"T_94926_row2_col2\" class=\"data row2 col2\" >9.27%</td>\n",
       "    </tr>\n",
       "    <tr>\n",
       "      <th id=\"T_94926_level0_row3\" class=\"row_heading level0 row3\" >Доход средний</th>\n",
       "      <td id=\"T_94926_row3_col0\" class=\"data row3 col0\" >3569</td>\n",
       "      <td id=\"T_94926_row3_col1\" class=\"data row3 col1\" >378</td>\n",
       "      <td id=\"T_94926_row3_col2\" class=\"data row3 col2\" >9.58%</td>\n",
       "    </tr>\n",
       "  </tbody>\n",
       "</table>\n"
      ],
      "text/plain": [
       "<pandas.io.formats.style.Styler at 0x1c120ccc2b0>"
      ]
     },
     "execution_count": 56,
     "metadata": {},
     "output_type": "execute_result"
    }
   ],
   "source": [
    "data_pivot3 = data.pivot_table(index=['debt'], columns='income_cat', values = 'family_status_id', aggfunc='count').T\n",
    "data_pivot3['debt'] = data_pivot3[1]/(data_pivot3[0]+data_pivot3[1])\n",
    "d3 = data_pivot3.sort_values(by='debt')\n",
    "d3.set_axis(['no_debt', 'yes_debt','%debt'], axis='columns', inplace=True) #Замена названий столбцов \n",
    "d3 = d3.style.format({'no_debt': \"{:.0f}\",'yes_debt': \"{:.0f}\",'%debt': \"{:.2%}\"})\n",
    "d3"
   ]
  },
  {
   "cell_type": "markdown",
   "metadata": {},
   "source": [
    "**Вывод**"
   ]
  },
  {
   "cell_type": "markdown",
   "metadata": {},
   "source": [
    "В результе анализа замечаем, что:\n",
    "- кол-во людей в группах по уровню дохода примерно одинаковое\n",
    "- процент должников среди людей с наибольшим доходом самый низкий\n",
    "- люди с низким доходом выплачивают кредит в срок лучше, чем люди с средним и выше среднего достатком.\n",
    "\n",
    "Прямой зависимости между задолженности по возврату кредитов в зависимости от уровня дохода не обнаружили. Но среди людей с высоким доходом меньше всего должников. "
   ]
  },
  {
   "cell_type": "markdown",
   "metadata": {},
   "source": [
    "- **Как разные цели кредита влияют на его возврат в срок?**"
   ]
  },
  {
   "cell_type": "markdown",
   "metadata": {},
   "source": [
    "Выведем на экран процент задолженности по возврату кредитов в зависимости от цели кредита"
   ]
  },
  {
   "cell_type": "code",
   "execution_count": 57,
   "metadata": {},
   "outputs": [
    {
     "data": {
      "text/html": [
       "<style type=\"text/css\">\n",
       "</style>\n",
       "<table id=\"T_9e32f_\">\n",
       "  <thead>\n",
       "    <tr>\n",
       "      <th class=\"blank level0\" >&nbsp;</th>\n",
       "      <th class=\"col_heading level0 col0\" >no_debt</th>\n",
       "      <th class=\"col_heading level0 col1\" >yes_debt</th>\n",
       "      <th class=\"col_heading level0 col2\" >%debt</th>\n",
       "    </tr>\n",
       "    <tr>\n",
       "      <th class=\"index_name level0\" >purpose_lem</th>\n",
       "      <th class=\"blank col0\" >&nbsp;</th>\n",
       "      <th class=\"blank col1\" >&nbsp;</th>\n",
       "      <th class=\"blank col2\" >&nbsp;</th>\n",
       "    </tr>\n",
       "  </thead>\n",
       "  <tbody>\n",
       "    <tr>\n",
       "      <th id=\"T_9e32f_level0_row0\" class=\"row_heading level0 row0\" >жилье</th>\n",
       "      <td id=\"T_9e32f_row0_col0\" class=\"data row0 col0\" >3082</td>\n",
       "      <td id=\"T_9e32f_row0_col1\" class=\"data row0 col1\" >249</td>\n",
       "      <td id=\"T_9e32f_row0_col2\" class=\"data row0 col2\" >7.48%</td>\n",
       "    </tr>\n",
       "    <tr>\n",
       "      <th id=\"T_9e32f_level0_row1\" class=\"row_heading level0 row1\" >свадьба</th>\n",
       "      <td id=\"T_9e32f_row1_col0\" class=\"data row1 col0\" >1579</td>\n",
       "      <td id=\"T_9e32f_row1_col1\" class=\"data row1 col1\" >139</td>\n",
       "      <td id=\"T_9e32f_row1_col2\" class=\"data row1 col2\" >8.09%</td>\n",
       "    </tr>\n",
       "    <tr>\n",
       "      <th id=\"T_9e32f_level0_row2\" class=\"row_heading level0 row2\" >недвижимость</th>\n",
       "      <td id=\"T_9e32f_row2_col0\" class=\"data row2 col0\" >4298</td>\n",
       "      <td id=\"T_9e32f_row2_col1\" class=\"data row2 col1\" >388</td>\n",
       "      <td id=\"T_9e32f_row2_col2\" class=\"data row2 col2\" >8.28%</td>\n",
       "    </tr>\n",
       "    <tr>\n",
       "      <th id=\"T_9e32f_level0_row3\" class=\"row_heading level0 row3\" >образование</th>\n",
       "      <td id=\"T_9e32f_row3_col0\" class=\"data row3 col0\" >2643</td>\n",
       "      <td id=\"T_9e32f_row3_col1\" class=\"data row3 col1\" >289</td>\n",
       "      <td id=\"T_9e32f_row3_col2\" class=\"data row3 col2\" >9.86%</td>\n",
       "    </tr>\n",
       "    <tr>\n",
       "      <th id=\"T_9e32f_level0_row4\" class=\"row_heading level0 row4\" >автомобиль</th>\n",
       "      <td id=\"T_9e32f_row4_col0\" class=\"data row4 col0\" >2844</td>\n",
       "      <td id=\"T_9e32f_row4_col1\" class=\"data row4 col1\" >323</td>\n",
       "      <td id=\"T_9e32f_row4_col2\" class=\"data row4 col2\" >10.20%</td>\n",
       "    </tr>\n",
       "  </tbody>\n",
       "</table>\n"
      ],
      "text/plain": [
       "<pandas.io.formats.style.Styler at 0x1c120cb7160>"
      ]
     },
     "execution_count": 57,
     "metadata": {},
     "output_type": "execute_result"
    }
   ],
   "source": [
    "data_pivot4 = data.pivot_table(index=['debt'], columns='purpose_lem', values = 'family_status_id', aggfunc='count').T\n",
    "data_pivot4['debt'] = data_pivot4[1]/(data_pivot4[0]+data_pivot4[1])\n",
    "d4 = data_pivot4.sort_values(by='debt')\n",
    "d4.set_axis(['no_debt', 'yes_debt','%debt'], axis='columns', inplace=True) #Замена названий столбцов \n",
    "d4 = d4.style.format({'no_debt': \"{:.0f}\",'yes_debt': \"{:.0f}\",'%debt': \"{:.2%}\"})\n",
    "d4"
   ]
  },
  {
   "cell_type": "markdown",
   "metadata": {},
   "source": [
    "**Вывод**"
   ]
  },
  {
   "cell_type": "markdown",
   "metadata": {},
   "source": [
    "В результе анализа замечаем, что:\n",
    "- люди с большей вероятностью выплачивают кредит, если он взят на жилье\n",
    "- люди с меньшей вероятностью выплачивают кредит, если он взят на автомобиль\n"
   ]
  },
  {
   "cell_type": "markdown",
   "metadata": {},
   "source": [
    "# Шаг 4. Построение моделей\n",
    "<a id=\"model\"></a>"
   ]
  },
  {
   "cell_type": "markdown",
   "metadata": {},
   "source": [
    "Задача проекта: построить модели кредитного скоринга — специальной системы, которая оценивает способность потенциального заёмщика вернуть кредит банку. Это задача классификации. Поэтому мы будем применять в работе такие модели, как CatBoostClassifier, LGBMClassifier, DecisionTreeClassifier, RandomForestClassifier. Искать гиперпараметры будем с помощью функции GridSearchCV.\n",
    "Для начала подготовим данные для построения моделей:\n",
    "- определим есть ли дисбаланс в классах \n",
    "- определим признаки \n",
    "- разделим данные на выборки \n",
    "- закодируем категориальные признаки\n",
    "- масштабируем численные признаки"
   ]
  },
  {
   "cell_type": "markdown",
   "metadata": {},
   "source": [
    "Удалим из данных ненужные столбцы."
   ]
  },
  {
   "cell_type": "code",
   "execution_count": 58,
   "metadata": {},
   "outputs": [],
   "source": [
    "data = data.drop(['education', 'family_status','purpose'], axis=1) "
   ]
  },
  {
   "cell_type": "markdown",
   "metadata": {},
   "source": [
    "Посмотрим общую информацию. Убедимся, что все на месте."
   ]
  },
  {
   "cell_type": "code",
   "execution_count": 59,
   "metadata": {},
   "outputs": [
    {
     "name": "stdout",
     "output_type": "stream",
     "text": [
      "<class 'pandas.core.frame.DataFrame'>\n",
      "Int64Index: 15834 entries, 0 to 19349\n",
      "Data columns (total 11 columns):\n",
      " #   Column            Non-Null Count  Dtype  \n",
      "---  ------            --------------  -----  \n",
      " 0   children          15834 non-null  int64  \n",
      " 1   days_employed     15834 non-null  float64\n",
      " 2   dob_years         15834 non-null  int32  \n",
      " 3   education_id      15834 non-null  int64  \n",
      " 4   family_status_id  15834 non-null  int64  \n",
      " 5   gender            15834 non-null  object \n",
      " 6   income_type       15834 non-null  object \n",
      " 7   debt              15834 non-null  int64  \n",
      " 8   total_income      15834 non-null  int32  \n",
      " 9   purpose_lem       15834 non-null  object \n",
      " 10  income_cat        15834 non-null  object \n",
      "dtypes: float64(1), int32(2), int64(4), object(4)\n",
      "memory usage: 1.3+ MB\n"
     ]
    }
   ],
   "source": [
    "data.info()"
   ]
  },
  {
   "cell_type": "markdown",
   "metadata": {},
   "source": [
    "Определим и закодируем категориальные данные."
   ]
  },
  {
   "cell_type": "code",
   "execution_count": 60,
   "metadata": {},
   "outputs": [],
   "source": [
    "cat_features = data.select_dtypes(include='object').columns\n",
    "\n",
    "label_encode = LabelEncoder()\n",
    "for column in cat_features:\n",
    "    label_encode.fit(data[column].astype('str'))\n",
    "    data[column] = label_encode.transform(data[column].astype('str'))"
   ]
  },
  {
   "cell_type": "markdown",
   "metadata": {},
   "source": [
    "Определим целевой признак и остальные признаки."
   ]
  },
  {
   "cell_type": "code",
   "execution_count": 61,
   "metadata": {},
   "outputs": [],
   "source": [
    "features = data.drop(['debt'],axis=1)\n",
    "target = data['debt']"
   ]
  },
  {
   "cell_type": "markdown",
   "metadata": {},
   "source": [
    "Разделим данные на тестовую и обучающую выборки."
   ]
  },
  {
   "cell_type": "code",
   "execution_count": 62,
   "metadata": {},
   "outputs": [],
   "source": [
    "features_train, features_test, target_train, target_test = train_test_split(features, target, test_size = 0.2, random_state=12345)"
   ]
  },
  {
   "cell_type": "markdown",
   "metadata": {},
   "source": [
    "Определим и масштабируем числовые признаки."
   ]
  },
  {
   "cell_type": "code",
   "execution_count": 63,
   "metadata": {},
   "outputs": [],
   "source": [
    "num_features = features.select_dtypes(exclude='object').columns\n",
    "scaler=StandardScaler()\n",
    "scaler.fit(features_train[num_features])\n",
    "features_train[num_features]=scaler.transform(features_train[num_features])\n",
    "features_test[num_features]=scaler.transform(features_test[num_features])"
   ]
  },
  {
   "cell_type": "markdown",
   "metadata": {},
   "source": [
    "Посмотрим на баланс классов. Определим среднее число должников."
   ]
  },
  {
   "cell_type": "code",
   "execution_count": 64,
   "metadata": {},
   "outputs": [
    {
     "data": {
      "text/plain": [
       "'8.8%'"
      ]
     },
     "execution_count": 64,
     "metadata": {},
     "output_type": "execute_result"
    }
   ],
   "source": [
    "\"{:.1%}\".format(data['debt'].mean())"
   ]
  },
  {
   "cell_type": "markdown",
   "metadata": {},
   "source": [
    "Около 8 процентов людей не отдают кредит банку в срок. Классы несбалансированы. Необходимо сбалансировать классы."
   ]
  },
  {
   "cell_type": "markdown",
   "metadata": {},
   "source": [
    "Найдем лучшие параметры для модели CatBoostClassifier с помощью функции GridSearchCV."
   ]
  },
  {
   "cell_type": "code",
   "execution_count": 65,
   "metadata": {},
   "outputs": [
    {
     "name": "stdout",
     "output_type": "stream",
     "text": [
      "0:\tlearn: 0.6731207\ttotal: 195ms\tremaining: 0us\n",
      "0:\tlearn: 0.6731313\ttotal: 755us\tremaining: 0us\n",
      "0:\tlearn: 0.6731337\ttotal: 963us\tremaining: 0us\n",
      "0:\tlearn: 0.6288162\ttotal: 732us\tremaining: 0us\n",
      "0:\tlearn: 0.6288470\ttotal: 738us\tremaining: 0us\n",
      "0:\tlearn: 0.6288361\ttotal: 1.9ms\tremaining: 0us\n",
      "0:\tlearn: 0.6731207\ttotal: 726us\tremaining: 72.6ms\n",
      "1:\tlearn: 0.6543046\ttotal: 1.69ms\tremaining: 83.5ms\n",
      "2:\tlearn: 0.6365566\ttotal: 2.49ms\tremaining: 81.4ms\n",
      "3:\tlearn: 0.6198283\ttotal: 3.31ms\tremaining: 80.3ms\n",
      "4:\tlearn: 0.6040112\ttotal: 4.15ms\tremaining: 79.7ms\n",
      "5:\tlearn: 0.5890752\ttotal: 5.28ms\tremaining: 83.7ms\n",
      "6:\tlearn: 0.5749363\ttotal: 6.26ms\tremaining: 84.1ms\n",
      "7:\tlearn: 0.5615519\ttotal: 7.16ms\tremaining: 83.3ms\n",
      "8:\tlearn: 0.5488680\ttotal: 7.94ms\tremaining: 81.1ms\n",
      "9:\tlearn: 0.5368474\ttotal: 8.62ms\tremaining: 78.4ms\n",
      "10:\tlearn: 0.5254379\ttotal: 9.25ms\tremaining: 75.7ms\n",
      "11:\tlearn: 0.5146165\ttotal: 9.97ms\tremaining: 73.9ms\n",
      "12:\tlearn: 0.5043094\ttotal: 10.8ms\tremaining: 73.3ms\n",
      "13:\tlearn: 0.4945069\ttotal: 11.9ms\tremaining: 73.8ms\n",
      "14:\tlearn: 0.4852170\ttotal: 12.6ms\tremaining: 72.2ms\n",
      "15:\tlearn: 0.4763534\ttotal: 13.3ms\tremaining: 70.8ms\n",
      "16:\tlearn: 0.4679432\ttotal: 14ms\tremaining: 69.3ms\n",
      "17:\tlearn: 0.4599425\ttotal: 14.7ms\tremaining: 68ms\n",
      "18:\tlearn: 0.4522910\ttotal: 15.5ms\tremaining: 66.8ms\n",
      "19:\tlearn: 0.4450379\ttotal: 16.4ms\tremaining: 66.3ms\n",
      "20:\tlearn: 0.4381022\ttotal: 17.2ms\tremaining: 65.7ms\n",
      "21:\tlearn: 0.4315094\ttotal: 18ms\tremaining: 64.8ms\n",
      "22:\tlearn: 0.4251977\ttotal: 18.7ms\tremaining: 63.5ms\n",
      "23:\tlearn: 0.4192183\ttotal: 19.5ms\tremaining: 62.7ms\n",
      "24:\tlearn: 0.4135154\ttotal: 20.2ms\tremaining: 61.4ms\n",
      "25:\tlearn: 0.4080818\ttotal: 20.9ms\tremaining: 60.2ms\n",
      "26:\tlearn: 0.4029015\ttotal: 21.6ms\tremaining: 59.1ms\n",
      "27:\tlearn: 0.3979409\ttotal: 22.2ms\tremaining: 57.9ms\n",
      "28:\tlearn: 0.3932293\ttotal: 22.9ms\tremaining: 56.7ms\n",
      "29:\tlearn: 0.3887082\ttotal: 23.5ms\tremaining: 55.6ms\n",
      "30:\tlearn: 0.3844243\ttotal: 24.1ms\tremaining: 54.5ms\n",
      "31:\tlearn: 0.3803219\ttotal: 25ms\tremaining: 53.8ms\n",
      "32:\tlearn: 0.3764067\ttotal: 25.9ms\tremaining: 53.3ms\n",
      "33:\tlearn: 0.3726561\ttotal: 26.9ms\tremaining: 52.9ms\n",
      "34:\tlearn: 0.3691031\ttotal: 27.5ms\tremaining: 51.9ms\n",
      "35:\tlearn: 0.3656904\ttotal: 28.2ms\tremaining: 50.9ms\n",
      "36:\tlearn: 0.3624623\ttotal: 28.9ms\tremaining: 49.9ms\n",
      "37:\tlearn: 0.3593671\ttotal: 29.6ms\tremaining: 49.1ms\n",
      "38:\tlearn: 0.3564138\ttotal: 30.3ms\tremaining: 48.2ms\n",
      "39:\tlearn: 0.3536148\ttotal: 31.1ms\tremaining: 47.4ms\n",
      "40:\tlearn: 0.3509417\ttotal: 31.8ms\tremaining: 46.6ms\n",
      "41:\tlearn: 0.3483749\ttotal: 32.5ms\tremaining: 45.7ms\n",
      "42:\tlearn: 0.3459340\ttotal: 33.3ms\tremaining: 44.9ms\n",
      "43:\tlearn: 0.3435832\ttotal: 34ms\tremaining: 44.1ms\n",
      "44:\tlearn: 0.3413728\ttotal: 34.7ms\tremaining: 43.1ms\n",
      "45:\tlearn: 0.3392488\ttotal: 35.5ms\tremaining: 42.4ms\n",
      "46:\tlearn: 0.3372277\ttotal: 36.1ms\tremaining: 41.5ms\n",
      "47:\tlearn: 0.3353171\ttotal: 36.9ms\tremaining: 40.8ms\n",
      "48:\tlearn: 0.3334397\ttotal: 37.6ms\tremaining: 39.9ms\n",
      "49:\tlearn: 0.3316669\ttotal: 38.2ms\tremaining: 39ms\n",
      "50:\tlearn: 0.3299767\ttotal: 39.2ms\tremaining: 38.4ms\n",
      "51:\tlearn: 0.3283771\ttotal: 40.1ms\tremaining: 37.8ms\n",
      "52:\tlearn: 0.3268399\ttotal: 40.9ms\tremaining: 37ms\n",
      "53:\tlearn: 0.3253516\ttotal: 41.5ms\tremaining: 36.2ms\n",
      "54:\tlearn: 0.3239894\ttotal: 42.2ms\tremaining: 35.3ms\n",
      "55:\tlearn: 0.3226637\ttotal: 42.9ms\tremaining: 34.4ms\n",
      "56:\tlearn: 0.3213900\ttotal: 43.6ms\tremaining: 33.6ms\n",
      "57:\tlearn: 0.3202129\ttotal: 44.4ms\tremaining: 32.9ms\n",
      "58:\tlearn: 0.3190572\ttotal: 45.2ms\tremaining: 32.2ms\n",
      "59:\tlearn: 0.3179810\ttotal: 46ms\tremaining: 31.4ms\n",
      "60:\tlearn: 0.3169443\ttotal: 46.7ms\tremaining: 30.6ms\n",
      "61:\tlearn: 0.3159600\ttotal: 47.4ms\tremaining: 29.8ms\n",
      "62:\tlearn: 0.3150058\ttotal: 48.1ms\tremaining: 29ms\n",
      "63:\tlearn: 0.3140867\ttotal: 48.8ms\tremaining: 28.2ms\n",
      "64:\tlearn: 0.3132058\ttotal: 49.4ms\tremaining: 27.4ms\n",
      "65:\tlearn: 0.3124171\ttotal: 50ms\tremaining: 26.5ms\n",
      "66:\tlearn: 0.3116021\ttotal: 50.7ms\tremaining: 25.7ms\n",
      "67:\tlearn: 0.3108261\ttotal: 51.3ms\tremaining: 24.9ms\n",
      "68:\tlearn: 0.3100872\ttotal: 52ms\tremaining: 24.1ms\n",
      "69:\tlearn: 0.3094402\ttotal: 52.6ms\tremaining: 23.3ms\n",
      "70:\tlearn: 0.3088291\ttotal: 53.4ms\tremaining: 22.6ms\n",
      "71:\tlearn: 0.3082239\ttotal: 54.2ms\tremaining: 21.8ms\n",
      "72:\tlearn: 0.3076109\ttotal: 55.3ms\tremaining: 21.2ms\n",
      "73:\tlearn: 0.3070632\ttotal: 56ms\tremaining: 20.4ms\n",
      "74:\tlearn: 0.3065253\ttotal: 56.7ms\tremaining: 19.7ms\n",
      "75:\tlearn: 0.3060406\ttotal: 57.4ms\tremaining: 18.9ms\n",
      "76:\tlearn: 0.3055918\ttotal: 58.1ms\tremaining: 18.1ms\n",
      "77:\tlearn: 0.3051660\ttotal: 58.8ms\tremaining: 17.3ms\n",
      "78:\tlearn: 0.3047618\ttotal: 59.6ms\tremaining: 16.6ms\n",
      "79:\tlearn: 0.3043383\ttotal: 60.3ms\tremaining: 15.8ms\n",
      "80:\tlearn: 0.3039359\ttotal: 61ms\tremaining: 15.1ms\n",
      "81:\tlearn: 0.3035276\ttotal: 61.7ms\tremaining: 14.3ms\n",
      "82:\tlearn: 0.3031725\ttotal: 62.6ms\tremaining: 13.6ms\n",
      "83:\tlearn: 0.3028377\ttotal: 63.2ms\tremaining: 12.8ms\n",
      "84:\tlearn: 0.3024810\ttotal: 63.8ms\tremaining: 12ms\n",
      "85:\tlearn: 0.3021637\ttotal: 64.5ms\tremaining: 11.3ms\n",
      "86:\tlearn: 0.3018782\ttotal: 65.2ms\tremaining: 10.5ms\n",
      "87:\tlearn: 0.3015904\ttotal: 65.8ms\tremaining: 9.72ms\n",
      "88:\tlearn: 0.3013528\ttotal: 66.5ms\tremaining: 8.96ms\n",
      "89:\tlearn: 0.3010660\ttotal: 67.2ms\tremaining: 8.21ms\n",
      "90:\tlearn: 0.3008166\ttotal: 67.9ms\tremaining: 7.46ms\n",
      "91:\tlearn: 0.3005591\ttotal: 68.9ms\tremaining: 6.74ms\n",
      "92:\tlearn: 0.3003439\ttotal: 69.5ms\tremaining: 5.98ms\n",
      "93:\tlearn: 0.3001010\ttotal: 70.2ms\tremaining: 5.23ms\n",
      "94:\tlearn: 0.2998688\ttotal: 70.9ms\tremaining: 4.48ms\n",
      "95:\tlearn: 0.2996714\ttotal: 71.5ms\tremaining: 3.72ms\n",
      "96:\tlearn: 0.2995024\ttotal: 72.1ms\tremaining: 2.97ms\n",
      "97:\tlearn: 0.2993347\ttotal: 72.8ms\tremaining: 2.23ms\n",
      "98:\tlearn: 0.2991742\ttotal: 73.4ms\tremaining: 1.48ms\n",
      "99:\tlearn: 0.2990286\ttotal: 74ms\tremaining: 740us\n",
      "100:\tlearn: 0.2988462\ttotal: 74.7ms\tremaining: 0us\n",
      "0:\tlearn: 0.6731313\ttotal: 704us\tremaining: 70.5ms\n",
      "1:\tlearn: 0.6543383\ttotal: 1.41ms\tremaining: 70ms\n",
      "2:\tlearn: 0.6365946\ttotal: 2.09ms\tremaining: 68.4ms\n",
      "3:\tlearn: 0.6198691\ttotal: 2.73ms\tremaining: 66.3ms\n",
      "4:\tlearn: 0.6040522\ttotal: 3.55ms\tremaining: 68.2ms\n",
      "5:\tlearn: 0.5891213\ttotal: 4.2ms\tremaining: 66.5ms\n",
      "6:\tlearn: 0.5749936\ttotal: 4.88ms\tremaining: 65.5ms\n",
      "7:\tlearn: 0.5616165\ttotal: 5.58ms\tremaining: 64.9ms\n",
      "8:\tlearn: 0.5489419\ttotal: 6.34ms\tremaining: 64.8ms\n",
      "9:\tlearn: 0.5369339\ttotal: 7.13ms\tremaining: 64.9ms\n",
      "10:\tlearn: 0.5255357\ttotal: 7.91ms\tremaining: 64.7ms\n",
      "11:\tlearn: 0.5147170\ttotal: 8.64ms\tremaining: 64.1ms\n",
      "12:\tlearn: 0.5044177\ttotal: 9.31ms\tremaining: 63.1ms\n",
      "13:\tlearn: 0.4946167\ttotal: 9.96ms\tremaining: 61.9ms\n",
      "14:\tlearn: 0.4853124\ttotal: 10.7ms\tremaining: 61.2ms\n",
      "15:\tlearn: 0.4764544\ttotal: 11.5ms\tremaining: 61ms\n",
      "16:\tlearn: 0.4680510\ttotal: 12.2ms\tremaining: 60.2ms\n",
      "17:\tlearn: 0.4600559\ttotal: 13.1ms\tremaining: 60.4ms\n",
      "18:\tlearn: 0.4523969\ttotal: 13.9ms\tremaining: 59.9ms\n",
      "19:\tlearn: 0.4451474\ttotal: 14.8ms\tremaining: 60.1ms\n",
      "20:\tlearn: 0.4382162\ttotal: 15.8ms\tremaining: 60.1ms\n",
      "21:\tlearn: 0.4316255\ttotal: 16.8ms\tremaining: 60.2ms\n",
      "22:\tlearn: 0.4253183\ttotal: 17.5ms\tremaining: 59.4ms\n",
      "23:\tlearn: 0.4193430\ttotal: 18.5ms\tremaining: 59.5ms\n",
      "24:\tlearn: 0.4136434\ttotal: 19.5ms\tremaining: 59.4ms\n",
      "25:\tlearn: 0.4082133\ttotal: 20.6ms\tremaining: 59.4ms\n",
      "26:\tlearn: 0.4030311\ttotal: 21.4ms\tremaining: 58.7ms\n",
      "27:\tlearn: 0.3980802\ttotal: 22.5ms\tremaining: 58.7ms\n",
      "28:\tlearn: 0.3933599\ttotal: 23.5ms\tremaining: 58.4ms\n",
      "29:\tlearn: 0.3888413\ttotal: 24.5ms\tremaining: 57.9ms\n",
      "30:\tlearn: 0.3845618\ttotal: 25.6ms\tremaining: 57.7ms\n",
      "31:\tlearn: 0.3804738\ttotal: 26.7ms\tremaining: 57.5ms\n",
      "32:\tlearn: 0.3765613\ttotal: 27.6ms\tremaining: 56.8ms\n",
      "33:\tlearn: 0.3728108\ttotal: 28.4ms\tremaining: 55.9ms\n",
      "34:\tlearn: 0.3692645\ttotal: 29.1ms\tremaining: 54.9ms\n",
      "35:\tlearn: 0.3658543\ttotal: 29.8ms\tremaining: 53.8ms\n",
      "36:\tlearn: 0.3626323\ttotal: 30.6ms\tremaining: 52.9ms\n",
      "37:\tlearn: 0.3595542\ttotal: 31.2ms\tremaining: 51.8ms\n",
      "38:\tlearn: 0.3565958\ttotal: 32ms\tremaining: 50.9ms\n",
      "39:\tlearn: 0.3537993\ttotal: 33.1ms\tremaining: 50.4ms\n",
      "40:\tlearn: 0.3511309\ttotal: 34.2ms\tremaining: 50ms\n",
      "41:\tlearn: 0.3485652\ttotal: 35.5ms\tremaining: 49.8ms\n",
      "42:\tlearn: 0.3461340\ttotal: 36.7ms\tremaining: 49.5ms\n",
      "43:\tlearn: 0.3437717\ttotal: 37.9ms\tremaining: 49.1ms\n",
      "44:\tlearn: 0.3415666\ttotal: 39.1ms\tremaining: 48.6ms\n",
      "45:\tlearn: 0.3394313\ttotal: 40.2ms\tremaining: 48ms\n",
      "46:\tlearn: 0.3374248\ttotal: 41.2ms\tremaining: 47.3ms\n",
      "47:\tlearn: 0.3355159\ttotal: 42.3ms\tremaining: 46.7ms\n",
      "48:\tlearn: 0.3336228\ttotal: 43.3ms\tremaining: 45.9ms\n",
      "49:\tlearn: 0.3318514\ttotal: 44.3ms\tremaining: 45.2ms\n",
      "50:\tlearn: 0.3301625\ttotal: 45.4ms\tremaining: 44.5ms\n",
      "51:\tlearn: 0.3285487\ttotal: 46.5ms\tremaining: 43.8ms\n",
      "52:\tlearn: 0.3270129\ttotal: 47.5ms\tremaining: 43.1ms\n",
      "53:\tlearn: 0.3255079\ttotal: 48.6ms\tremaining: 42.3ms\n",
      "54:\tlearn: 0.3241388\ttotal: 49.8ms\tremaining: 41.6ms\n",
      "55:\tlearn: 0.3228345\ttotal: 50.9ms\tremaining: 40.9ms\n",
      "56:\tlearn: 0.3215461\ttotal: 52ms\tremaining: 40.1ms\n",
      "57:\tlearn: 0.3203703\ttotal: 53.3ms\tremaining: 39.5ms\n",
      "58:\tlearn: 0.3192151\ttotal: 55.3ms\tremaining: 39.4ms\n",
      "59:\tlearn: 0.3181159\ttotal: 57.1ms\tremaining: 39ms\n",
      "60:\tlearn: 0.3170882\ttotal: 59ms\tremaining: 38.7ms\n",
      "61:\tlearn: 0.3160613\ttotal: 60ms\tremaining: 37.7ms\n",
      "62:\tlearn: 0.3150634\ttotal: 61ms\tremaining: 36.8ms\n",
      "63:\tlearn: 0.3141276\ttotal: 62.1ms\tremaining: 35.9ms\n",
      "64:\tlearn: 0.3132461\ttotal: 63.2ms\tremaining: 35ms\n",
      "65:\tlearn: 0.3124586\ttotal: 64.3ms\tremaining: 34.1ms\n",
      "66:\tlearn: 0.3116272\ttotal: 65.5ms\tremaining: 33.2ms\n",
      "67:\tlearn: 0.3108351\ttotal: 66.8ms\tremaining: 32.4ms\n",
      "68:\tlearn: 0.3100801\ttotal: 68.6ms\tremaining: 31.8ms\n",
      "69:\tlearn: 0.3094251\ttotal: 69.7ms\tremaining: 30.8ms\n",
      "70:\tlearn: 0.3088144\ttotal: 70.7ms\tremaining: 29.9ms\n",
      "71:\tlearn: 0.3082075\ttotal: 71.7ms\tremaining: 28.9ms\n",
      "72:\tlearn: 0.3075779\ttotal: 72.8ms\tremaining: 27.9ms\n",
      "73:\tlearn: 0.3070381\ttotal: 73.8ms\tremaining: 26.9ms\n",
      "74:\tlearn: 0.3065018\ttotal: 74.8ms\tremaining: 25.9ms\n",
      "75:\tlearn: 0.3059528\ttotal: 75.8ms\tremaining: 24.9ms\n",
      "76:\tlearn: 0.3055044\ttotal: 76.9ms\tremaining: 24ms\n",
      "77:\tlearn: 0.3050791\ttotal: 77.9ms\tremaining: 23ms\n",
      "78:\tlearn: 0.3045993\ttotal: 79.2ms\tremaining: 22ms\n",
      "79:\tlearn: 0.3041772\ttotal: 80.5ms\tremaining: 21.1ms\n",
      "80:\tlearn: 0.3038059\ttotal: 81.5ms\tremaining: 20.1ms\n",
      "81:\tlearn: 0.3033862\ttotal: 83.1ms\tremaining: 19.3ms\n",
      "82:\tlearn: 0.3030212\ttotal: 84.2ms\tremaining: 18.3ms\n",
      "83:\tlearn: 0.3026840\ttotal: 85.2ms\tremaining: 17.2ms\n",
      "84:\tlearn: 0.3023167\ttotal: 86.2ms\tremaining: 16.2ms\n",
      "85:\tlearn: 0.3020009\ttotal: 87.2ms\tremaining: 15.2ms\n",
      "86:\tlearn: 0.3017184\ttotal: 88.3ms\tremaining: 14.2ms\n",
      "87:\tlearn: 0.3013938\ttotal: 89.4ms\tremaining: 13.2ms\n",
      "88:\tlearn: 0.3011538\ttotal: 90.4ms\tremaining: 12.2ms\n",
      "89:\tlearn: 0.3008563\ttotal: 91.5ms\tremaining: 11.2ms\n",
      "90:\tlearn: 0.3006065\ttotal: 92.5ms\tremaining: 10.2ms\n",
      "91:\tlearn: 0.3003475\ttotal: 93.6ms\tremaining: 9.15ms\n",
      "92:\tlearn: 0.3001493\ttotal: 94.6ms\tremaining: 8.14ms\n",
      "93:\tlearn: 0.2999145\ttotal: 96ms\tremaining: 7.15ms\n",
      "94:\tlearn: 0.2996708\ttotal: 97.1ms\tremaining: 6.13ms\n",
      "95:\tlearn: 0.2994733\ttotal: 98.2ms\tremaining: 5.12ms\n",
      "96:\tlearn: 0.2992856\ttotal: 99.3ms\tremaining: 4.1ms\n",
      "97:\tlearn: 0.2991203\ttotal: 100ms\tremaining: 3.07ms\n",
      "98:\tlearn: 0.2989125\ttotal: 101ms\tremaining: 2.05ms\n",
      "99:\tlearn: 0.2987791\ttotal: 102ms\tremaining: 1.02ms\n",
      "100:\tlearn: 0.2986174\ttotal: 103ms\tremaining: 0us\n",
      "0:\tlearn: 0.6731337\ttotal: 764us\tremaining: 76.5ms\n",
      "1:\tlearn: 0.6543143\ttotal: 1.71ms\tremaining: 84.5ms\n",
      "2:\tlearn: 0.6365846\ttotal: 2.72ms\tremaining: 88.8ms\n",
      "3:\tlearn: 0.6198619\ttotal: 3.63ms\tremaining: 88.1ms\n",
      "4:\tlearn: 0.6040365\ttotal: 4.7ms\tremaining: 90.2ms\n",
      "5:\tlearn: 0.5891071\ttotal: 5.86ms\tremaining: 92.8ms\n",
      "6:\tlearn: 0.5749714\ttotal: 7.23ms\tremaining: 97.1ms\n",
      "7:\tlearn: 0.5615929\ttotal: 8.32ms\tremaining: 96.8ms\n",
      "8:\tlearn: 0.5489088\ttotal: 9.39ms\tremaining: 96ms\n",
      "9:\tlearn: 0.5368879\ttotal: 10.9ms\tremaining: 99ms\n",
      "10:\tlearn: 0.5254920\ttotal: 12.1ms\tremaining: 98.8ms\n",
      "11:\tlearn: 0.5146781\ttotal: 13.5ms\tremaining: 100ms\n",
      "12:\tlearn: 0.5043697\ttotal: 14.5ms\tremaining: 98ms\n",
      "13:\tlearn: 0.4945506\ttotal: 15.5ms\tremaining: 96.5ms\n",
      "14:\tlearn: 0.4852480\ttotal: 16.5ms\tremaining: 94.6ms\n",
      "15:\tlearn: 0.4763864\ttotal: 17.5ms\tremaining: 93.2ms\n",
      "16:\tlearn: 0.4679833\ttotal: 18.6ms\tremaining: 91.8ms\n",
      "17:\tlearn: 0.4599838\ttotal: 19.7ms\tremaining: 90.7ms\n",
      "18:\tlearn: 0.4523049\ttotal: 20.7ms\tremaining: 89.5ms\n",
      "19:\tlearn: 0.4450587\ttotal: 22.4ms\tremaining: 90.5ms\n",
      "20:\tlearn: 0.4380860\ttotal: 23.5ms\tremaining: 89.5ms\n",
      "21:\tlearn: 0.4314911\ttotal: 24.7ms\tremaining: 88.7ms\n",
      "22:\tlearn: 0.4251615\ttotal: 26.3ms\tremaining: 89.1ms\n",
      "23:\tlearn: 0.4191859\ttotal: 27.3ms\tremaining: 87.6ms\n",
      "24:\tlearn: 0.4134787\ttotal: 28.3ms\tremaining: 86ms\n",
      "25:\tlearn: 0.4080492\ttotal: 29.3ms\tremaining: 84.6ms\n",
      "26:\tlearn: 0.4028712\ttotal: 30.4ms\tremaining: 83.3ms\n",
      "27:\tlearn: 0.3979037\ttotal: 31.4ms\tremaining: 81.9ms\n",
      "28:\tlearn: 0.3931831\ttotal: 32.4ms\tremaining: 80.5ms\n",
      "29:\tlearn: 0.3886594\ttotal: 33.5ms\tremaining: 79.3ms\n",
      "30:\tlearn: 0.3843763\ttotal: 35ms\tremaining: 79ms\n",
      "31:\tlearn: 0.3802731\ttotal: 36.2ms\tremaining: 78ms\n",
      "32:\tlearn: 0.3763605\ttotal: 37.3ms\tremaining: 76.8ms\n",
      "33:\tlearn: 0.3725723\ttotal: 38.4ms\tremaining: 75.6ms\n",
      "34:\tlearn: 0.3690125\ttotal: 40.1ms\tremaining: 75.7ms\n",
      "35:\tlearn: 0.3655972\ttotal: 41.1ms\tremaining: 74.3ms\n",
      "36:\tlearn: 0.3623740\ttotal: 42.1ms\tremaining: 72.8ms\n",
      "37:\tlearn: 0.3592797\ttotal: 43ms\tremaining: 71.3ms\n",
      "38:\tlearn: 0.3563147\ttotal: 43.9ms\tremaining: 69.8ms\n",
      "39:\tlearn: 0.3535134\ttotal: 44.8ms\tremaining: 68.4ms\n",
      "40:\tlearn: 0.3507613\ttotal: 45.7ms\tremaining: 66.9ms\n",
      "41:\tlearn: 0.3481499\ttotal: 46.7ms\tremaining: 65.5ms\n",
      "42:\tlearn: 0.3457075\ttotal: 47.6ms\tremaining: 64.2ms\n",
      "43:\tlearn: 0.3433168\ttotal: 48.6ms\tremaining: 62.9ms\n",
      "44:\tlearn: 0.3411094\ttotal: 49.5ms\tremaining: 61.5ms\n",
      "45:\tlearn: 0.3389653\ttotal: 50.5ms\tremaining: 60.4ms\n",
      "46:\tlearn: 0.3369423\ttotal: 51.7ms\tremaining: 59.4ms\n",
      "47:\tlearn: 0.3350256\ttotal: 52.8ms\tremaining: 58.3ms\n",
      "48:\tlearn: 0.3331083\ttotal: 53.8ms\tremaining: 57.1ms\n",
      "49:\tlearn: 0.3313308\ttotal: 54.8ms\tremaining: 55.9ms\n",
      "50:\tlearn: 0.3296357\ttotal: 55.7ms\tremaining: 54.6ms\n",
      "51:\tlearn: 0.3279884\ttotal: 56.8ms\tremaining: 53.5ms\n",
      "52:\tlearn: 0.3264461\ttotal: 57.7ms\tremaining: 52.2ms\n",
      "53:\tlearn: 0.3249162\ttotal: 58.5ms\tremaining: 50.9ms\n",
      "54:\tlearn: 0.3235533\ttotal: 59.4ms\tremaining: 49.7ms\n",
      "55:\tlearn: 0.3222410\ttotal: 60.4ms\tremaining: 48.5ms\n",
      "56:\tlearn: 0.3209060\ttotal: 61.1ms\tremaining: 47.2ms\n",
      "57:\tlearn: 0.3197228\ttotal: 62.1ms\tremaining: 46.1ms\n",
      "58:\tlearn: 0.3185617\ttotal: 63.1ms\tremaining: 44.9ms\n",
      "59:\tlearn: 0.3174553\ttotal: 64ms\tremaining: 43.7ms\n",
      "60:\tlearn: 0.3164166\ttotal: 65ms\tremaining: 42.6ms\n",
      "61:\tlearn: 0.3153587\ttotal: 66ms\tremaining: 41.5ms\n",
      "62:\tlearn: 0.3143529\ttotal: 67.4ms\tremaining: 40.6ms\n",
      "63:\tlearn: 0.3133926\ttotal: 68.3ms\tremaining: 39.5ms\n",
      "64:\tlearn: 0.3124810\ttotal: 69.2ms\tremaining: 38.3ms\n",
      "65:\tlearn: 0.3116917\ttotal: 70.1ms\tremaining: 37.2ms\n",
      "66:\tlearn: 0.3108332\ttotal: 71ms\tremaining: 36ms\n",
      "67:\tlearn: 0.3100148\ttotal: 71.9ms\tremaining: 34.9ms\n",
      "68:\tlearn: 0.3092338\ttotal: 73.1ms\tremaining: 33.9ms\n",
      "69:\tlearn: 0.3085663\ttotal: 74ms\tremaining: 32.8ms\n",
      "70:\tlearn: 0.3079553\ttotal: 74.7ms\tremaining: 31.6ms\n",
      "71:\tlearn: 0.3073478\ttotal: 75.5ms\tremaining: 30.4ms\n",
      "72:\tlearn: 0.3066929\ttotal: 76.3ms\tremaining: 29.3ms\n",
      "73:\tlearn: 0.3061440\ttotal: 77ms\tremaining: 28.1ms\n",
      "74:\tlearn: 0.3056011\ttotal: 77.8ms\tremaining: 27ms\n",
      "75:\tlearn: 0.3050265\ttotal: 78.5ms\tremaining: 25.8ms\n",
      "76:\tlearn: 0.3045778\ttotal: 79.1ms\tremaining: 24.6ms\n",
      "77:\tlearn: 0.3040521\ttotal: 79.7ms\tremaining: 23.5ms\n",
      "78:\tlearn: 0.3035510\ttotal: 80.3ms\tremaining: 22.4ms\n",
      "79:\tlearn: 0.3031226\ttotal: 81.3ms\tremaining: 21.3ms\n",
      "80:\tlearn: 0.3027157\ttotal: 82.4ms\tremaining: 20.4ms\n",
      "81:\tlearn: 0.3022749\ttotal: 83.5ms\tremaining: 19.3ms\n",
      "82:\tlearn: 0.3018997\ttotal: 84.3ms\tremaining: 18.3ms\n",
      "83:\tlearn: 0.3015621\ttotal: 85ms\tremaining: 17.2ms\n",
      "84:\tlearn: 0.3011739\ttotal: 85.8ms\tremaining: 16.1ms\n",
      "85:\tlearn: 0.3008523\ttotal: 86.6ms\tremaining: 15.1ms\n",
      "86:\tlearn: 0.3005694\ttotal: 87.3ms\tremaining: 14.1ms\n",
      "87:\tlearn: 0.3002321\ttotal: 88.1ms\tremaining: 13ms\n",
      "88:\tlearn: 0.2999935\ttotal: 88.8ms\tremaining: 12ms\n",
      "89:\tlearn: 0.2996748\ttotal: 89.6ms\tremaining: 10.9ms\n",
      "90:\tlearn: 0.2994197\ttotal: 90.3ms\tremaining: 9.93ms\n",
      "91:\tlearn: 0.2991302\ttotal: 91ms\tremaining: 8.9ms\n",
      "92:\tlearn: 0.2989272\ttotal: 91.8ms\tremaining: 7.89ms\n",
      "93:\tlearn: 0.2986482\ttotal: 92.4ms\tremaining: 6.88ms\n",
      "94:\tlearn: 0.2983842\ttotal: 93.1ms\tremaining: 5.88ms\n",
      "95:\tlearn: 0.2981325\ttotal: 93.8ms\tremaining: 4.89ms\n",
      "96:\tlearn: 0.2979527\ttotal: 94.5ms\tremaining: 3.9ms\n",
      "97:\tlearn: 0.2977825\ttotal: 95.5ms\tremaining: 2.92ms\n",
      "98:\tlearn: 0.2975922\ttotal: 96.8ms\tremaining: 1.96ms\n",
      "99:\tlearn: 0.2974458\ttotal: 98.3ms\tremaining: 982us\n",
      "100:\tlearn: 0.2972349\ttotal: 99.1ms\tremaining: 0us\n",
      "0:\tlearn: 0.6288162\ttotal: 1.01ms\tremaining: 101ms\n",
      "1:\tlearn: 0.5764212\ttotal: 2ms\tremaining: 99.2ms\n",
      "2:\tlearn: 0.5331376\ttotal: 2.97ms\tremaining: 97.2ms\n",
      "3:\tlearn: 0.4970231\ttotal: 3.81ms\tremaining: 92.5ms\n",
      "4:\tlearn: 0.4666540\ttotal: 4.64ms\tremaining: 89.1ms\n",
      "5:\tlearn: 0.4410771\ttotal: 5.49ms\tremaining: 86.9ms\n",
      "6:\tlearn: 0.4193936\ttotal: 6.46ms\tremaining: 86.8ms\n",
      "7:\tlearn: 0.4010058\ttotal: 7.29ms\tremaining: 84.8ms\n",
      "8:\tlearn: 0.3853539\ttotal: 8.11ms\tremaining: 82.9ms\n",
      "9:\tlearn: 0.3720553\ttotal: 8.89ms\tremaining: 80.9ms\n",
      "10:\tlearn: 0.3606909\ttotal: 9.66ms\tremaining: 79.1ms\n",
      "11:\tlearn: 0.3510548\ttotal: 10.4ms\tremaining: 77.3ms\n",
      "12:\tlearn: 0.3427413\ttotal: 11.2ms\tremaining: 75.5ms\n",
      "13:\tlearn: 0.3356320\ttotal: 11.9ms\tremaining: 73.9ms\n",
      "14:\tlearn: 0.3297098\ttotal: 13.3ms\tremaining: 76.3ms\n",
      "15:\tlearn: 0.3245696\ttotal: 14.5ms\tremaining: 76.9ms\n",
      "16:\tlearn: 0.3203085\ttotal: 15.6ms\tremaining: 77.2ms\n",
      "17:\tlearn: 0.3167076\ttotal: 16.5ms\tremaining: 76ms\n",
      "18:\tlearn: 0.3134553\ttotal: 17.2ms\tremaining: 74.4ms\n",
      "19:\tlearn: 0.3108971\ttotal: 18ms\tremaining: 72.9ms\n",
      "20:\tlearn: 0.3085417\ttotal: 18.8ms\tremaining: 71.7ms\n",
      "21:\tlearn: 0.3066114\ttotal: 19.7ms\tremaining: 70.8ms\n",
      "22:\tlearn: 0.3048972\ttotal: 20.6ms\tremaining: 69.7ms\n",
      "23:\tlearn: 0.3036322\ttotal: 21.4ms\tremaining: 68.7ms\n",
      "24:\tlearn: 0.3024996\ttotal: 22.2ms\tremaining: 67.5ms\n",
      "25:\tlearn: 0.3016159\ttotal: 22.9ms\tremaining: 66.2ms\n",
      "26:\tlearn: 0.3008822\ttotal: 23.8ms\tremaining: 65.2ms\n",
      "27:\tlearn: 0.3001647\ttotal: 24.5ms\tremaining: 63.9ms\n",
      "28:\tlearn: 0.2995094\ttotal: 25.3ms\tremaining: 62.8ms\n",
      "29:\tlearn: 0.2989413\ttotal: 27ms\tremaining: 63.8ms\n",
      "30:\tlearn: 0.2984519\ttotal: 28.2ms\tremaining: 63.7ms\n",
      "31:\tlearn: 0.2980732\ttotal: 29.5ms\tremaining: 63.5ms\n",
      "32:\tlearn: 0.2975960\ttotal: 30.3ms\tremaining: 62.4ms\n",
      "33:\tlearn: 0.2972421\ttotal: 31ms\tremaining: 61.2ms\n",
      "34:\tlearn: 0.2968710\ttotal: 31.8ms\tremaining: 60ms\n",
      "35:\tlearn: 0.2965585\ttotal: 32.7ms\tremaining: 59ms\n",
      "36:\tlearn: 0.2963250\ttotal: 33.5ms\tremaining: 58ms\n",
      "37:\tlearn: 0.2961061\ttotal: 34.4ms\tremaining: 57.1ms\n",
      "38:\tlearn: 0.2958505\ttotal: 35.3ms\tremaining: 56.1ms\n",
      "39:\tlearn: 0.2956839\ttotal: 36ms\tremaining: 55ms\n",
      "40:\tlearn: 0.2954747\ttotal: 36.8ms\tremaining: 53.9ms\n",
      "41:\tlearn: 0.2953136\ttotal: 37.6ms\tremaining: 52.8ms\n",
      "42:\tlearn: 0.2952268\ttotal: 38.3ms\tremaining: 51.7ms\n",
      "43:\tlearn: 0.2950807\ttotal: 39ms\tremaining: 50.6ms\n",
      "44:\tlearn: 0.2949492\ttotal: 39.8ms\tremaining: 49.5ms\n",
      "45:\tlearn: 0.2948026\ttotal: 41.1ms\tremaining: 49.2ms\n",
      "46:\tlearn: 0.2947112\ttotal: 42.4ms\tremaining: 48.7ms\n",
      "47:\tlearn: 0.2946448\ttotal: 43.6ms\tremaining: 48.2ms\n",
      "48:\tlearn: 0.2944961\ttotal: 44.5ms\tremaining: 47.2ms\n",
      "49:\tlearn: 0.2943997\ttotal: 45.3ms\tremaining: 46.2ms\n",
      "50:\tlearn: 0.2943211\ttotal: 46.2ms\tremaining: 45.3ms\n",
      "51:\tlearn: 0.2942205\ttotal: 47ms\tremaining: 44.3ms\n",
      "52:\tlearn: 0.2941589\ttotal: 47.9ms\tremaining: 43.3ms\n",
      "53:\tlearn: 0.2940406\ttotal: 48.8ms\tremaining: 42.4ms\n",
      "54:\tlearn: 0.2939742\ttotal: 49.6ms\tremaining: 41.4ms\n",
      "55:\tlearn: 0.2939084\ttotal: 50.4ms\tremaining: 40.5ms\n",
      "56:\tlearn: 0.2938121\ttotal: 51.2ms\tremaining: 39.5ms\n",
      "57:\tlearn: 0.2937525\ttotal: 52ms\tremaining: 38.5ms\n",
      "58:\tlearn: 0.2937031\ttotal: 52.7ms\tremaining: 37.5ms\n",
      "59:\tlearn: 0.2936563\ttotal: 53.4ms\tremaining: 36.5ms\n",
      "60:\tlearn: 0.2935945\ttotal: 54.2ms\tremaining: 35.6ms\n",
      "61:\tlearn: 0.2935467\ttotal: 55.3ms\tremaining: 34.8ms\n",
      "62:\tlearn: 0.2934685\ttotal: 56.8ms\tremaining: 34.2ms\n",
      "63:\tlearn: 0.2933976\ttotal: 57.8ms\tremaining: 33.4ms\n",
      "64:\tlearn: 0.2933204\ttotal: 58.6ms\tremaining: 32.5ms\n",
      "65:\tlearn: 0.2932436\ttotal: 59.4ms\tremaining: 31.5ms\n",
      "66:\tlearn: 0.2931806\ttotal: 60.1ms\tremaining: 30.5ms\n",
      "67:\tlearn: 0.2931132\ttotal: 61ms\tremaining: 29.6ms\n",
      "68:\tlearn: 0.2930599\ttotal: 61.8ms\tremaining: 28.7ms\n",
      "69:\tlearn: 0.2930165\ttotal: 62.6ms\tremaining: 27.7ms\n",
      "70:\tlearn: 0.2929801\ttotal: 63.3ms\tremaining: 26.8ms\n",
      "71:\tlearn: 0.2929364\ttotal: 64.1ms\tremaining: 25.8ms\n",
      "72:\tlearn: 0.2928692\ttotal: 64.9ms\tremaining: 24.9ms\n",
      "73:\tlearn: 0.2928317\ttotal: 65.6ms\tremaining: 23.9ms\n",
      "74:\tlearn: 0.2927968\ttotal: 66.4ms\tremaining: 23ms\n",
      "75:\tlearn: 0.2927717\ttotal: 67.1ms\tremaining: 22.1ms\n",
      "76:\tlearn: 0.2927228\ttotal: 67.9ms\tremaining: 21.2ms\n",
      "77:\tlearn: 0.2926868\ttotal: 68.6ms\tremaining: 20.2ms\n",
      "78:\tlearn: 0.2926576\ttotal: 69.6ms\tremaining: 19.4ms\n",
      "79:\tlearn: 0.2926174\ttotal: 71.3ms\tremaining: 18.7ms\n",
      "80:\tlearn: 0.2925903\ttotal: 72.3ms\tremaining: 17.8ms\n",
      "81:\tlearn: 0.2925575\ttotal: 73.3ms\tremaining: 17ms\n",
      "82:\tlearn: 0.2924955\ttotal: 74.2ms\tremaining: 16.1ms\n",
      "83:\tlearn: 0.2924645\ttotal: 75.1ms\tremaining: 15.2ms\n",
      "84:\tlearn: 0.2924405\ttotal: 75.9ms\tremaining: 14.3ms\n",
      "85:\tlearn: 0.2923963\ttotal: 76.6ms\tremaining: 13.4ms\n",
      "86:\tlearn: 0.2923747\ttotal: 77.4ms\tremaining: 12.4ms\n",
      "87:\tlearn: 0.2923497\ttotal: 78.1ms\tremaining: 11.5ms\n",
      "88:\tlearn: 0.2923114\ttotal: 78.8ms\tremaining: 10.6ms\n",
      "89:\tlearn: 0.2922937\ttotal: 79.5ms\tremaining: 9.72ms\n",
      "90:\tlearn: 0.2922719\ttotal: 80.3ms\tremaining: 8.82ms\n",
      "91:\tlearn: 0.2922457\ttotal: 81ms\tremaining: 7.92ms\n",
      "92:\tlearn: 0.2922168\ttotal: 81.9ms\tremaining: 7.04ms\n",
      "93:\tlearn: 0.2921830\ttotal: 82.6ms\tremaining: 6.15ms\n",
      "94:\tlearn: 0.2921445\ttotal: 83.6ms\tremaining: 5.28ms\n",
      "95:\tlearn: 0.2921320\ttotal: 84.4ms\tremaining: 4.4ms\n",
      "96:\tlearn: 0.2921066\ttotal: 85.2ms\tremaining: 3.51ms\n",
      "97:\tlearn: 0.2920817\ttotal: 86ms\tremaining: 2.63ms\n",
      "98:\tlearn: 0.2920591\ttotal: 86.7ms\tremaining: 1.75ms\n",
      "99:\tlearn: 0.2920428\ttotal: 87.4ms\tremaining: 874us\n",
      "100:\tlearn: 0.2920141\ttotal: 88.2ms\tremaining: 0us\n",
      "0:\tlearn: 0.6288470\ttotal: 861us\tremaining: 86.1ms\n",
      "1:\tlearn: 0.5764873\ttotal: 1.86ms\tremaining: 92ms\n",
      "2:\tlearn: 0.5332120\ttotal: 2.91ms\tremaining: 95.2ms\n",
      "3:\tlearn: 0.4971489\ttotal: 3.81ms\tremaining: 92.4ms\n",
      "4:\tlearn: 0.4667680\ttotal: 5.32ms\tremaining: 102ms\n",
      "5:\tlearn: 0.4412100\ttotal: 6.63ms\tremaining: 105ms\n",
      "6:\tlearn: 0.4195319\ttotal: 7.76ms\tremaining: 104ms\n",
      "7:\tlearn: 0.4011571\ttotal: 8.72ms\tremaining: 101ms\n",
      "8:\tlearn: 0.3855200\ttotal: 10ms\tremaining: 102ms\n",
      "9:\tlearn: 0.3722397\ttotal: 11.1ms\tremaining: 101ms\n",
      "10:\tlearn: 0.3609037\ttotal: 12.4ms\tremaining: 102ms\n",
      "11:\tlearn: 0.3512813\ttotal: 13.4ms\tremaining: 99.6ms\n",
      "12:\tlearn: 0.3429735\ttotal: 14.7ms\tremaining: 99.3ms\n",
      "13:\tlearn: 0.3357825\ttotal: 15.7ms\tremaining: 97.3ms\n",
      "14:\tlearn: 0.3298397\ttotal: 16.7ms\tremaining: 95.9ms\n",
      "15:\tlearn: 0.3247045\ttotal: 17.8ms\tremaining: 94.4ms\n",
      "16:\tlearn: 0.3204560\ttotal: 18.7ms\tremaining: 92.5ms\n",
      "17:\tlearn: 0.3168423\ttotal: 19.6ms\tremaining: 90.3ms\n",
      "18:\tlearn: 0.3135572\ttotal: 20.5ms\tremaining: 88.3ms\n",
      "19:\tlearn: 0.3109962\ttotal: 21.3ms\tremaining: 86.4ms\n",
      "20:\tlearn: 0.3086069\ttotal: 22.2ms\tremaining: 84.7ms\n",
      "21:\tlearn: 0.3067417\ttotal: 23.1ms\tremaining: 83ms\n",
      "22:\tlearn: 0.3050246\ttotal: 24ms\tremaining: 81.4ms\n",
      "23:\tlearn: 0.3037625\ttotal: 25.1ms\tremaining: 80.6ms\n",
      "24:\tlearn: 0.3026399\ttotal: 26.2ms\tremaining: 79.6ms\n",
      "25:\tlearn: 0.3017611\ttotal: 27.1ms\tremaining: 78.2ms\n",
      "26:\tlearn: 0.3009931\ttotal: 28ms\tremaining: 76.8ms\n",
      "27:\tlearn: 0.3001244\ttotal: 28.9ms\tremaining: 75.3ms\n",
      "28:\tlearn: 0.2993896\ttotal: 29.8ms\tremaining: 73.9ms\n",
      "29:\tlearn: 0.2988181\ttotal: 30.6ms\tremaining: 72.5ms\n",
      "30:\tlearn: 0.2984712\ttotal: 31.5ms\tremaining: 71.2ms\n",
      "31:\tlearn: 0.2979313\ttotal: 32.4ms\tremaining: 69.8ms\n",
      "32:\tlearn: 0.2974468\ttotal: 33.3ms\tremaining: 68.6ms\n",
      "33:\tlearn: 0.2970850\ttotal: 34.2ms\tremaining: 67.4ms\n",
      "34:\tlearn: 0.2967061\ttotal: 35ms\tremaining: 66ms\n",
      "35:\tlearn: 0.2963859\ttotal: 35.8ms\tremaining: 64.5ms\n",
      "36:\tlearn: 0.2962771\ttotal: 36.5ms\tremaining: 63.1ms\n",
      "37:\tlearn: 0.2960950\ttotal: 37.2ms\tremaining: 61.7ms\n",
      "38:\tlearn: 0.2958046\ttotal: 37.9ms\tremaining: 60.2ms\n",
      "39:\tlearn: 0.2956120\ttotal: 38.8ms\tremaining: 59.1ms\n",
      "40:\tlearn: 0.2954008\ttotal: 39.6ms\tremaining: 57.9ms\n",
      "41:\tlearn: 0.2952434\ttotal: 40.3ms\tremaining: 56.6ms\n",
      "42:\tlearn: 0.2950990\ttotal: 41ms\tremaining: 55.3ms\n",
      "43:\tlearn: 0.2949548\ttotal: 41.7ms\tremaining: 54ms\n",
      "44:\tlearn: 0.2948403\ttotal: 42.4ms\tremaining: 52.8ms\n",
      "45:\tlearn: 0.2946648\ttotal: 43.3ms\tremaining: 51.8ms\n",
      "46:\tlearn: 0.2945369\ttotal: 44.1ms\tremaining: 50.7ms\n",
      "47:\tlearn: 0.2943494\ttotal: 45ms\tremaining: 49.7ms\n",
      "48:\tlearn: 0.2941924\ttotal: 46ms\tremaining: 48.8ms\n",
      "49:\tlearn: 0.2940812\ttotal: 46.8ms\tremaining: 47.8ms\n",
      "50:\tlearn: 0.2939907\ttotal: 47.7ms\tremaining: 46.7ms\n",
      "51:\tlearn: 0.2938910\ttotal: 48.4ms\tremaining: 45.6ms\n",
      "52:\tlearn: 0.2938191\ttotal: 49.2ms\tremaining: 44.5ms\n",
      "53:\tlearn: 0.2936938\ttotal: 50ms\tremaining: 43.5ms\n",
      "54:\tlearn: 0.2936308\ttotal: 51ms\tremaining: 42.6ms\n",
      "55:\tlearn: 0.2936248\ttotal: 51.8ms\tremaining: 41.6ms\n",
      "56:\tlearn: 0.2935349\ttotal: 52.9ms\tremaining: 40.8ms\n",
      "57:\tlearn: 0.2934926\ttotal: 54.2ms\tremaining: 40.2ms\n",
      "58:\tlearn: 0.2934355\ttotal: 55.1ms\tremaining: 39.2ms\n",
      "59:\tlearn: 0.2933888\ttotal: 55.9ms\tremaining: 38.2ms\n",
      "60:\tlearn: 0.2933849\ttotal: 56.7ms\tremaining: 37.2ms\n",
      "61:\tlearn: 0.2932942\ttotal: 57.6ms\tremaining: 36.2ms\n",
      "62:\tlearn: 0.2932900\ttotal: 58.4ms\tremaining: 35.2ms\n",
      "63:\tlearn: 0.2932069\ttotal: 59.2ms\tremaining: 34.2ms\n",
      "64:\tlearn: 0.2931585\ttotal: 59.9ms\tremaining: 33.2ms\n",
      "65:\tlearn: 0.2931245\ttotal: 60.6ms\tremaining: 32.2ms\n",
      "66:\tlearn: 0.2930232\ttotal: 61.5ms\tremaining: 31.2ms\n",
      "67:\tlearn: 0.2930199\ttotal: 62.3ms\tremaining: 30.2ms\n",
      "68:\tlearn: 0.2929358\ttotal: 63ms\tremaining: 29.2ms\n",
      "69:\tlearn: 0.2928665\ttotal: 63.7ms\tremaining: 28.2ms\n",
      "70:\tlearn: 0.2927997\ttotal: 64.5ms\tremaining: 27.3ms\n",
      "71:\tlearn: 0.2927389\ttotal: 65.5ms\tremaining: 26.4ms\n",
      "72:\tlearn: 0.2927356\ttotal: 66.4ms\tremaining: 25.5ms\n",
      "73:\tlearn: 0.2926808\ttotal: 67.5ms\tremaining: 24.6ms\n",
      "74:\tlearn: 0.2926478\ttotal: 68.4ms\tremaining: 23.7ms\n",
      "75:\tlearn: 0.2926444\ttotal: 69.3ms\tremaining: 22.8ms\n",
      "76:\tlearn: 0.2926415\ttotal: 70.2ms\tremaining: 21.9ms\n",
      "77:\tlearn: 0.2925852\ttotal: 71.2ms\tremaining: 21ms\n",
      "78:\tlearn: 0.2925394\ttotal: 72.1ms\tremaining: 20.1ms\n",
      "79:\tlearn: 0.2925362\ttotal: 73.1ms\tremaining: 19.2ms\n",
      "80:\tlearn: 0.2924940\ttotal: 74.2ms\tremaining: 18.3ms\n",
      "81:\tlearn: 0.2924911\ttotal: 75.1ms\tremaining: 17.4ms\n",
      "82:\tlearn: 0.2924879\ttotal: 76.1ms\tremaining: 16.5ms\n",
      "83:\tlearn: 0.2924420\ttotal: 77.1ms\tremaining: 15.6ms\n",
      "84:\tlearn: 0.2924062\ttotal: 78.1ms\tremaining: 14.7ms\n",
      "85:\tlearn: 0.2924034\ttotal: 79.1ms\tremaining: 13.8ms\n",
      "86:\tlearn: 0.2924001\ttotal: 80.2ms\tremaining: 12.9ms\n",
      "87:\tlearn: 0.2923973\ttotal: 81.3ms\tremaining: 12ms\n",
      "88:\tlearn: 0.2923944\ttotal: 82.5ms\tremaining: 11.1ms\n",
      "89:\tlearn: 0.2923647\ttotal: 83.6ms\tremaining: 10.2ms\n",
      "90:\tlearn: 0.2923388\ttotal: 84.5ms\tremaining: 9.28ms\n",
      "91:\tlearn: 0.2922754\ttotal: 85.5ms\tremaining: 8.36ms\n",
      "92:\tlearn: 0.2922722\ttotal: 86.7ms\tremaining: 7.46ms\n",
      "93:\tlearn: 0.2922693\ttotal: 88.6ms\tremaining: 6.6ms\n",
      "94:\tlearn: 0.2922663\ttotal: 89.7ms\tremaining: 5.67ms\n",
      "95:\tlearn: 0.2922637\ttotal: 90.7ms\tremaining: 4.73ms\n",
      "96:\tlearn: 0.2922608\ttotal: 91.8ms\tremaining: 3.79ms\n",
      "97:\tlearn: 0.2922165\ttotal: 92.9ms\tremaining: 2.84ms\n",
      "98:\tlearn: 0.2922137\ttotal: 93.8ms\tremaining: 1.89ms\n",
      "99:\tlearn: 0.2922111\ttotal: 94.8ms\tremaining: 947us\n",
      "100:\tlearn: 0.2922082\ttotal: 95.9ms\tremaining: 0us\n",
      "0:\tlearn: 0.6288361\ttotal: 918us\tremaining: 91.8ms\n",
      "1:\tlearn: 0.5764422\ttotal: 1.99ms\tremaining: 98.5ms\n",
      "2:\tlearn: 0.5331668\ttotal: 3.15ms\tremaining: 103ms\n",
      "3:\tlearn: 0.4971217\ttotal: 4.27ms\tremaining: 104ms\n",
      "4:\tlearn: 0.4667066\ttotal: 5.24ms\tremaining: 101ms\n",
      "5:\tlearn: 0.4411385\ttotal: 6.21ms\tremaining: 98.3ms\n",
      "6:\tlearn: 0.4194891\ttotal: 7.07ms\tremaining: 94.9ms\n",
      "7:\tlearn: 0.4010650\ttotal: 7.85ms\tremaining: 91.3ms\n",
      "8:\tlearn: 0.3853872\ttotal: 8.65ms\tremaining: 88.4ms\n",
      "9:\tlearn: 0.3720560\ttotal: 9.42ms\tremaining: 85.7ms\n",
      "10:\tlearn: 0.3607513\ttotal: 10.2ms\tremaining: 83.1ms\n",
      "11:\tlearn: 0.3511233\ttotal: 10.9ms\tremaining: 81.2ms\n",
      "12:\tlearn: 0.3427986\ttotal: 11.7ms\tremaining: 79.4ms\n",
      "13:\tlearn: 0.3355315\ttotal: 12.5ms\tremaining: 77.6ms\n",
      "14:\tlearn: 0.3295906\ttotal: 13.2ms\tremaining: 75.9ms\n",
      "15:\tlearn: 0.3244402\ttotal: 14ms\tremaining: 74.4ms\n",
      "16:\tlearn: 0.3201849\ttotal: 14.7ms\tremaining: 72.7ms\n",
      "17:\tlearn: 0.3164987\ttotal: 15.4ms\tremaining: 71.2ms\n",
      "18:\tlearn: 0.3130850\ttotal: 16.3ms\tremaining: 70.4ms\n",
      "19:\tlearn: 0.3101785\ttotal: 17.3ms\tremaining: 70.2ms\n",
      "20:\tlearn: 0.3077059\ttotal: 18.5ms\tremaining: 70.4ms\n",
      "21:\tlearn: 0.3058225\ttotal: 19.3ms\tremaining: 69.4ms\n",
      "22:\tlearn: 0.3039945\ttotal: 20.1ms\tremaining: 68ms\n",
      "23:\tlearn: 0.3027294\ttotal: 20.7ms\tremaining: 66.6ms\n",
      "24:\tlearn: 0.3015696\ttotal: 21.5ms\tremaining: 65.2ms\n",
      "25:\tlearn: 0.3005233\ttotal: 22.2ms\tremaining: 64ms\n",
      "26:\tlearn: 0.2994496\ttotal: 22.9ms\tremaining: 62.8ms\n",
      "27:\tlearn: 0.2986970\ttotal: 23.6ms\tremaining: 61.6ms\n",
      "28:\tlearn: 0.2978807\ttotal: 24.3ms\tremaining: 60.4ms\n",
      "29:\tlearn: 0.2972934\ttotal: 25ms\tremaining: 59.2ms\n",
      "30:\tlearn: 0.2966068\ttotal: 25.8ms\tremaining: 58.3ms\n",
      "31:\tlearn: 0.2959975\ttotal: 26.6ms\tremaining: 57.3ms\n",
      "32:\tlearn: 0.2954761\ttotal: 27.3ms\tremaining: 56.3ms\n",
      "33:\tlearn: 0.2950029\ttotal: 28ms\tremaining: 55.1ms\n",
      "34:\tlearn: 0.2945457\ttotal: 28.6ms\tremaining: 53.9ms\n",
      "35:\tlearn: 0.2941572\ttotal: 29.2ms\tremaining: 52.8ms\n",
      "36:\tlearn: 0.2939221\ttotal: 29.9ms\tremaining: 51.7ms\n",
      "37:\tlearn: 0.2936908\ttotal: 30.5ms\tremaining: 50.6ms\n",
      "38:\tlearn: 0.2933866\ttotal: 31.2ms\tremaining: 49.5ms\n",
      "39:\tlearn: 0.2932104\ttotal: 32ms\tremaining: 48.7ms\n",
      "40:\tlearn: 0.2929548\ttotal: 32.7ms\tremaining: 47.9ms\n",
      "41:\tlearn: 0.2927127\ttotal: 33.4ms\tremaining: 46.9ms\n",
      "42:\tlearn: 0.2926163\ttotal: 34.1ms\tremaining: 46ms\n",
      "43:\tlearn: 0.2924471\ttotal: 34.8ms\tremaining: 45.1ms\n",
      "44:\tlearn: 0.2923408\ttotal: 35.5ms\tremaining: 44.2ms\n",
      "45:\tlearn: 0.2921105\ttotal: 36.2ms\tremaining: 43.3ms\n",
      "46:\tlearn: 0.2920219\ttotal: 36.8ms\tremaining: 42.3ms\n",
      "47:\tlearn: 0.2917754\ttotal: 37.5ms\tremaining: 41.4ms\n",
      "48:\tlearn: 0.2915687\ttotal: 38.2ms\tremaining: 40.5ms\n",
      "49:\tlearn: 0.2914642\ttotal: 38.9ms\tremaining: 39.7ms\n",
      "50:\tlearn: 0.2913792\ttotal: 39.6ms\tremaining: 38.8ms\n",
      "51:\tlearn: 0.2912561\ttotal: 40.3ms\tremaining: 38ms\n",
      "52:\tlearn: 0.2911884\ttotal: 41ms\tremaining: 37.1ms\n",
      "53:\tlearn: 0.2910207\ttotal: 41.7ms\tremaining: 36.3ms\n",
      "54:\tlearn: 0.2909019\ttotal: 42.4ms\tremaining: 35.4ms\n",
      "55:\tlearn: 0.2907716\ttotal: 43ms\tremaining: 34.6ms\n",
      "56:\tlearn: 0.2906317\ttotal: 43.7ms\tremaining: 33.7ms\n",
      "57:\tlearn: 0.2906117\ttotal: 44.4ms\tremaining: 32.9ms\n",
      "58:\tlearn: 0.2905613\ttotal: 45.1ms\tremaining: 32.1ms\n",
      "59:\tlearn: 0.2905568\ttotal: 45.8ms\tremaining: 31.3ms\n",
      "60:\tlearn: 0.2905528\ttotal: 46.7ms\tremaining: 30.6ms\n",
      "61:\tlearn: 0.2904650\ttotal: 47.4ms\tremaining: 29.8ms\n",
      "62:\tlearn: 0.2904610\ttotal: 48.1ms\tremaining: 29ms\n",
      "63:\tlearn: 0.2903589\ttotal: 48.9ms\tremaining: 28.2ms\n",
      "64:\tlearn: 0.2903157\ttotal: 49.6ms\tremaining: 27.5ms\n",
      "65:\tlearn: 0.2902401\ttotal: 50.3ms\tremaining: 26.7ms\n",
      "66:\tlearn: 0.2901250\ttotal: 51ms\tremaining: 25.9ms\n",
      "67:\tlearn: 0.2901217\ttotal: 51.7ms\tremaining: 25.1ms\n",
      "68:\tlearn: 0.2900700\ttotal: 52.4ms\tremaining: 24.3ms\n",
      "69:\tlearn: 0.2900273\ttotal: 53.1ms\tremaining: 23.5ms\n",
      "70:\tlearn: 0.2899781\ttotal: 53.8ms\tremaining: 22.7ms\n",
      "71:\tlearn: 0.2899192\ttotal: 54.5ms\tremaining: 22ms\n",
      "72:\tlearn: 0.2899161\ttotal: 55.2ms\tremaining: 21.2ms\n",
      "73:\tlearn: 0.2899130\ttotal: 55.9ms\tremaining: 20.4ms\n",
      "74:\tlearn: 0.2898761\ttotal: 56.6ms\tremaining: 19.6ms\n",
      "75:\tlearn: 0.2898731\ttotal: 57.3ms\tremaining: 18.9ms\n",
      "76:\tlearn: 0.2897810\ttotal: 58ms\tremaining: 18.1ms\n",
      "77:\tlearn: 0.2897049\ttotal: 58.8ms\tremaining: 17.3ms\n",
      "78:\tlearn: 0.2896419\ttotal: 59.5ms\tremaining: 16.6ms\n",
      "79:\tlearn: 0.2896389\ttotal: 60.2ms\tremaining: 15.8ms\n",
      "80:\tlearn: 0.2895823\ttotal: 60.9ms\tremaining: 15ms\n",
      "81:\tlearn: 0.2895795\ttotal: 61.6ms\tremaining: 14.3ms\n",
      "82:\tlearn: 0.2895761\ttotal: 62.3ms\tremaining: 13.5ms\n",
      "83:\tlearn: 0.2895110\ttotal: 63ms\tremaining: 12.7ms\n",
      "84:\tlearn: 0.2894595\ttotal: 63.7ms\tremaining: 12ms\n",
      "85:\tlearn: 0.2894567\ttotal: 64.4ms\tremaining: 11.2ms\n",
      "86:\tlearn: 0.2894112\ttotal: 65ms\tremaining: 10.5ms\n",
      "87:\tlearn: 0.2894081\ttotal: 65.8ms\tremaining: 9.71ms\n",
      "88:\tlearn: 0.2893689\ttotal: 66.5ms\tremaining: 8.96ms\n",
      "89:\tlearn: 0.2893367\ttotal: 67.2ms\tremaining: 8.21ms\n",
      "90:\tlearn: 0.2892813\ttotal: 67.9ms\tremaining: 7.46ms\n",
      "91:\tlearn: 0.2892780\ttotal: 68.6ms\tremaining: 6.71ms\n",
      "92:\tlearn: 0.2892569\ttotal: 69.4ms\tremaining: 5.97ms\n",
      "93:\tlearn: 0.2892539\ttotal: 70.1ms\tremaining: 5.22ms\n",
      "94:\tlearn: 0.2892508\ttotal: 70.8ms\tremaining: 4.47ms\n",
      "95:\tlearn: 0.2892478\ttotal: 71.5ms\tremaining: 3.73ms\n",
      "96:\tlearn: 0.2892450\ttotal: 72.2ms\tremaining: 2.98ms\n",
      "97:\tlearn: 0.2892001\ttotal: 72.9ms\tremaining: 2.23ms\n",
      "98:\tlearn: 0.2891974\ttotal: 73.6ms\tremaining: 1.49ms\n",
      "99:\tlearn: 0.2891944\ttotal: 74.3ms\tremaining: 743us\n",
      "100:\tlearn: 0.2891916\ttotal: 75ms\tremaining: 0us\n",
      "0:\tlearn: 0.6731207\ttotal: 2.37ms\tremaining: 21.3ms\n",
      "1:\tlearn: 0.6543046\ttotal: 4.3ms\tremaining: 17.2ms\n",
      "2:\tlearn: 0.6365566\ttotal: 6.2ms\tremaining: 14.5ms\n",
      "3:\tlearn: 0.6198283\ttotal: 7.99ms\tremaining: 12ms\n",
      "4:\tlearn: 0.6040112\ttotal: 9.4ms\tremaining: 9.4ms\n",
      "5:\tlearn: 0.5890752\ttotal: 10.9ms\tremaining: 7.25ms\n",
      "6:\tlearn: 0.5749363\ttotal: 12.4ms\tremaining: 5.3ms\n",
      "7:\tlearn: 0.5615519\ttotal: 13.9ms\tremaining: 3.47ms\n",
      "8:\tlearn: 0.5488680\ttotal: 15.1ms\tremaining: 1.67ms\n",
      "9:\tlearn: 0.5368474\ttotal: 16.3ms\tremaining: 0us\n",
      "0:\tlearn: 0.6731313\ttotal: 948us\tremaining: 8.53ms\n",
      "1:\tlearn: 0.6543383\ttotal: 2.42ms\tremaining: 9.67ms\n",
      "2:\tlearn: 0.6365946\ttotal: 3.35ms\tremaining: 7.81ms\n",
      "3:\tlearn: 0.6198691\ttotal: 4.49ms\tremaining: 6.74ms\n",
      "4:\tlearn: 0.6040522\ttotal: 5.59ms\tremaining: 5.59ms\n",
      "5:\tlearn: 0.5891213\ttotal: 6.59ms\tremaining: 4.39ms\n",
      "6:\tlearn: 0.5749936\ttotal: 7.65ms\tremaining: 3.28ms\n",
      "7:\tlearn: 0.5616165\ttotal: 8.48ms\tremaining: 2.12ms\n",
      "8:\tlearn: 0.5489419\ttotal: 9.41ms\tremaining: 1.04ms\n",
      "9:\tlearn: 0.5369339\ttotal: 10.2ms\tremaining: 0us\n",
      "0:\tlearn: 0.6731337\ttotal: 718us\tremaining: 6.47ms\n",
      "1:\tlearn: 0.6543143\ttotal: 1.61ms\tremaining: 6.45ms\n",
      "2:\tlearn: 0.6365846\ttotal: 2.43ms\tremaining: 5.67ms\n",
      "3:\tlearn: 0.6198619\ttotal: 3.21ms\tremaining: 4.81ms\n",
      "4:\tlearn: 0.6040365\ttotal: 3.97ms\tremaining: 3.97ms\n",
      "5:\tlearn: 0.5891071\ttotal: 4.72ms\tremaining: 3.14ms\n",
      "6:\tlearn: 0.5749714\ttotal: 5.61ms\tremaining: 2.4ms\n",
      "7:\tlearn: 0.5615929\ttotal: 6.77ms\tremaining: 1.69ms\n",
      "8:\tlearn: 0.5489088\ttotal: 7.67ms\tremaining: 852us\n",
      "9:\tlearn: 0.5368879\ttotal: 8.52ms\tremaining: 0us\n",
      "0:\tlearn: 0.6288162\ttotal: 645us\tremaining: 5.81ms\n",
      "1:\tlearn: 0.5764212\ttotal: 1.35ms\tremaining: 5.42ms\n",
      "2:\tlearn: 0.5331376\ttotal: 2.05ms\tremaining: 4.78ms\n",
      "3:\tlearn: 0.4970231\ttotal: 2.86ms\tremaining: 4.29ms\n",
      "4:\tlearn: 0.4666540\ttotal: 3.98ms\tremaining: 3.98ms\n",
      "5:\tlearn: 0.4410771\ttotal: 4.8ms\tremaining: 3.2ms\n",
      "6:\tlearn: 0.4193936\ttotal: 5.49ms\tremaining: 2.35ms\n",
      "7:\tlearn: 0.4010058\ttotal: 6.24ms\tremaining: 1.56ms\n",
      "8:\tlearn: 0.3853539\ttotal: 6.91ms\tremaining: 767us\n",
      "9:\tlearn: 0.3720553\ttotal: 7.6ms\tremaining: 0us\n",
      "0:\tlearn: 0.6288470\ttotal: 948us\tremaining: 8.54ms\n",
      "1:\tlearn: 0.5764873\ttotal: 1.88ms\tremaining: 7.51ms\n",
      "2:\tlearn: 0.5332120\ttotal: 2.83ms\tremaining: 6.61ms\n",
      "3:\tlearn: 0.4971489\ttotal: 3.73ms\tremaining: 5.59ms\n",
      "4:\tlearn: 0.4667680\ttotal: 4.93ms\tremaining: 4.93ms\n",
      "5:\tlearn: 0.4412100\ttotal: 6.07ms\tremaining: 4.05ms\n",
      "6:\tlearn: 0.4195319\ttotal: 7.05ms\tremaining: 3.02ms\n",
      "7:\tlearn: 0.4011571\ttotal: 7.79ms\tremaining: 1.95ms\n",
      "8:\tlearn: 0.3855200\ttotal: 8.63ms\tremaining: 959us\n",
      "9:\tlearn: 0.3722397\ttotal: 9.43ms\tremaining: 0us\n",
      "0:\tlearn: 0.6288361\ttotal: 699us\tremaining: 6.3ms\n",
      "1:\tlearn: 0.5764422\ttotal: 1.66ms\tremaining: 6.64ms\n",
      "2:\tlearn: 0.5331668\ttotal: 2.46ms\tremaining: 5.75ms\n",
      "3:\tlearn: 0.4971217\ttotal: 3.25ms\tremaining: 4.87ms\n",
      "4:\tlearn: 0.4667066\ttotal: 4ms\tremaining: 4ms\n",
      "5:\tlearn: 0.4411385\ttotal: 5.06ms\tremaining: 3.38ms\n",
      "6:\tlearn: 0.4194891\ttotal: 5.98ms\tremaining: 2.56ms\n",
      "7:\tlearn: 0.4010650\ttotal: 6.9ms\tremaining: 1.72ms\n",
      "8:\tlearn: 0.3853872\ttotal: 7.89ms\tremaining: 876us\n",
      "9:\tlearn: 0.3720560\ttotal: 8.7ms\tremaining: 0us\n",
      "0:\tlearn: 0.6746123\ttotal: 10.5ms\tremaining: 0us\n",
      "0:\tlearn: 0.6742853\ttotal: 10.9ms\tremaining: 0us\n",
      "0:\tlearn: 0.6742403\ttotal: 10.5ms\tremaining: 0us\n",
      "0:\tlearn: 0.6334563\ttotal: 23.7ms\tremaining: 0us\n",
      "0:\tlearn: 0.6324333\ttotal: 12ms\tremaining: 0us\n",
      "0:\tlearn: 0.6322994\ttotal: 10.9ms\tremaining: 0us\n",
      "0:\tlearn: 0.6746123\ttotal: 11.5ms\tremaining: 1.15s\n",
      "1:\tlearn: 0.6576912\ttotal: 49.1ms\tremaining: 2.43s\n",
      "2:\tlearn: 0.6409414\ttotal: 59.8ms\tremaining: 1.95s\n",
      "3:\tlearn: 0.6240475\ttotal: 61.8ms\tremaining: 1.5s\n",
      "4:\tlearn: 0.6083430\ttotal: 65.5ms\tremaining: 1.26s\n",
      "5:\tlearn: 0.5935667\ttotal: 68.1ms\tremaining: 1.08s\n",
      "6:\tlearn: 0.5804930\ttotal: 106ms\tremaining: 1.42s\n",
      "7:\tlearn: 0.5683943\ttotal: 146ms\tremaining: 1.7s\n",
      "8:\tlearn: 0.5567831\ttotal: 169ms\tremaining: 1.73s\n",
      "9:\tlearn: 0.5443571\ttotal: 170ms\tremaining: 1.55s\n",
      "10:\tlearn: 0.5327074\ttotal: 171ms\tremaining: 1.4s\n",
      "11:\tlearn: 0.5249935\ttotal: 211ms\tremaining: 1.57s\n",
      "12:\tlearn: 0.5144083\ttotal: 214ms\tremaining: 1.45s\n",
      "13:\tlearn: 0.5044255\ttotal: 219ms\tremaining: 1.36s\n",
      "14:\tlearn: 0.4946663\ttotal: 220ms\tremaining: 1.26s\n",
      "15:\tlearn: 0.4853399\ttotal: 221ms\tremaining: 1.17s\n",
      "16:\tlearn: 0.4764710\ttotal: 222ms\tremaining: 1.1s\n",
      "17:\tlearn: 0.4681768\ttotal: 224ms\tremaining: 1.03s\n",
      "18:\tlearn: 0.4606170\ttotal: 226ms\tremaining: 975ms\n",
      "19:\tlearn: 0.4539819\ttotal: 269ms\tremaining: 1.09s\n",
      "20:\tlearn: 0.4466042\ttotal: 270ms\tremaining: 1.03s\n",
      "21:\tlearn: 0.4404166\ttotal: 294ms\tremaining: 1.06s\n",
      "22:\tlearn: 0.4339154\ttotal: 306ms\tremaining: 1.04s\n",
      "23:\tlearn: 0.4286742\ttotal: 330ms\tremaining: 1.06s\n",
      "24:\tlearn: 0.4235883\ttotal: 354ms\tremaining: 1.08s\n",
      "25:\tlearn: 0.4176059\ttotal: 355ms\tremaining: 1.02s\n",
      "26:\tlearn: 0.4119215\ttotal: 357ms\tremaining: 978ms\n",
      "27:\tlearn: 0.4079433\ttotal: 400ms\tremaining: 1.04s\n",
      "28:\tlearn: 0.4026956\ttotal: 402ms\tremaining: 999ms\n",
      "29:\tlearn: 0.3985590\ttotal: 436ms\tremaining: 1.03s\n",
      "30:\tlearn: 0.3938081\ttotal: 440ms\tremaining: 994ms\n",
      "31:\tlearn: 0.3896045\ttotal: 452ms\tremaining: 976ms\n",
      "32:\tlearn: 0.3853152\ttotal: 456ms\tremaining: 940ms\n",
      "33:\tlearn: 0.3822522\ttotal: 498ms\tremaining: 981ms\n",
      "34:\tlearn: 0.3782916\ttotal: 500ms\tremaining: 943ms\n",
      "35:\tlearn: 0.3744243\ttotal: 502ms\tremaining: 907ms\n",
      "36:\tlearn: 0.3711465\ttotal: 526ms\tremaining: 910ms\n",
      "37:\tlearn: 0.3674875\ttotal: 527ms\tremaining: 874ms\n",
      "38:\tlearn: 0.3640691\ttotal: 531ms\tremaining: 845ms\n",
      "39:\tlearn: 0.3612653\ttotal: 573ms\tremaining: 874ms\n",
      "40:\tlearn: 0.3582010\ttotal: 580ms\tremaining: 849ms\n",
      "41:\tlearn: 0.3551808\ttotal: 582ms\tremaining: 817ms\n",
      "42:\tlearn: 0.3531571\ttotal: 619ms\tremaining: 835ms\n",
      "43:\tlearn: 0.3503265\ttotal: 621ms\tremaining: 804ms\n",
      "44:\tlearn: 0.3476404\ttotal: 641ms\tremaining: 798ms\n",
      "45:\tlearn: 0.3453026\ttotal: 678ms\tremaining: 811ms\n",
      "46:\tlearn: 0.3429244\ttotal: 716ms\tremaining: 823ms\n",
      "47:\tlearn: 0.3405663\ttotal: 719ms\tremaining: 794ms\n",
      "48:\tlearn: 0.3382942\ttotal: 720ms\tremaining: 764ms\n",
      "49:\tlearn: 0.3363634\ttotal: 759ms\tremaining: 774ms\n",
      "50:\tlearn: 0.3348010\ttotal: 800ms\tremaining: 784ms\n",
      "51:\tlearn: 0.3331403\ttotal: 844ms\tremaining: 795ms\n",
      "52:\tlearn: 0.3316772\ttotal: 885ms\tremaining: 802ms\n",
      "53:\tlearn: 0.3297296\ttotal: 890ms\tremaining: 774ms\n",
      "54:\tlearn: 0.3278860\ttotal: 893ms\tremaining: 747ms\n",
      "55:\tlearn: 0.3266937\ttotal: 939ms\tremaining: 754ms\n",
      "56:\tlearn: 0.3252244\ttotal: 982ms\tremaining: 758ms\n",
      "57:\tlearn: 0.3235480\ttotal: 987ms\tremaining: 732ms\n",
      "58:\tlearn: 0.3219493\ttotal: 989ms\tremaining: 704ms\n",
      "59:\tlearn: 0.3204108\ttotal: 992ms\tremaining: 678ms\n",
      "60:\tlearn: 0.3189400\ttotal: 993ms\tremaining: 651ms\n",
      "61:\tlearn: 0.3175089\ttotal: 994ms\tremaining: 625ms\n",
      "62:\tlearn: 0.3164614\ttotal: 1.04s\tremaining: 626ms\n",
      "63:\tlearn: 0.3152626\ttotal: 1.08s\tremaining: 622ms\n",
      "64:\tlearn: 0.3140923\ttotal: 1.12s\tremaining: 618ms\n",
      "65:\tlearn: 0.3130325\ttotal: 1.16s\tremaining: 613ms\n",
      "66:\tlearn: 0.3119119\ttotal: 1.2s\tremaining: 607ms\n",
      "67:\tlearn: 0.3109108\ttotal: 1.24s\tremaining: 600ms\n",
      "68:\tlearn: 0.3097709\ttotal: 1.24s\tremaining: 574ms\n",
      "69:\tlearn: 0.3088878\ttotal: 1.28s\tremaining: 566ms\n",
      "70:\tlearn: 0.3080325\ttotal: 1.32s\tremaining: 558ms\n",
      "71:\tlearn: 0.3070485\ttotal: 1.32s\tremaining: 532ms\n",
      "72:\tlearn: 0.3062335\ttotal: 1.36s\tremaining: 522ms\n",
      "73:\tlearn: 0.3052481\ttotal: 1.36s\tremaining: 497ms\n",
      "74:\tlearn: 0.3043448\ttotal: 1.4s\tremaining: 486ms\n",
      "75:\tlearn: 0.3034631\ttotal: 1.41s\tremaining: 464ms\n",
      "76:\tlearn: 0.3026273\ttotal: 1.41s\tremaining: 440ms\n",
      "77:\tlearn: 0.3019061\ttotal: 1.45s\tremaining: 427ms\n",
      "78:\tlearn: 0.3011291\ttotal: 1.45s\tremaining: 404ms\n",
      "79:\tlearn: 0.3004070\ttotal: 1.49s\tremaining: 392ms\n",
      "80:\tlearn: 0.2996438\ttotal: 1.5s\tremaining: 370ms\n",
      "81:\tlearn: 0.2989489\ttotal: 1.54s\tremaining: 357ms\n",
      "82:\tlearn: 0.2981976\ttotal: 1.58s\tremaining: 344ms\n",
      "83:\tlearn: 0.2975526\ttotal: 1.62s\tremaining: 328ms\n",
      "84:\tlearn: 0.2969019\ttotal: 1.66s\tremaining: 313ms\n",
      "85:\tlearn: 0.2961871\ttotal: 1.7s\tremaining: 296ms\n",
      "86:\tlearn: 0.2955480\ttotal: 1.74s\tremaining: 280ms\n",
      "87:\tlearn: 0.2948918\ttotal: 1.78s\tremaining: 263ms\n",
      "88:\tlearn: 0.2942915\ttotal: 1.79s\tremaining: 241ms\n",
      "89:\tlearn: 0.2937358\ttotal: 1.79s\tremaining: 219ms\n",
      "90:\tlearn: 0.2930839\ttotal: 1.83s\tremaining: 201ms\n",
      "91:\tlearn: 0.2925722\ttotal: 1.83s\tremaining: 179ms\n",
      "92:\tlearn: 0.2920132\ttotal: 1.87s\tremaining: 161ms\n",
      "93:\tlearn: 0.2913775\ttotal: 1.91s\tremaining: 142ms\n",
      "94:\tlearn: 0.2908469\ttotal: 1.92s\tremaining: 121ms\n",
      "95:\tlearn: 0.2902785\ttotal: 1.96s\tremaining: 102ms\n",
      "96:\tlearn: 0.2896471\ttotal: 2.01s\tremaining: 82.8ms\n",
      "97:\tlearn: 0.2891810\ttotal: 2.01s\tremaining: 61.5ms\n",
      "98:\tlearn: 0.2886247\ttotal: 2.05s\tremaining: 41.5ms\n",
      "99:\tlearn: 0.2882302\ttotal: 2.06s\tremaining: 20.6ms\n",
      "100:\tlearn: 0.2876666\ttotal: 2.12s\tremaining: 0us\n",
      "0:\tlearn: 0.6742853\ttotal: 11.6ms\tremaining: 1.16s\n",
      "1:\tlearn: 0.6572715\ttotal: 52.3ms\tremaining: 2.59s\n",
      "2:\tlearn: 0.6405075\ttotal: 63.9ms\tremaining: 2.09s\n",
      "3:\tlearn: 0.6236496\ttotal: 65.7ms\tremaining: 1.59s\n",
      "4:\tlearn: 0.6079615\ttotal: 69.4ms\tremaining: 1.33s\n",
      "5:\tlearn: 0.5930306\ttotal: 72ms\tremaining: 1.14s\n",
      "6:\tlearn: 0.5796319\ttotal: 111ms\tremaining: 1.49s\n",
      "7:\tlearn: 0.5668907\ttotal: 156ms\tremaining: 1.82s\n",
      "8:\tlearn: 0.5552018\ttotal: 177ms\tremaining: 1.81s\n",
      "9:\tlearn: 0.5428246\ttotal: 178ms\tremaining: 1.62s\n",
      "10:\tlearn: 0.5312646\ttotal: 180ms\tremaining: 1.47s\n",
      "11:\tlearn: 0.5235531\ttotal: 220ms\tremaining: 1.63s\n",
      "12:\tlearn: 0.5129313\ttotal: 222ms\tremaining: 1.5s\n",
      "13:\tlearn: 0.5030295\ttotal: 226ms\tremaining: 1.4s\n",
      "14:\tlearn: 0.4933431\ttotal: 227ms\tremaining: 1.3s\n",
      "15:\tlearn: 0.4840716\ttotal: 228ms\tremaining: 1.21s\n",
      "16:\tlearn: 0.4752499\ttotal: 230ms\tremaining: 1.14s\n",
      "17:\tlearn: 0.4669653\ttotal: 231ms\tremaining: 1.07s\n",
      "18:\tlearn: 0.4594074\ttotal: 234ms\tremaining: 1.01s\n",
      "19:\tlearn: 0.4528542\ttotal: 273ms\tremaining: 1.1s\n",
      "20:\tlearn: 0.4455237\ttotal: 274ms\tremaining: 1.04s\n",
      "21:\tlearn: 0.4394449\ttotal: 315ms\tremaining: 1.13s\n",
      "22:\tlearn: 0.4337653\ttotal: 365ms\tremaining: 1.24s\n",
      "23:\tlearn: 0.4289127\ttotal: 417ms\tremaining: 1.34s\n",
      "24:\tlearn: 0.4228293\ttotal: 419ms\tremaining: 1.27s\n",
      "25:\tlearn: 0.4169062\ttotal: 421ms\tremaining: 1.21s\n",
      "26:\tlearn: 0.4112523\ttotal: 422ms\tremaining: 1.16s\n",
      "27:\tlearn: 0.4073237\ttotal: 474ms\tremaining: 1.24s\n",
      "28:\tlearn: 0.4021113\ttotal: 476ms\tremaining: 1.18s\n",
      "29:\tlearn: 0.3979672\ttotal: 507ms\tremaining: 1.2s\n",
      "30:\tlearn: 0.3932629\ttotal: 511ms\tremaining: 1.15s\n",
      "31:\tlearn: 0.3888693\ttotal: 525ms\tremaining: 1.13s\n",
      "32:\tlearn: 0.3844119\ttotal: 527ms\tremaining: 1.09s\n",
      "33:\tlearn: 0.3808429\ttotal: 575ms\tremaining: 1.13s\n",
      "34:\tlearn: 0.3768252\ttotal: 577ms\tremaining: 1.09s\n",
      "35:\tlearn: 0.3729017\ttotal: 579ms\tremaining: 1.04s\n",
      "36:\tlearn: 0.3694104\ttotal: 585ms\tremaining: 1.01s\n",
      "37:\tlearn: 0.3658662\ttotal: 586ms\tremaining: 971ms\n",
      "38:\tlearn: 0.3635871\ttotal: 632ms\tremaining: 1s\n",
      "39:\tlearn: 0.3610526\ttotal: 693ms\tremaining: 1.06s\n",
      "40:\tlearn: 0.3584515\ttotal: 735ms\tremaining: 1.07s\n",
      "41:\tlearn: 0.3553857\ttotal: 737ms\tremaining: 1.03s\n",
      "42:\tlearn: 0.3526025\ttotal: 783ms\tremaining: 1.06s\n",
      "43:\tlearn: 0.3498373\ttotal: 787ms\tremaining: 1.02s\n",
      "44:\tlearn: 0.3471345\ttotal: 789ms\tremaining: 981ms\n",
      "45:\tlearn: 0.3452467\ttotal: 837ms\tremaining: 1s\n",
      "46:\tlearn: 0.3432862\ttotal: 885ms\tremaining: 1.02s\n",
      "47:\tlearn: 0.3408620\ttotal: 888ms\tremaining: 980ms\n",
      "48:\tlearn: 0.3385589\ttotal: 890ms\tremaining: 944ms\n",
      "49:\tlearn: 0.3366977\ttotal: 951ms\tremaining: 970ms\n",
      "50:\tlearn: 0.3350832\ttotal: 995ms\tremaining: 975ms\n",
      "51:\tlearn: 0.3329774\ttotal: 997ms\tremaining: 940ms\n",
      "52:\tlearn: 0.3312316\ttotal: 1.04s\tremaining: 940ms\n",
      "53:\tlearn: 0.3292990\ttotal: 1.04s\tremaining: 904ms\n",
      "54:\tlearn: 0.3274497\ttotal: 1.04s\tremaining: 870ms\n",
      "55:\tlearn: 0.3262074\ttotal: 1.08s\tremaining: 869ms\n",
      "56:\tlearn: 0.3246857\ttotal: 1.12s\tremaining: 866ms\n",
      "57:\tlearn: 0.3233851\ttotal: 1.17s\tremaining: 869ms\n",
      "58:\tlearn: 0.3220536\ttotal: 1.21s\tremaining: 863ms\n",
      "59:\tlearn: 0.3205487\ttotal: 1.25s\tremaining: 856ms\n",
      "60:\tlearn: 0.3194445\ttotal: 1.31s\tremaining: 857ms\n",
      "61:\tlearn: 0.3181037\ttotal: 1.35s\tremaining: 850ms\n",
      "62:\tlearn: 0.3168925\ttotal: 1.39s\tremaining: 840ms\n",
      "63:\tlearn: 0.3155145\ttotal: 1.4s\tremaining: 808ms\n",
      "64:\tlearn: 0.3141947\ttotal: 1.4s\tremaining: 776ms\n",
      "65:\tlearn: 0.3130637\ttotal: 1.44s\tremaining: 763ms\n",
      "66:\tlearn: 0.3119068\ttotal: 1.48s\tremaining: 749ms\n",
      "67:\tlearn: 0.3108152\ttotal: 1.51s\tremaining: 735ms\n",
      "68:\tlearn: 0.3097348\ttotal: 1.55s\tremaining: 721ms\n",
      "69:\tlearn: 0.3087130\ttotal: 1.59s\tremaining: 706ms\n",
      "70:\tlearn: 0.3076740\ttotal: 1.59s\tremaining: 674ms\n",
      "71:\tlearn: 0.3067455\ttotal: 1.64s\tremaining: 659ms\n",
      "72:\tlearn: 0.3058811\ttotal: 1.68s\tremaining: 643ms\n",
      "73:\tlearn: 0.3050299\ttotal: 1.72s\tremaining: 626ms\n",
      "74:\tlearn: 0.3041275\ttotal: 1.75s\tremaining: 608ms\n",
      "75:\tlearn: 0.3032062\ttotal: 1.79s\tremaining: 590ms\n",
      "76:\tlearn: 0.3023687\ttotal: 1.84s\tremaining: 575ms\n",
      "77:\tlearn: 0.3015719\ttotal: 1.88s\tremaining: 556ms\n",
      "78:\tlearn: 0.3007249\ttotal: 1.9s\tremaining: 528ms\n",
      "79:\tlearn: 0.3000248\ttotal: 1.94s\tremaining: 508ms\n",
      "80:\tlearn: 0.2992573\ttotal: 1.98s\tremaining: 489ms\n",
      "81:\tlearn: 0.2985522\ttotal: 2.02s\tremaining: 468ms\n",
      "82:\tlearn: 0.2978549\ttotal: 2.02s\tremaining: 438ms\n",
      "83:\tlearn: 0.2971787\ttotal: 2.02s\tremaining: 409ms\n",
      "84:\tlearn: 0.2965084\ttotal: 2.06s\tremaining: 388ms\n",
      "85:\tlearn: 0.2958806\ttotal: 2.06s\tremaining: 360ms\n",
      "86:\tlearn: 0.2952843\ttotal: 2.06s\tremaining: 332ms\n",
      "87:\tlearn: 0.2946618\ttotal: 2.1s\tremaining: 311ms\n",
      "88:\tlearn: 0.2940461\ttotal: 2.14s\tremaining: 289ms\n",
      "89:\tlearn: 0.2933951\ttotal: 2.18s\tremaining: 267ms\n",
      "90:\tlearn: 0.2927977\ttotal: 2.23s\tremaining: 245ms\n",
      "91:\tlearn: 0.2922302\ttotal: 2.23s\tremaining: 219ms\n",
      "92:\tlearn: 0.2916666\ttotal: 2.27s\tremaining: 196ms\n",
      "93:\tlearn: 0.2910585\ttotal: 2.32s\tremaining: 173ms\n",
      "94:\tlearn: 0.2905219\ttotal: 2.32s\tremaining: 146ms\n",
      "95:\tlearn: 0.2899743\ttotal: 2.36s\tremaining: 123ms\n",
      "96:\tlearn: 0.2893754\ttotal: 2.4s\tremaining: 99ms\n",
      "97:\tlearn: 0.2888408\ttotal: 2.44s\tremaining: 74.7ms\n",
      "98:\tlearn: 0.2884271\ttotal: 2.44s\tremaining: 49.3ms\n",
      "99:\tlearn: 0.2879682\ttotal: 2.48s\tremaining: 24.8ms\n",
      "100:\tlearn: 0.2873999\ttotal: 2.52s\tremaining: 0us\n",
      "0:\tlearn: 0.6742403\ttotal: 11.4ms\tremaining: 1.14s\n",
      "1:\tlearn: 0.6579317\ttotal: 50.2ms\tremaining: 2.48s\n",
      "2:\tlearn: 0.6413699\ttotal: 61ms\tremaining: 1.99s\n",
      "3:\tlearn: 0.6244275\ttotal: 62.9ms\tremaining: 1.52s\n",
      "4:\tlearn: 0.6086596\ttotal: 66.7ms\tremaining: 1.28s\n",
      "5:\tlearn: 0.5943888\ttotal: 77.7ms\tremaining: 1.23s\n",
      "6:\tlearn: 0.5833928\ttotal: 119ms\tremaining: 1.6s\n",
      "7:\tlearn: 0.5705896\ttotal: 140ms\tremaining: 1.62s\n",
      "8:\tlearn: 0.5580829\ttotal: 146ms\tremaining: 1.5s\n",
      "9:\tlearn: 0.5455148\ttotal: 148ms\tremaining: 1.34s\n",
      "10:\tlearn: 0.5337563\ttotal: 149ms\tremaining: 1.22s\n",
      "11:\tlearn: 0.5235109\ttotal: 160ms\tremaining: 1.19s\n",
      "12:\tlearn: 0.5127945\ttotal: 162ms\tremaining: 1.1s\n",
      "13:\tlearn: 0.5036074\ttotal: 201ms\tremaining: 1.25s\n",
      "14:\tlearn: 0.4938900\ttotal: 204ms\tremaining: 1.17s\n",
      "15:\tlearn: 0.4845836\ttotal: 205ms\tremaining: 1.09s\n",
      "16:\tlearn: 0.4758687\ttotal: 207ms\tremaining: 1.02s\n",
      "17:\tlearn: 0.4689220\ttotal: 248ms\tremaining: 1.14s\n",
      "18:\tlearn: 0.4609688\ttotal: 251ms\tremaining: 1.08s\n",
      "19:\tlearn: 0.4535035\ttotal: 262ms\tremaining: 1.06s\n",
      "20:\tlearn: 0.4460521\ttotal: 263ms\tremaining: 1s\n",
      "21:\tlearn: 0.4397005\ttotal: 303ms\tremaining: 1.09s\n",
      "22:\tlearn: 0.4328947\ttotal: 305ms\tremaining: 1.03s\n",
      "23:\tlearn: 0.4276907\ttotal: 348ms\tremaining: 1.12s\n",
      "24:\tlearn: 0.4215515\ttotal: 351ms\tremaining: 1.07s\n",
      "25:\tlearn: 0.4161849\ttotal: 362ms\tremaining: 1.04s\n",
      "26:\tlearn: 0.4125812\ttotal: 401ms\tremaining: 1.1s\n",
      "27:\tlearn: 0.4084678\ttotal: 450ms\tremaining: 1.17s\n",
      "28:\tlearn: 0.4042913\ttotal: 493ms\tremaining: 1.22s\n",
      "29:\tlearn: 0.3994163\ttotal: 513ms\tremaining: 1.21s\n",
      "30:\tlearn: 0.3954330\ttotal: 554ms\tremaining: 1.25s\n",
      "31:\tlearn: 0.3906254\ttotal: 555ms\tremaining: 1.2s\n",
      "32:\tlearn: 0.3860357\ttotal: 556ms\tremaining: 1.15s\n",
      "33:\tlearn: 0.3818428\ttotal: 562ms\tremaining: 1.11s\n",
      "34:\tlearn: 0.3785686\ttotal: 609ms\tremaining: 1.15s\n",
      "35:\tlearn: 0.3752513\ttotal: 649ms\tremaining: 1.17s\n",
      "36:\tlearn: 0.3719092\ttotal: 691ms\tremaining: 1.19s\n",
      "37:\tlearn: 0.3682642\ttotal: 702ms\tremaining: 1.16s\n",
      "38:\tlearn: 0.3646835\ttotal: 705ms\tremaining: 1.12s\n",
      "39:\tlearn: 0.3620906\ttotal: 749ms\tremaining: 1.14s\n",
      "40:\tlearn: 0.3587608\ttotal: 751ms\tremaining: 1.1s\n",
      "41:\tlearn: 0.3555404\ttotal: 777ms\tremaining: 1.09s\n",
      "42:\tlearn: 0.3527902\ttotal: 818ms\tremaining: 1.1s\n",
      "43:\tlearn: 0.3501308\ttotal: 859ms\tremaining: 1.11s\n",
      "44:\tlearn: 0.3476259\ttotal: 898ms\tremaining: 1.12s\n",
      "45:\tlearn: 0.3454682\ttotal: 936ms\tremaining: 1.12s\n",
      "46:\tlearn: 0.3436155\ttotal: 975ms\tremaining: 1.12s\n",
      "47:\tlearn: 0.3410552\ttotal: 977ms\tremaining: 1.08s\n",
      "48:\tlearn: 0.3385583\ttotal: 979ms\tremaining: 1.04s\n",
      "49:\tlearn: 0.3368624\ttotal: 1.02s\tremaining: 1.04s\n",
      "50:\tlearn: 0.3350301\ttotal: 1.06s\tremaining: 1.04s\n",
      "51:\tlearn: 0.3330366\ttotal: 1.1s\tremaining: 1.03s\n",
      "52:\tlearn: 0.3315541\ttotal: 1.14s\tremaining: 1.04s\n",
      "53:\tlearn: 0.3298457\ttotal: 1.19s\tremaining: 1.04s\n",
      "54:\tlearn: 0.3277878\ttotal: 1.21s\tremaining: 1.01s\n",
      "55:\tlearn: 0.3262907\ttotal: 1.26s\tremaining: 1.02s\n",
      "56:\tlearn: 0.3246329\ttotal: 1.31s\tremaining: 1.01s\n",
      "57:\tlearn: 0.3231428\ttotal: 1.35s\tremaining: 1s\n",
      "58:\tlearn: 0.3213643\ttotal: 1.36s\tremaining: 966ms\n",
      "59:\tlearn: 0.3198820\ttotal: 1.41s\tremaining: 961ms\n",
      "60:\tlearn: 0.3186869\ttotal: 1.48s\tremaining: 971ms\n",
      "61:\tlearn: 0.3170943\ttotal: 1.48s\tremaining: 934ms\n",
      "62:\tlearn: 0.3155011\ttotal: 1.49s\tremaining: 899ms\n",
      "63:\tlearn: 0.3142807\ttotal: 1.54s\tremaining: 891ms\n",
      "64:\tlearn: 0.3132375\ttotal: 1.58s\tremaining: 878ms\n",
      "65:\tlearn: 0.3118948\ttotal: 1.63s\tremaining: 863ms\n",
      "66:\tlearn: 0.3107433\ttotal: 1.67s\tremaining: 848ms\n",
      "67:\tlearn: 0.3095895\ttotal: 1.72s\tremaining: 835ms\n",
      "68:\tlearn: 0.3085881\ttotal: 1.77s\tremaining: 821ms\n",
      "69:\tlearn: 0.3073526\ttotal: 1.77s\tremaining: 785ms\n",
      "70:\tlearn: 0.3061661\ttotal: 1.81s\tremaining: 767ms\n",
      "71:\tlearn: 0.3050144\ttotal: 1.81s\tremaining: 731ms\n",
      "72:\tlearn: 0.3040138\ttotal: 1.85s\tremaining: 711ms\n",
      "73:\tlearn: 0.3030559\ttotal: 1.89s\tremaining: 690ms\n",
      "74:\tlearn: 0.3021686\ttotal: 1.93s\tremaining: 669ms\n",
      "75:\tlearn: 0.3012963\ttotal: 1.97s\tremaining: 648ms\n",
      "76:\tlearn: 0.3003260\ttotal: 1.97s\tremaining: 614ms\n",
      "77:\tlearn: 0.2993933\ttotal: 2.01s\tremaining: 593ms\n",
      "78:\tlearn: 0.2984900\ttotal: 2.01s\tremaining: 560ms\n",
      "79:\tlearn: 0.2976329\ttotal: 2.05s\tremaining: 539ms\n",
      "80:\tlearn: 0.2968818\ttotal: 2.1s\tremaining: 520ms\n",
      "81:\tlearn: 0.2960912\ttotal: 2.15s\tremaining: 498ms\n",
      "82:\tlearn: 0.2951915\ttotal: 2.15s\tremaining: 467ms\n",
      "83:\tlearn: 0.2943736\ttotal: 2.19s\tremaining: 444ms\n",
      "84:\tlearn: 0.2936234\ttotal: 2.23s\tremaining: 420ms\n",
      "85:\tlearn: 0.2928462\ttotal: 2.27s\tremaining: 396ms\n",
      "86:\tlearn: 0.2921433\ttotal: 2.31s\tremaining: 371ms\n",
      "87:\tlearn: 0.2914352\ttotal: 2.35s\tremaining: 347ms\n",
      "88:\tlearn: 0.2906983\ttotal: 2.39s\tremaining: 322ms\n",
      "89:\tlearn: 0.2900407\ttotal: 2.43s\tremaining: 297ms\n",
      "90:\tlearn: 0.2892548\ttotal: 2.47s\tremaining: 271ms\n",
      "91:\tlearn: 0.2885387\ttotal: 2.51s\tremaining: 245ms\n",
      "92:\tlearn: 0.2878525\ttotal: 2.55s\tremaining: 219ms\n",
      "93:\tlearn: 0.2871511\ttotal: 2.59s\tremaining: 193ms\n",
      "94:\tlearn: 0.2865109\ttotal: 2.63s\tremaining: 166ms\n",
      "95:\tlearn: 0.2858826\ttotal: 2.67s\tremaining: 139ms\n",
      "96:\tlearn: 0.2852332\ttotal: 2.71s\tremaining: 112ms\n",
      "97:\tlearn: 0.2845584\ttotal: 2.75s\tremaining: 84.2ms\n",
      "98:\tlearn: 0.2839597\ttotal: 2.79s\tremaining: 56.3ms\n",
      "99:\tlearn: 0.2833764\ttotal: 2.83s\tremaining: 28.3ms\n",
      "100:\tlearn: 0.2827672\ttotal: 2.86s\tremaining: 0us\n",
      "0:\tlearn: 0.6334563\ttotal: 11ms\tremaining: 1.1s\n",
      "1:\tlearn: 0.5856606\ttotal: 49.4ms\tremaining: 2.44s\n",
      "2:\tlearn: 0.5440991\ttotal: 60ms\tremaining: 1.96s\n",
      "3:\tlearn: 0.5062506\ttotal: 62ms\tremaining: 1.5s\n",
      "4:\tlearn: 0.4749693\ttotal: 65.9ms\tremaining: 1.26s\n",
      "5:\tlearn: 0.4486089\ttotal: 68.5ms\tremaining: 1.08s\n",
      "6:\tlearn: 0.4305039\ttotal: 113ms\tremaining: 1.51s\n",
      "7:\tlearn: 0.4141167\ttotal: 153ms\tremaining: 1.78s\n",
      "8:\tlearn: 0.3981373\ttotal: 174ms\tremaining: 1.77s\n",
      "9:\tlearn: 0.3825422\ttotal: 175ms\tremaining: 1.59s\n",
      "10:\tlearn: 0.3693349\ttotal: 177ms\tremaining: 1.44s\n",
      "11:\tlearn: 0.3613396\ttotal: 219ms\tremaining: 1.62s\n",
      "12:\tlearn: 0.3510242\ttotal: 222ms\tremaining: 1.5s\n",
      "13:\tlearn: 0.3425690\ttotal: 227ms\tremaining: 1.41s\n",
      "14:\tlearn: 0.3349057\ttotal: 228ms\tremaining: 1.31s\n",
      "15:\tlearn: 0.3282050\ttotal: 229ms\tremaining: 1.22s\n",
      "16:\tlearn: 0.3225673\ttotal: 232ms\tremaining: 1.15s\n",
      "17:\tlearn: 0.3183465\ttotal: 271ms\tremaining: 1.25s\n",
      "18:\tlearn: 0.3142980\ttotal: 311ms\tremaining: 1.34s\n",
      "19:\tlearn: 0.3108935\ttotal: 351ms\tremaining: 1.42s\n",
      "20:\tlearn: 0.3075123\ttotal: 392ms\tremaining: 1.49s\n",
      "21:\tlearn: 0.3047125\ttotal: 432ms\tremaining: 1.55s\n",
      "22:\tlearn: 0.3019257\ttotal: 471ms\tremaining: 1.6s\n",
      "23:\tlearn: 0.2996080\ttotal: 511ms\tremaining: 1.64s\n",
      "24:\tlearn: 0.2971308\ttotal: 556ms\tremaining: 1.69s\n",
      "25:\tlearn: 0.2946588\ttotal: 558ms\tremaining: 1.61s\n",
      "26:\tlearn: 0.2924045\ttotal: 598ms\tremaining: 1.64s\n",
      "27:\tlearn: 0.2903395\ttotal: 638ms\tremaining: 1.66s\n",
      "28:\tlearn: 0.2885924\ttotal: 641ms\tremaining: 1.59s\n",
      "29:\tlearn: 0.2866171\ttotal: 681ms\tremaining: 1.61s\n",
      "30:\tlearn: 0.2852300\ttotal: 682ms\tremaining: 1.54s\n",
      "31:\tlearn: 0.2836086\ttotal: 722ms\tremaining: 1.56s\n",
      "32:\tlearn: 0.2824562\ttotal: 725ms\tremaining: 1.49s\n",
      "33:\tlearn: 0.2815498\ttotal: 727ms\tremaining: 1.43s\n",
      "34:\tlearn: 0.2805904\ttotal: 731ms\tremaining: 1.38s\n",
      "35:\tlearn: 0.2789268\ttotal: 784ms\tremaining: 1.42s\n",
      "36:\tlearn: 0.2778826\ttotal: 826ms\tremaining: 1.43s\n",
      "37:\tlearn: 0.2773252\ttotal: 827ms\tremaining: 1.37s\n",
      "38:\tlearn: 0.2759691\ttotal: 865ms\tremaining: 1.38s\n",
      "39:\tlearn: 0.2742974\ttotal: 904ms\tremaining: 1.38s\n",
      "40:\tlearn: 0.2732397\ttotal: 941ms\tremaining: 1.38s\n",
      "41:\tlearn: 0.2716878\ttotal: 979ms\tremaining: 1.37s\n",
      "42:\tlearn: 0.2701889\ttotal: 1.03s\tremaining: 1.39s\n",
      "43:\tlearn: 0.2685999\ttotal: 1.07s\tremaining: 1.39s\n",
      "44:\tlearn: 0.2682830\ttotal: 1.07s\tremaining: 1.33s\n",
      "45:\tlearn: 0.2670199\ttotal: 1.11s\tremaining: 1.33s\n",
      "46:\tlearn: 0.2660740\ttotal: 1.15s\tremaining: 1.32s\n",
      "47:\tlearn: 0.2651705\ttotal: 1.19s\tremaining: 1.31s\n",
      "48:\tlearn: 0.2642207\ttotal: 1.23s\tremaining: 1.3s\n",
      "49:\tlearn: 0.2635145\ttotal: 1.27s\tremaining: 1.29s\n",
      "50:\tlearn: 0.2623837\ttotal: 1.31s\tremaining: 1.29s\n",
      "51:\tlearn: 0.2613224\ttotal: 1.35s\tremaining: 1.28s\n",
      "52:\tlearn: 0.2602187\ttotal: 1.4s\tremaining: 1.27s\n",
      "53:\tlearn: 0.2598570\ttotal: 1.4s\tremaining: 1.22s\n",
      "54:\tlearn: 0.2586230\ttotal: 1.44s\tremaining: 1.2s\n",
      "55:\tlearn: 0.2574217\ttotal: 1.48s\tremaining: 1.19s\n",
      "56:\tlearn: 0.2563754\ttotal: 1.52s\tremaining: 1.17s\n",
      "57:\tlearn: 0.2553691\ttotal: 1.56s\tremaining: 1.16s\n",
      "58:\tlearn: 0.2543096\ttotal: 1.6s\tremaining: 1.14s\n",
      "59:\tlearn: 0.2533937\ttotal: 1.64s\tremaining: 1.12s\n",
      "60:\tlearn: 0.2526440\ttotal: 1.68s\tremaining: 1.1s\n",
      "61:\tlearn: 0.2513542\ttotal: 1.72s\tremaining: 1.08s\n",
      "62:\tlearn: 0.2501887\ttotal: 1.76s\tremaining: 1.06s\n",
      "63:\tlearn: 0.2497516\ttotal: 1.8s\tremaining: 1.04s\n",
      "64:\tlearn: 0.2485602\ttotal: 1.84s\tremaining: 1.02s\n",
      "65:\tlearn: 0.2475621\ttotal: 1.88s\tremaining: 999ms\n",
      "66:\tlearn: 0.2464048\ttotal: 1.92s\tremaining: 975ms\n",
      "67:\tlearn: 0.2453054\ttotal: 1.96s\tremaining: 951ms\n",
      "68:\tlearn: 0.2442510\ttotal: 2s\tremaining: 927ms\n",
      "69:\tlearn: 0.2433236\ttotal: 2.04s\tremaining: 903ms\n",
      "70:\tlearn: 0.2423144\ttotal: 2.08s\tremaining: 878ms\n",
      "71:\tlearn: 0.2413599\ttotal: 2.12s\tremaining: 853ms\n",
      "72:\tlearn: 0.2407716\ttotal: 2.16s\tremaining: 827ms\n",
      "73:\tlearn: 0.2396961\ttotal: 2.2s\tremaining: 802ms\n",
      "74:\tlearn: 0.2386738\ttotal: 2.24s\tremaining: 776ms\n",
      "75:\tlearn: 0.2380072\ttotal: 2.28s\tremaining: 750ms\n",
      "76:\tlearn: 0.2370349\ttotal: 2.32s\tremaining: 723ms\n",
      "77:\tlearn: 0.2364262\ttotal: 2.36s\tremaining: 696ms\n",
      "78:\tlearn: 0.2355234\ttotal: 2.4s\tremaining: 668ms\n",
      "79:\tlearn: 0.2348349\ttotal: 2.44s\tremaining: 640ms\n",
      "80:\tlearn: 0.2340147\ttotal: 2.48s\tremaining: 612ms\n",
      "81:\tlearn: 0.2331006\ttotal: 2.52s\tremaining: 583ms\n",
      "82:\tlearn: 0.2321772\ttotal: 2.56s\tremaining: 554ms\n",
      "83:\tlearn: 0.2312787\ttotal: 2.6s\tremaining: 526ms\n",
      "84:\tlearn: 0.2303864\ttotal: 2.64s\tremaining: 497ms\n",
      "85:\tlearn: 0.2298484\ttotal: 2.68s\tremaining: 467ms\n",
      "86:\tlearn: 0.2290520\ttotal: 2.72s\tremaining: 437ms\n",
      "87:\tlearn: 0.2282816\ttotal: 2.76s\tremaining: 408ms\n",
      "88:\tlearn: 0.2278704\ttotal: 2.8s\tremaining: 377ms\n",
      "89:\tlearn: 0.2271488\ttotal: 2.84s\tremaining: 347ms\n",
      "90:\tlearn: 0.2265254\ttotal: 2.87s\tremaining: 316ms\n",
      "91:\tlearn: 0.2258973\ttotal: 2.91s\tremaining: 285ms\n",
      "92:\tlearn: 0.2249360\ttotal: 2.95s\tremaining: 254ms\n",
      "93:\tlearn: 0.2244409\ttotal: 2.99s\tremaining: 223ms\n",
      "94:\tlearn: 0.2239586\ttotal: 3.03s\tremaining: 191ms\n",
      "95:\tlearn: 0.2234972\ttotal: 3.07s\tremaining: 160ms\n",
      "96:\tlearn: 0.2228765\ttotal: 3.11s\tremaining: 128ms\n",
      "97:\tlearn: 0.2223087\ttotal: 3.15s\tremaining: 96.3ms\n",
      "98:\tlearn: 0.2215986\ttotal: 3.19s\tremaining: 64.3ms\n",
      "99:\tlearn: 0.2212696\ttotal: 3.22s\tremaining: 32.2ms\n",
      "100:\tlearn: 0.2206581\ttotal: 3.26s\tremaining: 0us\n",
      "0:\tlearn: 0.6324333\ttotal: 11.8ms\tremaining: 1.18s\n",
      "1:\tlearn: 0.5844816\ttotal: 52.9ms\tremaining: 2.62s\n",
      "2:\tlearn: 0.5424572\ttotal: 64.6ms\tremaining: 2.11s\n",
      "3:\tlearn: 0.5048998\ttotal: 66.7ms\tremaining: 1.62s\n",
      "4:\tlearn: 0.4737869\ttotal: 70.5ms\tremaining: 1.35s\n",
      "5:\tlearn: 0.4479867\ttotal: 81.2ms\tremaining: 1.28s\n",
      "6:\tlearn: 0.4299720\ttotal: 120ms\tremaining: 1.61s\n",
      "7:\tlearn: 0.4124892\ttotal: 159ms\tremaining: 1.85s\n",
      "8:\tlearn: 0.3967337\ttotal: 180ms\tremaining: 1.84s\n",
      "9:\tlearn: 0.3858314\ttotal: 219ms\tremaining: 2s\n",
      "10:\tlearn: 0.3717582\ttotal: 222ms\tremaining: 1.81s\n",
      "11:\tlearn: 0.3605214\ttotal: 242ms\tremaining: 1.79s\n",
      "12:\tlearn: 0.3502044\ttotal: 243ms\tremaining: 1.64s\n",
      "13:\tlearn: 0.3434910\ttotal: 283ms\tremaining: 1.76s\n",
      "14:\tlearn: 0.3362081\ttotal: 323ms\tremaining: 1.85s\n",
      "15:\tlearn: 0.3294257\ttotal: 327ms\tremaining: 1.74s\n",
      "16:\tlearn: 0.3235059\ttotal: 328ms\tremaining: 1.62s\n",
      "17:\tlearn: 0.3190600\ttotal: 370ms\tremaining: 1.7s\n",
      "18:\tlearn: 0.3146429\ttotal: 374ms\tremaining: 1.61s\n",
      "19:\tlearn: 0.3110538\ttotal: 418ms\tremaining: 1.69s\n",
      "20:\tlearn: 0.3082437\ttotal: 461ms\tremaining: 1.75s\n",
      "21:\tlearn: 0.3055213\ttotal: 501ms\tremaining: 1.8s\n",
      "22:\tlearn: 0.3025168\ttotal: 540ms\tremaining: 1.83s\n",
      "23:\tlearn: 0.2997498\ttotal: 542ms\tremaining: 1.74s\n",
      "24:\tlearn: 0.2975546\ttotal: 580ms\tremaining: 1.76s\n",
      "25:\tlearn: 0.2953640\ttotal: 619ms\tremaining: 1.79s\n",
      "26:\tlearn: 0.2931163\ttotal: 658ms\tremaining: 1.8s\n",
      "27:\tlearn: 0.2914795\ttotal: 696ms\tremaining: 1.81s\n",
      "28:\tlearn: 0.2898645\ttotal: 698ms\tremaining: 1.73s\n",
      "29:\tlearn: 0.2880558\ttotal: 738ms\tremaining: 1.75s\n",
      "30:\tlearn: 0.2868410\ttotal: 739ms\tremaining: 1.67s\n",
      "31:\tlearn: 0.2851964\ttotal: 780ms\tremaining: 1.68s\n",
      "32:\tlearn: 0.2834178\ttotal: 820ms\tremaining: 1.69s\n",
      "33:\tlearn: 0.2820798\ttotal: 861ms\tremaining: 1.7s\n",
      "34:\tlearn: 0.2809265\ttotal: 905ms\tremaining: 1.71s\n",
      "35:\tlearn: 0.2795191\ttotal: 945ms\tremaining: 1.71s\n",
      "36:\tlearn: 0.2783710\ttotal: 988ms\tremaining: 1.71s\n",
      "37:\tlearn: 0.2777401\ttotal: 989ms\tremaining: 1.64s\n",
      "38:\tlearn: 0.2765890\ttotal: 1.03s\tremaining: 1.64s\n",
      "39:\tlearn: 0.2750072\ttotal: 1.07s\tremaining: 1.63s\n",
      "40:\tlearn: 0.2738781\ttotal: 1.11s\tremaining: 1.63s\n",
      "41:\tlearn: 0.2724471\ttotal: 1.15s\tremaining: 1.62s\n",
      "42:\tlearn: 0.2713094\ttotal: 1.19s\tremaining: 1.61s\n",
      "43:\tlearn: 0.2701371\ttotal: 1.23s\tremaining: 1.59s\n",
      "44:\tlearn: 0.2686199\ttotal: 1.27s\tremaining: 1.58s\n",
      "45:\tlearn: 0.2673284\ttotal: 1.31s\tremaining: 1.57s\n",
      "46:\tlearn: 0.2664335\ttotal: 1.36s\tremaining: 1.56s\n",
      "47:\tlearn: 0.2649799\ttotal: 1.4s\tremaining: 1.54s\n",
      "48:\tlearn: 0.2646033\ttotal: 1.4s\tremaining: 1.49s\n",
      "49:\tlearn: 0.2633762\ttotal: 1.45s\tremaining: 1.48s\n",
      "50:\tlearn: 0.2624554\ttotal: 1.49s\tremaining: 1.46s\n",
      "51:\tlearn: 0.2611945\ttotal: 1.53s\tremaining: 1.44s\n",
      "52:\tlearn: 0.2600281\ttotal: 1.57s\tremaining: 1.42s\n",
      "53:\tlearn: 0.2592930\ttotal: 1.6s\tremaining: 1.4s\n",
      "54:\tlearn: 0.2579286\ttotal: 1.65s\tremaining: 1.38s\n",
      "55:\tlearn: 0.2568070\ttotal: 1.69s\tremaining: 1.35s\n",
      "56:\tlearn: 0.2559283\ttotal: 1.73s\tremaining: 1.33s\n",
      "57:\tlearn: 0.2547779\ttotal: 1.77s\tremaining: 1.31s\n",
      "58:\tlearn: 0.2539268\ttotal: 1.81s\tremaining: 1.29s\n",
      "59:\tlearn: 0.2529666\ttotal: 1.85s\tremaining: 1.26s\n",
      "60:\tlearn: 0.2522071\ttotal: 1.89s\tremaining: 1.24s\n",
      "61:\tlearn: 0.2515674\ttotal: 1.93s\tremaining: 1.21s\n",
      "62:\tlearn: 0.2507366\ttotal: 1.97s\tremaining: 1.19s\n",
      "63:\tlearn: 0.2497569\ttotal: 2.01s\tremaining: 1.16s\n",
      "64:\tlearn: 0.2492300\ttotal: 2.05s\tremaining: 1.13s\n",
      "65:\tlearn: 0.2482289\ttotal: 2.09s\tremaining: 1.11s\n",
      "66:\tlearn: 0.2473375\ttotal: 2.13s\tremaining: 1.08s\n",
      "67:\tlearn: 0.2460622\ttotal: 2.17s\tremaining: 1.05s\n",
      "68:\tlearn: 0.2457971\ttotal: 2.17s\tremaining: 1.01s\n",
      "69:\tlearn: 0.2447080\ttotal: 2.21s\tremaining: 981ms\n",
      "70:\tlearn: 0.2437710\ttotal: 2.25s\tremaining: 953ms\n",
      "71:\tlearn: 0.2436740\ttotal: 2.26s\tremaining: 909ms\n",
      "72:\tlearn: 0.2426967\ttotal: 2.31s\tremaining: 886ms\n",
      "73:\tlearn: 0.2418235\ttotal: 2.35s\tremaining: 858ms\n",
      "74:\tlearn: 0.2411015\ttotal: 2.39s\tremaining: 829ms\n",
      "75:\tlearn: 0.2402253\ttotal: 2.44s\tremaining: 802ms\n",
      "76:\tlearn: 0.2396645\ttotal: 2.48s\tremaining: 773ms\n",
      "77:\tlearn: 0.2395268\ttotal: 2.48s\tremaining: 732ms\n",
      "78:\tlearn: 0.2390266\ttotal: 2.52s\tremaining: 702ms\n",
      "79:\tlearn: 0.2382596\ttotal: 2.56s\tremaining: 671ms\n",
      "80:\tlearn: 0.2373262\ttotal: 2.6s\tremaining: 641ms\n",
      "81:\tlearn: 0.2361823\ttotal: 2.63s\tremaining: 610ms\n",
      "82:\tlearn: 0.2355202\ttotal: 2.67s\tremaining: 579ms\n",
      "83:\tlearn: 0.2351018\ttotal: 2.71s\tremaining: 550ms\n",
      "84:\tlearn: 0.2342354\ttotal: 2.77s\tremaining: 521ms\n",
      "85:\tlearn: 0.2336818\ttotal: 2.81s\tremaining: 490ms\n",
      "86:\tlearn: 0.2331273\ttotal: 2.85s\tremaining: 459ms\n",
      "87:\tlearn: 0.2320189\ttotal: 2.89s\tremaining: 427ms\n",
      "88:\tlearn: 0.2315406\ttotal: 2.94s\tremaining: 396ms\n",
      "89:\tlearn: 0.2307907\ttotal: 2.98s\tremaining: 365ms\n",
      "90:\tlearn: 0.2301846\ttotal: 3.02s\tremaining: 332ms\n",
      "91:\tlearn: 0.2293796\ttotal: 3.07s\tremaining: 301ms\n",
      "92:\tlearn: 0.2287439\ttotal: 3.12s\tremaining: 268ms\n",
      "93:\tlearn: 0.2277228\ttotal: 3.16s\tremaining: 235ms\n",
      "94:\tlearn: 0.2270791\ttotal: 3.2s\tremaining: 202ms\n",
      "95:\tlearn: 0.2263179\ttotal: 3.24s\tremaining: 169ms\n",
      "96:\tlearn: 0.2256930\ttotal: 3.28s\tremaining: 135ms\n",
      "97:\tlearn: 0.2248864\ttotal: 3.32s\tremaining: 102ms\n",
      "98:\tlearn: 0.2240232\ttotal: 3.36s\tremaining: 67.9ms\n",
      "99:\tlearn: 0.2233167\ttotal: 3.41s\tremaining: 34.1ms\n",
      "100:\tlearn: 0.2228215\ttotal: 3.45s\tremaining: 0us\n",
      "0:\tlearn: 0.6322994\ttotal: 11.5ms\tremaining: 1.15s\n",
      "1:\tlearn: 0.5862456\ttotal: 49.4ms\tremaining: 2.45s\n",
      "2:\tlearn: 0.5444626\ttotal: 60.3ms\tremaining: 1.97s\n",
      "3:\tlearn: 0.5064200\ttotal: 62.5ms\tremaining: 1.51s\n",
      "4:\tlearn: 0.4749089\ttotal: 66.7ms\tremaining: 1.28s\n",
      "5:\tlearn: 0.4493188\ttotal: 77.7ms\tremaining: 1.23s\n",
      "6:\tlearn: 0.4333525\ttotal: 116ms\tremaining: 1.55s\n",
      "7:\tlearn: 0.4146297\ttotal: 153ms\tremaining: 1.77s\n",
      "8:\tlearn: 0.3976873\ttotal: 173ms\tremaining: 1.77s\n",
      "9:\tlearn: 0.3862836\ttotal: 211ms\tremaining: 1.92s\n",
      "10:\tlearn: 0.3718375\ttotal: 213ms\tremaining: 1.75s\n",
      "11:\tlearn: 0.3615970\ttotal: 252ms\tremaining: 1.87s\n",
      "12:\tlearn: 0.3507151\ttotal: 254ms\tremaining: 1.72s\n",
      "13:\tlearn: 0.3414669\ttotal: 255ms\tremaining: 1.58s\n",
      "14:\tlearn: 0.3361356\ttotal: 295ms\tremaining: 1.69s\n",
      "15:\tlearn: 0.3297060\ttotal: 335ms\tremaining: 1.78s\n",
      "16:\tlearn: 0.3231437\ttotal: 335ms\tremaining: 1.66s\n",
      "17:\tlearn: 0.3181335\ttotal: 375ms\tremaining: 1.73s\n",
      "18:\tlearn: 0.3141872\ttotal: 415ms\tremaining: 1.79s\n",
      "19:\tlearn: 0.3095807\ttotal: 417ms\tremaining: 1.69s\n",
      "20:\tlearn: 0.3057039\ttotal: 428ms\tremaining: 1.63s\n",
      "21:\tlearn: 0.3028658\ttotal: 469ms\tremaining: 1.68s\n",
      "22:\tlearn: 0.2999922\ttotal: 521ms\tremaining: 1.77s\n",
      "23:\tlearn: 0.2968917\ttotal: 523ms\tremaining: 1.68s\n",
      "24:\tlearn: 0.2944556\ttotal: 562ms\tremaining: 1.71s\n",
      "25:\tlearn: 0.2920849\ttotal: 601ms\tremaining: 1.74s\n",
      "26:\tlearn: 0.2896005\ttotal: 641ms\tremaining: 1.76s\n",
      "27:\tlearn: 0.2876526\ttotal: 681ms\tremaining: 1.77s\n",
      "28:\tlearn: 0.2858220\ttotal: 722ms\tremaining: 1.79s\n",
      "29:\tlearn: 0.2841694\ttotal: 762ms\tremaining: 1.8s\n",
      "30:\tlearn: 0.2825711\ttotal: 764ms\tremaining: 1.73s\n",
      "31:\tlearn: 0.2809383\ttotal: 803ms\tremaining: 1.73s\n",
      "32:\tlearn: 0.2798617\ttotal: 804ms\tremaining: 1.66s\n",
      "33:\tlearn: 0.2785385\ttotal: 806ms\tremaining: 1.59s\n",
      "34:\tlearn: 0.2767975\ttotal: 848ms\tremaining: 1.6s\n",
      "35:\tlearn: 0.2752017\ttotal: 889ms\tremaining: 1.6s\n",
      "36:\tlearn: 0.2741991\ttotal: 891ms\tremaining: 1.54s\n",
      "37:\tlearn: 0.2731339\ttotal: 930ms\tremaining: 1.54s\n",
      "38:\tlearn: 0.2716319\ttotal: 970ms\tremaining: 1.54s\n",
      "39:\tlearn: 0.2699870\ttotal: 1.01s\tremaining: 1.54s\n",
      "40:\tlearn: 0.2688701\ttotal: 1.05s\tremaining: 1.53s\n",
      "41:\tlearn: 0.2677400\ttotal: 1.08s\tremaining: 1.52s\n",
      "42:\tlearn: 0.2665171\ttotal: 1.12s\tremaining: 1.51s\n",
      "43:\tlearn: 0.2654444\ttotal: 1.16s\tremaining: 1.5s\n",
      "44:\tlearn: 0.2641365\ttotal: 1.2s\tremaining: 1.49s\n",
      "45:\tlearn: 0.2627537\ttotal: 1.24s\tremaining: 1.48s\n",
      "46:\tlearn: 0.2614876\ttotal: 1.28s\tremaining: 1.47s\n",
      "47:\tlearn: 0.2602847\ttotal: 1.32s\tremaining: 1.46s\n",
      "48:\tlearn: 0.2589708\ttotal: 1.36s\tremaining: 1.44s\n",
      "49:\tlearn: 0.2577271\ttotal: 1.4s\tremaining: 1.43s\n",
      "50:\tlearn: 0.2567547\ttotal: 1.45s\tremaining: 1.42s\n",
      "51:\tlearn: 0.2563676\ttotal: 1.45s\tremaining: 1.37s\n",
      "52:\tlearn: 0.2553664\ttotal: 1.49s\tremaining: 1.35s\n",
      "53:\tlearn: 0.2541427\ttotal: 1.53s\tremaining: 1.33s\n",
      "54:\tlearn: 0.2529079\ttotal: 1.57s\tremaining: 1.31s\n",
      "55:\tlearn: 0.2516629\ttotal: 1.61s\tremaining: 1.29s\n",
      "56:\tlearn: 0.2503098\ttotal: 1.65s\tremaining: 1.27s\n",
      "57:\tlearn: 0.2493557\ttotal: 1.69s\tremaining: 1.25s\n",
      "58:\tlearn: 0.2481437\ttotal: 1.73s\tremaining: 1.23s\n",
      "59:\tlearn: 0.2468888\ttotal: 1.77s\tremaining: 1.21s\n",
      "60:\tlearn: 0.2466303\ttotal: 1.77s\tremaining: 1.16s\n",
      "61:\tlearn: 0.2453410\ttotal: 1.81s\tremaining: 1.14s\n",
      "62:\tlearn: 0.2443109\ttotal: 1.85s\tremaining: 1.12s\n",
      "63:\tlearn: 0.2433850\ttotal: 1.9s\tremaining: 1.09s\n",
      "64:\tlearn: 0.2423318\ttotal: 1.93s\tremaining: 1.07s\n",
      "65:\tlearn: 0.2414798\ttotal: 1.97s\tremaining: 1.05s\n",
      "66:\tlearn: 0.2405837\ttotal: 2.01s\tremaining: 1.02s\n",
      "67:\tlearn: 0.2403911\ttotal: 2.01s\tremaining: 977ms\n",
      "68:\tlearn: 0.2392751\ttotal: 2.05s\tremaining: 951ms\n",
      "69:\tlearn: 0.2383017\ttotal: 2.09s\tremaining: 926ms\n",
      "70:\tlearn: 0.2373071\ttotal: 2.13s\tremaining: 899ms\n",
      "71:\tlearn: 0.2367618\ttotal: 2.17s\tremaining: 873ms\n",
      "72:\tlearn: 0.2357041\ttotal: 2.21s\tremaining: 847ms\n",
      "73:\tlearn: 0.2349410\ttotal: 2.25s\tremaining: 820ms\n",
      "74:\tlearn: 0.2341438\ttotal: 2.29s\tremaining: 793ms\n",
      "75:\tlearn: 0.2330057\ttotal: 2.33s\tremaining: 766ms\n",
      "76:\tlearn: 0.2322756\ttotal: 2.37s\tremaining: 738ms\n",
      "77:\tlearn: 0.2314054\ttotal: 2.41s\tremaining: 709ms\n",
      "78:\tlearn: 0.2307062\ttotal: 2.44s\tremaining: 681ms\n",
      "79:\tlearn: 0.2297939\ttotal: 2.49s\tremaining: 654ms\n",
      "80:\tlearn: 0.2296911\ttotal: 2.49s\tremaining: 615ms\n",
      "81:\tlearn: 0.2289749\ttotal: 2.54s\tremaining: 588ms\n",
      "82:\tlearn: 0.2284551\ttotal: 2.58s\tremaining: 559ms\n",
      "83:\tlearn: 0.2277026\ttotal: 2.62s\tremaining: 531ms\n",
      "84:\tlearn: 0.2269344\ttotal: 2.66s\tremaining: 501ms\n",
      "85:\tlearn: 0.2261448\ttotal: 2.7s\tremaining: 471ms\n",
      "86:\tlearn: 0.2255813\ttotal: 2.74s\tremaining: 441ms\n",
      "87:\tlearn: 0.2248885\ttotal: 2.78s\tremaining: 411ms\n",
      "88:\tlearn: 0.2240999\ttotal: 2.82s\tremaining: 380ms\n",
      "89:\tlearn: 0.2234058\ttotal: 2.86s\tremaining: 350ms\n",
      "90:\tlearn: 0.2227892\ttotal: 2.9s\tremaining: 319ms\n",
      "91:\tlearn: 0.2222968\ttotal: 2.94s\tremaining: 288ms\n",
      "92:\tlearn: 0.2218638\ttotal: 2.98s\tremaining: 256ms\n",
      "93:\tlearn: 0.2212067\ttotal: 3.02s\tremaining: 225ms\n",
      "94:\tlearn: 0.2204986\ttotal: 3.06s\tremaining: 193ms\n",
      "95:\tlearn: 0.2197361\ttotal: 3.1s\tremaining: 161ms\n",
      "96:\tlearn: 0.2190418\ttotal: 3.13s\tremaining: 129ms\n",
      "97:\tlearn: 0.2186058\ttotal: 3.17s\tremaining: 97.2ms\n",
      "98:\tlearn: 0.2180103\ttotal: 3.21s\tremaining: 64.9ms\n",
      "99:\tlearn: 0.2172483\ttotal: 3.25s\tremaining: 32.5ms\n",
      "100:\tlearn: 0.2167557\ttotal: 3.29s\tremaining: 0us\n",
      "0:\tlearn: 0.6746123\ttotal: 11.6ms\tremaining: 104ms\n",
      "1:\tlearn: 0.6576912\ttotal: 52.7ms\tremaining: 211ms\n",
      "2:\tlearn: 0.6409414\ttotal: 63.8ms\tremaining: 149ms\n",
      "3:\tlearn: 0.6240475\ttotal: 65.7ms\tremaining: 98.5ms\n",
      "4:\tlearn: 0.6083430\ttotal: 69.7ms\tremaining: 69.7ms\n",
      "5:\tlearn: 0.5935667\ttotal: 72.2ms\tremaining: 48.1ms\n",
      "6:\tlearn: 0.5804930\ttotal: 114ms\tremaining: 48.7ms\n",
      "7:\tlearn: 0.5683943\ttotal: 153ms\tremaining: 38.3ms\n",
      "8:\tlearn: 0.5567831\ttotal: 174ms\tremaining: 19.3ms\n",
      "9:\tlearn: 0.5443571\ttotal: 175ms\tremaining: 0us\n",
      "0:\tlearn: 0.6742853\ttotal: 11.6ms\tremaining: 104ms\n",
      "1:\tlearn: 0.6572715\ttotal: 53.6ms\tremaining: 215ms\n",
      "2:\tlearn: 0.6405075\ttotal: 65.2ms\tremaining: 152ms\n",
      "3:\tlearn: 0.6236496\ttotal: 67.1ms\tremaining: 101ms\n",
      "4:\tlearn: 0.6079615\ttotal: 71.1ms\tremaining: 71.1ms\n",
      "5:\tlearn: 0.5930306\ttotal: 73.7ms\tremaining: 49.2ms\n",
      "6:\tlearn: 0.5796319\ttotal: 113ms\tremaining: 48.2ms\n",
      "7:\tlearn: 0.5668907\ttotal: 154ms\tremaining: 38.4ms\n",
      "8:\tlearn: 0.5552018\ttotal: 174ms\tremaining: 19.3ms\n",
      "9:\tlearn: 0.5428246\ttotal: 175ms\tremaining: 0us\n",
      "0:\tlearn: 0.6742403\ttotal: 11.4ms\tremaining: 103ms\n",
      "1:\tlearn: 0.6579317\ttotal: 51.6ms\tremaining: 206ms\n",
      "2:\tlearn: 0.6413699\ttotal: 63.4ms\tremaining: 148ms\n",
      "3:\tlearn: 0.6244275\ttotal: 65.4ms\tremaining: 98.2ms\n",
      "4:\tlearn: 0.6086596\ttotal: 69.5ms\tremaining: 69.5ms\n",
      "5:\tlearn: 0.5943888\ttotal: 81.3ms\tremaining: 54.2ms\n",
      "6:\tlearn: 0.5833928\ttotal: 122ms\tremaining: 52.2ms\n",
      "7:\tlearn: 0.5705896\ttotal: 143ms\tremaining: 35.7ms\n",
      "8:\tlearn: 0.5580829\ttotal: 150ms\tremaining: 16.6ms\n",
      "9:\tlearn: 0.5455148\ttotal: 151ms\tremaining: 0us\n",
      "0:\tlearn: 0.6334563\ttotal: 11.3ms\tremaining: 102ms\n",
      "1:\tlearn: 0.5856606\ttotal: 52.8ms\tremaining: 211ms\n",
      "2:\tlearn: 0.5440991\ttotal: 64.4ms\tremaining: 150ms\n",
      "3:\tlearn: 0.5062506\ttotal: 66.3ms\tremaining: 99.4ms\n",
      "4:\tlearn: 0.4749693\ttotal: 70.1ms\tremaining: 70.1ms\n",
      "5:\tlearn: 0.4486089\ttotal: 72.7ms\tremaining: 48.5ms\n",
      "6:\tlearn: 0.4305039\ttotal: 111ms\tremaining: 47.7ms\n",
      "7:\tlearn: 0.4141167\ttotal: 149ms\tremaining: 37.3ms\n",
      "8:\tlearn: 0.3981373\ttotal: 170ms\tremaining: 18.9ms\n",
      "9:\tlearn: 0.3825422\ttotal: 171ms\tremaining: 0us\n",
      "0:\tlearn: 0.6324333\ttotal: 11.7ms\tremaining: 105ms\n",
      "1:\tlearn: 0.5844816\ttotal: 49.9ms\tremaining: 199ms\n",
      "2:\tlearn: 0.5424572\ttotal: 61.4ms\tremaining: 143ms\n",
      "3:\tlearn: 0.5048998\ttotal: 63.4ms\tremaining: 95ms\n",
      "4:\tlearn: 0.4737869\ttotal: 67.2ms\tremaining: 67.2ms\n",
      "5:\tlearn: 0.4479867\ttotal: 78.1ms\tremaining: 52.1ms\n",
      "6:\tlearn: 0.4299720\ttotal: 117ms\tremaining: 50ms\n",
      "7:\tlearn: 0.4124892\ttotal: 157ms\tremaining: 39.3ms\n",
      "8:\tlearn: 0.3967337\ttotal: 177ms\tremaining: 19.7ms\n",
      "9:\tlearn: 0.3858314\ttotal: 218ms\tremaining: 0us\n",
      "0:\tlearn: 0.6322994\ttotal: 12ms\tremaining: 108ms\n",
      "1:\tlearn: 0.5862456\ttotal: 51.2ms\tremaining: 205ms\n",
      "2:\tlearn: 0.5444626\ttotal: 62.8ms\tremaining: 146ms\n",
      "3:\tlearn: 0.5064200\ttotal: 64.6ms\tremaining: 96.9ms\n",
      "4:\tlearn: 0.4749089\ttotal: 68.6ms\tremaining: 68.6ms\n",
      "5:\tlearn: 0.4493188\ttotal: 79.8ms\tremaining: 53.2ms\n",
      "6:\tlearn: 0.4333525\ttotal: 119ms\tremaining: 51.1ms\n",
      "7:\tlearn: 0.4146297\ttotal: 160ms\tremaining: 40ms\n",
      "8:\tlearn: 0.3976873\ttotal: 180ms\tremaining: 20ms\n",
      "9:\tlearn: 0.3862836\ttotal: 220ms\tremaining: 0us\n",
      "0:\tlearn: 0.6731207\ttotal: 792us\tremaining: 0us\n",
      "0:\tlearn: 0.6731313\ttotal: 748us\tremaining: 0us\n",
      "0:\tlearn: 0.6731337\ttotal: 705us\tremaining: 0us\n",
      "0:\tlearn: 0.6288162\ttotal: 738us\tremaining: 0us\n",
      "0:\tlearn: 0.6288470\ttotal: 766us\tremaining: 0us\n",
      "0:\tlearn: 0.6288361\ttotal: 683us\tremaining: 0us\n",
      "0:\tlearn: 0.6731207\ttotal: 762us\tremaining: 76.2ms\n",
      "1:\tlearn: 0.6543046\ttotal: 1.59ms\tremaining: 78.9ms\n",
      "2:\tlearn: 0.6365566\ttotal: 2.22ms\tremaining: 72.4ms\n",
      "3:\tlearn: 0.6198283\ttotal: 2.88ms\tremaining: 69.9ms\n",
      "4:\tlearn: 0.6040112\ttotal: 3.78ms\tremaining: 72.6ms\n",
      "5:\tlearn: 0.5890752\ttotal: 4.65ms\tremaining: 73.6ms\n",
      "6:\tlearn: 0.5749363\ttotal: 5.52ms\tremaining: 74.1ms\n",
      "7:\tlearn: 0.5615519\ttotal: 6.16ms\tremaining: 71.6ms\n",
      "8:\tlearn: 0.5488680\ttotal: 6.88ms\tremaining: 70.4ms\n",
      "9:\tlearn: 0.5368474\ttotal: 7.58ms\tremaining: 69ms\n",
      "10:\tlearn: 0.5254379\ttotal: 8.35ms\tremaining: 68.3ms\n",
      "11:\tlearn: 0.5146165\ttotal: 9.22ms\tremaining: 68.4ms\n",
      "12:\tlearn: 0.5043094\ttotal: 9.95ms\tremaining: 67.4ms\n",
      "13:\tlearn: 0.4945069\ttotal: 10.7ms\tremaining: 66.4ms\n",
      "14:\tlearn: 0.4852170\ttotal: 11.4ms\tremaining: 65.4ms\n",
      "15:\tlearn: 0.4763534\ttotal: 12.2ms\tremaining: 64.8ms\n",
      "16:\tlearn: 0.4679432\ttotal: 13ms\tremaining: 64ms\n",
      "17:\tlearn: 0.4599425\ttotal: 13.6ms\tremaining: 62.8ms\n",
      "18:\tlearn: 0.4522910\ttotal: 14.3ms\tremaining: 61.7ms\n",
      "19:\tlearn: 0.4450379\ttotal: 15ms\tremaining: 60.6ms\n",
      "20:\tlearn: 0.4381022\ttotal: 15.8ms\tremaining: 60ms\n",
      "21:\tlearn: 0.4315094\ttotal: 16.5ms\tremaining: 59.2ms\n",
      "22:\tlearn: 0.4251977\ttotal: 17.1ms\tremaining: 58.1ms\n",
      "23:\tlearn: 0.4192183\ttotal: 17.9ms\tremaining: 57.4ms\n",
      "24:\tlearn: 0.4135154\ttotal: 18.6ms\tremaining: 56.5ms\n",
      "25:\tlearn: 0.4080818\ttotal: 19.4ms\tremaining: 55.9ms\n",
      "26:\tlearn: 0.4029015\ttotal: 20.2ms\tremaining: 55.4ms\n",
      "27:\tlearn: 0.3979409\ttotal: 21ms\tremaining: 54.8ms\n",
      "28:\tlearn: 0.3932293\ttotal: 21.7ms\tremaining: 53.9ms\n",
      "29:\tlearn: 0.3887082\ttotal: 22.4ms\tremaining: 53.1ms\n",
      "30:\tlearn: 0.3844243\ttotal: 23.2ms\tremaining: 52.3ms\n",
      "31:\tlearn: 0.3803219\ttotal: 23.8ms\tremaining: 51.4ms\n",
      "32:\tlearn: 0.3764067\ttotal: 24.5ms\tremaining: 50.4ms\n",
      "33:\tlearn: 0.3726561\ttotal: 25.2ms\tremaining: 49.6ms\n",
      "34:\tlearn: 0.3691031\ttotal: 25.9ms\tremaining: 48.8ms\n",
      "35:\tlearn: 0.3656904\ttotal: 26.6ms\tremaining: 48ms\n",
      "36:\tlearn: 0.3624623\ttotal: 27.3ms\tremaining: 47.2ms\n",
      "37:\tlearn: 0.3593671\ttotal: 27.9ms\tremaining: 46.3ms\n",
      "38:\tlearn: 0.3564138\ttotal: 28.6ms\tremaining: 45.4ms\n",
      "39:\tlearn: 0.3536148\ttotal: 29.2ms\tremaining: 44.5ms\n",
      "40:\tlearn: 0.3509417\ttotal: 29.8ms\tremaining: 43.6ms\n",
      "41:\tlearn: 0.3483749\ttotal: 30.4ms\tremaining: 42.7ms\n",
      "42:\tlearn: 0.3459340\ttotal: 31.1ms\tremaining: 42ms\n",
      "43:\tlearn: 0.3435832\ttotal: 31.7ms\tremaining: 41.1ms\n",
      "44:\tlearn: 0.3413728\ttotal: 32.3ms\tremaining: 40.3ms\n",
      "45:\tlearn: 0.3392488\ttotal: 33ms\tremaining: 39.4ms\n",
      "46:\tlearn: 0.3372277\ttotal: 33.8ms\tremaining: 38.8ms\n",
      "47:\tlearn: 0.3353171\ttotal: 34.8ms\tremaining: 38.5ms\n",
      "48:\tlearn: 0.3334397\ttotal: 35.7ms\tremaining: 37.9ms\n",
      "49:\tlearn: 0.3316669\ttotal: 36.7ms\tremaining: 37.4ms\n",
      "50:\tlearn: 0.3299767\ttotal: 37.6ms\tremaining: 36.8ms\n",
      "51:\tlearn: 0.3283771\ttotal: 38.4ms\tremaining: 36.2ms\n",
      "52:\tlearn: 0.3268399\ttotal: 39.2ms\tremaining: 35.5ms\n",
      "53:\tlearn: 0.3253516\ttotal: 39.9ms\tremaining: 34.7ms\n",
      "54:\tlearn: 0.3239894\ttotal: 40.6ms\tremaining: 33.9ms\n",
      "55:\tlearn: 0.3226637\ttotal: 41.3ms\tremaining: 33.1ms\n",
      "56:\tlearn: 0.3213900\ttotal: 42ms\tremaining: 32.4ms\n",
      "57:\tlearn: 0.3202129\ttotal: 42.6ms\tremaining: 31.6ms\n",
      "58:\tlearn: 0.3190572\ttotal: 43.2ms\tremaining: 30.8ms\n",
      "59:\tlearn: 0.3179810\ttotal: 43.9ms\tremaining: 30ms\n",
      "60:\tlearn: 0.3169443\ttotal: 44.5ms\tremaining: 29.2ms\n",
      "61:\tlearn: 0.3159600\ttotal: 45.2ms\tremaining: 28.4ms\n",
      "62:\tlearn: 0.3150058\ttotal: 45.8ms\tremaining: 27.6ms\n",
      "63:\tlearn: 0.3140867\ttotal: 46.5ms\tremaining: 26.9ms\n",
      "64:\tlearn: 0.3132058\ttotal: 47.1ms\tremaining: 26.1ms\n",
      "65:\tlearn: 0.3124171\ttotal: 47.8ms\tremaining: 25.3ms\n",
      "66:\tlearn: 0.3116021\ttotal: 48.4ms\tremaining: 24.6ms\n",
      "67:\tlearn: 0.3108261\ttotal: 49ms\tremaining: 23.8ms\n",
      "68:\tlearn: 0.3100872\ttotal: 49.7ms\tremaining: 23ms\n",
      "69:\tlearn: 0.3094402\ttotal: 50.3ms\tremaining: 22.3ms\n",
      "70:\tlearn: 0.3088291\ttotal: 51ms\tremaining: 21.5ms\n",
      "71:\tlearn: 0.3082239\ttotal: 51.7ms\tremaining: 20.8ms\n",
      "72:\tlearn: 0.3076109\ttotal: 52.4ms\tremaining: 20.1ms\n",
      "73:\tlearn: 0.3070632\ttotal: 53.1ms\tremaining: 19.4ms\n",
      "74:\tlearn: 0.3065253\ttotal: 53.8ms\tremaining: 18.6ms\n",
      "75:\tlearn: 0.3060406\ttotal: 54.4ms\tremaining: 17.9ms\n",
      "76:\tlearn: 0.3055918\ttotal: 55.1ms\tremaining: 17.2ms\n",
      "77:\tlearn: 0.3051660\ttotal: 55.7ms\tremaining: 16.4ms\n",
      "78:\tlearn: 0.3047618\ttotal: 56.4ms\tremaining: 15.7ms\n",
      "79:\tlearn: 0.3043383\ttotal: 57.1ms\tremaining: 15ms\n",
      "80:\tlearn: 0.3039359\ttotal: 57.9ms\tremaining: 14.3ms\n",
      "81:\tlearn: 0.3035276\ttotal: 58.5ms\tremaining: 13.6ms\n",
      "82:\tlearn: 0.3031725\ttotal: 59.2ms\tremaining: 12.8ms\n",
      "83:\tlearn: 0.3028377\ttotal: 60.2ms\tremaining: 12.2ms\n",
      "84:\tlearn: 0.3024810\ttotal: 61ms\tremaining: 11.5ms\n",
      "85:\tlearn: 0.3021637\ttotal: 61.9ms\tremaining: 10.8ms\n",
      "86:\tlearn: 0.3018782\ttotal: 62.9ms\tremaining: 10.1ms\n",
      "87:\tlearn: 0.3015904\ttotal: 63.6ms\tremaining: 9.39ms\n",
      "88:\tlearn: 0.3013528\ttotal: 64.3ms\tremaining: 8.67ms\n",
      "89:\tlearn: 0.3010660\ttotal: 65ms\tremaining: 7.94ms\n",
      "90:\tlearn: 0.3008166\ttotal: 65.6ms\tremaining: 7.21ms\n",
      "91:\tlearn: 0.3005591\ttotal: 66.2ms\tremaining: 6.47ms\n",
      "92:\tlearn: 0.3003439\ttotal: 66.8ms\tremaining: 5.75ms\n",
      "93:\tlearn: 0.3001010\ttotal: 67.5ms\tremaining: 5.02ms\n",
      "94:\tlearn: 0.2998688\ttotal: 68.1ms\tremaining: 4.3ms\n",
      "95:\tlearn: 0.2996714\ttotal: 68.8ms\tremaining: 3.58ms\n",
      "96:\tlearn: 0.2995024\ttotal: 69.4ms\tremaining: 2.86ms\n",
      "97:\tlearn: 0.2993347\ttotal: 70ms\tremaining: 2.14ms\n",
      "98:\tlearn: 0.2991742\ttotal: 70.7ms\tremaining: 1.43ms\n",
      "99:\tlearn: 0.2990286\ttotal: 71.3ms\tremaining: 713us\n",
      "100:\tlearn: 0.2988462\ttotal: 72ms\tremaining: 0us\n",
      "0:\tlearn: 0.6731313\ttotal: 732us\tremaining: 73.2ms\n",
      "1:\tlearn: 0.6543383\ttotal: 1.55ms\tremaining: 76.7ms\n",
      "2:\tlearn: 0.6365946\ttotal: 2.25ms\tremaining: 73.7ms\n",
      "3:\tlearn: 0.6198691\ttotal: 2.95ms\tremaining: 71.7ms\n",
      "4:\tlearn: 0.6040522\ttotal: 3.66ms\tremaining: 70.2ms\n",
      "5:\tlearn: 0.5891213\ttotal: 4.43ms\tremaining: 70.1ms\n",
      "6:\tlearn: 0.5749936\ttotal: 5.19ms\tremaining: 69.7ms\n",
      "7:\tlearn: 0.5616165\ttotal: 5.86ms\tremaining: 68.1ms\n",
      "8:\tlearn: 0.5489419\ttotal: 6.58ms\tremaining: 67.2ms\n",
      "9:\tlearn: 0.5369339\ttotal: 7.29ms\tremaining: 66.4ms\n",
      "10:\tlearn: 0.5255357\ttotal: 8.07ms\tremaining: 66ms\n",
      "11:\tlearn: 0.5147170\ttotal: 8.91ms\tremaining: 66.1ms\n",
      "12:\tlearn: 0.5044177\ttotal: 9.65ms\tremaining: 65.3ms\n",
      "13:\tlearn: 0.4946167\ttotal: 10.4ms\tremaining: 64.8ms\n",
      "14:\tlearn: 0.4853124\ttotal: 11.2ms\tremaining: 64.4ms\n",
      "15:\tlearn: 0.4764544\ttotal: 11.9ms\tremaining: 63.4ms\n",
      "16:\tlearn: 0.4680510\ttotal: 12.6ms\tremaining: 62.4ms\n",
      "17:\tlearn: 0.4600559\ttotal: 13.4ms\tremaining: 61.6ms\n",
      "18:\tlearn: 0.4523969\ttotal: 14.1ms\tremaining: 60.7ms\n",
      "19:\tlearn: 0.4451474\ttotal: 14.7ms\tremaining: 59.7ms\n",
      "20:\tlearn: 0.4382162\ttotal: 15.4ms\tremaining: 58.8ms\n",
      "21:\tlearn: 0.4316255\ttotal: 16.2ms\tremaining: 58.1ms\n",
      "22:\tlearn: 0.4253183\ttotal: 16.9ms\tremaining: 57.2ms\n",
      "23:\tlearn: 0.4193430\ttotal: 17.5ms\tremaining: 56.3ms\n",
      "24:\tlearn: 0.4136434\ttotal: 18.2ms\tremaining: 55.2ms\n",
      "25:\tlearn: 0.4082133\ttotal: 18.8ms\tremaining: 54.3ms\n",
      "26:\tlearn: 0.4030311\ttotal: 19.4ms\tremaining: 53.2ms\n",
      "27:\tlearn: 0.3980802\ttotal: 20.1ms\tremaining: 52.4ms\n",
      "28:\tlearn: 0.3933599\ttotal: 20.8ms\tremaining: 51.7ms\n",
      "29:\tlearn: 0.3888413\ttotal: 21.5ms\tremaining: 50.9ms\n",
      "30:\tlearn: 0.3845618\ttotal: 22.2ms\tremaining: 50.1ms\n",
      "31:\tlearn: 0.3804738\ttotal: 22.8ms\tremaining: 49.2ms\n",
      "32:\tlearn: 0.3765613\ttotal: 23.5ms\tremaining: 48.4ms\n",
      "33:\tlearn: 0.3728108\ttotal: 24.2ms\tremaining: 47.6ms\n",
      "34:\tlearn: 0.3692645\ttotal: 24.8ms\tremaining: 46.8ms\n",
      "35:\tlearn: 0.3658543\ttotal: 25.5ms\tremaining: 46.1ms\n",
      "36:\tlearn: 0.3626323\ttotal: 26.2ms\tremaining: 45.3ms\n",
      "37:\tlearn: 0.3595542\ttotal: 26.8ms\tremaining: 44.5ms\n",
      "38:\tlearn: 0.3565958\ttotal: 27.5ms\tremaining: 43.7ms\n",
      "39:\tlearn: 0.3537993\ttotal: 28.2ms\tremaining: 43ms\n",
      "40:\tlearn: 0.3511309\ttotal: 29ms\tremaining: 42.4ms\n",
      "41:\tlearn: 0.3485652\ttotal: 29.7ms\tremaining: 41.7ms\n",
      "42:\tlearn: 0.3461340\ttotal: 30.3ms\tremaining: 40.9ms\n",
      "43:\tlearn: 0.3437717\ttotal: 31ms\tremaining: 40.1ms\n",
      "44:\tlearn: 0.3415666\ttotal: 31.6ms\tremaining: 39.4ms\n",
      "45:\tlearn: 0.3394313\ttotal: 32.3ms\tremaining: 38.6ms\n",
      "46:\tlearn: 0.3374248\ttotal: 33ms\tremaining: 37.9ms\n",
      "47:\tlearn: 0.3355159\ttotal: 33.6ms\tremaining: 37.1ms\n",
      "48:\tlearn: 0.3336228\ttotal: 34.3ms\tremaining: 36.4ms\n",
      "49:\tlearn: 0.3318514\ttotal: 35ms\tremaining: 35.7ms\n",
      "50:\tlearn: 0.3301625\ttotal: 35.7ms\tremaining: 35ms\n",
      "51:\tlearn: 0.3285487\ttotal: 36.4ms\tremaining: 34.3ms\n",
      "52:\tlearn: 0.3270129\ttotal: 37.1ms\tremaining: 33.6ms\n",
      "53:\tlearn: 0.3255079\ttotal: 37.8ms\tremaining: 32.9ms\n",
      "54:\tlearn: 0.3241388\ttotal: 38.4ms\tremaining: 32.1ms\n",
      "55:\tlearn: 0.3228345\ttotal: 39.1ms\tremaining: 31.4ms\n",
      "56:\tlearn: 0.3215461\ttotal: 39.8ms\tremaining: 30.7ms\n",
      "57:\tlearn: 0.3203703\ttotal: 40.5ms\tremaining: 30ms\n",
      "58:\tlearn: 0.3192151\ttotal: 41.1ms\tremaining: 29.3ms\n",
      "59:\tlearn: 0.3181159\ttotal: 41.8ms\tremaining: 28.6ms\n",
      "60:\tlearn: 0.3170882\ttotal: 42.4ms\tremaining: 27.8ms\n",
      "61:\tlearn: 0.3160613\ttotal: 43.1ms\tremaining: 27.1ms\n",
      "62:\tlearn: 0.3150634\ttotal: 43.8ms\tremaining: 26.4ms\n",
      "63:\tlearn: 0.3141276\ttotal: 44.5ms\tremaining: 25.7ms\n",
      "64:\tlearn: 0.3132461\ttotal: 45.2ms\tremaining: 25ms\n",
      "65:\tlearn: 0.3124586\ttotal: 45.8ms\tremaining: 24.3ms\n",
      "66:\tlearn: 0.3116272\ttotal: 46.5ms\tremaining: 23.6ms\n",
      "67:\tlearn: 0.3108351\ttotal: 47.2ms\tremaining: 22.9ms\n",
      "68:\tlearn: 0.3100801\ttotal: 47.9ms\tremaining: 22.2ms\n",
      "69:\tlearn: 0.3094251\ttotal: 48.5ms\tremaining: 21.5ms\n",
      "70:\tlearn: 0.3088144\ttotal: 49.2ms\tremaining: 20.8ms\n",
      "71:\tlearn: 0.3082075\ttotal: 49.9ms\tremaining: 20.1ms\n",
      "72:\tlearn: 0.3075779\ttotal: 50.6ms\tremaining: 19.4ms\n",
      "73:\tlearn: 0.3070381\ttotal: 51.2ms\tremaining: 18.7ms\n",
      "74:\tlearn: 0.3065018\ttotal: 52.1ms\tremaining: 18.1ms\n",
      "75:\tlearn: 0.3059528\ttotal: 52.9ms\tremaining: 17.4ms\n",
      "76:\tlearn: 0.3055044\ttotal: 53.6ms\tremaining: 16.7ms\n",
      "77:\tlearn: 0.3050791\ttotal: 54.4ms\tremaining: 16ms\n",
      "78:\tlearn: 0.3045993\ttotal: 55.1ms\tremaining: 15.4ms\n",
      "79:\tlearn: 0.3041772\ttotal: 55.9ms\tremaining: 14.7ms\n",
      "80:\tlearn: 0.3038059\ttotal: 56.6ms\tremaining: 14ms\n",
      "81:\tlearn: 0.3033862\ttotal: 57.2ms\tremaining: 13.2ms\n",
      "82:\tlearn: 0.3030212\ttotal: 57.8ms\tremaining: 12.5ms\n",
      "83:\tlearn: 0.3026840\ttotal: 58.5ms\tremaining: 11.8ms\n",
      "84:\tlearn: 0.3023167\ttotal: 59.2ms\tremaining: 11.1ms\n",
      "85:\tlearn: 0.3020009\ttotal: 59.8ms\tremaining: 10.4ms\n",
      "86:\tlearn: 0.3017184\ttotal: 60.5ms\tremaining: 9.73ms\n",
      "87:\tlearn: 0.3013938\ttotal: 61.2ms\tremaining: 9.04ms\n",
      "88:\tlearn: 0.3011538\ttotal: 61.9ms\tremaining: 8.34ms\n",
      "89:\tlearn: 0.3008563\ttotal: 62.5ms\tremaining: 7.64ms\n",
      "90:\tlearn: 0.3006065\ttotal: 63.1ms\tremaining: 6.94ms\n",
      "91:\tlearn: 0.3003475\ttotal: 63.8ms\tremaining: 6.25ms\n",
      "92:\tlearn: 0.3001493\ttotal: 64.5ms\tremaining: 5.55ms\n",
      "93:\tlearn: 0.2999145\ttotal: 65.2ms\tremaining: 4.86ms\n",
      "94:\tlearn: 0.2996708\ttotal: 65.9ms\tremaining: 4.16ms\n",
      "95:\tlearn: 0.2994733\ttotal: 66.5ms\tremaining: 3.46ms\n",
      "96:\tlearn: 0.2992856\ttotal: 67.2ms\tremaining: 2.77ms\n",
      "97:\tlearn: 0.2991203\ttotal: 67.9ms\tremaining: 2.08ms\n",
      "98:\tlearn: 0.2989125\ttotal: 68.5ms\tremaining: 1.38ms\n",
      "99:\tlearn: 0.2987791\ttotal: 69.2ms\tremaining: 691us\n",
      "100:\tlearn: 0.2986174\ttotal: 69.8ms\tremaining: 0us\n",
      "0:\tlearn: 0.6731337\ttotal: 742us\tremaining: 74.3ms\n",
      "1:\tlearn: 0.6543143\ttotal: 1.51ms\tremaining: 75ms\n",
      "2:\tlearn: 0.6365846\ttotal: 2.13ms\tremaining: 69.8ms\n",
      "3:\tlearn: 0.6198619\ttotal: 2.83ms\tremaining: 68.7ms\n",
      "4:\tlearn: 0.6040365\ttotal: 3.51ms\tremaining: 67.4ms\n",
      "5:\tlearn: 0.5891071\ttotal: 4.19ms\tremaining: 66.3ms\n",
      "6:\tlearn: 0.5749714\ttotal: 4.9ms\tremaining: 65.8ms\n",
      "7:\tlearn: 0.5615929\ttotal: 5.6ms\tremaining: 65.1ms\n",
      "8:\tlearn: 0.5489088\ttotal: 6.35ms\tremaining: 64.9ms\n",
      "9:\tlearn: 0.5368879\ttotal: 7.11ms\tremaining: 64.7ms\n",
      "10:\tlearn: 0.5254920\ttotal: 7.83ms\tremaining: 64.1ms\n",
      "11:\tlearn: 0.5146781\ttotal: 8.56ms\tremaining: 63.5ms\n",
      "12:\tlearn: 0.5043697\ttotal: 9.29ms\tremaining: 62.9ms\n",
      "13:\tlearn: 0.4945506\ttotal: 9.99ms\tremaining: 62.1ms\n",
      "14:\tlearn: 0.4852480\ttotal: 10.7ms\tremaining: 61.3ms\n",
      "15:\tlearn: 0.4763864\ttotal: 11.4ms\tremaining: 60.8ms\n",
      "16:\tlearn: 0.4679833\ttotal: 12.2ms\tremaining: 60.1ms\n",
      "17:\tlearn: 0.4599838\ttotal: 12.9ms\tremaining: 59.3ms\n",
      "18:\tlearn: 0.4523049\ttotal: 13.5ms\tremaining: 58.4ms\n",
      "19:\tlearn: 0.4450587\ttotal: 14.3ms\tremaining: 57.7ms\n",
      "20:\tlearn: 0.4380860\ttotal: 15ms\tremaining: 57ms\n",
      "21:\tlearn: 0.4314911\ttotal: 15.6ms\tremaining: 56.1ms\n",
      "22:\tlearn: 0.4251615\ttotal: 16.3ms\tremaining: 55.4ms\n",
      "23:\tlearn: 0.4191859\ttotal: 17ms\tremaining: 54.6ms\n",
      "24:\tlearn: 0.4134787\ttotal: 17.7ms\tremaining: 53.8ms\n",
      "25:\tlearn: 0.4080492\ttotal: 18.4ms\tremaining: 53.2ms\n",
      "26:\tlearn: 0.4028712\ttotal: 19.1ms\tremaining: 52.4ms\n",
      "27:\tlearn: 0.3979037\ttotal: 19.8ms\tremaining: 51.6ms\n",
      "28:\tlearn: 0.3931831\ttotal: 20.5ms\tremaining: 50.8ms\n",
      "29:\tlearn: 0.3886594\ttotal: 21.2ms\tremaining: 50.2ms\n",
      "30:\tlearn: 0.3843763\ttotal: 21.9ms\tremaining: 49.5ms\n",
      "31:\tlearn: 0.3802731\ttotal: 22.7ms\tremaining: 48.9ms\n",
      "32:\tlearn: 0.3763605\ttotal: 23.4ms\tremaining: 48.1ms\n",
      "33:\tlearn: 0.3725723\ttotal: 24ms\tremaining: 47.4ms\n",
      "34:\tlearn: 0.3690125\ttotal: 24.7ms\tremaining: 46.6ms\n",
      "35:\tlearn: 0.3655972\ttotal: 25.4ms\tremaining: 45.8ms\n",
      "36:\tlearn: 0.3623740\ttotal: 26.1ms\tremaining: 45.1ms\n",
      "37:\tlearn: 0.3592797\ttotal: 26.8ms\tremaining: 44.5ms\n",
      "38:\tlearn: 0.3563147\ttotal: 27.5ms\tremaining: 43.7ms\n",
      "39:\tlearn: 0.3535134\ttotal: 28.2ms\tremaining: 43ms\n",
      "40:\tlearn: 0.3507613\ttotal: 28.9ms\tremaining: 42.3ms\n",
      "41:\tlearn: 0.3481499\ttotal: 29.6ms\tremaining: 41.5ms\n",
      "42:\tlearn: 0.3457075\ttotal: 30.3ms\tremaining: 40.9ms\n",
      "43:\tlearn: 0.3433168\ttotal: 31ms\tremaining: 40.1ms\n",
      "44:\tlearn: 0.3411094\ttotal: 31.7ms\tremaining: 39.5ms\n",
      "45:\tlearn: 0.3389653\ttotal: 32.4ms\tremaining: 38.8ms\n",
      "46:\tlearn: 0.3369423\ttotal: 33.1ms\tremaining: 38ms\n",
      "47:\tlearn: 0.3350256\ttotal: 33.8ms\tremaining: 37.3ms\n",
      "48:\tlearn: 0.3331083\ttotal: 34.5ms\tremaining: 36.6ms\n",
      "49:\tlearn: 0.3313308\ttotal: 35.3ms\tremaining: 36ms\n",
      "50:\tlearn: 0.3296357\ttotal: 36ms\tremaining: 35.3ms\n",
      "51:\tlearn: 0.3279884\ttotal: 36.7ms\tremaining: 34.6ms\n",
      "52:\tlearn: 0.3264461\ttotal: 37.4ms\tremaining: 33.9ms\n",
      "53:\tlearn: 0.3249162\ttotal: 38.1ms\tremaining: 33.2ms\n",
      "54:\tlearn: 0.3235533\ttotal: 38.8ms\tremaining: 32.5ms\n",
      "55:\tlearn: 0.3222410\ttotal: 39.5ms\tremaining: 31.8ms\n",
      "56:\tlearn: 0.3209060\ttotal: 40.2ms\tremaining: 31ms\n",
      "57:\tlearn: 0.3197228\ttotal: 40.9ms\tremaining: 30.3ms\n",
      "58:\tlearn: 0.3185617\ttotal: 41.6ms\tremaining: 29.6ms\n",
      "59:\tlearn: 0.3174553\ttotal: 42.3ms\tremaining: 28.9ms\n",
      "60:\tlearn: 0.3164166\ttotal: 43ms\tremaining: 28.2ms\n",
      "61:\tlearn: 0.3153587\ttotal: 43.7ms\tremaining: 27.5ms\n",
      "62:\tlearn: 0.3143529\ttotal: 44.4ms\tremaining: 26.8ms\n",
      "63:\tlearn: 0.3133926\ttotal: 45.1ms\tremaining: 26.1ms\n",
      "64:\tlearn: 0.3124810\ttotal: 45.8ms\tremaining: 25.4ms\n",
      "65:\tlearn: 0.3116917\ttotal: 46.5ms\tremaining: 24.7ms\n",
      "66:\tlearn: 0.3108332\ttotal: 47.3ms\tremaining: 24ms\n",
      "67:\tlearn: 0.3100148\ttotal: 48ms\tremaining: 23.3ms\n",
      "68:\tlearn: 0.3092338\ttotal: 48.7ms\tremaining: 22.6ms\n",
      "69:\tlearn: 0.3085663\ttotal: 49.4ms\tremaining: 21.9ms\n",
      "70:\tlearn: 0.3079553\ttotal: 50.1ms\tremaining: 21.2ms\n",
      "71:\tlearn: 0.3073478\ttotal: 50.8ms\tremaining: 20.5ms\n",
      "72:\tlearn: 0.3066929\ttotal: 51.6ms\tremaining: 19.8ms\n",
      "73:\tlearn: 0.3061440\ttotal: 52.3ms\tremaining: 19.1ms\n",
      "74:\tlearn: 0.3056011\ttotal: 53.1ms\tremaining: 18.4ms\n",
      "75:\tlearn: 0.3050265\ttotal: 53.8ms\tremaining: 17.7ms\n",
      "76:\tlearn: 0.3045778\ttotal: 54.5ms\tremaining: 17ms\n",
      "77:\tlearn: 0.3040521\ttotal: 55.2ms\tremaining: 16.3ms\n",
      "78:\tlearn: 0.3035510\ttotal: 55.9ms\tremaining: 15.6ms\n",
      "79:\tlearn: 0.3031226\ttotal: 56.6ms\tremaining: 14.8ms\n",
      "80:\tlearn: 0.3027157\ttotal: 57.2ms\tremaining: 14.1ms\n",
      "81:\tlearn: 0.3022749\ttotal: 57.9ms\tremaining: 13.4ms\n",
      "82:\tlearn: 0.3018997\ttotal: 58.6ms\tremaining: 12.7ms\n",
      "83:\tlearn: 0.3015621\ttotal: 59.3ms\tremaining: 12ms\n",
      "84:\tlearn: 0.3011739\ttotal: 60.1ms\tremaining: 11.3ms\n",
      "85:\tlearn: 0.3008523\ttotal: 60.8ms\tremaining: 10.6ms\n",
      "86:\tlearn: 0.3005694\ttotal: 61.5ms\tremaining: 9.89ms\n",
      "87:\tlearn: 0.3002321\ttotal: 62.2ms\tremaining: 9.19ms\n",
      "88:\tlearn: 0.2999935\ttotal: 62.9ms\tremaining: 8.48ms\n",
      "89:\tlearn: 0.2996748\ttotal: 63.7ms\tremaining: 7.78ms\n",
      "90:\tlearn: 0.2994197\ttotal: 64.4ms\tremaining: 7.07ms\n",
      "91:\tlearn: 0.2991302\ttotal: 65.1ms\tremaining: 6.37ms\n",
      "92:\tlearn: 0.2989272\ttotal: 65.8ms\tremaining: 5.66ms\n",
      "93:\tlearn: 0.2986482\ttotal: 66.5ms\tremaining: 4.95ms\n",
      "94:\tlearn: 0.2983842\ttotal: 67.2ms\tremaining: 4.24ms\n",
      "95:\tlearn: 0.2981325\ttotal: 68ms\tremaining: 3.54ms\n",
      "96:\tlearn: 0.2979527\ttotal: 68.7ms\tremaining: 2.83ms\n",
      "97:\tlearn: 0.2977825\ttotal: 69.4ms\tremaining: 2.12ms\n",
      "98:\tlearn: 0.2975922\ttotal: 70.1ms\tremaining: 1.42ms\n",
      "99:\tlearn: 0.2974458\ttotal: 70.9ms\tremaining: 708us\n",
      "100:\tlearn: 0.2972349\ttotal: 71.6ms\tremaining: 0us\n",
      "0:\tlearn: 0.6288162\ttotal: 631us\tremaining: 63.1ms\n",
      "1:\tlearn: 0.5764212\ttotal: 1.34ms\tremaining: 66.4ms\n",
      "2:\tlearn: 0.5331376\ttotal: 2.02ms\tremaining: 66ms\n",
      "3:\tlearn: 0.4970231\ttotal: 2.73ms\tremaining: 66.1ms\n",
      "4:\tlearn: 0.4666540\ttotal: 3.42ms\tremaining: 65.7ms\n",
      "5:\tlearn: 0.4410771\ttotal: 4.1ms\tremaining: 64.9ms\n",
      "6:\tlearn: 0.4193936\ttotal: 4.8ms\tremaining: 64.5ms\n",
      "7:\tlearn: 0.4010058\ttotal: 5.52ms\tremaining: 64.2ms\n",
      "8:\tlearn: 0.3853539\ttotal: 6.17ms\tremaining: 63.1ms\n",
      "9:\tlearn: 0.3720553\ttotal: 6.87ms\tremaining: 62.5ms\n",
      "10:\tlearn: 0.3606909\ttotal: 7.6ms\tremaining: 62.2ms\n",
      "11:\tlearn: 0.3510548\ttotal: 8.28ms\tremaining: 61.4ms\n",
      "12:\tlearn: 0.3427413\ttotal: 8.99ms\tremaining: 60.8ms\n",
      "13:\tlearn: 0.3356320\ttotal: 9.66ms\tremaining: 60ms\n",
      "14:\tlearn: 0.3297098\ttotal: 10.3ms\tremaining: 59.2ms\n",
      "15:\tlearn: 0.3245696\ttotal: 11ms\tremaining: 58.5ms\n",
      "16:\tlearn: 0.3203085\ttotal: 11.9ms\tremaining: 58.6ms\n",
      "17:\tlearn: 0.3167076\ttotal: 12.5ms\tremaining: 57.8ms\n",
      "18:\tlearn: 0.3134553\ttotal: 13.2ms\tremaining: 57ms\n",
      "19:\tlearn: 0.3108971\ttotal: 13.9ms\tremaining: 56.3ms\n",
      "20:\tlearn: 0.3085417\ttotal: 14.6ms\tremaining: 55.5ms\n",
      "21:\tlearn: 0.3066114\ttotal: 15.2ms\tremaining: 54.6ms\n",
      "22:\tlearn: 0.3048972\ttotal: 15.8ms\tremaining: 53.7ms\n",
      "23:\tlearn: 0.3036322\ttotal: 16.5ms\tremaining: 52.9ms\n",
      "24:\tlearn: 0.3024996\ttotal: 17.1ms\tremaining: 52.1ms\n",
      "25:\tlearn: 0.3016159\ttotal: 17.8ms\tremaining: 51.3ms\n",
      "26:\tlearn: 0.3008822\ttotal: 18.5ms\tremaining: 50.6ms\n",
      "27:\tlearn: 0.3001647\ttotal: 19.1ms\tremaining: 49.7ms\n",
      "28:\tlearn: 0.2995094\ttotal: 19.8ms\tremaining: 49ms\n",
      "29:\tlearn: 0.2989413\ttotal: 20.4ms\tremaining: 48.4ms\n",
      "30:\tlearn: 0.2984519\ttotal: 21.1ms\tremaining: 47.6ms\n",
      "31:\tlearn: 0.2980732\ttotal: 21.7ms\tremaining: 46.8ms\n",
      "32:\tlearn: 0.2975960\ttotal: 22.4ms\tremaining: 46.1ms\n",
      "33:\tlearn: 0.2972421\ttotal: 23ms\tremaining: 45.3ms\n",
      "34:\tlearn: 0.2968710\ttotal: 24ms\tremaining: 45.2ms\n",
      "35:\tlearn: 0.2965585\ttotal: 24.7ms\tremaining: 44.6ms\n",
      "36:\tlearn: 0.2963250\ttotal: 25.5ms\tremaining: 44ms\n",
      "37:\tlearn: 0.2961061\ttotal: 26.3ms\tremaining: 43.5ms\n",
      "38:\tlearn: 0.2958505\ttotal: 27.1ms\tremaining: 43ms\n",
      "39:\tlearn: 0.2956839\ttotal: 27.8ms\tremaining: 42.3ms\n",
      "40:\tlearn: 0.2954747\ttotal: 28.4ms\tremaining: 41.6ms\n",
      "41:\tlearn: 0.2953136\ttotal: 29.1ms\tremaining: 40.9ms\n",
      "42:\tlearn: 0.2952268\ttotal: 29.8ms\tremaining: 40.2ms\n",
      "43:\tlearn: 0.2950807\ttotal: 30.5ms\tremaining: 39.5ms\n",
      "44:\tlearn: 0.2949492\ttotal: 31.1ms\tremaining: 38.7ms\n",
      "45:\tlearn: 0.2948026\ttotal: 31.8ms\tremaining: 38ms\n",
      "46:\tlearn: 0.2947112\ttotal: 32.5ms\tremaining: 37.3ms\n",
      "47:\tlearn: 0.2946448\ttotal: 33.1ms\tremaining: 36.6ms\n",
      "48:\tlearn: 0.2944961\ttotal: 33.7ms\tremaining: 35.8ms\n",
      "49:\tlearn: 0.2943997\ttotal: 34.4ms\tremaining: 35.1ms\n",
      "50:\tlearn: 0.2943211\ttotal: 35.1ms\tremaining: 34.4ms\n",
      "51:\tlearn: 0.2942205\ttotal: 35.8ms\tremaining: 33.7ms\n",
      "52:\tlearn: 0.2941589\ttotal: 36.4ms\tremaining: 33ms\n",
      "53:\tlearn: 0.2940406\ttotal: 37.1ms\tremaining: 32.3ms\n",
      "54:\tlearn: 0.2939742\ttotal: 37.8ms\tremaining: 31.6ms\n",
      "55:\tlearn: 0.2939084\ttotal: 38.4ms\tremaining: 30.9ms\n",
      "56:\tlearn: 0.2938121\ttotal: 39.1ms\tremaining: 30.2ms\n",
      "57:\tlearn: 0.2937525\ttotal: 39.8ms\tremaining: 29.5ms\n",
      "58:\tlearn: 0.2937031\ttotal: 40.4ms\tremaining: 28.8ms\n",
      "59:\tlearn: 0.2936563\ttotal: 41.1ms\tremaining: 28.1ms\n",
      "60:\tlearn: 0.2935945\ttotal: 41.8ms\tremaining: 27.4ms\n",
      "61:\tlearn: 0.2935467\ttotal: 42.5ms\tremaining: 26.7ms\n",
      "62:\tlearn: 0.2934685\ttotal: 43.1ms\tremaining: 26ms\n",
      "63:\tlearn: 0.2933976\ttotal: 43.8ms\tremaining: 25.3ms\n",
      "64:\tlearn: 0.2933204\ttotal: 44.5ms\tremaining: 24.6ms\n",
      "65:\tlearn: 0.2932436\ttotal: 45.2ms\tremaining: 24ms\n",
      "66:\tlearn: 0.2931806\ttotal: 45.9ms\tremaining: 23.3ms\n",
      "67:\tlearn: 0.2931132\ttotal: 46.6ms\tremaining: 22.6ms\n",
      "68:\tlearn: 0.2930599\ttotal: 47.2ms\tremaining: 21.9ms\n",
      "69:\tlearn: 0.2930165\ttotal: 47.9ms\tremaining: 21.2ms\n",
      "70:\tlearn: 0.2929801\ttotal: 48.6ms\tremaining: 20.5ms\n",
      "71:\tlearn: 0.2929364\ttotal: 49.3ms\tremaining: 19.9ms\n",
      "72:\tlearn: 0.2928692\ttotal: 50.1ms\tremaining: 19.2ms\n",
      "73:\tlearn: 0.2928317\ttotal: 50.8ms\tremaining: 18.5ms\n",
      "74:\tlearn: 0.2927968\ttotal: 51.6ms\tremaining: 17.9ms\n",
      "75:\tlearn: 0.2927717\ttotal: 52.3ms\tremaining: 17.2ms\n",
      "76:\tlearn: 0.2927228\ttotal: 53.1ms\tremaining: 16.5ms\n",
      "77:\tlearn: 0.2926868\ttotal: 53.8ms\tremaining: 15.9ms\n",
      "78:\tlearn: 0.2926576\ttotal: 54.5ms\tremaining: 15.2ms\n",
      "79:\tlearn: 0.2926174\ttotal: 55.2ms\tremaining: 14.5ms\n",
      "80:\tlearn: 0.2925903\ttotal: 55.9ms\tremaining: 13.8ms\n",
      "81:\tlearn: 0.2925575\ttotal: 56.6ms\tremaining: 13.1ms\n",
      "82:\tlearn: 0.2924955\ttotal: 57.3ms\tremaining: 12.4ms\n",
      "83:\tlearn: 0.2924645\ttotal: 58ms\tremaining: 11.7ms\n",
      "84:\tlearn: 0.2924405\ttotal: 58.7ms\tremaining: 11.1ms\n",
      "85:\tlearn: 0.2923963\ttotal: 59.4ms\tremaining: 10.4ms\n",
      "86:\tlearn: 0.2923747\ttotal: 60.1ms\tremaining: 9.68ms\n",
      "87:\tlearn: 0.2923497\ttotal: 60.8ms\tremaining: 8.98ms\n",
      "88:\tlearn: 0.2923114\ttotal: 61.5ms\tremaining: 8.29ms\n",
      "89:\tlearn: 0.2922937\ttotal: 62.2ms\tremaining: 7.6ms\n",
      "90:\tlearn: 0.2922719\ttotal: 62.9ms\tremaining: 6.91ms\n",
      "91:\tlearn: 0.2922457\ttotal: 63.6ms\tremaining: 6.22ms\n",
      "92:\tlearn: 0.2922168\ttotal: 64.3ms\tremaining: 5.53ms\n",
      "93:\tlearn: 0.2921830\ttotal: 65ms\tremaining: 4.84ms\n",
      "94:\tlearn: 0.2921445\ttotal: 65.7ms\tremaining: 4.15ms\n",
      "95:\tlearn: 0.2921320\ttotal: 66.3ms\tremaining: 3.46ms\n",
      "96:\tlearn: 0.2921066\ttotal: 67ms\tremaining: 2.76ms\n",
      "97:\tlearn: 0.2920817\ttotal: 67.7ms\tremaining: 2.07ms\n",
      "98:\tlearn: 0.2920591\ttotal: 68.4ms\tremaining: 1.38ms\n",
      "99:\tlearn: 0.2920428\ttotal: 69.1ms\tremaining: 691us\n",
      "100:\tlearn: 0.2920141\ttotal: 69.9ms\tremaining: 0us\n",
      "0:\tlearn: 0.6288470\ttotal: 835us\tremaining: 83.6ms\n",
      "1:\tlearn: 0.5764873\ttotal: 1.76ms\tremaining: 87ms\n",
      "2:\tlearn: 0.5332120\ttotal: 2.59ms\tremaining: 84.6ms\n",
      "3:\tlearn: 0.4971489\ttotal: 3.57ms\tremaining: 86.5ms\n",
      "4:\tlearn: 0.4667680\ttotal: 4.37ms\tremaining: 83.9ms\n",
      "5:\tlearn: 0.4412100\ttotal: 5.17ms\tremaining: 81.8ms\n",
      "6:\tlearn: 0.4195319\ttotal: 5.99ms\tremaining: 80.4ms\n",
      "7:\tlearn: 0.4011571\ttotal: 6.79ms\tremaining: 78.9ms\n",
      "8:\tlearn: 0.3855200\ttotal: 7.64ms\tremaining: 78.1ms\n",
      "9:\tlearn: 0.3722397\ttotal: 8.49ms\tremaining: 77.3ms\n",
      "10:\tlearn: 0.3609037\ttotal: 9.4ms\tremaining: 76.9ms\n",
      "11:\tlearn: 0.3512813\ttotal: 10.3ms\tremaining: 76.1ms\n",
      "12:\tlearn: 0.3429735\ttotal: 11.1ms\tremaining: 75.2ms\n",
      "13:\tlearn: 0.3357825\ttotal: 12ms\tremaining: 74.6ms\n",
      "14:\tlearn: 0.3298397\ttotal: 12.9ms\tremaining: 74.2ms\n",
      "15:\tlearn: 0.3247045\ttotal: 13.9ms\tremaining: 73.7ms\n",
      "16:\tlearn: 0.3204560\ttotal: 14.8ms\tremaining: 73.2ms\n",
      "17:\tlearn: 0.3168423\ttotal: 15.7ms\tremaining: 72.5ms\n",
      "18:\tlearn: 0.3135572\ttotal: 16.7ms\tremaining: 72ms\n",
      "19:\tlearn: 0.3109962\ttotal: 17.8ms\tremaining: 72.2ms\n",
      "20:\tlearn: 0.3086069\ttotal: 18.8ms\tremaining: 71.8ms\n",
      "21:\tlearn: 0.3067417\ttotal: 19.9ms\tremaining: 71.3ms\n",
      "22:\tlearn: 0.3050246\ttotal: 20.8ms\tremaining: 70.4ms\n",
      "23:\tlearn: 0.3037625\ttotal: 21.7ms\tremaining: 69.6ms\n",
      "24:\tlearn: 0.3026399\ttotal: 22.7ms\tremaining: 69ms\n",
      "25:\tlearn: 0.3017611\ttotal: 23.6ms\tremaining: 68.2ms\n",
      "26:\tlearn: 0.3009931\ttotal: 24.6ms\tremaining: 67.4ms\n",
      "27:\tlearn: 0.3001244\ttotal: 25.4ms\tremaining: 66.2ms\n",
      "28:\tlearn: 0.2993896\ttotal: 26.2ms\tremaining: 65ms\n",
      "29:\tlearn: 0.2988181\ttotal: 27ms\tremaining: 63.8ms\n",
      "30:\tlearn: 0.2984712\ttotal: 27.8ms\tremaining: 62.7ms\n",
      "31:\tlearn: 0.2979313\ttotal: 28.6ms\tremaining: 61.6ms\n",
      "32:\tlearn: 0.2974468\ttotal: 29.3ms\tremaining: 60.5ms\n",
      "33:\tlearn: 0.2970850\ttotal: 30.1ms\tremaining: 59.3ms\n",
      "34:\tlearn: 0.2967061\ttotal: 30.9ms\tremaining: 58.3ms\n",
      "35:\tlearn: 0.2963859\ttotal: 31.6ms\tremaining: 57ms\n",
      "36:\tlearn: 0.2962771\ttotal: 32.2ms\tremaining: 55.7ms\n",
      "37:\tlearn: 0.2960950\ttotal: 33ms\tremaining: 54.6ms\n",
      "38:\tlearn: 0.2958046\ttotal: 33.7ms\tremaining: 53.5ms\n",
      "39:\tlearn: 0.2956120\ttotal: 34.3ms\tremaining: 52.3ms\n",
      "40:\tlearn: 0.2954008\ttotal: 35.1ms\tremaining: 51.3ms\n",
      "41:\tlearn: 0.2952434\ttotal: 35.7ms\tremaining: 50.2ms\n",
      "42:\tlearn: 0.2950990\ttotal: 36.4ms\tremaining: 49.1ms\n",
      "43:\tlearn: 0.2949548\ttotal: 37.2ms\tremaining: 48.1ms\n",
      "44:\tlearn: 0.2948403\ttotal: 37.8ms\tremaining: 47.1ms\n",
      "45:\tlearn: 0.2946648\ttotal: 38.5ms\tremaining: 46ms\n",
      "46:\tlearn: 0.2945369\ttotal: 39.1ms\tremaining: 44.9ms\n",
      "47:\tlearn: 0.2943494\ttotal: 39.7ms\tremaining: 43.8ms\n",
      "48:\tlearn: 0.2941924\ttotal: 40.3ms\tremaining: 42.8ms\n",
      "49:\tlearn: 0.2940812\ttotal: 40.9ms\tremaining: 41.8ms\n",
      "50:\tlearn: 0.2939907\ttotal: 41.6ms\tremaining: 40.8ms\n",
      "51:\tlearn: 0.2938910\ttotal: 42.2ms\tremaining: 39.8ms\n",
      "52:\tlearn: 0.2938191\ttotal: 42.9ms\tremaining: 38.9ms\n",
      "53:\tlearn: 0.2936938\ttotal: 43.6ms\tremaining: 38ms\n",
      "54:\tlearn: 0.2936308\ttotal: 44.3ms\tremaining: 37.1ms\n",
      "55:\tlearn: 0.2936248\ttotal: 45.2ms\tremaining: 36.3ms\n",
      "56:\tlearn: 0.2935349\ttotal: 46ms\tremaining: 35.5ms\n",
      "57:\tlearn: 0.2934926\ttotal: 46.6ms\tremaining: 34.6ms\n",
      "58:\tlearn: 0.2934355\ttotal: 47.3ms\tremaining: 33.7ms\n",
      "59:\tlearn: 0.2933888\ttotal: 48ms\tremaining: 32.8ms\n",
      "60:\tlearn: 0.2933849\ttotal: 48.7ms\tremaining: 31.9ms\n",
      "61:\tlearn: 0.2932942\ttotal: 49.3ms\tremaining: 31ms\n",
      "62:\tlearn: 0.2932900\ttotal: 50.1ms\tremaining: 30.2ms\n",
      "63:\tlearn: 0.2932069\ttotal: 50.8ms\tremaining: 29.4ms\n",
      "64:\tlearn: 0.2931585\ttotal: 51.5ms\tremaining: 28.5ms\n",
      "65:\tlearn: 0.2931245\ttotal: 52.2ms\tremaining: 27.7ms\n",
      "66:\tlearn: 0.2930232\ttotal: 52.8ms\tremaining: 26.8ms\n",
      "67:\tlearn: 0.2930199\ttotal: 53.5ms\tremaining: 26ms\n",
      "68:\tlearn: 0.2929358\ttotal: 54.2ms\tremaining: 25.1ms\n",
      "69:\tlearn: 0.2928665\ttotal: 54.8ms\tremaining: 24.3ms\n",
      "70:\tlearn: 0.2927997\ttotal: 55.5ms\tremaining: 23.5ms\n",
      "71:\tlearn: 0.2927389\ttotal: 56.2ms\tremaining: 22.6ms\n",
      "72:\tlearn: 0.2927356\ttotal: 56.9ms\tremaining: 21.8ms\n",
      "73:\tlearn: 0.2926808\ttotal: 57.6ms\tremaining: 21ms\n",
      "74:\tlearn: 0.2926478\ttotal: 58.3ms\tremaining: 20.2ms\n",
      "75:\tlearn: 0.2926444\ttotal: 59ms\tremaining: 19.4ms\n",
      "76:\tlearn: 0.2926415\ttotal: 59.8ms\tremaining: 18.6ms\n",
      "77:\tlearn: 0.2925852\ttotal: 60.5ms\tremaining: 17.8ms\n",
      "78:\tlearn: 0.2925394\ttotal: 61.2ms\tremaining: 17ms\n",
      "79:\tlearn: 0.2925362\ttotal: 61.9ms\tremaining: 16.2ms\n",
      "80:\tlearn: 0.2924940\ttotal: 62.5ms\tremaining: 15.4ms\n",
      "81:\tlearn: 0.2924911\ttotal: 63.2ms\tremaining: 14.7ms\n",
      "82:\tlearn: 0.2924879\ttotal: 63.9ms\tremaining: 13.9ms\n",
      "83:\tlearn: 0.2924420\ttotal: 64.6ms\tremaining: 13.1ms\n",
      "84:\tlearn: 0.2924062\ttotal: 65.4ms\tremaining: 12.3ms\n",
      "85:\tlearn: 0.2924034\ttotal: 66ms\tremaining: 11.5ms\n",
      "86:\tlearn: 0.2924001\ttotal: 66.7ms\tremaining: 10.7ms\n",
      "87:\tlearn: 0.2923973\ttotal: 67.4ms\tremaining: 9.96ms\n",
      "88:\tlearn: 0.2923944\ttotal: 68.1ms\tremaining: 9.18ms\n",
      "89:\tlearn: 0.2923647\ttotal: 68.8ms\tremaining: 8.41ms\n",
      "90:\tlearn: 0.2923388\ttotal: 69.5ms\tremaining: 7.64ms\n",
      "91:\tlearn: 0.2922754\ttotal: 70.2ms\tremaining: 6.87ms\n",
      "92:\tlearn: 0.2922722\ttotal: 70.9ms\tremaining: 6.1ms\n",
      "93:\tlearn: 0.2922693\ttotal: 71.6ms\tremaining: 5.33ms\n",
      "94:\tlearn: 0.2922663\ttotal: 72.4ms\tremaining: 4.57ms\n",
      "95:\tlearn: 0.2922637\ttotal: 73.1ms\tremaining: 3.81ms\n",
      "96:\tlearn: 0.2922608\ttotal: 73.8ms\tremaining: 3.04ms\n",
      "97:\tlearn: 0.2922165\ttotal: 74.8ms\tremaining: 2.29ms\n",
      "98:\tlearn: 0.2922137\ttotal: 75.5ms\tremaining: 1.52ms\n",
      "99:\tlearn: 0.2922111\ttotal: 76.3ms\tremaining: 763us\n",
      "100:\tlearn: 0.2922082\ttotal: 77.1ms\tremaining: 0us\n",
      "0:\tlearn: 0.6288361\ttotal: 637us\tremaining: 63.7ms\n",
      "1:\tlearn: 0.5764422\ttotal: 1.38ms\tremaining: 68.4ms\n",
      "2:\tlearn: 0.5331668\ttotal: 2.03ms\tremaining: 66.3ms\n",
      "3:\tlearn: 0.4971217\ttotal: 2.69ms\tremaining: 65.2ms\n",
      "4:\tlearn: 0.4667066\ttotal: 3.31ms\tremaining: 63.6ms\n",
      "5:\tlearn: 0.4411385\ttotal: 3.98ms\tremaining: 63.1ms\n",
      "6:\tlearn: 0.4194891\ttotal: 4.66ms\tremaining: 62.6ms\n",
      "7:\tlearn: 0.4010650\ttotal: 5.32ms\tremaining: 61.8ms\n",
      "8:\tlearn: 0.3853872\ttotal: 6.01ms\tremaining: 61.4ms\n",
      "9:\tlearn: 0.3720560\ttotal: 6.68ms\tremaining: 60.8ms\n",
      "10:\tlearn: 0.3607513\ttotal: 7.36ms\tremaining: 60.3ms\n",
      "11:\tlearn: 0.3511233\ttotal: 8.06ms\tremaining: 59.8ms\n",
      "12:\tlearn: 0.3427986\ttotal: 8.79ms\tremaining: 59.5ms\n",
      "13:\tlearn: 0.3355315\ttotal: 9.47ms\tremaining: 58.9ms\n",
      "14:\tlearn: 0.3295906\ttotal: 10.1ms\tremaining: 58.1ms\n",
      "15:\tlearn: 0.3244402\ttotal: 10.8ms\tremaining: 57.6ms\n",
      "16:\tlearn: 0.3201849\ttotal: 11.5ms\tremaining: 56.9ms\n",
      "17:\tlearn: 0.3164987\ttotal: 12.2ms\tremaining: 56.2ms\n",
      "18:\tlearn: 0.3130850\ttotal: 12.8ms\tremaining: 55.4ms\n",
      "19:\tlearn: 0.3101785\ttotal: 13.5ms\tremaining: 54.7ms\n",
      "20:\tlearn: 0.3077059\ttotal: 14.2ms\tremaining: 54ms\n",
      "21:\tlearn: 0.3058225\ttotal: 14.9ms\tremaining: 53.4ms\n",
      "22:\tlearn: 0.3039945\ttotal: 15.6ms\tremaining: 52.8ms\n",
      "23:\tlearn: 0.3027294\ttotal: 16.2ms\tremaining: 52.1ms\n",
      "24:\tlearn: 0.3015696\ttotal: 16.9ms\tremaining: 51.4ms\n",
      "25:\tlearn: 0.3005233\ttotal: 17.6ms\tremaining: 50.9ms\n",
      "26:\tlearn: 0.2994496\ttotal: 18.4ms\tremaining: 50.5ms\n",
      "27:\tlearn: 0.2986970\ttotal: 19.2ms\tremaining: 50.1ms\n",
      "28:\tlearn: 0.2978807\ttotal: 20ms\tremaining: 49.5ms\n",
      "29:\tlearn: 0.2972934\ttotal: 20.7ms\tremaining: 48.9ms\n",
      "30:\tlearn: 0.2966068\ttotal: 21.4ms\tremaining: 48.4ms\n",
      "31:\tlearn: 0.2959975\ttotal: 22.2ms\tremaining: 47.9ms\n",
      "32:\tlearn: 0.2954761\ttotal: 23ms\tremaining: 47.4ms\n",
      "33:\tlearn: 0.2950029\ttotal: 23.7ms\tremaining: 46.8ms\n",
      "34:\tlearn: 0.2945457\ttotal: 24.4ms\tremaining: 46ms\n",
      "35:\tlearn: 0.2941572\ttotal: 25.1ms\tremaining: 45.3ms\n",
      "36:\tlearn: 0.2939221\ttotal: 25.8ms\tremaining: 44.6ms\n",
      "37:\tlearn: 0.2936908\ttotal: 26.5ms\tremaining: 43.9ms\n",
      "38:\tlearn: 0.2933866\ttotal: 27.2ms\tremaining: 43.3ms\n",
      "39:\tlearn: 0.2932104\ttotal: 28ms\tremaining: 42.7ms\n",
      "40:\tlearn: 0.2929548\ttotal: 28.8ms\tremaining: 42.1ms\n",
      "41:\tlearn: 0.2927127\ttotal: 29.6ms\tremaining: 41.5ms\n",
      "42:\tlearn: 0.2926163\ttotal: 30.3ms\tremaining: 40.9ms\n",
      "43:\tlearn: 0.2924471\ttotal: 31.1ms\tremaining: 40.3ms\n",
      "44:\tlearn: 0.2923408\ttotal: 31.9ms\tremaining: 39.6ms\n",
      "45:\tlearn: 0.2921105\ttotal: 32.6ms\tremaining: 39ms\n",
      "46:\tlearn: 0.2920219\ttotal: 33.3ms\tremaining: 38.3ms\n",
      "47:\tlearn: 0.2917754\ttotal: 34.1ms\tremaining: 37.6ms\n",
      "48:\tlearn: 0.2915687\ttotal: 34.8ms\tremaining: 36.9ms\n",
      "49:\tlearn: 0.2914642\ttotal: 35.5ms\tremaining: 36.2ms\n",
      "50:\tlearn: 0.2913792\ttotal: 36.2ms\tremaining: 35.5ms\n",
      "51:\tlearn: 0.2912561\ttotal: 36.9ms\tremaining: 34.7ms\n",
      "52:\tlearn: 0.2911884\ttotal: 37.5ms\tremaining: 34ms\n",
      "53:\tlearn: 0.2910207\ttotal: 38.3ms\tremaining: 33.3ms\n",
      "54:\tlearn: 0.2909019\ttotal: 38.9ms\tremaining: 32.6ms\n",
      "55:\tlearn: 0.2907716\ttotal: 39.6ms\tremaining: 31.8ms\n",
      "56:\tlearn: 0.2906317\ttotal: 40.4ms\tremaining: 31.1ms\n",
      "57:\tlearn: 0.2906117\ttotal: 41.1ms\tremaining: 30.5ms\n",
      "58:\tlearn: 0.2905613\ttotal: 41.8ms\tremaining: 29.7ms\n",
      "59:\tlearn: 0.2905568\ttotal: 42.5ms\tremaining: 29.1ms\n",
      "60:\tlearn: 0.2905528\ttotal: 43.2ms\tremaining: 28.4ms\n",
      "61:\tlearn: 0.2904650\ttotal: 44ms\tremaining: 27.7ms\n",
      "62:\tlearn: 0.2904610\ttotal: 44.7ms\tremaining: 27ms\n",
      "63:\tlearn: 0.2903589\ttotal: 45.5ms\tremaining: 26.3ms\n",
      "64:\tlearn: 0.2903157\ttotal: 46.2ms\tremaining: 25.6ms\n",
      "65:\tlearn: 0.2902401\ttotal: 47ms\tremaining: 24.9ms\n",
      "66:\tlearn: 0.2901250\ttotal: 47.7ms\tremaining: 24.2ms\n",
      "67:\tlearn: 0.2901217\ttotal: 48.4ms\tremaining: 23.5ms\n",
      "68:\tlearn: 0.2900700\ttotal: 49.1ms\tremaining: 22.8ms\n",
      "69:\tlearn: 0.2900273\ttotal: 49.9ms\tremaining: 22.1ms\n",
      "70:\tlearn: 0.2899781\ttotal: 50.6ms\tremaining: 21.4ms\n",
      "71:\tlearn: 0.2899192\ttotal: 51.3ms\tremaining: 20.7ms\n",
      "72:\tlearn: 0.2899161\ttotal: 52ms\tremaining: 20ms\n",
      "73:\tlearn: 0.2899130\ttotal: 52.8ms\tremaining: 19.3ms\n",
      "74:\tlearn: 0.2898761\ttotal: 53.5ms\tremaining: 18.6ms\n",
      "75:\tlearn: 0.2898731\ttotal: 54.3ms\tremaining: 17.8ms\n",
      "76:\tlearn: 0.2897810\ttotal: 55ms\tremaining: 17.1ms\n",
      "77:\tlearn: 0.2897049\ttotal: 55.7ms\tremaining: 16.4ms\n",
      "78:\tlearn: 0.2896419\ttotal: 56.4ms\tremaining: 15.7ms\n",
      "79:\tlearn: 0.2896389\ttotal: 57.1ms\tremaining: 15ms\n",
      "80:\tlearn: 0.2895823\ttotal: 57.8ms\tremaining: 14.3ms\n",
      "81:\tlearn: 0.2895795\ttotal: 58.5ms\tremaining: 13.6ms\n",
      "82:\tlearn: 0.2895761\ttotal: 59.3ms\tremaining: 12.8ms\n",
      "83:\tlearn: 0.2895110\ttotal: 60ms\tremaining: 12.1ms\n",
      "84:\tlearn: 0.2894595\ttotal: 60.7ms\tremaining: 11.4ms\n",
      "85:\tlearn: 0.2894567\ttotal: 61.4ms\tremaining: 10.7ms\n",
      "86:\tlearn: 0.2894112\ttotal: 62.1ms\tremaining: 10ms\n",
      "87:\tlearn: 0.2894081\ttotal: 62.9ms\tremaining: 9.29ms\n",
      "88:\tlearn: 0.2893689\ttotal: 63.6ms\tremaining: 8.57ms\n",
      "89:\tlearn: 0.2893367\ttotal: 64.3ms\tremaining: 7.85ms\n",
      "90:\tlearn: 0.2892813\ttotal: 65ms\tremaining: 7.14ms\n",
      "91:\tlearn: 0.2892780\ttotal: 65.7ms\tremaining: 6.43ms\n",
      "92:\tlearn: 0.2892569\ttotal: 66.5ms\tremaining: 5.72ms\n",
      "93:\tlearn: 0.2892539\ttotal: 67.2ms\tremaining: 5ms\n",
      "94:\tlearn: 0.2892508\ttotal: 67.9ms\tremaining: 4.29ms\n",
      "95:\tlearn: 0.2892478\ttotal: 68.6ms\tremaining: 3.57ms\n",
      "96:\tlearn: 0.2892450\ttotal: 69.3ms\tremaining: 2.86ms\n",
      "97:\tlearn: 0.2892001\ttotal: 70.1ms\tremaining: 2.14ms\n",
      "98:\tlearn: 0.2891974\ttotal: 70.8ms\tremaining: 1.43ms\n",
      "99:\tlearn: 0.2891944\ttotal: 71.5ms\tremaining: 714us\n",
      "100:\tlearn: 0.2891916\ttotal: 72.2ms\tremaining: 0us\n",
      "0:\tlearn: 0.6731207\ttotal: 2.09ms\tremaining: 18.8ms\n",
      "1:\tlearn: 0.6543046\ttotal: 3.71ms\tremaining: 14.8ms\n",
      "2:\tlearn: 0.6365566\ttotal: 5.32ms\tremaining: 12.4ms\n",
      "3:\tlearn: 0.6198283\ttotal: 6.89ms\tremaining: 10.3ms\n",
      "4:\tlearn: 0.6040112\ttotal: 8.5ms\tremaining: 8.5ms\n",
      "5:\tlearn: 0.5890752\ttotal: 10.1ms\tremaining: 6.72ms\n",
      "6:\tlearn: 0.5749363\ttotal: 11.5ms\tremaining: 4.91ms\n",
      "7:\tlearn: 0.5615519\ttotal: 12.8ms\tremaining: 3.2ms\n",
      "8:\tlearn: 0.5488680\ttotal: 14.1ms\tremaining: 1.57ms\n",
      "9:\tlearn: 0.5368474\ttotal: 15.4ms\tremaining: 0us\n",
      "0:\tlearn: 0.6731313\ttotal: 2.97ms\tremaining: 26.7ms\n",
      "1:\tlearn: 0.6543383\ttotal: 5.33ms\tremaining: 21.3ms\n",
      "2:\tlearn: 0.6365946\ttotal: 7.52ms\tremaining: 17.5ms\n",
      "3:\tlearn: 0.6198691\ttotal: 8.93ms\tremaining: 13.4ms\n",
      "4:\tlearn: 0.6040522\ttotal: 10.2ms\tremaining: 10.2ms\n",
      "5:\tlearn: 0.5891213\ttotal: 11.6ms\tremaining: 7.73ms\n",
      "6:\tlearn: 0.5749936\ttotal: 12.9ms\tremaining: 5.53ms\n",
      "7:\tlearn: 0.5616165\ttotal: 14.2ms\tremaining: 3.56ms\n",
      "8:\tlearn: 0.5489419\ttotal: 15.4ms\tremaining: 1.71ms\n",
      "9:\tlearn: 0.5369339\ttotal: 16.5ms\tremaining: 0us\n",
      "0:\tlearn: 0.6731337\ttotal: 1.14ms\tremaining: 10.3ms\n",
      "1:\tlearn: 0.6543143\ttotal: 2.38ms\tremaining: 9.51ms\n",
      "2:\tlearn: 0.6365846\ttotal: 3.26ms\tremaining: 7.61ms\n",
      "3:\tlearn: 0.6198619\ttotal: 4.3ms\tremaining: 6.45ms\n",
      "4:\tlearn: 0.6040365\ttotal: 5.22ms\tremaining: 5.22ms\n",
      "5:\tlearn: 0.5891071\ttotal: 6.27ms\tremaining: 4.18ms\n",
      "6:\tlearn: 0.5749714\ttotal: 7.26ms\tremaining: 3.11ms\n",
      "7:\tlearn: 0.5615929\ttotal: 8.03ms\tremaining: 2.01ms\n",
      "8:\tlearn: 0.5489088\ttotal: 8.98ms\tremaining: 997us\n",
      "9:\tlearn: 0.5368879\ttotal: 9.89ms\tremaining: 0us\n",
      "0:\tlearn: 0.6288162\ttotal: 707us\tremaining: 6.37ms\n",
      "1:\tlearn: 0.5764212\ttotal: 1.53ms\tremaining: 6.12ms\n",
      "2:\tlearn: 0.5331376\ttotal: 2.16ms\tremaining: 5.05ms\n",
      "3:\tlearn: 0.4970231\ttotal: 2.82ms\tremaining: 4.23ms\n",
      "4:\tlearn: 0.4666540\ttotal: 3.55ms\tremaining: 3.55ms\n",
      "5:\tlearn: 0.4410771\ttotal: 4.25ms\tremaining: 2.84ms\n",
      "6:\tlearn: 0.4193936\ttotal: 4.93ms\tremaining: 2.11ms\n",
      "7:\tlearn: 0.4010058\ttotal: 5.71ms\tremaining: 1.43ms\n",
      "8:\tlearn: 0.3853539\ttotal: 6.4ms\tremaining: 711us\n",
      "9:\tlearn: 0.3720553\ttotal: 7.1ms\tremaining: 0us\n",
      "0:\tlearn: 0.6288470\ttotal: 724us\tremaining: 6.52ms\n",
      "1:\tlearn: 0.5764873\ttotal: 1.59ms\tremaining: 6.38ms\n",
      "2:\tlearn: 0.5332120\ttotal: 2.49ms\tremaining: 5.8ms\n",
      "3:\tlearn: 0.4971489\ttotal: 3.2ms\tremaining: 4.8ms\n",
      "4:\tlearn: 0.4667680\ttotal: 3.89ms\tremaining: 3.89ms\n",
      "5:\tlearn: 0.4412100\ttotal: 4.68ms\tremaining: 3.12ms\n",
      "6:\tlearn: 0.4195319\ttotal: 5.42ms\tremaining: 2.32ms\n",
      "7:\tlearn: 0.4011571\ttotal: 6.13ms\tremaining: 1.53ms\n",
      "8:\tlearn: 0.3855200\ttotal: 6.94ms\tremaining: 770us\n",
      "9:\tlearn: 0.3722397\ttotal: 7.81ms\tremaining: 0us\n",
      "0:\tlearn: 0.6288361\ttotal: 664us\tremaining: 5.98ms\n",
      "1:\tlearn: 0.5764422\ttotal: 1.71ms\tremaining: 6.86ms\n",
      "2:\tlearn: 0.5331668\ttotal: 2.52ms\tremaining: 5.88ms\n",
      "3:\tlearn: 0.4971217\ttotal: 3.33ms\tremaining: 5ms\n",
      "4:\tlearn: 0.4667066\ttotal: 4.06ms\tremaining: 4.06ms\n",
      "5:\tlearn: 0.4411385\ttotal: 4.77ms\tremaining: 3.18ms\n",
      "6:\tlearn: 0.4194891\ttotal: 5.56ms\tremaining: 2.38ms\n",
      "7:\tlearn: 0.4010650\ttotal: 6.29ms\tremaining: 1.57ms\n",
      "8:\tlearn: 0.3853872\ttotal: 7.08ms\tremaining: 786us\n",
      "9:\tlearn: 0.3720560\ttotal: 7.88ms\tremaining: 0us\n",
      "0:\tlearn: 0.6731149\ttotal: 3.26ms\tremaining: 0us\n",
      "{'depth': 1, 'iterations': 1, 'learning_rate': 0.03}\n",
      "0.91134444966301\n"
     ]
    }
   ],
   "source": [
    "model = CatBoostClassifier(random_state=12345)\n",
    "params_rfc = {\"iterations\": [1, 101, 10],\n",
    "          \"depth\": [1,12,1],\n",
    "          \"learning_rate\": [0.03, 0.1]}\n",
    "CBC = GridSearchCV(model, params_rfc, cv=3)\n",
    "CBC.fit(features_train,target_train)\n",
    "print(CBC.best_params_)\n",
    "print(CBC.best_score_)"
   ]
  },
  {
   "cell_type": "markdown",
   "metadata": {},
   "source": [
    "Обучим модель CatBoostClassifier с подобранными параметрами."
   ]
  },
  {
   "cell_type": "code",
   "execution_count": 66,
   "metadata": {},
   "outputs": [
    {
     "name": "stdout",
     "output_type": "stream",
     "text": [
      "Learning rate set to 0.030463\n",
      "0:\tlearn: 0.6637998\ttotal: 15.5ms\tremaining: 15.5s\n",
      "1:\tlearn: 0.6371968\ttotal: 21.8ms\tremaining: 10.9s\n",
      "2:\tlearn: 0.6122985\ttotal: 27.6ms\tremaining: 9.16s\n",
      "3:\tlearn: 0.5892821\ttotal: 32.8ms\tremaining: 8.16s\n",
      "4:\tlearn: 0.5675592\ttotal: 38ms\tremaining: 7.55s\n",
      "5:\tlearn: 0.5473428\ttotal: 43.2ms\tremaining: 7.16s\n",
      "6:\tlearn: 0.5291398\ttotal: 45.9ms\tremaining: 6.5s\n",
      "7:\tlearn: 0.5123953\ttotal: 51.3ms\tremaining: 6.36s\n",
      "8:\tlearn: 0.4961368\ttotal: 58.3ms\tremaining: 6.41s\n",
      "9:\tlearn: 0.4811271\ttotal: 65.5ms\tremaining: 6.48s\n",
      "10:\tlearn: 0.4673910\ttotal: 72.8ms\tremaining: 6.55s\n",
      "11:\tlearn: 0.4550960\ttotal: 77.1ms\tremaining: 6.35s\n",
      "12:\tlearn: 0.4438538\ttotal: 82.8ms\tremaining: 6.29s\n",
      "13:\tlearn: 0.4333169\ttotal: 88.7ms\tremaining: 6.25s\n",
      "14:\tlearn: 0.4229187\ttotal: 94.8ms\tremaining: 6.22s\n",
      "15:\tlearn: 0.4136068\ttotal: 101ms\tremaining: 6.22s\n",
      "16:\tlearn: 0.4047962\ttotal: 108ms\tremaining: 6.22s\n",
      "17:\tlearn: 0.3967442\ttotal: 114ms\tremaining: 6.24s\n",
      "18:\tlearn: 0.3895736\ttotal: 120ms\tremaining: 6.21s\n",
      "19:\tlearn: 0.3830084\ttotal: 124ms\tremaining: 6.07s\n",
      "20:\tlearn: 0.3766096\ttotal: 129ms\tremaining: 6.03s\n",
      "21:\tlearn: 0.3706264\ttotal: 136ms\tremaining: 6.04s\n",
      "22:\tlearn: 0.3653536\ttotal: 141ms\tremaining: 5.99s\n",
      "23:\tlearn: 0.3604230\ttotal: 147ms\tremaining: 5.99s\n",
      "24:\tlearn: 0.3553242\ttotal: 154ms\tremaining: 6.02s\n",
      "25:\tlearn: 0.3510658\ttotal: 160ms\tremaining: 5.99s\n",
      "26:\tlearn: 0.3470511\ttotal: 166ms\tremaining: 5.98s\n",
      "27:\tlearn: 0.3434583\ttotal: 171ms\tremaining: 5.93s\n",
      "28:\tlearn: 0.3400270\ttotal: 180ms\tremaining: 6.01s\n",
      "29:\tlearn: 0.3368585\ttotal: 184ms\tremaining: 5.96s\n",
      "30:\tlearn: 0.3338434\ttotal: 190ms\tremaining: 5.95s\n",
      "31:\tlearn: 0.3306854\ttotal: 204ms\tremaining: 6.18s\n",
      "32:\tlearn: 0.3279782\ttotal: 211ms\tremaining: 6.18s\n",
      "33:\tlearn: 0.3253446\ttotal: 216ms\tremaining: 6.14s\n",
      "34:\tlearn: 0.3228023\ttotal: 222ms\tremaining: 6.11s\n",
      "35:\tlearn: 0.3207755\ttotal: 226ms\tremaining: 6.05s\n",
      "36:\tlearn: 0.3187947\ttotal: 229ms\tremaining: 5.96s\n",
      "37:\tlearn: 0.3170079\ttotal: 232ms\tremaining: 5.88s\n",
      "38:\tlearn: 0.3152758\ttotal: 237ms\tremaining: 5.84s\n",
      "39:\tlearn: 0.3136662\ttotal: 242ms\tremaining: 5.8s\n",
      "40:\tlearn: 0.3123027\ttotal: 245ms\tremaining: 5.73s\n",
      "41:\tlearn: 0.3107299\ttotal: 250ms\tremaining: 5.71s\n",
      "42:\tlearn: 0.3094278\ttotal: 253ms\tremaining: 5.64s\n",
      "43:\tlearn: 0.3081825\ttotal: 258ms\tremaining: 5.6s\n",
      "44:\tlearn: 0.3069660\ttotal: 263ms\tremaining: 5.58s\n",
      "45:\tlearn: 0.3058816\ttotal: 268ms\tremaining: 5.55s\n",
      "46:\tlearn: 0.3047707\ttotal: 273ms\tremaining: 5.54s\n",
      "47:\tlearn: 0.3036197\ttotal: 278ms\tremaining: 5.51s\n",
      "48:\tlearn: 0.3028492\ttotal: 282ms\tremaining: 5.46s\n",
      "49:\tlearn: 0.3020652\ttotal: 287ms\tremaining: 5.45s\n",
      "50:\tlearn: 0.3013835\ttotal: 289ms\tremaining: 5.38s\n",
      "51:\tlearn: 0.3006006\ttotal: 293ms\tremaining: 5.34s\n",
      "52:\tlearn: 0.2998235\ttotal: 298ms\tremaining: 5.32s\n",
      "53:\tlearn: 0.2991221\ttotal: 303ms\tremaining: 5.3s\n",
      "54:\tlearn: 0.2985507\ttotal: 307ms\tremaining: 5.28s\n",
      "55:\tlearn: 0.2979585\ttotal: 312ms\tremaining: 5.26s\n",
      "56:\tlearn: 0.2973046\ttotal: 317ms\tremaining: 5.24s\n",
      "57:\tlearn: 0.2967442\ttotal: 321ms\tremaining: 5.22s\n",
      "58:\tlearn: 0.2962335\ttotal: 324ms\tremaining: 5.17s\n",
      "59:\tlearn: 0.2956065\ttotal: 329ms\tremaining: 5.16s\n",
      "60:\tlearn: 0.2952102\ttotal: 334ms\tremaining: 5.14s\n",
      "61:\tlearn: 0.2947223\ttotal: 338ms\tremaining: 5.12s\n",
      "62:\tlearn: 0.2944315\ttotal: 342ms\tremaining: 5.08s\n",
      "63:\tlearn: 0.2940431\ttotal: 346ms\tremaining: 5.07s\n",
      "64:\tlearn: 0.2936726\ttotal: 351ms\tremaining: 5.05s\n",
      "65:\tlearn: 0.2933540\ttotal: 356ms\tremaining: 5.04s\n",
      "66:\tlearn: 0.2930058\ttotal: 361ms\tremaining: 5.03s\n",
      "67:\tlearn: 0.2926998\ttotal: 366ms\tremaining: 5.01s\n",
      "68:\tlearn: 0.2924155\ttotal: 368ms\tremaining: 4.97s\n",
      "69:\tlearn: 0.2920233\ttotal: 372ms\tremaining: 4.95s\n",
      "70:\tlearn: 0.2917256\ttotal: 376ms\tremaining: 4.92s\n",
      "71:\tlearn: 0.2913340\ttotal: 381ms\tremaining: 4.91s\n",
      "72:\tlearn: 0.2910078\ttotal: 386ms\tremaining: 4.9s\n",
      "73:\tlearn: 0.2907155\ttotal: 391ms\tremaining: 4.89s\n",
      "74:\tlearn: 0.2904218\ttotal: 396ms\tremaining: 4.88s\n",
      "75:\tlearn: 0.2902382\ttotal: 400ms\tremaining: 4.87s\n",
      "76:\tlearn: 0.2900551\ttotal: 405ms\tremaining: 4.85s\n",
      "77:\tlearn: 0.2898658\ttotal: 409ms\tremaining: 4.84s\n",
      "78:\tlearn: 0.2896087\ttotal: 413ms\tremaining: 4.82s\n",
      "79:\tlearn: 0.2894402\ttotal: 417ms\tremaining: 4.79s\n",
      "80:\tlearn: 0.2891715\ttotal: 421ms\tremaining: 4.78s\n",
      "81:\tlearn: 0.2890204\ttotal: 426ms\tremaining: 4.77s\n",
      "82:\tlearn: 0.2888409\ttotal: 431ms\tremaining: 4.76s\n",
      "83:\tlearn: 0.2886413\ttotal: 436ms\tremaining: 4.76s\n",
      "84:\tlearn: 0.2884362\ttotal: 441ms\tremaining: 4.75s\n",
      "85:\tlearn: 0.2883339\ttotal: 444ms\tremaining: 4.71s\n",
      "86:\tlearn: 0.2881375\ttotal: 448ms\tremaining: 4.71s\n",
      "87:\tlearn: 0.2878297\ttotal: 454ms\tremaining: 4.7s\n",
      "88:\tlearn: 0.2876068\ttotal: 459ms\tremaining: 4.69s\n",
      "89:\tlearn: 0.2873852\ttotal: 463ms\tremaining: 4.68s\n",
      "90:\tlearn: 0.2871506\ttotal: 468ms\tremaining: 4.68s\n",
      "91:\tlearn: 0.2868943\ttotal: 474ms\tremaining: 4.67s\n",
      "92:\tlearn: 0.2866129\ttotal: 478ms\tremaining: 4.67s\n",
      "93:\tlearn: 0.2864299\ttotal: 483ms\tremaining: 4.66s\n",
      "94:\tlearn: 0.2862473\ttotal: 488ms\tremaining: 4.65s\n",
      "95:\tlearn: 0.2860763\ttotal: 493ms\tremaining: 4.64s\n",
      "96:\tlearn: 0.2859750\ttotal: 498ms\tremaining: 4.63s\n",
      "97:\tlearn: 0.2859296\ttotal: 500ms\tremaining: 4.6s\n",
      "98:\tlearn: 0.2858266\ttotal: 505ms\tremaining: 4.59s\n",
      "99:\tlearn: 0.2856723\ttotal: 510ms\tremaining: 4.59s\n",
      "100:\tlearn: 0.2855750\ttotal: 514ms\tremaining: 4.58s\n",
      "101:\tlearn: 0.2854765\ttotal: 519ms\tremaining: 4.57s\n",
      "102:\tlearn: 0.2852455\ttotal: 524ms\tremaining: 4.56s\n",
      "103:\tlearn: 0.2850417\ttotal: 529ms\tremaining: 4.56s\n",
      "104:\tlearn: 0.2849061\ttotal: 534ms\tremaining: 4.55s\n",
      "105:\tlearn: 0.2847332\ttotal: 540ms\tremaining: 4.55s\n",
      "106:\tlearn: 0.2846416\ttotal: 545ms\tremaining: 4.55s\n",
      "107:\tlearn: 0.2845529\ttotal: 550ms\tremaining: 4.54s\n",
      "108:\tlearn: 0.2844608\ttotal: 555ms\tremaining: 4.53s\n",
      "109:\tlearn: 0.2843481\ttotal: 559ms\tremaining: 4.53s\n",
      "110:\tlearn: 0.2842579\ttotal: 564ms\tremaining: 4.52s\n",
      "111:\tlearn: 0.2841249\ttotal: 569ms\tremaining: 4.51s\n",
      "112:\tlearn: 0.2840712\ttotal: 573ms\tremaining: 4.5s\n",
      "113:\tlearn: 0.2839235\ttotal: 579ms\tremaining: 4.5s\n",
      "114:\tlearn: 0.2837752\ttotal: 583ms\tremaining: 4.49s\n",
      "115:\tlearn: 0.2836368\ttotal: 587ms\tremaining: 4.48s\n",
      "116:\tlearn: 0.2835550\ttotal: 592ms\tremaining: 4.46s\n",
      "117:\tlearn: 0.2834507\ttotal: 596ms\tremaining: 4.45s\n",
      "118:\tlearn: 0.2832950\ttotal: 600ms\tremaining: 4.44s\n",
      "119:\tlearn: 0.2831686\ttotal: 604ms\tremaining: 4.43s\n",
      "120:\tlearn: 0.2830064\ttotal: 608ms\tremaining: 4.42s\n",
      "121:\tlearn: 0.2829293\ttotal: 613ms\tremaining: 4.41s\n",
      "122:\tlearn: 0.2828048\ttotal: 618ms\tremaining: 4.41s\n",
      "123:\tlearn: 0.2827319\ttotal: 623ms\tremaining: 4.4s\n",
      "124:\tlearn: 0.2826881\ttotal: 628ms\tremaining: 4.39s\n",
      "125:\tlearn: 0.2826190\ttotal: 632ms\tremaining: 4.38s\n",
      "126:\tlearn: 0.2825335\ttotal: 637ms\tremaining: 4.38s\n",
      "127:\tlearn: 0.2823800\ttotal: 642ms\tremaining: 4.37s\n",
      "128:\tlearn: 0.2821703\ttotal: 647ms\tremaining: 4.37s\n",
      "129:\tlearn: 0.2821170\ttotal: 651ms\tremaining: 4.36s\n",
      "130:\tlearn: 0.2819918\ttotal: 657ms\tremaining: 4.36s\n",
      "131:\tlearn: 0.2818025\ttotal: 661ms\tremaining: 4.35s\n",
      "132:\tlearn: 0.2817196\ttotal: 666ms\tremaining: 4.34s\n",
      "133:\tlearn: 0.2816673\ttotal: 671ms\tremaining: 4.33s\n",
      "134:\tlearn: 0.2815651\ttotal: 675ms\tremaining: 4.33s\n",
      "135:\tlearn: 0.2813939\ttotal: 680ms\tremaining: 4.32s\n",
      "136:\tlearn: 0.2812936\ttotal: 685ms\tremaining: 4.31s\n",
      "137:\tlearn: 0.2811998\ttotal: 689ms\tremaining: 4.31s\n",
      "138:\tlearn: 0.2811570\ttotal: 694ms\tremaining: 4.3s\n",
      "139:\tlearn: 0.2810036\ttotal: 699ms\tremaining: 4.29s\n",
      "140:\tlearn: 0.2809409\ttotal: 703ms\tremaining: 4.28s\n",
      "141:\tlearn: 0.2808716\ttotal: 708ms\tremaining: 4.28s\n",
      "142:\tlearn: 0.2808361\ttotal: 713ms\tremaining: 4.27s\n",
      "143:\tlearn: 0.2808322\ttotal: 717ms\tremaining: 4.26s\n",
      "144:\tlearn: 0.2807224\ttotal: 722ms\tremaining: 4.25s\n",
      "145:\tlearn: 0.2806467\ttotal: 726ms\tremaining: 4.25s\n",
      "146:\tlearn: 0.2805641\ttotal: 731ms\tremaining: 4.24s\n",
      "147:\tlearn: 0.2804786\ttotal: 736ms\tremaining: 4.23s\n",
      "148:\tlearn: 0.2803963\ttotal: 741ms\tremaining: 4.23s\n",
      "149:\tlearn: 0.2803551\ttotal: 745ms\tremaining: 4.22s\n",
      "150:\tlearn: 0.2802615\ttotal: 750ms\tremaining: 4.22s\n",
      "151:\tlearn: 0.2801636\ttotal: 754ms\tremaining: 4.21s\n",
      "152:\tlearn: 0.2801204\ttotal: 758ms\tremaining: 4.2s\n",
      "153:\tlearn: 0.2800768\ttotal: 762ms\tremaining: 4.19s\n",
      "154:\tlearn: 0.2800052\ttotal: 767ms\tremaining: 4.18s\n",
      "155:\tlearn: 0.2799417\ttotal: 772ms\tremaining: 4.17s\n",
      "156:\tlearn: 0.2798333\ttotal: 777ms\tremaining: 4.17s\n",
      "157:\tlearn: 0.2797842\ttotal: 781ms\tremaining: 4.16s\n",
      "158:\tlearn: 0.2797298\ttotal: 786ms\tremaining: 4.16s\n",
      "159:\tlearn: 0.2795819\ttotal: 792ms\tremaining: 4.16s\n",
      "160:\tlearn: 0.2794606\ttotal: 796ms\tremaining: 4.15s\n",
      "161:\tlearn: 0.2793838\ttotal: 801ms\tremaining: 4.14s\n",
      "162:\tlearn: 0.2793308\ttotal: 806ms\tremaining: 4.14s\n",
      "163:\tlearn: 0.2791649\ttotal: 812ms\tremaining: 4.14s\n",
      "164:\tlearn: 0.2791043\ttotal: 818ms\tremaining: 4.14s\n",
      "165:\tlearn: 0.2790895\ttotal: 823ms\tremaining: 4.13s\n",
      "166:\tlearn: 0.2790439\ttotal: 827ms\tremaining: 4.13s\n",
      "167:\tlearn: 0.2789662\ttotal: 832ms\tremaining: 4.12s\n",
      "168:\tlearn: 0.2788582\ttotal: 838ms\tremaining: 4.12s\n",
      "169:\tlearn: 0.2788247\ttotal: 842ms\tremaining: 4.11s\n",
      "170:\tlearn: 0.2787568\ttotal: 847ms\tremaining: 4.11s\n",
      "171:\tlearn: 0.2787251\ttotal: 852ms\tremaining: 4.1s\n",
      "172:\tlearn: 0.2786026\ttotal: 856ms\tremaining: 4.09s\n",
      "173:\tlearn: 0.2785651\ttotal: 862ms\tremaining: 4.09s\n",
      "174:\tlearn: 0.2784906\ttotal: 866ms\tremaining: 4.08s\n",
      "175:\tlearn: 0.2783586\ttotal: 871ms\tremaining: 4.08s\n",
      "176:\tlearn: 0.2782431\ttotal: 876ms\tremaining: 4.07s\n",
      "177:\tlearn: 0.2781736\ttotal: 880ms\tremaining: 4.07s\n",
      "178:\tlearn: 0.2780833\ttotal: 885ms\tremaining: 4.06s\n",
      "179:\tlearn: 0.2780234\ttotal: 890ms\tremaining: 4.05s\n",
      "180:\tlearn: 0.2779389\ttotal: 895ms\tremaining: 4.05s\n",
      "181:\tlearn: 0.2778606\ttotal: 900ms\tremaining: 4.04s\n",
      "182:\tlearn: 0.2778074\ttotal: 905ms\tremaining: 4.04s\n",
      "183:\tlearn: 0.2777364\ttotal: 910ms\tremaining: 4.03s\n",
      "184:\tlearn: 0.2776628\ttotal: 914ms\tremaining: 4.03s\n",
      "185:\tlearn: 0.2775833\ttotal: 919ms\tremaining: 4.02s\n",
      "186:\tlearn: 0.2775200\ttotal: 924ms\tremaining: 4.02s\n",
      "187:\tlearn: 0.2773896\ttotal: 929ms\tremaining: 4.01s\n",
      "188:\tlearn: 0.2772452\ttotal: 935ms\tremaining: 4.01s\n",
      "189:\tlearn: 0.2772007\ttotal: 939ms\tremaining: 4s\n",
      "190:\tlearn: 0.2771758\ttotal: 944ms\tremaining: 4s\n",
      "191:\tlearn: 0.2770679\ttotal: 949ms\tremaining: 3.99s\n",
      "192:\tlearn: 0.2769610\ttotal: 954ms\tremaining: 3.99s\n",
      "193:\tlearn: 0.2769014\ttotal: 958ms\tremaining: 3.98s\n",
      "194:\tlearn: 0.2767815\ttotal: 963ms\tremaining: 3.98s\n",
      "195:\tlearn: 0.2766682\ttotal: 968ms\tremaining: 3.97s\n",
      "196:\tlearn: 0.2765983\ttotal: 973ms\tremaining: 3.97s\n",
      "197:\tlearn: 0.2765199\ttotal: 978ms\tremaining: 3.96s\n",
      "198:\tlearn: 0.2764793\ttotal: 983ms\tremaining: 3.96s\n",
      "199:\tlearn: 0.2764318\ttotal: 987ms\tremaining: 3.95s\n",
      "200:\tlearn: 0.2763680\ttotal: 992ms\tremaining: 3.94s\n",
      "201:\tlearn: 0.2763313\ttotal: 997ms\tremaining: 3.94s\n",
      "202:\tlearn: 0.2762900\ttotal: 1s\tremaining: 3.93s\n",
      "203:\tlearn: 0.2762418\ttotal: 1.01s\tremaining: 3.93s\n",
      "204:\tlearn: 0.2762133\ttotal: 1.01s\tremaining: 3.92s\n",
      "205:\tlearn: 0.2761150\ttotal: 1.02s\tremaining: 3.92s\n",
      "206:\tlearn: 0.2760458\ttotal: 1.02s\tremaining: 3.91s\n",
      "207:\tlearn: 0.2760264\ttotal: 1.02s\tremaining: 3.9s\n",
      "208:\tlearn: 0.2758555\ttotal: 1.03s\tremaining: 3.9s\n",
      "209:\tlearn: 0.2757549\ttotal: 1.03s\tremaining: 3.89s\n",
      "210:\tlearn: 0.2756860\ttotal: 1.04s\tremaining: 3.89s\n",
      "211:\tlearn: 0.2756847\ttotal: 1.04s\tremaining: 3.88s\n",
      "212:\tlearn: 0.2756711\ttotal: 1.05s\tremaining: 3.87s\n",
      "213:\tlearn: 0.2756295\ttotal: 1.05s\tremaining: 3.86s\n",
      "214:\tlearn: 0.2755344\ttotal: 1.06s\tremaining: 3.86s\n",
      "215:\tlearn: 0.2754429\ttotal: 1.06s\tremaining: 3.85s\n",
      "216:\tlearn: 0.2753701\ttotal: 1.06s\tremaining: 3.85s\n",
      "217:\tlearn: 0.2752927\ttotal: 1.07s\tremaining: 3.84s\n",
      "218:\tlearn: 0.2751582\ttotal: 1.07s\tremaining: 3.83s\n",
      "219:\tlearn: 0.2750986\ttotal: 1.08s\tremaining: 3.83s\n",
      "220:\tlearn: 0.2750345\ttotal: 1.09s\tremaining: 3.83s\n",
      "221:\tlearn: 0.2748972\ttotal: 1.09s\tremaining: 3.83s\n",
      "222:\tlearn: 0.2748432\ttotal: 1.1s\tremaining: 3.82s\n",
      "223:\tlearn: 0.2748121\ttotal: 1.1s\tremaining: 3.81s\n",
      "224:\tlearn: 0.2747405\ttotal: 1.1s\tremaining: 3.81s\n",
      "225:\tlearn: 0.2747069\ttotal: 1.11s\tremaining: 3.8s\n",
      "226:\tlearn: 0.2745868\ttotal: 1.11s\tremaining: 3.8s\n",
      "227:\tlearn: 0.2745709\ttotal: 1.12s\tremaining: 3.79s\n",
      "228:\tlearn: 0.2744407\ttotal: 1.12s\tremaining: 3.79s\n",
      "229:\tlearn: 0.2744254\ttotal: 1.13s\tremaining: 3.78s\n",
      "230:\tlearn: 0.2743686\ttotal: 1.13s\tremaining: 3.78s\n",
      "231:\tlearn: 0.2743158\ttotal: 1.14s\tremaining: 3.77s\n",
      "232:\tlearn: 0.2742544\ttotal: 1.14s\tremaining: 3.77s\n",
      "233:\tlearn: 0.2741930\ttotal: 1.15s\tremaining: 3.76s\n",
      "234:\tlearn: 0.2741087\ttotal: 1.15s\tremaining: 3.75s\n",
      "235:\tlearn: 0.2740561\ttotal: 1.16s\tremaining: 3.75s\n",
      "236:\tlearn: 0.2739648\ttotal: 1.16s\tremaining: 3.74s\n",
      "237:\tlearn: 0.2739202\ttotal: 1.17s\tremaining: 3.74s\n",
      "238:\tlearn: 0.2739190\ttotal: 1.17s\tremaining: 3.73s\n",
      "239:\tlearn: 0.2738650\ttotal: 1.18s\tremaining: 3.73s\n",
      "240:\tlearn: 0.2737708\ttotal: 1.18s\tremaining: 3.72s\n",
      "241:\tlearn: 0.2736412\ttotal: 1.19s\tremaining: 3.72s\n",
      "242:\tlearn: 0.2735082\ttotal: 1.19s\tremaining: 3.71s\n",
      "243:\tlearn: 0.2734606\ttotal: 1.2s\tremaining: 3.71s\n",
      "244:\tlearn: 0.2734205\ttotal: 1.2s\tremaining: 3.7s\n",
      "245:\tlearn: 0.2733374\ttotal: 1.21s\tremaining: 3.7s\n",
      "246:\tlearn: 0.2733012\ttotal: 1.21s\tremaining: 3.69s\n",
      "247:\tlearn: 0.2732461\ttotal: 1.22s\tremaining: 3.69s\n",
      "248:\tlearn: 0.2731857\ttotal: 1.22s\tremaining: 3.68s\n",
      "249:\tlearn: 0.2731299\ttotal: 1.23s\tremaining: 3.68s\n",
      "250:\tlearn: 0.2730402\ttotal: 1.23s\tremaining: 3.67s\n",
      "251:\tlearn: 0.2729757\ttotal: 1.24s\tremaining: 3.67s\n",
      "252:\tlearn: 0.2729096\ttotal: 1.24s\tremaining: 3.66s\n",
      "253:\tlearn: 0.2728554\ttotal: 1.25s\tremaining: 3.66s\n",
      "254:\tlearn: 0.2727578\ttotal: 1.25s\tremaining: 3.65s\n",
      "255:\tlearn: 0.2726693\ttotal: 1.26s\tremaining: 3.65s\n",
      "256:\tlearn: 0.2725441\ttotal: 1.26s\tremaining: 3.65s\n",
      "257:\tlearn: 0.2724490\ttotal: 1.27s\tremaining: 3.64s\n",
      "258:\tlearn: 0.2723994\ttotal: 1.27s\tremaining: 3.64s\n",
      "259:\tlearn: 0.2723475\ttotal: 1.28s\tremaining: 3.63s\n",
      "260:\tlearn: 0.2722849\ttotal: 1.28s\tremaining: 3.63s\n",
      "261:\tlearn: 0.2721612\ttotal: 1.29s\tremaining: 3.62s\n",
      "262:\tlearn: 0.2720709\ttotal: 1.29s\tremaining: 3.62s\n",
      "263:\tlearn: 0.2719287\ttotal: 1.3s\tremaining: 3.62s\n",
      "264:\tlearn: 0.2719010\ttotal: 1.3s\tremaining: 3.61s\n",
      "265:\tlearn: 0.2717943\ttotal: 1.31s\tremaining: 3.61s\n",
      "266:\tlearn: 0.2716938\ttotal: 1.31s\tremaining: 3.6s\n",
      "267:\tlearn: 0.2716320\ttotal: 1.32s\tremaining: 3.6s\n",
      "268:\tlearn: 0.2715283\ttotal: 1.32s\tremaining: 3.59s\n",
      "269:\tlearn: 0.2714583\ttotal: 1.33s\tremaining: 3.59s\n",
      "270:\tlearn: 0.2714435\ttotal: 1.33s\tremaining: 3.58s\n",
      "271:\tlearn: 0.2713910\ttotal: 1.34s\tremaining: 3.58s\n",
      "272:\tlearn: 0.2712974\ttotal: 1.34s\tremaining: 3.57s\n",
      "273:\tlearn: 0.2712179\ttotal: 1.35s\tremaining: 3.57s\n",
      "274:\tlearn: 0.2711416\ttotal: 1.35s\tremaining: 3.57s\n",
      "275:\tlearn: 0.2711012\ttotal: 1.36s\tremaining: 3.56s\n",
      "276:\tlearn: 0.2709988\ttotal: 1.36s\tremaining: 3.56s\n",
      "277:\tlearn: 0.2709644\ttotal: 1.37s\tremaining: 3.55s\n",
      "278:\tlearn: 0.2708261\ttotal: 1.37s\tremaining: 3.55s\n",
      "279:\tlearn: 0.2707274\ttotal: 1.38s\tremaining: 3.54s\n",
      "280:\tlearn: 0.2706389\ttotal: 1.38s\tremaining: 3.54s\n",
      "281:\tlearn: 0.2705186\ttotal: 1.39s\tremaining: 3.53s\n",
      "282:\tlearn: 0.2704098\ttotal: 1.39s\tremaining: 3.53s\n",
      "283:\tlearn: 0.2703139\ttotal: 1.4s\tremaining: 3.52s\n",
      "284:\tlearn: 0.2702367\ttotal: 1.4s\tremaining: 3.52s\n",
      "285:\tlearn: 0.2701808\ttotal: 1.41s\tremaining: 3.52s\n",
      "286:\tlearn: 0.2701463\ttotal: 1.41s\tremaining: 3.51s\n",
      "287:\tlearn: 0.2700999\ttotal: 1.42s\tremaining: 3.51s\n",
      "288:\tlearn: 0.2700261\ttotal: 1.42s\tremaining: 3.5s\n",
      "289:\tlearn: 0.2699655\ttotal: 1.43s\tremaining: 3.5s\n",
      "290:\tlearn: 0.2699008\ttotal: 1.43s\tremaining: 3.49s\n",
      "291:\tlearn: 0.2698679\ttotal: 1.44s\tremaining: 3.49s\n",
      "292:\tlearn: 0.2698143\ttotal: 1.44s\tremaining: 3.48s\n",
      "293:\tlearn: 0.2697115\ttotal: 1.45s\tremaining: 3.48s\n",
      "294:\tlearn: 0.2696495\ttotal: 1.45s\tremaining: 3.47s\n",
      "295:\tlearn: 0.2695677\ttotal: 1.46s\tremaining: 3.47s\n",
      "296:\tlearn: 0.2695118\ttotal: 1.46s\tremaining: 3.46s\n",
      "297:\tlearn: 0.2694275\ttotal: 1.47s\tremaining: 3.46s\n",
      "298:\tlearn: 0.2693337\ttotal: 1.47s\tremaining: 3.45s\n",
      "299:\tlearn: 0.2692798\ttotal: 1.48s\tremaining: 3.45s\n",
      "300:\tlearn: 0.2691720\ttotal: 1.48s\tremaining: 3.44s\n",
      "301:\tlearn: 0.2690702\ttotal: 1.49s\tremaining: 3.44s\n",
      "302:\tlearn: 0.2689788\ttotal: 1.49s\tremaining: 3.44s\n",
      "303:\tlearn: 0.2689185\ttotal: 1.5s\tremaining: 3.43s\n",
      "304:\tlearn: 0.2688415\ttotal: 1.5s\tremaining: 3.42s\n",
      "305:\tlearn: 0.2687751\ttotal: 1.51s\tremaining: 3.42s\n",
      "306:\tlearn: 0.2686919\ttotal: 1.51s\tremaining: 3.42s\n",
      "307:\tlearn: 0.2686288\ttotal: 1.52s\tremaining: 3.41s\n",
      "308:\tlearn: 0.2685461\ttotal: 1.52s\tremaining: 3.41s\n",
      "309:\tlearn: 0.2684863\ttotal: 1.53s\tremaining: 3.4s\n",
      "310:\tlearn: 0.2684082\ttotal: 1.53s\tremaining: 3.4s\n",
      "311:\tlearn: 0.2683352\ttotal: 1.54s\tremaining: 3.39s\n",
      "312:\tlearn: 0.2682805\ttotal: 1.54s\tremaining: 3.39s\n",
      "313:\tlearn: 0.2681944\ttotal: 1.55s\tremaining: 3.38s\n",
      "314:\tlearn: 0.2681687\ttotal: 1.55s\tremaining: 3.38s\n",
      "315:\tlearn: 0.2680331\ttotal: 1.56s\tremaining: 3.37s\n",
      "316:\tlearn: 0.2679869\ttotal: 1.56s\tremaining: 3.37s\n",
      "317:\tlearn: 0.2678905\ttotal: 1.57s\tremaining: 3.36s\n",
      "318:\tlearn: 0.2677971\ttotal: 1.57s\tremaining: 3.35s\n",
      "319:\tlearn: 0.2677375\ttotal: 1.58s\tremaining: 3.35s\n",
      "320:\tlearn: 0.2676650\ttotal: 1.58s\tremaining: 3.34s\n",
      "321:\tlearn: 0.2676369\ttotal: 1.58s\tremaining: 3.34s\n",
      "322:\tlearn: 0.2675929\ttotal: 1.59s\tremaining: 3.33s\n",
      "323:\tlearn: 0.2675243\ttotal: 1.59s\tremaining: 3.33s\n",
      "324:\tlearn: 0.2674170\ttotal: 1.6s\tremaining: 3.32s\n",
      "325:\tlearn: 0.2672960\ttotal: 1.6s\tremaining: 3.32s\n",
      "326:\tlearn: 0.2672242\ttotal: 1.61s\tremaining: 3.31s\n",
      "327:\tlearn: 0.2671751\ttotal: 1.61s\tremaining: 3.31s\n",
      "328:\tlearn: 0.2671103\ttotal: 1.62s\tremaining: 3.3s\n",
      "329:\tlearn: 0.2670383\ttotal: 1.62s\tremaining: 3.29s\n",
      "330:\tlearn: 0.2669632\ttotal: 1.63s\tremaining: 3.29s\n",
      "331:\tlearn: 0.2668899\ttotal: 1.63s\tremaining: 3.28s\n",
      "332:\tlearn: 0.2668545\ttotal: 1.64s\tremaining: 3.28s\n",
      "333:\tlearn: 0.2667851\ttotal: 1.64s\tremaining: 3.27s\n",
      "334:\tlearn: 0.2667223\ttotal: 1.65s\tremaining: 3.27s\n",
      "335:\tlearn: 0.2666517\ttotal: 1.65s\tremaining: 3.26s\n",
      "336:\tlearn: 0.2665127\ttotal: 1.65s\tremaining: 3.25s\n",
      "337:\tlearn: 0.2664118\ttotal: 1.66s\tremaining: 3.25s\n",
      "338:\tlearn: 0.2663404\ttotal: 1.66s\tremaining: 3.25s\n",
      "339:\tlearn: 0.2662354\ttotal: 1.67s\tremaining: 3.24s\n",
      "340:\tlearn: 0.2661535\ttotal: 1.67s\tremaining: 3.23s\n",
      "341:\tlearn: 0.2660609\ttotal: 1.68s\tremaining: 3.23s\n",
      "342:\tlearn: 0.2659798\ttotal: 1.68s\tremaining: 3.22s\n",
      "343:\tlearn: 0.2659130\ttotal: 1.69s\tremaining: 3.22s\n",
      "344:\tlearn: 0.2658453\ttotal: 1.69s\tremaining: 3.21s\n",
      "345:\tlearn: 0.2658160\ttotal: 1.7s\tremaining: 3.21s\n",
      "346:\tlearn: 0.2657615\ttotal: 1.7s\tremaining: 3.2s\n",
      "347:\tlearn: 0.2656802\ttotal: 1.71s\tremaining: 3.2s\n",
      "348:\tlearn: 0.2656310\ttotal: 1.71s\tremaining: 3.19s\n",
      "349:\tlearn: 0.2655114\ttotal: 1.72s\tremaining: 3.19s\n",
      "350:\tlearn: 0.2654793\ttotal: 1.72s\tremaining: 3.18s\n",
      "351:\tlearn: 0.2654270\ttotal: 1.72s\tremaining: 3.17s\n",
      "352:\tlearn: 0.2653857\ttotal: 1.73s\tremaining: 3.17s\n",
      "353:\tlearn: 0.2653464\ttotal: 1.73s\tremaining: 3.16s\n",
      "354:\tlearn: 0.2652842\ttotal: 1.74s\tremaining: 3.16s\n",
      "355:\tlearn: 0.2651587\ttotal: 1.74s\tremaining: 3.15s\n",
      "356:\tlearn: 0.2651211\ttotal: 1.75s\tremaining: 3.15s\n",
      "357:\tlearn: 0.2650335\ttotal: 1.75s\tremaining: 3.14s\n",
      "358:\tlearn: 0.2649131\ttotal: 1.76s\tremaining: 3.13s\n",
      "359:\tlearn: 0.2648312\ttotal: 1.76s\tremaining: 3.13s\n",
      "360:\tlearn: 0.2647219\ttotal: 1.76s\tremaining: 3.12s\n",
      "361:\tlearn: 0.2646378\ttotal: 1.77s\tremaining: 3.12s\n",
      "362:\tlearn: 0.2646053\ttotal: 1.77s\tremaining: 3.11s\n",
      "363:\tlearn: 0.2645356\ttotal: 1.78s\tremaining: 3.11s\n",
      "364:\tlearn: 0.2644783\ttotal: 1.78s\tremaining: 3.1s\n",
      "365:\tlearn: 0.2644493\ttotal: 1.79s\tremaining: 3.1s\n",
      "366:\tlearn: 0.2643290\ttotal: 1.79s\tremaining: 3.09s\n",
      "367:\tlearn: 0.2642586\ttotal: 1.8s\tremaining: 3.09s\n",
      "368:\tlearn: 0.2641752\ttotal: 1.8s\tremaining: 3.08s\n",
      "369:\tlearn: 0.2641048\ttotal: 1.81s\tremaining: 3.08s\n",
      "370:\tlearn: 0.2640149\ttotal: 1.81s\tremaining: 3.07s\n",
      "371:\tlearn: 0.2639664\ttotal: 1.82s\tremaining: 3.07s\n",
      "372:\tlearn: 0.2639072\ttotal: 1.82s\tremaining: 3.06s\n",
      "373:\tlearn: 0.2638930\ttotal: 1.82s\tremaining: 3.06s\n",
      "374:\tlearn: 0.2638711\ttotal: 1.83s\tremaining: 3.05s\n",
      "375:\tlearn: 0.2637952\ttotal: 1.83s\tremaining: 3.04s\n",
      "376:\tlearn: 0.2637503\ttotal: 1.84s\tremaining: 3.04s\n",
      "377:\tlearn: 0.2636539\ttotal: 1.84s\tremaining: 3.03s\n",
      "378:\tlearn: 0.2635832\ttotal: 1.85s\tremaining: 3.03s\n",
      "379:\tlearn: 0.2634957\ttotal: 1.85s\tremaining: 3.02s\n",
      "380:\tlearn: 0.2634826\ttotal: 1.86s\tremaining: 3.02s\n",
      "381:\tlearn: 0.2634121\ttotal: 1.86s\tremaining: 3.01s\n",
      "382:\tlearn: 0.2633424\ttotal: 1.87s\tremaining: 3.01s\n",
      "383:\tlearn: 0.2632992\ttotal: 1.87s\tremaining: 3s\n",
      "384:\tlearn: 0.2632677\ttotal: 1.87s\tremaining: 2.99s\n",
      "385:\tlearn: 0.2631783\ttotal: 1.88s\tremaining: 2.99s\n",
      "386:\tlearn: 0.2630795\ttotal: 1.88s\tremaining: 2.98s\n",
      "387:\tlearn: 0.2629828\ttotal: 1.89s\tremaining: 2.98s\n",
      "388:\tlearn: 0.2629186\ttotal: 1.89s\tremaining: 2.97s\n",
      "389:\tlearn: 0.2628299\ttotal: 1.9s\tremaining: 2.96s\n",
      "390:\tlearn: 0.2627480\ttotal: 1.9s\tremaining: 2.96s\n",
      "391:\tlearn: 0.2626672\ttotal: 1.9s\tremaining: 2.95s\n",
      "392:\tlearn: 0.2625776\ttotal: 1.91s\tremaining: 2.95s\n",
      "393:\tlearn: 0.2625160\ttotal: 1.91s\tremaining: 2.94s\n",
      "394:\tlearn: 0.2624621\ttotal: 1.92s\tremaining: 2.94s\n",
      "395:\tlearn: 0.2623771\ttotal: 1.92s\tremaining: 2.93s\n",
      "396:\tlearn: 0.2623344\ttotal: 1.93s\tremaining: 2.93s\n",
      "397:\tlearn: 0.2621978\ttotal: 1.93s\tremaining: 2.92s\n",
      "398:\tlearn: 0.2621363\ttotal: 1.94s\tremaining: 2.92s\n",
      "399:\tlearn: 0.2620979\ttotal: 1.94s\tremaining: 2.91s\n",
      "400:\tlearn: 0.2620280\ttotal: 1.95s\tremaining: 2.91s\n",
      "401:\tlearn: 0.2619269\ttotal: 1.95s\tremaining: 2.9s\n",
      "402:\tlearn: 0.2618732\ttotal: 1.96s\tremaining: 2.9s\n",
      "403:\tlearn: 0.2618375\ttotal: 1.96s\tremaining: 2.89s\n",
      "404:\tlearn: 0.2618153\ttotal: 1.96s\tremaining: 2.89s\n",
      "405:\tlearn: 0.2617636\ttotal: 1.97s\tremaining: 2.88s\n",
      "406:\tlearn: 0.2617011\ttotal: 1.97s\tremaining: 2.88s\n",
      "407:\tlearn: 0.2616460\ttotal: 1.98s\tremaining: 2.87s\n",
      "408:\tlearn: 0.2615772\ttotal: 1.98s\tremaining: 2.87s\n",
      "409:\tlearn: 0.2615244\ttotal: 1.99s\tremaining: 2.86s\n",
      "410:\tlearn: 0.2614267\ttotal: 1.99s\tremaining: 2.85s\n",
      "411:\tlearn: 0.2613204\ttotal: 2s\tremaining: 2.85s\n",
      "412:\tlearn: 0.2612921\ttotal: 2s\tremaining: 2.84s\n",
      "413:\tlearn: 0.2612065\ttotal: 2s\tremaining: 2.84s\n",
      "414:\tlearn: 0.2611927\ttotal: 2.01s\tremaining: 2.83s\n",
      "415:\tlearn: 0.2611170\ttotal: 2.01s\tremaining: 2.83s\n",
      "416:\tlearn: 0.2610762\ttotal: 2.02s\tremaining: 2.82s\n",
      "417:\tlearn: 0.2610403\ttotal: 2.02s\tremaining: 2.82s\n",
      "418:\tlearn: 0.2609511\ttotal: 2.03s\tremaining: 2.81s\n",
      "419:\tlearn: 0.2609109\ttotal: 2.03s\tremaining: 2.81s\n",
      "420:\tlearn: 0.2608982\ttotal: 2.04s\tremaining: 2.8s\n",
      "421:\tlearn: 0.2608836\ttotal: 2.04s\tremaining: 2.8s\n",
      "422:\tlearn: 0.2608356\ttotal: 2.05s\tremaining: 2.79s\n",
      "423:\tlearn: 0.2607749\ttotal: 2.05s\tremaining: 2.79s\n",
      "424:\tlearn: 0.2607268\ttotal: 2.06s\tremaining: 2.78s\n",
      "425:\tlearn: 0.2606796\ttotal: 2.06s\tremaining: 2.78s\n",
      "426:\tlearn: 0.2606031\ttotal: 2.06s\tremaining: 2.77s\n",
      "427:\tlearn: 0.2605419\ttotal: 2.07s\tremaining: 2.77s\n",
      "428:\tlearn: 0.2604388\ttotal: 2.07s\tremaining: 2.76s\n",
      "429:\tlearn: 0.2603796\ttotal: 2.08s\tremaining: 2.75s\n",
      "430:\tlearn: 0.2602981\ttotal: 2.08s\tremaining: 2.75s\n",
      "431:\tlearn: 0.2602541\ttotal: 2.09s\tremaining: 2.74s\n",
      "432:\tlearn: 0.2602220\ttotal: 2.09s\tremaining: 2.74s\n",
      "433:\tlearn: 0.2601868\ttotal: 2.1s\tremaining: 2.73s\n",
      "434:\tlearn: 0.2601703\ttotal: 2.1s\tremaining: 2.73s\n",
      "435:\tlearn: 0.2600716\ttotal: 2.1s\tremaining: 2.72s\n",
      "436:\tlearn: 0.2600154\ttotal: 2.11s\tremaining: 2.71s\n",
      "437:\tlearn: 0.2599339\ttotal: 2.11s\tremaining: 2.71s\n",
      "438:\tlearn: 0.2598607\ttotal: 2.12s\tremaining: 2.71s\n",
      "439:\tlearn: 0.2598113\ttotal: 2.12s\tremaining: 2.7s\n",
      "440:\tlearn: 0.2597186\ttotal: 2.13s\tremaining: 2.69s\n",
      "441:\tlearn: 0.2596491\ttotal: 2.13s\tremaining: 2.69s\n",
      "442:\tlearn: 0.2596291\ttotal: 2.13s\tremaining: 2.68s\n",
      "443:\tlearn: 0.2595781\ttotal: 2.14s\tremaining: 2.68s\n",
      "444:\tlearn: 0.2595564\ttotal: 2.14s\tremaining: 2.67s\n",
      "445:\tlearn: 0.2594602\ttotal: 2.15s\tremaining: 2.67s\n",
      "446:\tlearn: 0.2594342\ttotal: 2.15s\tremaining: 2.66s\n",
      "447:\tlearn: 0.2593571\ttotal: 2.16s\tremaining: 2.66s\n",
      "448:\tlearn: 0.2593219\ttotal: 2.16s\tremaining: 2.65s\n",
      "449:\tlearn: 0.2591741\ttotal: 2.17s\tremaining: 2.65s\n",
      "450:\tlearn: 0.2591580\ttotal: 2.17s\tremaining: 2.64s\n",
      "451:\tlearn: 0.2591100\ttotal: 2.17s\tremaining: 2.64s\n",
      "452:\tlearn: 0.2590519\ttotal: 2.18s\tremaining: 2.63s\n",
      "453:\tlearn: 0.2589511\ttotal: 2.18s\tremaining: 2.63s\n",
      "454:\tlearn: 0.2588835\ttotal: 2.19s\tremaining: 2.62s\n",
      "455:\tlearn: 0.2588380\ttotal: 2.19s\tremaining: 2.62s\n",
      "456:\tlearn: 0.2587895\ttotal: 2.2s\tremaining: 2.61s\n",
      "457:\tlearn: 0.2587019\ttotal: 2.2s\tremaining: 2.6s\n",
      "458:\tlearn: 0.2586538\ttotal: 2.21s\tremaining: 2.6s\n",
      "459:\tlearn: 0.2585710\ttotal: 2.21s\tremaining: 2.59s\n",
      "460:\tlearn: 0.2585504\ttotal: 2.21s\tremaining: 2.59s\n",
      "461:\tlearn: 0.2584497\ttotal: 2.22s\tremaining: 2.58s\n",
      "462:\tlearn: 0.2583721\ttotal: 2.22s\tremaining: 2.58s\n",
      "463:\tlearn: 0.2582893\ttotal: 2.23s\tremaining: 2.57s\n",
      "464:\tlearn: 0.2582203\ttotal: 2.23s\tremaining: 2.57s\n",
      "465:\tlearn: 0.2581273\ttotal: 2.24s\tremaining: 2.56s\n",
      "466:\tlearn: 0.2580469\ttotal: 2.24s\tremaining: 2.56s\n",
      "467:\tlearn: 0.2579937\ttotal: 2.25s\tremaining: 2.55s\n",
      "468:\tlearn: 0.2579249\ttotal: 2.25s\tremaining: 2.55s\n",
      "469:\tlearn: 0.2578524\ttotal: 2.26s\tremaining: 2.54s\n",
      "470:\tlearn: 0.2577664\ttotal: 2.26s\tremaining: 2.54s\n",
      "471:\tlearn: 0.2576852\ttotal: 2.27s\tremaining: 2.53s\n",
      "472:\tlearn: 0.2576103\ttotal: 2.27s\tremaining: 2.53s\n",
      "473:\tlearn: 0.2575411\ttotal: 2.27s\tremaining: 2.52s\n",
      "474:\tlearn: 0.2574797\ttotal: 2.28s\tremaining: 2.52s\n",
      "475:\tlearn: 0.2574668\ttotal: 2.28s\tremaining: 2.51s\n",
      "476:\tlearn: 0.2574083\ttotal: 2.29s\tremaining: 2.51s\n",
      "477:\tlearn: 0.2573244\ttotal: 2.29s\tremaining: 2.5s\n",
      "478:\tlearn: 0.2573061\ttotal: 2.3s\tremaining: 2.5s\n",
      "479:\tlearn: 0.2572457\ttotal: 2.3s\tremaining: 2.49s\n",
      "480:\tlearn: 0.2571736\ttotal: 2.31s\tremaining: 2.49s\n",
      "481:\tlearn: 0.2571231\ttotal: 2.31s\tremaining: 2.48s\n",
      "482:\tlearn: 0.2570661\ttotal: 2.31s\tremaining: 2.48s\n",
      "483:\tlearn: 0.2570123\ttotal: 2.32s\tremaining: 2.47s\n",
      "484:\tlearn: 0.2569471\ttotal: 2.32s\tremaining: 2.47s\n",
      "485:\tlearn: 0.2568805\ttotal: 2.33s\tremaining: 2.46s\n",
      "486:\tlearn: 0.2567946\ttotal: 2.33s\tremaining: 2.46s\n",
      "487:\tlearn: 0.2567274\ttotal: 2.34s\tremaining: 2.45s\n",
      "488:\tlearn: 0.2566521\ttotal: 2.34s\tremaining: 2.45s\n",
      "489:\tlearn: 0.2566097\ttotal: 2.35s\tremaining: 2.44s\n",
      "490:\tlearn: 0.2565698\ttotal: 2.35s\tremaining: 2.44s\n",
      "491:\tlearn: 0.2565019\ttotal: 2.36s\tremaining: 2.43s\n",
      "492:\tlearn: 0.2564689\ttotal: 2.36s\tremaining: 2.43s\n",
      "493:\tlearn: 0.2564473\ttotal: 2.37s\tremaining: 2.42s\n",
      "494:\tlearn: 0.2563872\ttotal: 2.37s\tremaining: 2.42s\n",
      "495:\tlearn: 0.2563293\ttotal: 2.37s\tremaining: 2.41s\n",
      "496:\tlearn: 0.2562549\ttotal: 2.38s\tremaining: 2.41s\n",
      "497:\tlearn: 0.2561741\ttotal: 2.38s\tremaining: 2.4s\n",
      "498:\tlearn: 0.2561168\ttotal: 2.39s\tremaining: 2.4s\n",
      "499:\tlearn: 0.2560323\ttotal: 2.39s\tremaining: 2.39s\n",
      "500:\tlearn: 0.2559217\ttotal: 2.4s\tremaining: 2.39s\n",
      "501:\tlearn: 0.2558534\ttotal: 2.4s\tremaining: 2.38s\n",
      "502:\tlearn: 0.2558137\ttotal: 2.4s\tremaining: 2.38s\n",
      "503:\tlearn: 0.2557819\ttotal: 2.41s\tremaining: 2.37s\n",
      "504:\tlearn: 0.2557293\ttotal: 2.41s\tremaining: 2.37s\n",
      "505:\tlearn: 0.2556903\ttotal: 2.42s\tremaining: 2.36s\n",
      "506:\tlearn: 0.2556413\ttotal: 2.42s\tremaining: 2.36s\n",
      "507:\tlearn: 0.2555857\ttotal: 2.43s\tremaining: 2.35s\n",
      "508:\tlearn: 0.2554681\ttotal: 2.43s\tremaining: 2.35s\n",
      "509:\tlearn: 0.2553626\ttotal: 2.44s\tremaining: 2.34s\n",
      "510:\tlearn: 0.2553143\ttotal: 2.44s\tremaining: 2.34s\n",
      "511:\tlearn: 0.2552444\ttotal: 2.45s\tremaining: 2.33s\n",
      "512:\tlearn: 0.2552087\ttotal: 2.45s\tremaining: 2.33s\n",
      "513:\tlearn: 0.2551165\ttotal: 2.46s\tremaining: 2.32s\n",
      "514:\tlearn: 0.2550050\ttotal: 2.46s\tremaining: 2.32s\n",
      "515:\tlearn: 0.2549338\ttotal: 2.46s\tremaining: 2.31s\n",
      "516:\tlearn: 0.2548825\ttotal: 2.47s\tremaining: 2.31s\n",
      "517:\tlearn: 0.2547815\ttotal: 2.47s\tremaining: 2.3s\n",
      "518:\tlearn: 0.2547285\ttotal: 2.48s\tremaining: 2.3s\n",
      "519:\tlearn: 0.2546959\ttotal: 2.48s\tremaining: 2.29s\n",
      "520:\tlearn: 0.2546365\ttotal: 2.49s\tremaining: 2.29s\n",
      "521:\tlearn: 0.2545864\ttotal: 2.49s\tremaining: 2.28s\n",
      "522:\tlearn: 0.2545441\ttotal: 2.5s\tremaining: 2.28s\n",
      "523:\tlearn: 0.2544860\ttotal: 2.5s\tremaining: 2.27s\n",
      "524:\tlearn: 0.2544408\ttotal: 2.51s\tremaining: 2.27s\n",
      "525:\tlearn: 0.2543896\ttotal: 2.51s\tremaining: 2.26s\n",
      "526:\tlearn: 0.2543352\ttotal: 2.52s\tremaining: 2.26s\n",
      "527:\tlearn: 0.2543324\ttotal: 2.52s\tremaining: 2.25s\n",
      "528:\tlearn: 0.2542766\ttotal: 2.52s\tremaining: 2.25s\n",
      "529:\tlearn: 0.2542072\ttotal: 2.53s\tremaining: 2.24s\n",
      "530:\tlearn: 0.2541546\ttotal: 2.53s\tremaining: 2.24s\n",
      "531:\tlearn: 0.2540694\ttotal: 2.54s\tremaining: 2.23s\n",
      "532:\tlearn: 0.2540293\ttotal: 2.54s\tremaining: 2.23s\n",
      "533:\tlearn: 0.2539507\ttotal: 2.55s\tremaining: 2.22s\n",
      "534:\tlearn: 0.2538773\ttotal: 2.55s\tremaining: 2.22s\n",
      "535:\tlearn: 0.2537911\ttotal: 2.56s\tremaining: 2.21s\n",
      "536:\tlearn: 0.2537423\ttotal: 2.56s\tremaining: 2.21s\n",
      "537:\tlearn: 0.2536765\ttotal: 2.56s\tremaining: 2.2s\n",
      "538:\tlearn: 0.2536361\ttotal: 2.57s\tremaining: 2.2s\n",
      "539:\tlearn: 0.2535881\ttotal: 2.57s\tremaining: 2.19s\n",
      "540:\tlearn: 0.2535022\ttotal: 2.58s\tremaining: 2.19s\n",
      "541:\tlearn: 0.2534089\ttotal: 2.58s\tremaining: 2.18s\n",
      "542:\tlearn: 0.2533617\ttotal: 2.59s\tremaining: 2.18s\n",
      "543:\tlearn: 0.2532691\ttotal: 2.59s\tremaining: 2.17s\n",
      "544:\tlearn: 0.2532434\ttotal: 2.6s\tremaining: 2.17s\n",
      "545:\tlearn: 0.2532223\ttotal: 2.6s\tremaining: 2.16s\n",
      "546:\tlearn: 0.2531505\ttotal: 2.61s\tremaining: 2.16s\n",
      "547:\tlearn: 0.2531280\ttotal: 2.61s\tremaining: 2.15s\n",
      "548:\tlearn: 0.2530644\ttotal: 2.61s\tremaining: 2.15s\n",
      "549:\tlearn: 0.2529875\ttotal: 2.62s\tremaining: 2.14s\n",
      "550:\tlearn: 0.2529509\ttotal: 2.62s\tremaining: 2.14s\n",
      "551:\tlearn: 0.2528830\ttotal: 2.63s\tremaining: 2.13s\n",
      "552:\tlearn: 0.2528408\ttotal: 2.63s\tremaining: 2.13s\n",
      "553:\tlearn: 0.2527537\ttotal: 2.64s\tremaining: 2.12s\n",
      "554:\tlearn: 0.2526861\ttotal: 2.64s\tremaining: 2.12s\n",
      "555:\tlearn: 0.2526271\ttotal: 2.65s\tremaining: 2.11s\n",
      "556:\tlearn: 0.2525741\ttotal: 2.65s\tremaining: 2.11s\n",
      "557:\tlearn: 0.2524936\ttotal: 2.65s\tremaining: 2.1s\n",
      "558:\tlearn: 0.2524260\ttotal: 2.66s\tremaining: 2.1s\n",
      "559:\tlearn: 0.2523789\ttotal: 2.66s\tremaining: 2.09s\n",
      "560:\tlearn: 0.2522566\ttotal: 2.67s\tremaining: 2.09s\n",
      "561:\tlearn: 0.2521960\ttotal: 2.67s\tremaining: 2.08s\n",
      "562:\tlearn: 0.2521224\ttotal: 2.68s\tremaining: 2.08s\n",
      "563:\tlearn: 0.2520738\ttotal: 2.68s\tremaining: 2.07s\n",
      "564:\tlearn: 0.2520183\ttotal: 2.69s\tremaining: 2.07s\n",
      "565:\tlearn: 0.2519657\ttotal: 2.69s\tremaining: 2.06s\n",
      "566:\tlearn: 0.2518744\ttotal: 2.7s\tremaining: 2.06s\n",
      "567:\tlearn: 0.2517661\ttotal: 2.7s\tremaining: 2.05s\n",
      "568:\tlearn: 0.2517275\ttotal: 2.71s\tremaining: 2.05s\n",
      "569:\tlearn: 0.2516845\ttotal: 2.71s\tremaining: 2.04s\n",
      "570:\tlearn: 0.2516121\ttotal: 2.71s\tremaining: 2.04s\n",
      "571:\tlearn: 0.2515152\ttotal: 2.72s\tremaining: 2.04s\n",
      "572:\tlearn: 0.2514575\ttotal: 2.72s\tremaining: 2.03s\n",
      "573:\tlearn: 0.2514077\ttotal: 2.73s\tremaining: 2.02s\n",
      "574:\tlearn: 0.2513686\ttotal: 2.73s\tremaining: 2.02s\n",
      "575:\tlearn: 0.2513116\ttotal: 2.74s\tremaining: 2.02s\n",
      "576:\tlearn: 0.2512312\ttotal: 2.74s\tremaining: 2.01s\n",
      "577:\tlearn: 0.2511428\ttotal: 2.75s\tremaining: 2s\n",
      "578:\tlearn: 0.2511398\ttotal: 2.75s\tremaining: 2s\n",
      "579:\tlearn: 0.2510452\ttotal: 2.75s\tremaining: 2s\n",
      "580:\tlearn: 0.2509881\ttotal: 2.76s\tremaining: 1.99s\n",
      "581:\tlearn: 0.2509398\ttotal: 2.76s\tremaining: 1.99s\n",
      "582:\tlearn: 0.2508488\ttotal: 2.77s\tremaining: 1.98s\n",
      "583:\tlearn: 0.2507657\ttotal: 2.77s\tremaining: 1.98s\n",
      "584:\tlearn: 0.2507006\ttotal: 2.78s\tremaining: 1.97s\n",
      "585:\tlearn: 0.2506443\ttotal: 2.78s\tremaining: 1.97s\n",
      "586:\tlearn: 0.2505945\ttotal: 2.79s\tremaining: 1.96s\n",
      "587:\tlearn: 0.2505377\ttotal: 2.79s\tremaining: 1.96s\n",
      "588:\tlearn: 0.2504784\ttotal: 2.79s\tremaining: 1.95s\n",
      "589:\tlearn: 0.2503848\ttotal: 2.8s\tremaining: 1.95s\n",
      "590:\tlearn: 0.2503377\ttotal: 2.8s\tremaining: 1.94s\n",
      "591:\tlearn: 0.2502557\ttotal: 2.81s\tremaining: 1.94s\n",
      "592:\tlearn: 0.2501975\ttotal: 2.81s\tremaining: 1.93s\n",
      "593:\tlearn: 0.2501300\ttotal: 2.82s\tremaining: 1.93s\n",
      "594:\tlearn: 0.2500358\ttotal: 2.82s\tremaining: 1.92s\n",
      "595:\tlearn: 0.2499794\ttotal: 2.83s\tremaining: 1.92s\n",
      "596:\tlearn: 0.2498877\ttotal: 2.83s\tremaining: 1.91s\n",
      "597:\tlearn: 0.2498134\ttotal: 2.83s\tremaining: 1.91s\n",
      "598:\tlearn: 0.2497294\ttotal: 2.84s\tremaining: 1.9s\n",
      "599:\tlearn: 0.2496420\ttotal: 2.85s\tremaining: 1.9s\n",
      "600:\tlearn: 0.2495401\ttotal: 2.85s\tremaining: 1.89s\n",
      "601:\tlearn: 0.2495001\ttotal: 2.85s\tremaining: 1.89s\n",
      "602:\tlearn: 0.2494144\ttotal: 2.86s\tremaining: 1.88s\n",
      "603:\tlearn: 0.2493891\ttotal: 2.86s\tremaining: 1.88s\n",
      "604:\tlearn: 0.2493181\ttotal: 2.87s\tremaining: 1.87s\n",
      "605:\tlearn: 0.2492643\ttotal: 2.87s\tremaining: 1.87s\n",
      "606:\tlearn: 0.2492188\ttotal: 2.88s\tremaining: 1.86s\n",
      "607:\tlearn: 0.2492128\ttotal: 2.88s\tremaining: 1.86s\n",
      "608:\tlearn: 0.2491376\ttotal: 2.89s\tremaining: 1.85s\n",
      "609:\tlearn: 0.2490646\ttotal: 2.89s\tremaining: 1.85s\n",
      "610:\tlearn: 0.2490015\ttotal: 2.9s\tremaining: 1.84s\n",
      "611:\tlearn: 0.2489792\ttotal: 2.9s\tremaining: 1.84s\n",
      "612:\tlearn: 0.2489365\ttotal: 2.9s\tremaining: 1.83s\n",
      "613:\tlearn: 0.2488637\ttotal: 2.91s\tremaining: 1.83s\n",
      "614:\tlearn: 0.2487896\ttotal: 2.91s\tremaining: 1.82s\n",
      "615:\tlearn: 0.2487518\ttotal: 2.92s\tremaining: 1.82s\n",
      "616:\tlearn: 0.2486924\ttotal: 2.92s\tremaining: 1.81s\n",
      "617:\tlearn: 0.2485712\ttotal: 2.93s\tremaining: 1.81s\n",
      "618:\tlearn: 0.2485298\ttotal: 2.93s\tremaining: 1.8s\n",
      "619:\tlearn: 0.2484624\ttotal: 2.94s\tremaining: 1.8s\n",
      "620:\tlearn: 0.2483865\ttotal: 2.94s\tremaining: 1.79s\n",
      "621:\tlearn: 0.2483628\ttotal: 2.95s\tremaining: 1.79s\n",
      "622:\tlearn: 0.2483441\ttotal: 2.95s\tremaining: 1.78s\n",
      "623:\tlearn: 0.2482736\ttotal: 2.96s\tremaining: 1.78s\n",
      "624:\tlearn: 0.2481626\ttotal: 2.96s\tremaining: 1.78s\n",
      "625:\tlearn: 0.2481170\ttotal: 2.96s\tremaining: 1.77s\n",
      "626:\tlearn: 0.2480477\ttotal: 2.97s\tremaining: 1.77s\n",
      "627:\tlearn: 0.2479958\ttotal: 2.97s\tremaining: 1.76s\n",
      "628:\tlearn: 0.2479241\ttotal: 2.98s\tremaining: 1.76s\n",
      "629:\tlearn: 0.2478994\ttotal: 2.98s\tremaining: 1.75s\n",
      "630:\tlearn: 0.2478450\ttotal: 2.99s\tremaining: 1.75s\n",
      "631:\tlearn: 0.2477839\ttotal: 2.99s\tremaining: 1.74s\n",
      "632:\tlearn: 0.2477219\ttotal: 3s\tremaining: 1.74s\n",
      "633:\tlearn: 0.2476175\ttotal: 3s\tremaining: 1.73s\n",
      "634:\tlearn: 0.2475651\ttotal: 3.01s\tremaining: 1.73s\n",
      "635:\tlearn: 0.2475000\ttotal: 3.01s\tremaining: 1.72s\n",
      "636:\tlearn: 0.2474326\ttotal: 3.02s\tremaining: 1.72s\n",
      "637:\tlearn: 0.2474059\ttotal: 3.02s\tremaining: 1.71s\n",
      "638:\tlearn: 0.2473435\ttotal: 3.02s\tremaining: 1.71s\n",
      "639:\tlearn: 0.2472739\ttotal: 3.03s\tremaining: 1.7s\n",
      "640:\tlearn: 0.2472451\ttotal: 3.03s\tremaining: 1.7s\n",
      "641:\tlearn: 0.2471557\ttotal: 3.04s\tremaining: 1.69s\n",
      "642:\tlearn: 0.2471111\ttotal: 3.04s\tremaining: 1.69s\n",
      "643:\tlearn: 0.2470411\ttotal: 3.05s\tremaining: 1.68s\n",
      "644:\tlearn: 0.2469834\ttotal: 3.05s\tremaining: 1.68s\n",
      "645:\tlearn: 0.2469227\ttotal: 3.06s\tremaining: 1.67s\n",
      "646:\tlearn: 0.2468530\ttotal: 3.06s\tremaining: 1.67s\n",
      "647:\tlearn: 0.2467669\ttotal: 3.06s\tremaining: 1.67s\n",
      "648:\tlearn: 0.2467275\ttotal: 3.07s\tremaining: 1.66s\n",
      "649:\tlearn: 0.2466812\ttotal: 3.07s\tremaining: 1.66s\n",
      "650:\tlearn: 0.2466358\ttotal: 3.08s\tremaining: 1.65s\n",
      "651:\tlearn: 0.2465758\ttotal: 3.08s\tremaining: 1.65s\n",
      "652:\tlearn: 0.2464970\ttotal: 3.09s\tremaining: 1.64s\n",
      "653:\tlearn: 0.2464242\ttotal: 3.09s\tremaining: 1.64s\n",
      "654:\tlearn: 0.2463635\ttotal: 3.1s\tremaining: 1.63s\n",
      "655:\tlearn: 0.2462707\ttotal: 3.1s\tremaining: 1.63s\n",
      "656:\tlearn: 0.2462117\ttotal: 3.1s\tremaining: 1.62s\n",
      "657:\tlearn: 0.2461858\ttotal: 3.11s\tremaining: 1.61s\n",
      "658:\tlearn: 0.2461499\ttotal: 3.11s\tremaining: 1.61s\n",
      "659:\tlearn: 0.2460734\ttotal: 3.12s\tremaining: 1.61s\n",
      "660:\tlearn: 0.2460260\ttotal: 3.12s\tremaining: 1.6s\n",
      "661:\tlearn: 0.2459522\ttotal: 3.13s\tremaining: 1.6s\n",
      "662:\tlearn: 0.2458642\ttotal: 3.13s\tremaining: 1.59s\n",
      "663:\tlearn: 0.2458199\ttotal: 3.13s\tremaining: 1.59s\n",
      "664:\tlearn: 0.2457654\ttotal: 3.14s\tremaining: 1.58s\n",
      "665:\tlearn: 0.2457144\ttotal: 3.14s\tremaining: 1.58s\n",
      "666:\tlearn: 0.2456672\ttotal: 3.15s\tremaining: 1.57s\n",
      "667:\tlearn: 0.2456586\ttotal: 3.15s\tremaining: 1.57s\n",
      "668:\tlearn: 0.2455993\ttotal: 3.16s\tremaining: 1.56s\n",
      "669:\tlearn: 0.2454790\ttotal: 3.16s\tremaining: 1.56s\n",
      "670:\tlearn: 0.2454664\ttotal: 3.16s\tremaining: 1.55s\n",
      "671:\tlearn: 0.2453724\ttotal: 3.17s\tremaining: 1.55s\n",
      "672:\tlearn: 0.2452786\ttotal: 3.17s\tremaining: 1.54s\n",
      "673:\tlearn: 0.2452158\ttotal: 3.18s\tremaining: 1.54s\n",
      "674:\tlearn: 0.2451190\ttotal: 3.18s\tremaining: 1.53s\n",
      "675:\tlearn: 0.2450694\ttotal: 3.19s\tremaining: 1.53s\n",
      "676:\tlearn: 0.2449541\ttotal: 3.19s\tremaining: 1.52s\n",
      "677:\tlearn: 0.2448954\ttotal: 3.2s\tremaining: 1.52s\n",
      "678:\tlearn: 0.2448520\ttotal: 3.2s\tremaining: 1.51s\n",
      "679:\tlearn: 0.2448194\ttotal: 3.21s\tremaining: 1.51s\n",
      "680:\tlearn: 0.2447622\ttotal: 3.21s\tremaining: 1.5s\n",
      "681:\tlearn: 0.2446965\ttotal: 3.21s\tremaining: 1.5s\n",
      "682:\tlearn: 0.2446406\ttotal: 3.22s\tremaining: 1.49s\n",
      "683:\tlearn: 0.2445909\ttotal: 3.22s\tremaining: 1.49s\n",
      "684:\tlearn: 0.2445414\ttotal: 3.23s\tremaining: 1.48s\n",
      "685:\tlearn: 0.2444835\ttotal: 3.23s\tremaining: 1.48s\n",
      "686:\tlearn: 0.2444677\ttotal: 3.24s\tremaining: 1.48s\n",
      "687:\tlearn: 0.2443996\ttotal: 3.24s\tremaining: 1.47s\n",
      "688:\tlearn: 0.2443686\ttotal: 3.25s\tremaining: 1.47s\n",
      "689:\tlearn: 0.2442450\ttotal: 3.25s\tremaining: 1.46s\n",
      "690:\tlearn: 0.2442022\ttotal: 3.25s\tremaining: 1.46s\n",
      "691:\tlearn: 0.2441640\ttotal: 3.26s\tremaining: 1.45s\n",
      "692:\tlearn: 0.2441023\ttotal: 3.26s\tremaining: 1.45s\n",
      "693:\tlearn: 0.2440493\ttotal: 3.27s\tremaining: 1.44s\n",
      "694:\tlearn: 0.2440114\ttotal: 3.27s\tremaining: 1.44s\n",
      "695:\tlearn: 0.2439622\ttotal: 3.28s\tremaining: 1.43s\n",
      "696:\tlearn: 0.2438833\ttotal: 3.28s\tremaining: 1.43s\n",
      "697:\tlearn: 0.2437837\ttotal: 3.29s\tremaining: 1.42s\n",
      "698:\tlearn: 0.2437360\ttotal: 3.29s\tremaining: 1.42s\n",
      "699:\tlearn: 0.2436899\ttotal: 3.29s\tremaining: 1.41s\n",
      "700:\tlearn: 0.2436353\ttotal: 3.3s\tremaining: 1.41s\n",
      "701:\tlearn: 0.2435970\ttotal: 3.3s\tremaining: 1.4s\n",
      "702:\tlearn: 0.2435348\ttotal: 3.31s\tremaining: 1.4s\n",
      "703:\tlearn: 0.2434095\ttotal: 3.31s\tremaining: 1.39s\n",
      "704:\tlearn: 0.2433539\ttotal: 3.32s\tremaining: 1.39s\n",
      "705:\tlearn: 0.2433094\ttotal: 3.32s\tremaining: 1.38s\n",
      "706:\tlearn: 0.2432750\ttotal: 3.33s\tremaining: 1.38s\n",
      "707:\tlearn: 0.2431636\ttotal: 3.33s\tremaining: 1.37s\n",
      "708:\tlearn: 0.2431236\ttotal: 3.33s\tremaining: 1.37s\n",
      "709:\tlearn: 0.2430556\ttotal: 3.34s\tremaining: 1.36s\n",
      "710:\tlearn: 0.2429818\ttotal: 3.34s\tremaining: 1.36s\n",
      "711:\tlearn: 0.2429115\ttotal: 3.35s\tremaining: 1.35s\n",
      "712:\tlearn: 0.2428482\ttotal: 3.35s\tremaining: 1.35s\n",
      "713:\tlearn: 0.2428065\ttotal: 3.36s\tremaining: 1.34s\n",
      "714:\tlearn: 0.2427614\ttotal: 3.36s\tremaining: 1.34s\n",
      "715:\tlearn: 0.2427196\ttotal: 3.37s\tremaining: 1.33s\n",
      "716:\tlearn: 0.2426815\ttotal: 3.37s\tremaining: 1.33s\n",
      "717:\tlearn: 0.2426202\ttotal: 3.37s\tremaining: 1.32s\n",
      "718:\tlearn: 0.2425443\ttotal: 3.38s\tremaining: 1.32s\n",
      "719:\tlearn: 0.2424778\ttotal: 3.38s\tremaining: 1.32s\n",
      "720:\tlearn: 0.2424104\ttotal: 3.39s\tremaining: 1.31s\n",
      "721:\tlearn: 0.2423662\ttotal: 3.39s\tremaining: 1.31s\n",
      "722:\tlearn: 0.2423449\ttotal: 3.4s\tremaining: 1.3s\n",
      "723:\tlearn: 0.2422932\ttotal: 3.4s\tremaining: 1.3s\n",
      "724:\tlearn: 0.2422468\ttotal: 3.41s\tremaining: 1.29s\n",
      "725:\tlearn: 0.2421943\ttotal: 3.41s\tremaining: 1.29s\n",
      "726:\tlearn: 0.2421568\ttotal: 3.42s\tremaining: 1.28s\n",
      "727:\tlearn: 0.2421242\ttotal: 3.42s\tremaining: 1.28s\n",
      "728:\tlearn: 0.2420795\ttotal: 3.42s\tremaining: 1.27s\n",
      "729:\tlearn: 0.2420290\ttotal: 3.43s\tremaining: 1.27s\n",
      "730:\tlearn: 0.2419799\ttotal: 3.43s\tremaining: 1.26s\n",
      "731:\tlearn: 0.2419137\ttotal: 3.44s\tremaining: 1.26s\n",
      "732:\tlearn: 0.2418779\ttotal: 3.44s\tremaining: 1.25s\n",
      "733:\tlearn: 0.2417949\ttotal: 3.45s\tremaining: 1.25s\n",
      "734:\tlearn: 0.2417135\ttotal: 3.45s\tremaining: 1.24s\n",
      "735:\tlearn: 0.2416432\ttotal: 3.46s\tremaining: 1.24s\n",
      "736:\tlearn: 0.2415780\ttotal: 3.46s\tremaining: 1.23s\n",
      "737:\tlearn: 0.2415094\ttotal: 3.46s\tremaining: 1.23s\n",
      "738:\tlearn: 0.2414543\ttotal: 3.47s\tremaining: 1.23s\n",
      "739:\tlearn: 0.2413903\ttotal: 3.47s\tremaining: 1.22s\n",
      "740:\tlearn: 0.2413042\ttotal: 3.48s\tremaining: 1.22s\n",
      "741:\tlearn: 0.2412363\ttotal: 3.48s\tremaining: 1.21s\n",
      "742:\tlearn: 0.2411739\ttotal: 3.49s\tremaining: 1.21s\n",
      "743:\tlearn: 0.2411118\ttotal: 3.49s\tremaining: 1.2s\n",
      "744:\tlearn: 0.2410339\ttotal: 3.5s\tremaining: 1.2s\n",
      "745:\tlearn: 0.2409934\ttotal: 3.5s\tremaining: 1.19s\n",
      "746:\tlearn: 0.2409865\ttotal: 3.5s\tremaining: 1.19s\n",
      "747:\tlearn: 0.2409416\ttotal: 3.51s\tremaining: 1.18s\n",
      "748:\tlearn: 0.2409301\ttotal: 3.51s\tremaining: 1.18s\n",
      "749:\tlearn: 0.2409115\ttotal: 3.52s\tremaining: 1.17s\n",
      "750:\tlearn: 0.2409037\ttotal: 3.52s\tremaining: 1.17s\n",
      "751:\tlearn: 0.2408010\ttotal: 3.53s\tremaining: 1.16s\n",
      "752:\tlearn: 0.2407136\ttotal: 3.53s\tremaining: 1.16s\n",
      "753:\tlearn: 0.2406686\ttotal: 3.54s\tremaining: 1.15s\n",
      "754:\tlearn: 0.2406016\ttotal: 3.54s\tremaining: 1.15s\n",
      "755:\tlearn: 0.2405731\ttotal: 3.55s\tremaining: 1.14s\n",
      "756:\tlearn: 0.2405138\ttotal: 3.55s\tremaining: 1.14s\n",
      "757:\tlearn: 0.2404772\ttotal: 3.55s\tremaining: 1.13s\n",
      "758:\tlearn: 0.2404316\ttotal: 3.56s\tremaining: 1.13s\n",
      "759:\tlearn: 0.2403900\ttotal: 3.56s\tremaining: 1.13s\n",
      "760:\tlearn: 0.2403278\ttotal: 3.57s\tremaining: 1.12s\n",
      "761:\tlearn: 0.2402447\ttotal: 3.57s\tremaining: 1.12s\n",
      "762:\tlearn: 0.2401959\ttotal: 3.58s\tremaining: 1.11s\n",
      "763:\tlearn: 0.2401099\ttotal: 3.58s\tremaining: 1.11s\n",
      "764:\tlearn: 0.2400102\ttotal: 3.59s\tremaining: 1.1s\n",
      "765:\tlearn: 0.2399686\ttotal: 3.59s\tremaining: 1.1s\n",
      "766:\tlearn: 0.2398954\ttotal: 3.6s\tremaining: 1.09s\n",
      "767:\tlearn: 0.2398573\ttotal: 3.6s\tremaining: 1.09s\n",
      "768:\tlearn: 0.2398105\ttotal: 3.61s\tremaining: 1.08s\n",
      "769:\tlearn: 0.2397887\ttotal: 3.61s\tremaining: 1.08s\n",
      "770:\tlearn: 0.2397609\ttotal: 3.62s\tremaining: 1.07s\n",
      "771:\tlearn: 0.2397006\ttotal: 3.62s\tremaining: 1.07s\n",
      "772:\tlearn: 0.2396353\ttotal: 3.62s\tremaining: 1.06s\n",
      "773:\tlearn: 0.2395909\ttotal: 3.63s\tremaining: 1.06s\n",
      "774:\tlearn: 0.2395100\ttotal: 3.63s\tremaining: 1.05s\n",
      "775:\tlearn: 0.2394489\ttotal: 3.64s\tremaining: 1.05s\n",
      "776:\tlearn: 0.2393847\ttotal: 3.64s\tremaining: 1.04s\n",
      "777:\tlearn: 0.2393374\ttotal: 3.65s\tremaining: 1.04s\n",
      "778:\tlearn: 0.2392720\ttotal: 3.65s\tremaining: 1.03s\n",
      "779:\tlearn: 0.2392665\ttotal: 3.65s\tremaining: 1.03s\n",
      "780:\tlearn: 0.2392050\ttotal: 3.66s\tremaining: 1.03s\n",
      "781:\tlearn: 0.2391445\ttotal: 3.66s\tremaining: 1.02s\n",
      "782:\tlearn: 0.2390498\ttotal: 3.67s\tremaining: 1.02s\n",
      "783:\tlearn: 0.2389865\ttotal: 3.67s\tremaining: 1.01s\n",
      "784:\tlearn: 0.2389695\ttotal: 3.68s\tremaining: 1.01s\n",
      "785:\tlearn: 0.2388946\ttotal: 3.68s\tremaining: 1s\n",
      "786:\tlearn: 0.2388200\ttotal: 3.69s\tremaining: 998ms\n",
      "787:\tlearn: 0.2387428\ttotal: 3.69s\tremaining: 993ms\n",
      "788:\tlearn: 0.2386707\ttotal: 3.7s\tremaining: 989ms\n",
      "789:\tlearn: 0.2385757\ttotal: 3.7s\tremaining: 984ms\n",
      "790:\tlearn: 0.2385144\ttotal: 3.71s\tremaining: 979ms\n",
      "791:\tlearn: 0.2384549\ttotal: 3.71s\tremaining: 974ms\n",
      "792:\tlearn: 0.2384009\ttotal: 3.71s\tremaining: 970ms\n",
      "793:\tlearn: 0.2383392\ttotal: 3.72s\tremaining: 965ms\n",
      "794:\tlearn: 0.2382823\ttotal: 3.72s\tremaining: 960ms\n",
      "795:\tlearn: 0.2382550\ttotal: 3.73s\tremaining: 956ms\n",
      "796:\tlearn: 0.2381972\ttotal: 3.73s\tremaining: 951ms\n",
      "797:\tlearn: 0.2381351\ttotal: 3.74s\tremaining: 946ms\n",
      "798:\tlearn: 0.2381008\ttotal: 3.74s\tremaining: 941ms\n",
      "799:\tlearn: 0.2380556\ttotal: 3.75s\tremaining: 937ms\n",
      "800:\tlearn: 0.2379657\ttotal: 3.75s\tremaining: 932ms\n",
      "801:\tlearn: 0.2379023\ttotal: 3.76s\tremaining: 927ms\n",
      "802:\tlearn: 0.2378155\ttotal: 3.76s\tremaining: 923ms\n",
      "803:\tlearn: 0.2377653\ttotal: 3.77s\tremaining: 918ms\n",
      "804:\tlearn: 0.2377179\ttotal: 3.77s\tremaining: 913ms\n",
      "805:\tlearn: 0.2376482\ttotal: 3.77s\tremaining: 908ms\n",
      "806:\tlearn: 0.2376395\ttotal: 3.78s\tremaining: 904ms\n",
      "807:\tlearn: 0.2375773\ttotal: 3.78s\tremaining: 899ms\n",
      "808:\tlearn: 0.2374954\ttotal: 3.79s\tremaining: 894ms\n",
      "809:\tlearn: 0.2374498\ttotal: 3.79s\tremaining: 890ms\n",
      "810:\tlearn: 0.2374098\ttotal: 3.8s\tremaining: 885ms\n",
      "811:\tlearn: 0.2373347\ttotal: 3.8s\tremaining: 880ms\n",
      "812:\tlearn: 0.2373010\ttotal: 3.81s\tremaining: 876ms\n",
      "813:\tlearn: 0.2372560\ttotal: 3.81s\tremaining: 871ms\n",
      "814:\tlearn: 0.2371818\ttotal: 3.82s\tremaining: 866ms\n",
      "815:\tlearn: 0.2370621\ttotal: 3.82s\tremaining: 861ms\n",
      "816:\tlearn: 0.2369870\ttotal: 3.82s\tremaining: 857ms\n",
      "817:\tlearn: 0.2369300\ttotal: 3.83s\tremaining: 852ms\n",
      "818:\tlearn: 0.2368729\ttotal: 3.83s\tremaining: 847ms\n",
      "819:\tlearn: 0.2367986\ttotal: 3.84s\tremaining: 842ms\n",
      "820:\tlearn: 0.2367896\ttotal: 3.84s\tremaining: 838ms\n",
      "821:\tlearn: 0.2367314\ttotal: 3.85s\tremaining: 833ms\n",
      "822:\tlearn: 0.2367177\ttotal: 3.85s\tremaining: 828ms\n",
      "823:\tlearn: 0.2366701\ttotal: 3.85s\tremaining: 823ms\n",
      "824:\tlearn: 0.2366203\ttotal: 3.86s\tremaining: 819ms\n",
      "825:\tlearn: 0.2365413\ttotal: 3.87s\tremaining: 814ms\n",
      "826:\tlearn: 0.2365111\ttotal: 3.87s\tremaining: 809ms\n",
      "827:\tlearn: 0.2364932\ttotal: 3.87s\tremaining: 805ms\n",
      "828:\tlearn: 0.2364054\ttotal: 3.88s\tremaining: 800ms\n",
      "829:\tlearn: 0.2363598\ttotal: 3.88s\tremaining: 795ms\n",
      "830:\tlearn: 0.2362914\ttotal: 3.89s\tremaining: 791ms\n",
      "831:\tlearn: 0.2361952\ttotal: 3.89s\tremaining: 786ms\n",
      "832:\tlearn: 0.2361268\ttotal: 3.9s\tremaining: 781ms\n",
      "833:\tlearn: 0.2360679\ttotal: 3.9s\tremaining: 776ms\n",
      "834:\tlearn: 0.2359990\ttotal: 3.9s\tremaining: 772ms\n",
      "835:\tlearn: 0.2359591\ttotal: 3.91s\tremaining: 767ms\n",
      "836:\tlearn: 0.2359399\ttotal: 3.91s\tremaining: 762ms\n",
      "837:\tlearn: 0.2358968\ttotal: 3.92s\tremaining: 758ms\n",
      "838:\tlearn: 0.2358652\ttotal: 3.92s\tremaining: 753ms\n",
      "839:\tlearn: 0.2357942\ttotal: 3.93s\tremaining: 748ms\n",
      "840:\tlearn: 0.2357514\ttotal: 3.93s\tremaining: 743ms\n",
      "841:\tlearn: 0.2357002\ttotal: 3.94s\tremaining: 739ms\n",
      "842:\tlearn: 0.2356496\ttotal: 3.94s\tremaining: 734ms\n",
      "843:\tlearn: 0.2356361\ttotal: 3.94s\tremaining: 729ms\n",
      "844:\tlearn: 0.2355756\ttotal: 3.95s\tremaining: 725ms\n",
      "845:\tlearn: 0.2355197\ttotal: 3.95s\tremaining: 720ms\n",
      "846:\tlearn: 0.2354796\ttotal: 3.96s\tremaining: 715ms\n",
      "847:\tlearn: 0.2354332\ttotal: 3.96s\tremaining: 710ms\n",
      "848:\tlearn: 0.2353853\ttotal: 3.97s\tremaining: 706ms\n",
      "849:\tlearn: 0.2352985\ttotal: 3.97s\tremaining: 701ms\n",
      "850:\tlearn: 0.2352498\ttotal: 3.98s\tremaining: 696ms\n",
      "851:\tlearn: 0.2352334\ttotal: 3.98s\tremaining: 692ms\n",
      "852:\tlearn: 0.2351731\ttotal: 3.98s\tremaining: 687ms\n",
      "853:\tlearn: 0.2350947\ttotal: 3.99s\tremaining: 682ms\n",
      "854:\tlearn: 0.2350456\ttotal: 3.99s\tremaining: 678ms\n",
      "855:\tlearn: 0.2350069\ttotal: 4s\tremaining: 673ms\n",
      "856:\tlearn: 0.2349303\ttotal: 4s\tremaining: 668ms\n",
      "857:\tlearn: 0.2348720\ttotal: 4.01s\tremaining: 663ms\n",
      "858:\tlearn: 0.2347682\ttotal: 4.01s\tremaining: 659ms\n",
      "859:\tlearn: 0.2347374\ttotal: 4.02s\tremaining: 654ms\n",
      "860:\tlearn: 0.2346854\ttotal: 4.02s\tremaining: 649ms\n",
      "861:\tlearn: 0.2346454\ttotal: 4.03s\tremaining: 645ms\n",
      "862:\tlearn: 0.2345832\ttotal: 4.03s\tremaining: 640ms\n",
      "863:\tlearn: 0.2345555\ttotal: 4.04s\tremaining: 635ms\n",
      "864:\tlearn: 0.2345318\ttotal: 4.04s\tremaining: 631ms\n",
      "865:\tlearn: 0.2344984\ttotal: 4.04s\tremaining: 626ms\n",
      "866:\tlearn: 0.2344377\ttotal: 4.05s\tremaining: 621ms\n",
      "867:\tlearn: 0.2343646\ttotal: 4.05s\tremaining: 617ms\n",
      "868:\tlearn: 0.2343553\ttotal: 4.06s\tremaining: 612ms\n",
      "869:\tlearn: 0.2343043\ttotal: 4.06s\tremaining: 607ms\n",
      "870:\tlearn: 0.2342233\ttotal: 4.07s\tremaining: 603ms\n",
      "871:\tlearn: 0.2341767\ttotal: 4.07s\tremaining: 598ms\n",
      "872:\tlearn: 0.2340967\ttotal: 4.08s\tremaining: 593ms\n",
      "873:\tlearn: 0.2340333\ttotal: 4.08s\tremaining: 589ms\n",
      "874:\tlearn: 0.2339708\ttotal: 4.09s\tremaining: 584ms\n",
      "875:\tlearn: 0.2339572\ttotal: 4.09s\tremaining: 579ms\n",
      "876:\tlearn: 0.2339204\ttotal: 4.1s\tremaining: 575ms\n",
      "877:\tlearn: 0.2338739\ttotal: 4.1s\tremaining: 570ms\n",
      "878:\tlearn: 0.2338578\ttotal: 4.11s\tremaining: 565ms\n",
      "879:\tlearn: 0.2338058\ttotal: 4.11s\tremaining: 561ms\n",
      "880:\tlearn: 0.2337615\ttotal: 4.12s\tremaining: 556ms\n",
      "881:\tlearn: 0.2337381\ttotal: 4.12s\tremaining: 551ms\n",
      "882:\tlearn: 0.2336768\ttotal: 4.12s\tremaining: 547ms\n",
      "883:\tlearn: 0.2336435\ttotal: 4.13s\tremaining: 542ms\n",
      "884:\tlearn: 0.2335863\ttotal: 4.13s\tremaining: 537ms\n",
      "885:\tlearn: 0.2335505\ttotal: 4.14s\tremaining: 533ms\n",
      "886:\tlearn: 0.2334908\ttotal: 4.14s\tremaining: 528ms\n",
      "887:\tlearn: 0.2334262\ttotal: 4.15s\tremaining: 523ms\n",
      "888:\tlearn: 0.2333787\ttotal: 4.15s\tremaining: 519ms\n",
      "889:\tlearn: 0.2333419\ttotal: 4.16s\tremaining: 514ms\n",
      "890:\tlearn: 0.2332963\ttotal: 4.16s\tremaining: 509ms\n",
      "891:\tlearn: 0.2332560\ttotal: 4.17s\tremaining: 505ms\n",
      "892:\tlearn: 0.2331821\ttotal: 4.17s\tremaining: 500ms\n",
      "893:\tlearn: 0.2331594\ttotal: 4.18s\tremaining: 495ms\n",
      "894:\tlearn: 0.2331086\ttotal: 4.18s\tremaining: 491ms\n",
      "895:\tlearn: 0.2330463\ttotal: 4.19s\tremaining: 486ms\n",
      "896:\tlearn: 0.2329709\ttotal: 4.19s\tremaining: 482ms\n",
      "897:\tlearn: 0.2329026\ttotal: 4.2s\tremaining: 477ms\n",
      "898:\tlearn: 0.2328224\ttotal: 4.2s\tremaining: 472ms\n",
      "899:\tlearn: 0.2327668\ttotal: 4.21s\tremaining: 468ms\n",
      "900:\tlearn: 0.2327310\ttotal: 4.21s\tremaining: 463ms\n",
      "901:\tlearn: 0.2326725\ttotal: 4.22s\tremaining: 458ms\n",
      "902:\tlearn: 0.2326135\ttotal: 4.22s\tremaining: 454ms\n",
      "903:\tlearn: 0.2325594\ttotal: 4.23s\tremaining: 449ms\n",
      "904:\tlearn: 0.2325040\ttotal: 4.23s\tremaining: 445ms\n",
      "905:\tlearn: 0.2324968\ttotal: 4.24s\tremaining: 440ms\n",
      "906:\tlearn: 0.2324377\ttotal: 4.24s\tremaining: 435ms\n",
      "907:\tlearn: 0.2323680\ttotal: 4.25s\tremaining: 431ms\n",
      "908:\tlearn: 0.2323416\ttotal: 4.25s\tremaining: 426ms\n",
      "909:\tlearn: 0.2323089\ttotal: 4.26s\tremaining: 421ms\n",
      "910:\tlearn: 0.2322583\ttotal: 4.26s\tremaining: 417ms\n",
      "911:\tlearn: 0.2322085\ttotal: 4.27s\tremaining: 412ms\n",
      "912:\tlearn: 0.2321464\ttotal: 4.27s\tremaining: 407ms\n",
      "913:\tlearn: 0.2320892\ttotal: 4.28s\tremaining: 403ms\n",
      "914:\tlearn: 0.2320201\ttotal: 4.28s\tremaining: 398ms\n",
      "915:\tlearn: 0.2319390\ttotal: 4.29s\tremaining: 393ms\n",
      "916:\tlearn: 0.2318672\ttotal: 4.29s\tremaining: 389ms\n",
      "917:\tlearn: 0.2317888\ttotal: 4.3s\tremaining: 384ms\n",
      "918:\tlearn: 0.2317277\ttotal: 4.31s\tremaining: 380ms\n",
      "919:\tlearn: 0.2316576\ttotal: 4.31s\tremaining: 375ms\n",
      "920:\tlearn: 0.2315538\ttotal: 4.32s\tremaining: 370ms\n",
      "921:\tlearn: 0.2315151\ttotal: 4.32s\tremaining: 366ms\n",
      "922:\tlearn: 0.2314619\ttotal: 4.33s\tremaining: 361ms\n",
      "923:\tlearn: 0.2313994\ttotal: 4.33s\tremaining: 356ms\n",
      "924:\tlearn: 0.2313223\ttotal: 4.34s\tremaining: 352ms\n",
      "925:\tlearn: 0.2312787\ttotal: 4.34s\tremaining: 347ms\n",
      "926:\tlearn: 0.2312681\ttotal: 4.35s\tremaining: 342ms\n",
      "927:\tlearn: 0.2312239\ttotal: 4.35s\tremaining: 338ms\n",
      "928:\tlearn: 0.2311640\ttotal: 4.36s\tremaining: 333ms\n",
      "929:\tlearn: 0.2311218\ttotal: 4.36s\tremaining: 328ms\n",
      "930:\tlearn: 0.2310693\ttotal: 4.37s\tremaining: 324ms\n",
      "931:\tlearn: 0.2309902\ttotal: 4.37s\tremaining: 319ms\n",
      "932:\tlearn: 0.2309830\ttotal: 4.38s\tremaining: 314ms\n",
      "933:\tlearn: 0.2309489\ttotal: 4.38s\tremaining: 310ms\n",
      "934:\tlearn: 0.2308917\ttotal: 4.39s\tremaining: 305ms\n",
      "935:\tlearn: 0.2308473\ttotal: 4.39s\tremaining: 300ms\n",
      "936:\tlearn: 0.2308027\ttotal: 4.4s\tremaining: 296ms\n",
      "937:\tlearn: 0.2307472\ttotal: 4.4s\tremaining: 291ms\n",
      "938:\tlearn: 0.2306861\ttotal: 4.41s\tremaining: 286ms\n",
      "939:\tlearn: 0.2306334\ttotal: 4.41s\tremaining: 282ms\n",
      "940:\tlearn: 0.2305682\ttotal: 4.42s\tremaining: 277ms\n",
      "941:\tlearn: 0.2305207\ttotal: 4.42s\tremaining: 272ms\n",
      "942:\tlearn: 0.2304902\ttotal: 4.43s\tremaining: 268ms\n",
      "943:\tlearn: 0.2304685\ttotal: 4.43s\tremaining: 263ms\n",
      "944:\tlearn: 0.2304127\ttotal: 4.44s\tremaining: 258ms\n",
      "945:\tlearn: 0.2303590\ttotal: 4.44s\tremaining: 254ms\n",
      "946:\tlearn: 0.2302739\ttotal: 4.45s\tremaining: 249ms\n",
      "947:\tlearn: 0.2302412\ttotal: 4.45s\tremaining: 244ms\n",
      "948:\tlearn: 0.2301730\ttotal: 4.46s\tremaining: 240ms\n",
      "949:\tlearn: 0.2301401\ttotal: 4.46s\tremaining: 235ms\n",
      "950:\tlearn: 0.2300989\ttotal: 4.47s\tremaining: 230ms\n",
      "951:\tlearn: 0.2300492\ttotal: 4.47s\tremaining: 226ms\n",
      "952:\tlearn: 0.2300148\ttotal: 4.48s\tremaining: 221ms\n",
      "953:\tlearn: 0.2299907\ttotal: 4.49s\tremaining: 217ms\n",
      "954:\tlearn: 0.2299474\ttotal: 4.5s\tremaining: 212ms\n",
      "955:\tlearn: 0.2298648\ttotal: 4.5s\tremaining: 207ms\n",
      "956:\tlearn: 0.2298385\ttotal: 4.51s\tremaining: 203ms\n",
      "957:\tlearn: 0.2297907\ttotal: 4.51s\tremaining: 198ms\n",
      "958:\tlearn: 0.2297455\ttotal: 4.52s\tremaining: 193ms\n",
      "959:\tlearn: 0.2296680\ttotal: 4.53s\tremaining: 189ms\n",
      "960:\tlearn: 0.2296392\ttotal: 4.53s\tremaining: 184ms\n",
      "961:\tlearn: 0.2295583\ttotal: 4.54s\tremaining: 179ms\n",
      "962:\tlearn: 0.2295132\ttotal: 4.54s\tremaining: 175ms\n",
      "963:\tlearn: 0.2294704\ttotal: 4.55s\tremaining: 170ms\n",
      "964:\tlearn: 0.2294057\ttotal: 4.55s\tremaining: 165ms\n",
      "965:\tlearn: 0.2293562\ttotal: 4.56s\tremaining: 161ms\n",
      "966:\tlearn: 0.2292730\ttotal: 4.57s\tremaining: 156ms\n",
      "967:\tlearn: 0.2292377\ttotal: 4.57s\tremaining: 151ms\n",
      "968:\tlearn: 0.2291542\ttotal: 4.58s\tremaining: 146ms\n",
      "969:\tlearn: 0.2290774\ttotal: 4.58s\tremaining: 142ms\n",
      "970:\tlearn: 0.2290474\ttotal: 4.59s\tremaining: 137ms\n",
      "971:\tlearn: 0.2290146\ttotal: 4.6s\tremaining: 132ms\n",
      "972:\tlearn: 0.2289767\ttotal: 4.6s\tremaining: 128ms\n",
      "973:\tlearn: 0.2289220\ttotal: 4.61s\tremaining: 123ms\n",
      "974:\tlearn: 0.2288398\ttotal: 4.61s\tremaining: 118ms\n",
      "975:\tlearn: 0.2287941\ttotal: 4.62s\tremaining: 114ms\n",
      "976:\tlearn: 0.2287678\ttotal: 4.62s\tremaining: 109ms\n",
      "977:\tlearn: 0.2287316\ttotal: 4.63s\tremaining: 104ms\n",
      "978:\tlearn: 0.2287139\ttotal: 4.63s\tremaining: 99.4ms\n",
      "979:\tlearn: 0.2286832\ttotal: 4.64s\tremaining: 94.7ms\n",
      "980:\tlearn: 0.2286379\ttotal: 4.65s\tremaining: 90ms\n",
      "981:\tlearn: 0.2285963\ttotal: 4.65s\tremaining: 85.3ms\n",
      "982:\tlearn: 0.2285840\ttotal: 4.66s\tremaining: 80.5ms\n",
      "983:\tlearn: 0.2285700\ttotal: 4.66s\tremaining: 75.8ms\n",
      "984:\tlearn: 0.2285388\ttotal: 4.67s\tremaining: 71.1ms\n",
      "985:\tlearn: 0.2284900\ttotal: 4.67s\tremaining: 66.4ms\n",
      "986:\tlearn: 0.2284291\ttotal: 4.68s\tremaining: 61.6ms\n",
      "987:\tlearn: 0.2284079\ttotal: 4.68s\tremaining: 56.9ms\n",
      "988:\tlearn: 0.2283728\ttotal: 4.69s\tremaining: 52.2ms\n",
      "989:\tlearn: 0.2283007\ttotal: 4.7s\tremaining: 47.4ms\n",
      "990:\tlearn: 0.2282555\ttotal: 4.7s\tremaining: 42.7ms\n",
      "991:\tlearn: 0.2282281\ttotal: 4.71s\tremaining: 38ms\n",
      "992:\tlearn: 0.2281895\ttotal: 4.71s\tremaining: 33.2ms\n",
      "993:\tlearn: 0.2281778\ttotal: 4.72s\tremaining: 28.5ms\n",
      "994:\tlearn: 0.2281364\ttotal: 4.72s\tremaining: 23.7ms\n",
      "995:\tlearn: 0.2280880\ttotal: 4.73s\tremaining: 19ms\n",
      "996:\tlearn: 0.2280421\ttotal: 4.73s\tremaining: 14.2ms\n",
      "997:\tlearn: 0.2279794\ttotal: 4.74s\tremaining: 9.49ms\n",
      "998:\tlearn: 0.2279368\ttotal: 4.74s\tremaining: 4.75ms\n",
      "999:\tlearn: 0.2278614\ttotal: 4.75s\tremaining: 0us\n",
      "0.9153773287022419 - Accuracy модели CatBoostClassifier на тестовой выборке\n",
      "0.915686429304492 - Accuracy модели CatBoostClassifier на обучающей выборке\n",
      "0.002972126007080078 - Время предсказания модели CatBoostClassifier на обучающей выборке\n",
      "0.0059833526611328125 - Время предсказания модели CatBoostClassifier на тестовой выборке\n"
     ]
    }
   ],
   "source": [
    "CatBoostClassifier(random_state=12345, depth=1, iterations=1, learning_rate= 0.03)\n",
    "model.fit(features_train, target_train)\n",
    "probabilities_test= model.predict_proba(features_test)[:, 1]\n",
    "start= time.time()\n",
    "predictions_test = model.predict(features_test)\n",
    "end= time.time()\n",
    "end2= time.time()\n",
    "cbc_time_predictions_test = end - start\n",
    "probabilities_train = model.predict_proba(features_train)[:, 1]\n",
    "start= time.time()\n",
    "predictions_train = model.predict(features_train)\n",
    "end= time.time()\n",
    "cbc_time_predictions_train = end - start\n",
    "accuracy_cbc_test = accuracy_score(target_test, predictions_test)\n",
    "accuracy_cbc_train = accuracy_score(target_train, predictions_train)\n",
    "\n",
    "print(accuracy_cbc_test, '- Accuracy модели CatBoostClassifier на тестовой выборке')\n",
    "print(accuracy_cbc_train, '- Accuracy модели CatBoostClassifier на обучающей выборке')\n",
    "print(cbc_time_predictions_test, '- Время предсказания модели CatBoostClassifier на обучающей выборке')\n",
    "print(cbc_time_predictions_train, '- Время предсказания модели CatBoostClassifier на тестовой выборке')\n",
    "\n"
   ]
  },
  {
   "cell_type": "markdown",
   "metadata": {},
   "source": [
    "Найдем лучшие параметры для модели LGBMClassifier с помощью функции GridSearchCV."
   ]
  },
  {
   "cell_type": "code",
   "execution_count": 67,
   "metadata": {},
   "outputs": [
    {
     "name": "stdout",
     "output_type": "stream",
     "text": [
      "{'class_weight': None, 'learning_rate': 0.03, 'n_estimators': 1}\n",
      "0.91134444966301\n"
     ]
    }
   ],
   "source": [
    "model = LGBMClassifier(random_state=12345)\n",
    "params_lgbm = {'learning_rate':[0.03, 0.1], 'n_estimators':(1,501,50),'class_weight':['balanced',None]}\n",
    "LGBM = GridSearchCV(model, params_lgbm, cv=3)\n",
    "LGBM.fit(features_train,target_train)\n",
    "print(LGBM.best_params_)\n",
    "print(LGBM.best_score_)"
   ]
  },
  {
   "cell_type": "markdown",
   "metadata": {},
   "source": [
    "Обучим модель LGBMClassifier с подобранными параметрами."
   ]
  },
  {
   "cell_type": "code",
   "execution_count": 68,
   "metadata": {},
   "outputs": [
    {
     "name": "stdout",
     "output_type": "stream",
     "text": [
      "0.9163245974107989 - Accuracy модели LGBMClassifier на тестовой выборке\n",
      "0.9113444383042552 - Accuracy модели LGBMClassifier на обучающей выборке\n",
      "0.0029840469360351562 - Время предсказания модели LGBMClassifier на обучающей выборке\n",
      "0.003989458084106445 - Время предсказания модели LGBMClassifier на тестовой выборке\n"
     ]
    }
   ],
   "source": [
    "model = LGBMClassifier(random_state=12345, learning_rate= 0.03, n_estimators=1)\n",
    "model.fit(features_train, target_train)\n",
    "model.fit(features_train, target_train)\n",
    "probabilities_test= model.predict_proba(features_test)[:, 1]\n",
    "start= time.time()\n",
    "predictions_test = model.predict(features_test)\n",
    "end= time.time()\n",
    "end2= time.time()\n",
    "lgbm_time_predictions_test = end - start\n",
    "probabilities_train = model.predict_proba(features_train)[:, 1]\n",
    "start= time.time()\n",
    "predictions_train = model.predict(features_train)\n",
    "end= time.time()\n",
    "lgbm_time_predictions_train = end - start\n",
    "\n",
    "accuracy_lgbm_test = accuracy_score(target_test, predictions_test)\n",
    "accuracy_lgbm_train = accuracy_score(target_train, predictions_train)\n",
    "\n",
    "print(accuracy_lgbm_test, '- Accuracy модели LGBMClassifier на тестовой выборке')\n",
    "print(accuracy_lgbm_train, '- Accuracy модели LGBMClassifier на обучающей выборке')\n",
    "print(lgbm_time_predictions_test, '- Время предсказания модели LGBMClassifier на обучающей выборке')\n",
    "print(lgbm_time_predictions_train, '- Время предсказания модели LGBMClassifier на тестовой выборке')"
   ]
  },
  {
   "cell_type": "markdown",
   "metadata": {},
   "source": [
    "Найдем лучшие параметры для модели DecisionTreeClassifier с помощью функции GridSearchCV."
   ]
  },
  {
   "cell_type": "code",
   "execution_count": 69,
   "metadata": {},
   "outputs": [
    {
     "name": "stdout",
     "output_type": "stream",
     "text": [
      "{'class_weight': None, 'max_depth': 1, 'min_samples_leaf': 1, 'min_samples_split': 2}\n",
      "0.91134444966301\n"
     ]
    }
   ],
   "source": [
    "model = DecisionTreeClassifier(random_state=12345)\n",
    "params_dtc = {'max_depth':[1,41,5],'min_samples_split':[2,42,5],'min_samples_leaf':[1,41,5],'class_weight':['balanced',None]}\n",
    "DTC = GridSearchCV(model, params_dtc, cv=3)\n",
    "DTC.fit(features_train,target_train)\n",
    "print(DTC.best_params_)\n",
    "print(DTC.best_score_)"
   ]
  },
  {
   "cell_type": "markdown",
   "metadata": {},
   "source": [
    "Обучим модель DecisionTreeClassifier с подобранными параметрами."
   ]
  },
  {
   "cell_type": "code",
   "execution_count": 70,
   "metadata": {},
   "outputs": [
    {
     "name": "stdout",
     "output_type": "stream",
     "text": [
      "0.9163245974107989 - Accuracy модели DecisionTreeClassifier на тестовой выборке\n",
      "0.9113444383042552 - Accuracy модели DecisionTreeClassifier на обучающей выборке\n",
      "0.000997304916381836 - Время предсказания модели DecisionTreeClassifier на обучающей выборке\n",
      "0.0009980201721191406 - Время предсказания модели DecisionTreeClassifier на тестовой выборке\n"
     ]
    }
   ],
   "source": [
    "model = DecisionTreeClassifier(random_state=12345, max_depth = 1, min_samples_leaf = 1, min_samples_split = 2)\n",
    "model.fit(features_train, target_train)\n",
    "model.fit(features_train, target_train)\n",
    "probabilities_test= model.predict_proba(features_test)[:, 1]\n",
    "start= time.time()\n",
    "predictions_test = model.predict(features_test)\n",
    "end= time.time()\n",
    "end2= time.time()\n",
    "dtc_time_predictions_test = end - start\n",
    "probabilities_train = model.predict_proba(features_train)[:, 1]\n",
    "start= time.time()\n",
    "predictions_train = model.predict(features_train)\n",
    "end= time.time()\n",
    "dtc_time_predictions_train = end - start\n",
    "accuracy_dtc_test = accuracy_score(target_test, predictions_test)\n",
    "accuracy_dtc_train = accuracy_score(target_train, predictions_train)\n",
    "\n",
    "print(accuracy_dtc_test, '- Accuracy модели DecisionTreeClassifier на тестовой выборке')\n",
    "print(accuracy_dtc_train, '- Accuracy модели DecisionTreeClassifier на обучающей выборке')\n",
    "print(dtc_time_predictions_test, '- Время предсказания модели DecisionTreeClassifier на обучающей выборке')\n",
    "print(dtc_time_predictions_train, '- Время предсказания модели DecisionTreeClassifier на тестовой выборке')"
   ]
  },
  {
   "cell_type": "markdown",
   "metadata": {},
   "source": [
    "Найдем лучшие параметры для модели RandomForestClassifier с помощью функции GridSearchCV."
   ]
  },
  {
   "cell_type": "code",
   "execution_count": 71,
   "metadata": {
    "scrolled": true
   },
   "outputs": [
    {
     "name": "stdout",
     "output_type": "stream",
     "text": [
      "{'class_weight': None, 'max_depth': 2, 'n_estimators': 301}\n",
      "0.9113444599167858\n"
     ]
    }
   ],
   "source": [
    "model = RandomForestClassifier()\n",
    "params_rfc = {'n_estimators':(1, 301, 30), 'max_depth': (2, 12, 2), 'class_weight':['balanced',None]}\n",
    "RFC = GridSearchCV(model, params_rfc)\n",
    "RFC.fit(features_train,target_train)\n",
    "print(RFC.best_params_)\n",
    "print(RFC.best_score_)"
   ]
  },
  {
   "cell_type": "markdown",
   "metadata": {},
   "source": [
    "Обучим модель RandomForestClassifier с подобранными параметрами."
   ]
  },
  {
   "cell_type": "code",
   "execution_count": 72,
   "metadata": {},
   "outputs": [
    {
     "name": "stdout",
     "output_type": "stream",
     "text": [
      "0.9160088411746132 - Accuracy модели RandomForestClassifier на тестовой выборке\n",
      "0.9114233835951685 - Accuracy модели RandomForestClassifier на обучающей выборке\n",
      "0.0009920597076416016 - Время предсказания модели RandomForestClassifier на обучающей выборке\n",
      "0.002992391586303711 - Время предсказания модели RandomForestClassifier на тестовой выборке\n"
     ]
    }
   ],
   "source": [
    "model = RandomForestClassifier(random_state=12345,max_depth=2, n_estimators=1)\n",
    "model.fit(features_train, target_train)\n",
    "model.fit(features_train, target_train)\n",
    "probabilities_test= model.predict_proba(features_test)[:, 1]\n",
    "start= time.time()\n",
    "predictions_test = model.predict(features_test)\n",
    "end= time.time()\n",
    "end2= time.time()\n",
    "rfc_time_predictions_test = end - start\n",
    "probabilities_train = model.predict_proba(features_train)[:, 1]\n",
    "start= time.time()\n",
    "predictions_train = model.predict(features_train)\n",
    "end= time.time()\n",
    "rfc_time_predictions_train = end - start\n",
    "accuracy_rfc_test = accuracy_score(target_test, predictions_test)\n",
    "accuracy_rfc_train = accuracy_score(target_train, predictions_train)\n",
    "\n",
    "print(accuracy_rfc_test, '- Accuracy модели RandomForestClassifier на тестовой выборке')\n",
    "print(accuracy_rfc_train, '- Accuracy модели RandomForestClassifier на обучающей выборке')\n",
    "print(rfc_time_predictions_test, '- Время предсказания модели RandomForestClassifier на обучающей выборке')\n",
    "print(rfc_time_predictions_train, '- Время предсказания модели RandomForestClassifier на тестовой выборке')"
   ]
  },
  {
   "cell_type": "code",
   "execution_count": 73,
   "metadata": {},
   "outputs": [
    {
     "name": "stdout",
     "output_type": "stream",
     "text": [
      "0.9163245974107989 - Accuracy модели KNeighborsClassifier на тестовой выборке\n",
      "0.9114233835951685 - Accuracy модели KNeighborsClassifier на обучающей выборке\n",
      "0.2887554168701172 - Время предсказания модели KNeighborsClassifier на обучающей выборке\n",
      "1.0491998195648193 - Время предсказания модели KNeighborsClassifier на тестовой выборке\n"
     ]
    }
   ],
   "source": [
    "model = KNeighborsClassifier(n_neighbors=10)\n",
    "model.fit(features_train, target_train)\n",
    "model.fit(features_train, target_train)\n",
    "probabilities_test= model.predict_proba(features_test)[:, 1]\n",
    "start= time.time()\n",
    "predictions_test = model.predict(features_test)\n",
    "end= time.time()\n",
    "end2= time.time()\n",
    "knn_time_predictions_test = end - start\n",
    "probabilities_train = model.predict_proba(features_train)[:, 1]\n",
    "start= time.time()\n",
    "predictions_train = model.predict(features_train)\n",
    "end= time.time()\n",
    "knn_time_predictions_train = end - start\n",
    "\n",
    "accuracy_knn_test = accuracy_score(target_test, predictions_test)\n",
    "accuracy_knn_train = accuracy_score(target_train, predictions_train)\n",
    "\n",
    "\n",
    "print(accuracy_knn_test, '- Accuracy модели KNeighborsClassifier на тестовой выборке')\n",
    "print(accuracy_knn_train, '- Accuracy модели KNeighborsClassifier на обучающей выборке')\n",
    "print(knn_time_predictions_test, '- Время предсказания модели KNeighborsClassifier на обучающей выборке')\n",
    "print(knn_time_predictions_train, '- Время предсказания модели KNeighborsClassifier на тестовой выборке')"
   ]
  },
  {
   "cell_type": "markdown",
   "metadata": {},
   "source": [
    "Соберем полученные результаты  в таблицу."
   ]
  },
  {
   "cell_type": "code",
   "execution_count": 74,
   "metadata": {},
   "outputs": [],
   "source": [
    "results = {\n",
    "    'Model' : ['RandomForestClassifier','DecisionTreeClassifier','CatBoostClassifier','LGBMClassifier','KNeighborsClassifier'],\n",
    "'accuracy_test' :pd.Series([accuracy_rfc_test, accuracy_dtc_test, accuracy_cbc_test, accuracy_lgbm_test, accuracy_knn_test]),\n",
    "'accuracy_train' :pd.Series([accuracy_rfc_train, accuracy_dtc_train, accuracy_cbc_train, accuracy_lgbm_train, accuracy_knn_train]),\n",
    "'time_predictions_test' :pd.Series([rfc_time_predictions_test, dtc_time_predictions_test, cbc_time_predictions_test, lgbm_time_predictions_test, knn_time_predictions_test]),\n",
    "'time_predictions_train' :pd.Series([rfc_time_predictions_train, dtc_time_predictions_train, cbc_time_predictions_train, lgbm_time_predictions_train,knn_time_predictions_train])}\n",
    "results = pd.DataFrame(data=results)"
   ]
  },
  {
   "cell_type": "markdown",
   "metadata": {},
   "source": [
    "Изучим результаты."
   ]
  },
  {
   "cell_type": "code",
   "execution_count": 75,
   "metadata": {},
   "outputs": [
    {
     "data": {
      "text/html": [
       "<div>\n",
       "<style scoped>\n",
       "    .dataframe tbody tr th:only-of-type {\n",
       "        vertical-align: middle;\n",
       "    }\n",
       "\n",
       "    .dataframe tbody tr th {\n",
       "        vertical-align: top;\n",
       "    }\n",
       "\n",
       "    .dataframe thead th {\n",
       "        text-align: right;\n",
       "    }\n",
       "</style>\n",
       "<table border=\"1\" class=\"dataframe\">\n",
       "  <thead>\n",
       "    <tr style=\"text-align: right;\">\n",
       "      <th></th>\n",
       "      <th>Model</th>\n",
       "      <th>accuracy_test</th>\n",
       "      <th>accuracy_train</th>\n",
       "      <th>time_predictions_test</th>\n",
       "      <th>time_predictions_train</th>\n",
       "    </tr>\n",
       "  </thead>\n",
       "  <tbody>\n",
       "    <tr>\n",
       "      <th>0</th>\n",
       "      <td>RandomForestClassifier</td>\n",
       "      <td>0.916009</td>\n",
       "      <td>0.911423</td>\n",
       "      <td>0.000992</td>\n",
       "      <td>0.002992</td>\n",
       "    </tr>\n",
       "    <tr>\n",
       "      <th>1</th>\n",
       "      <td>DecisionTreeClassifier</td>\n",
       "      <td>0.916325</td>\n",
       "      <td>0.911344</td>\n",
       "      <td>0.000997</td>\n",
       "      <td>0.000998</td>\n",
       "    </tr>\n",
       "    <tr>\n",
       "      <th>2</th>\n",
       "      <td>CatBoostClassifier</td>\n",
       "      <td>0.915377</td>\n",
       "      <td>0.915686</td>\n",
       "      <td>0.002972</td>\n",
       "      <td>0.005983</td>\n",
       "    </tr>\n",
       "    <tr>\n",
       "      <th>3</th>\n",
       "      <td>LGBMClassifier</td>\n",
       "      <td>0.916325</td>\n",
       "      <td>0.911344</td>\n",
       "      <td>0.002984</td>\n",
       "      <td>0.003989</td>\n",
       "    </tr>\n",
       "    <tr>\n",
       "      <th>4</th>\n",
       "      <td>KNeighborsClassifier</td>\n",
       "      <td>0.916325</td>\n",
       "      <td>0.911423</td>\n",
       "      <td>0.288755</td>\n",
       "      <td>1.049200</td>\n",
       "    </tr>\n",
       "  </tbody>\n",
       "</table>\n",
       "</div>"
      ],
      "text/plain": [
       "                    Model  accuracy_test  accuracy_train  \\\n",
       "0  RandomForestClassifier       0.916009        0.911423   \n",
       "1  DecisionTreeClassifier       0.916325        0.911344   \n",
       "2      CatBoostClassifier       0.915377        0.915686   \n",
       "3          LGBMClassifier       0.916325        0.911344   \n",
       "4    KNeighborsClassifier       0.916325        0.911423   \n",
       "\n",
       "   time_predictions_test  time_predictions_train  \n",
       "0               0.000992                0.002992  \n",
       "1               0.000997                0.000998  \n",
       "2               0.002972                0.005983  \n",
       "3               0.002984                0.003989  \n",
       "4               0.288755                1.049200  "
      ]
     },
     "execution_count": 75,
     "metadata": {},
     "output_type": "execute_result"
    }
   ],
   "source": [
    "results"
   ]
  },
  {
   "cell_type": "markdown",
   "metadata": {},
   "source": [
    "Как видим, наилучший показатель метрики accuracy на тесте у трех моделей - DecisionTreeClassifier, LGBMClassifier, KNeighborsClassifier. Но время предсказания у модели DecisionTreeClassifier меньше. "
   ]
  },
  {
   "cell_type": "markdown",
   "metadata": {},
   "source": [
    "# Вывод\n",
    "<a id=\"conclusion\"></a>"
   ]
  },
  {
   "cell_type": "markdown",
   "metadata": {},
   "source": [
    "В датафрейме была осуществлена предобработка данных:\n",
    "- определены и обработаны пропущенные значения\n",
    "- заменен вещественный тип данных на целочисленный\n",
    "- обнаружены и обработаны аномальные значения\n",
    "- удалены дубликаты \n",
    "- лемматизированы категории для целей кредита\n",
    "- категоризованы уровни дохода\n",
    "\n",
    "В проекте выполнен исследовательский анализ данных и определены зависимости возврата кредита в срок от \n",
    "\n",
    "- наличия детей\n",
    "- семейного положения\n",
    "- уровня дохода \n",
    "- целей кредита\n",
    "\n",
    "В результате исследования мы выявили, что:\n",
    "\n",
    "1. Появление ребенка увеличивает возможность просрочки платежа по кредиту. Однако среди многодетных кол-во заемщиков и процент должников меньше, чем у людей с 1/2 детьми.\n",
    "2. Неженатые/незамужние, а также люди в гражданском браке хуже выплачивают кредиты, чем люди которые на данный момент в браке или когда-то были в браке.\n",
    "3. Люди с наибольшим доходом выплачивают кредиты лучше всех, при этом процент должников среди людей с низким доходом ниже, чем среди заемщиков с средним и достатком выше среднего.\n",
    "4. Люди с большей вероятностью выплачивают кредит если он взят на жилье, больше всего должников брали кредит на автомобиль.\n",
    "\n",
    "Подготовили данные для построения моделей:\n",
    "- обнаружили дисбаланс в классах\n",
    "- определили целевой и другие признаки\n",
    "- разделили данные на тестовую и обучающую выборки\n",
    "- закодировали категориальные признаки\n",
    "- масштабировали численные признаки\n",
    "\n",
    "В итоге выявили, что лучшая модель - DecisionTreeClassifier. "
   ]
  }
 ],
 "metadata": {
  "ExecuteTimeLog": [
   {
    "duration": 415,
    "start_time": "2021-11-28T10:21:39.652Z"
   },
   {
    "duration": 846,
    "start_time": "2021-11-28T10:21:44.204Z"
   },
   {
    "duration": 98,
    "start_time": "2021-11-28T10:23:29.293Z"
   },
   {
    "duration": 421,
    "start_time": "2021-11-28T10:26:06.880Z"
   },
   {
    "duration": 100,
    "start_time": "2021-11-28T10:26:15.215Z"
   },
   {
    "duration": 12,
    "start_time": "2021-11-28T10:39:25.404Z"
   },
   {
    "duration": 296,
    "start_time": "2021-11-28T10:40:10.267Z"
   },
   {
    "duration": 276,
    "start_time": "2021-11-28T10:40:13.945Z"
   },
   {
    "duration": 47,
    "start_time": "2021-11-28T10:40:18.666Z"
   },
   {
    "duration": 292,
    "start_time": "2021-11-28T10:45:57.909Z"
   },
   {
    "duration": 44,
    "start_time": "2021-11-28T10:46:15.683Z"
   },
   {
    "duration": 5,
    "start_time": "2021-11-28T10:54:25.550Z"
   },
   {
    "duration": 5,
    "start_time": "2021-11-28T10:54:38.292Z"
   },
   {
    "duration": 4,
    "start_time": "2021-11-28T10:55:08.681Z"
   },
   {
    "duration": 833,
    "start_time": "2021-11-29T12:12:45.725Z"
   },
   {
    "duration": 89,
    "start_time": "2021-11-29T12:13:11.852Z"
   },
   {
    "duration": 90,
    "start_time": "2021-11-29T12:13:19.949Z"
   },
   {
    "duration": 413,
    "start_time": "2021-11-29T13:45:48.812Z"
   },
   {
    "duration": 288,
    "start_time": "2021-11-29T13:46:16.128Z"
   },
   {
    "duration": 23,
    "start_time": "2021-11-29T13:46:24.272Z"
   },
   {
    "duration": 24,
    "start_time": "2021-11-29T13:47:04.481Z"
   },
   {
    "duration": 402,
    "start_time": "2021-11-29T13:56:25.638Z"
   },
   {
    "duration": 11,
    "start_time": "2021-11-29T13:56:30.423Z"
   },
   {
    "duration": 12,
    "start_time": "2021-11-29T13:56:35.568Z"
   },
   {
    "duration": 86,
    "start_time": "2021-11-29T13:56:42.301Z"
   },
   {
    "duration": 12,
    "start_time": "2021-11-29T13:56:46.662Z"
   },
   {
    "duration": 315,
    "start_time": "2021-11-29T13:57:14.869Z"
   },
   {
    "duration": 358,
    "start_time": "2021-11-29T13:57:20.101Z"
   },
   {
    "duration": 51,
    "start_time": "2021-11-29T13:57:26.717Z"
   },
   {
    "duration": 478,
    "start_time": "2021-11-30T11:08:01.498Z"
   },
   {
    "duration": 996,
    "start_time": "2021-11-30T11:08:08.803Z"
   },
   {
    "duration": 23,
    "start_time": "2021-11-30T11:08:17.474Z"
   },
   {
    "duration": 7,
    "start_time": "2021-11-30T11:13:18.696Z"
   },
   {
    "duration": 7,
    "start_time": "2021-11-30T11:13:27.021Z"
   },
   {
    "duration": 7,
    "start_time": "2021-11-30T11:13:28.241Z"
   },
   {
    "duration": 17,
    "start_time": "2021-11-30T11:15:13.165Z"
   },
   {
    "duration": 17,
    "start_time": "2021-11-30T11:15:16.952Z"
   },
   {
    "duration": 18,
    "start_time": "2021-11-30T11:15:20.529Z"
   },
   {
    "duration": 9,
    "start_time": "2021-11-30T11:15:25.237Z"
   },
   {
    "duration": 7,
    "start_time": "2021-11-30T11:15:36.204Z"
   },
   {
    "duration": 7,
    "start_time": "2021-11-30T11:15:37.056Z"
   },
   {
    "duration": 7,
    "start_time": "2021-11-30T11:15:38.075Z"
   },
   {
    "duration": 26,
    "start_time": "2021-11-30T11:16:31.833Z"
   },
   {
    "duration": 24,
    "start_time": "2021-11-30T11:16:37.916Z"
   },
   {
    "duration": 25,
    "start_time": "2021-11-30T11:16:39.330Z"
   },
   {
    "duration": 28,
    "start_time": "2021-11-30T11:16:49.259Z"
   },
   {
    "duration": 31,
    "start_time": "2021-11-30T11:16:59.963Z"
   },
   {
    "duration": 28,
    "start_time": "2021-11-30T11:17:02.963Z"
   },
   {
    "duration": 17,
    "start_time": "2021-11-30T11:17:14.672Z"
   },
   {
    "duration": 25,
    "start_time": "2021-11-30T11:17:37.160Z"
   },
   {
    "duration": 15,
    "start_time": "2021-11-30T11:17:40.542Z"
   },
   {
    "duration": 25,
    "start_time": "2021-11-30T11:17:53.968Z"
   },
   {
    "duration": 24,
    "start_time": "2021-11-30T11:17:56.668Z"
   },
   {
    "duration": 8,
    "start_time": "2021-11-30T11:17:58.986Z"
   },
   {
    "duration": 24,
    "start_time": "2021-11-30T11:18:01.031Z"
   },
   {
    "duration": 4,
    "start_time": "2021-11-30T11:18:01.807Z"
   },
   {
    "duration": 24,
    "start_time": "2021-11-30T11:18:02.491Z"
   },
   {
    "duration": 8,
    "start_time": "2021-11-30T11:18:06.756Z"
   },
   {
    "duration": 95,
    "start_time": "2021-11-30T11:18:12.137Z"
   },
   {
    "duration": 56,
    "start_time": "2021-11-30T11:18:16.176Z"
   },
   {
    "duration": 8,
    "start_time": "2021-11-30T11:18:21.620Z"
   },
   {
    "duration": 17,
    "start_time": "2021-11-30T11:18:24.130Z"
   },
   {
    "duration": 9,
    "start_time": "2021-11-30T11:18:26.538Z"
   },
   {
    "duration": 25,
    "start_time": "2021-11-30T11:18:30.378Z"
   },
   {
    "duration": 22,
    "start_time": "2021-11-30T11:18:34.493Z"
   },
   {
    "duration": 27,
    "start_time": "2021-11-30T11:18:38.330Z"
   },
   {
    "duration": 24,
    "start_time": "2021-11-30T11:18:41.176Z"
   },
   {
    "duration": 9,
    "start_time": "2021-11-30T11:20:27.689Z"
   },
   {
    "duration": 396,
    "start_time": "2021-11-30T11:21:31.781Z"
   },
   {
    "duration": 380,
    "start_time": "2021-11-30T11:21:57.150Z"
   },
   {
    "duration": 626,
    "start_time": "2021-11-30T11:22:02.315Z"
   },
   {
    "duration": 7,
    "start_time": "2021-11-30T11:22:17.393Z"
   },
   {
    "duration": 8,
    "start_time": "2021-11-30T11:22:40.717Z"
   },
   {
    "duration": 395,
    "start_time": "2021-11-30T11:23:14.284Z"
   },
   {
    "duration": 9,
    "start_time": "2021-11-30T11:23:56.349Z"
   },
   {
    "duration": 123,
    "start_time": "2021-11-30T11:31:39.867Z"
   },
   {
    "duration": 1366,
    "start_time": "2021-11-30T11:31:49.064Z"
   },
   {
    "duration": 2174,
    "start_time": "2021-11-30T11:33:53.745Z"
   },
   {
    "duration": 993,
    "start_time": "2021-11-30T11:34:27.554Z"
   },
   {
    "duration": 1008,
    "start_time": "2021-11-30T11:35:38.013Z"
   },
   {
    "duration": 654,
    "start_time": "2021-11-30T11:37:54.362Z"
   },
   {
    "duration": 5657,
    "start_time": "2021-11-30T11:38:10.673Z"
   },
   {
    "duration": 4487,
    "start_time": "2021-11-30T11:38:51.728Z"
   },
   {
    "duration": 5108,
    "start_time": "2021-11-30T11:39:02.836Z"
   },
   {
    "duration": 36,
    "start_time": "2021-11-30T11:39:49.954Z"
   },
   {
    "duration": 7,
    "start_time": "2021-11-30T11:42:01.641Z"
   },
   {
    "duration": 8,
    "start_time": "2021-11-30T11:42:11.039Z"
   },
   {
    "duration": 10,
    "start_time": "2021-11-30T11:42:24.191Z"
   },
   {
    "duration": 7,
    "start_time": "2021-11-30T11:42:43.310Z"
   },
   {
    "duration": -207,
    "start_time": "2021-11-30T11:43:42.763Z"
   },
   {
    "duration": 119,
    "start_time": "2021-11-30T11:45:00.706Z"
   },
   {
    "duration": 124,
    "start_time": "2021-11-30T11:45:17.064Z"
   },
   {
    "duration": 133,
    "start_time": "2021-11-30T11:46:48.530Z"
   },
   {
    "duration": 125,
    "start_time": "2021-11-30T11:47:02.791Z"
   },
   {
    "duration": 128,
    "start_time": "2021-11-30T11:47:05.285Z"
   },
   {
    "duration": 119,
    "start_time": "2021-11-30T11:47:08.225Z"
   },
   {
    "duration": 141,
    "start_time": "2021-11-30T11:49:55.092Z"
   },
   {
    "duration": 6,
    "start_time": "2021-11-30T11:49:59.227Z"
   },
   {
    "duration": 132,
    "start_time": "2021-11-30T11:50:17.396Z"
   },
   {
    "duration": 8,
    "start_time": "2021-11-30T11:50:24.239Z"
   },
   {
    "duration": 9,
    "start_time": "2021-11-30T11:50:46.866Z"
   },
   {
    "duration": 49,
    "start_time": "2021-11-30T11:51:37.460Z"
   },
   {
    "duration": 47,
    "start_time": "2021-11-30T11:52:00.199Z"
   },
   {
    "duration": 31,
    "start_time": "2021-11-30T11:52:47.858Z"
   },
   {
    "duration": 419,
    "start_time": "2021-11-30T11:53:33.532Z"
   },
   {
    "duration": 9,
    "start_time": "2021-11-30T15:14:28.350Z"
   },
   {
    "duration": 8,
    "start_time": "2021-11-30T15:15:04.394Z"
   },
   {
    "duration": 953,
    "start_time": "2021-11-30T15:16:23.130Z"
   },
   {
    "duration": 999,
    "start_time": "2021-11-30T15:16:30.893Z"
   },
   {
    "duration": 1011,
    "start_time": "2021-11-30T15:16:55.561Z"
   },
   {
    "duration": 1003,
    "start_time": "2021-11-30T15:17:18.372Z"
   },
   {
    "duration": 1005,
    "start_time": "2021-11-30T15:18:53.454Z"
   },
   {
    "duration": 212,
    "start_time": "2021-11-30T15:31:48.792Z"
   },
   {
    "duration": 612,
    "start_time": "2021-11-30T15:31:53.638Z"
   },
   {
    "duration": 5,
    "start_time": "2021-11-30T15:31:59.652Z"
   },
   {
    "duration": 11,
    "start_time": "2021-11-30T15:32:02.135Z"
   },
   {
    "duration": 7,
    "start_time": "2021-11-30T15:32:02.513Z"
   },
   {
    "duration": 17,
    "start_time": "2021-11-30T15:32:02.865Z"
   },
   {
    "duration": 18,
    "start_time": "2021-11-30T15:32:04.312Z"
   },
   {
    "duration": 17,
    "start_time": "2021-11-30T15:32:04.536Z"
   },
   {
    "duration": 681,
    "start_time": "2021-11-30T15:32:07.090Z"
   },
   {
    "duration": 721,
    "start_time": "2021-11-30T16:02:35.496Z"
   },
   {
    "duration": 739,
    "start_time": "2021-11-30T16:02:51.017Z"
   },
   {
    "duration": 888,
    "start_time": "2021-11-30T16:11:17.479Z"
   },
   {
    "duration": 699,
    "start_time": "2021-11-30T16:11:45.350Z"
   },
   {
    "duration": 67,
    "start_time": "2021-11-30T16:12:29.639Z"
   },
   {
    "duration": 698,
    "start_time": "2021-11-30T16:12:35.205Z"
   },
   {
    "duration": 57,
    "start_time": "2021-11-30T16:16:12.786Z"
   },
   {
    "duration": 720,
    "start_time": "2021-11-30T16:16:19.616Z"
   },
   {
    "duration": 686,
    "start_time": "2021-11-30T16:16:43.031Z"
   },
   {
    "duration": 911,
    "start_time": "2021-12-01T09:02:16.122Z"
   },
   {
    "duration": 142,
    "start_time": "2021-12-01T09:05:21.284Z"
   },
   {
    "duration": 123,
    "start_time": "2021-12-01T09:05:30.629Z"
   },
   {
    "duration": 69418,
    "start_time": "2021-12-01T09:05:36.158Z"
   },
   {
    "duration": 34,
    "start_time": "2021-12-01T09:07:50.748Z"
   },
   {
    "duration": -190,
    "start_time": "2021-12-01T09:13:29.695Z"
   },
   {
    "duration": -198,
    "start_time": "2021-12-01T09:13:29.704Z"
   },
   {
    "duration": -201,
    "start_time": "2021-12-01T09:13:29.710Z"
   },
   {
    "duration": 94,
    "start_time": "2021-12-01T09:13:34.390Z"
   },
   {
    "duration": 81940,
    "start_time": "2021-12-01T09:13:44.783Z"
   },
   {
    "duration": 14982,
    "start_time": "2021-12-01T09:22:19.155Z"
   },
   {
    "duration": 7799,
    "start_time": "2021-12-01T09:26:19.320Z"
   },
   {
    "duration": 4733,
    "start_time": "2021-12-01T09:27:37.877Z"
   },
   {
    "duration": 5283,
    "start_time": "2021-12-01T09:37:02.090Z"
   },
   {
    "duration": 52,
    "start_time": "2021-12-01T09:37:28.775Z"
   },
   {
    "duration": 5257,
    "start_time": "2021-12-01T09:38:28.280Z"
   },
   {
    "duration": 40,
    "start_time": "2021-12-01T09:38:34.666Z"
   },
   {
    "duration": 38,
    "start_time": "2021-12-01T09:38:56.601Z"
   },
   {
    "duration": 5289,
    "start_time": "2021-12-01T09:39:27.739Z"
   },
   {
    "duration": 51,
    "start_time": "2021-12-01T09:39:33.031Z"
   },
   {
    "duration": 38,
    "start_time": "2021-12-01T09:39:47.729Z"
   },
   {
    "duration": 480,
    "start_time": "2021-12-01T09:40:24.889Z"
   },
   {
    "duration": 38,
    "start_time": "2021-12-01T09:40:28.426Z"
   },
   {
    "duration": 364,
    "start_time": "2021-12-01T09:40:51.939Z"
   },
   {
    "duration": 39,
    "start_time": "2021-12-01T09:41:01.816Z"
   },
   {
    "duration": 458,
    "start_time": "2021-12-01T09:41:10.504Z"
   },
   {
    "duration": 363,
    "start_time": "2021-12-01T09:41:47.636Z"
   },
   {
    "duration": 362,
    "start_time": "2021-12-01T09:41:51.169Z"
   },
   {
    "duration": 38,
    "start_time": "2021-12-01T09:42:10.085Z"
   },
   {
    "duration": 35,
    "start_time": "2021-12-01T09:42:23.600Z"
   },
   {
    "duration": 4861,
    "start_time": "2021-12-01T09:42:36.208Z"
   },
   {
    "duration": 5609,
    "start_time": "2021-12-01T09:56:17.350Z"
   },
   {
    "duration": 5555,
    "start_time": "2021-12-01T10:09:04.081Z"
   },
   {
    "duration": 67,
    "start_time": "2021-12-01T10:09:11.107Z"
   },
   {
    "duration": 40,
    "start_time": "2021-12-01T10:16:07.460Z"
   },
   {
    "duration": 423,
    "start_time": "2021-12-01T10:16:23.328Z"
   },
   {
    "duration": 17,
    "start_time": "2021-12-01T10:16:31.173Z"
   },
   {
    "duration": 16,
    "start_time": "2021-12-01T10:16:34.882Z"
   },
   {
    "duration": 18,
    "start_time": "2021-12-01T10:16:36.024Z"
   },
   {
    "duration": 8,
    "start_time": "2021-12-01T10:20:21.299Z"
   },
   {
    "duration": 4,
    "start_time": "2021-12-01T10:20:54.699Z"
   },
   {
    "duration": 438,
    "start_time": "2021-12-01T10:20:59.904Z"
   },
   {
    "duration": 5,
    "start_time": "2021-12-01T10:21:03.300Z"
   },
   {
    "duration": 4,
    "start_time": "2021-12-01T10:21:05.372Z"
   },
   {
    "duration": 8,
    "start_time": "2021-12-01T10:22:05.803Z"
   },
   {
    "duration": 10,
    "start_time": "2021-12-01T10:22:15.133Z"
   },
   {
    "duration": 11,
    "start_time": "2021-12-01T10:22:24.621Z"
   },
   {
    "duration": 9,
    "start_time": "2021-12-01T10:22:30.407Z"
   },
   {
    "duration": 9,
    "start_time": "2021-12-01T10:22:49.460Z"
   },
   {
    "duration": 19,
    "start_time": "2021-12-01T10:31:24.856Z"
   },
   {
    "duration": 54,
    "start_time": "2021-12-01T10:31:37.544Z"
   },
   {
    "duration": 24,
    "start_time": "2021-12-01T10:32:05.400Z"
   },
   {
    "duration": 41,
    "start_time": "2021-12-01T10:34:11.729Z"
   },
   {
    "duration": 26,
    "start_time": "2021-12-01T10:34:18.116Z"
   },
   {
    "duration": 11,
    "start_time": "2021-12-01T10:34:33.614Z"
   },
   {
    "duration": 9,
    "start_time": "2021-12-01T10:39:24.268Z"
   },
   {
    "duration": 11,
    "start_time": "2021-12-01T10:39:31.507Z"
   },
   {
    "duration": 9,
    "start_time": "2021-12-01T10:39:37.387Z"
   },
   {
    "duration": 385,
    "start_time": "2021-12-01T10:39:42.923Z"
   },
   {
    "duration": 11,
    "start_time": "2021-12-01T10:39:47.980Z"
   },
   {
    "duration": 419,
    "start_time": "2021-12-01T10:40:23.144Z"
   },
   {
    "duration": 10,
    "start_time": "2021-12-01T10:40:33.634Z"
   },
   {
    "duration": 12,
    "start_time": "2021-12-01T10:42:04.552Z"
   },
   {
    "duration": 416,
    "start_time": "2021-12-01T10:42:12.274Z"
   },
   {
    "duration": 400,
    "start_time": "2021-12-01T10:42:40.748Z"
   },
   {
    "duration": 7,
    "start_time": "2021-12-01T10:42:48.541Z"
   },
   {
    "duration": 91,
    "start_time": "2021-12-01T10:43:02.688Z"
   },
   {
    "duration": 16,
    "start_time": "2021-12-01T10:43:31.666Z"
   },
   {
    "duration": 16,
    "start_time": "2021-12-01T10:43:45.064Z"
   },
   {
    "duration": 15,
    "start_time": "2021-12-01T10:44:13.179Z"
   },
   {
    "duration": 11,
    "start_time": "2021-12-01T10:59:26.631Z"
   },
   {
    "duration": 636,
    "start_time": "2021-12-01T10:59:39.830Z"
   },
   {
    "duration": 413,
    "start_time": "2021-12-01T10:59:52.443Z"
   },
   {
    "duration": 403,
    "start_time": "2021-12-01T10:59:56.876Z"
   },
   {
    "duration": 9,
    "start_time": "2021-12-01T11:00:07.457Z"
   },
   {
    "duration": 10,
    "start_time": "2021-12-01T11:00:15.572Z"
   },
   {
    "duration": -67,
    "start_time": "2021-12-01T11:00:37.464Z"
   },
   {
    "duration": 12447,
    "start_time": "2021-12-01T11:00:43.378Z"
   },
   {
    "duration": 9,
    "start_time": "2021-12-01T11:08:21.770Z"
   },
   {
    "duration": 9,
    "start_time": "2021-12-01T11:08:31.558Z"
   },
   {
    "duration": 12,
    "start_time": "2021-12-01T11:08:59.134Z"
   },
   {
    "duration": 423,
    "start_time": "2021-12-01T11:13:57.307Z"
   },
   {
    "duration": 408,
    "start_time": "2021-12-01T11:19:10.356Z"
   },
   {
    "duration": 11,
    "start_time": "2021-12-01T11:20:44.325Z"
   },
   {
    "duration": 9,
    "start_time": "2021-12-01T11:20:55.971Z"
   },
   {
    "duration": 10,
    "start_time": "2021-12-01T11:21:33.331Z"
   },
   {
    "duration": 1106,
    "start_time": "2021-12-01T11:25:38.159Z"
   },
   {
    "duration": 153,
    "start_time": "2021-12-01T11:25:50.913Z"
   },
   {
    "duration": 80566,
    "start_time": "2021-12-01T11:26:38.796Z"
   },
   {
    "duration": -262,
    "start_time": "2021-12-01T11:27:59.628Z"
   },
   {
    "duration": 8,
    "start_time": "2021-12-01T11:28:41.713Z"
   },
   {
    "duration": 7,
    "start_time": "2021-12-01T11:28:46.014Z"
   },
   {
    "duration": 10,
    "start_time": "2021-12-01T11:28:53.686Z"
   },
   {
    "duration": 7,
    "start_time": "2021-12-01T11:33:15.890Z"
   },
   {
    "duration": 9,
    "start_time": "2021-12-01T11:33:23.553Z"
   },
   {
    "duration": 11,
    "start_time": "2021-12-01T11:33:28.966Z"
   },
   {
    "duration": 7,
    "start_time": "2021-12-01T11:37:47.533Z"
   },
   {
    "duration": 6,
    "start_time": "2021-12-01T11:41:01.901Z"
   },
   {
    "duration": 136,
    "start_time": "2021-12-01T11:41:10.790Z"
   },
   {
    "duration": 1550,
    "start_time": "2021-12-01T11:41:21.406Z"
   },
   {
    "duration": -67,
    "start_time": "2021-12-01T11:41:36.385Z"
   },
   {
    "duration": 22,
    "start_time": "2021-12-01T11:41:48.639Z"
   },
   {
    "duration": 11,
    "start_time": "2021-12-01T11:47:00.492Z"
   },
   {
    "duration": 11,
    "start_time": "2021-12-01T11:47:10.761Z"
   },
   {
    "duration": 7,
    "start_time": "2021-12-01T12:00:09.940Z"
   },
   {
    "duration": 458,
    "start_time": "2021-12-01T12:00:19.696Z"
   },
   {
    "duration": 34,
    "start_time": "2021-12-01T12:00:33.857Z"
   },
   {
    "duration": 35,
    "start_time": "2021-12-01T12:00:44.159Z"
   },
   {
    "duration": 25,
    "start_time": "2021-12-01T12:00:55.935Z"
   },
   {
    "duration": 27,
    "start_time": "2021-12-01T12:01:39.481Z"
   },
   {
    "duration": 25,
    "start_time": "2021-12-01T12:01:43.710Z"
   },
   {
    "duration": 139,
    "start_time": "2021-12-01T12:02:34.223Z"
   },
   {
    "duration": 26,
    "start_time": "2021-12-01T12:02:37.622Z"
   },
   {
    "duration": 690,
    "start_time": "2021-12-01T12:04:23.126Z"
   },
   {
    "duration": 20,
    "start_time": "2021-12-01T12:04:36.617Z"
   },
   {
    "duration": 24,
    "start_time": "2021-12-01T12:04:39.802Z"
   },
   {
    "duration": 21,
    "start_time": "2021-12-01T12:06:06.531Z"
   },
   {
    "duration": 25,
    "start_time": "2021-12-01T12:06:09.222Z"
   },
   {
    "duration": 24,
    "start_time": "2021-12-01T12:06:26.797Z"
   },
   {
    "duration": 25,
    "start_time": "2021-12-01T12:06:29.842Z"
   },
   {
    "duration": 26,
    "start_time": "2021-12-01T12:06:35.874Z"
   },
   {
    "duration": 21,
    "start_time": "2021-12-01T12:07:58.129Z"
   },
   {
    "duration": 24,
    "start_time": "2021-12-01T12:08:01.278Z"
   },
   {
    "duration": 23,
    "start_time": "2021-12-01T12:09:24.267Z"
   },
   {
    "duration": 517,
    "start_time": "2021-12-01T12:33:02.099Z"
   },
   {
    "duration": 20,
    "start_time": "2021-12-01T12:34:55.920Z"
   },
   {
    "duration": 25,
    "start_time": "2021-12-01T12:34:58.845Z"
   },
   {
    "duration": 23,
    "start_time": "2021-12-01T12:35:08.333Z"
   },
   {
    "duration": 26,
    "start_time": "2021-12-01T12:35:11.166Z"
   },
   {
    "duration": 11,
    "start_time": "2021-12-01T12:37:10.159Z"
   },
   {
    "duration": 26,
    "start_time": "2021-12-01T12:37:14.069Z"
   },
   {
    "duration": 88,
    "start_time": "2021-12-01T12:37:23.491Z"
   },
   {
    "duration": 12,
    "start_time": "2021-12-01T12:37:28.064Z"
   },
   {
    "duration": 11,
    "start_time": "2021-12-01T12:37:30.848Z"
   },
   {
    "duration": 22,
    "start_time": "2021-12-01T12:37:33.537Z"
   },
   {
    "duration": 43,
    "start_time": "2021-12-01T12:37:39.254Z"
   },
   {
    "duration": 20,
    "start_time": "2021-12-01T12:37:44.122Z"
   },
   {
    "duration": 14227,
    "start_time": "2021-12-01T12:38:50.710Z"
   },
   {
    "duration": -126,
    "start_time": "2021-12-01T12:39:05.067Z"
   },
   {
    "duration": 40,
    "start_time": "2021-12-01T12:39:12.686Z"
   },
   {
    "duration": 22,
    "start_time": "2021-12-01T12:39:16.455Z"
   },
   {
    "duration": 37,
    "start_time": "2021-12-01T12:47:30.987Z"
   },
   {
    "duration": 22,
    "start_time": "2021-12-01T12:47:54.242Z"
   },
   {
    "duration": 53,
    "start_time": "2021-12-01T12:48:08.321Z"
   },
   {
    "duration": 149,
    "start_time": "2021-12-01T12:50:34.917Z"
   },
   {
    "duration": 51,
    "start_time": "2021-12-01T12:50:48.799Z"
   },
   {
    "duration": 21,
    "start_time": "2021-12-01T12:50:53.617Z"
   },
   {
    "duration": 17,
    "start_time": "2021-12-01T12:52:24.094Z"
   },
   {
    "duration": 22,
    "start_time": "2021-12-01T12:52:33.998Z"
   },
   {
    "duration": 18,
    "start_time": "2021-12-01T12:52:46.926Z"
   },
   {
    "duration": 21,
    "start_time": "2021-12-01T12:53:02.921Z"
   },
   {
    "duration": 19,
    "start_time": "2021-12-01T12:57:05.737Z"
   },
   {
    "duration": 27,
    "start_time": "2021-12-01T12:57:16.541Z"
   },
   {
    "duration": 33,
    "start_time": "2021-12-01T12:57:21.151Z"
   },
   {
    "duration": 77,
    "start_time": "2021-12-01T12:59:47.890Z"
   },
   {
    "duration": 44,
    "start_time": "2021-12-01T12:59:59.211Z"
   },
   {
    "duration": 15,
    "start_time": "2021-12-01T13:00:08.285Z"
   },
   {
    "duration": 285,
    "start_time": "2021-12-01T14:59:48.662Z"
   },
   {
    "duration": 646,
    "start_time": "2021-12-01T14:59:56.812Z"
   },
   {
    "duration": 5,
    "start_time": "2021-12-01T15:00:04.361Z"
   },
   {
    "duration": 4,
    "start_time": "2021-12-01T15:00:20.246Z"
   },
   {
    "duration": 6,
    "start_time": "2021-12-01T15:00:54.355Z"
   },
   {
    "duration": 7,
    "start_time": "2021-12-01T15:01:12.597Z"
   },
   {
    "duration": 7,
    "start_time": "2021-12-01T15:01:36.439Z"
   },
   {
    "duration": 6,
    "start_time": "2021-12-01T15:01:47.132Z"
   },
   {
    "duration": 7,
    "start_time": "2021-12-01T15:01:52.418Z"
   },
   {
    "duration": 3589,
    "start_time": "2021-12-01T15:54:08.094Z"
   },
   {
    "duration": 27,
    "start_time": "2021-12-01T15:54:15.189Z"
   },
   {
    "duration": 3802,
    "start_time": "2021-12-01T15:57:19.824Z"
   },
   {
    "duration": 26,
    "start_time": "2021-12-01T15:57:24.651Z"
   },
   {
    "duration": 256,
    "start_time": "2021-12-01T16:06:59.504Z"
   },
   {
    "duration": 83,
    "start_time": "2021-12-01T16:07:09.126Z"
   },
   {
    "duration": 57,
    "start_time": "2021-12-01T16:07:19.549Z"
   },
   {
    "duration": 256,
    "start_time": "2021-12-01T16:10:55.852Z"
   },
   {
    "duration": 54,
    "start_time": "2021-12-01T16:11:20.338Z"
   },
   {
    "duration": 52,
    "start_time": "2021-12-01T16:11:33.343Z"
   },
   {
    "duration": 52,
    "start_time": "2021-12-01T16:11:36.348Z"
   },
   {
    "duration": 54,
    "start_time": "2021-12-01T16:11:38.204Z"
   },
   {
    "duration": 16,
    "start_time": "2021-12-01T16:11:50.904Z"
   },
   {
    "duration": 47,
    "start_time": "2021-12-01T16:23:02.685Z"
   },
   {
    "duration": 16,
    "start_time": "2021-12-01T16:23:40.163Z"
   },
   {
    "duration": 12,
    "start_time": "2021-12-01T16:23:50.881Z"
   },
   {
    "duration": 16,
    "start_time": "2021-12-01T16:23:59.167Z"
   },
   {
    "duration": 44,
    "start_time": "2021-12-01T16:24:34.902Z"
   },
   {
    "duration": 16,
    "start_time": "2021-12-01T16:24:37.228Z"
   },
   {
    "duration": 348,
    "start_time": "2021-12-02T09:37:12.613Z"
   },
   {
    "duration": 1267,
    "start_time": "2021-12-02T09:37:17.653Z"
   },
   {
    "duration": 13,
    "start_time": "2021-12-02T09:37:30.263Z"
   },
   {
    "duration": 71,
    "start_time": "2021-12-02T09:37:34.630Z"
   },
   {
    "duration": 25,
    "start_time": "2021-12-02T09:37:37.815Z"
   },
   {
    "duration": 307,
    "start_time": "2021-12-02T09:38:46.116Z"
   },
   {
    "duration": 8,
    "start_time": "2021-12-02T09:38:54.794Z"
   },
   {
    "duration": 6,
    "start_time": "2021-12-02T09:39:08.538Z"
   },
   {
    "duration": 352,
    "start_time": "2021-12-02T10:32:12.865Z"
   },
   {
    "duration": 637,
    "start_time": "2021-12-02T10:32:32.480Z"
   },
   {
    "duration": 71,
    "start_time": "2021-12-02T10:32:57.902Z"
   },
   {
    "duration": 21,
    "start_time": "2021-12-02T10:33:07.400Z"
   },
   {
    "duration": 96,
    "start_time": "2021-12-02T10:33:14.958Z"
   },
   {
    "duration": 19,
    "start_time": "2021-12-02T10:33:18.464Z"
   },
   {
    "duration": 68,
    "start_time": "2021-12-02T10:33:23.665Z"
   },
   {
    "duration": 21,
    "start_time": "2021-12-02T10:33:26.095Z"
   },
   {
    "duration": 71,
    "start_time": "2021-12-02T10:33:39.951Z"
   },
   {
    "duration": 22,
    "start_time": "2021-12-02T10:33:42.882Z"
   },
   {
    "duration": 9,
    "start_time": "2021-12-02T10:34:03.865Z"
   },
   {
    "duration": 21,
    "start_time": "2021-12-02T10:34:06.574Z"
   },
   {
    "duration": 5,
    "start_time": "2021-12-02T10:34:18.335Z"
   },
   {
    "duration": 4,
    "start_time": "2021-12-02T10:34:22.325Z"
   },
   {
    "duration": 4,
    "start_time": "2021-12-02T10:34:24.512Z"
   },
   {
    "duration": 4,
    "start_time": "2021-12-02T10:34:25.662Z"
   },
   {
    "duration": 4,
    "start_time": "2021-12-02T10:34:27.672Z"
   },
   {
    "duration": 15,
    "start_time": "2021-12-02T10:34:38.522Z"
   },
   {
    "duration": 31,
    "start_time": "2021-12-02T10:34:58.585Z"
   },
   {
    "duration": 7,
    "start_time": "2021-12-02T10:44:10.755Z"
   },
   {
    "duration": 292,
    "start_time": "2021-12-02T10:55:39.790Z"
   },
   {
    "duration": 15,
    "start_time": "2021-12-02T10:55:59.762Z"
   },
   {
    "duration": 13,
    "start_time": "2021-12-02T11:00:13.781Z"
   },
   {
    "duration": 13,
    "start_time": "2021-12-02T11:06:24.891Z"
   },
   {
    "duration": 14,
    "start_time": "2021-12-02T11:13:43.593Z"
   },
   {
    "duration": 12,
    "start_time": "2021-12-02T11:20:35.795Z"
   },
   {
    "duration": 14,
    "start_time": "2021-12-02T11:20:40.906Z"
   },
   {
    "duration": 11,
    "start_time": "2021-12-02T11:20:45.528Z"
   },
   {
    "duration": 11,
    "start_time": "2021-12-02T11:20:48.055Z"
   },
   {
    "duration": 17,
    "start_time": "2021-12-02T11:22:27.486Z"
   },
   {
    "duration": 13,
    "start_time": "2021-12-02T11:22:40.549Z"
   },
   {
    "duration": 24,
    "start_time": "2021-12-02T11:22:45.780Z"
   },
   {
    "duration": 23,
    "start_time": "2021-12-02T11:23:39.643Z"
   },
   {
    "duration": 22,
    "start_time": "2021-12-02T11:23:45.036Z"
   },
   {
    "duration": 11,
    "start_time": "2021-12-02T11:23:50.092Z"
   },
   {
    "duration": 91,
    "start_time": "2021-12-02T11:24:04.329Z"
   },
   {
    "duration": 10,
    "start_time": "2021-12-02T11:24:08.362Z"
   },
   {
    "duration": 16,
    "start_time": "2021-12-02T11:24:21.969Z"
   },
   {
    "duration": 50,
    "start_time": "2021-12-02T11:25:27.837Z"
   },
   {
    "duration": 12,
    "start_time": "2021-12-02T11:25:49.991Z"
   },
   {
    "duration": 35,
    "start_time": "2021-12-02T11:25:56.311Z"
   },
   {
    "duration": 92,
    "start_time": "2021-12-02T11:26:08.013Z"
   },
   {
    "duration": 108,
    "start_time": "2021-12-02T11:26:11.670Z"
   },
   {
    "duration": 47,
    "start_time": "2021-12-02T11:26:39.497Z"
   },
   {
    "duration": 49,
    "start_time": "2021-12-02T12:41:39.537Z"
   },
   {
    "duration": 4,
    "start_time": "2021-12-02T12:41:51.258Z"
   },
   {
    "duration": 4,
    "start_time": "2021-12-02T12:41:52.980Z"
   },
   {
    "duration": 277,
    "start_time": "2021-12-02T12:46:23.290Z"
   },
   {
    "duration": 9,
    "start_time": "2021-12-02T12:46:55.203Z"
   },
   {
    "duration": 8,
    "start_time": "2021-12-02T12:46:58.572Z"
   },
   {
    "duration": 12,
    "start_time": "2021-12-02T12:47:37.475Z"
   },
   {
    "duration": 11,
    "start_time": "2021-12-02T12:47:47.828Z"
   },
   {
    "duration": 14,
    "start_time": "2021-12-02T12:49:29.682Z"
   },
   {
    "duration": 15,
    "start_time": "2021-12-02T12:49:31.856Z"
   },
   {
    "duration": 17,
    "start_time": "2021-12-02T12:50:33.178Z"
   },
   {
    "duration": 10,
    "start_time": "2021-12-02T12:50:39.805Z"
   },
   {
    "duration": 12,
    "start_time": "2021-12-02T12:50:57.696Z"
   },
   {
    "duration": 11,
    "start_time": "2021-12-02T12:52:24.221Z"
   },
   {
    "duration": 12,
    "start_time": "2021-12-02T12:52:26.489Z"
   },
   {
    "duration": 4,
    "start_time": "2021-12-02T12:53:33.101Z"
   },
   {
    "duration": 114,
    "start_time": "2021-12-02T12:54:55.810Z"
   },
   {
    "duration": 86,
    "start_time": "2021-12-02T12:55:02.937Z"
   },
   {
    "duration": 9,
    "start_time": "2021-12-02T12:55:18.563Z"
   },
   {
    "duration": 13,
    "start_time": "2021-12-02T12:55:24.439Z"
   },
   {
    "duration": 14,
    "start_time": "2021-12-02T12:55:27.217Z"
   },
   {
    "duration": 4,
    "start_time": "2021-12-02T12:55:34.575Z"
   },
   {
    "duration": 17,
    "start_time": "2021-12-02T12:56:01.952Z"
   },
   {
    "duration": 14,
    "start_time": "2021-12-02T12:56:07.525Z"
   },
   {
    "duration": 9,
    "start_time": "2021-12-02T12:56:10.745Z"
   },
   {
    "duration": 93,
    "start_time": "2021-12-02T12:56:17.277Z"
   },
   {
    "duration": 9,
    "start_time": "2021-12-02T12:56:26.705Z"
   },
   {
    "duration": 13,
    "start_time": "2021-12-02T12:56:28.686Z"
   },
   {
    "duration": 11,
    "start_time": "2021-12-02T12:56:31.952Z"
   },
   {
    "duration": 10,
    "start_time": "2021-12-02T12:57:17.701Z"
   },
   {
    "duration": 25,
    "start_time": "2021-12-02T13:00:54.108Z"
   },
   {
    "duration": 7,
    "start_time": "2021-12-02T13:03:49.955Z"
   },
   {
    "duration": 304,
    "start_time": "2021-12-02T13:04:00.117Z"
   },
   {
    "duration": 10,
    "start_time": "2021-12-02T13:04:03.419Z"
   },
   {
    "duration": 448,
    "start_time": "2021-12-02T13:04:09.047Z"
   },
   {
    "duration": 12,
    "start_time": "2021-12-02T13:04:11.425Z"
   },
   {
    "duration": 12,
    "start_time": "2021-12-02T13:04:20.200Z"
   },
   {
    "duration": 36,
    "start_time": "2021-12-02T13:04:26.215Z"
   },
   {
    "duration": 2895,
    "start_time": "2021-12-02T13:04:51.813Z"
   },
   {
    "duration": -1301,
    "start_time": "2021-12-02T13:04:56.012Z"
   },
   {
    "duration": 300,
    "start_time": "2021-12-02T13:05:09.137Z"
   },
   {
    "duration": 136,
    "start_time": "2021-12-02T13:05:14.374Z"
   },
   {
    "duration": 9,
    "start_time": "2021-12-02T13:05:19.575Z"
   },
   {
    "duration": 729,
    "start_time": "2021-12-02T13:05:23.838Z"
   },
   {
    "duration": 12,
    "start_time": "2021-12-02T13:05:26.489Z"
   },
   {
    "duration": 49,
    "start_time": "2021-12-02T13:05:33.555Z"
   },
   {
    "duration": 98,
    "start_time": "2021-12-02T13:05:41.515Z"
   },
   {
    "duration": 140,
    "start_time": "2021-12-02T13:05:45.421Z"
   },
   {
    "duration": 11,
    "start_time": "2021-12-02T13:06:02.025Z"
   },
   {
    "duration": 11,
    "start_time": "2021-12-02T13:06:18.015Z"
   },
   {
    "duration": 468,
    "start_time": "2021-12-02T13:08:12.557Z"
   },
   {
    "duration": 25,
    "start_time": "2021-12-02T13:08:15.536Z"
   },
   {
    "duration": 40,
    "start_time": "2021-12-02T13:09:28.510Z"
   },
   {
    "duration": 14,
    "start_time": "2021-12-02T13:09:30.863Z"
   },
   {
    "duration": 8,
    "start_time": "2021-12-02T13:09:39.012Z"
   },
   {
    "duration": 33,
    "start_time": "2021-12-02T13:11:10.326Z"
   },
   {
    "duration": 7,
    "start_time": "2021-12-02T13:11:13.320Z"
   },
   {
    "duration": 32,
    "start_time": "2021-12-02T13:11:24.260Z"
   },
   {
    "duration": 26,
    "start_time": "2021-12-02T13:11:26.369Z"
   },
   {
    "duration": 10,
    "start_time": "2021-12-02T13:11:30.346Z"
   },
   {
    "duration": 9,
    "start_time": "2021-12-02T13:12:06.476Z"
   },
   {
    "duration": 101,
    "start_time": "2021-12-02T13:12:12.886Z"
   },
   {
    "duration": 13,
    "start_time": "2021-12-02T13:12:21.403Z"
   },
   {
    "duration": 9,
    "start_time": "2021-12-02T13:13:02.119Z"
   },
   {
    "duration": 11,
    "start_time": "2021-12-02T13:13:09.394Z"
   },
   {
    "duration": 13,
    "start_time": "2021-12-02T13:13:14.429Z"
   },
   {
    "duration": 13,
    "start_time": "2021-12-02T13:13:17.080Z"
   },
   {
    "duration": 24,
    "start_time": "2021-12-02T13:13:43.723Z"
   },
   {
    "duration": 26,
    "start_time": "2021-12-02T13:13:46.295Z"
   },
   {
    "duration": 9,
    "start_time": "2021-12-02T13:13:53.042Z"
   },
   {
    "duration": 293,
    "start_time": "2021-12-02T13:13:57.717Z"
   },
   {
    "duration": 4090,
    "start_time": "2021-12-02T13:16:59.136Z"
   },
   {
    "duration": -1311,
    "start_time": "2021-12-02T13:17:04.540Z"
   },
   {
    "duration": 96,
    "start_time": "2021-12-02T13:17:15.095Z"
   },
   {
    "duration": 957,
    "start_time": "2021-12-02T13:17:42.715Z"
   },
   {
    "duration": 13,
    "start_time": "2021-12-02T13:17:45.154Z"
   },
   {
    "duration": 912,
    "start_time": "2021-12-02T13:17:51.779Z"
   },
   {
    "duration": 9,
    "start_time": "2021-12-02T13:17:53.295Z"
   },
   {
    "duration": 6533,
    "start_time": "2021-12-02T13:18:44.441Z"
   },
   {
    "duration": 1217,
    "start_time": "2021-12-02T13:19:24.512Z"
   },
   {
    "duration": 353,
    "start_time": "2021-12-02T13:19:58.941Z"
   },
   {
    "duration": 724,
    "start_time": "2021-12-02T13:20:33.152Z"
   },
   {
    "duration": 11,
    "start_time": "2021-12-02T13:20:33.879Z"
   },
   {
    "duration": 10,
    "start_time": "2021-12-02T13:20:41.462Z"
   },
   {
    "duration": 100,
    "start_time": "2021-12-02T13:23:19.965Z"
   },
   {
    "duration": 11,
    "start_time": "2021-12-02T13:23:24.717Z"
   },
   {
    "duration": 76,
    "start_time": "2021-12-02T13:23:27.874Z"
   },
   {
    "duration": 11,
    "start_time": "2021-12-02T13:23:31.200Z"
   },
   {
    "duration": 9,
    "start_time": "2021-12-02T13:35:13.681Z"
   },
   {
    "duration": 82,
    "start_time": "2021-12-02T13:35:16.039Z"
   },
   {
    "duration": 9,
    "start_time": "2021-12-02T13:36:35.222Z"
   },
   {
    "duration": 74,
    "start_time": "2021-12-02T13:37:50.284Z"
   },
   {
    "duration": 9,
    "start_time": "2021-12-02T13:37:52.262Z"
   },
   {
    "duration": 70,
    "start_time": "2021-12-02T13:37:54.414Z"
   },
   {
    "duration": 10,
    "start_time": "2021-12-02T13:37:55.949Z"
   },
   {
    "duration": 72,
    "start_time": "2021-12-02T13:38:02.471Z"
   },
   {
    "duration": 11,
    "start_time": "2021-12-02T13:38:05.419Z"
   },
   {
    "duration": 9,
    "start_time": "2021-12-02T13:38:10.897Z"
   },
   {
    "duration": 391,
    "start_time": "2021-12-02T13:39:31.278Z"
   },
   {
    "duration": 80,
    "start_time": "2021-12-02T13:39:42.118Z"
   },
   {
    "duration": 10,
    "start_time": "2021-12-02T13:39:44.073Z"
   },
   {
    "duration": 9,
    "start_time": "2021-12-02T13:39:45.464Z"
   },
   {
    "duration": 272,
    "start_time": "2021-12-02T15:09:50.851Z"
   },
   {
    "duration": 635,
    "start_time": "2021-12-02T15:10:19.808Z"
   },
   {
    "duration": 8,
    "start_time": "2021-12-02T15:10:39.551Z"
   },
   {
    "duration": 56,
    "start_time": "2021-12-02T15:10:43.587Z"
   },
   {
    "duration": 8,
    "start_time": "2021-12-02T15:10:48.668Z"
   },
   {
    "duration": 8,
    "start_time": "2021-12-02T15:10:50.831Z"
   },
   {
    "duration": 7,
    "start_time": "2021-12-02T15:10:55.225Z"
   },
   {
    "duration": 58,
    "start_time": "2021-12-02T15:11:12.025Z"
   },
   {
    "duration": 9,
    "start_time": "2021-12-02T15:11:32.654Z"
   },
   {
    "duration": 53,
    "start_time": "2021-12-02T15:11:41.487Z"
   },
   {
    "duration": 56,
    "start_time": "2021-12-02T15:11:43.812Z"
   },
   {
    "duration": 56,
    "start_time": "2021-12-02T15:22:03.259Z"
   },
   {
    "duration": 56,
    "start_time": "2021-12-02T15:25:47.186Z"
   },
   {
    "duration": 57,
    "start_time": "2021-12-02T15:26:03.432Z"
   },
   {
    "duration": 57,
    "start_time": "2021-12-02T15:26:06.867Z"
   },
   {
    "duration": 56,
    "start_time": "2021-12-02T15:26:12.890Z"
   },
   {
    "duration": 56,
    "start_time": "2021-12-02T15:26:29.507Z"
   },
   {
    "duration": 86,
    "start_time": "2021-12-02T15:28:16.548Z"
   },
   {
    "duration": 65,
    "start_time": "2021-12-02T15:28:29.227Z"
   },
   {
    "duration": 59,
    "start_time": "2021-12-02T15:28:33.113Z"
   },
   {
    "duration": 57,
    "start_time": "2021-12-02T15:28:43.706Z"
   },
   {
    "duration": 842,
    "start_time": "2021-12-02T15:28:53.030Z"
   },
   {
    "duration": 58,
    "start_time": "2021-12-02T15:29:20.052Z"
   },
   {
    "duration": 24,
    "start_time": "2021-12-02T15:29:23.505Z"
   },
   {
    "duration": 249,
    "start_time": "2021-12-02T15:33:45.854Z"
   },
   {
    "duration": 18,
    "start_time": "2021-12-02T15:33:57.033Z"
   },
   {
    "duration": 58,
    "start_time": "2021-12-02T15:35:59.547Z"
   },
   {
    "duration": 58,
    "start_time": "2021-12-02T15:36:18.260Z"
   },
   {
    "duration": 4,
    "start_time": "2021-12-02T15:36:32.801Z"
   },
   {
    "duration": 61,
    "start_time": "2021-12-02T15:36:45.096Z"
   },
   {
    "duration": 6,
    "start_time": "2021-12-02T15:36:53.996Z"
   },
   {
    "duration": 277,
    "start_time": "2021-12-02T15:51:49.417Z"
   },
   {
    "duration": 22,
    "start_time": "2021-12-02T15:51:52.939Z"
   },
   {
    "duration": 278,
    "start_time": "2021-12-02T15:53:33.896Z"
   },
   {
    "duration": 388,
    "start_time": "2021-12-02T15:53:42.392Z"
   },
   {
    "duration": 380,
    "start_time": "2021-12-02T15:53:50.863Z"
   },
   {
    "duration": 22,
    "start_time": "2021-12-02T15:54:09.859Z"
   },
   {
    "duration": 406,
    "start_time": "2021-12-02T15:55:12.000Z"
   },
   {
    "duration": 5105,
    "start_time": "2021-12-02T15:55:24.640Z"
   },
   {
    "duration": 79,
    "start_time": "2021-12-02T15:55:41.191Z"
   },
   {
    "duration": 8,
    "start_time": "2021-12-02T15:55:46.311Z"
   },
   {
    "duration": 402,
    "start_time": "2021-12-02T15:57:36.369Z"
   },
   {
    "duration": 8,
    "start_time": "2021-12-02T15:57:44.784Z"
   },
   {
    "duration": 61,
    "start_time": "2021-12-02T16:54:42.588Z"
   },
   {
    "duration": 22,
    "start_time": "2021-12-02T16:54:47.587Z"
   },
   {
    "duration": 6,
    "start_time": "2021-12-02T16:55:40.712Z"
   },
   {
    "duration": 7,
    "start_time": "2021-12-02T16:55:47.086Z"
   },
   {
    "duration": 9,
    "start_time": "2021-12-02T17:10:15.312Z"
   },
   {
    "duration": 6,
    "start_time": "2021-12-02T17:10:38.428Z"
   },
   {
    "duration": 8,
    "start_time": "2021-12-02T17:10:43.583Z"
   },
   {
    "duration": 8,
    "start_time": "2021-12-02T17:10:59.720Z"
   },
   {
    "duration": 7,
    "start_time": "2021-12-02T17:11:06.683Z"
   },
   {
    "duration": 7,
    "start_time": "2021-12-02T17:11:08.976Z"
   },
   {
    "duration": 8,
    "start_time": "2021-12-02T17:11:14.901Z"
   },
   {
    "duration": 58,
    "start_time": "2021-12-02T17:11:30.091Z"
   },
   {
    "duration": 226,
    "start_time": "2021-12-02T17:11:51.141Z"
   },
   {
    "duration": 15,
    "start_time": "2021-12-02T17:11:59.342Z"
   },
   {
    "duration": 3181,
    "start_time": "2021-12-02T17:14:36.503Z"
   },
   {
    "duration": -2027,
    "start_time": "2021-12-02T17:14:41.713Z"
   },
   {
    "duration": 260,
    "start_time": "2021-12-02T17:14:54.296Z"
   },
   {
    "duration": 11,
    "start_time": "2021-12-02T17:15:00.365Z"
   },
   {
    "duration": 241,
    "start_time": "2021-12-02T17:15:05.662Z"
   },
   {
    "duration": 232,
    "start_time": "2021-12-02T17:15:42.478Z"
   },
   {
    "duration": 246,
    "start_time": "2021-12-02T17:15:50.492Z"
   },
   {
    "duration": 8,
    "start_time": "2021-12-02T17:15:53.239Z"
   },
   {
    "duration": 9,
    "start_time": "2021-12-02T17:16:00.968Z"
   },
   {
    "duration": 12,
    "start_time": "2021-12-02T17:16:03.172Z"
   },
   {
    "duration": 12,
    "start_time": "2021-12-02T17:16:05.363Z"
   },
   {
    "duration": 21,
    "start_time": "2021-12-02T17:16:07.268Z"
   },
   {
    "duration": 394,
    "start_time": "2021-12-02T17:17:21.176Z"
   },
   {
    "duration": 9,
    "start_time": "2021-12-02T17:17:23.536Z"
   },
   {
    "duration": 10,
    "start_time": "2021-12-02T17:17:26.763Z"
   },
   {
    "duration": 22,
    "start_time": "2021-12-02T17:17:29.199Z"
   },
   {
    "duration": 59,
    "start_time": "2021-12-02T17:21:00.690Z"
   },
   {
    "duration": 362,
    "start_time": "2021-12-02T17:21:03.573Z"
   },
   {
    "duration": 8,
    "start_time": "2021-12-02T17:21:05.376Z"
   },
   {
    "duration": 24,
    "start_time": "2021-12-02T17:21:08.521Z"
   },
   {
    "duration": 7,
    "start_time": "2021-12-02T17:32:54.850Z"
   },
   {
    "duration": 15919,
    "start_time": "2021-12-02T17:33:37.066Z"
   },
   {
    "duration": 364,
    "start_time": "2021-12-02T17:34:07.443Z"
   },
   {
    "duration": 361,
    "start_time": "2021-12-02T17:34:15.341Z"
   },
   {
    "duration": 501,
    "start_time": "2021-12-02T17:34:29.930Z"
   },
   {
    "duration": 478,
    "start_time": "2021-12-02T17:34:38.481Z"
   },
   {
    "duration": 8,
    "start_time": "2021-12-02T17:34:53.126Z"
   },
   {
    "duration": 3525,
    "start_time": "2021-12-02T17:35:23.774Z"
   },
   {
    "duration": 224,
    "start_time": "2021-12-03T09:48:00.651Z"
   },
   {
    "duration": 646,
    "start_time": "2021-12-03T09:48:54.208Z"
   },
   {
    "duration": 210,
    "start_time": "2021-12-03T09:48:58.988Z"
   },
   {
    "duration": 7,
    "start_time": "2021-12-03T09:49:05.170Z"
   },
   {
    "duration": 189,
    "start_time": "2021-12-03T09:50:48.687Z"
   },
   {
    "duration": 8,
    "start_time": "2021-12-03T09:50:59.603Z"
   },
   {
    "duration": 28,
    "start_time": "2021-12-03T09:51:20.877Z"
   },
   {
    "duration": 10,
    "start_time": "2021-12-03T09:51:32.645Z"
   },
   {
    "duration": 5,
    "start_time": "2021-12-03T09:58:42.495Z"
   },
   {
    "duration": 22,
    "start_time": "2021-12-03T09:58:48.397Z"
   },
   {
    "duration": 15,
    "start_time": "2021-12-03T10:03:12.902Z"
   },
   {
    "duration": 3275,
    "start_time": "2021-12-03T10:04:15.574Z"
   },
   {
    "duration": 20,
    "start_time": "2021-12-03T10:04:20.676Z"
   },
   {
    "duration": 142,
    "start_time": "2021-12-03T10:04:44.262Z"
   },
   {
    "duration": 7,
    "start_time": "2021-12-03T10:05:05.473Z"
   },
   {
    "duration": 12,
    "start_time": "2021-12-03T10:05:36.713Z"
   },
   {
    "duration": 11,
    "start_time": "2021-12-03T10:06:16.029Z"
   },
   {
    "duration": 3514,
    "start_time": "2021-12-03T10:10:17.098Z"
   },
   {
    "duration": 349,
    "start_time": "2021-12-03T10:10:22.397Z"
   },
   {
    "duration": 7,
    "start_time": "2021-12-03T10:10:25.460Z"
   },
   {
    "duration": 351,
    "start_time": "2021-12-03T10:10:28.060Z"
   },
   {
    "duration": 8,
    "start_time": "2021-12-03T10:10:29.451Z"
   },
   {
    "duration": 54,
    "start_time": "2021-12-03T10:10:33.775Z"
   },
   {
    "duration": 332,
    "start_time": "2021-12-03T10:10:36.028Z"
   },
   {
    "duration": 8,
    "start_time": "2021-12-03T10:10:37.642Z"
   },
   {
    "duration": 8,
    "start_time": "2021-12-03T10:10:47.071Z"
   },
   {
    "duration": 8,
    "start_time": "2021-12-03T10:10:52.425Z"
   },
   {
    "duration": 9,
    "start_time": "2021-12-03T10:10:55.823Z"
   },
   {
    "duration": 65,
    "start_time": "2021-12-03T10:10:58.614Z"
   },
   {
    "duration": 334,
    "start_time": "2021-12-03T10:11:10.439Z"
   },
   {
    "duration": 8,
    "start_time": "2021-12-03T10:11:11.992Z"
   },
   {
    "duration": 22,
    "start_time": "2021-12-03T10:11:19.650Z"
   },
   {
    "duration": 344,
    "start_time": "2021-12-03T10:12:06.609Z"
   },
   {
    "duration": 8,
    "start_time": "2021-12-03T10:12:08.607Z"
   },
   {
    "duration": 22,
    "start_time": "2021-12-03T10:12:11.089Z"
   },
   {
    "duration": 6,
    "start_time": "2021-12-03T10:15:11.202Z"
   },
   {
    "duration": 5,
    "start_time": "2021-12-03T10:15:27.427Z"
   },
   {
    "duration": 8,
    "start_time": "2021-12-03T10:15:50.497Z"
   },
   {
    "duration": 273,
    "start_time": "2021-12-03T10:22:58.436Z"
   },
   {
    "duration": 301,
    "start_time": "2021-12-03T10:23:05.458Z"
   },
   {
    "duration": 34,
    "start_time": "2021-12-03T10:28:04.672Z"
   },
   {
    "duration": 186,
    "start_time": "2021-12-03T10:28:25.006Z"
   },
   {
    "duration": 193,
    "start_time": "2021-12-03T10:30:59.921Z"
   },
   {
    "duration": 9,
    "start_time": "2021-12-03T10:31:16.886Z"
   },
   {
    "duration": 30,
    "start_time": "2021-12-03T10:35:05.651Z"
   },
   {
    "duration": 35,
    "start_time": "2021-12-03T10:35:25.930Z"
   },
   {
    "duration": 192,
    "start_time": "2021-12-03T10:35:56.073Z"
   },
   {
    "duration": 198,
    "start_time": "2021-12-03T10:36:06.203Z"
   },
   {
    "duration": 8,
    "start_time": "2021-12-03T10:36:39.567Z"
   },
   {
    "duration": 7,
    "start_time": "2021-12-03T10:36:56.238Z"
   },
   {
    "duration": 10,
    "start_time": "2021-12-03T10:43:03.222Z"
   },
   {
    "duration": 14,
    "start_time": "2021-12-03T10:43:08.149Z"
   },
   {
    "duration": 8,
    "start_time": "2021-12-03T10:43:12.922Z"
   },
   {
    "duration": 11,
    "start_time": "2021-12-03T10:43:16.403Z"
   },
   {
    "duration": 24,
    "start_time": "2021-12-03T10:43:19.999Z"
   },
   {
    "duration": 5,
    "start_time": "2021-12-03T10:43:25.285Z"
   },
   {
    "duration": 22,
    "start_time": "2021-12-03T10:43:29.646Z"
   },
   {
    "duration": 8,
    "start_time": "2021-12-03T10:43:43.224Z"
   },
   {
    "duration": 21,
    "start_time": "2021-12-03T10:43:46.988Z"
   },
   {
    "duration": 9,
    "start_time": "2021-12-03T11:01:08.342Z"
   },
   {
    "duration": 10,
    "start_time": "2021-12-03T11:01:19.079Z"
   },
   {
    "duration": 18,
    "start_time": "2021-12-03T11:05:48.351Z"
   },
   {
    "duration": 18,
    "start_time": "2021-12-03T11:07:09.787Z"
   },
   {
    "duration": 17,
    "start_time": "2021-12-03T11:07:19.773Z"
   },
   {
    "duration": 17,
    "start_time": "2021-12-03T11:09:57.610Z"
   },
   {
    "duration": 9,
    "start_time": "2021-12-03T11:36:46.708Z"
   },
   {
    "duration": 219,
    "start_time": "2021-12-03T11:36:51.411Z"
   },
   {
    "duration": 9,
    "start_time": "2021-12-03T11:36:55.626Z"
   },
   {
    "duration": 9,
    "start_time": "2021-12-03T11:37:05.580Z"
   },
   {
    "duration": 278,
    "start_time": "2021-12-03T11:37:19.193Z"
   },
   {
    "duration": 308,
    "start_time": "2021-12-03T11:38:06.112Z"
   },
   {
    "duration": 13,
    "start_time": "2021-12-03T11:38:54.105Z"
   },
   {
    "duration": 18,
    "start_time": "2021-12-03T11:38:57.141Z"
   },
   {
    "duration": 4582,
    "start_time": "2021-12-03T11:41:00.152Z"
   },
   {
    "duration": 22,
    "start_time": "2021-12-03T11:41:15.694Z"
   },
   {
    "duration": 11,
    "start_time": "2021-12-03T11:41:28.664Z"
   },
   {
    "duration": 27,
    "start_time": "2021-12-03T11:41:40.486Z"
   },
   {
    "duration": 18,
    "start_time": "2021-12-03T11:42:26.066Z"
   },
   {
    "duration": 16,
    "start_time": "2021-12-03T11:43:55.427Z"
   },
   {
    "duration": 19,
    "start_time": "2021-12-03T11:44:14.642Z"
   },
   {
    "duration": 43,
    "start_time": "2021-12-03T11:44:54.028Z"
   },
   {
    "duration": 21,
    "start_time": "2021-12-03T11:44:55.622Z"
   },
   {
    "duration": 56,
    "start_time": "2021-12-03T11:45:10.862Z"
   },
   {
    "duration": 211,
    "start_time": "2021-12-03T11:51:31.100Z"
   },
   {
    "duration": 194,
    "start_time": "2021-12-03T11:51:44.147Z"
   },
   {
    "duration": 320,
    "start_time": "2021-12-03T11:51:57.404Z"
   },
   {
    "duration": 295,
    "start_time": "2021-12-03T11:54:00.937Z"
   },
   {
    "duration": 597,
    "start_time": "2021-12-03T12:02:10.764Z"
   },
   {
    "duration": 405,
    "start_time": "2021-12-03T12:03:22.565Z"
   },
   {
    "duration": 20,
    "start_time": "2021-12-03T12:03:47.608Z"
   },
   {
    "duration": 6,
    "start_time": "2021-12-03T12:04:13.226Z"
   },
   {
    "duration": 195,
    "start_time": "2021-12-03T12:04:21.895Z"
   },
   {
    "duration": 14,
    "start_time": "2021-12-03T12:04:28.498Z"
   },
   {
    "duration": 18,
    "start_time": "2021-12-03T12:04:34.782Z"
   },
   {
    "duration": 15,
    "start_time": "2021-12-03T12:04:42.681Z"
   },
   {
    "duration": 22,
    "start_time": "2021-12-03T12:04:47.169Z"
   },
   {
    "duration": 8,
    "start_time": "2021-12-03T12:05:05.939Z"
   },
   {
    "duration": 8,
    "start_time": "2021-12-03T12:05:30.561Z"
   },
   {
    "duration": 9,
    "start_time": "2021-12-03T12:05:34.316Z"
   },
   {
    "duration": 8,
    "start_time": "2021-12-03T12:05:37.574Z"
   },
   {
    "duration": 20,
    "start_time": "2021-12-03T12:11:05.720Z"
   },
   {
    "duration": 341,
    "start_time": "2021-12-03T12:13:46.341Z"
   },
   {
    "duration": 200,
    "start_time": "2021-12-03T12:14:55.858Z"
   },
   {
    "duration": 20,
    "start_time": "2021-12-03T12:15:03.206Z"
   },
   {
    "duration": 185,
    "start_time": "2021-12-03T12:19:19.842Z"
   },
   {
    "duration": 7,
    "start_time": "2021-12-03T12:21:19.167Z"
   },
   {
    "duration": 14,
    "start_time": "2021-12-03T12:21:31.790Z"
   },
   {
    "duration": 19,
    "start_time": "2021-12-03T12:21:38.946Z"
   },
   {
    "duration": 62,
    "start_time": "2021-12-03T12:21:47.297Z"
   },
   {
    "duration": 7,
    "start_time": "2021-12-03T12:21:49.392Z"
   },
   {
    "duration": 8,
    "start_time": "2021-12-03T12:21:52.840Z"
   },
   {
    "duration": 19,
    "start_time": "2021-12-03T12:21:54.792Z"
   },
   {
    "duration": 71,
    "start_time": "2021-12-03T12:27:52.504Z"
   },
   {
    "duration": 59,
    "start_time": "2021-12-03T12:28:03.223Z"
   },
   {
    "duration": 19,
    "start_time": "2021-12-03T12:28:42.385Z"
   },
   {
    "duration": 19,
    "start_time": "2021-12-03T12:34:37.331Z"
   },
   {
    "duration": 205,
    "start_time": "2021-12-03T12:35:07.759Z"
   },
   {
    "duration": 16,
    "start_time": "2021-12-03T12:35:20.447Z"
   },
   {
    "duration": 18,
    "start_time": "2021-12-03T12:36:03.761Z"
   },
   {
    "duration": 193,
    "start_time": "2021-12-03T12:39:09.740Z"
   },
   {
    "duration": 188,
    "start_time": "2021-12-03T12:39:40.425Z"
   },
   {
    "duration": 188,
    "start_time": "2021-12-03T12:39:57.047Z"
   },
   {
    "duration": 24,
    "start_time": "2021-12-03T12:40:00.725Z"
   },
   {
    "duration": 461,
    "start_time": "2021-12-03T12:40:34.876Z"
   },
   {
    "duration": 22,
    "start_time": "2021-12-03T12:40:45.526Z"
   },
   {
    "duration": 26,
    "start_time": "2021-12-03T12:41:57.410Z"
   },
   {
    "duration": 3212,
    "start_time": "2021-12-03T12:42:13.231Z"
   },
   {
    "duration": 22,
    "start_time": "2021-12-03T12:42:19.141Z"
   },
   {
    "duration": 25,
    "start_time": "2021-12-03T12:42:26.103Z"
   },
   {
    "duration": 18,
    "start_time": "2021-12-03T12:42:42.790Z"
   },
   {
    "duration": 16,
    "start_time": "2021-12-03T12:55:02.217Z"
   },
   {
    "duration": 18,
    "start_time": "2021-12-03T12:55:11.227Z"
   },
   {
    "duration": 17,
    "start_time": "2021-12-03T12:55:51.783Z"
   },
   {
    "duration": 4449,
    "start_time": "2021-12-03T12:56:57.148Z"
   },
   {
    "duration": 4687,
    "start_time": "2021-12-03T12:57:05.494Z"
   },
   {
    "duration": 5570,
    "start_time": "2021-12-03T12:57:18.727Z"
   },
   {
    "duration": 221,
    "start_time": "2021-12-03T12:58:39.688Z"
   },
   {
    "duration": 24,
    "start_time": "2021-12-03T12:58:47.113Z"
   },
   {
    "duration": 18,
    "start_time": "2021-12-03T12:59:09.815Z"
   },
   {
    "duration": 17,
    "start_time": "2021-12-03T12:59:58.553Z"
   },
   {
    "duration": 5372,
    "start_time": "2021-12-03T13:03:29.481Z"
   },
   {
    "duration": 5152,
    "start_time": "2021-12-03T13:03:58.485Z"
   },
   {
    "duration": 4394,
    "start_time": "2021-12-03T13:04:10.934Z"
   },
   {
    "duration": 17,
    "start_time": "2021-12-03T13:04:23.165Z"
   },
   {
    "duration": 19,
    "start_time": "2021-12-03T13:05:29.060Z"
   },
   {
    "duration": 22,
    "start_time": "2021-12-03T13:05:44.491Z"
   },
   {
    "duration": 19,
    "start_time": "2021-12-03T13:06:45.477Z"
   },
   {
    "duration": 202,
    "start_time": "2021-12-03T13:06:56.917Z"
   },
   {
    "duration": 23,
    "start_time": "2021-12-03T13:07:17.823Z"
   },
   {
    "duration": 209,
    "start_time": "2021-12-03T13:07:36.941Z"
   },
   {
    "duration": 206,
    "start_time": "2021-12-03T13:08:21.067Z"
   },
   {
    "duration": 195,
    "start_time": "2021-12-03T13:08:45.613Z"
   },
   {
    "duration": 22,
    "start_time": "2021-12-03T13:09:01.907Z"
   },
   {
    "duration": 4,
    "start_time": "2021-12-03T13:09:23.441Z"
   },
   {
    "duration": 19,
    "start_time": "2021-12-03T13:09:29.391Z"
   },
   {
    "duration": 19,
    "start_time": "2021-12-03T13:12:19.232Z"
   },
   {
    "duration": 20,
    "start_time": "2021-12-03T13:12:26.528Z"
   },
   {
    "duration": 62,
    "start_time": "2021-12-03T13:14:40.266Z"
   },
   {
    "duration": 20,
    "start_time": "2021-12-03T13:14:51.840Z"
   },
   {
    "duration": 62,
    "start_time": "2021-12-03T13:16:21.334Z"
   },
   {
    "duration": 66,
    "start_time": "2021-12-03T13:16:24.333Z"
   },
   {
    "duration": 68,
    "start_time": "2021-12-03T13:16:29.575Z"
   },
   {
    "duration": 21,
    "start_time": "2021-12-03T13:16:36.834Z"
   },
   {
    "duration": 61,
    "start_time": "2021-12-03T13:17:48.058Z"
   },
   {
    "duration": 280,
    "start_time": "2021-12-03T13:17:56.160Z"
   },
   {
    "duration": 206,
    "start_time": "2021-12-03T13:18:04.381Z"
   },
   {
    "duration": 29,
    "start_time": "2021-12-03T13:18:20.984Z"
   },
   {
    "duration": 19,
    "start_time": "2021-12-03T13:18:34.027Z"
   },
   {
    "duration": 19,
    "start_time": "2021-12-03T13:18:40.319Z"
   },
   {
    "duration": 20,
    "start_time": "2021-12-03T13:18:49.676Z"
   },
   {
    "duration": 21,
    "start_time": "2021-12-03T13:19:09.133Z"
   },
   {
    "duration": 23,
    "start_time": "2021-12-03T13:20:23.589Z"
   },
   {
    "duration": 22,
    "start_time": "2021-12-03T13:20:36.264Z"
   },
   {
    "duration": 23,
    "start_time": "2021-12-03T13:21:00.251Z"
   },
   {
    "duration": 21,
    "start_time": "2021-12-03T13:21:13.452Z"
   },
   {
    "duration": 208,
    "start_time": "2021-12-03T13:21:27.897Z"
   },
   {
    "duration": 195,
    "start_time": "2021-12-03T13:21:54.180Z"
   },
   {
    "duration": 66,
    "start_time": "2021-12-03T13:22:02.650Z"
   },
   {
    "duration": 209,
    "start_time": "2021-12-03T13:22:05.663Z"
   },
   {
    "duration": 198,
    "start_time": "2021-12-03T13:22:32.849Z"
   },
   {
    "duration": 197,
    "start_time": "2021-12-03T13:22:40.521Z"
   },
   {
    "duration": 66,
    "start_time": "2021-12-03T13:22:47.789Z"
   },
   {
    "duration": 200,
    "start_time": "2021-12-03T13:22:53.074Z"
   },
   {
    "duration": 17,
    "start_time": "2021-12-03T13:22:57.988Z"
   },
   {
    "duration": 182,
    "start_time": "2021-12-03T13:23:01.095Z"
   },
   {
    "duration": 19,
    "start_time": "2021-12-03T13:23:17.566Z"
   },
   {
    "duration": 19,
    "start_time": "2021-12-03T13:23:28.620Z"
   },
   {
    "duration": 75,
    "start_time": "2021-12-03T13:59:27.240Z"
   },
   {
    "duration": 20,
    "start_time": "2021-12-03T13:59:32.689Z"
   },
   {
    "duration": 18,
    "start_time": "2021-12-03T14:00:13.997Z"
   },
   {
    "duration": 197,
    "start_time": "2021-12-03T14:12:37.403Z"
   },
   {
    "duration": 18,
    "start_time": "2021-12-03T14:13:12.979Z"
   },
   {
    "duration": 18,
    "start_time": "2021-12-03T14:13:41.489Z"
   },
   {
    "duration": 19,
    "start_time": "2021-12-03T14:14:26.082Z"
   },
   {
    "duration": 61,
    "start_time": "2021-12-03T14:16:36.104Z"
   },
   {
    "duration": 229,
    "start_time": "2021-12-03T14:17:29.502Z"
   },
   {
    "duration": 199,
    "start_time": "2021-12-03T14:18:32.261Z"
   },
   {
    "duration": 192,
    "start_time": "2021-12-03T14:18:37.202Z"
   },
   {
    "duration": 264,
    "start_time": "2021-12-03T14:20:07.184Z"
   },
   {
    "duration": 18,
    "start_time": "2021-12-03T14:21:26.638Z"
   },
   {
    "duration": 18,
    "start_time": "2021-12-03T14:21:51.091Z"
   },
   {
    "duration": 4597,
    "start_time": "2021-12-03T14:23:37.524Z"
   },
   {
    "duration": 4527,
    "start_time": "2021-12-03T14:24:08.308Z"
   },
   {
    "duration": 5082,
    "start_time": "2021-12-03T14:24:21.533Z"
   },
   {
    "duration": 19,
    "start_time": "2021-12-03T14:24:35.007Z"
   },
   {
    "duration": 5962,
    "start_time": "2021-12-03T14:25:27.674Z"
   },
   {
    "duration": 4741,
    "start_time": "2021-12-03T14:25:45.398Z"
   },
   {
    "duration": 19,
    "start_time": "2021-12-03T14:26:50.761Z"
   },
   {
    "duration": 17,
    "start_time": "2021-12-03T14:28:24.724Z"
   },
   {
    "duration": 16,
    "start_time": "2021-12-03T14:36:43.165Z"
   },
   {
    "duration": 19,
    "start_time": "2021-12-03T14:36:54.166Z"
   },
   {
    "duration": 4641,
    "start_time": "2021-12-03T14:37:03.725Z"
   },
   {
    "duration": 18,
    "start_time": "2021-12-03T14:37:24.555Z"
   },
   {
    "duration": 198,
    "start_time": "2021-12-04T20:39:44.236Z"
   },
   {
    "duration": 602,
    "start_time": "2021-12-04T20:39:53.402Z"
   },
   {
    "duration": 20,
    "start_time": "2021-12-04T20:39:58.622Z"
   },
   {
    "duration": 18,
    "start_time": "2021-12-04T20:40:09.493Z"
   },
   {
    "duration": 201,
    "start_time": "2021-12-04T20:45:53.891Z"
   },
   {
    "duration": 186,
    "start_time": "2021-12-04T20:46:10.627Z"
   },
   {
    "duration": 182,
    "start_time": "2021-12-04T20:46:16.328Z"
   },
   {
    "duration": 18,
    "start_time": "2021-12-04T20:46:46.675Z"
   },
   {
    "duration": 18,
    "start_time": "2021-12-04T20:47:00.875Z"
   },
   {
    "duration": 178,
    "start_time": "2021-12-04T20:47:19.022Z"
   },
   {
    "duration": 214,
    "start_time": "2021-12-04T20:47:45.232Z"
   },
   {
    "duration": 17,
    "start_time": "2021-12-04T20:48:56.240Z"
   },
   {
    "duration": 63,
    "start_time": "2021-12-04T20:50:31.896Z"
   },
   {
    "duration": 185,
    "start_time": "2021-12-04T20:50:39.459Z"
   },
   {
    "duration": 189,
    "start_time": "2021-12-04T20:50:46.919Z"
   },
   {
    "duration": 19,
    "start_time": "2021-12-04T20:54:02.911Z"
   },
   {
    "duration": 180,
    "start_time": "2021-12-04T20:54:38.446Z"
   },
   {
    "duration": 190,
    "start_time": "2021-12-04T20:57:25.867Z"
   },
   {
    "duration": 192,
    "start_time": "2021-12-04T20:57:44.973Z"
   },
   {
    "duration": 18,
    "start_time": "2021-12-04T20:57:56.635Z"
   },
   {
    "duration": 18,
    "start_time": "2021-12-04T20:58:04.955Z"
   },
   {
    "duration": 19,
    "start_time": "2021-12-04T20:58:25.648Z"
   },
   {
    "duration": 16,
    "start_time": "2021-12-04T20:58:43.482Z"
   },
   {
    "duration": 18,
    "start_time": "2021-12-04T20:59:01.414Z"
   },
   {
    "duration": 19,
    "start_time": "2021-12-04T20:59:17.203Z"
   },
   {
    "duration": 408,
    "start_time": "2021-12-05T13:03:19.707Z"
   },
   {
    "duration": 964,
    "start_time": "2021-12-05T13:03:41.550Z"
   },
   {
    "duration": 27,
    "start_time": "2021-12-05T13:03:51.585Z"
   },
   {
    "duration": 27,
    "start_time": "2021-12-05T13:04:36.103Z"
   },
   {
    "duration": 27,
    "start_time": "2021-12-05T13:17:53.933Z"
   },
   {
    "duration": 29,
    "start_time": "2021-12-05T13:18:21.920Z"
   },
   {
    "duration": 29,
    "start_time": "2021-12-05T13:20:16.489Z"
   },
   {
    "duration": 28,
    "start_time": "2021-12-05T13:20:23.365Z"
   },
   {
    "duration": 27,
    "start_time": "2021-12-05T13:20:37.448Z"
   },
   {
    "duration": 503,
    "start_time": "2021-12-05T13:23:13.589Z"
   },
   {
    "duration": 27,
    "start_time": "2021-12-05T13:24:28.477Z"
   },
   {
    "duration": 27,
    "start_time": "2021-12-05T13:24:40.259Z"
   },
   {
    "duration": 27,
    "start_time": "2021-12-05T13:25:51.215Z"
   },
   {
    "duration": 26,
    "start_time": "2021-12-05T13:26:54.476Z"
   },
   {
    "duration": 25,
    "start_time": "2021-12-05T13:27:06.750Z"
   },
   {
    "duration": 25,
    "start_time": "2021-12-05T13:28:52.455Z"
   },
   {
    "duration": 5,
    "start_time": "2021-12-05T13:39:16.212Z"
   },
   {
    "duration": 12,
    "start_time": "2021-12-05T13:39:23.261Z"
   },
   {
    "duration": 14,
    "start_time": "2021-12-05T13:40:42.943Z"
   },
   {
    "duration": 45,
    "start_time": "2021-12-05T13:41:31.080Z"
   },
   {
    "duration": 43,
    "start_time": "2021-12-05T13:42:48.249Z"
   },
   {
    "duration": 42,
    "start_time": "2021-12-05T13:43:15.523Z"
   },
   {
    "duration": 393,
    "start_time": "2021-12-05T13:43:32.283Z"
   },
   {
    "duration": 48,
    "start_time": "2021-12-05T13:43:43.740Z"
   },
   {
    "duration": 44,
    "start_time": "2021-12-05T13:45:00.436Z"
   },
   {
    "duration": 45,
    "start_time": "2021-12-05T13:45:15.060Z"
   },
   {
    "duration": 384,
    "start_time": "2021-12-05T13:45:49.506Z"
   },
   {
    "duration": 43,
    "start_time": "2021-12-05T13:45:59.462Z"
   },
   {
    "duration": 367,
    "start_time": "2021-12-05T13:47:13.304Z"
   },
   {
    "duration": 382,
    "start_time": "2021-12-05T13:48:15.569Z"
   },
   {
    "duration": 387,
    "start_time": "2021-12-05T13:48:25.180Z"
   },
   {
    "duration": 29,
    "start_time": "2021-12-05T13:48:41.797Z"
   },
   {
    "duration": 28,
    "start_time": "2021-12-05T13:48:59.754Z"
   },
   {
    "duration": 42,
    "start_time": "2021-12-05T13:49:10.811Z"
   },
   {
    "duration": 41,
    "start_time": "2021-12-05T13:50:30.251Z"
   },
   {
    "duration": 44,
    "start_time": "2021-12-05T13:51:23.422Z"
   },
   {
    "duration": 44,
    "start_time": "2021-12-05T13:51:38.647Z"
   },
   {
    "duration": 434,
    "start_time": "2021-12-05T13:52:16.555Z"
   },
   {
    "duration": 41,
    "start_time": "2021-12-05T13:52:35.546Z"
   },
   {
    "duration": 511,
    "start_time": "2021-12-05T13:53:00.872Z"
   },
   {
    "duration": 43,
    "start_time": "2021-12-05T13:53:09.197Z"
   },
   {
    "duration": 42,
    "start_time": "2021-12-05T13:58:02.278Z"
   },
   {
    "duration": 394,
    "start_time": "2021-12-05T13:59:03.541Z"
   },
   {
    "duration": 48,
    "start_time": "2021-12-05T13:59:22.098Z"
   },
   {
    "duration": 40,
    "start_time": "2021-12-05T13:59:35.434Z"
   },
   {
    "duration": 42,
    "start_time": "2021-12-05T13:59:43.569Z"
   },
   {
    "duration": 42,
    "start_time": "2021-12-05T14:00:02.575Z"
   },
   {
    "duration": 51,
    "start_time": "2021-12-05T14:00:28.217Z"
   },
   {
    "duration": 43,
    "start_time": "2021-12-05T14:00:56.741Z"
   },
   {
    "duration": 141,
    "start_time": "2021-12-05T14:01:27.596Z"
   },
   {
    "duration": 124,
    "start_time": "2021-12-05T14:01:37.580Z"
   },
   {
    "duration": 291,
    "start_time": "2021-12-05T14:01:42.368Z"
   },
   {
    "duration": 393,
    "start_time": "2021-12-05T14:01:44.455Z"
   },
   {
    "duration": 43,
    "start_time": "2021-12-05T14:01:56.185Z"
   },
   {
    "duration": 43,
    "start_time": "2021-12-05T14:02:32.385Z"
   },
   {
    "duration": 51,
    "start_time": "2021-12-05T14:03:22.298Z"
   },
   {
    "duration": 383,
    "start_time": "2021-12-05T14:37:26.165Z"
   },
   {
    "duration": 120,
    "start_time": "2021-12-05T14:38:33.730Z"
   },
   {
    "duration": 134,
    "start_time": "2021-12-05T14:38:53.859Z"
   },
   {
    "duration": 118,
    "start_time": "2021-12-05T14:39:01.318Z"
   },
   {
    "duration": 206,
    "start_time": "2021-12-05T14:40:40.475Z"
   },
   {
    "duration": 972,
    "start_time": "2021-12-05T14:42:13.723Z"
   },
   {
    "duration": 47,
    "start_time": "2021-12-05T14:42:33.532Z"
   },
   {
    "duration": 42,
    "start_time": "2021-12-05T14:42:39.124Z"
   },
   {
    "duration": 47,
    "start_time": "2021-12-05T14:43:37.074Z"
   },
   {
    "duration": 408,
    "start_time": "2021-12-05T14:44:02.512Z"
   },
   {
    "duration": 45,
    "start_time": "2021-12-05T14:44:15.490Z"
   },
   {
    "duration": 93,
    "start_time": "2021-12-05T14:44:27.725Z"
   },
   {
    "duration": 129,
    "start_time": "2021-12-05T14:45:08.093Z"
   },
   {
    "duration": 46,
    "start_time": "2021-12-05T14:45:16.960Z"
   },
   {
    "duration": 43,
    "start_time": "2021-12-05T14:45:25.716Z"
   },
   {
    "duration": 118,
    "start_time": "2021-12-05T16:28:53.149Z"
   },
   {
    "duration": 515,
    "start_time": "2021-12-05T16:35:31.414Z"
   },
   {
    "duration": 31,
    "start_time": "2021-12-05T16:35:53.213Z"
   },
   {
    "duration": 31,
    "start_time": "2021-12-05T16:38:22.121Z"
   },
   {
    "duration": 32,
    "start_time": "2021-12-05T16:38:51.454Z"
   },
   {
    "duration": 51,
    "start_time": "2021-12-05T16:39:02.116Z"
   },
   {
    "duration": 301,
    "start_time": "2021-12-05T16:41:20.167Z"
   },
   {
    "duration": 30,
    "start_time": "2021-12-05T16:42:10.827Z"
   },
   {
    "duration": 33,
    "start_time": "2021-12-05T16:42:51.454Z"
   },
   {
    "duration": 30,
    "start_time": "2021-12-05T16:43:37.877Z"
   },
   {
    "duration": 27,
    "start_time": "2021-12-05T16:44:03.111Z"
   },
   {
    "duration": 30,
    "start_time": "2021-12-05T16:45:10.920Z"
   },
   {
    "duration": 26,
    "start_time": "2021-12-05T16:45:26.919Z"
   },
   {
    "duration": 802,
    "start_time": "2021-12-06T09:14:13.060Z"
   },
   {
    "duration": 12,
    "start_time": "2021-12-06T09:18:18.472Z"
   },
   {
    "duration": 8,
    "start_time": "2021-12-06T09:18:22.505Z"
   },
   {
    "duration": 582,
    "start_time": "2021-12-06T09:20:24.844Z"
   },
   {
    "duration": 68,
    "start_time": "2021-12-06T09:20:35.563Z"
   },
   {
    "duration": 9,
    "start_time": "2021-12-06T09:20:48.899Z"
   },
   {
    "duration": 362,
    "start_time": "2021-12-06T09:21:07.868Z"
   },
   {
    "duration": 6,
    "start_time": "2021-12-06T09:21:56.979Z"
   },
   {
    "duration": 10,
    "start_time": "2021-12-06T09:22:19.395Z"
   },
   {
    "duration": 5,
    "start_time": "2021-12-06T09:23:18.467Z"
   },
   {
    "duration": 111,
    "start_time": "2021-12-06T09:25:14.795Z"
   },
   {
    "duration": 121,
    "start_time": "2021-12-06T09:25:48.291Z"
   },
   {
    "duration": 14,
    "start_time": "2021-12-06T09:25:57.520Z"
   },
   {
    "duration": 5,
    "start_time": "2021-12-06T09:26:03.198Z"
   },
   {
    "duration": 6,
    "start_time": "2021-12-06T09:26:08.724Z"
   },
   {
    "duration": 7,
    "start_time": "2021-12-06T09:26:11.949Z"
   },
   {
    "duration": 7,
    "start_time": "2021-12-06T09:26:45.195Z"
   },
   {
    "duration": 8,
    "start_time": "2021-12-06T09:27:03.051Z"
   },
   {
    "duration": 128,
    "start_time": "2021-12-06T10:02:23.267Z"
   },
   {
    "duration": 123,
    "start_time": "2021-12-06T10:03:03.990Z"
   },
   {
    "duration": 8,
    "start_time": "2021-12-06T10:03:31.188Z"
   },
   {
    "duration": 122,
    "start_time": "2021-12-06T10:04:16.679Z"
   },
   {
    "duration": 127,
    "start_time": "2021-12-06T10:09:46.736Z"
   },
   {
    "duration": 11,
    "start_time": "2021-12-06T10:09:54.913Z"
   },
   {
    "duration": 116,
    "start_time": "2021-12-06T10:10:10.654Z"
   },
   {
    "duration": 11,
    "start_time": "2021-12-06T10:10:26.709Z"
   },
   {
    "duration": 14,
    "start_time": "2021-12-06T10:10:39.944Z"
   },
   {
    "duration": 4,
    "start_time": "2021-12-06T10:11:24.403Z"
   },
   {
    "duration": 10,
    "start_time": "2021-12-06T10:11:28.249Z"
   },
   {
    "duration": 8,
    "start_time": "2021-12-06T10:11:32.596Z"
   },
   {
    "duration": 8,
    "start_time": "2021-12-06T10:11:34.603Z"
   },
   {
    "duration": 7,
    "start_time": "2021-12-06T10:11:36.888Z"
   },
   {
    "duration": 11,
    "start_time": "2021-12-06T10:11:40.680Z"
   },
   {
    "duration": 15,
    "start_time": "2021-12-06T10:11:42.750Z"
   },
   {
    "duration": 196,
    "start_time": "2021-12-06T10:14:11.896Z"
   },
   {
    "duration": 5,
    "start_time": "2021-12-06T10:14:21.173Z"
   },
   {
    "duration": 124,
    "start_time": "2021-12-06T10:14:52.148Z"
   },
   {
    "duration": 30,
    "start_time": "2021-12-06T10:14:58.924Z"
   },
   {
    "duration": 11,
    "start_time": "2021-12-06T10:15:32.965Z"
   },
   {
    "duration": 5,
    "start_time": "2021-12-06T10:20:17.882Z"
   },
   {
    "duration": 123,
    "start_time": "2021-12-06T10:20:43.883Z"
   },
   {
    "duration": 5,
    "start_time": "2021-12-06T10:20:51.220Z"
   },
   {
    "duration": 128,
    "start_time": "2021-12-06T10:24:04.192Z"
   },
   {
    "duration": 11,
    "start_time": "2021-12-06T10:25:23.157Z"
   },
   {
    "duration": 107,
    "start_time": "2021-12-06T10:25:48.310Z"
   },
   {
    "duration": 7,
    "start_time": "2021-12-06T10:26:00.546Z"
   },
   {
    "duration": 110,
    "start_time": "2021-12-06T10:27:42.190Z"
   },
   {
    "duration": 130,
    "start_time": "2021-12-06T10:28:22.514Z"
   },
   {
    "duration": 126,
    "start_time": "2021-12-06T10:30:00.957Z"
   },
   {
    "duration": 19,
    "start_time": "2021-12-06T10:30:15.008Z"
   },
   {
    "duration": 18,
    "start_time": "2021-12-06T10:30:20.655Z"
   },
   {
    "duration": 112,
    "start_time": "2021-12-06T10:30:50.870Z"
   },
   {
    "duration": 108,
    "start_time": "2021-12-06T10:31:20.194Z"
   },
   {
    "duration": 109,
    "start_time": "2021-12-06T10:31:26.136Z"
   },
   {
    "duration": 15,
    "start_time": "2021-12-06T10:31:30.438Z"
   },
   {
    "duration": 126,
    "start_time": "2021-12-06T10:32:49.521Z"
   },
   {
    "duration": 13,
    "start_time": "2021-12-06T10:36:45.050Z"
   },
   {
    "duration": 7,
    "start_time": "2021-12-06T10:36:50.537Z"
   },
   {
    "duration": 12,
    "start_time": "2021-12-06T10:37:25.006Z"
   },
   {
    "duration": 130,
    "start_time": "2021-12-06T10:39:10.461Z"
   },
   {
    "duration": 380,
    "start_time": "2021-12-06T10:39:42.637Z"
   },
   {
    "duration": 7,
    "start_time": "2021-12-06T10:40:53.385Z"
   },
   {
    "duration": 133,
    "start_time": "2021-12-06T10:45:00.424Z"
   },
   {
    "duration": 132,
    "start_time": "2021-12-06T10:58:33.365Z"
   },
   {
    "duration": 6,
    "start_time": "2021-12-06T11:01:13.078Z"
   },
   {
    "duration": 5,
    "start_time": "2021-12-06T11:01:15.801Z"
   },
   {
    "duration": 6,
    "start_time": "2021-12-06T11:01:18.817Z"
   },
   {
    "duration": 6,
    "start_time": "2021-12-06T11:01:24.837Z"
   },
   {
    "duration": 7,
    "start_time": "2021-12-06T11:02:31.085Z"
   },
   {
    "duration": 6,
    "start_time": "2021-12-06T11:03:25.673Z"
   },
   {
    "duration": 388,
    "start_time": "2021-12-06T11:07:11.331Z"
   },
   {
    "duration": 117,
    "start_time": "2021-12-06T11:08:21.770Z"
   },
   {
    "duration": 352,
    "start_time": "2021-12-06T11:08:50.219Z"
   },
   {
    "duration": 5,
    "start_time": "2021-12-06T11:09:19.891Z"
   },
   {
    "duration": 5,
    "start_time": "2021-12-06T11:09:29.040Z"
   },
   {
    "duration": 5,
    "start_time": "2021-12-06T11:09:33.428Z"
   },
   {
    "duration": 5,
    "start_time": "2021-12-06T11:09:39.054Z"
   },
   {
    "duration": 142,
    "start_time": "2021-12-06T11:10:16.286Z"
   },
   {
    "duration": 6,
    "start_time": "2021-12-06T11:10:21.326Z"
   },
   {
    "duration": 162,
    "start_time": "2021-12-06T11:21:13.098Z"
   },
   {
    "duration": 8,
    "start_time": "2021-12-06T11:22:25.962Z"
   },
   {
    "duration": 7,
    "start_time": "2021-12-06T11:22:40.220Z"
   },
   {
    "duration": 9,
    "start_time": "2021-12-06T11:22:56.106Z"
   },
   {
    "duration": 347,
    "start_time": "2021-12-06T11:23:17.096Z"
   },
   {
    "duration": 133,
    "start_time": "2021-12-06T11:23:30.767Z"
   },
   {
    "duration": 8,
    "start_time": "2021-12-06T11:23:47.455Z"
   },
   {
    "duration": 131,
    "start_time": "2021-12-06T11:24:38.541Z"
   },
   {
    "duration": 33,
    "start_time": "2021-12-06T11:27:47.977Z"
   },
   {
    "duration": 120,
    "start_time": "2021-12-06T11:29:56.743Z"
   },
   {
    "duration": 8,
    "start_time": "2021-12-06T11:31:22.554Z"
   },
   {
    "duration": 8,
    "start_time": "2021-12-06T11:31:25.495Z"
   },
   {
    "duration": 5,
    "start_time": "2021-12-06T11:32:37.741Z"
   },
   {
    "duration": 5,
    "start_time": "2021-12-06T11:33:00.832Z"
   },
   {
    "duration": 5,
    "start_time": "2021-12-06T11:37:52.588Z"
   },
   {
    "duration": 354,
    "start_time": "2021-12-06T11:40:09.883Z"
   },
   {
    "duration": 5,
    "start_time": "2021-12-06T11:40:12.192Z"
   },
   {
    "duration": 5,
    "start_time": "2021-12-06T11:40:25.013Z"
   },
   {
    "duration": 115,
    "start_time": "2021-12-06T11:41:15.978Z"
   },
   {
    "duration": 8,
    "start_time": "2021-12-06T11:42:05.571Z"
   },
   {
    "duration": 6,
    "start_time": "2021-12-06T11:46:07.907Z"
   },
   {
    "duration": 8,
    "start_time": "2021-12-06T11:47:15.804Z"
   },
   {
    "duration": 119,
    "start_time": "2021-12-06T11:48:00.337Z"
   },
   {
    "duration": 9,
    "start_time": "2021-12-06T11:48:09.565Z"
   },
   {
    "duration": 114,
    "start_time": "2021-12-06T11:54:01.331Z"
   },
   {
    "duration": 12,
    "start_time": "2021-12-06T12:02:53.541Z"
   },
   {
    "duration": 3971,
    "start_time": "2021-12-06T12:03:00.517Z"
   },
   {
    "duration": 25,
    "start_time": "2021-12-06T12:03:04.490Z"
   },
   {
    "duration": 119,
    "start_time": "2021-12-06T12:03:23.290Z"
   },
   {
    "duration": 163,
    "start_time": "2021-12-06T12:18:20.169Z"
   },
   {
    "duration": 16,
    "start_time": "2021-12-06T12:23:02.228Z"
   },
   {
    "duration": 120,
    "start_time": "2021-12-06T12:27:45.381Z"
   },
   {
    "duration": 135,
    "start_time": "2021-12-06T12:29:34.381Z"
   },
   {
    "duration": 13,
    "start_time": "2021-12-06T12:33:38.748Z"
   },
   {
    "duration": 252,
    "start_time": "2021-12-06T12:35:39.161Z"
   },
   {
    "duration": 30,
    "start_time": "2021-12-06T12:35:41.191Z"
   },
   {
    "duration": 248,
    "start_time": "2021-12-06T12:36:28.307Z"
   },
   {
    "duration": 4,
    "start_time": "2021-12-06T12:37:51.991Z"
   },
   {
    "duration": 25,
    "start_time": "2021-12-06T12:37:55.203Z"
   },
   {
    "duration": 14,
    "start_time": "2021-12-06T12:38:06.591Z"
   },
   {
    "duration": 241,
    "start_time": "2021-12-06T12:40:26.182Z"
   },
   {
    "duration": 20,
    "start_time": "2021-12-06T12:41:26.877Z"
   },
   {
    "duration": 372,
    "start_time": "2021-12-07T09:21:55.340Z"
   },
   {
    "duration": 794,
    "start_time": "2021-12-07T09:22:00.248Z"
   },
   {
    "duration": 10,
    "start_time": "2021-12-07T09:22:02.465Z"
   },
   {
    "duration": 8,
    "start_time": "2021-12-07T09:22:03.435Z"
   },
   {
    "duration": 7,
    "start_time": "2021-12-07T09:22:03.830Z"
   },
   {
    "duration": 7,
    "start_time": "2021-12-07T09:22:04.174Z"
   },
   {
    "duration": 4,
    "start_time": "2021-12-07T09:22:04.520Z"
   },
   {
    "duration": 10,
    "start_time": "2021-12-07T09:22:04.880Z"
   },
   {
    "duration": 16,
    "start_time": "2021-12-07T09:22:05.553Z"
   },
   {
    "duration": 5,
    "start_time": "2021-12-07T09:22:07.788Z"
   },
   {
    "duration": 23,
    "start_time": "2021-12-07T09:22:08.385Z"
   },
   {
    "duration": 17,
    "start_time": "2021-12-07T09:22:09.424Z"
   },
   {
    "duration": 19,
    "start_time": "2021-12-07T09:22:09.831Z"
   },
   {
    "duration": 16,
    "start_time": "2021-12-07T09:22:11.049Z"
   },
   {
    "duration": 5,
    "start_time": "2021-12-07T09:22:13.153Z"
   },
   {
    "duration": 12,
    "start_time": "2021-12-07T09:22:14.145Z"
   },
   {
    "duration": 6,
    "start_time": "2021-12-07T09:22:14.523Z"
   },
   {
    "duration": 13,
    "start_time": "2021-12-07T09:22:14.687Z"
   },
   {
    "duration": 44,
    "start_time": "2021-12-07T09:22:15.023Z"
   },
   {
    "duration": 6,
    "start_time": "2021-12-07T09:22:15.694Z"
   },
   {
    "duration": 4,
    "start_time": "2021-12-07T09:22:16.345Z"
   },
   {
    "duration": 5,
    "start_time": "2021-12-07T09:22:16.972Z"
   },
   {
    "duration": 6,
    "start_time": "2021-12-07T09:22:17.760Z"
   },
   {
    "duration": 351,
    "start_time": "2021-12-07T09:22:18.793Z"
   },
   {
    "duration": 7,
    "start_time": "2021-12-07T09:22:20.184Z"
   },
   {
    "duration": 8,
    "start_time": "2021-12-07T09:22:34.946Z"
   },
   {
    "duration": 7,
    "start_time": "2021-12-07T09:22:36.128Z"
   },
   {
    "duration": 7,
    "start_time": "2021-12-07T09:22:37.003Z"
   },
   {
    "duration": 7,
    "start_time": "2021-12-07T09:22:38.915Z"
   },
   {
    "duration": 3665,
    "start_time": "2021-12-07T09:22:39.666Z"
   },
   {
    "duration": 16,
    "start_time": "2021-12-07T09:22:48.823Z"
   },
   {
    "duration": 14,
    "start_time": "2021-12-07T09:22:50.930Z"
   },
   {
    "duration": 233,
    "start_time": "2021-12-07T09:22:52.043Z"
   },
   {
    "duration": 21,
    "start_time": "2021-12-07T09:22:52.943Z"
   },
   {
    "duration": 18,
    "start_time": "2021-12-07T09:23:00.770Z"
   },
   {
    "duration": 59,
    "start_time": "2021-12-07T09:23:14.272Z"
   },
   {
    "duration": 20,
    "start_time": "2021-12-07T09:23:49.899Z"
   },
   {
    "duration": 18,
    "start_time": "2021-12-07T09:24:00.452Z"
   },
   {
    "duration": 803,
    "start_time": "2021-12-07T09:30:10.364Z"
   },
   {
    "duration": 20,
    "start_time": "2021-12-07T09:30:16.011Z"
   },
   {
    "duration": 19,
    "start_time": "2021-12-07T09:31:12.895Z"
   },
   {
    "duration": 30,
    "start_time": "2021-12-07T09:31:28.762Z"
   },
   {
    "duration": 20,
    "start_time": "2021-12-07T09:31:36.701Z"
   },
   {
    "duration": 120,
    "start_time": "2021-12-07T09:35:30.163Z"
   },
   {
    "duration": 457,
    "start_time": "2021-12-07T09:35:35.580Z"
   },
   {
    "duration": 395,
    "start_time": "2021-12-07T09:35:52.697Z"
   },
   {
    "duration": 368,
    "start_time": "2021-12-07T09:36:14.828Z"
   },
   {
    "duration": 171,
    "start_time": "2021-12-07T09:37:39.210Z"
   },
   {
    "duration": 405,
    "start_time": "2021-12-07T09:37:43.033Z"
   },
   {
    "duration": 28,
    "start_time": "2021-12-07T09:37:53.084Z"
   },
   {
    "duration": 17,
    "start_time": "2021-12-07T09:40:10.126Z"
   },
   {
    "duration": 20,
    "start_time": "2021-12-07T09:41:27.238Z"
   },
   {
    "duration": 20,
    "start_time": "2021-12-07T09:41:46.993Z"
   },
   {
    "duration": 19,
    "start_time": "2021-12-07T09:42:44.572Z"
   },
   {
    "duration": 344,
    "start_time": "2021-12-07T09:48:01.167Z"
   },
   {
    "duration": 351,
    "start_time": "2021-12-07T09:49:07.679Z"
   },
   {
    "duration": 349,
    "start_time": "2021-12-07T09:49:12.452Z"
   },
   {
    "duration": 24,
    "start_time": "2021-12-07T09:49:34.635Z"
   },
   {
    "duration": 251,
    "start_time": "2021-12-07T09:49:54.662Z"
   },
   {
    "duration": 72,
    "start_time": "2021-12-07T09:49:59.726Z"
   },
   {
    "duration": 11,
    "start_time": "2021-12-07T09:50:00.747Z"
   },
   {
    "duration": 8,
    "start_time": "2021-12-07T09:50:01.088Z"
   },
   {
    "duration": 7,
    "start_time": "2021-12-07T09:50:01.452Z"
   },
   {
    "duration": 8,
    "start_time": "2021-12-07T09:50:01.780Z"
   },
   {
    "duration": 3,
    "start_time": "2021-12-07T09:50:02.128Z"
   },
   {
    "duration": 12,
    "start_time": "2021-12-07T09:50:02.475Z"
   },
   {
    "duration": 14,
    "start_time": "2021-12-07T09:50:02.830Z"
   },
   {
    "duration": 5,
    "start_time": "2021-12-07T09:50:04.247Z"
   },
   {
    "duration": 23,
    "start_time": "2021-12-07T09:50:04.828Z"
   },
   {
    "duration": 17,
    "start_time": "2021-12-07T09:50:07.166Z"
   },
   {
    "duration": 19,
    "start_time": "2021-12-07T09:50:07.483Z"
   },
   {
    "duration": 17,
    "start_time": "2021-12-07T09:50:07.816Z"
   },
   {
    "duration": 5,
    "start_time": "2021-12-07T09:50:08.306Z"
   },
   {
    "duration": 11,
    "start_time": "2021-12-07T09:50:08.603Z"
   },
   {
    "duration": 7,
    "start_time": "2021-12-07T09:50:08.928Z"
   },
   {
    "duration": 16,
    "start_time": "2021-12-07T09:50:09.088Z"
   },
   {
    "duration": 36,
    "start_time": "2021-12-07T09:50:09.402Z"
   },
   {
    "duration": 6,
    "start_time": "2021-12-07T09:50:09.744Z"
   },
   {
    "duration": 5,
    "start_time": "2021-12-07T09:50:10.095Z"
   },
   {
    "duration": 6,
    "start_time": "2021-12-07T09:50:10.447Z"
   },
   {
    "duration": 6,
    "start_time": "2021-12-07T09:50:10.816Z"
   },
   {
    "duration": 389,
    "start_time": "2021-12-07T09:50:11.180Z"
   },
   {
    "duration": 5,
    "start_time": "2021-12-07T09:50:11.571Z"
   },
   {
    "duration": 8,
    "start_time": "2021-12-07T09:50:11.897Z"
   },
   {
    "duration": 6,
    "start_time": "2021-12-07T09:50:12.233Z"
   },
   {
    "duration": 7,
    "start_time": "2021-12-07T09:50:12.608Z"
   },
   {
    "duration": 7,
    "start_time": "2021-12-07T09:50:13.569Z"
   },
   {
    "duration": 3864,
    "start_time": "2021-12-07T09:50:13.973Z"
   },
   {
    "duration": 15,
    "start_time": "2021-12-07T09:50:17.839Z"
   },
   {
    "duration": 14,
    "start_time": "2021-12-07T09:50:17.856Z"
   },
   {
    "duration": 270,
    "start_time": "2021-12-07T09:50:17.872Z"
   },
   {
    "duration": 21,
    "start_time": "2021-12-07T09:50:18.491Z"
   },
   {
    "duration": 24,
    "start_time": "2021-12-07T09:50:24.648Z"
   },
   {
    "duration": 19,
    "start_time": "2021-12-07T09:50:27.681Z"
   },
   {
    "duration": 19,
    "start_time": "2021-12-07T09:50:35.434Z"
   },
   {
    "duration": 20,
    "start_time": "2021-12-07T09:52:51.417Z"
   },
   {
    "duration": 20,
    "start_time": "2021-12-07T09:53:21.506Z"
   },
   {
    "duration": 28,
    "start_time": "2021-12-07T09:53:34.310Z"
   },
   {
    "duration": 357,
    "start_time": "2021-12-07T09:57:05.693Z"
   },
   {
    "duration": 368,
    "start_time": "2021-12-07T09:57:19.201Z"
   },
   {
    "duration": 114,
    "start_time": "2021-12-07T09:57:54.396Z"
   },
   {
    "duration": 155,
    "start_time": "2021-12-07T09:58:04.173Z"
   },
   {
    "duration": 119,
    "start_time": "2021-12-07T09:58:14.620Z"
   },
   {
    "duration": 116,
    "start_time": "2021-12-07T09:58:44.569Z"
   },
   {
    "duration": 371,
    "start_time": "2021-12-07T09:58:54.067Z"
   },
   {
    "duration": 361,
    "start_time": "2021-12-07T09:59:07.579Z"
   },
   {
    "duration": 117,
    "start_time": "2021-12-07T09:59:13.139Z"
   },
   {
    "duration": 26,
    "start_time": "2021-12-07T09:59:24.241Z"
   },
   {
    "duration": 19,
    "start_time": "2021-12-07T09:59:34.122Z"
   },
   {
    "duration": 44,
    "start_time": "2021-12-07T10:06:43.186Z"
   },
   {
    "duration": 151,
    "start_time": "2021-12-07T10:09:31.829Z"
   },
   {
    "duration": 109,
    "start_time": "2021-12-07T10:09:39.025Z"
   },
   {
    "duration": -1538,
    "start_time": "2021-12-07T10:09:52.948Z"
   },
   {
    "duration": 24,
    "start_time": "2021-12-07T10:10:26.287Z"
   },
   {
    "duration": 10244,
    "start_time": "2021-12-07T10:10:31.424Z"
   },
   {
    "duration": 9607,
    "start_time": "2021-12-07T10:12:04.482Z"
   },
   {
    "duration": 366,
    "start_time": "2021-12-07T10:12:17.139Z"
   },
   {
    "duration": 373,
    "start_time": "2021-12-07T10:12:49.992Z"
   },
   {
    "duration": 30,
    "start_time": "2021-12-07T10:13:44.324Z"
   },
   {
    "duration": 19,
    "start_time": "2021-12-07T10:14:17.646Z"
   },
   {
    "duration": 163,
    "start_time": "2021-12-07T10:15:08.872Z"
   },
   {
    "duration": 20,
    "start_time": "2021-12-07T10:15:12.652Z"
   },
   {
    "duration": 113,
    "start_time": "2021-12-07T10:41:22.353Z"
   },
   {
    "duration": 17,
    "start_time": "2021-12-07T10:41:26.340Z"
   },
   {
    "duration": 17,
    "start_time": "2021-12-07T10:41:41.546Z"
   },
   {
    "duration": 16,
    "start_time": "2021-12-07T10:41:46.138Z"
   },
   {
    "duration": 18,
    "start_time": "2021-12-07T10:42:00.497Z"
   },
   {
    "duration": 21,
    "start_time": "2021-12-07T10:43:08.782Z"
   },
   {
    "duration": 1898,
    "start_time": "2021-12-07T10:43:17.782Z"
   },
   {
    "duration": 21,
    "start_time": "2021-12-07T10:43:26.626Z"
   },
   {
    "duration": 396,
    "start_time": "2021-12-07T10:43:48.643Z"
   },
   {
    "duration": 15,
    "start_time": "2021-12-07T10:43:53.621Z"
   },
   {
    "duration": 18,
    "start_time": "2021-12-07T10:44:01.662Z"
   },
   {
    "duration": 23,
    "start_time": "2021-12-07T10:44:40.018Z"
   },
   {
    "duration": 19,
    "start_time": "2021-12-07T10:44:42.891Z"
   },
   {
    "duration": 20,
    "start_time": "2021-12-07T10:45:54.810Z"
   },
   {
    "duration": 20,
    "start_time": "2021-12-07T10:46:19.310Z"
   },
   {
    "duration": 883,
    "start_time": "2021-12-07T10:53:29.324Z"
   },
   {
    "duration": 427,
    "start_time": "2021-12-07T10:53:37.221Z"
   },
   {
    "duration": 20,
    "start_time": "2021-12-07T10:53:48.995Z"
   },
   {
    "duration": 20,
    "start_time": "2021-12-07T10:54:29.834Z"
   },
   {
    "duration": 19,
    "start_time": "2021-12-07T10:54:32.270Z"
   },
   {
    "duration": 350,
    "start_time": "2021-12-07T11:05:23.329Z"
   },
   {
    "duration": 17,
    "start_time": "2021-12-07T11:05:28.431Z"
   },
   {
    "duration": 16,
    "start_time": "2021-12-07T11:05:38.324Z"
   },
   {
    "duration": 20,
    "start_time": "2021-12-07T11:05:42.204Z"
   },
   {
    "duration": 23,
    "start_time": "2021-12-07T11:08:15.663Z"
   },
   {
    "duration": 381,
    "start_time": "2021-12-07T11:12:26.500Z"
   },
   {
    "duration": 16,
    "start_time": "2021-12-07T11:12:36.413Z"
   },
   {
    "duration": 349,
    "start_time": "2021-12-07T11:13:01.459Z"
   },
   {
    "duration": 20,
    "start_time": "2021-12-07T11:13:07.832Z"
   },
   {
    "duration": 21,
    "start_time": "2021-12-07T11:13:11.555Z"
   },
   {
    "duration": 21,
    "start_time": "2021-12-07T11:13:21.470Z"
   },
   {
    "duration": 116,
    "start_time": "2021-12-07T11:16:40.571Z"
   },
   {
    "duration": 1326,
    "start_time": "2021-12-07T11:17:50.234Z"
   },
   {
    "duration": 917,
    "start_time": "2021-12-07T11:18:15.371Z"
   },
   {
    "duration": 29,
    "start_time": "2021-12-07T11:18:40.153Z"
   },
   {
    "duration": 31,
    "start_time": "2021-12-07T11:18:57.983Z"
   },
   {
    "duration": 34,
    "start_time": "2021-12-07T11:23:03.470Z"
   },
   {
    "duration": 31,
    "start_time": "2021-12-07T11:23:32.092Z"
   },
   {
    "duration": 29,
    "start_time": "2021-12-07T11:31:57.410Z"
   },
   {
    "duration": 20,
    "start_time": "2021-12-07T11:32:41.958Z"
   },
   {
    "duration": 31,
    "start_time": "2021-12-07T11:34:22.292Z"
   },
   {
    "duration": 43,
    "start_time": "2021-12-07T11:35:35.860Z"
   },
   {
    "duration": 29,
    "start_time": "2021-12-07T11:35:45.971Z"
   },
   {
    "duration": -1524,
    "start_time": "2021-12-07T11:41:40.391Z"
   },
   {
    "duration": 26,
    "start_time": "2021-12-07T11:41:50.201Z"
   },
   {
    "duration": -1531,
    "start_time": "2021-12-07T11:45:24.978Z"
   },
   {
    "duration": 21,
    "start_time": "2021-12-07T11:45:36.138Z"
   },
   {
    "duration": 20,
    "start_time": "2021-12-07T11:46:29.093Z"
   },
   {
    "duration": 19,
    "start_time": "2021-12-07T11:49:31.852Z"
   },
   {
    "duration": 3440,
    "start_time": "2021-12-07T11:55:01.841Z"
   },
   {
    "duration": 24,
    "start_time": "2021-12-07T11:55:07.296Z"
   },
   {
    "duration": 1881,
    "start_time": "2021-12-07T11:55:33.935Z"
   },
   {
    "duration": 1701,
    "start_time": "2021-12-07T11:55:47.404Z"
   },
   {
    "duration": 21,
    "start_time": "2021-12-07T11:55:51.777Z"
   },
   {
    "duration": 1811,
    "start_time": "2021-12-07T11:56:03.146Z"
   },
   {
    "duration": 1718,
    "start_time": "2021-12-07T11:56:14.833Z"
   },
   {
    "duration": 3842,
    "start_time": "2021-12-07T11:56:41.595Z"
   },
   {
    "duration": 2071,
    "start_time": "2021-12-07T11:56:47.999Z"
   },
   {
    "duration": 23,
    "start_time": "2021-12-07T11:56:55.133Z"
   },
   {
    "duration": 6,
    "start_time": "2021-12-07T11:57:13.528Z"
   },
   {
    "duration": 37,
    "start_time": "2021-12-07T11:57:18.250Z"
   },
   {
    "duration": 350,
    "start_time": "2021-12-07T11:58:29.987Z"
   },
   {
    "duration": 22,
    "start_time": "2021-12-07T11:58:34.966Z"
   },
   {
    "duration": 377,
    "start_time": "2021-12-07T11:59:22.366Z"
   },
   {
    "duration": 25,
    "start_time": "2021-12-07T11:59:29.572Z"
   },
   {
    "duration": 1544,
    "start_time": "2021-12-07T12:00:28.682Z"
   },
   {
    "duration": 7,
    "start_time": "2021-12-07T12:00:57.844Z"
   },
   {
    "duration": 21,
    "start_time": "2021-12-07T12:01:01.821Z"
   },
   {
    "duration": -1530,
    "start_time": "2021-12-07T12:02:03.689Z"
   },
   {
    "duration": 9302,
    "start_time": "2021-12-07T12:02:15.914Z"
   },
   {
    "duration": -1536,
    "start_time": "2021-12-07T12:02:26.754Z"
   },
   {
    "duration": 18,
    "start_time": "2021-12-07T12:02:43.598Z"
   },
   {
    "duration": 9409,
    "start_time": "2021-12-07T12:03:08.680Z"
   },
   {
    "duration": 19,
    "start_time": "2021-12-07T12:03:33.246Z"
   },
   {
    "duration": 17,
    "start_time": "2021-12-07T12:08:45.540Z"
   },
   {
    "duration": 9,
    "start_time": "2021-12-07T12:09:49.278Z"
   },
   {
    "duration": 108,
    "start_time": "2021-12-07T12:11:50.720Z"
   },
   {
    "duration": 155,
    "start_time": "2021-12-07T12:15:37.920Z"
   },
   {
    "duration": 149,
    "start_time": "2021-12-07T12:17:51.483Z"
   },
   {
    "duration": 148,
    "start_time": "2021-12-07T12:18:17.396Z"
   },
   {
    "duration": 116,
    "start_time": "2021-12-07T12:24:58.748Z"
   },
   {
    "duration": 109,
    "start_time": "2021-12-07T12:25:03.176Z"
   },
   {
    "duration": 112,
    "start_time": "2021-12-07T12:25:33.253Z"
   },
   {
    "duration": 111,
    "start_time": "2021-12-07T12:26:08.585Z"
   },
   {
    "duration": 26,
    "start_time": "2021-12-07T13:01:43.220Z"
   },
   {
    "duration": 79,
    "start_time": "2021-12-07T13:02:33.847Z"
   },
   {
    "duration": 11,
    "start_time": "2021-12-07T13:02:35.877Z"
   },
   {
    "duration": 10,
    "start_time": "2021-12-07T13:02:36.202Z"
   },
   {
    "duration": 8,
    "start_time": "2021-12-07T13:02:36.530Z"
   },
   {
    "duration": 8,
    "start_time": "2021-12-07T13:02:36.844Z"
   },
   {
    "duration": 4,
    "start_time": "2021-12-07T13:02:37.146Z"
   },
   {
    "duration": 11,
    "start_time": "2021-12-07T13:02:37.466Z"
   },
   {
    "duration": 16,
    "start_time": "2021-12-07T13:02:37.755Z"
   },
   {
    "duration": 6,
    "start_time": "2021-12-07T13:02:38.734Z"
   },
   {
    "duration": 29,
    "start_time": "2021-12-07T13:02:38.787Z"
   },
   {
    "duration": 15,
    "start_time": "2021-12-07T13:02:39.061Z"
   },
   {
    "duration": 25,
    "start_time": "2021-12-07T13:02:39.103Z"
   },
   {
    "duration": 16,
    "start_time": "2021-12-07T13:02:39.153Z"
   },
   {
    "duration": 7,
    "start_time": "2021-12-07T13:02:39.214Z"
   },
   {
    "duration": 13,
    "start_time": "2021-12-07T13:02:39.254Z"
   },
   {
    "duration": 7,
    "start_time": "2021-12-07T13:02:39.300Z"
   },
   {
    "duration": 14,
    "start_time": "2021-12-07T13:02:39.334Z"
   },
   {
    "duration": 42,
    "start_time": "2021-12-07T13:02:39.398Z"
   },
   {
    "duration": 7,
    "start_time": "2021-12-07T13:02:39.450Z"
   },
   {
    "duration": 8,
    "start_time": "2021-12-07T13:02:39.506Z"
   },
   {
    "duration": 6,
    "start_time": "2021-12-07T13:02:39.573Z"
   },
   {
    "duration": 6,
    "start_time": "2021-12-07T13:02:39.631Z"
   },
   {
    "duration": 454,
    "start_time": "2021-12-07T13:02:39.705Z"
   },
   {
    "duration": 6,
    "start_time": "2021-12-07T13:02:40.161Z"
   },
   {
    "duration": 10,
    "start_time": "2021-12-07T13:02:40.169Z"
   },
   {
    "duration": 29,
    "start_time": "2021-12-07T13:02:40.181Z"
   },
   {
    "duration": 13,
    "start_time": "2021-12-07T13:02:40.213Z"
   },
   {
    "duration": 10,
    "start_time": "2021-12-07T13:02:40.228Z"
   },
   {
    "duration": 4123,
    "start_time": "2021-12-07T13:02:40.240Z"
   },
   {
    "duration": 16,
    "start_time": "2021-12-07T13:02:44.366Z"
   },
   {
    "duration": 38,
    "start_time": "2021-12-07T13:02:44.384Z"
   },
   {
    "duration": 258,
    "start_time": "2021-12-07T13:02:44.424Z"
   },
   {
    "duration": 26,
    "start_time": "2021-12-07T13:02:44.684Z"
   },
   {
    "duration": 140,
    "start_time": "2021-12-07T13:02:44.713Z"
   },
   {
    "duration": -1537,
    "start_time": "2021-12-07T13:02:46.392Z"
   },
   {
    "duration": -1540,
    "start_time": "2021-12-07T13:02:46.396Z"
   },
   {
    "duration": -1541,
    "start_time": "2021-12-07T13:02:46.398Z"
   },
   {
    "duration": -1543,
    "start_time": "2021-12-07T13:02:46.401Z"
   },
   {
    "duration": 4,
    "start_time": "2021-12-07T13:08:15.667Z"
   },
   {
    "duration": 619,
    "start_time": "2021-12-08T05:29:47.115Z"
   },
   {
    "duration": 9,
    "start_time": "2021-12-08T05:29:47.736Z"
   },
   {
    "duration": 12,
    "start_time": "2021-12-08T05:29:47.747Z"
   },
   {
    "duration": 8,
    "start_time": "2021-12-08T05:29:47.761Z"
   },
   {
    "duration": 9,
    "start_time": "2021-12-08T05:29:47.771Z"
   },
   {
    "duration": 11,
    "start_time": "2021-12-08T05:29:47.782Z"
   },
   {
    "duration": 12,
    "start_time": "2021-12-08T05:29:47.795Z"
   },
   {
    "duration": 15,
    "start_time": "2021-12-08T05:29:47.810Z"
   },
   {
    "duration": 5,
    "start_time": "2021-12-08T05:29:47.827Z"
   },
   {
    "duration": 46,
    "start_time": "2021-12-08T05:29:47.833Z"
   },
   {
    "duration": 16,
    "start_time": "2021-12-08T05:29:47.880Z"
   },
   {
    "duration": 17,
    "start_time": "2021-12-08T05:29:47.897Z"
   },
   {
    "duration": 14,
    "start_time": "2021-12-08T05:29:47.916Z"
   },
   {
    "duration": 31,
    "start_time": "2021-12-08T05:29:47.932Z"
   },
   {
    "duration": 11,
    "start_time": "2021-12-08T05:29:47.965Z"
   },
   {
    "duration": 8,
    "start_time": "2021-12-08T05:29:47.978Z"
   },
   {
    "duration": 16,
    "start_time": "2021-12-08T05:29:47.988Z"
   },
   {
    "duration": 35,
    "start_time": "2021-12-08T05:29:48.006Z"
   },
   {
    "duration": 26,
    "start_time": "2021-12-08T05:29:48.042Z"
   },
   {
    "duration": 8,
    "start_time": "2021-12-08T05:29:48.070Z"
   },
   {
    "duration": 11,
    "start_time": "2021-12-08T05:29:48.080Z"
   },
   {
    "duration": 8,
    "start_time": "2021-12-08T05:29:48.093Z"
   },
   {
    "duration": 380,
    "start_time": "2021-12-08T05:29:48.104Z"
   },
   {
    "duration": 7,
    "start_time": "2021-12-08T05:29:48.486Z"
   },
   {
    "duration": 13,
    "start_time": "2021-12-08T05:29:48.495Z"
   },
   {
    "duration": 8,
    "start_time": "2021-12-08T05:29:48.510Z"
   },
   {
    "duration": 10,
    "start_time": "2021-12-08T05:29:48.520Z"
   },
   {
    "duration": 16,
    "start_time": "2021-12-08T05:29:48.531Z"
   },
   {
    "duration": 3857,
    "start_time": "2021-12-08T05:29:48.549Z"
   },
   {
    "duration": 16,
    "start_time": "2021-12-08T05:29:52.408Z"
   },
   {
    "duration": 16,
    "start_time": "2021-12-08T05:29:52.425Z"
   },
   {
    "duration": 342,
    "start_time": "2021-12-08T05:29:52.443Z"
   },
   {
    "duration": 21,
    "start_time": "2021-12-08T05:29:52.786Z"
   },
   {
    "duration": 9,
    "start_time": "2021-12-08T05:29:52.809Z"
   },
   {
    "duration": 43,
    "start_time": "2021-12-08T05:29:52.820Z"
   },
   {
    "duration": 21,
    "start_time": "2021-12-08T05:29:52.865Z"
   },
   {
    "duration": 19,
    "start_time": "2021-12-08T05:29:52.888Z"
   },
   {
    "duration": 19,
    "start_time": "2021-12-08T05:29:52.909Z"
   },
   {
    "duration": 4,
    "start_time": "2021-12-08T05:37:59.919Z"
   },
   {
    "duration": 7,
    "start_time": "2021-12-08T05:38:08.636Z"
   },
   {
    "duration": 19,
    "start_time": "2021-12-08T05:39:37.293Z"
   },
   {
    "duration": 609,
    "start_time": "2021-12-08T13:59:08.685Z"
   },
   {
    "duration": 18,
    "start_time": "2021-12-08T14:13:40.009Z"
   },
   {
    "duration": 298,
    "start_time": "2021-12-08T14:23:53.166Z"
   },
   {
    "duration": 295,
    "start_time": "2021-12-08T14:24:14.375Z"
   },
   {
    "duration": 289,
    "start_time": "2021-12-08T14:25:14.482Z"
   },
   {
    "duration": 228,
    "start_time": "2021-12-08T14:25:24.265Z"
   },
   {
    "duration": 17,
    "start_time": "2021-12-08T14:25:53.611Z"
   },
   {
    "duration": 4,
    "start_time": "2021-12-08T14:26:01.716Z"
   },
   {
    "duration": 228,
    "start_time": "2021-12-08T14:26:13.804Z"
   },
   {
    "duration": 4,
    "start_time": "2021-12-08T14:26:20.786Z"
   },
   {
    "duration": 6211,
    "start_time": "2021-12-08T14:26:31.527Z"
   },
   {
    "duration": 6238,
    "start_time": "2021-12-08T14:26:50.478Z"
   },
   {
    "duration": 5836,
    "start_time": "2021-12-08T14:27:06.184Z"
   },
   {
    "duration": 7364,
    "start_time": "2021-12-08T14:27:15.177Z"
   },
   {
    "duration": 5834,
    "start_time": "2021-12-08T14:27:27.537Z"
   },
   {
    "duration": 3,
    "start_time": "2021-12-08T14:28:21.131Z"
   },
   {
    "duration": 5906,
    "start_time": "2021-12-08T14:28:34.966Z"
   },
   {
    "duration": 7,
    "start_time": "2021-12-08T14:29:04.663Z"
   },
   {
    "duration": 4865,
    "start_time": "2021-12-08T14:29:41.591Z"
   },
   {
    "duration": 14,
    "start_time": "2021-12-08T14:30:08.288Z"
   },
   {
    "duration": 17,
    "start_time": "2021-12-08T14:30:14.319Z"
   },
   {
    "duration": 4,
    "start_time": "2021-12-08T14:30:34.717Z"
   },
   {
    "duration": 4377,
    "start_time": "2021-12-08T14:30:49.018Z"
   },
   {
    "duration": 4445,
    "start_time": "2021-12-08T14:30:58.948Z"
   },
   {
    "duration": 7061,
    "start_time": "2021-12-08T14:31:08.679Z"
   },
   {
    "duration": 4,
    "start_time": "2021-12-08T14:31:25.134Z"
   },
   {
    "duration": 254,
    "start_time": "2021-12-08T14:32:26.731Z"
   },
   {
    "duration": 4,
    "start_time": "2021-12-08T14:32:35.096Z"
   },
   {
    "duration": 6,
    "start_time": "2021-12-08T14:32:43.632Z"
   },
   {
    "duration": 88,
    "start_time": "2021-12-08T14:34:51.667Z"
   },
   {
    "duration": 101,
    "start_time": "2021-12-08T14:35:11.273Z"
   },
   {
    "duration": 127,
    "start_time": "2021-12-08T14:35:29.410Z"
   },
   {
    "duration": 229,
    "start_time": "2021-12-08T14:35:52.230Z"
   },
   {
    "duration": 4,
    "start_time": "2021-12-08T14:36:03.687Z"
   },
   {
    "duration": 6,
    "start_time": "2021-12-08T14:36:10.488Z"
   },
   {
    "duration": 6,
    "start_time": "2021-12-08T14:36:52.865Z"
   },
   {
    "duration": 229,
    "start_time": "2021-12-08T14:36:56.276Z"
   },
   {
    "duration": 87,
    "start_time": "2021-12-08T14:37:35.487Z"
   },
   {
    "duration": 12,
    "start_time": "2021-12-08T14:39:43.406Z"
   },
   {
    "duration": 27,
    "start_time": "2021-12-08T14:39:55.062Z"
   },
   {
    "duration": 62,
    "start_time": "2021-12-08T14:40:57.830Z"
   },
   {
    "duration": 11,
    "start_time": "2021-12-08T14:40:59.510Z"
   },
   {
    "duration": 7,
    "start_time": "2021-12-08T14:40:59.568Z"
   },
   {
    "duration": 6,
    "start_time": "2021-12-08T14:40:59.628Z"
   },
   {
    "duration": 5,
    "start_time": "2021-12-08T14:40:59.690Z"
   },
   {
    "duration": 4,
    "start_time": "2021-12-08T14:40:59.746Z"
   },
   {
    "duration": 9,
    "start_time": "2021-12-08T14:40:59.807Z"
   },
   {
    "duration": 12,
    "start_time": "2021-12-08T14:40:59.871Z"
   },
   {
    "duration": 4,
    "start_time": "2021-12-08T14:41:00.023Z"
   },
   {
    "duration": 20,
    "start_time": "2021-12-08T14:41:00.079Z"
   },
   {
    "duration": 14,
    "start_time": "2021-12-08T14:41:00.265Z"
   },
   {
    "duration": 15,
    "start_time": "2021-12-08T14:41:00.316Z"
   },
   {
    "duration": 14,
    "start_time": "2021-12-08T14:41:00.376Z"
   },
   {
    "duration": 4,
    "start_time": "2021-12-08T14:41:00.635Z"
   },
   {
    "duration": 10,
    "start_time": "2021-12-08T14:41:01.278Z"
   },
   {
    "duration": 5,
    "start_time": "2021-12-08T14:41:01.624Z"
   },
   {
    "duration": 12,
    "start_time": "2021-12-08T14:41:01.799Z"
   },
   {
    "duration": 28,
    "start_time": "2021-12-08T14:41:02.152Z"
   },
   {
    "duration": 5,
    "start_time": "2021-12-08T14:41:02.506Z"
   },
   {
    "duration": 4,
    "start_time": "2021-12-08T14:41:02.860Z"
   },
   {
    "duration": 5,
    "start_time": "2021-12-08T14:41:03.527Z"
   },
   {
    "duration": 6,
    "start_time": "2021-12-08T14:41:03.586Z"
   },
   {
    "duration": 318,
    "start_time": "2021-12-08T14:41:03.647Z"
   },
   {
    "duration": 7,
    "start_time": "2021-12-08T14:41:03.967Z"
   },
   {
    "duration": 15,
    "start_time": "2021-12-08T14:41:03.975Z"
   },
   {
    "duration": 10,
    "start_time": "2021-12-08T14:41:03.992Z"
   },
   {
    "duration": 11,
    "start_time": "2021-12-08T14:41:04.004Z"
   },
   {
    "duration": 7,
    "start_time": "2021-12-08T14:41:04.032Z"
   },
   {
    "duration": 3165,
    "start_time": "2021-12-08T14:41:04.095Z"
   },
   {
    "duration": 13,
    "start_time": "2021-12-08T14:41:07.262Z"
   },
   {
    "duration": 12,
    "start_time": "2021-12-08T14:41:07.288Z"
   },
   {
    "duration": 221,
    "start_time": "2021-12-08T14:41:07.301Z"
   },
   {
    "duration": 18,
    "start_time": "2021-12-08T14:41:07.523Z"
   },
   {
    "duration": 23,
    "start_time": "2021-12-08T14:41:07.542Z"
   },
   {
    "duration": 243,
    "start_time": "2021-12-08T14:41:07.566Z"
   },
   {
    "duration": -31,
    "start_time": "2021-12-08T14:41:07.842Z"
   },
   {
    "duration": -37,
    "start_time": "2021-12-08T14:41:07.848Z"
   },
   {
    "duration": -44,
    "start_time": "2021-12-08T14:41:07.856Z"
   },
   {
    "duration": -46,
    "start_time": "2021-12-08T14:41:07.859Z"
   },
   {
    "duration": -48,
    "start_time": "2021-12-08T14:41:07.862Z"
   },
   {
    "duration": -51,
    "start_time": "2021-12-08T14:41:07.866Z"
   },
   {
    "duration": -53,
    "start_time": "2021-12-08T14:41:07.869Z"
   },
   {
    "duration": -54,
    "start_time": "2021-12-08T14:41:07.871Z"
   },
   {
    "duration": 15,
    "start_time": "2021-12-08T14:41:36.499Z"
   },
   {
    "duration": 17,
    "start_time": "2021-12-08T14:48:28.255Z"
   },
   {
    "duration": -32,
    "start_time": "2021-12-08T14:48:43.997Z"
   },
   {
    "duration": 6940,
    "start_time": "2021-12-08T14:48:57.568Z"
   },
   {
    "duration": 17,
    "start_time": "2021-12-08T14:49:06.130Z"
   },
   {
    "duration": 6,
    "start_time": "2021-12-08T14:49:09.565Z"
   },
   {
    "duration": 15,
    "start_time": "2021-12-08T14:50:34.107Z"
   },
   {
    "duration": 13,
    "start_time": "2021-12-08T14:51:08.118Z"
   },
   {
    "duration": 18,
    "start_time": "2021-12-08T14:51:12.263Z"
   },
   {
    "duration": 18,
    "start_time": "2021-12-08T14:51:28.770Z"
   },
   {
    "duration": 16,
    "start_time": "2021-12-08T14:54:52.837Z"
   },
   {
    "duration": 20,
    "start_time": "2021-12-08T14:54:59.182Z"
   },
   {
    "duration": 17,
    "start_time": "2021-12-08T14:55:48.230Z"
   },
   {
    "duration": 19,
    "start_time": "2021-12-08T14:56:06.584Z"
   },
   {
    "duration": 78,
    "start_time": "2021-12-08T15:10:33.514Z"
   },
   {
    "duration": 238,
    "start_time": "2021-12-08T15:10:37.487Z"
   },
   {
    "duration": 320,
    "start_time": "2021-12-08T15:10:43.843Z"
   },
   {
    "duration": 16,
    "start_time": "2021-12-08T15:11:27.917Z"
   },
   {
    "duration": 18,
    "start_time": "2021-12-08T15:11:54.769Z"
   },
   {
    "duration": 19,
    "start_time": "2021-12-08T15:11:57.596Z"
   },
   {
    "duration": 17,
    "start_time": "2021-12-08T15:12:10.162Z"
   },
   {
    "duration": 234,
    "start_time": "2021-12-08T15:12:22.398Z"
   },
   {
    "duration": 245,
    "start_time": "2021-12-08T15:12:33.944Z"
   },
   {
    "duration": 18,
    "start_time": "2021-12-08T15:12:40.584Z"
   },
   {
    "duration": 14,
    "start_time": "2021-12-08T15:12:44.221Z"
   },
   {
    "duration": 20,
    "start_time": "2021-12-08T15:13:55.749Z"
   },
   {
    "duration": 19,
    "start_time": "2021-12-08T15:14:08.253Z"
   },
   {
    "duration": 20,
    "start_time": "2021-12-08T15:14:17.677Z"
   },
   {
    "duration": 21,
    "start_time": "2021-12-08T15:14:23.867Z"
   },
   {
    "duration": 15,
    "start_time": "2021-12-08T15:14:36.664Z"
   },
   {
    "duration": 17,
    "start_time": "2021-12-08T15:14:41.192Z"
   },
   {
    "duration": 20,
    "start_time": "2021-12-08T15:15:41.035Z"
   },
   {
    "duration": 262,
    "start_time": "2021-12-08T15:17:01.298Z"
   },
   {
    "duration": 654,
    "start_time": "2021-12-08T15:17:08.300Z"
   },
   {
    "duration": 19,
    "start_time": "2021-12-08T15:17:13.031Z"
   },
   {
    "duration": 79,
    "start_time": "2021-12-08T15:17:18.096Z"
   },
   {
    "duration": 18,
    "start_time": "2021-12-08T15:17:29.410Z"
   },
   {
    "duration": 18,
    "start_time": "2021-12-08T15:17:39.644Z"
   },
   {
    "duration": 76,
    "start_time": "2021-12-08T15:19:55.377Z"
   },
   {
    "duration": 86,
    "start_time": "2021-12-08T15:20:01.994Z"
   },
   {
    "duration": 78,
    "start_time": "2021-12-08T15:20:20.143Z"
   },
   {
    "duration": 19,
    "start_time": "2021-12-08T15:20:33.494Z"
   },
   {
    "duration": 19,
    "start_time": "2021-12-08T15:20:46.309Z"
   },
   {
    "duration": 19,
    "start_time": "2021-12-08T15:20:49.997Z"
   },
   {
    "duration": 19,
    "start_time": "2021-12-08T15:21:00.292Z"
   },
   {
    "duration": 15,
    "start_time": "2021-12-08T15:21:22.980Z"
   },
   {
    "duration": 15,
    "start_time": "2021-12-08T15:21:25.947Z"
   },
   {
    "duration": 60,
    "start_time": "2021-12-08T15:23:46.598Z"
   },
   {
    "duration": 79,
    "start_time": "2021-12-08T15:25:29.421Z"
   },
   {
    "duration": 84,
    "start_time": "2021-12-08T15:25:35.888Z"
   },
   {
    "duration": 14,
    "start_time": "2021-12-08T15:25:53.134Z"
   },
   {
    "duration": 19,
    "start_time": "2021-12-08T15:25:58.038Z"
   },
   {
    "duration": 19,
    "start_time": "2021-12-08T15:26:10.211Z"
   },
   {
    "duration": 579,
    "start_time": "2021-12-08T17:34:10.634Z"
   },
   {
    "duration": 1083,
    "start_time": "2021-12-08T17:35:12.712Z"
   },
   {
    "duration": 13,
    "start_time": "2021-12-08T17:35:16.779Z"
   },
   {
    "duration": 11,
    "start_time": "2021-12-08T17:35:26.512Z"
   },
   {
    "duration": 12,
    "start_time": "2021-12-08T17:35:26.526Z"
   },
   {
    "duration": 9,
    "start_time": "2021-12-08T17:35:26.540Z"
   },
   {
    "duration": 4,
    "start_time": "2021-12-08T17:35:27.146Z"
   },
   {
    "duration": 14,
    "start_time": "2021-12-08T17:35:27.215Z"
   },
   {
    "duration": 22,
    "start_time": "2021-12-08T17:35:27.257Z"
   },
   {
    "duration": 6,
    "start_time": "2021-12-08T17:35:27.415Z"
   },
   {
    "duration": 33,
    "start_time": "2021-12-08T17:35:27.475Z"
   },
   {
    "duration": 23,
    "start_time": "2021-12-08T17:35:27.645Z"
   },
   {
    "duration": 24,
    "start_time": "2021-12-08T17:35:27.708Z"
   },
   {
    "duration": 22,
    "start_time": "2021-12-08T17:35:27.774Z"
   },
   {
    "duration": 6,
    "start_time": "2021-12-08T17:35:27.867Z"
   },
   {
    "duration": 16,
    "start_time": "2021-12-08T17:35:27.953Z"
   },
   {
    "duration": 8,
    "start_time": "2021-12-08T17:35:28.149Z"
   },
   {
    "duration": 20,
    "start_time": "2021-12-08T17:35:28.160Z"
   },
   {
    "duration": 46,
    "start_time": "2021-12-08T17:35:28.183Z"
   },
   {
    "duration": 8,
    "start_time": "2021-12-08T17:35:28.260Z"
   },
   {
    "duration": 6,
    "start_time": "2021-12-08T17:35:28.271Z"
   },
   {
    "duration": 7,
    "start_time": "2021-12-08T17:35:28.287Z"
   },
   {
    "duration": 9,
    "start_time": "2021-12-08T17:35:29.057Z"
   },
   {
    "duration": 593,
    "start_time": "2021-12-08T17:35:29.286Z"
   },
   {
    "duration": 7,
    "start_time": "2021-12-08T17:35:29.882Z"
   },
   {
    "duration": 10,
    "start_time": "2021-12-08T17:35:29.892Z"
   },
   {
    "duration": 12,
    "start_time": "2021-12-08T17:35:29.905Z"
   },
   {
    "duration": 43,
    "start_time": "2021-12-08T17:35:29.920Z"
   },
   {
    "duration": 12,
    "start_time": "2021-12-08T17:35:29.966Z"
   },
   {
    "duration": 4963,
    "start_time": "2021-12-08T17:35:29.981Z"
   },
   {
    "duration": 31,
    "start_time": "2021-12-08T17:35:34.948Z"
   },
   {
    "duration": 27,
    "start_time": "2021-12-08T17:35:34.982Z"
   },
   {
    "duration": 548,
    "start_time": "2021-12-08T17:35:35.012Z"
   },
   {
    "duration": 33,
    "start_time": "2021-12-08T17:35:35.563Z"
   },
   {
    "duration": 39,
    "start_time": "2021-12-08T17:35:35.599Z"
   },
   {
    "duration": 33,
    "start_time": "2021-12-08T17:35:35.659Z"
   },
   {
    "duration": 29,
    "start_time": "2021-12-08T17:35:35.694Z"
   },
   {
    "duration": 55,
    "start_time": "2021-12-08T17:35:35.725Z"
   },
   {
    "duration": 27,
    "start_time": "2021-12-08T17:35:35.782Z"
   },
   {
    "duration": 21,
    "start_time": "2021-12-08T17:41:18.597Z"
   },
   {
    "duration": 29,
    "start_time": "2021-12-08T17:41:23.677Z"
   },
   {
    "duration": 46,
    "start_time": "2021-12-08T17:41:34.871Z"
   },
   {
    "duration": 499,
    "start_time": "2021-12-08T17:41:51.683Z"
   },
   {
    "duration": 441,
    "start_time": "2021-12-08T17:41:59.812Z"
   },
   {
    "duration": 46,
    "start_time": "2021-12-08T17:42:13.715Z"
   },
   {
    "duration": 41,
    "start_time": "2021-12-08T17:42:19.904Z"
   },
   {
    "duration": 131,
    "start_time": "2021-12-08T17:42:27.602Z"
   },
   {
    "duration": 19,
    "start_time": "2021-12-08T17:42:28.546Z"
   },
   {
    "duration": 13,
    "start_time": "2021-12-08T17:42:28.599Z"
   },
   {
    "duration": 13,
    "start_time": "2021-12-08T17:42:28.661Z"
   },
   {
    "duration": 13,
    "start_time": "2021-12-08T17:42:28.721Z"
   },
   {
    "duration": 6,
    "start_time": "2021-12-08T17:42:28.779Z"
   },
   {
    "duration": 19,
    "start_time": "2021-12-08T17:42:28.841Z"
   },
   {
    "duration": 29,
    "start_time": "2021-12-08T17:42:28.901Z"
   },
   {
    "duration": 7,
    "start_time": "2021-12-08T17:42:29.047Z"
   },
   {
    "duration": 31,
    "start_time": "2021-12-08T17:42:29.111Z"
   },
   {
    "duration": 22,
    "start_time": "2021-12-08T17:42:29.295Z"
   },
   {
    "duration": 27,
    "start_time": "2021-12-08T17:42:29.346Z"
   },
   {
    "duration": 23,
    "start_time": "2021-12-08T17:42:29.411Z"
   },
   {
    "duration": 7,
    "start_time": "2021-12-08T17:42:29.496Z"
   },
   {
    "duration": 16,
    "start_time": "2021-12-08T17:42:29.590Z"
   },
   {
    "duration": 9,
    "start_time": "2021-12-08T17:42:29.649Z"
   },
   {
    "duration": 20,
    "start_time": "2021-12-08T17:42:29.679Z"
   },
   {
    "duration": 48,
    "start_time": "2021-12-08T17:42:29.744Z"
   },
   {
    "duration": 7,
    "start_time": "2021-12-08T17:42:29.798Z"
   },
   {
    "duration": 6,
    "start_time": "2021-12-08T17:42:29.858Z"
   },
   {
    "duration": 9,
    "start_time": "2021-12-08T17:42:29.921Z"
   },
   {
    "duration": 7,
    "start_time": "2021-12-08T17:42:29.975Z"
   },
   {
    "duration": 640,
    "start_time": "2021-12-08T17:42:30.044Z"
   },
   {
    "duration": 9,
    "start_time": "2021-12-08T17:42:30.687Z"
   },
   {
    "duration": 10,
    "start_time": "2021-12-08T17:42:30.701Z"
   },
   {
    "duration": 49,
    "start_time": "2021-12-08T17:42:30.714Z"
   },
   {
    "duration": 13,
    "start_time": "2021-12-08T17:42:30.766Z"
   },
   {
    "duration": 18,
    "start_time": "2021-12-08T17:42:30.782Z"
   },
   {
    "duration": 5756,
    "start_time": "2021-12-08T17:42:30.803Z"
   },
   {
    "duration": 22,
    "start_time": "2021-12-08T17:42:36.563Z"
   },
   {
    "duration": 19,
    "start_time": "2021-12-08T17:42:36.589Z"
   },
   {
    "duration": 418,
    "start_time": "2021-12-08T17:42:36.610Z"
   },
   {
    "duration": 39,
    "start_time": "2021-12-08T17:42:37.030Z"
   },
   {
    "duration": 35,
    "start_time": "2021-12-08T17:42:37.072Z"
   },
   {
    "duration": 58,
    "start_time": "2021-12-08T17:42:37.110Z"
   },
   {
    "duration": 26,
    "start_time": "2021-12-08T17:42:37.171Z"
   },
   {
    "duration": 61,
    "start_time": "2021-12-08T17:42:37.199Z"
   },
   {
    "duration": 29,
    "start_time": "2021-12-08T17:42:37.263Z"
   },
   {
    "duration": 30,
    "start_time": "2021-12-08T17:42:43.706Z"
   },
   {
    "duration": 132,
    "start_time": "2021-12-08T17:42:48.391Z"
   },
   {
    "duration": 13,
    "start_time": "2021-12-08T17:42:49.038Z"
   },
   {
    "duration": 10,
    "start_time": "2021-12-08T17:42:49.097Z"
   },
   {
    "duration": 12,
    "start_time": "2021-12-08T17:42:49.159Z"
   },
   {
    "duration": 10,
    "start_time": "2021-12-08T17:42:49.223Z"
   },
   {
    "duration": 5,
    "start_time": "2021-12-08T17:42:49.280Z"
   },
   {
    "duration": 19,
    "start_time": "2021-12-08T17:42:49.342Z"
   },
   {
    "duration": 31,
    "start_time": "2021-12-08T17:42:49.398Z"
   },
   {
    "duration": 8,
    "start_time": "2021-12-08T17:42:49.554Z"
   },
   {
    "duration": 49,
    "start_time": "2021-12-08T17:42:49.608Z"
   },
   {
    "duration": 32,
    "start_time": "2021-12-08T17:42:49.785Z"
   },
   {
    "duration": 26,
    "start_time": "2021-12-08T17:42:49.845Z"
   },
   {
    "duration": 25,
    "start_time": "2021-12-08T17:42:49.898Z"
   },
   {
    "duration": 8,
    "start_time": "2021-12-08T17:42:49.994Z"
   },
   {
    "duration": 18,
    "start_time": "2021-12-08T17:42:50.077Z"
   },
   {
    "duration": 9,
    "start_time": "2021-12-08T17:42:50.141Z"
   },
   {
    "duration": 22,
    "start_time": "2021-12-08T17:42:50.190Z"
   },
   {
    "duration": 50,
    "start_time": "2021-12-08T17:42:50.243Z"
   },
   {
    "duration": 10,
    "start_time": "2021-12-08T17:42:50.297Z"
   },
   {
    "duration": 7,
    "start_time": "2021-12-08T17:42:50.352Z"
   },
   {
    "duration": 8,
    "start_time": "2021-12-08T17:42:50.412Z"
   },
   {
    "duration": 8,
    "start_time": "2021-12-08T17:42:50.475Z"
   },
   {
    "duration": 618,
    "start_time": "2021-12-08T17:42:50.545Z"
   },
   {
    "duration": 7,
    "start_time": "2021-12-08T17:42:51.166Z"
   },
   {
    "duration": 11,
    "start_time": "2021-12-08T17:42:51.176Z"
   },
   {
    "duration": 11,
    "start_time": "2021-12-08T17:42:51.189Z"
   },
   {
    "duration": 10,
    "start_time": "2021-12-08T17:42:51.202Z"
   },
   {
    "duration": 52,
    "start_time": "2021-12-08T17:42:51.214Z"
   },
   {
    "duration": 5436,
    "start_time": "2021-12-08T17:42:51.268Z"
   },
   {
    "duration": 23,
    "start_time": "2021-12-08T17:42:56.708Z"
   },
   {
    "duration": 39,
    "start_time": "2021-12-08T17:42:56.734Z"
   },
   {
    "duration": 410,
    "start_time": "2021-12-08T17:42:56.775Z"
   },
   {
    "duration": 33,
    "start_time": "2021-12-08T17:42:57.188Z"
   },
   {
    "duration": 63,
    "start_time": "2021-12-08T17:42:57.224Z"
   },
   {
    "duration": 32,
    "start_time": "2021-12-08T17:42:57.290Z"
   },
   {
    "duration": 61,
    "start_time": "2021-12-08T17:42:57.325Z"
   },
   {
    "duration": 35,
    "start_time": "2021-12-08T17:42:57.389Z"
   },
   {
    "duration": 55,
    "start_time": "2021-12-08T17:42:57.426Z"
   },
   {
    "duration": 574,
    "start_time": "2021-12-08T17:44:25.867Z"
   },
   {
    "duration": 34,
    "start_time": "2021-12-08T17:44:36.496Z"
   },
   {
    "duration": 35,
    "start_time": "2021-12-08T17:44:58.471Z"
   },
   {
    "duration": 33,
    "start_time": "2021-12-08T17:45:11.372Z"
   },
   {
    "duration": 31,
    "start_time": "2021-12-08T17:45:20.520Z"
   },
   {
    "duration": 39,
    "start_time": "2021-12-08T17:45:33.248Z"
   },
   {
    "duration": 46,
    "start_time": "2021-12-08T17:45:51.155Z"
   },
   {
    "duration": 32,
    "start_time": "2021-12-08T17:46:07.850Z"
   },
   {
    "duration": 6,
    "start_time": "2021-12-08T17:48:11.704Z"
   },
   {
    "duration": 33,
    "start_time": "2021-12-08T17:48:17.275Z"
   },
   {
    "duration": 31,
    "start_time": "2021-12-08T17:48:48.571Z"
   },
   {
    "duration": 27,
    "start_time": "2021-12-08T17:50:25.654Z"
   },
   {
    "duration": 27,
    "start_time": "2021-12-08T17:50:30.244Z"
   },
   {
    "duration": 32,
    "start_time": "2021-12-08T17:50:33.617Z"
   },
   {
    "duration": 33,
    "start_time": "2021-12-08T17:52:19.749Z"
   },
   {
    "duration": 32,
    "start_time": "2021-12-08T17:52:24.857Z"
   },
   {
    "duration": 33,
    "start_time": "2021-12-08T17:52:36.526Z"
   },
   {
    "duration": 35,
    "start_time": "2021-12-08T17:52:43.937Z"
   },
   {
    "duration": 31,
    "start_time": "2021-12-08T17:52:54.056Z"
   },
   {
    "duration": 31,
    "start_time": "2021-12-08T17:53:05.856Z"
   },
   {
    "duration": 40,
    "start_time": "2021-12-08T17:53:42.816Z"
   },
   {
    "duration": 529,
    "start_time": "2021-12-08T17:54:35.220Z"
   },
   {
    "duration": 33,
    "start_time": "2021-12-08T17:55:42.348Z"
   },
   {
    "duration": 29,
    "start_time": "2021-12-08T17:57:27.115Z"
   },
   {
    "duration": 28,
    "start_time": "2021-12-08T17:58:28.041Z"
   },
   {
    "duration": 33,
    "start_time": "2021-12-08T17:58:34.681Z"
   },
   {
    "duration": 44,
    "start_time": "2021-12-08T17:58:41.072Z"
   },
   {
    "duration": 32,
    "start_time": "2021-12-08T17:58:50.056Z"
   },
   {
    "duration": 6,
    "start_time": "2021-12-08T17:59:08.316Z"
   },
   {
    "duration": 33,
    "start_time": "2021-12-08T17:59:27.905Z"
   },
   {
    "duration": 31,
    "start_time": "2021-12-08T18:00:26.196Z"
   },
   {
    "duration": 30,
    "start_time": "2021-12-08T18:01:12.299Z"
   },
   {
    "duration": 29,
    "start_time": "2021-12-08T18:01:20.402Z"
   },
   {
    "duration": 31,
    "start_time": "2021-12-08T18:01:27.061Z"
   },
   {
    "duration": 31,
    "start_time": "2021-12-08T18:01:35.257Z"
   },
   {
    "duration": 33,
    "start_time": "2021-12-08T18:03:01.159Z"
   },
   {
    "duration": 35,
    "start_time": "2021-12-08T18:03:04.238Z"
   },
   {
    "duration": 30,
    "start_time": "2021-12-08T18:03:14.017Z"
   },
   {
    "duration": 90,
    "start_time": "2021-12-08T18:03:16.044Z"
   },
   {
    "duration": 40,
    "start_time": "2021-12-08T18:03:24.642Z"
   },
   {
    "duration": 40,
    "start_time": "2021-12-08T18:03:52.439Z"
   },
   {
    "duration": 44,
    "start_time": "2021-12-08T18:04:16.543Z"
   },
   {
    "duration": 936,
    "start_time": "2021-12-08T18:06:40.548Z"
   },
   {
    "duration": 45,
    "start_time": "2021-12-08T18:06:50.819Z"
   },
   {
    "duration": 52,
    "start_time": "2021-12-08T18:07:09.540Z"
   },
   {
    "duration": 47,
    "start_time": "2021-12-08T18:07:16.527Z"
   },
   {
    "duration": 31,
    "start_time": "2021-12-08T18:07:42.268Z"
   },
   {
    "duration": 88,
    "start_time": "2021-12-08T18:07:47.087Z"
   },
   {
    "duration": 497,
    "start_time": "2021-12-08T18:16:53.781Z"
   },
   {
    "duration": 450,
    "start_time": "2021-12-08T18:17:00.585Z"
   },
   {
    "duration": 30,
    "start_time": "2021-12-08T18:17:09.080Z"
   },
   {
    "duration": 432,
    "start_time": "2021-12-08T18:17:24.705Z"
   },
   {
    "duration": 412,
    "start_time": "2021-12-08T18:19:04.959Z"
   },
   {
    "duration": 30,
    "start_time": "2021-12-08T18:19:13.411Z"
   },
   {
    "duration": 676,
    "start_time": "2021-12-08T18:19:56.492Z"
   },
   {
    "duration": 31,
    "start_time": "2021-12-08T18:20:09.892Z"
   },
   {
    "duration": 439,
    "start_time": "2021-12-08T18:20:48.646Z"
   },
   {
    "duration": 30,
    "start_time": "2021-12-08T18:21:36.844Z"
   },
   {
    "duration": 322,
    "start_time": "2021-12-09T08:58:44.024Z"
   },
   {
    "duration": 914,
    "start_time": "2021-12-09T08:58:52.698Z"
   },
   {
    "duration": 769,
    "start_time": "2021-12-09T08:59:02.950Z"
   },
   {
    "duration": 372,
    "start_time": "2021-12-09T08:59:16.506Z"
   },
   {
    "duration": 126,
    "start_time": "2021-12-09T08:59:24.231Z"
   },
   {
    "duration": 19,
    "start_time": "2021-12-09T08:59:25.069Z"
   },
   {
    "duration": 13,
    "start_time": "2021-12-09T08:59:25.185Z"
   },
   {
    "duration": 13,
    "start_time": "2021-12-09T08:59:25.297Z"
   },
   {
    "duration": 12,
    "start_time": "2021-12-09T08:59:25.388Z"
   },
   {
    "duration": 6,
    "start_time": "2021-12-09T08:59:25.523Z"
   },
   {
    "duration": 18,
    "start_time": "2021-12-09T08:59:25.618Z"
   },
   {
    "duration": 22,
    "start_time": "2021-12-09T08:59:25.704Z"
   },
   {
    "duration": 6,
    "start_time": "2021-12-09T08:59:26.291Z"
   },
   {
    "duration": 38,
    "start_time": "2021-12-09T08:59:26.590Z"
   },
   {
    "duration": 20,
    "start_time": "2021-12-09T08:59:27.555Z"
   },
   {
    "duration": 25,
    "start_time": "2021-12-09T08:59:27.881Z"
   },
   {
    "duration": 23,
    "start_time": "2021-12-09T08:59:28.552Z"
   },
   {
    "duration": 8,
    "start_time": "2021-12-09T08:59:28.707Z"
   },
   {
    "duration": 17,
    "start_time": "2021-12-09T08:59:28.853Z"
   },
   {
    "duration": 9,
    "start_time": "2021-12-09T08:59:28.955Z"
   },
   {
    "duration": 23,
    "start_time": "2021-12-09T08:59:29.011Z"
   },
   {
    "duration": 45,
    "start_time": "2021-12-09T08:59:29.108Z"
   },
   {
    "duration": 8,
    "start_time": "2021-12-09T08:59:29.211Z"
   },
   {
    "duration": 8,
    "start_time": "2021-12-09T08:59:29.304Z"
   },
   {
    "duration": 8,
    "start_time": "2021-12-09T08:59:29.407Z"
   },
   {
    "duration": 8,
    "start_time": "2021-12-09T08:59:29.509Z"
   },
   {
    "duration": 592,
    "start_time": "2021-12-09T08:59:29.608Z"
   },
   {
    "duration": 9,
    "start_time": "2021-12-09T08:59:30.203Z"
   },
   {
    "duration": 10,
    "start_time": "2021-12-09T08:59:30.224Z"
   },
   {
    "duration": 14,
    "start_time": "2021-12-09T08:59:30.236Z"
   },
   {
    "duration": 11,
    "start_time": "2021-12-09T08:59:30.252Z"
   },
   {
    "duration": 14,
    "start_time": "2021-12-09T08:59:30.266Z"
   },
   {
    "duration": 5295,
    "start_time": "2021-12-09T08:59:30.392Z"
   },
   {
    "duration": 55,
    "start_time": "2021-12-09T08:59:35.693Z"
   },
   {
    "duration": 28,
    "start_time": "2021-12-09T08:59:35.751Z"
   },
   {
    "duration": 709,
    "start_time": "2021-12-09T08:59:35.782Z"
   },
   {
    "duration": 57,
    "start_time": "2021-12-09T08:59:36.494Z"
   },
   {
    "duration": 69,
    "start_time": "2021-12-09T08:59:36.554Z"
   },
   {
    "duration": 43,
    "start_time": "2021-12-09T08:59:36.626Z"
   },
   {
    "duration": 54,
    "start_time": "2021-12-09T08:59:36.674Z"
   },
   {
    "duration": 27,
    "start_time": "2021-12-09T08:59:36.732Z"
   },
   {
    "duration": 26,
    "start_time": "2021-12-09T08:59:36.762Z"
   },
   {
    "duration": 32,
    "start_time": "2021-12-09T09:00:17.718Z"
   },
   {
    "duration": 332,
    "start_time": "2021-12-09T09:14:35.229Z"
   },
   {
    "duration": 288,
    "start_time": "2021-12-09T09:15:15.557Z"
   },
   {
    "duration": 289,
    "start_time": "2021-12-09T09:15:26.790Z"
   },
   {
    "duration": 300,
    "start_time": "2021-12-09T09:15:45.039Z"
   },
   {
    "duration": 311,
    "start_time": "2021-12-09T09:16:00.243Z"
   },
   {
    "duration": 431,
    "start_time": "2021-12-09T09:16:28.699Z"
   },
   {
    "duration": 336,
    "start_time": "2021-12-09T09:16:46.426Z"
   },
   {
    "duration": 45,
    "start_time": "2021-12-09T09:16:57.790Z"
   },
   {
    "duration": 673,
    "start_time": "2021-12-09T09:17:16.396Z"
   },
   {
    "duration": -803,
    "start_time": "2021-12-09T09:17:36.171Z"
   },
   {
    "duration": -733,
    "start_time": "2021-12-09T09:17:54.820Z"
   },
   {
    "duration": 33,
    "start_time": "2021-12-09T09:17:57.153Z"
   },
   {
    "duration": 409,
    "start_time": "2021-12-09T09:20:08.435Z"
   },
   {
    "duration": 32,
    "start_time": "2021-12-09T09:20:20.854Z"
   },
   {
    "duration": 389,
    "start_time": "2021-12-09T09:22:22.211Z"
   },
   {
    "duration": 30,
    "start_time": "2021-12-09T09:22:34.670Z"
   },
   {
    "duration": 18,
    "start_time": "2021-12-09T09:40:35.334Z"
   },
   {
    "duration": 350,
    "start_time": "2021-12-09T09:41:28.223Z"
   },
   {
    "duration": 284,
    "start_time": "2021-12-09T09:41:35.672Z"
   },
   {
    "duration": 16,
    "start_time": "2021-12-09T09:41:53.364Z"
   },
   {
    "duration": 1194,
    "start_time": "2021-12-09T09:43:45.120Z"
   },
   {
    "duration": 15,
    "start_time": "2021-12-09T09:43:57.019Z"
   },
   {
    "duration": 24,
    "start_time": "2021-12-09T09:47:37.217Z"
   },
   {
    "duration": 14,
    "start_time": "2021-12-09T09:47:42.356Z"
   },
   {
    "duration": 15,
    "start_time": "2021-12-09T09:52:26.926Z"
   },
   {
    "duration": 15,
    "start_time": "2021-12-09T09:53:18.817Z"
   },
   {
    "duration": 13,
    "start_time": "2021-12-09T10:16:43.562Z"
   },
   {
    "duration": 13,
    "start_time": "2021-12-09T10:16:48.038Z"
   },
   {
    "duration": 14,
    "start_time": "2021-12-09T10:16:52.514Z"
   },
   {
    "duration": 13,
    "start_time": "2021-12-09T10:17:09.719Z"
   },
   {
    "duration": 15,
    "start_time": "2021-12-09T10:17:14.514Z"
   },
   {
    "duration": 13,
    "start_time": "2021-12-09T10:17:28.744Z"
   },
   {
    "duration": 15,
    "start_time": "2021-12-09T10:17:32.812Z"
   },
   {
    "duration": 15,
    "start_time": "2021-12-09T10:26:34.462Z"
   },
   {
    "duration": 31,
    "start_time": "2021-12-09T10:26:46.939Z"
   },
   {
    "duration": -640,
    "start_time": "2021-12-09T10:28:59.748Z"
   },
   {
    "duration": 7476,
    "start_time": "2021-12-09T10:29:02.325Z"
   },
   {
    "duration": 32,
    "start_time": "2021-12-09T10:29:40.878Z"
   },
   {
    "duration": 27,
    "start_time": "2021-12-09T10:30:42.403Z"
   },
   {
    "duration": 32,
    "start_time": "2021-12-09T10:31:41.129Z"
   },
   {
    "duration": 30,
    "start_time": "2021-12-09T10:32:38.779Z"
   },
   {
    "duration": 7057,
    "start_time": "2021-12-09T10:33:26.986Z"
   },
   {
    "duration": 89,
    "start_time": "2021-12-09T10:33:52.675Z"
   },
   {
    "duration": 15,
    "start_time": "2021-12-09T10:33:53.983Z"
   },
   {
    "duration": 11,
    "start_time": "2021-12-09T10:33:54.049Z"
   },
   {
    "duration": 10,
    "start_time": "2021-12-09T10:33:54.101Z"
   },
   {
    "duration": 9,
    "start_time": "2021-12-09T10:33:54.166Z"
   },
   {
    "duration": 5,
    "start_time": "2021-12-09T10:33:54.221Z"
   },
   {
    "duration": 13,
    "start_time": "2021-12-09T10:33:54.281Z"
   },
   {
    "duration": 20,
    "start_time": "2021-12-09T10:33:54.341Z"
   },
   {
    "duration": 6,
    "start_time": "2021-12-09T10:33:54.499Z"
   },
   {
    "duration": 29,
    "start_time": "2021-12-09T10:33:54.551Z"
   },
   {
    "duration": 21,
    "start_time": "2021-12-09T10:33:54.740Z"
   },
   {
    "duration": 23,
    "start_time": "2021-12-09T10:33:54.791Z"
   },
   {
    "duration": 20,
    "start_time": "2021-12-09T10:33:54.856Z"
   },
   {
    "duration": 6,
    "start_time": "2021-12-09T10:33:54.940Z"
   },
   {
    "duration": 16,
    "start_time": "2021-12-09T10:33:55.036Z"
   },
   {
    "duration": 8,
    "start_time": "2021-12-09T10:33:55.088Z"
   },
   {
    "duration": 19,
    "start_time": "2021-12-09T10:33:55.128Z"
   },
   {
    "duration": 45,
    "start_time": "2021-12-09T10:33:55.186Z"
   },
   {
    "duration": 8,
    "start_time": "2021-12-09T10:33:55.245Z"
   },
   {
    "duration": 6,
    "start_time": "2021-12-09T10:33:55.302Z"
   },
   {
    "duration": 10,
    "start_time": "2021-12-09T10:33:55.362Z"
   },
   {
    "duration": 10,
    "start_time": "2021-12-09T10:33:55.424Z"
   },
   {
    "duration": 1128,
    "start_time": "2021-12-09T10:33:55.484Z"
   },
   {
    "duration": 11,
    "start_time": "2021-12-09T10:33:56.616Z"
   },
   {
    "duration": 15,
    "start_time": "2021-12-09T10:33:56.632Z"
   },
   {
    "duration": 11,
    "start_time": "2021-12-09T10:33:56.651Z"
   },
   {
    "duration": 13,
    "start_time": "2021-12-09T10:33:56.664Z"
   },
   {
    "duration": 52,
    "start_time": "2021-12-09T10:33:56.680Z"
   },
   {
    "duration": 5450,
    "start_time": "2021-12-09T10:33:56.736Z"
   },
   {
    "duration": 38,
    "start_time": "2021-12-09T10:34:02.190Z"
   },
   {
    "duration": 20,
    "start_time": "2021-12-09T10:34:02.231Z"
   },
   {
    "duration": 414,
    "start_time": "2021-12-09T10:34:02.254Z"
   },
   {
    "duration": 34,
    "start_time": "2021-12-09T10:34:02.670Z"
   },
   {
    "duration": 35,
    "start_time": "2021-12-09T10:34:02.706Z"
   },
   {
    "duration": 16,
    "start_time": "2021-12-09T10:34:02.743Z"
   },
   {
    "duration": 61,
    "start_time": "2021-12-09T10:34:02.762Z"
   },
   {
    "duration": 82,
    "start_time": "2021-12-09T10:34:02.825Z"
   },
   {
    "duration": 27,
    "start_time": "2021-12-09T10:34:02.923Z"
   },
   {
    "duration": 30,
    "start_time": "2021-12-09T10:34:02.952Z"
   },
   {
    "duration": 56,
    "start_time": "2021-12-09T10:34:02.984Z"
   },
   {
    "duration": 7778,
    "start_time": "2021-12-09T10:34:03.043Z"
   },
   {
    "duration": 7196,
    "start_time": "2021-12-09T10:34:36.914Z"
   },
   {
    "duration": 33,
    "start_time": "2021-12-09T10:36:35.000Z"
   },
   {
    "duration": 30,
    "start_time": "2021-12-09T10:36:55.281Z"
   },
   {
    "duration": 29,
    "start_time": "2021-12-09T10:37:09.053Z"
   },
   {
    "duration": 116,
    "start_time": "2021-12-09T10:59:56.489Z"
   },
   {
    "duration": 90,
    "start_time": "2021-12-09T11:02:40.008Z"
   },
   {
    "duration": 22,
    "start_time": "2021-12-09T11:21:53.787Z"
   },
   {
    "duration": 62,
    "start_time": "2021-12-09T11:22:21.201Z"
   },
   {
    "duration": 88,
    "start_time": "2021-12-09T11:22:23.318Z"
   },
   {
    "duration": 88,
    "start_time": "2021-12-09T11:23:04.417Z"
   },
   {
    "duration": 118,
    "start_time": "2021-12-09T11:27:15.022Z"
   },
   {
    "duration": 118,
    "start_time": "2021-12-09T11:27:57.838Z"
   },
   {
    "duration": 87,
    "start_time": "2021-12-09T11:28:06.948Z"
   },
   {
    "duration": 96,
    "start_time": "2021-12-09T11:31:20.659Z"
   },
   {
    "duration": 144,
    "start_time": "2021-12-09T12:05:25.012Z"
   },
   {
    "duration": 97,
    "start_time": "2021-12-09T12:05:36.664Z"
   },
   {
    "duration": 127,
    "start_time": "2021-12-09T12:19:34.971Z"
   },
   {
    "duration": 50,
    "start_time": "2021-12-09T12:19:48.923Z"
   },
   {
    "duration": 57,
    "start_time": "2021-12-09T12:20:04.834Z"
   },
   {
    "duration": 91,
    "start_time": "2021-12-09T12:20:42.886Z"
   },
   {
    "duration": 95,
    "start_time": "2021-12-09T13:35:25.299Z"
   },
   {
    "duration": 141,
    "start_time": "2021-12-09T13:36:55.770Z"
   },
   {
    "duration": 346,
    "start_time": "2021-12-09T13:45:07.433Z"
   },
   {
    "duration": 298,
    "start_time": "2021-12-09T13:45:11.868Z"
   },
   {
    "duration": 97,
    "start_time": "2021-12-09T13:45:19.363Z"
   },
   {
    "duration": 97,
    "start_time": "2021-12-09T13:45:37.900Z"
   },
   {
    "duration": 99,
    "start_time": "2021-12-09T13:45:41.943Z"
   },
   {
    "duration": 97,
    "start_time": "2021-12-09T13:45:55.095Z"
   },
   {
    "duration": 97,
    "start_time": "2021-12-09T13:46:04.289Z"
   },
   {
    "duration": 11,
    "start_time": "2021-12-09T13:50:47.539Z"
   },
   {
    "duration": 813,
    "start_time": "2021-12-09T13:58:37.933Z"
   },
   {
    "duration": 123,
    "start_time": "2021-12-09T13:58:38.749Z"
   },
   {
    "duration": 12,
    "start_time": "2021-12-09T13:58:38.875Z"
   },
   {
    "duration": 38,
    "start_time": "2021-12-09T13:58:38.889Z"
   },
   {
    "duration": 11,
    "start_time": "2021-12-09T13:58:38.929Z"
   },
   {
    "duration": 11,
    "start_time": "2021-12-09T13:58:38.943Z"
   },
   {
    "duration": 5,
    "start_time": "2021-12-09T13:58:38.956Z"
   },
   {
    "duration": 13,
    "start_time": "2021-12-09T13:58:38.965Z"
   },
   {
    "duration": 57,
    "start_time": "2021-12-09T13:58:38.981Z"
   },
   {
    "duration": 6,
    "start_time": "2021-12-09T13:58:39.041Z"
   },
   {
    "duration": 34,
    "start_time": "2021-12-09T13:58:39.050Z"
   },
   {
    "duration": 52,
    "start_time": "2021-12-09T13:58:39.087Z"
   },
   {
    "duration": 24,
    "start_time": "2021-12-09T13:58:39.141Z"
   },
   {
    "duration": 21,
    "start_time": "2021-12-09T13:58:39.167Z"
   },
   {
    "duration": 34,
    "start_time": "2021-12-09T13:58:39.190Z"
   },
   {
    "duration": 14,
    "start_time": "2021-12-09T13:58:39.227Z"
   },
   {
    "duration": 11,
    "start_time": "2021-12-09T13:58:39.244Z"
   },
   {
    "duration": 22,
    "start_time": "2021-12-09T13:58:39.257Z"
   },
   {
    "duration": 77,
    "start_time": "2021-12-09T13:58:39.281Z"
   },
   {
    "duration": 10,
    "start_time": "2021-12-09T13:58:39.361Z"
   },
   {
    "duration": 11,
    "start_time": "2021-12-09T13:58:39.373Z"
   },
   {
    "duration": 36,
    "start_time": "2021-12-09T13:58:39.387Z"
   },
   {
    "duration": 7,
    "start_time": "2021-12-09T13:58:39.430Z"
   },
   {
    "duration": 628,
    "start_time": "2021-12-09T13:58:39.440Z"
   },
   {
    "duration": 8,
    "start_time": "2021-12-09T13:58:40.071Z"
   },
   {
    "duration": 10,
    "start_time": "2021-12-09T13:58:40.082Z"
   },
   {
    "duration": 29,
    "start_time": "2021-12-09T13:58:40.094Z"
   },
   {
    "duration": 14,
    "start_time": "2021-12-09T13:58:40.126Z"
   },
   {
    "duration": 9,
    "start_time": "2021-12-09T13:58:40.143Z"
   },
   {
    "duration": 4876,
    "start_time": "2021-12-09T13:58:40.155Z"
   },
   {
    "duration": 23,
    "start_time": "2021-12-09T13:58:45.034Z"
   },
   {
    "duration": 25,
    "start_time": "2021-12-09T13:58:45.059Z"
   },
   {
    "duration": 406,
    "start_time": "2021-12-09T13:58:45.087Z"
   },
   {
    "duration": 43,
    "start_time": "2021-12-09T13:58:45.496Z"
   },
   {
    "duration": 22,
    "start_time": "2021-12-09T13:58:45.542Z"
   },
   {
    "duration": 16,
    "start_time": "2021-12-09T13:58:45.567Z"
   },
   {
    "duration": 730,
    "start_time": "2021-12-09T13:58:45.585Z"
   },
   {
    "duration": 35,
    "start_time": "2021-12-09T13:58:46.318Z"
   },
   {
    "duration": 27,
    "start_time": "2021-12-09T13:58:46.356Z"
   },
   {
    "duration": 60,
    "start_time": "2021-12-09T13:58:46.386Z"
   },
   {
    "duration": 31,
    "start_time": "2021-12-09T13:58:46.449Z"
   },
   {
    "duration": 348,
    "start_time": "2021-12-11T17:24:40.542Z"
   },
   {
    "duration": 957,
    "start_time": "2021-12-11T17:24:47.894Z"
   },
   {
    "duration": 112,
    "start_time": "2021-12-11T17:24:48.853Z"
   },
   {
    "duration": 12,
    "start_time": "2021-12-11T17:24:48.968Z"
   },
   {
    "duration": 39,
    "start_time": "2021-12-11T17:24:48.983Z"
   },
   {
    "duration": 10,
    "start_time": "2021-12-11T17:24:49.025Z"
   },
   {
    "duration": 8,
    "start_time": "2021-12-11T17:24:49.037Z"
   },
   {
    "duration": 4,
    "start_time": "2021-12-11T17:24:49.048Z"
   },
   {
    "duration": 13,
    "start_time": "2021-12-11T17:24:49.056Z"
   },
   {
    "duration": 64,
    "start_time": "2021-12-11T17:24:49.072Z"
   },
   {
    "duration": 6,
    "start_time": "2021-12-11T17:24:49.138Z"
   },
   {
    "duration": 32,
    "start_time": "2021-12-11T17:24:49.147Z"
   },
   {
    "duration": 55,
    "start_time": "2021-12-11T17:24:49.181Z"
   },
   {
    "duration": 25,
    "start_time": "2021-12-11T17:24:49.238Z"
   },
   {
    "duration": 53,
    "start_time": "2021-12-11T17:24:49.265Z"
   },
   {
    "duration": 6,
    "start_time": "2021-12-11T17:24:49.321Z"
   },
   {
    "duration": 18,
    "start_time": "2021-12-11T17:24:49.329Z"
   },
   {
    "duration": 12,
    "start_time": "2021-12-11T17:24:49.350Z"
   },
   {
    "duration": 22,
    "start_time": "2021-12-11T17:24:49.364Z"
   },
   {
    "duration": 49,
    "start_time": "2021-12-11T17:24:49.418Z"
   },
   {
    "duration": 7,
    "start_time": "2021-12-11T17:24:49.469Z"
   },
   {
    "duration": 42,
    "start_time": "2021-12-11T17:24:49.479Z"
   },
   {
    "duration": 10,
    "start_time": "2021-12-11T17:24:49.524Z"
   },
   {
    "duration": 8,
    "start_time": "2021-12-11T17:24:49.539Z"
   },
   {
    "duration": 694,
    "start_time": "2021-12-11T17:24:49.549Z"
   },
   {
    "duration": 7,
    "start_time": "2021-12-11T17:24:50.246Z"
   },
   {
    "duration": 9,
    "start_time": "2021-12-11T17:24:50.255Z"
   },
   {
    "duration": 9,
    "start_time": "2021-12-11T17:24:50.266Z"
   },
   {
    "duration": 40,
    "start_time": "2021-12-11T17:24:50.279Z"
   },
   {
    "duration": 11,
    "start_time": "2021-12-11T17:24:50.321Z"
   },
   {
    "duration": 4502,
    "start_time": "2021-12-11T17:24:50.334Z"
   },
   {
    "duration": 23,
    "start_time": "2021-12-11T17:24:54.838Z"
   },
   {
    "duration": 21,
    "start_time": "2021-12-11T17:24:54.863Z"
   },
   {
    "duration": 419,
    "start_time": "2021-12-11T17:24:54.886Z"
   },
   {
    "duration": 38,
    "start_time": "2021-12-11T17:24:55.307Z"
   },
   {
    "duration": 21,
    "start_time": "2021-12-11T17:24:55.347Z"
   },
   {
    "duration": 14,
    "start_time": "2021-12-11T17:24:55.370Z"
   },
   {
    "duration": 846,
    "start_time": "2021-12-11T17:24:55.387Z"
   },
   {
    "duration": 38,
    "start_time": "2021-12-11T17:24:56.237Z"
   },
   {
    "duration": 56,
    "start_time": "2021-12-11T17:24:56.278Z"
   },
   {
    "duration": 33,
    "start_time": "2021-12-11T17:24:56.337Z"
   },
   {
    "duration": 54,
    "start_time": "2021-12-11T17:24:56.372Z"
   }
  ],
  "kernelspec": {
   "display_name": "Python 3.9.13 64-bit (microsoft store)",
   "language": "python",
   "name": "python3"
  },
  "language_info": {
   "codemirror_mode": {
    "name": "ipython",
    "version": 3
   },
   "file_extension": ".py",
   "mimetype": "text/x-python",
   "name": "python",
   "nbconvert_exporter": "python",
   "pygments_lexer": "ipython3",
   "version": "3.9.13"
  },
  "toc": {
   "base_numbering": 1,
   "nav_menu": {},
   "number_sections": true,
   "sideBar": true,
   "skip_h1_title": true,
   "title_cell": "Table of Contents",
   "title_sidebar": "Contents",
   "toc_cell": false,
   "toc_position": {
    "height": "calc(100% - 180px)",
    "left": "10px",
    "top": "150px",
    "width": "308.972px"
   },
   "toc_section_display": true,
   "toc_window_display": false
  },
  "vscode": {
   "interpreter": {
    "hash": "e2208fcb8724de8f0b9bef5a592b0e7a5d66357b4ba152f416d4bfe016d4568d"
   }
  }
 },
 "nbformat": 4,
 "nbformat_minor": 2
}
