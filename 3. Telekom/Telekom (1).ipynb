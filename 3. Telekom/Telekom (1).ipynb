{
 "cells": [
  {
   "cell_type": "markdown",
   "id": "df2acc33",
   "metadata": {},
   "source": [
    "# Телеком — задача проекта\n",
    "\n",
    "Оператор связи «Ниединогоразрыва.ком» хочет научиться прогнозировать отток клиентов. Если выяснится, что пользователь планирует уйти, ему будут предложены промокоды и специальные условия. Команда оператора собрала персональные данные о некоторых клиентах, информацию об их тарифах и договорах."
   ]
  },
  {
   "cell_type": "markdown",
   "id": "13da262c",
   "metadata": {},
   "source": [
    "## Описание данных"
   ]
  },
  {
   "cell_type": "markdown",
   "id": "094809b2",
   "metadata": {},
   "source": [
    "**Таблица contract (информация о договорах):**\n",
    "\n",
    "- *customerID* - код клиента\n",
    "- *BeginDate* - дата заключения договора\n",
    "- *EndDate* - дата закрытия договора\n",
    "- *Type* - тип договора\n",
    "- *PaperlessBilling* - безбумажное выставление счетов\n",
    "- *PaymentMethod* - способ оплаты\n",
    "- *MonthlyCharges* - ежемесячный платеж\n",
    "- *TotalCharges* - все платежи\n",
    "\n",
    "**Таблица internet (информация об услуге интернет):**\n",
    "\n",
    "- *customerID* - код клиента\n",
    "- *InternetService* - тип подключения\n",
    "- *OnlineSecurity* - блокировка небезопасных сайтов \n",
    "- *OnlineBackup* - Облачное хранилище файлов для резервного копирования данных \n",
    "- *DeviceProtection* - антивирус\n",
    "- *TechSupport* - Выделенная линия технической поддержки\n",
    "- *StreamingTV* - Стриминговое телевидение\n",
    "- *StreamingMovies* - Каталог фильмов\n",
    "\n",
    "**Таблица phone (информация об услуге телефонии):**\n",
    "\n",
    "- *customerID* - код клиента\n",
    "- *MultipleLines* - несколько линий \n",
    "\n",
    "**Таблица personal (информация о клиенте):**\n",
    "\n",
    "- *customerID* - код клиента\n",
    "- *gender* - пол клиента\n",
    "- *SeniorCitizen* - наличие пенсии\n",
    "- *Partner* - наличие партнера у  клиента\n",
    "- *Dependents* - наличие иждивенцев у  клиента"
   ]
  },
  {
   "cell_type": "markdown",
   "id": "7754674c",
   "metadata": {},
   "source": [
    "## Описание услуг\n",
    "\n",
    "Оператор предоставляет два основных типа услуг: \n",
    "\n",
    "1. Стационарную телефонную связь. Возможно подключение телефонного аппарата к нескольким линиям одновременно.\n",
    "2. Интернет. Подключение может быть двух типов: через телефонную линию (DSL*,* от англ. *digital subscriber line*, «цифровая абонентская линия») или оптоволоконный кабель (*Fiber optic*).  \n",
    "\n",
    "Также доступны такие услуги:\n",
    "\n",
    "- Интернет-безопасность: антивирус (*DeviceProtection*) и блокировка небезопасных сайтов (*OnlineSecurity*);\n",
    "- Выделенная линия технической поддержки (*TechSupport*);\n",
    "- Облачное хранилище файлов для резервного копирования данных (*OnlineBackup*);\n",
    "- Стриминговое телевидение (*StreamingTV*) и каталог фильмов (*StreamingMovies*).\n",
    "\n",
    "За услуги клиенты могут платить каждый месяц или заключить договор на 1–2 года. Доступны различные способы расчёта и возможность получения электронного чека."
   ]
  },
  {
   "cell_type": "markdown",
   "id": "765216cc",
   "metadata": {},
   "source": [
    "## План"
   ]
  },
  {
   "cell_type": "markdown",
   "id": "5356149d",
   "metadata": {},
   "source": [
    "**1. Исследовательский анализ данных**\n",
    "- просмотр данных\n",
    "- определение типов данных\n",
    "- обнаружение дубликатов \n",
    "- обнаружение пропущенных значений\n",
    "- выявление аномалий и закономерностей\n",
    "- исследование оттока клиентов\n",
    "- написание вывода\n",
    "\n",
    "**2. Подготовка данных для обучения**\n",
    "\n",
    "- заполнение пропущенных значений\n",
    "- приведение к необходимому типу данных \n",
    "- кодирование данных\n",
    "- масштабирование данных \n",
    "- разделение данных на выборки \n",
    "- написание вывода\n",
    "\n",
    "**3. Обучение модели**\n",
    "\n",
    "- создание нескольких моделей классификации\n",
    "- подбор параметров\n",
    "- тестирование модели\n",
    "- написание вывода\n",
    "\n",
    "**4. Итоговой вывод**"
   ]
  },
  {
   "cell_type": "markdown",
   "id": "ce4c65b5",
   "metadata": {},
   "source": [
    "# 1. Исследовательский анализ данных "
   ]
  },
  {
   "cell_type": "markdown",
   "id": "ab036733",
   "metadata": {},
   "source": [
    "На данном этапе изучим предоставленные данные. Посмотрим пропущенные значения и типы данных. Также исследуем причины оттока клиентов. Выясним почему клиенты уходят."
   ]
  },
  {
   "cell_type": "markdown",
   "id": "aa0c6abc",
   "metadata": {},
   "source": [
    "Импортируем для начала основные библиотеки."
   ]
  },
  {
   "cell_type": "code",
   "execution_count": 1,
   "id": "8e7c864e",
   "metadata": {},
   "outputs": [],
   "source": [
    "import pandas as pd\n",
    "import matplotlib.pyplot as plt\n",
    "import numpy as np\n",
    "from sklearn.model_selection import train_test_split\n",
    "from sklearn.preprocessing import StandardScaler \n",
    "from sklearn.linear_model import LogisticRegression, SGDClassifier\n",
    "from sklearn.tree import DecisionTreeClassifier\n",
    "from sklearn.ensemble import RandomForestClassifier\n",
    "from sklearn.metrics import roc_auc_score\n",
    "from sklearn.model_selection import GridSearchCV\n",
    "from sklearn.metrics import accuracy_score\n",
    "from sklearn.utils import shuffle\n",
    "from catboost import CatBoostClassifier\n",
    "from lightgbm import LGBMClassifier \n",
    "from sklearn import svm\n",
    "import warnings\n",
    "warnings.filterwarnings('ignore')\n",
    "import time\n",
    "pd.set_option('display.float_format', '{:.2f}'.format)"
   ]
  },
  {
   "cell_type": "code",
   "execution_count": 2,
   "id": "15bd9dc4",
   "metadata": {},
   "outputs": [
    {
     "name": "stdout",
     "output_type": "stream",
     "text": [
      "Requirement already satisfied: lightgbm in c:\\miniconda\\lib\\site-packages (3.3.2)\n",
      "Requirement already satisfied: wheel in c:\\miniconda\\lib\\site-packages (from lightgbm) (0.36.2)\n",
      "Requirement already satisfied: scipy in c:\\miniconda\\lib\\site-packages (from lightgbm) (1.7.1)\n",
      "Requirement already satisfied: scikit-learn!=0.22.0 in c:\\miniconda\\lib\\site-packages (from lightgbm) (1.0.1)\n",
      "Requirement already satisfied: numpy in c:\\miniconda\\lib\\site-packages (from lightgbm) (1.21.3)\n",
      "Requirement already satisfied: joblib>=0.11 in c:\\miniconda\\lib\\site-packages (from scikit-learn!=0.22.0->lightgbm) (1.0.1)\n",
      "Requirement already satisfied: threadpoolctl>=2.0.0 in c:\\miniconda\\lib\\site-packages (from scikit-learn!=0.22.0->lightgbm) (3.0.0)\n"
     ]
    },
    {
     "name": "stderr",
     "output_type": "stream",
     "text": [
      "WARNING: Ignoring invalid distribution -torch (c:\\miniconda\\lib\\site-packages)\n",
      "WARNING: Ignoring invalid distribution -torch (c:\\miniconda\\lib\\site-packages)\n",
      "WARNING: You are using pip version 22.0.4; however, version 22.1.2 is available.\n",
      "You should consider upgrading via the 'c:\\miniconda\\python.exe -m pip install --upgrade pip' command.\n"
     ]
    }
   ],
   "source": [
    "!pip install lightgbm"
   ]
  },
  {
   "cell_type": "markdown",
   "id": "a67ef8a6",
   "metadata": {},
   "source": [
    "Прочитаем и изучим датасеты."
   ]
  },
  {
   "cell_type": "code",
   "execution_count": 3,
   "id": "0e08084d",
   "metadata": {},
   "outputs": [],
   "source": [
    "contract = pd.read_csv('contract.csv')"
   ]
  },
  {
   "cell_type": "code",
   "execution_count": 4,
   "id": "778ac35d",
   "metadata": {},
   "outputs": [],
   "source": [
    "internet = pd.read_csv('internet.csv')"
   ]
  },
  {
   "cell_type": "code",
   "execution_count": 5,
   "id": "96280e84",
   "metadata": {},
   "outputs": [],
   "source": [
    "personal = pd.read_csv('personal.csv')"
   ]
  },
  {
   "cell_type": "code",
   "execution_count": 6,
   "id": "afd92d66",
   "metadata": {},
   "outputs": [],
   "source": [
    "phone = pd.read_csv('phone.csv')"
   ]
  },
  {
   "cell_type": "code",
   "execution_count": 7,
   "id": "ad0b4056",
   "metadata": {},
   "outputs": [
    {
     "data": {
      "text/html": [
       "<div>\n",
       "<style scoped>\n",
       "    .dataframe tbody tr th:only-of-type {\n",
       "        vertical-align: middle;\n",
       "    }\n",
       "\n",
       "    .dataframe tbody tr th {\n",
       "        vertical-align: top;\n",
       "    }\n",
       "\n",
       "    .dataframe thead th {\n",
       "        text-align: right;\n",
       "    }\n",
       "</style>\n",
       "<table border=\"1\" class=\"dataframe\">\n",
       "  <thead>\n",
       "    <tr style=\"text-align: right;\">\n",
       "      <th></th>\n",
       "      <th>customerID</th>\n",
       "      <th>BeginDate</th>\n",
       "      <th>EndDate</th>\n",
       "      <th>Type</th>\n",
       "      <th>PaperlessBilling</th>\n",
       "      <th>PaymentMethod</th>\n",
       "      <th>MonthlyCharges</th>\n",
       "      <th>TotalCharges</th>\n",
       "    </tr>\n",
       "  </thead>\n",
       "  <tbody>\n",
       "    <tr>\n",
       "      <th>0</th>\n",
       "      <td>7590-VHVEG</td>\n",
       "      <td>2020-01-01</td>\n",
       "      <td>No</td>\n",
       "      <td>Month-to-month</td>\n",
       "      <td>Yes</td>\n",
       "      <td>Electronic check</td>\n",
       "      <td>29.85</td>\n",
       "      <td>29.85</td>\n",
       "    </tr>\n",
       "    <tr>\n",
       "      <th>1</th>\n",
       "      <td>5575-GNVDE</td>\n",
       "      <td>2017-04-01</td>\n",
       "      <td>No</td>\n",
       "      <td>One year</td>\n",
       "      <td>No</td>\n",
       "      <td>Mailed check</td>\n",
       "      <td>56.95</td>\n",
       "      <td>1889.5</td>\n",
       "    </tr>\n",
       "    <tr>\n",
       "      <th>2</th>\n",
       "      <td>3668-QPYBK</td>\n",
       "      <td>2019-10-01</td>\n",
       "      <td>2019-12-01 00:00:00</td>\n",
       "      <td>Month-to-month</td>\n",
       "      <td>Yes</td>\n",
       "      <td>Mailed check</td>\n",
       "      <td>53.85</td>\n",
       "      <td>108.15</td>\n",
       "    </tr>\n",
       "    <tr>\n",
       "      <th>3</th>\n",
       "      <td>7795-CFOCW</td>\n",
       "      <td>2016-05-01</td>\n",
       "      <td>No</td>\n",
       "      <td>One year</td>\n",
       "      <td>No</td>\n",
       "      <td>Bank transfer (automatic)</td>\n",
       "      <td>42.30</td>\n",
       "      <td>1840.75</td>\n",
       "    </tr>\n",
       "    <tr>\n",
       "      <th>4</th>\n",
       "      <td>9237-HQITU</td>\n",
       "      <td>2019-09-01</td>\n",
       "      <td>2019-11-01 00:00:00</td>\n",
       "      <td>Month-to-month</td>\n",
       "      <td>Yes</td>\n",
       "      <td>Electronic check</td>\n",
       "      <td>70.70</td>\n",
       "      <td>151.65</td>\n",
       "    </tr>\n",
       "  </tbody>\n",
       "</table>\n",
       "</div>"
      ],
      "text/plain": [
       "   customerID   BeginDate              EndDate            Type  \\\n",
       "0  7590-VHVEG  2020-01-01                   No  Month-to-month   \n",
       "1  5575-GNVDE  2017-04-01                   No        One year   \n",
       "2  3668-QPYBK  2019-10-01  2019-12-01 00:00:00  Month-to-month   \n",
       "3  7795-CFOCW  2016-05-01                   No        One year   \n",
       "4  9237-HQITU  2019-09-01  2019-11-01 00:00:00  Month-to-month   \n",
       "\n",
       "  PaperlessBilling              PaymentMethod  MonthlyCharges TotalCharges  \n",
       "0              Yes           Electronic check           29.85        29.85  \n",
       "1               No               Mailed check           56.95       1889.5  \n",
       "2              Yes               Mailed check           53.85       108.15  \n",
       "3               No  Bank transfer (automatic)           42.30      1840.75  \n",
       "4              Yes           Electronic check           70.70       151.65  "
      ]
     },
     "execution_count": 7,
     "metadata": {},
     "output_type": "execute_result"
    }
   ],
   "source": [
    "contract.head()"
   ]
  },
  {
   "cell_type": "code",
   "execution_count": 8,
   "id": "63d0955a",
   "metadata": {
    "scrolled": true
   },
   "outputs": [
    {
     "data": {
      "text/html": [
       "<div>\n",
       "<style scoped>\n",
       "    .dataframe tbody tr th:only-of-type {\n",
       "        vertical-align: middle;\n",
       "    }\n",
       "\n",
       "    .dataframe tbody tr th {\n",
       "        vertical-align: top;\n",
       "    }\n",
       "\n",
       "    .dataframe thead th {\n",
       "        text-align: right;\n",
       "    }\n",
       "</style>\n",
       "<table border=\"1\" class=\"dataframe\">\n",
       "  <thead>\n",
       "    <tr style=\"text-align: right;\">\n",
       "      <th></th>\n",
       "      <th>customerID</th>\n",
       "      <th>InternetService</th>\n",
       "      <th>OnlineSecurity</th>\n",
       "      <th>OnlineBackup</th>\n",
       "      <th>DeviceProtection</th>\n",
       "      <th>TechSupport</th>\n",
       "      <th>StreamingTV</th>\n",
       "      <th>StreamingMovies</th>\n",
       "    </tr>\n",
       "  </thead>\n",
       "  <tbody>\n",
       "    <tr>\n",
       "      <th>0</th>\n",
       "      <td>7590-VHVEG</td>\n",
       "      <td>DSL</td>\n",
       "      <td>No</td>\n",
       "      <td>Yes</td>\n",
       "      <td>No</td>\n",
       "      <td>No</td>\n",
       "      <td>No</td>\n",
       "      <td>No</td>\n",
       "    </tr>\n",
       "    <tr>\n",
       "      <th>1</th>\n",
       "      <td>5575-GNVDE</td>\n",
       "      <td>DSL</td>\n",
       "      <td>Yes</td>\n",
       "      <td>No</td>\n",
       "      <td>Yes</td>\n",
       "      <td>No</td>\n",
       "      <td>No</td>\n",
       "      <td>No</td>\n",
       "    </tr>\n",
       "    <tr>\n",
       "      <th>2</th>\n",
       "      <td>3668-QPYBK</td>\n",
       "      <td>DSL</td>\n",
       "      <td>Yes</td>\n",
       "      <td>Yes</td>\n",
       "      <td>No</td>\n",
       "      <td>No</td>\n",
       "      <td>No</td>\n",
       "      <td>No</td>\n",
       "    </tr>\n",
       "    <tr>\n",
       "      <th>3</th>\n",
       "      <td>7795-CFOCW</td>\n",
       "      <td>DSL</td>\n",
       "      <td>Yes</td>\n",
       "      <td>No</td>\n",
       "      <td>Yes</td>\n",
       "      <td>Yes</td>\n",
       "      <td>No</td>\n",
       "      <td>No</td>\n",
       "    </tr>\n",
       "    <tr>\n",
       "      <th>4</th>\n",
       "      <td>9237-HQITU</td>\n",
       "      <td>Fiber optic</td>\n",
       "      <td>No</td>\n",
       "      <td>No</td>\n",
       "      <td>No</td>\n",
       "      <td>No</td>\n",
       "      <td>No</td>\n",
       "      <td>No</td>\n",
       "    </tr>\n",
       "  </tbody>\n",
       "</table>\n",
       "</div>"
      ],
      "text/plain": [
       "   customerID InternetService OnlineSecurity OnlineBackup DeviceProtection  \\\n",
       "0  7590-VHVEG             DSL             No          Yes               No   \n",
       "1  5575-GNVDE             DSL            Yes           No              Yes   \n",
       "2  3668-QPYBK             DSL            Yes          Yes               No   \n",
       "3  7795-CFOCW             DSL            Yes           No              Yes   \n",
       "4  9237-HQITU     Fiber optic             No           No               No   \n",
       "\n",
       "  TechSupport StreamingTV StreamingMovies  \n",
       "0          No          No              No  \n",
       "1          No          No              No  \n",
       "2          No          No              No  \n",
       "3         Yes          No              No  \n",
       "4          No          No              No  "
      ]
     },
     "execution_count": 8,
     "metadata": {},
     "output_type": "execute_result"
    }
   ],
   "source": [
    "internet.head()"
   ]
  },
  {
   "cell_type": "code",
   "execution_count": 9,
   "id": "a2f96a78",
   "metadata": {},
   "outputs": [
    {
     "data": {
      "text/html": [
       "<div>\n",
       "<style scoped>\n",
       "    .dataframe tbody tr th:only-of-type {\n",
       "        vertical-align: middle;\n",
       "    }\n",
       "\n",
       "    .dataframe tbody tr th {\n",
       "        vertical-align: top;\n",
       "    }\n",
       "\n",
       "    .dataframe thead th {\n",
       "        text-align: right;\n",
       "    }\n",
       "</style>\n",
       "<table border=\"1\" class=\"dataframe\">\n",
       "  <thead>\n",
       "    <tr style=\"text-align: right;\">\n",
       "      <th></th>\n",
       "      <th>customerID</th>\n",
       "      <th>gender</th>\n",
       "      <th>SeniorCitizen</th>\n",
       "      <th>Partner</th>\n",
       "      <th>Dependents</th>\n",
       "    </tr>\n",
       "  </thead>\n",
       "  <tbody>\n",
       "    <tr>\n",
       "      <th>0</th>\n",
       "      <td>7590-VHVEG</td>\n",
       "      <td>Female</td>\n",
       "      <td>0</td>\n",
       "      <td>Yes</td>\n",
       "      <td>No</td>\n",
       "    </tr>\n",
       "    <tr>\n",
       "      <th>1</th>\n",
       "      <td>5575-GNVDE</td>\n",
       "      <td>Male</td>\n",
       "      <td>0</td>\n",
       "      <td>No</td>\n",
       "      <td>No</td>\n",
       "    </tr>\n",
       "    <tr>\n",
       "      <th>2</th>\n",
       "      <td>3668-QPYBK</td>\n",
       "      <td>Male</td>\n",
       "      <td>0</td>\n",
       "      <td>No</td>\n",
       "      <td>No</td>\n",
       "    </tr>\n",
       "    <tr>\n",
       "      <th>3</th>\n",
       "      <td>7795-CFOCW</td>\n",
       "      <td>Male</td>\n",
       "      <td>0</td>\n",
       "      <td>No</td>\n",
       "      <td>No</td>\n",
       "    </tr>\n",
       "    <tr>\n",
       "      <th>4</th>\n",
       "      <td>9237-HQITU</td>\n",
       "      <td>Female</td>\n",
       "      <td>0</td>\n",
       "      <td>No</td>\n",
       "      <td>No</td>\n",
       "    </tr>\n",
       "  </tbody>\n",
       "</table>\n",
       "</div>"
      ],
      "text/plain": [
       "   customerID  gender  SeniorCitizen Partner Dependents\n",
       "0  7590-VHVEG  Female              0     Yes         No\n",
       "1  5575-GNVDE    Male              0      No         No\n",
       "2  3668-QPYBK    Male              0      No         No\n",
       "3  7795-CFOCW    Male              0      No         No\n",
       "4  9237-HQITU  Female              0      No         No"
      ]
     },
     "execution_count": 9,
     "metadata": {},
     "output_type": "execute_result"
    }
   ],
   "source": [
    "personal.head()"
   ]
  },
  {
   "cell_type": "code",
   "execution_count": 10,
   "id": "aaba0b50",
   "metadata": {},
   "outputs": [
    {
     "data": {
      "text/html": [
       "<div>\n",
       "<style scoped>\n",
       "    .dataframe tbody tr th:only-of-type {\n",
       "        vertical-align: middle;\n",
       "    }\n",
       "\n",
       "    .dataframe tbody tr th {\n",
       "        vertical-align: top;\n",
       "    }\n",
       "\n",
       "    .dataframe thead th {\n",
       "        text-align: right;\n",
       "    }\n",
       "</style>\n",
       "<table border=\"1\" class=\"dataframe\">\n",
       "  <thead>\n",
       "    <tr style=\"text-align: right;\">\n",
       "      <th></th>\n",
       "      <th>customerID</th>\n",
       "      <th>MultipleLines</th>\n",
       "    </tr>\n",
       "  </thead>\n",
       "  <tbody>\n",
       "    <tr>\n",
       "      <th>0</th>\n",
       "      <td>5575-GNVDE</td>\n",
       "      <td>No</td>\n",
       "    </tr>\n",
       "    <tr>\n",
       "      <th>1</th>\n",
       "      <td>3668-QPYBK</td>\n",
       "      <td>No</td>\n",
       "    </tr>\n",
       "    <tr>\n",
       "      <th>2</th>\n",
       "      <td>9237-HQITU</td>\n",
       "      <td>No</td>\n",
       "    </tr>\n",
       "    <tr>\n",
       "      <th>3</th>\n",
       "      <td>9305-CDSKC</td>\n",
       "      <td>Yes</td>\n",
       "    </tr>\n",
       "    <tr>\n",
       "      <th>4</th>\n",
       "      <td>1452-KIOVK</td>\n",
       "      <td>Yes</td>\n",
       "    </tr>\n",
       "  </tbody>\n",
       "</table>\n",
       "</div>"
      ],
      "text/plain": [
       "   customerID MultipleLines\n",
       "0  5575-GNVDE            No\n",
       "1  3668-QPYBK            No\n",
       "2  9237-HQITU            No\n",
       "3  9305-CDSKC           Yes\n",
       "4  1452-KIOVK           Yes"
      ]
     },
     "execution_count": 10,
     "metadata": {},
     "output_type": "execute_result"
    }
   ],
   "source": [
    "phone.head()"
   ]
  },
  {
   "cell_type": "markdown",
   "id": "b93e739e",
   "metadata": {},
   "source": [
    "Изучим общую информацию о данных."
   ]
  },
  {
   "cell_type": "code",
   "execution_count": 11,
   "id": "cd47f7de",
   "metadata": {},
   "outputs": [
    {
     "name": "stdout",
     "output_type": "stream",
     "text": [
      "<class 'pandas.core.frame.DataFrame'>\n",
      "RangeIndex: 7043 entries, 0 to 7042\n",
      "Data columns (total 8 columns):\n",
      " #   Column            Non-Null Count  Dtype  \n",
      "---  ------            --------------  -----  \n",
      " 0   customerID        7043 non-null   object \n",
      " 1   BeginDate         7043 non-null   object \n",
      " 2   EndDate           7043 non-null   object \n",
      " 3   Type              7043 non-null   object \n",
      " 4   PaperlessBilling  7043 non-null   object \n",
      " 5   PaymentMethod     7043 non-null   object \n",
      " 6   MonthlyCharges    7043 non-null   float64\n",
      " 7   TotalCharges      7043 non-null   object \n",
      "dtypes: float64(1), object(7)\n",
      "memory usage: 440.3+ KB\n"
     ]
    }
   ],
   "source": [
    "contract.info()"
   ]
  },
  {
   "cell_type": "markdown",
   "id": "59926d7f",
   "metadata": {},
   "source": [
    "Столбец TotalCharges с типом данных object необходимо привести к float64. \n",
    "\n",
    "Изучим информацию о таблице internet."
   ]
  },
  {
   "cell_type": "code",
   "execution_count": 12,
   "id": "22d26419",
   "metadata": {},
   "outputs": [
    {
     "name": "stdout",
     "output_type": "stream",
     "text": [
      "<class 'pandas.core.frame.DataFrame'>\n",
      "RangeIndex: 5517 entries, 0 to 5516\n",
      "Data columns (total 8 columns):\n",
      " #   Column            Non-Null Count  Dtype \n",
      "---  ------            --------------  ----- \n",
      " 0   customerID        5517 non-null   object\n",
      " 1   InternetService   5517 non-null   object\n",
      " 2   OnlineSecurity    5517 non-null   object\n",
      " 3   OnlineBackup      5517 non-null   object\n",
      " 4   DeviceProtection  5517 non-null   object\n",
      " 5   TechSupport       5517 non-null   object\n",
      " 6   StreamingTV       5517 non-null   object\n",
      " 7   StreamingMovies   5517 non-null   object\n",
      "dtypes: object(8)\n",
      "memory usage: 344.9+ KB\n"
     ]
    }
   ],
   "source": [
    "internet.info()"
   ]
  },
  {
   "cell_type": "markdown",
   "id": "d6d03566",
   "metadata": {},
   "source": [
    "Пропущенных значений нет, типы данных соответствуют. Изучим информацию о таблице personal."
   ]
  },
  {
   "cell_type": "code",
   "execution_count": 13,
   "id": "c78b2fce",
   "metadata": {},
   "outputs": [
    {
     "name": "stdout",
     "output_type": "stream",
     "text": [
      "<class 'pandas.core.frame.DataFrame'>\n",
      "RangeIndex: 7043 entries, 0 to 7042\n",
      "Data columns (total 5 columns):\n",
      " #   Column         Non-Null Count  Dtype \n",
      "---  ------         --------------  ----- \n",
      " 0   customerID     7043 non-null   object\n",
      " 1   gender         7043 non-null   object\n",
      " 2   SeniorCitizen  7043 non-null   int64 \n",
      " 3   Partner        7043 non-null   object\n",
      " 4   Dependents     7043 non-null   object\n",
      "dtypes: int64(1), object(4)\n",
      "memory usage: 275.2+ KB\n"
     ]
    }
   ],
   "source": [
    "personal.info()"
   ]
  },
  {
   "cell_type": "markdown",
   "id": "dd4a973b",
   "metadata": {},
   "source": [
    "Пропущенных значений нет, типы данных соответствуют. Изучим информацию о таблице phone."
   ]
  },
  {
   "cell_type": "code",
   "execution_count": 14,
   "id": "ef0a6f9f",
   "metadata": {},
   "outputs": [
    {
     "name": "stdout",
     "output_type": "stream",
     "text": [
      "<class 'pandas.core.frame.DataFrame'>\n",
      "RangeIndex: 6361 entries, 0 to 6360\n",
      "Data columns (total 2 columns):\n",
      " #   Column         Non-Null Count  Dtype \n",
      "---  ------         --------------  ----- \n",
      " 0   customerID     6361 non-null   object\n",
      " 1   MultipleLines  6361 non-null   object\n",
      "dtypes: object(2)\n",
      "memory usage: 99.5+ KB\n"
     ]
    }
   ],
   "source": [
    "phone.info()"
   ]
  },
  {
   "cell_type": "markdown",
   "id": "4e001339",
   "metadata": {},
   "source": [
    "Пропущенных значений нет, типы данных соответствуют."
   ]
  },
  {
   "cell_type": "markdown",
   "id": "d21a1007",
   "metadata": {},
   "source": [
    "## Исследование оттока клиентов."
   ]
  },
  {
   "cell_type": "markdown",
   "id": "f67c2a07",
   "metadata": {},
   "source": [
    "Сравним распределения величин ежемесячных платежей (MonthlyCharges) всех клиентов и тех, кто ушёл."
   ]
  },
  {
   "cell_type": "code",
   "execution_count": 15,
   "id": "4b0d940b",
   "metadata": {},
   "outputs": [
    {
     "data": {
      "image/png": "[encoded data removed]",
      "text/plain": [
       "<Figure size 432x288 with 1 Axes>"
      ]
     },
     "metadata": {
      "needs_background": "light"
     },
     "output_type": "display_data"
    }
   ],
   "source": [
    "contract['MonthlyCharges'].hist()\n",
    "plt.show()"
   ]
  },
  {
   "cell_type": "markdown",
   "id": "759cc105",
   "metadata": {},
   "source": [
    "По графику видно, что большая часть клиентов пользуется выгодным тарифом. Посмотрим распределение всех платежей."
   ]
  },
  {
   "cell_type": "code",
   "execution_count": 84,
   "id": "81b66dc1",
   "metadata": {},
   "outputs": [
    {
     "data": {
      "image/png": "[encoded data removed]",
      "text/plain": [
       "<Figure size 432x288 with 1 Axes>"
      ]
     },
     "metadata": {
      "needs_background": "light"
     },
     "output_type": "display_data"
    }
   ],
   "source": [
    "contract['TotalCharges'].hist()\n",
    "plt.show()"
   ]
  },
  {
   "cell_type": "markdown",
   "id": "4c0ccd7c",
   "metadata": {},
   "source": [
    "По распределению обнаруживаем, что у телеоператора много новых клиентов. Изучим распределение ушедших клиентов."
   ]
  },
  {
   "cell_type": "code",
   "execution_count": 17,
   "id": "6a199003",
   "metadata": {},
   "outputs": [
    {
     "data": {
      "image/png": "[encoded data removed]",
      "text/plain": [
       "<Figure size 432x288 with 1 Axes>"
      ]
     },
     "metadata": {
      "needs_background": "light"
     },
     "output_type": "display_data"
    }
   ],
   "source": [
    "contract[contract['EndDate']!='No']['MonthlyCharges'].hist()\n",
    "plt.show()"
   ]
  },
  {
   "cell_type": "markdown",
   "id": "34e18f4d",
   "metadata": {},
   "source": [
    "По распределению ушедших клиентов видно, что график смещен влево. Ушедшие клиенты хорошо платили. Потвердим данные статистикой."
   ]
  },
  {
   "cell_type": "code",
   "execution_count": 18,
   "id": "07add4be",
   "metadata": {},
   "outputs": [
    {
     "name": "stdout",
     "output_type": "stream",
     "text": [
      "Описание данных всех клиентов\n",
      "count   7043.00\n",
      "mean      64.76\n",
      "std       30.09\n",
      "min       18.25\n",
      "25%       35.50\n",
      "50%       70.35\n",
      "75%       89.85\n",
      "max      118.75\n",
      "Name: MonthlyCharges, dtype: float64\n",
      "\n",
      "Описание данных ушедших клиентов\n",
      "count   1869.00\n",
      "mean      74.44\n",
      "std       24.67\n",
      "min       18.85\n",
      "25%       56.15\n",
      "50%       79.65\n",
      "75%       94.20\n",
      "max      118.35\n",
      "Name: MonthlyCharges, dtype: float64\n"
     ]
    }
   ],
   "source": [
    "print(\"Описание данных всех клиентов\")\n",
    "print(contract['MonthlyCharges'].describe())\n",
    "print(\"\")\n",
    "print(\"Описание данных ушедших клиентов\")\n",
    "print(contract[contract['EndDate']!='No']['MonthlyCharges'].describe())"
   ]
  },
  {
   "cell_type": "markdown",
   "id": "a42111fc",
   "metadata": {},
   "source": [
    "Видим, что медиана и среднее у ушедших клиентов больше. Сравним поведение клиентов этих двух групп. Посмотрим долю пользователей телефонной связи.Объединим таблицы contract и internet."
   ]
  },
  {
   "cell_type": "code",
   "execution_count": 19,
   "id": "181e22a1",
   "metadata": {},
   "outputs": [],
   "source": [
    "contract_internet = contract.merge(internet, on='customerID')"
   ]
  },
  {
   "cell_type": "markdown",
   "id": "2d234a1c",
   "metadata": {},
   "source": [
    "Посмотрим ежемесячные расходы клиентов на интернет всех клиентов."
   ]
  },
  {
   "cell_type": "code",
   "execution_count": 20,
   "id": "4fd993e0",
   "metadata": {},
   "outputs": [
    {
     "data": {
      "image/png": "[encoded data removed]",
      "text/plain": [
       "<Figure size 432x288 with 1 Axes>"
      ]
     },
     "metadata": {
      "needs_background": "light"
     },
     "output_type": "display_data"
    }
   ],
   "source": [
    "contract_internet['MonthlyCharges'].hist()\n",
    "plt.show()"
   ]
  },
  {
   "cell_type": "markdown",
   "id": "00f21888",
   "metadata": {},
   "source": [
    "Посмотрим ежемесячные расходы клиентов на интернет ушедших клиентов."
   ]
  },
  {
   "cell_type": "code",
   "execution_count": 21,
   "id": "91452620",
   "metadata": {},
   "outputs": [
    {
     "data": {
      "image/png": "[encoded data removed]",
      "text/plain": [
       "<Figure size 432x288 with 1 Axes>"
      ]
     },
     "metadata": {
      "needs_background": "light"
     },
     "output_type": "display_data"
    }
   ],
   "source": [
    "contract_internet[contract_internet['EndDate']!='No']['MonthlyCharges'].hist()\n",
    "plt.show()"
   ]
  },
  {
   "cell_type": "markdown",
   "id": "dbb83834",
   "metadata": {},
   "source": [
    "Распределение у графиков нормальное. Графики схожи. Изучим статистику."
   ]
  },
  {
   "cell_type": "code",
   "execution_count": 22,
   "id": "5f19aa1b",
   "metadata": {},
   "outputs": [
    {
     "name": "stdout",
     "output_type": "stream",
     "text": [
      "Описание данных всех клиентов\n",
      "count   5517.00\n",
      "mean      76.84\n",
      "std       21.92\n",
      "min       23.45\n",
      "25%       59.95\n",
      "50%       79.45\n",
      "75%       94.45\n",
      "max      118.75\n",
      "Name: MonthlyCharges, dtype: float64\n",
      "\n",
      "Описание данных ушедших клиентов\n",
      "count   1756.00\n",
      "mean      77.92\n",
      "std       21.14\n",
      "min       23.45\n",
      "25%       69.35\n",
      "50%       80.45\n",
      "75%       94.65\n",
      "max      118.35\n",
      "Name: MonthlyCharges, dtype: float64\n"
     ]
    }
   ],
   "source": [
    "print(\"Описание данных всех клиентов\")\n",
    "print(contract_internet['MonthlyCharges'].describe())\n",
    "print(\"\")\n",
    "print(\"Описание данных ушедших клиентов\")\n",
    "print(contract_internet[contract_internet['EndDate']!='No']['MonthlyCharges'].describe())"
   ]
  },
  {
   "cell_type": "markdown",
   "id": "d7fda6bc",
   "metadata": {},
   "source": [
    "Медиана и среднее значение у всех клиентов и ушедших клиентов почти одинаковы. Значит уход клиентов скорее всего не связан с услугой интернет. Изучим поведение пользователей телефонной связи. Объединим таблицы contract и phone."
   ]
  },
  {
   "cell_type": "code",
   "execution_count": 23,
   "id": "d68e1b83",
   "metadata": {},
   "outputs": [],
   "source": [
    "contract_phone = contract.merge(phone, on='customerID')"
   ]
  },
  {
   "cell_type": "markdown",
   "id": "7c66e8c9",
   "metadata": {},
   "source": [
    "Посмотрим ежемесячные расходы клиентов на телефонию всех клиентов."
   ]
  },
  {
   "cell_type": "code",
   "execution_count": 24,
   "id": "99062bd4",
   "metadata": {},
   "outputs": [
    {
     "data": {
      "image/png": "[encoded data removed]",
      "text/plain": [
       "<Figure size 432x288 with 1 Axes>"
      ]
     },
     "metadata": {
      "needs_background": "light"
     },
     "output_type": "display_data"
    }
   ],
   "source": [
    "contract_phone['MonthlyCharges'].hist()\n",
    "plt.show()"
   ]
  },
  {
   "cell_type": "markdown",
   "id": "eea8f8e7",
   "metadata": {},
   "source": [
    "Посмотрим ежемесячные расходы клиентов на телефонию ушедших клиентов."
   ]
  },
  {
   "cell_type": "code",
   "execution_count": 25,
   "id": "d48bdd41",
   "metadata": {},
   "outputs": [
    {
     "data": {
      "image/png": "[encoded data removed]",
      "text/plain": [
       "<Figure size 432x288 with 1 Axes>"
      ]
     },
     "metadata": {
      "needs_background": "light"
     },
     "output_type": "display_data"
    }
   ],
   "source": [
    "contract_phone[contract_phone['EndDate']!='No']['MonthlyCharges'].hist()\n",
    "plt.show()"
   ]
  },
  {
   "cell_type": "markdown",
   "id": "24513927",
   "metadata": {},
   "source": [
    "По распределению услуг телефонии видно,что \n",
    "- у ушедших клиентов ежемесячный платеж больше, по сравнению со всеми\n",
    "- у многих клиентов низкий платеж\n",
    "- пришло много новых клиентов"
   ]
  },
  {
   "cell_type": "markdown",
   "id": "cd7e3443",
   "metadata": {},
   "source": [
    "Потвердим данные статистикой."
   ]
  },
  {
   "cell_type": "code",
   "execution_count": 26,
   "id": "e9d84262",
   "metadata": {},
   "outputs": [
    {
     "name": "stdout",
     "output_type": "stream",
     "text": [
      "Описание данных всех клиентов\n",
      "count   6361.00\n",
      "mean      67.20\n",
      "std       30.45\n",
      "min       18.25\n",
      "25%       44.75\n",
      "50%       74.70\n",
      "75%       91.25\n",
      "max      118.75\n",
      "Name: MonthlyCharges, dtype: float64\n",
      "\n",
      "Описание данных ушедших клиентов\n",
      "count   1699.00\n",
      "mean      78.13\n",
      "std       22.57\n",
      "min       18.85\n",
      "25%       69.97\n",
      "50%       80.95\n",
      "75%       94.85\n",
      "max      118.35\n",
      "Name: MonthlyCharges, dtype: float64\n"
     ]
    }
   ],
   "source": [
    "print(\"Описание данных всех клиентов\")\n",
    "print(contract_phone['MonthlyCharges'].describe())\n",
    "print(\"\")\n",
    "print(\"Описание данных ушедших клиентов\")\n",
    "print(contract_phone[contract_phone['EndDate']!='No']['MonthlyCharges'].describe())"
   ]
  },
  {
   "cell_type": "markdown",
   "id": "09cad6e8",
   "metadata": {},
   "source": [
    "Также видим, что медиана и среднее значение у ушедших клиентов выше по сравнению со всеми клиентами."
   ]
  },
  {
   "cell_type": "markdown",
   "id": "fce84a42",
   "metadata": {},
   "source": [
    "## Вывод"
   ]
  },
  {
   "cell_type": "markdown",
   "id": "b7b9c0b1",
   "metadata": {},
   "source": [
    "На этапе исследовательского анализа данных:\n",
    "- Изучили данные\n",
    "- Изучили пропущенные значения\n",
    "- Определили типы данных.\n"
   ]
  },
  {
   "cell_type": "markdown",
   "id": "0c9291b1",
   "metadata": {},
   "source": [
    "Выявили, что \n",
    "- у ушедших клиентов ежемесячный платеж больше, по сравнению с остальными клиентами\n",
    "- пришло много новых клиентов с низким ежемесячным платежем\n",
    "- на услугу телефонии ежемесячный платеж вырос у постоянных клиентов"
   ]
  },
  {
   "cell_type": "markdown",
   "id": "11ffd01e",
   "metadata": {},
   "source": [
    "Отток клиентов связан скорее всего с подорожанием услуги телефонии для постоянных клиентов. \n",
    "Возможно необходимо предложить постоянным клиентам промокоды и специальные условия на услугу телефонии."
   ]
  },
  {
   "cell_type": "markdown",
   "id": "db2660d2",
   "metadata": {},
   "source": [
    "# 2. Подготовка данных"
   ]
  },
  {
   "cell_type": "markdown",
   "id": "900621e5",
   "metadata": {},
   "source": [
    "На данном этапе подготовим данные для обучения моделей.  Приведем тип данных к float в столбце TotalCharges. Для этого сначала удалим лишние пробелы в таблице."
   ]
  },
  {
   "cell_type": "code",
   "execution_count": 27,
   "id": "c4ba5fee",
   "metadata": {},
   "outputs": [],
   "source": [
    "contract = contract.replace(r'^\\s*$', np.nan, regex=True)"
   ]
  },
  {
   "cell_type": "markdown",
   "id": "5b6f73f0",
   "metadata": {},
   "source": [
    "Теперь Приведем тип данных к float в столбце TotalCharges."
   ]
  },
  {
   "cell_type": "code",
   "execution_count": 28,
   "id": "574a5775",
   "metadata": {},
   "outputs": [],
   "source": [
    "contract['TotalCharges'] = contract['TotalCharges'].astype('float64')"
   ]
  },
  {
   "cell_type": "markdown",
   "id": "cce098ef",
   "metadata": {},
   "source": [
    "Проверим информацию о таблице."
   ]
  },
  {
   "cell_type": "code",
   "execution_count": 29,
   "id": "1b910532",
   "metadata": {},
   "outputs": [
    {
     "name": "stdout",
     "output_type": "stream",
     "text": [
      "<class 'pandas.core.frame.DataFrame'>\n",
      "RangeIndex: 7043 entries, 0 to 7042\n",
      "Data columns (total 8 columns):\n",
      " #   Column            Non-Null Count  Dtype  \n",
      "---  ------            --------------  -----  \n",
      " 0   customerID        7043 non-null   object \n",
      " 1   BeginDate         7043 non-null   object \n",
      " 2   EndDate           7043 non-null   object \n",
      " 3   Type              7043 non-null   object \n",
      " 4   PaperlessBilling  7043 non-null   object \n",
      " 5   PaymentMethod     7043 non-null   object \n",
      " 6   MonthlyCharges    7043 non-null   float64\n",
      " 7   TotalCharges      7032 non-null   float64\n",
      "dtypes: float64(2), object(6)\n",
      "memory usage: 440.3+ KB\n"
     ]
    }
   ],
   "source": [
    "contract.info()"
   ]
  },
  {
   "cell_type": "markdown",
   "id": "1d810cc9",
   "metadata": {},
   "source": [
    "Видим, что в столбце TotalCharges появились пропуски. Изучим пропущенные значения."
   ]
  },
  {
   "cell_type": "code",
   "execution_count": 30,
   "id": "e9c7d736",
   "metadata": {},
   "outputs": [
    {
     "data": {
      "text/html": [
       "<div>\n",
       "<style scoped>\n",
       "    .dataframe tbody tr th:only-of-type {\n",
       "        vertical-align: middle;\n",
       "    }\n",
       "\n",
       "    .dataframe tbody tr th {\n",
       "        vertical-align: top;\n",
       "    }\n",
       "\n",
       "    .dataframe thead th {\n",
       "        text-align: right;\n",
       "    }\n",
       "</style>\n",
       "<table border=\"1\" class=\"dataframe\">\n",
       "  <thead>\n",
       "    <tr style=\"text-align: right;\">\n",
       "      <th></th>\n",
       "      <th>customerID</th>\n",
       "      <th>BeginDate</th>\n",
       "      <th>EndDate</th>\n",
       "      <th>Type</th>\n",
       "      <th>PaperlessBilling</th>\n",
       "      <th>PaymentMethod</th>\n",
       "      <th>MonthlyCharges</th>\n",
       "      <th>TotalCharges</th>\n",
       "    </tr>\n",
       "  </thead>\n",
       "  <tbody>\n",
       "    <tr>\n",
       "      <th>488</th>\n",
       "      <td>4472-LVYGI</td>\n",
       "      <td>2020-02-01</td>\n",
       "      <td>No</td>\n",
       "      <td>Two year</td>\n",
       "      <td>Yes</td>\n",
       "      <td>Bank transfer (automatic)</td>\n",
       "      <td>52.55</td>\n",
       "      <td>NaN</td>\n",
       "    </tr>\n",
       "    <tr>\n",
       "      <th>753</th>\n",
       "      <td>3115-CZMZD</td>\n",
       "      <td>2020-02-01</td>\n",
       "      <td>No</td>\n",
       "      <td>Two year</td>\n",
       "      <td>No</td>\n",
       "      <td>Mailed check</td>\n",
       "      <td>20.25</td>\n",
       "      <td>NaN</td>\n",
       "    </tr>\n",
       "    <tr>\n",
       "      <th>936</th>\n",
       "      <td>5709-LVOEQ</td>\n",
       "      <td>2020-02-01</td>\n",
       "      <td>No</td>\n",
       "      <td>Two year</td>\n",
       "      <td>No</td>\n",
       "      <td>Mailed check</td>\n",
       "      <td>80.85</td>\n",
       "      <td>NaN</td>\n",
       "    </tr>\n",
       "    <tr>\n",
       "      <th>1082</th>\n",
       "      <td>4367-NUYAO</td>\n",
       "      <td>2020-02-01</td>\n",
       "      <td>No</td>\n",
       "      <td>Two year</td>\n",
       "      <td>No</td>\n",
       "      <td>Mailed check</td>\n",
       "      <td>25.75</td>\n",
       "      <td>NaN</td>\n",
       "    </tr>\n",
       "    <tr>\n",
       "      <th>1340</th>\n",
       "      <td>1371-DWPAZ</td>\n",
       "      <td>2020-02-01</td>\n",
       "      <td>No</td>\n",
       "      <td>Two year</td>\n",
       "      <td>No</td>\n",
       "      <td>Credit card (automatic)</td>\n",
       "      <td>56.05</td>\n",
       "      <td>NaN</td>\n",
       "    </tr>\n",
       "    <tr>\n",
       "      <th>3331</th>\n",
       "      <td>7644-OMVMY</td>\n",
       "      <td>2020-02-01</td>\n",
       "      <td>No</td>\n",
       "      <td>Two year</td>\n",
       "      <td>No</td>\n",
       "      <td>Mailed check</td>\n",
       "      <td>19.85</td>\n",
       "      <td>NaN</td>\n",
       "    </tr>\n",
       "    <tr>\n",
       "      <th>3826</th>\n",
       "      <td>3213-VVOLG</td>\n",
       "      <td>2020-02-01</td>\n",
       "      <td>No</td>\n",
       "      <td>Two year</td>\n",
       "      <td>No</td>\n",
       "      <td>Mailed check</td>\n",
       "      <td>25.35</td>\n",
       "      <td>NaN</td>\n",
       "    </tr>\n",
       "    <tr>\n",
       "      <th>4380</th>\n",
       "      <td>2520-SGTTA</td>\n",
       "      <td>2020-02-01</td>\n",
       "      <td>No</td>\n",
       "      <td>Two year</td>\n",
       "      <td>No</td>\n",
       "      <td>Mailed check</td>\n",
       "      <td>20.00</td>\n",
       "      <td>NaN</td>\n",
       "    </tr>\n",
       "    <tr>\n",
       "      <th>5218</th>\n",
       "      <td>2923-ARZLG</td>\n",
       "      <td>2020-02-01</td>\n",
       "      <td>No</td>\n",
       "      <td>One year</td>\n",
       "      <td>Yes</td>\n",
       "      <td>Mailed check</td>\n",
       "      <td>19.70</td>\n",
       "      <td>NaN</td>\n",
       "    </tr>\n",
       "    <tr>\n",
       "      <th>6670</th>\n",
       "      <td>4075-WKNIU</td>\n",
       "      <td>2020-02-01</td>\n",
       "      <td>No</td>\n",
       "      <td>Two year</td>\n",
       "      <td>No</td>\n",
       "      <td>Mailed check</td>\n",
       "      <td>73.35</td>\n",
       "      <td>NaN</td>\n",
       "    </tr>\n",
       "    <tr>\n",
       "      <th>6754</th>\n",
       "      <td>2775-SEFEE</td>\n",
       "      <td>2020-02-01</td>\n",
       "      <td>No</td>\n",
       "      <td>Two year</td>\n",
       "      <td>Yes</td>\n",
       "      <td>Bank transfer (automatic)</td>\n",
       "      <td>61.90</td>\n",
       "      <td>NaN</td>\n",
       "    </tr>\n",
       "  </tbody>\n",
       "</table>\n",
       "</div>"
      ],
      "text/plain": [
       "      customerID   BeginDate EndDate      Type PaperlessBilling  \\\n",
       "488   4472-LVYGI  2020-02-01      No  Two year              Yes   \n",
       "753   3115-CZMZD  2020-02-01      No  Two year               No   \n",
       "936   5709-LVOEQ  2020-02-01      No  Two year               No   \n",
       "1082  4367-NUYAO  2020-02-01      No  Two year               No   \n",
       "1340  1371-DWPAZ  2020-02-01      No  Two year               No   \n",
       "3331  7644-OMVMY  2020-02-01      No  Two year               No   \n",
       "3826  3213-VVOLG  2020-02-01      No  Two year               No   \n",
       "4380  2520-SGTTA  2020-02-01      No  Two year               No   \n",
       "5218  2923-ARZLG  2020-02-01      No  One year              Yes   \n",
       "6670  4075-WKNIU  2020-02-01      No  Two year               No   \n",
       "6754  2775-SEFEE  2020-02-01      No  Two year              Yes   \n",
       "\n",
       "                  PaymentMethod  MonthlyCharges  TotalCharges  \n",
       "488   Bank transfer (automatic)           52.55           NaN  \n",
       "753                Mailed check           20.25           NaN  \n",
       "936                Mailed check           80.85           NaN  \n",
       "1082               Mailed check           25.75           NaN  \n",
       "1340    Credit card (automatic)           56.05           NaN  \n",
       "3331               Mailed check           19.85           NaN  \n",
       "3826               Mailed check           25.35           NaN  \n",
       "4380               Mailed check           20.00           NaN  \n",
       "5218               Mailed check           19.70           NaN  \n",
       "6670               Mailed check           73.35           NaN  \n",
       "6754  Bank transfer (automatic)           61.90           NaN  "
      ]
     },
     "execution_count": 30,
     "metadata": {},
     "output_type": "execute_result"
    }
   ],
   "source": [
    "contract[contract['TotalCharges'].isnull()]"
   ]
  },
  {
   "cell_type": "markdown",
   "id": "de0d3ec1",
   "metadata": {},
   "source": [
    "Пропущенные значения связаны с тем, что клиенты заключили договор 1 февраля 2020 и пока ничего не оплачивали. Пропуски необходимо заменить на 0."
   ]
  },
  {
   "cell_type": "code",
   "execution_count": 31,
   "id": "547aee34",
   "metadata": {},
   "outputs": [],
   "source": [
    "contract['TotalCharges'].fillna(0, inplace=True)"
   ]
  },
  {
   "cell_type": "markdown",
   "id": "872e291f",
   "metadata": {},
   "source": [
    "Объединим всe таблицы в единую."
   ]
  },
  {
   "cell_type": "code",
   "execution_count": 32,
   "id": "aae83115",
   "metadata": {},
   "outputs": [],
   "source": [
    "contract_internet= contract.merge(internet, on='customerID', how='left')"
   ]
  },
  {
   "cell_type": "code",
   "execution_count": 33,
   "id": "c315a257",
   "metadata": {},
   "outputs": [],
   "source": [
    "contract_internet_phone= contract_internet.merge(phone, on='customerID', how='left')"
   ]
  },
  {
   "cell_type": "code",
   "execution_count": 34,
   "id": "8db467a7",
   "metadata": {},
   "outputs": [],
   "source": [
    "df= contract_internet_phone.merge(personal, on='customerID', how='left')"
   ]
  },
  {
   "cell_type": "markdown",
   "id": "bd605157",
   "metadata": {},
   "source": [
    "Изучим общую информацию."
   ]
  },
  {
   "cell_type": "code",
   "execution_count": 35,
   "id": "fdce58d4",
   "metadata": {},
   "outputs": [
    {
     "name": "stdout",
     "output_type": "stream",
     "text": [
      "<class 'pandas.core.frame.DataFrame'>\n",
      "Int64Index: 7043 entries, 0 to 7042\n",
      "Data columns (total 20 columns):\n",
      " #   Column            Non-Null Count  Dtype  \n",
      "---  ------            --------------  -----  \n",
      " 0   customerID        7043 non-null   object \n",
      " 1   BeginDate         7043 non-null   object \n",
      " 2   EndDate           7043 non-null   object \n",
      " 3   Type              7043 non-null   object \n",
      " 4   PaperlessBilling  7043 non-null   object \n",
      " 5   PaymentMethod     7043 non-null   object \n",
      " 6   MonthlyCharges    7043 non-null   float64\n",
      " 7   TotalCharges      7043 non-null   float64\n",
      " 8   InternetService   5517 non-null   object \n",
      " 9   OnlineSecurity    5517 non-null   object \n",
      " 10  OnlineBackup      5517 non-null   object \n",
      " 11  DeviceProtection  5517 non-null   object \n",
      " 12  TechSupport       5517 non-null   object \n",
      " 13  StreamingTV       5517 non-null   object \n",
      " 14  StreamingMovies   5517 non-null   object \n",
      " 15  MultipleLines     6361 non-null   object \n",
      " 16  gender            7043 non-null   object \n",
      " 17  SeniorCitizen     7043 non-null   int64  \n",
      " 18  Partner           7043 non-null   object \n",
      " 19  Dependents        7043 non-null   object \n",
      "dtypes: float64(2), int64(1), object(17)\n",
      "memory usage: 1.1+ MB\n"
     ]
    }
   ],
   "source": [
    "df.info()"
   ]
  },
  {
   "cell_type": "markdown",
   "id": "e0f0d99e",
   "metadata": {},
   "source": [
    "Полученные пропуски связаны с тем, что клиенты не пользуются данными услугами. Пропуски в столбцах нужно заменить на 'No'."
   ]
  },
  {
   "cell_type": "code",
   "execution_count": 36,
   "id": "7fe41896",
   "metadata": {},
   "outputs": [],
   "source": [
    "df['InternetService'].fillna('No', inplace=True)\n",
    "df['OnlineSecurity'].fillna('No', inplace=True)\n",
    "df['OnlineBackup'].fillna('No', inplace=True)\n",
    "df['DeviceProtection'].fillna('No', inplace=True)\n",
    "df['TechSupport'].fillna('No', inplace=True)\n",
    "df['StreamingTV'].fillna('No', inplace=True)\n",
    "df['StreamingMovies'].fillna('No', inplace=True)\n",
    "df['MultipleLines'].fillna('No', inplace=True)"
   ]
  },
  {
   "cell_type": "markdown",
   "id": "fb26df79",
   "metadata": {},
   "source": [
    "Добавим новый признак - Факт расторжения договора."
   ]
  },
  {
   "cell_type": "code",
   "execution_count": 37,
   "id": "60a12ec9",
   "metadata": {},
   "outputs": [],
   "source": [
    "def target(value):\n",
    "    if value=='No':\n",
    "        return 0\n",
    "    else:\n",
    "        return 1\n",
    "df['Exited']=df['EndDate'].apply(target)"
   ]
  },
  {
   "cell_type": "markdown",
   "id": "df29ede4",
   "metadata": {},
   "source": [
    "Добавим новый признак - Срок действия договора."
   ]
  },
  {
   "cell_type": "code",
   "execution_count": 38,
   "id": "2e7ba265",
   "metadata": {},
   "outputs": [],
   "source": [
    "def data(value):\n",
    "    if value!='No':\n",
    "        return value\n",
    "    else:\n",
    "        return '2020-02-01'\n",
    "df['EndDate']=df['EndDate'].apply(data)\n"
   ]
  },
  {
   "cell_type": "code",
   "execution_count": 39,
   "id": "607cd2f0",
   "metadata": {},
   "outputs": [],
   "source": [
    "df['BeginDate'] = pd.to_datetime(df['BeginDate'], format='%Y-%m-%d')\n",
    "df['EndDate'] = pd.to_datetime(df['EndDate'], format='%Y-%m-%d')\n",
    "df['Term_Contract'] = df['EndDate'] - df['BeginDate']\n",
    "df['Term_Contract'] = pd.to_numeric(df['Term_Contract'].dt.days, downcast='integer')"
   ]
  },
  {
   "cell_type": "code",
   "execution_count": 40,
   "id": "99f92570",
   "metadata": {},
   "outputs": [
    {
     "data": {
      "text/html": [
       "<div>\n",
       "<style scoped>\n",
       "    .dataframe tbody tr th:only-of-type {\n",
       "        vertical-align: middle;\n",
       "    }\n",
       "\n",
       "    .dataframe tbody tr th {\n",
       "        vertical-align: top;\n",
       "    }\n",
       "\n",
       "    .dataframe thead th {\n",
       "        text-align: right;\n",
       "    }\n",
       "</style>\n",
       "<table border=\"1\" class=\"dataframe\">\n",
       "  <thead>\n",
       "    <tr style=\"text-align: right;\">\n",
       "      <th></th>\n",
       "      <th>customerID</th>\n",
       "      <th>BeginDate</th>\n",
       "      <th>EndDate</th>\n",
       "      <th>Type</th>\n",
       "      <th>PaperlessBilling</th>\n",
       "      <th>PaymentMethod</th>\n",
       "      <th>MonthlyCharges</th>\n",
       "      <th>TotalCharges</th>\n",
       "      <th>InternetService</th>\n",
       "      <th>OnlineSecurity</th>\n",
       "      <th>...</th>\n",
       "      <th>TechSupport</th>\n",
       "      <th>StreamingTV</th>\n",
       "      <th>StreamingMovies</th>\n",
       "      <th>MultipleLines</th>\n",
       "      <th>gender</th>\n",
       "      <th>SeniorCitizen</th>\n",
       "      <th>Partner</th>\n",
       "      <th>Dependents</th>\n",
       "      <th>Exited</th>\n",
       "      <th>Term_Contract</th>\n",
       "    </tr>\n",
       "  </thead>\n",
       "  <tbody>\n",
       "    <tr>\n",
       "      <th>0</th>\n",
       "      <td>7590-VHVEG</td>\n",
       "      <td>2020-01-01</td>\n",
       "      <td>2020-02-01</td>\n",
       "      <td>Month-to-month</td>\n",
       "      <td>Yes</td>\n",
       "      <td>Electronic check</td>\n",
       "      <td>29.85</td>\n",
       "      <td>29.85</td>\n",
       "      <td>DSL</td>\n",
       "      <td>No</td>\n",
       "      <td>...</td>\n",
       "      <td>No</td>\n",
       "      <td>No</td>\n",
       "      <td>No</td>\n",
       "      <td>No</td>\n",
       "      <td>Female</td>\n",
       "      <td>0</td>\n",
       "      <td>Yes</td>\n",
       "      <td>No</td>\n",
       "      <td>0</td>\n",
       "      <td>31</td>\n",
       "    </tr>\n",
       "    <tr>\n",
       "      <th>1</th>\n",
       "      <td>5575-GNVDE</td>\n",
       "      <td>2017-04-01</td>\n",
       "      <td>2020-02-01</td>\n",
       "      <td>One year</td>\n",
       "      <td>No</td>\n",
       "      <td>Mailed check</td>\n",
       "      <td>56.95</td>\n",
       "      <td>1889.50</td>\n",
       "      <td>DSL</td>\n",
       "      <td>Yes</td>\n",
       "      <td>...</td>\n",
       "      <td>No</td>\n",
       "      <td>No</td>\n",
       "      <td>No</td>\n",
       "      <td>No</td>\n",
       "      <td>Male</td>\n",
       "      <td>0</td>\n",
       "      <td>No</td>\n",
       "      <td>No</td>\n",
       "      <td>0</td>\n",
       "      <td>1036</td>\n",
       "    </tr>\n",
       "    <tr>\n",
       "      <th>2</th>\n",
       "      <td>3668-QPYBK</td>\n",
       "      <td>2019-10-01</td>\n",
       "      <td>2019-12-01</td>\n",
       "      <td>Month-to-month</td>\n",
       "      <td>Yes</td>\n",
       "      <td>Mailed check</td>\n",
       "      <td>53.85</td>\n",
       "      <td>108.15</td>\n",
       "      <td>DSL</td>\n",
       "      <td>Yes</td>\n",
       "      <td>...</td>\n",
       "      <td>No</td>\n",
       "      <td>No</td>\n",
       "      <td>No</td>\n",
       "      <td>No</td>\n",
       "      <td>Male</td>\n",
       "      <td>0</td>\n",
       "      <td>No</td>\n",
       "      <td>No</td>\n",
       "      <td>1</td>\n",
       "      <td>61</td>\n",
       "    </tr>\n",
       "    <tr>\n",
       "      <th>3</th>\n",
       "      <td>7795-CFOCW</td>\n",
       "      <td>2016-05-01</td>\n",
       "      <td>2020-02-01</td>\n",
       "      <td>One year</td>\n",
       "      <td>No</td>\n",
       "      <td>Bank transfer (automatic)</td>\n",
       "      <td>42.30</td>\n",
       "      <td>1840.75</td>\n",
       "      <td>DSL</td>\n",
       "      <td>Yes</td>\n",
       "      <td>...</td>\n",
       "      <td>Yes</td>\n",
       "      <td>No</td>\n",
       "      <td>No</td>\n",
       "      <td>No</td>\n",
       "      <td>Male</td>\n",
       "      <td>0</td>\n",
       "      <td>No</td>\n",
       "      <td>No</td>\n",
       "      <td>0</td>\n",
       "      <td>1371</td>\n",
       "    </tr>\n",
       "    <tr>\n",
       "      <th>4</th>\n",
       "      <td>9237-HQITU</td>\n",
       "      <td>2019-09-01</td>\n",
       "      <td>2019-11-01</td>\n",
       "      <td>Month-to-month</td>\n",
       "      <td>Yes</td>\n",
       "      <td>Electronic check</td>\n",
       "      <td>70.70</td>\n",
       "      <td>151.65</td>\n",
       "      <td>Fiber optic</td>\n",
       "      <td>No</td>\n",
       "      <td>...</td>\n",
       "      <td>No</td>\n",
       "      <td>No</td>\n",
       "      <td>No</td>\n",
       "      <td>No</td>\n",
       "      <td>Female</td>\n",
       "      <td>0</td>\n",
       "      <td>No</td>\n",
       "      <td>No</td>\n",
       "      <td>1</td>\n",
       "      <td>61</td>\n",
       "    </tr>\n",
       "    <tr>\n",
       "      <th>5</th>\n",
       "      <td>9305-CDSKC</td>\n",
       "      <td>2019-03-01</td>\n",
       "      <td>2019-11-01</td>\n",
       "      <td>Month-to-month</td>\n",
       "      <td>Yes</td>\n",
       "      <td>Electronic check</td>\n",
       "      <td>99.65</td>\n",
       "      <td>820.50</td>\n",
       "      <td>Fiber optic</td>\n",
       "      <td>No</td>\n",
       "      <td>...</td>\n",
       "      <td>No</td>\n",
       "      <td>Yes</td>\n",
       "      <td>Yes</td>\n",
       "      <td>Yes</td>\n",
       "      <td>Female</td>\n",
       "      <td>0</td>\n",
       "      <td>No</td>\n",
       "      <td>No</td>\n",
       "      <td>1</td>\n",
       "      <td>245</td>\n",
       "    </tr>\n",
       "    <tr>\n",
       "      <th>6</th>\n",
       "      <td>1452-KIOVK</td>\n",
       "      <td>2018-04-01</td>\n",
       "      <td>2020-02-01</td>\n",
       "      <td>Month-to-month</td>\n",
       "      <td>Yes</td>\n",
       "      <td>Credit card (automatic)</td>\n",
       "      <td>89.10</td>\n",
       "      <td>1949.40</td>\n",
       "      <td>Fiber optic</td>\n",
       "      <td>No</td>\n",
       "      <td>...</td>\n",
       "      <td>No</td>\n",
       "      <td>Yes</td>\n",
       "      <td>No</td>\n",
       "      <td>Yes</td>\n",
       "      <td>Male</td>\n",
       "      <td>0</td>\n",
       "      <td>No</td>\n",
       "      <td>Yes</td>\n",
       "      <td>0</td>\n",
       "      <td>671</td>\n",
       "    </tr>\n",
       "    <tr>\n",
       "      <th>7</th>\n",
       "      <td>6713-OKOMC</td>\n",
       "      <td>2019-04-01</td>\n",
       "      <td>2020-02-01</td>\n",
       "      <td>Month-to-month</td>\n",
       "      <td>No</td>\n",
       "      <td>Mailed check</td>\n",
       "      <td>29.75</td>\n",
       "      <td>301.90</td>\n",
       "      <td>DSL</td>\n",
       "      <td>Yes</td>\n",
       "      <td>...</td>\n",
       "      <td>No</td>\n",
       "      <td>No</td>\n",
       "      <td>No</td>\n",
       "      <td>No</td>\n",
       "      <td>Female</td>\n",
       "      <td>0</td>\n",
       "      <td>No</td>\n",
       "      <td>No</td>\n",
       "      <td>0</td>\n",
       "      <td>306</td>\n",
       "    </tr>\n",
       "    <tr>\n",
       "      <th>8</th>\n",
       "      <td>7892-POOKP</td>\n",
       "      <td>2017-07-01</td>\n",
       "      <td>2019-11-01</td>\n",
       "      <td>Month-to-month</td>\n",
       "      <td>Yes</td>\n",
       "      <td>Electronic check</td>\n",
       "      <td>104.80</td>\n",
       "      <td>3046.05</td>\n",
       "      <td>Fiber optic</td>\n",
       "      <td>No</td>\n",
       "      <td>...</td>\n",
       "      <td>Yes</td>\n",
       "      <td>Yes</td>\n",
       "      <td>Yes</td>\n",
       "      <td>Yes</td>\n",
       "      <td>Female</td>\n",
       "      <td>0</td>\n",
       "      <td>Yes</td>\n",
       "      <td>No</td>\n",
       "      <td>1</td>\n",
       "      <td>853</td>\n",
       "    </tr>\n",
       "    <tr>\n",
       "      <th>9</th>\n",
       "      <td>6388-TABGU</td>\n",
       "      <td>2014-12-01</td>\n",
       "      <td>2020-02-01</td>\n",
       "      <td>One year</td>\n",
       "      <td>No</td>\n",
       "      <td>Bank transfer (automatic)</td>\n",
       "      <td>56.15</td>\n",
       "      <td>3487.95</td>\n",
       "      <td>DSL</td>\n",
       "      <td>Yes</td>\n",
       "      <td>...</td>\n",
       "      <td>No</td>\n",
       "      <td>No</td>\n",
       "      <td>No</td>\n",
       "      <td>No</td>\n",
       "      <td>Male</td>\n",
       "      <td>0</td>\n",
       "      <td>No</td>\n",
       "      <td>Yes</td>\n",
       "      <td>0</td>\n",
       "      <td>1888</td>\n",
       "    </tr>\n",
       "    <tr>\n",
       "      <th>10</th>\n",
       "      <td>9763-GRSKD</td>\n",
       "      <td>2019-01-01</td>\n",
       "      <td>2020-02-01</td>\n",
       "      <td>Month-to-month</td>\n",
       "      <td>Yes</td>\n",
       "      <td>Mailed check</td>\n",
       "      <td>49.95</td>\n",
       "      <td>587.45</td>\n",
       "      <td>DSL</td>\n",
       "      <td>Yes</td>\n",
       "      <td>...</td>\n",
       "      <td>No</td>\n",
       "      <td>No</td>\n",
       "      <td>No</td>\n",
       "      <td>No</td>\n",
       "      <td>Male</td>\n",
       "      <td>0</td>\n",
       "      <td>Yes</td>\n",
       "      <td>Yes</td>\n",
       "      <td>0</td>\n",
       "      <td>396</td>\n",
       "    </tr>\n",
       "    <tr>\n",
       "      <th>11</th>\n",
       "      <td>7469-LKBCI</td>\n",
       "      <td>2018-10-01</td>\n",
       "      <td>2020-02-01</td>\n",
       "      <td>Two year</td>\n",
       "      <td>No</td>\n",
       "      <td>Credit card (automatic)</td>\n",
       "      <td>18.95</td>\n",
       "      <td>326.80</td>\n",
       "      <td>No</td>\n",
       "      <td>No</td>\n",
       "      <td>...</td>\n",
       "      <td>No</td>\n",
       "      <td>No</td>\n",
       "      <td>No</td>\n",
       "      <td>No</td>\n",
       "      <td>Male</td>\n",
       "      <td>0</td>\n",
       "      <td>No</td>\n",
       "      <td>No</td>\n",
       "      <td>0</td>\n",
       "      <td>488</td>\n",
       "    </tr>\n",
       "    <tr>\n",
       "      <th>12</th>\n",
       "      <td>8091-TTVAX</td>\n",
       "      <td>2015-04-01</td>\n",
       "      <td>2020-02-01</td>\n",
       "      <td>One year</td>\n",
       "      <td>No</td>\n",
       "      <td>Credit card (automatic)</td>\n",
       "      <td>100.35</td>\n",
       "      <td>5681.10</td>\n",
       "      <td>Fiber optic</td>\n",
       "      <td>No</td>\n",
       "      <td>...</td>\n",
       "      <td>No</td>\n",
       "      <td>Yes</td>\n",
       "      <td>Yes</td>\n",
       "      <td>Yes</td>\n",
       "      <td>Male</td>\n",
       "      <td>0</td>\n",
       "      <td>Yes</td>\n",
       "      <td>No</td>\n",
       "      <td>0</td>\n",
       "      <td>1767</td>\n",
       "    </tr>\n",
       "    <tr>\n",
       "      <th>13</th>\n",
       "      <td>0280-XJGEX</td>\n",
       "      <td>2015-09-01</td>\n",
       "      <td>2019-10-01</td>\n",
       "      <td>Month-to-month</td>\n",
       "      <td>Yes</td>\n",
       "      <td>Bank transfer (automatic)</td>\n",
       "      <td>103.70</td>\n",
       "      <td>5036.30</td>\n",
       "      <td>Fiber optic</td>\n",
       "      <td>No</td>\n",
       "      <td>...</td>\n",
       "      <td>No</td>\n",
       "      <td>Yes</td>\n",
       "      <td>Yes</td>\n",
       "      <td>Yes</td>\n",
       "      <td>Male</td>\n",
       "      <td>0</td>\n",
       "      <td>No</td>\n",
       "      <td>No</td>\n",
       "      <td>1</td>\n",
       "      <td>1491</td>\n",
       "    </tr>\n",
       "    <tr>\n",
       "      <th>14</th>\n",
       "      <td>5129-JLPIS</td>\n",
       "      <td>2018-01-01</td>\n",
       "      <td>2020-02-01</td>\n",
       "      <td>Month-to-month</td>\n",
       "      <td>Yes</td>\n",
       "      <td>Electronic check</td>\n",
       "      <td>105.50</td>\n",
       "      <td>2686.05</td>\n",
       "      <td>Fiber optic</td>\n",
       "      <td>Yes</td>\n",
       "      <td>...</td>\n",
       "      <td>Yes</td>\n",
       "      <td>Yes</td>\n",
       "      <td>Yes</td>\n",
       "      <td>No</td>\n",
       "      <td>Male</td>\n",
       "      <td>0</td>\n",
       "      <td>No</td>\n",
       "      <td>No</td>\n",
       "      <td>0</td>\n",
       "      <td>761</td>\n",
       "    </tr>\n",
       "    <tr>\n",
       "      <th>15</th>\n",
       "      <td>3655-SNQYZ</td>\n",
       "      <td>2014-05-01</td>\n",
       "      <td>2020-02-01</td>\n",
       "      <td>Two year</td>\n",
       "      <td>No</td>\n",
       "      <td>Credit card (automatic)</td>\n",
       "      <td>113.25</td>\n",
       "      <td>7895.15</td>\n",
       "      <td>Fiber optic</td>\n",
       "      <td>Yes</td>\n",
       "      <td>...</td>\n",
       "      <td>Yes</td>\n",
       "      <td>Yes</td>\n",
       "      <td>Yes</td>\n",
       "      <td>Yes</td>\n",
       "      <td>Female</td>\n",
       "      <td>0</td>\n",
       "      <td>Yes</td>\n",
       "      <td>Yes</td>\n",
       "      <td>0</td>\n",
       "      <td>2102</td>\n",
       "    </tr>\n",
       "    <tr>\n",
       "      <th>16</th>\n",
       "      <td>8191-XWSZG</td>\n",
       "      <td>2015-10-01</td>\n",
       "      <td>2020-02-01</td>\n",
       "      <td>One year</td>\n",
       "      <td>No</td>\n",
       "      <td>Mailed check</td>\n",
       "      <td>20.65</td>\n",
       "      <td>1022.95</td>\n",
       "      <td>No</td>\n",
       "      <td>No</td>\n",
       "      <td>...</td>\n",
       "      <td>No</td>\n",
       "      <td>No</td>\n",
       "      <td>No</td>\n",
       "      <td>No</td>\n",
       "      <td>Female</td>\n",
       "      <td>0</td>\n",
       "      <td>No</td>\n",
       "      <td>No</td>\n",
       "      <td>0</td>\n",
       "      <td>1584</td>\n",
       "    </tr>\n",
       "    <tr>\n",
       "      <th>17</th>\n",
       "      <td>9959-WOFKT</td>\n",
       "      <td>2014-03-01</td>\n",
       "      <td>2020-02-01</td>\n",
       "      <td>Two year</td>\n",
       "      <td>No</td>\n",
       "      <td>Bank transfer (automatic)</td>\n",
       "      <td>106.70</td>\n",
       "      <td>7382.25</td>\n",
       "      <td>Fiber optic</td>\n",
       "      <td>Yes</td>\n",
       "      <td>...</td>\n",
       "      <td>No</td>\n",
       "      <td>Yes</td>\n",
       "      <td>Yes</td>\n",
       "      <td>Yes</td>\n",
       "      <td>Male</td>\n",
       "      <td>0</td>\n",
       "      <td>No</td>\n",
       "      <td>Yes</td>\n",
       "      <td>0</td>\n",
       "      <td>2163</td>\n",
       "    </tr>\n",
       "    <tr>\n",
       "      <th>18</th>\n",
       "      <td>4190-MFLUW</td>\n",
       "      <td>2019-01-01</td>\n",
       "      <td>2019-11-01</td>\n",
       "      <td>Month-to-month</td>\n",
       "      <td>No</td>\n",
       "      <td>Credit card (automatic)</td>\n",
       "      <td>55.20</td>\n",
       "      <td>528.35</td>\n",
       "      <td>DSL</td>\n",
       "      <td>No</td>\n",
       "      <td>...</td>\n",
       "      <td>Yes</td>\n",
       "      <td>No</td>\n",
       "      <td>No</td>\n",
       "      <td>No</td>\n",
       "      <td>Female</td>\n",
       "      <td>0</td>\n",
       "      <td>Yes</td>\n",
       "      <td>Yes</td>\n",
       "      <td>1</td>\n",
       "      <td>304</td>\n",
       "    </tr>\n",
       "    <tr>\n",
       "      <th>19</th>\n",
       "      <td>4183-MYFRB</td>\n",
       "      <td>2018-05-01</td>\n",
       "      <td>2020-02-01</td>\n",
       "      <td>Month-to-month</td>\n",
       "      <td>Yes</td>\n",
       "      <td>Electronic check</td>\n",
       "      <td>90.05</td>\n",
       "      <td>1862.90</td>\n",
       "      <td>Fiber optic</td>\n",
       "      <td>No</td>\n",
       "      <td>...</td>\n",
       "      <td>No</td>\n",
       "      <td>No</td>\n",
       "      <td>Yes</td>\n",
       "      <td>No</td>\n",
       "      <td>Female</td>\n",
       "      <td>0</td>\n",
       "      <td>No</td>\n",
       "      <td>No</td>\n",
       "      <td>0</td>\n",
       "      <td>641</td>\n",
       "    </tr>\n",
       "  </tbody>\n",
       "</table>\n",
       "<p>20 rows × 22 columns</p>\n",
       "</div>"
      ],
      "text/plain": [
       "    customerID  BeginDate    EndDate            Type PaperlessBilling  \\\n",
       "0   7590-VHVEG 2020-01-01 2020-02-01  Month-to-month              Yes   \n",
       "1   5575-GNVDE 2017-04-01 2020-02-01        One year               No   \n",
       "2   3668-QPYBK 2019-10-01 2019-12-01  Month-to-month              Yes   \n",
       "3   7795-CFOCW 2016-05-01 2020-02-01        One year               No   \n",
       "4   9237-HQITU 2019-09-01 2019-11-01  Month-to-month              Yes   \n",
       "5   9305-CDSKC 2019-03-01 2019-11-01  Month-to-month              Yes   \n",
       "6   1452-KIOVK 2018-04-01 2020-02-01  Month-to-month              Yes   \n",
       "7   6713-OKOMC 2019-04-01 2020-02-01  Month-to-month               No   \n",
       "8   7892-POOKP 2017-07-01 2019-11-01  Month-to-month              Yes   \n",
       "9   6388-TABGU 2014-12-01 2020-02-01        One year               No   \n",
       "10  9763-GRSKD 2019-01-01 2020-02-01  Month-to-month              Yes   \n",
       "11  7469-LKBCI 2018-10-01 2020-02-01        Two year               No   \n",
       "12  8091-TTVAX 2015-04-01 2020-02-01        One year               No   \n",
       "13  0280-XJGEX 2015-09-01 2019-10-01  Month-to-month              Yes   \n",
       "14  5129-JLPIS 2018-01-01 2020-02-01  Month-to-month              Yes   \n",
       "15  3655-SNQYZ 2014-05-01 2020-02-01        Two year               No   \n",
       "16  8191-XWSZG 2015-10-01 2020-02-01        One year               No   \n",
       "17  9959-WOFKT 2014-03-01 2020-02-01        Two year               No   \n",
       "18  4190-MFLUW 2019-01-01 2019-11-01  Month-to-month               No   \n",
       "19  4183-MYFRB 2018-05-01 2020-02-01  Month-to-month              Yes   \n",
       "\n",
       "                PaymentMethod  MonthlyCharges  TotalCharges InternetService  \\\n",
       "0            Electronic check           29.85         29.85             DSL   \n",
       "1                Mailed check           56.95       1889.50             DSL   \n",
       "2                Mailed check           53.85        108.15             DSL   \n",
       "3   Bank transfer (automatic)           42.30       1840.75             DSL   \n",
       "4            Electronic check           70.70        151.65     Fiber optic   \n",
       "5            Electronic check           99.65        820.50     Fiber optic   \n",
       "6     Credit card (automatic)           89.10       1949.40     Fiber optic   \n",
       "7                Mailed check           29.75        301.90             DSL   \n",
       "8            Electronic check          104.80       3046.05     Fiber optic   \n",
       "9   Bank transfer (automatic)           56.15       3487.95             DSL   \n",
       "10               Mailed check           49.95        587.45             DSL   \n",
       "11    Credit card (automatic)           18.95        326.80              No   \n",
       "12    Credit card (automatic)          100.35       5681.10     Fiber optic   \n",
       "13  Bank transfer (automatic)          103.70       5036.30     Fiber optic   \n",
       "14           Electronic check          105.50       2686.05     Fiber optic   \n",
       "15    Credit card (automatic)          113.25       7895.15     Fiber optic   \n",
       "16               Mailed check           20.65       1022.95              No   \n",
       "17  Bank transfer (automatic)          106.70       7382.25     Fiber optic   \n",
       "18    Credit card (automatic)           55.20        528.35             DSL   \n",
       "19           Electronic check           90.05       1862.90     Fiber optic   \n",
       "\n",
       "   OnlineSecurity  ... TechSupport StreamingTV StreamingMovies MultipleLines  \\\n",
       "0              No  ...          No          No              No            No   \n",
       "1             Yes  ...          No          No              No            No   \n",
       "2             Yes  ...          No          No              No            No   \n",
       "3             Yes  ...         Yes          No              No            No   \n",
       "4              No  ...          No          No              No            No   \n",
       "5              No  ...          No         Yes             Yes           Yes   \n",
       "6              No  ...          No         Yes              No           Yes   \n",
       "7             Yes  ...          No          No              No            No   \n",
       "8              No  ...         Yes         Yes             Yes           Yes   \n",
       "9             Yes  ...          No          No              No            No   \n",
       "10            Yes  ...          No          No              No            No   \n",
       "11             No  ...          No          No              No            No   \n",
       "12             No  ...          No         Yes             Yes           Yes   \n",
       "13             No  ...          No         Yes             Yes           Yes   \n",
       "14            Yes  ...         Yes         Yes             Yes            No   \n",
       "15            Yes  ...         Yes         Yes             Yes           Yes   \n",
       "16             No  ...          No          No              No            No   \n",
       "17            Yes  ...          No         Yes             Yes           Yes   \n",
       "18             No  ...         Yes          No              No            No   \n",
       "19             No  ...          No          No             Yes            No   \n",
       "\n",
       "    gender SeniorCitizen Partner  Dependents Exited Term_Contract  \n",
       "0   Female             0     Yes          No      0            31  \n",
       "1     Male             0      No          No      0          1036  \n",
       "2     Male             0      No          No      1            61  \n",
       "3     Male             0      No          No      0          1371  \n",
       "4   Female             0      No          No      1            61  \n",
       "5   Female             0      No          No      1           245  \n",
       "6     Male             0      No         Yes      0           671  \n",
       "7   Female             0      No          No      0           306  \n",
       "8   Female             0     Yes          No      1           853  \n",
       "9     Male             0      No         Yes      0          1888  \n",
       "10    Male             0     Yes         Yes      0           396  \n",
       "11    Male             0      No          No      0           488  \n",
       "12    Male             0     Yes          No      0          1767  \n",
       "13    Male             0      No          No      1          1491  \n",
       "14    Male             0      No          No      0           761  \n",
       "15  Female             0     Yes         Yes      0          2102  \n",
       "16  Female             0      No          No      0          1584  \n",
       "17    Male             0      No         Yes      0          2163  \n",
       "18  Female             0     Yes         Yes      1           304  \n",
       "19  Female             0      No          No      0           641  \n",
       "\n",
       "[20 rows x 22 columns]"
      ]
     },
     "execution_count": 40,
     "metadata": {},
     "output_type": "execute_result"
    }
   ],
   "source": [
    "df.head(20)"
   ]
  },
  {
   "cell_type": "code",
   "execution_count": 41,
   "id": "ccc88594",
   "metadata": {},
   "outputs": [
    {
     "name": "stdout",
     "output_type": "stream",
     "text": [
      "<class 'pandas.core.frame.DataFrame'>\n",
      "Int64Index: 7043 entries, 0 to 7042\n",
      "Data columns (total 22 columns):\n",
      " #   Column            Non-Null Count  Dtype         \n",
      "---  ------            --------------  -----         \n",
      " 0   customerID        7043 non-null   object        \n",
      " 1   BeginDate         7043 non-null   datetime64[ns]\n",
      " 2   EndDate           7043 non-null   datetime64[ns]\n",
      " 3   Type              7043 non-null   object        \n",
      " 4   PaperlessBilling  7043 non-null   object        \n",
      " 5   PaymentMethod     7043 non-null   object        \n",
      " 6   MonthlyCharges    7043 non-null   float64       \n",
      " 7   TotalCharges      7043 non-null   float64       \n",
      " 8   InternetService   7043 non-null   object        \n",
      " 9   OnlineSecurity    7043 non-null   object        \n",
      " 10  OnlineBackup      7043 non-null   object        \n",
      " 11  DeviceProtection  7043 non-null   object        \n",
      " 12  TechSupport       7043 non-null   object        \n",
      " 13  StreamingTV       7043 non-null   object        \n",
      " 14  StreamingMovies   7043 non-null   object        \n",
      " 15  MultipleLines     7043 non-null   object        \n",
      " 16  gender            7043 non-null   object        \n",
      " 17  SeniorCitizen     7043 non-null   int64         \n",
      " 18  Partner           7043 non-null   object        \n",
      " 19  Dependents        7043 non-null   object        \n",
      " 20  Exited            7043 non-null   int64         \n",
      " 21  Term_Contract     7043 non-null   int16         \n",
      "dtypes: datetime64[ns](2), float64(2), int16(1), int64(2), object(15)\n",
      "memory usage: 1.2+ MB\n"
     ]
    }
   ],
   "source": [
    "df.info()"
   ]
  },
  {
   "cell_type": "markdown",
   "id": "cbd57986",
   "metadata": {},
   "source": []
  },
  {
   "cell_type": "markdown",
   "id": "de30de8e",
   "metadata": {},
   "source": [
    "Удалим ненужные столбцы для обучения."
   ]
  },
  {
   "cell_type": "code",
   "execution_count": 42,
   "id": "b12e9745",
   "metadata": {},
   "outputs": [],
   "source": [
    "df = df.drop(['EndDate', 'BeginDate','MonthlyCharges'], axis=1)"
   ]
  },
  {
   "cell_type": "markdown",
   "id": "f60f1052",
   "metadata": {},
   "source": [
    "Определим список бинарных столбцов."
   ]
  },
  {
   "cell_type": "code",
   "execution_count": 43,
   "id": "61feee10",
   "metadata": {},
   "outputs": [],
   "source": [
    "binar_сol= ['PaperlessBilling', 'Partner', 'Dependents', 'OnlineSecurity', 'OnlineBackup', 'DeviceProtection',\n",
    "            'TechSupport', 'StreamingTV', 'StreamingMovies', 'MultipleLines']"
   ]
  },
  {
   "cell_type": "markdown",
   "id": "5c2a9fe5",
   "metadata": {},
   "source": [
    "Заменим значения на численные для подготовки данных к кодированию."
   ]
  },
  {
   "cell_type": "code",
   "execution_count": 44,
   "id": "9df534bc",
   "metadata": {},
   "outputs": [],
   "source": [
    "def binar(value):\n",
    "    if value == \"Yes\":\n",
    "        return 1\n",
    "    if value == \"No\":\n",
    "        return 0\n",
    "        \n",
    "        \n",
    "for columns in binar_сol:\n",
    "    df[columns]= df[columns].apply(binar)"
   ]
  },
  {
   "cell_type": "markdown",
   "id": "1924bc98",
   "metadata": {},
   "source": [
    "Определим категориальные переменные, чтобы их закодировать."
   ]
  },
  {
   "cell_type": "code",
   "execution_count": 45,
   "id": "a3c74d83",
   "metadata": {},
   "outputs": [],
   "source": [
    "category = ['customerID','Type','PaymentMethod','InternetService','gender']"
   ]
  },
  {
   "cell_type": "markdown",
   "id": "212f6b99",
   "metadata": {},
   "source": [
    "Закодируем данные."
   ]
  },
  {
   "cell_type": "code",
   "execution_count": 46,
   "id": "412b664d",
   "metadata": {},
   "outputs": [],
   "source": [
    "data_ohe = pd.get_dummies(df[category], drop_first=True)"
   ]
  },
  {
   "cell_type": "markdown",
   "id": "b58bd36b",
   "metadata": {},
   "source": [
    "Удалим из таблицы категориальные переменные."
   ]
  },
  {
   "cell_type": "code",
   "execution_count": 48,
   "id": "3077c11b",
   "metadata": {},
   "outputs": [],
   "source": [
    "df = df.drop(df[category], axis=1)"
   ]
  },
  {
   "cell_type": "markdown",
   "id": "19e038d1",
   "metadata": {},
   "source": [
    "Объединим закодированные данные с остальной таблицей."
   ]
  },
  {
   "cell_type": "code",
   "execution_count": 49,
   "id": "6965dd44",
   "metadata": {},
   "outputs": [],
   "source": [
    "data = df.join(data_ohe)"
   ]
  },
  {
   "cell_type": "code",
   "execution_count": 50,
   "id": "e8478921",
   "metadata": {},
   "outputs": [
    {
     "data": {
      "text/html": [
       "<div>\n",
       "<style scoped>\n",
       "    .dataframe tbody tr th:only-of-type {\n",
       "        vertical-align: middle;\n",
       "    }\n",
       "\n",
       "    .dataframe tbody tr th {\n",
       "        vertical-align: top;\n",
       "    }\n",
       "\n",
       "    .dataframe thead th {\n",
       "        text-align: right;\n",
       "    }\n",
       "</style>\n",
       "<table border=\"1\" class=\"dataframe\">\n",
       "  <thead>\n",
       "    <tr style=\"text-align: right;\">\n",
       "      <th></th>\n",
       "      <th>PaperlessBilling</th>\n",
       "      <th>TotalCharges</th>\n",
       "      <th>OnlineSecurity</th>\n",
       "      <th>OnlineBackup</th>\n",
       "      <th>DeviceProtection</th>\n",
       "      <th>TechSupport</th>\n",
       "      <th>StreamingTV</th>\n",
       "      <th>StreamingMovies</th>\n",
       "      <th>MultipleLines</th>\n",
       "      <th>SeniorCitizen</th>\n",
       "      <th>...</th>\n",
       "      <th>customerID_9993-LHIEB</th>\n",
       "      <th>customerID_9995-HOTOH</th>\n",
       "      <th>Type_One year</th>\n",
       "      <th>Type_Two year</th>\n",
       "      <th>PaymentMethod_Credit card (automatic)</th>\n",
       "      <th>PaymentMethod_Electronic check</th>\n",
       "      <th>PaymentMethod_Mailed check</th>\n",
       "      <th>InternetService_Fiber optic</th>\n",
       "      <th>InternetService_No</th>\n",
       "      <th>gender_Male</th>\n",
       "    </tr>\n",
       "  </thead>\n",
       "  <tbody>\n",
       "    <tr>\n",
       "      <th>0</th>\n",
       "      <td>1</td>\n",
       "      <td>29.85</td>\n",
       "      <td>0</td>\n",
       "      <td>1</td>\n",
       "      <td>0</td>\n",
       "      <td>0</td>\n",
       "      <td>0</td>\n",
       "      <td>0</td>\n",
       "      <td>0</td>\n",
       "      <td>0</td>\n",
       "      <td>...</td>\n",
       "      <td>0</td>\n",
       "      <td>0</td>\n",
       "      <td>0</td>\n",
       "      <td>0</td>\n",
       "      <td>0</td>\n",
       "      <td>1</td>\n",
       "      <td>0</td>\n",
       "      <td>0</td>\n",
       "      <td>0</td>\n",
       "      <td>0</td>\n",
       "    </tr>\n",
       "    <tr>\n",
       "      <th>1</th>\n",
       "      <td>0</td>\n",
       "      <td>1889.50</td>\n",
       "      <td>1</td>\n",
       "      <td>0</td>\n",
       "      <td>1</td>\n",
       "      <td>0</td>\n",
       "      <td>0</td>\n",
       "      <td>0</td>\n",
       "      <td>0</td>\n",
       "      <td>0</td>\n",
       "      <td>...</td>\n",
       "      <td>0</td>\n",
       "      <td>0</td>\n",
       "      <td>1</td>\n",
       "      <td>0</td>\n",
       "      <td>0</td>\n",
       "      <td>0</td>\n",
       "      <td>1</td>\n",
       "      <td>0</td>\n",
       "      <td>0</td>\n",
       "      <td>1</td>\n",
       "    </tr>\n",
       "    <tr>\n",
       "      <th>2</th>\n",
       "      <td>1</td>\n",
       "      <td>108.15</td>\n",
       "      <td>1</td>\n",
       "      <td>1</td>\n",
       "      <td>0</td>\n",
       "      <td>0</td>\n",
       "      <td>0</td>\n",
       "      <td>0</td>\n",
       "      <td>0</td>\n",
       "      <td>0</td>\n",
       "      <td>...</td>\n",
       "      <td>0</td>\n",
       "      <td>0</td>\n",
       "      <td>0</td>\n",
       "      <td>0</td>\n",
       "      <td>0</td>\n",
       "      <td>0</td>\n",
       "      <td>1</td>\n",
       "      <td>0</td>\n",
       "      <td>0</td>\n",
       "      <td>1</td>\n",
       "    </tr>\n",
       "    <tr>\n",
       "      <th>3</th>\n",
       "      <td>0</td>\n",
       "      <td>1840.75</td>\n",
       "      <td>1</td>\n",
       "      <td>0</td>\n",
       "      <td>1</td>\n",
       "      <td>1</td>\n",
       "      <td>0</td>\n",
       "      <td>0</td>\n",
       "      <td>0</td>\n",
       "      <td>0</td>\n",
       "      <td>...</td>\n",
       "      <td>0</td>\n",
       "      <td>0</td>\n",
       "      <td>1</td>\n",
       "      <td>0</td>\n",
       "      <td>0</td>\n",
       "      <td>0</td>\n",
       "      <td>0</td>\n",
       "      <td>0</td>\n",
       "      <td>0</td>\n",
       "      <td>1</td>\n",
       "    </tr>\n",
       "    <tr>\n",
       "      <th>4</th>\n",
       "      <td>1</td>\n",
       "      <td>151.65</td>\n",
       "      <td>0</td>\n",
       "      <td>0</td>\n",
       "      <td>0</td>\n",
       "      <td>0</td>\n",
       "      <td>0</td>\n",
       "      <td>0</td>\n",
       "      <td>0</td>\n",
       "      <td>0</td>\n",
       "      <td>...</td>\n",
       "      <td>0</td>\n",
       "      <td>0</td>\n",
       "      <td>0</td>\n",
       "      <td>0</td>\n",
       "      <td>0</td>\n",
       "      <td>1</td>\n",
       "      <td>0</td>\n",
       "      <td>1</td>\n",
       "      <td>0</td>\n",
       "      <td>0</td>\n",
       "    </tr>\n",
       "    <tr>\n",
       "      <th>...</th>\n",
       "      <td>...</td>\n",
       "      <td>...</td>\n",
       "      <td>...</td>\n",
       "      <td>...</td>\n",
       "      <td>...</td>\n",
       "      <td>...</td>\n",
       "      <td>...</td>\n",
       "      <td>...</td>\n",
       "      <td>...</td>\n",
       "      <td>...</td>\n",
       "      <td>...</td>\n",
       "      <td>...</td>\n",
       "      <td>...</td>\n",
       "      <td>...</td>\n",
       "      <td>...</td>\n",
       "      <td>...</td>\n",
       "      <td>...</td>\n",
       "      <td>...</td>\n",
       "      <td>...</td>\n",
       "      <td>...</td>\n",
       "      <td>...</td>\n",
       "    </tr>\n",
       "    <tr>\n",
       "      <th>7038</th>\n",
       "      <td>1</td>\n",
       "      <td>1990.50</td>\n",
       "      <td>1</td>\n",
       "      <td>0</td>\n",
       "      <td>1</td>\n",
       "      <td>1</td>\n",
       "      <td>1</td>\n",
       "      <td>1</td>\n",
       "      <td>1</td>\n",
       "      <td>0</td>\n",
       "      <td>...</td>\n",
       "      <td>0</td>\n",
       "      <td>0</td>\n",
       "      <td>1</td>\n",
       "      <td>0</td>\n",
       "      <td>0</td>\n",
       "      <td>0</td>\n",
       "      <td>1</td>\n",
       "      <td>0</td>\n",
       "      <td>0</td>\n",
       "      <td>1</td>\n",
       "    </tr>\n",
       "    <tr>\n",
       "      <th>7039</th>\n",
       "      <td>1</td>\n",
       "      <td>7362.90</td>\n",
       "      <td>0</td>\n",
       "      <td>1</td>\n",
       "      <td>1</td>\n",
       "      <td>0</td>\n",
       "      <td>1</td>\n",
       "      <td>1</td>\n",
       "      <td>1</td>\n",
       "      <td>0</td>\n",
       "      <td>...</td>\n",
       "      <td>0</td>\n",
       "      <td>0</td>\n",
       "      <td>1</td>\n",
       "      <td>0</td>\n",
       "      <td>1</td>\n",
       "      <td>0</td>\n",
       "      <td>0</td>\n",
       "      <td>1</td>\n",
       "      <td>0</td>\n",
       "      <td>0</td>\n",
       "    </tr>\n",
       "    <tr>\n",
       "      <th>7040</th>\n",
       "      <td>1</td>\n",
       "      <td>346.45</td>\n",
       "      <td>1</td>\n",
       "      <td>0</td>\n",
       "      <td>0</td>\n",
       "      <td>0</td>\n",
       "      <td>0</td>\n",
       "      <td>0</td>\n",
       "      <td>0</td>\n",
       "      <td>0</td>\n",
       "      <td>...</td>\n",
       "      <td>0</td>\n",
       "      <td>0</td>\n",
       "      <td>0</td>\n",
       "      <td>0</td>\n",
       "      <td>0</td>\n",
       "      <td>1</td>\n",
       "      <td>0</td>\n",
       "      <td>0</td>\n",
       "      <td>0</td>\n",
       "      <td>0</td>\n",
       "    </tr>\n",
       "    <tr>\n",
       "      <th>7041</th>\n",
       "      <td>1</td>\n",
       "      <td>306.60</td>\n",
       "      <td>0</td>\n",
       "      <td>0</td>\n",
       "      <td>0</td>\n",
       "      <td>0</td>\n",
       "      <td>0</td>\n",
       "      <td>0</td>\n",
       "      <td>1</td>\n",
       "      <td>1</td>\n",
       "      <td>...</td>\n",
       "      <td>0</td>\n",
       "      <td>0</td>\n",
       "      <td>0</td>\n",
       "      <td>0</td>\n",
       "      <td>0</td>\n",
       "      <td>0</td>\n",
       "      <td>1</td>\n",
       "      <td>1</td>\n",
       "      <td>0</td>\n",
       "      <td>1</td>\n",
       "    </tr>\n",
       "    <tr>\n",
       "      <th>7042</th>\n",
       "      <td>1</td>\n",
       "      <td>6844.50</td>\n",
       "      <td>1</td>\n",
       "      <td>0</td>\n",
       "      <td>1</td>\n",
       "      <td>1</td>\n",
       "      <td>1</td>\n",
       "      <td>1</td>\n",
       "      <td>0</td>\n",
       "      <td>0</td>\n",
       "      <td>...</td>\n",
       "      <td>0</td>\n",
       "      <td>0</td>\n",
       "      <td>0</td>\n",
       "      <td>1</td>\n",
       "      <td>0</td>\n",
       "      <td>0</td>\n",
       "      <td>0</td>\n",
       "      <td>1</td>\n",
       "      <td>0</td>\n",
       "      <td>1</td>\n",
       "    </tr>\n",
       "  </tbody>\n",
       "</table>\n",
       "<p>7043 rows × 7064 columns</p>\n",
       "</div>"
      ],
      "text/plain": [
       "      PaperlessBilling  TotalCharges  OnlineSecurity  OnlineBackup  \\\n",
       "0                    1         29.85               0             1   \n",
       "1                    0       1889.50               1             0   \n",
       "2                    1        108.15               1             1   \n",
       "3                    0       1840.75               1             0   \n",
       "4                    1        151.65               0             0   \n",
       "...                ...           ...             ...           ...   \n",
       "7038                 1       1990.50               1             0   \n",
       "7039                 1       7362.90               0             1   \n",
       "7040                 1        346.45               1             0   \n",
       "7041                 1        306.60               0             0   \n",
       "7042                 1       6844.50               1             0   \n",
       "\n",
       "      DeviceProtection  TechSupport  StreamingTV  StreamingMovies  \\\n",
       "0                    0            0            0                0   \n",
       "1                    1            0            0                0   \n",
       "2                    0            0            0                0   \n",
       "3                    1            1            0                0   \n",
       "4                    0            0            0                0   \n",
       "...                ...          ...          ...              ...   \n",
       "7038                 1            1            1                1   \n",
       "7039                 1            0            1                1   \n",
       "7040                 0            0            0                0   \n",
       "7041                 0            0            0                0   \n",
       "7042                 1            1            1                1   \n",
       "\n",
       "      MultipleLines  SeniorCitizen  ...  customerID_9993-LHIEB  \\\n",
       "0                 0              0  ...                      0   \n",
       "1                 0              0  ...                      0   \n",
       "2                 0              0  ...                      0   \n",
       "3                 0              0  ...                      0   \n",
       "4                 0              0  ...                      0   \n",
       "...             ...            ...  ...                    ...   \n",
       "7038              1              0  ...                      0   \n",
       "7039              1              0  ...                      0   \n",
       "7040              0              0  ...                      0   \n",
       "7041              1              1  ...                      0   \n",
       "7042              0              0  ...                      0   \n",
       "\n",
       "      customerID_9995-HOTOH  Type_One year  Type_Two year  \\\n",
       "0                         0              0              0   \n",
       "1                         0              1              0   \n",
       "2                         0              0              0   \n",
       "3                         0              1              0   \n",
       "4                         0              0              0   \n",
       "...                     ...            ...            ...   \n",
       "7038                      0              1              0   \n",
       "7039                      0              1              0   \n",
       "7040                      0              0              0   \n",
       "7041                      0              0              0   \n",
       "7042                      0              0              1   \n",
       "\n",
       "      PaymentMethod_Credit card (automatic)  PaymentMethod_Electronic check  \\\n",
       "0                                         0                               1   \n",
       "1                                         0                               0   \n",
       "2                                         0                               0   \n",
       "3                                         0                               0   \n",
       "4                                         0                               1   \n",
       "...                                     ...                             ...   \n",
       "7038                                      0                               0   \n",
       "7039                                      1                               0   \n",
       "7040                                      0                               1   \n",
       "7041                                      0                               0   \n",
       "7042                                      0                               0   \n",
       "\n",
       "      PaymentMethod_Mailed check  InternetService_Fiber optic  \\\n",
       "0                              0                            0   \n",
       "1                              1                            0   \n",
       "2                              1                            0   \n",
       "3                              0                            0   \n",
       "4                              0                            1   \n",
       "...                          ...                          ...   \n",
       "7038                           1                            0   \n",
       "7039                           0                            1   \n",
       "7040                           0                            0   \n",
       "7041                           1                            1   \n",
       "7042                           0                            1   \n",
       "\n",
       "      InternetService_No  gender_Male  \n",
       "0                      0            0  \n",
       "1                      0            1  \n",
       "2                      0            1  \n",
       "3                      0            1  \n",
       "4                      0            0  \n",
       "...                  ...          ...  \n",
       "7038                   0            1  \n",
       "7039                   0            0  \n",
       "7040                   0            0  \n",
       "7041                   0            1  \n",
       "7042                   0            1  \n",
       "\n",
       "[7043 rows x 7064 columns]"
      ]
     },
     "execution_count": 50,
     "metadata": {},
     "output_type": "execute_result"
    }
   ],
   "source": [
    "data"
   ]
  },
  {
   "cell_type": "markdown",
   "id": "dd6a75a8",
   "metadata": {},
   "source": [
    "Определим признаки и целевой признак."
   ]
  },
  {
   "cell_type": "code",
   "execution_count": 51,
   "id": "f3aab4bd",
   "metadata": {},
   "outputs": [],
   "source": [
    "features = data.drop(['Exited'], axis=1)\n",
    "target = data['Exited'] "
   ]
  },
  {
   "cell_type": "markdown",
   "id": "a1f91039",
   "metadata": {},
   "source": [
    "Разделим данные на обучающую и тестовую выборки."
   ]
  },
  {
   "cell_type": "code",
   "execution_count": 52,
   "id": "0215e366",
   "metadata": {},
   "outputs": [],
   "source": [
    "features_train, features_test, target_train, target_test = train_test_split(\n",
    "    features, target, test_size=0.2, random_state=12345)"
   ]
  },
  {
   "cell_type": "markdown",
   "id": "7ea542d6",
   "metadata": {},
   "source": [
    "Определим численные столбцы."
   ]
  },
  {
   "cell_type": "code",
   "execution_count": 53,
   "id": "2429fa49",
   "metadata": {},
   "outputs": [],
   "source": [
    "numeric = ['Term_Contract','TotalCharges']"
   ]
  },
  {
   "cell_type": "code",
   "execution_count": 54,
   "id": "34c48b3c",
   "metadata": {},
   "outputs": [
    {
     "name": "stdout",
     "output_type": "stream",
     "text": [
      "<class 'pandas.core.frame.DataFrame'>\n",
      "Int64Index: 7043 entries, 0 to 7042\n",
      "Columns: 7064 entries, PaperlessBilling to gender_Male\n",
      "dtypes: float64(1), int16(1), int64(12), uint8(7050)\n",
      "memory usage: 48.4 MB\n"
     ]
    }
   ],
   "source": [
    "data.info()"
   ]
  },
  {
   "cell_type": "markdown",
   "id": "e2d8aad9",
   "metadata": {},
   "source": [
    "Масштабируем численные значения."
   ]
  },
  {
   "cell_type": "code",
   "execution_count": 55,
   "id": "56d74f45",
   "metadata": {},
   "outputs": [],
   "source": [
    "scaler = StandardScaler()\n",
    "scaler.fit(features_train[numeric])\n",
    "features_train[numeric] = scaler.transform(features_train[numeric])\n",
    "features_test[numeric] = scaler.transform(features_test[numeric])"
   ]
  },
  {
   "cell_type": "markdown",
   "id": "e28f43ac",
   "metadata": {},
   "source": [
    "Обучим модель дерева решений. Посчитаем значение accuracy и auc_roc на валидационной выборке."
   ]
  },
  {
   "cell_type": "code",
   "execution_count": 56,
   "id": "7b1379ad",
   "metadata": {},
   "outputs": [
    {
     "name": "stdout",
     "output_type": "stream",
     "text": [
      "0.8097941802696949 - accuracy модели DecisionTreeClassifier на тестовой выборке\n",
      "0.7306542510951148 - ROC-AUC модели DecisionTreeClassifier на тестовой выборке\n"
     ]
    }
   ],
   "source": [
    "model = DecisionTreeClassifier(random_state=12345)\n",
    "model.fit(features_train, target_train)\n",
    "predictions_test = model.predict(features_test)\n",
    "probabilities_test= model.predict_proba(features_test)\n",
    "probabilities_one_test = probabilities_test[:, 1]\n",
    "test_accuracy = accuracy_score(target_test, predictions_test)\n",
    "print(test_accuracy,\"- accuracy модели DecisionTreeClassifier на тестовой выборке\")\n",
    "auc_roc_test = roc_auc_score(target_test, predictions_test)\n",
    "print(auc_roc_test, \"- ROC-AUC модели DecisionTreeClassifier на тестовой выборке\")"
   ]
  },
  {
   "cell_type": "markdown",
   "id": "d3e8a4d0",
   "metadata": {},
   "source": [
    "Чтобы оценить адекватность модели, проверим, как часто в целевом признаке встречается класс «1» или «0». Количество уникальных значений подсчитывается методом value_counts(). Он группирует строго одинаковые величины."
   ]
  },
  {
   "cell_type": "code",
   "execution_count": 57,
   "id": "f4dabfdf",
   "metadata": {},
   "outputs": [
    {
     "name": "stdout",
     "output_type": "stream",
     "text": [
      "0   0.73\n",
      "1   0.27\n",
      "Name: Exited, dtype: float64\n"
     ]
    },
    {
     "data": {
      "image/png": "[encoded data removed]",
      "text/plain": [
       "<Figure size 432x288 with 1 Axes>"
      ]
     },
     "metadata": {
      "needs_background": "light"
     },
     "output_type": "display_data"
    }
   ],
   "source": [
    "class_frequency = data['Exited'].value_counts(normalize=True)\n",
    "print(class_frequency)\n",
    "class_frequency.plot(kind='bar')\n",
    "plt.show()"
   ]
  },
  {
   "cell_type": "markdown",
   "id": "c3f2f030",
   "metadata": {},
   "source": [
    "Узнаем из данных, что 27 % клиентов ушли от оператора. Проанализируем частоты классов в результатах предсказаний решающего дерева."
   ]
  },
  {
   "cell_type": "code",
   "execution_count": 58,
   "id": "39d1b40a",
   "metadata": {},
   "outputs": [
    {
     "name": "stdout",
     "output_type": "stream",
     "text": [
      "0   0.78\n",
      "1   0.22\n",
      "dtype: float64\n"
     ]
    },
    {
     "data": {
      "image/png": "[encoded data removed]",
      "text/plain": [
       "<Figure size 432x288 with 1 Axes>"
      ]
     },
     "metadata": {
      "needs_background": "light"
     },
     "output_type": "display_data"
    }
   ],
   "source": [
    "model = DecisionTreeClassifier(random_state=12345)\n",
    "model.fit(features_train, target_train)\n",
    "predicted = pd.Series(model.predict(features_test))\n",
    "class_frequency = predicted.value_counts(normalize=True)\n",
    "print(class_frequency)\n",
    "class_frequency.plot(kind='bar')\n",
    "plt.show()"
   ]
  },
  {
   "cell_type": "markdown",
   "id": "ea3f64a2",
   "metadata": {},
   "source": [
    "Данные немного изменились. Создадим константную модель: любому объекту она прогнозирует класс «0». Сохраним её предсказания в переменной target_pred_constant. Напечатаем на экране значение accuracy и roc_auc."
   ]
  },
  {
   "cell_type": "code",
   "execution_count": 59,
   "id": "ab04e336",
   "metadata": {},
   "outputs": [
    {
     "name": "stdout",
     "output_type": "stream",
     "text": [
      "0.7346301292063041 - accuracy константной модели\n",
      "0.5 - ROC-AUC константной модели\n"
     ]
    }
   ],
   "source": [
    "target_pred_constant = pd.Series ([0] * len(target)) \n",
    "accuracy = accuracy_score(target, target_pred_constant)\n",
    "roc_auc = roc_auc_score(target, target_pred_constant)\n",
    "print(accuracy, \"- accuracy константной модели\") \n",
    "print(roc_auc, \"- ROC-AUC константной модели\")"
   ]
  },
  {
   "cell_type": "markdown",
   "id": "2d364f3b",
   "metadata": {},
   "source": [
    "Классы несбалансированны, когда их соотношение далеко от 1:1. Баланс классов наблюдается, если их количество примерно равно. Увеличим выборку модели случайного леса с помощью функции upsample для борьбы с дисбалансом. Посмотрим улучшится ли метрика auc_roc."
   ]
  },
  {
   "cell_type": "code",
   "execution_count": 60,
   "id": "6ccb83e6",
   "metadata": {},
   "outputs": [
    {
     "name": "stdout",
     "output_type": "stream",
     "text": [
      "accuracy 0.7963094393186657\n",
      "auc_roc 0.7506148013423163\n"
     ]
    }
   ],
   "source": [
    "def upsample(features, target, repeat):\n",
    "    features_zeros = features[target == 0]\n",
    "    features_ones = features[target == 1]\n",
    "    target_zeros = target[target == 0]\n",
    "    target_ones = target[target == 1]\n",
    "\n",
    "    features_upsampled = pd.concat([features_zeros] + [features_ones] * repeat)\n",
    "    target_upsampled = pd.concat([target_zeros] + [target_ones] * repeat)\n",
    "    \n",
    "    features_upsampled, target_upsampled = shuffle(\n",
    "        features_upsampled, target_upsampled, random_state=12345)\n",
    "    \n",
    "    return features_upsampled, target_upsampled\n",
    "\n",
    "features_upsampled, target_upsampled = upsample(features_train, target_train, 10)\n",
    "\n",
    "model= DecisionTreeClassifier(random_state=12345,class_weight='balanced')\n",
    "model.fit(features_upsampled, target_upsampled)\n",
    "probabilities_train= model.predict_proba(features_train)\n",
    "probabilities_one_test = probabilities_train[:, 1]\n",
    "probabilities_test= model.predict_proba(features_test)\n",
    "probabilities_one_test = probabilities_test[:, 1]\n",
    "auc_roc = roc_auc_score(target_test, probabilities_one_test)\n",
    "accuracy = accuracy_score(target_test, probabilities_one_test)\n",
    "print(\"accuracy\",accuracy)\n",
    "print(\"auc_roc\",auc_roc)\n"
   ]
  },
  {
   "cell_type": "markdown",
   "id": "1fa0a6f2",
   "metadata": {},
   "source": [
    "Метрики accuracy и ROC-AUC улучшилась. Теперь уменьшим выборку модели случайного леса с помощью функции downsample для борьбы с дисбалансом. Посмотрим улучшится ли метрика auc_roc."
   ]
  },
  {
   "cell_type": "code",
   "execution_count": 61,
   "id": "73b2ff63",
   "metadata": {},
   "outputs": [
    {
     "name": "stdout",
     "output_type": "stream",
     "text": [
      "accuracy 0.6486870120652946\n",
      "auc_roc 0.7205189947998053\n"
     ]
    }
   ],
   "source": [
    "def downsample(features, target, fraction):\n",
    "    features_zeros = features[target == 0]\n",
    "    features_ones = features[target == 1]\n",
    "    target_zeros = target[target == 0]\n",
    "    target_ones = target[target == 1]\n",
    "\n",
    "    features_downsampled = pd.concat(\n",
    "        [features_zeros.sample(frac=fraction, random_state=12345)] + [features_ones])\n",
    "    target_downsampled = pd.concat(\n",
    "        [target_zeros.sample(frac=fraction, random_state=12345)] + [target_ones])\n",
    "    \n",
    "    features_downsampled, target_downsampled = shuffle(\n",
    "        features_downsampled, target_downsampled, random_state=12345)\n",
    "    \n",
    "    return features_downsampled, target_downsampled\n",
    "\n",
    "features_downsampled, target_downsampled = downsample(features_train, target_train, 0.1)\n",
    "\n",
    "model= DecisionTreeClassifier(random_state=12345, class_weight='balanced')\n",
    "model.fit(features_downsampled, target_downsampled)\n",
    "probabilities_test= model.predict_proba(features_test)\n",
    "probabilities_one_test = probabilities_test[:, 1]\n",
    "auc_roc = roc_auc_score(target_test, probabilities_one_test)\n",
    "accuracy = accuracy_score(target_test, probabilities_one_test)\n",
    "print(\"accuracy\",accuracy)\n",
    "print(\"auc_roc\",auc_roc)\n"
   ]
  },
  {
   "cell_type": "markdown",
   "id": "e21c0a6d",
   "metadata": {},
   "source": [
    "Метрики accuracy  и ROC-AUC ухудшились. То есть для борьбы с дисбалансом классов можно использовать увеличение выборки с помощью функции upsample, а также можно добавить атрибут в модель - class_weight='balanced'."
   ]
  },
  {
   "cell_type": "markdown",
   "id": "b8f9aa01",
   "metadata": {},
   "source": [
    "## Вывод"
   ]
  },
  {
   "cell_type": "markdown",
   "id": "4a63214d",
   "metadata": {},
   "source": [
    "На этапе предобработки данных:\n",
    "- привели данные к нужному типу\n",
    "- заполненили пропущенные значения\n",
    "- объединили таблицу\n",
    "- добавили новые признаки\n",
    "- удалили ненужные столбцы\n",
    "- закодировали данные\n",
    "- масштабировали численные значения\n",
    "- определили признаки \n",
    "- разделили данные на выборки\n",
    "- написали вывод \n",
    "\n",
    "Данные готовы. Приступим к обучению моделей. "
   ]
  },
  {
   "cell_type": "markdown",
   "id": "918440f8",
   "metadata": {},
   "source": [
    "## Обучение моделей"
   ]
  },
  {
   "cell_type": "markdown",
   "id": "d303b275",
   "metadata": {},
   "source": [
    "На данном этапе:\n",
    "- подберем наилучшие параметры для нескольких моделей\n",
    "- обучим модели классификации\n",
    "- проверим качество моделей с помощию метрик accuracy, ROC-AUC\n",
    "- посчитаем время предсказания моделей на тестовой и обучающей выборке"
   ]
  },
  {
   "cell_type": "markdown",
   "id": "8acc5011",
   "metadata": {},
   "source": [
    "Подберем параметры для модели DecisionTreeClassifier."
   ]
  },
  {
   "cell_type": "code",
   "execution_count": 62,
   "id": "3475421b",
   "metadata": {},
   "outputs": [],
   "source": [
    "# model = DecisionTreeClassifier(random_state=12345)\n",
    "# params_dtc = {'max_depth':[1,6,1]}\n",
    "# DTC = GridSearchCV(model, params_dtc, cv=3)\n",
    "# DTC.fit(features_train,target_train)\n",
    "# print(DTC.best_params_)\n",
    "# print(DTC.best_score_)"
   ]
  },
  {
   "cell_type": "markdown",
   "id": "e5e2c06a",
   "metadata": {},
   "source": [
    "Обучим модель DecisionTreeClassifier с подобранными параметрами."
   ]
  },
  {
   "cell_type": "code",
   "execution_count": 64,
   "id": "7f7d3d49",
   "metadata": {},
   "outputs": [
    {
     "name": "stdout",
     "output_type": "stream",
     "text": [
      "0.8522222506852473 - AUC ROC модели DecisionTreeClassifier на тестовой выборке\n",
      "0.8733360757689617 - AUC ROC модели DecisionTreeClassifier на обучающей выборке\n",
      "0.7139815471965933 - Accuracy модели DecisionTreeClassifier на тестовой выборке\n",
      "0.7373091941782037 - Accuracy модели DecisionTreeClassifier на обучающей выборке\n",
      "0.07779240608215332 - Время предсказания модели DecisionTreeClassifier на обучающей выборке\n",
      "0.2443704605102539 - Время предсказания модели DecisionTreeClassifier на тестовой выборке\n",
      "Wall time: 1.48 s\n"
     ]
    }
   ],
   "source": [
    "%%time\n",
    "model = DecisionTreeClassifier(random_state=12345, max_depth=6, class_weight='balanced')\n",
    "model.fit(features_train,target_train)\n",
    "probabilities_test= model.predict_proba(features_test)[:, 1]\n",
    "start= time.time()\n",
    "predictions_test = model.predict(features_test)\n",
    "end= time.time()\n",
    "dtc_time_predictions_test = end - start\n",
    "probabilities_train = model.predict_proba(features_train)[:, 1]\n",
    "start= time.time()\n",
    "predictions_train = model.predict(features_train)\n",
    "end= time.time()\n",
    "dtc_time_predictions_train = end - start\n",
    "auc_roc_dtc_test = roc_auc_score(target_test, probabilities_test)\n",
    "auc_roc_dtc_train = roc_auc_score(target_train, probabilities_train)\n",
    "accuracy_dtc_test = accuracy_score(target_test, predictions_test)\n",
    "accuracy_dtc_train = accuracy_score(target_train, predictions_train)\n",
    "\n",
    "print(auc_roc_dtc_test,'- AUC ROC модели DecisionTreeClassifier на тестовой выборке')\n",
    "print(auc_roc_dtc_train,'- AUC ROC модели DecisionTreeClassifier на обучающей выборке')\n",
    "print(accuracy_dtc_test, '- Accuracy модели DecisionTreeClassifier на тестовой выборке')\n",
    "print(accuracy_dtc_train, '- Accuracy модели DecisionTreeClassifier на обучающей выборке')\n",
    "print(dtc_time_predictions_test, '- Время предсказания модели DecisionTreeClassifier на обучающей выборке')\n",
    "print(dtc_time_predictions_train, '- Время предсказания модели DecisionTreeClassifier на тестовой выборке')"
   ]
  },
  {
   "cell_type": "markdown",
   "id": "955455aa",
   "metadata": {},
   "source": [
    "Подберем параметры для модели LogisticRegression."
   ]
  },
  {
   "cell_type": "code",
   "execution_count": 65,
   "id": "28d2a6d1",
   "metadata": {},
   "outputs": [],
   "source": [
    "# model = LogisticRegression(random_state=12345)\n",
    "# params_lr = {'C': [0.1, 1, 10,100,1000],\n",
    "#           'class_weight': ['balanced', None],\n",
    "#     'solver': ['newton-cg', 'lbfgs', 'liblinear', 'sag', 'saga']}\n",
    "# LR = GridSearchCV(model, params_lr, cv=3)\n",
    "\n",
    "# LR.fit(features_train,target_train)\n",
    "# print(LR.best_params_)\n",
    "# print(LR.best_score_)"
   ]
  },
  {
   "cell_type": "markdown",
   "id": "df83583d",
   "metadata": {},
   "source": [
    "Обучим модель LogisticRegression с подобранными параметрами."
   ]
  },
  {
   "cell_type": "code",
   "execution_count": 66,
   "id": "223da74a",
   "metadata": {},
   "outputs": [
    {
     "name": "stdout",
     "output_type": "stream",
     "text": [
      "0.8424033609140047 - AUC ROC модели LogisticRegression на тестовой выборке\n",
      "0.8612675235158457 - AUC ROC модели LogisticRegression на обучающей выборке\n",
      "0.7544357700496807 - Accuracy модели LogisticRegression на тестовой выборке\n",
      "0.7641107561235356 - Accuracy модели LogisticRegression на обучающей выборке\n",
      "0.07783102989196777 - Время предсказания модели LogisticRegression на обучающей выборке\n",
      "0.2333669662475586 - Время предсказания модели LogisticRegression на тестовой выборке\n"
     ]
    }
   ],
   "source": [
    "model = LogisticRegression(random_state=12345, C= 0.1, class_weight= 'balanced', solver='newton-cg')\n",
    "model.fit(features_train, target_train)\n",
    "probabilities_test= model.predict_proba(features_test)[:, 1]\n",
    "start= time.time()\n",
    "predictions_test = model.predict(features_test)\n",
    "end= time.time()\n",
    "lr_time_predictions_test = end - start\n",
    "probabilities_train = model.predict_proba(features_train)[:, 1]\n",
    "start= time.time()\n",
    "predictions_train = model.predict(features_train)\n",
    "end= time.time()\n",
    "lr_time_predictions_train = end - start\n",
    "auc_roc_lr_test = roc_auc_score(target_test, probabilities_test)\n",
    "auc_roc_lr_train = roc_auc_score(target_train, probabilities_train)\n",
    "accuracy_lr_test = accuracy_score(target_test, predictions_test)\n",
    "accuracy_lr_train = accuracy_score(target_train, predictions_train)\n",
    "\n",
    "print(auc_roc_lr_test,'- AUC ROC модели LogisticRegression на тестовой выборке')\n",
    "print(auc_roc_lr_train,'- AUC ROC модели LogisticRegression на обучающей выборке')\n",
    "print(accuracy_lr_test, '- Accuracy модели LogisticRegression на тестовой выборке')\n",
    "print(accuracy_lr_train, '- Accuracy модели LogisticRegression на обучающей выборке')\n",
    "print(lr_time_predictions_test, '- Время предсказания модели LogisticRegression на обучающей выборке')\n",
    "print(lr_time_predictions_train, '- Время предсказания модели LogisticRegression на тестовой выборке')"
   ]
  },
  {
   "cell_type": "markdown",
   "id": "4cc65d90",
   "metadata": {},
   "source": [
    "Подберем параметры для модели RandomForestClassifier."
   ]
  },
  {
   "cell_type": "code",
   "execution_count": 67,
   "id": "9cccfa9b",
   "metadata": {},
   "outputs": [],
   "source": [
    "# model = RandomForestClassifier(random_state=12345)\n",
    "# params_rfc = {'n_estimators':(50, 200, 25), 'max_depth': (1, 100, 10)}\n",
    "# RFC = GridSearchCV(model, params_rfc, cv=3)\n",
    "# RFC.fit(features_train,target_train)\n",
    "# print(RFC.best_params_)\n",
    "# print(RFC.best_score_)"
   ]
  },
  {
   "cell_type": "markdown",
   "id": "b2fa5324",
   "metadata": {},
   "source": [
    "Обучим модель RandomForestClassifier с подобранными параметрами."
   ]
  },
  {
   "cell_type": "code",
   "execution_count": 68,
   "id": "d8b7d890",
   "metadata": {},
   "outputs": [
    {
     "name": "stdout",
     "output_type": "stream",
     "text": [
      "0.8317634551835438 - AUC ROC модели RandomForestClassifier на тестовой выборке\n",
      "0.855232437614988 - AUC ROC модели RandomForestClassifier на обучающей выборке\n",
      "0.7530163236337828 - Accuracy модели RandomForestClassifier на тестовой выборке\n",
      "0.7658856940007099 - Accuracy модели RandomForestClassifier на обучающей выборке\n",
      "0.08972311019897461 - Время предсказания модели RandomForestClassifier на обучающей выборке\n",
      "0.3779454231262207 - Время предсказания модели RandomForestClassifier на тестовой выборке\n"
     ]
    }
   ],
   "source": [
    "model = RandomForestClassifier(random_state=12345, max_depth=10, n_estimators=50, class_weight= 'balanced')\n",
    "model.fit(features_train, target_train)\n",
    "probabilities_test= model.predict_proba(features_test)[:, 1]\n",
    "start= time.time()\n",
    "predictions_test = model.predict(features_test)\n",
    "end= time.time()\n",
    "rfc_time_predictions_test = end - start\n",
    "probabilities_train = model.predict_proba(features_train)[:, 1]\n",
    "start= time.time()\n",
    "predictions_train = model.predict(features_train)\n",
    "end= time.time()\n",
    "rfc_time_predictions_train = end - start\n",
    "auc_roc_rfc_test = roc_auc_score(target_test, probabilities_test)\n",
    "auc_roc_rfc_train = roc_auc_score(target_train, probabilities_train)\n",
    "accuracy_rfc_test = accuracy_score(target_test, predictions_test)\n",
    "accuracy_rfc_train = accuracy_score(target_train, predictions_train)\n",
    "\n",
    "print(auc_roc_rfc_test,'- AUC ROC модели RandomForestClassifier на тестовой выборке')\n",
    "print(auc_roc_rfc_train,'- AUC ROC модели RandomForestClassifier на обучающей выборке')\n",
    "print(accuracy_rfc_test, '- Accuracy модели RandomForestClassifier на тестовой выборке')\n",
    "print(accuracy_rfc_train, '- Accuracy модели RandomForestClassifier на обучающей выборке')\n",
    "print(rfc_time_predictions_test, '- Время предсказания модели RandomForestClassifier на обучающей выборке')\n",
    "print(rfc_time_predictions_train, '- Время предсказания модели RandomForestClassifier на тестовой выборке')"
   ]
  },
  {
   "cell_type": "markdown",
   "id": "dbb71918",
   "metadata": {},
   "source": [
    "Подберем параметры для модели CatBoostClassifier."
   ]
  },
  {
   "cell_type": "code",
   "execution_count": 69,
   "id": "ea90b8a2",
   "metadata": {},
   "outputs": [],
   "source": [
    "# model = CatBoostClassifier(random_state=12345)\n",
    "# params_rfc = {\"iterations\": [1, 101, 10],\n",
    "#           \"depth\": [1,11,2],\n",
    "#           \"learning_rate\": [0.03, 0.1]}\n",
    "# CBC = GridSearchCV(model, params_rfc, cv=3)\n",
    "# CBC.fit(features_train,target_train)\n",
    "# print(CBC.best_params_)\n",
    "# print(CBC.best_score_)"
   ]
  },
  {
   "cell_type": "markdown",
   "id": "64b4a3a9",
   "metadata": {},
   "source": [
    "Обучим модель CatBoostClassifier с подобранными параметрами."
   ]
  },
  {
   "cell_type": "code",
   "execution_count": 70,
   "id": "60347505",
   "metadata": {},
   "outputs": [
    {
     "name": "stdout",
     "output_type": "stream",
     "text": [
      "0:\tlearn: 0.6746681\ttotal: 397ms\tremaining: 39.7s\n",
      "1:\tlearn: 0.6566750\ttotal: 547ms\tremaining: 27.1s\n",
      "2:\tlearn: 0.6415612\ttotal: 697ms\tremaining: 22.8s\n",
      "3:\tlearn: 0.6251250\ttotal: 855ms\tremaining: 20.7s\n",
      "4:\tlearn: 0.6093731\ttotal: 1.02s\tremaining: 19.6s\n",
      "5:\tlearn: 0.5938532\ttotal: 1.18s\tremaining: 18.7s\n",
      "6:\tlearn: 0.5814588\ttotal: 1.34s\tremaining: 18.1s\n",
      "7:\tlearn: 0.5671203\ttotal: 1.54s\tremaining: 17.9s\n",
      "8:\tlearn: 0.5562916\ttotal: 1.72s\tremaining: 17.5s\n",
      "9:\tlearn: 0.5463449\ttotal: 1.88s\tremaining: 17.1s\n",
      "10:\tlearn: 0.5366771\ttotal: 1.9s\tremaining: 15.6s\n",
      "11:\tlearn: 0.5276357\ttotal: 2.06s\tremaining: 15.3s\n",
      "12:\tlearn: 0.5184864\ttotal: 2.21s\tremaining: 15s\n",
      "13:\tlearn: 0.5107805\ttotal: 2.37s\tremaining: 14.8s\n",
      "14:\tlearn: 0.5048461\ttotal: 2.4s\tremaining: 13.7s\n",
      "15:\tlearn: 0.4968585\ttotal: 2.57s\tremaining: 13.6s\n",
      "16:\tlearn: 0.4916473\ttotal: 2.74s\tremaining: 13.5s\n",
      "17:\tlearn: 0.4866238\ttotal: 2.89s\tremaining: 13.3s\n",
      "18:\tlearn: 0.4812478\ttotal: 3.04s\tremaining: 13.1s\n",
      "19:\tlearn: 0.4766883\ttotal: 3.21s\tremaining: 13s\n",
      "20:\tlearn: 0.4719733\ttotal: 3.38s\tremaining: 12.9s\n",
      "21:\tlearn: 0.4675152\ttotal: 3.53s\tremaining: 12.7s\n",
      "22:\tlearn: 0.4632853\ttotal: 3.7s\tremaining: 12.6s\n",
      "23:\tlearn: 0.4579415\ttotal: 3.86s\tremaining: 12.4s\n",
      "24:\tlearn: 0.4541702\ttotal: 4.03s\tremaining: 12.2s\n",
      "25:\tlearn: 0.4507835\ttotal: 4.18s\tremaining: 12.1s\n",
      "26:\tlearn: 0.4476431\ttotal: 4.33s\tremaining: 11.9s\n",
      "27:\tlearn: 0.4431813\ttotal: 4.49s\tremaining: 11.7s\n",
      "28:\tlearn: 0.4409413\ttotal: 4.65s\tremaining: 11.5s\n",
      "29:\tlearn: 0.4374935\ttotal: 4.8s\tremaining: 11.4s\n",
      "30:\tlearn: 0.4341350\ttotal: 4.96s\tremaining: 11.2s\n",
      "31:\tlearn: 0.4319715\ttotal: 5.13s\tremaining: 11.1s\n",
      "32:\tlearn: 0.4303722\ttotal: 5.3s\tremaining: 10.9s\n",
      "33:\tlearn: 0.4278313\ttotal: 5.46s\tremaining: 10.8s\n",
      "34:\tlearn: 0.4259495\ttotal: 5.62s\tremaining: 10.6s\n",
      "35:\tlearn: 0.4241010\ttotal: 5.77s\tremaining: 10.4s\n",
      "36:\tlearn: 0.4218959\ttotal: 5.92s\tremaining: 10.2s\n",
      "37:\tlearn: 0.4206226\ttotal: 6.08s\tremaining: 10.1s\n",
      "38:\tlearn: 0.4191625\ttotal: 6.24s\tremaining: 9.91s\n",
      "39:\tlearn: 0.4174773\ttotal: 6.32s\tremaining: 9.64s\n",
      "40:\tlearn: 0.4160082\ttotal: 6.47s\tremaining: 9.47s\n",
      "41:\tlearn: 0.4141040\ttotal: 6.61s\tremaining: 9.29s\n",
      "42:\tlearn: 0.4119490\ttotal: 6.76s\tremaining: 9.12s\n",
      "43:\tlearn: 0.4100626\ttotal: 6.92s\tremaining: 8.96s\n",
      "44:\tlearn: 0.4085834\ttotal: 7.08s\tremaining: 8.82s\n",
      "45:\tlearn: 0.4072513\ttotal: 7.25s\tremaining: 8.66s\n",
      "46:\tlearn: 0.4060762\ttotal: 7.4s\tremaining: 8.51s\n",
      "47:\tlearn: 0.4039847\ttotal: 7.56s\tremaining: 8.35s\n",
      "48:\tlearn: 0.4024042\ttotal: 7.73s\tremaining: 8.2s\n",
      "49:\tlearn: 0.4014948\ttotal: 7.88s\tremaining: 8.04s\n",
      "50:\tlearn: 0.4004490\ttotal: 8.04s\tremaining: 7.88s\n",
      "51:\tlearn: 0.3992614\ttotal: 8.19s\tremaining: 7.71s\n",
      "52:\tlearn: 0.3982533\ttotal: 8.35s\tremaining: 7.57s\n",
      "53:\tlearn: 0.3976390\ttotal: 8.52s\tremaining: 7.41s\n",
      "54:\tlearn: 0.3965189\ttotal: 8.53s\tremaining: 7.14s\n",
      "55:\tlearn: 0.3951750\ttotal: 8.68s\tremaining: 6.98s\n",
      "56:\tlearn: 0.3940748\ttotal: 8.84s\tremaining: 6.82s\n",
      "57:\tlearn: 0.3931272\ttotal: 8.92s\tremaining: 6.61s\n",
      "58:\tlearn: 0.3922973\ttotal: 9.08s\tremaining: 6.46s\n",
      "59:\tlearn: 0.3913902\ttotal: 9.24s\tremaining: 6.32s\n",
      "60:\tlearn: 0.3906906\ttotal: 9.42s\tremaining: 6.17s\n",
      "61:\tlearn: 0.3903285\ttotal: 9.58s\tremaining: 6.03s\n",
      "62:\tlearn: 0.3884004\ttotal: 9.74s\tremaining: 5.87s\n",
      "63:\tlearn: 0.3879278\ttotal: 9.9s\tremaining: 5.72s\n",
      "64:\tlearn: 0.3873395\ttotal: 10.1s\tremaining: 5.57s\n",
      "65:\tlearn: 0.3866902\ttotal: 10.2s\tremaining: 5.42s\n",
      "66:\tlearn: 0.3860254\ttotal: 10.4s\tremaining: 5.26s\n",
      "67:\tlearn: 0.3853238\ttotal: 10.5s\tremaining: 5.11s\n",
      "68:\tlearn: 0.3838158\ttotal: 10.7s\tremaining: 4.95s\n",
      "69:\tlearn: 0.3829275\ttotal: 10.8s\tremaining: 4.8s\n",
      "70:\tlearn: 0.3821994\ttotal: 11s\tremaining: 4.64s\n",
      "71:\tlearn: 0.3808029\ttotal: 11.2s\tremaining: 4.5s\n",
      "72:\tlearn: 0.3789483\ttotal: 11.3s\tremaining: 4.35s\n",
      "73:\tlearn: 0.3776496\ttotal: 11.5s\tremaining: 4.2s\n",
      "74:\tlearn: 0.3768762\ttotal: 11.7s\tremaining: 4.04s\n",
      "75:\tlearn: 0.3761262\ttotal: 11.8s\tremaining: 3.89s\n",
      "76:\tlearn: 0.3755150\ttotal: 12s\tremaining: 3.73s\n",
      "77:\tlearn: 0.3751339\ttotal: 12.1s\tremaining: 3.58s\n",
      "78:\tlearn: 0.3740591\ttotal: 12.3s\tremaining: 3.42s\n",
      "79:\tlearn: 0.3735804\ttotal: 12.4s\tremaining: 3.27s\n",
      "80:\tlearn: 0.3730650\ttotal: 12.6s\tremaining: 3.11s\n",
      "81:\tlearn: 0.3722175\ttotal: 12.7s\tremaining: 2.95s\n",
      "82:\tlearn: 0.3709961\ttotal: 12.9s\tremaining: 2.8s\n",
      "83:\tlearn: 0.3704423\ttotal: 13.1s\tremaining: 2.64s\n",
      "84:\tlearn: 0.3700338\ttotal: 13.2s\tremaining: 2.49s\n",
      "85:\tlearn: 0.3684897\ttotal: 13.4s\tremaining: 2.33s\n",
      "86:\tlearn: 0.3677436\ttotal: 13.5s\tremaining: 2.18s\n",
      "87:\tlearn: 0.3672437\ttotal: 13.7s\tremaining: 2.02s\n",
      "88:\tlearn: 0.3662745\ttotal: 13.9s\tremaining: 1.87s\n",
      "89:\tlearn: 0.3658654\ttotal: 14s\tremaining: 1.71s\n",
      "90:\tlearn: 0.3638181\ttotal: 14.2s\tremaining: 1.56s\n",
      "91:\tlearn: 0.3633259\ttotal: 14.3s\tremaining: 1.4s\n",
      "92:\tlearn: 0.3632557\ttotal: 14.5s\tremaining: 1.25s\n",
      "93:\tlearn: 0.3631145\ttotal: 14.7s\tremaining: 1.09s\n",
      "94:\tlearn: 0.3619956\ttotal: 14.8s\tremaining: 936ms\n",
      "95:\tlearn: 0.3618398\ttotal: 15s\tremaining: 780ms\n",
      "96:\tlearn: 0.3613343\ttotal: 15.1s\tremaining: 624ms\n",
      "97:\tlearn: 0.3610601\ttotal: 15.3s\tremaining: 468ms\n",
      "98:\tlearn: 0.3607471\ttotal: 15.5s\tremaining: 312ms\n",
      "99:\tlearn: 0.3606931\ttotal: 15.6s\tremaining: 156ms\n",
      "100:\tlearn: 0.3605556\ttotal: 15.8s\tremaining: 0us\n",
      "0.8677062786587084 - AUC ROC модели CatBoostClassifier на тестовой выборке\n",
      "0.8933396063849085 - AUC ROC модели CatBoostClassifier на обучающей выборке\n",
      "0.8190205819730305 - Accuracy модели CatBoostClassifier на тестовой выборке\n",
      "0.8372381966631168 - Accuracy модели DecisionTreeClassifier на обучающей выборке\n",
      "0.10496783256530762 - Время предсказания модели CatBoostClassifier на обучающей выборке\n",
      "0.11868405342102051 - Время предсказания модели CatBoostClassifier на тестовой выборке\n"
     ]
    }
   ],
   "source": [
    "model = CatBoostClassifier(random_state=12345,depth= 11, iterations=101, learning_rate= 0.03)\n",
    "model.fit(features_train, target_train)\n",
    "probabilities_test= model.predict_proba(features_test)[:, 1]\n",
    "start= time.time()\n",
    "predictions_test = model.predict(features_test)\n",
    "end= time.time()\n",
    "cbc_time_predictions_test = end - start\n",
    "probabilities_train = model.predict_proba(features_train)[:, 1]\n",
    "start= time.time()\n",
    "predictions_train = model.predict(features_train)\n",
    "end= time.time()\n",
    "cbc_time_predictions_train = end - start\n",
    "auc_roc_cbc_test = roc_auc_score(target_test, probabilities_test)\n",
    "auc_roc_cbc_train = roc_auc_score(target_train, probabilities_train)\n",
    "accuracy_cbc_test = accuracy_score(target_test, predictions_test)\n",
    "accuracy_cbc_train = accuracy_score(target_train, predictions_train)\n",
    "\n",
    "print(auc_roc_cbc_test,'- AUC ROC модели CatBoostClassifier на тестовой выборке')\n",
    "print(auc_roc_cbc_train,'- AUC ROC модели CatBoostClassifier на обучающей выборке')\n",
    "print(accuracy_cbc_test, '- Accuracy модели CatBoostClassifier на тестовой выборке')\n",
    "print(accuracy_cbc_train, '- Accuracy модели DecisionTreeClassifier на обучающей выборке')\n",
    "print(cbc_time_predictions_test, '- Время предсказания модели CatBoostClassifier на обучающей выборке')\n",
    "print(cbc_time_predictions_train, '- Время предсказания модели CatBoostClassifier на тестовой выборке')"
   ]
  },
  {
   "cell_type": "markdown",
   "id": "4e4afbda",
   "metadata": {},
   "source": [
    "Подберем параметры для модели LGBMClassifier."
   ]
  },
  {
   "cell_type": "code",
   "execution_count": 71,
   "id": "e2d4acb1",
   "metadata": {},
   "outputs": [],
   "source": [
    "# model = LGBMClassifier(random_state=12345)\n",
    "# params_lgbm = {'learning_rate':[0.03, 0.1], 'n_estimators':(1,500,100)}\n",
    "# LGBM = GridSearchCV(model, params_rfc, cv=3)\n",
    "# LGBM.fit(features_train,target_train)\n",
    "# print(LGBM.best_params_)\n",
    "# print(LGBM.best_score_)"
   ]
  },
  {
   "cell_type": "markdown",
   "id": "064727aa",
   "metadata": {},
   "source": [
    "Обучим модель LGBMClassifier с подобранными параметрами."
   ]
  },
  {
   "cell_type": "code",
   "execution_count": 72,
   "id": "952aa5a1",
   "metadata": {},
   "outputs": [
    {
     "name": "stdout",
     "output_type": "stream",
     "text": [
      "0.9136806107026667 - AUC ROC модели LGBMClassifier на тестовой выборке\n",
      "0.9990605808349098 - AUC ROC модели LGBMClassifier на обучающей выборке\n",
      "0.8623136976579134 - Accuracy модели LGBMClassifier на тестовой выборке\n",
      "0.978523251686191 - Accuracy модели LGBMClassifier на обучающей выборке\n",
      "0.16145777702331543 - Время предсказания модели LGBMClassifier на обучающей выборке\n",
      "0.6891570091247559 - Время предсказания модели LGBMClassifier на тестовой выборке\n"
     ]
    }
   ],
   "source": [
    "model = LGBMClassifier(random_state=12345, class_weight= 'balanced', learning_rate=0.1, n_estimators=500)\n",
    "model.fit(features_train, target_train)\n",
    "probabilities_test= model.predict_proba(features_test)[:, 1]\n",
    "start= time.time()\n",
    "predictions_test = model.predict(features_test)\n",
    "end= time.time()\n",
    "lgbm_time_predictions_test = end - start\n",
    "probabilities_train = model.predict_proba(features_train)[:, 1]\n",
    "start= time.time()\n",
    "predictions_train = model.predict(features_train)\n",
    "end= time.time()\n",
    "lgbm_time_predictions_train = end - start\n",
    "auc_roc_lgbm_test = roc_auc_score(target_test, probabilities_test)\n",
    "auc_roc_lgbm_train = roc_auc_score(target_train, probabilities_train)\n",
    "accuracy_lgbm_test = accuracy_score(target_test, predictions_test)\n",
    "accuracy_lgbm_train = accuracy_score(target_train, predictions_train)\n",
    "\n",
    "print(auc_roc_lgbm_test,'- AUC ROC модели LGBMClassifier на тестовой выборке')\n",
    "print(auc_roc_lgbm_train,'- AUC ROC модели LGBMClassifier на обучающей выборке')\n",
    "print(accuracy_lgbm_test, '- Accuracy модели LGBMClassifier на тестовой выборке')\n",
    "print(accuracy_lgbm_train, '- Accuracy модели LGBMClassifier на обучающей выборке')\n",
    "print(lgbm_time_predictions_test, '- Время предсказания модели LGBMClassifier на обучающей выборке')\n",
    "print(lgbm_time_predictions_train, '- Время предсказания модели LGBMClassifier на тестовой выборке')"
   ]
  },
  {
   "cell_type": "markdown",
   "id": "fbacc3ef",
   "metadata": {},
   "source": [
    "## Вывод "
   ]
  },
  {
   "cell_type": "markdown",
   "id": "ee2426e2",
   "metadata": {},
   "source": [
    "На этом этапе:\n",
    "- подбрали параметры для нескольких моделей\n",
    "- обучили 5 моделей классификации\n",
    "- проверили качество моделей с помощию метрик accuracy, ROC-AUC\n",
    "- посчитали время предсказания моделей на тестовой и обучающей выборке"
   ]
  },
  {
   "cell_type": "markdown",
   "id": "d85e1b51",
   "metadata": {},
   "source": [
    "# 4. Итог"
   ]
  },
  {
   "cell_type": "markdown",
   "id": "7906bce0",
   "metadata": {},
   "source": [
    "Соберем все метрики и показания в итоговую таблицу и изучим полученные значения."
   ]
  },
  {
   "cell_type": "code",
   "execution_count": 82,
   "id": "299c69d8",
   "metadata": {},
   "outputs": [],
   "source": [
    "results = {\n",
    "    'Model' : ['RandomForestClassifier','LogisticRegression','DecisionTreeClassifier','CatBoostClassifier','LGBMClassifier'],\n",
    "    'auc_roc_test' :pd.Series([ auc_roc_rfc_test, auc_roc_lr_test, auc_roc_dtc_test, auc_roc_cbc_test, auc_roc_lgbm_test]),\n",
    "'auc_roc_train' :pd.Series([auc_roc_rfc_train, auc_roc_lr_train, auc_roc_dtc_train, auc_roc_cbc_train, auc_roc_lgbm_train]),\n",
    "'accuracy_test' :pd.Series([accuracy_rfc_test, accuracy_lr_test, accuracy_dtc_test, accuracy_cbc_test, accuracy_lgbm_test]),\n",
    "'accuracy_train' :pd.Series([accuracy_rfc_train, accuracy_lr_train, accuracy_dtc_train, accuracy_cbc_train, accuracy_lgbm_train]),\n",
    "'time_predictions_test' :pd.Series([rfc_time_predictions_test, lr_time_predictions_test, dtc_time_predictions_test, cbc_time_predictions_test, lgbm_time_predictions_test]),\n",
    "'time_predictions_train' :pd.Series([rfc_time_predictions_train, lr_time_predictions_train, dtc_time_predictions_train, cbc_time_predictions_train, lgbm_time_predictions_train])}\n",
    "results = pd.DataFrame(data=results)"
   ]
  },
  {
   "cell_type": "markdown",
   "id": "2e6c668f",
   "metadata": {},
   "source": [
    "Посмотрим на результат."
   ]
  },
  {
   "cell_type": "code",
   "execution_count": 90,
   "id": "5e4b5505",
   "metadata": {},
   "outputs": [
    {
     "data": {
      "text/html": [
       "<div>\n",
       "<style scoped>\n",
       "    .dataframe tbody tr th:only-of-type {\n",
       "        vertical-align: middle;\n",
       "    }\n",
       "\n",
       "    .dataframe tbody tr th {\n",
       "        vertical-align: top;\n",
       "    }\n",
       "\n",
       "    .dataframe thead th {\n",
       "        text-align: right;\n",
       "    }\n",
       "</style>\n",
       "<table border=\"1\" class=\"dataframe\">\n",
       "  <thead>\n",
       "    <tr style=\"text-align: right;\">\n",
       "      <th></th>\n",
       "      <th>Model</th>\n",
       "      <th>auc_roc_test</th>\n",
       "      <th>auc_roc_train</th>\n",
       "      <th>accuracy_test</th>\n",
       "      <th>accuracy_train</th>\n",
       "      <th>time_predictions_test</th>\n",
       "      <th>time_predictions_train</th>\n",
       "    </tr>\n",
       "  </thead>\n",
       "  <tbody>\n",
       "    <tr>\n",
       "      <th>0</th>\n",
       "      <td>RandomForestClassifier</td>\n",
       "      <td>0.83</td>\n",
       "      <td>0.86</td>\n",
       "      <td>0.75</td>\n",
       "      <td>0.77</td>\n",
       "      <td>0.09</td>\n",
       "      <td>0.38</td>\n",
       "    </tr>\n",
       "    <tr>\n",
       "      <th>1</th>\n",
       "      <td>LogisticRegression</td>\n",
       "      <td>0.84</td>\n",
       "      <td>0.86</td>\n",
       "      <td>0.75</td>\n",
       "      <td>0.76</td>\n",
       "      <td>0.08</td>\n",
       "      <td>0.23</td>\n",
       "    </tr>\n",
       "    <tr>\n",
       "      <th>2</th>\n",
       "      <td>DecisionTreeClassifier</td>\n",
       "      <td>0.85</td>\n",
       "      <td>0.87</td>\n",
       "      <td>0.71</td>\n",
       "      <td>0.74</td>\n",
       "      <td>0.08</td>\n",
       "      <td>0.24</td>\n",
       "    </tr>\n",
       "    <tr>\n",
       "      <th>3</th>\n",
       "      <td>CatBoostClassifier</td>\n",
       "      <td>0.87</td>\n",
       "      <td>0.89</td>\n",
       "      <td>0.82</td>\n",
       "      <td>0.84</td>\n",
       "      <td>0.10</td>\n",
       "      <td>0.12</td>\n",
       "    </tr>\n",
       "    <tr>\n",
       "      <th>4</th>\n",
       "      <td>LGBMClassifier</td>\n",
       "      <td>0.91</td>\n",
       "      <td>1.00</td>\n",
       "      <td>0.86</td>\n",
       "      <td>0.98</td>\n",
       "      <td>0.16</td>\n",
       "      <td>0.69</td>\n",
       "    </tr>\n",
       "  </tbody>\n",
       "</table>\n",
       "</div>"
      ],
      "text/plain": [
       "                    Model  auc_roc_test  auc_roc_train  accuracy_test  \\\n",
       "0  RandomForestClassifier          0.83           0.86           0.75   \n",
       "1      LogisticRegression          0.84           0.86           0.75   \n",
       "2  DecisionTreeClassifier          0.85           0.87           0.71   \n",
       "3      CatBoostClassifier          0.87           0.89           0.82   \n",
       "4          LGBMClassifier          0.91           1.00           0.86   \n",
       "\n",
       "   accuracy_train  time_predictions_test  time_predictions_train  \n",
       "0            0.77                   0.09                    0.38  \n",
       "1            0.76                   0.08                    0.23  \n",
       "2            0.74                   0.08                    0.24  \n",
       "3            0.84                   0.10                    0.12  \n",
       "4            0.98                   0.16                    0.69  "
      ]
     },
     "metadata": {},
     "output_type": "display_data"
    }
   ],
   "source": [
    "display(results)"
   ]
  },
  {
   "cell_type": "markdown",
   "id": "01652c8e",
   "metadata": {},
   "source": [
    "- наилучший результат качества предсказания на обеих выборках у модели LGBMClassifier \n",
    "- наибольшее время предсказания у модели LGBMClassifier\n",
    "- если важнее время предсказания, то посоветуем выбрать оператору модель CatBoostClassifier\n",
    "- если важнее качество предсказания, то посоветуем выбрать оператору модель LGBMClassifier"
   ]
  }
 ],
 "metadata": {
  "kernelspec": {
   "display_name": "Python 3.9.13 64-bit (microsoft store)",
   "language": "python",
   "name": "python3"
  },
  "language_info": {
   "codemirror_mode": {
    "name": "ipython",
    "version": 3
   },
   "file_extension": ".py",
   "mimetype": "text/x-python",
   "name": "python",
   "nbconvert_exporter": "python",
   "pygments_lexer": "ipython3",
   "version": "3.9.13"
  },
  "vscode": {
   "interpreter": {
    "hash": "e2208fcb8724de8f0b9bef5a592b0e7a5d66357b4ba152f416d4bfe016d4568d"
   }
  }
 },
 "nbformat": 4,
 "nbformat_minor": 5
}
