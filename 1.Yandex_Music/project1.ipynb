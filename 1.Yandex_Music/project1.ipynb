{
 "cells": [
  {
   "cell_type": "markdown",
   "metadata": {
    "id": "E0vqbgi9ay0H"
   },
   "source": [
    "# Яндекс.Музыка"
   ]
  },
  {
   "cell_type": "markdown",
   "metadata": {
    "id": "VUC88oWjTJw2"
   },
   "source": [
    "На данных Яндекс.Музыки необходимо сравнить поведение пользователей.\n",
    "\n",
    "**Цель исследования** — проверить три гипотезы:\n",
    "1. Активность пользователей зависит от дня недели. Причём в Москве и Петербурге это проявляется по-разному.\n",
    "2. В понедельник вечером в Москве преобладают одни жанры, а в Петербурге — другие. Так же и утром пятницы преобладают разные жанры — в зависимости от города. \n",
    "3. Москва и Петербург предпочитают разные жанры музыки. В Москве чаще слушают  русский рэп, в Петербурге — поп-музыку.\n",
    "\n",
    "**Ход исследования**\n",
    " \n",
    "Наше исследование пройдёт в три этапа:\n",
    " 1. Обзор данных.\n",
    " 2. Предобработка данных.\n",
    " 3. Проверка гипотез.\n",
    "\n"
   ]
  },
  {
   "cell_type": "markdown",
   "metadata": {
    "id": "Ml1hmfXC_Zcs"
   },
   "source": [
    "## Обзор данных\n",
    "\n",
    "Составим первое представление о данных Яндекс.Музыки.\n",
    "\n",
    "Основной инструмент аналитика — `pandas`. Импортируeм эту библиотеку.\n",
    "\n"
   ]
  },
  {
   "cell_type": "code",
   "execution_count": 1,
   "metadata": {
    "id": "AXN7PHPN_Zcs"
   },
   "outputs": [],
   "source": [
    "import pandas as pd # импорт библиотеки pandas"
   ]
  },
  {
   "cell_type": "markdown",
   "metadata": {
    "id": "SG23P8tt_Zcs"
   },
   "source": [
    "Прочитаем файл и сохраним его в переменной `df`:"
   ]
  },
  {
   "cell_type": "code",
   "execution_count": 2,
   "metadata": {
    "id": "fFVu7vqh_Zct"
   },
   "outputs": [],
   "source": [
    "df = pd.read_csv('df_music_project1.csv')# чтение файла с данными и сохранение в df"
   ]
  },
  {
   "cell_type": "markdown",
   "metadata": {
    "id": "rDoOMd3uTqnZ"
   },
   "source": [
    "Выведем на экран первые десять строк таблицы:"
   ]
  },
  {
   "cell_type": "code",
   "execution_count": 3,
   "metadata": {
    "id": "oWTVX3gW_Zct"
   },
   "outputs": [
    {
     "data": {
      "text/html": [
       "<div>\n",
       "<style scoped>\n",
       "    .dataframe tbody tr th:only-of-type {\n",
       "        vertical-align: middle;\n",
       "    }\n",
       "\n",
       "    .dataframe tbody tr th {\n",
       "        vertical-align: top;\n",
       "    }\n",
       "\n",
       "    .dataframe thead th {\n",
       "        text-align: right;\n",
       "    }\n",
       "</style>\n",
       "<table border=\"1\" class=\"dataframe\">\n",
       "  <thead>\n",
       "    <tr style=\"text-align: right;\">\n",
       "      <th></th>\n",
       "      <th>userID</th>\n",
       "      <th>Track</th>\n",
       "      <th>artist</th>\n",
       "      <th>genre</th>\n",
       "      <th>City</th>\n",
       "      <th>time</th>\n",
       "      <th>Day</th>\n",
       "    </tr>\n",
       "  </thead>\n",
       "  <tbody>\n",
       "    <tr>\n",
       "      <th>0</th>\n",
       "      <td>FFB692EC</td>\n",
       "      <td>Kamigata To Boots</td>\n",
       "      <td>The Mass Missile</td>\n",
       "      <td>rock</td>\n",
       "      <td>Saint-Petersburg</td>\n",
       "      <td>20:28:33</td>\n",
       "      <td>Wednesday</td>\n",
       "    </tr>\n",
       "    <tr>\n",
       "      <th>1</th>\n",
       "      <td>55204538</td>\n",
       "      <td>Delayed Because of Accident</td>\n",
       "      <td>Andreas Rönnberg</td>\n",
       "      <td>rock</td>\n",
       "      <td>Moscow</td>\n",
       "      <td>14:07:09</td>\n",
       "      <td>Friday</td>\n",
       "    </tr>\n",
       "    <tr>\n",
       "      <th>2</th>\n",
       "      <td>20EC38</td>\n",
       "      <td>Funiculì funiculà</td>\n",
       "      <td>Mario Lanza</td>\n",
       "      <td>pop</td>\n",
       "      <td>Saint-Petersburg</td>\n",
       "      <td>20:58:07</td>\n",
       "      <td>Wednesday</td>\n",
       "    </tr>\n",
       "    <tr>\n",
       "      <th>3</th>\n",
       "      <td>A3DD03C9</td>\n",
       "      <td>Dragons in the Sunset</td>\n",
       "      <td>Fire + Ice</td>\n",
       "      <td>folk</td>\n",
       "      <td>Saint-Petersburg</td>\n",
       "      <td>08:37:09</td>\n",
       "      <td>Monday</td>\n",
       "    </tr>\n",
       "    <tr>\n",
       "      <th>4</th>\n",
       "      <td>E2DC1FAE</td>\n",
       "      <td>Soul People</td>\n",
       "      <td>Space Echo</td>\n",
       "      <td>dance</td>\n",
       "      <td>Moscow</td>\n",
       "      <td>08:34:34</td>\n",
       "      <td>Monday</td>\n",
       "    </tr>\n",
       "    <tr>\n",
       "      <th>5</th>\n",
       "      <td>842029A1</td>\n",
       "      <td>Преданная</td>\n",
       "      <td>IMPERVTOR</td>\n",
       "      <td>rusrap</td>\n",
       "      <td>Saint-Petersburg</td>\n",
       "      <td>13:09:41</td>\n",
       "      <td>Friday</td>\n",
       "    </tr>\n",
       "    <tr>\n",
       "      <th>6</th>\n",
       "      <td>4CB90AA5</td>\n",
       "      <td>True</td>\n",
       "      <td>Roman Messer</td>\n",
       "      <td>dance</td>\n",
       "      <td>Moscow</td>\n",
       "      <td>13:00:07</td>\n",
       "      <td>Wednesday</td>\n",
       "    </tr>\n",
       "    <tr>\n",
       "      <th>7</th>\n",
       "      <td>F03E1C1F</td>\n",
       "      <td>Feeling This Way</td>\n",
       "      <td>Polina Griffith</td>\n",
       "      <td>dance</td>\n",
       "      <td>Moscow</td>\n",
       "      <td>20:47:49</td>\n",
       "      <td>Wednesday</td>\n",
       "    </tr>\n",
       "    <tr>\n",
       "      <th>8</th>\n",
       "      <td>8FA1D3BE</td>\n",
       "      <td>И вновь продолжается бой</td>\n",
       "      <td>NaN</td>\n",
       "      <td>ruspop</td>\n",
       "      <td>Moscow</td>\n",
       "      <td>09:17:40</td>\n",
       "      <td>Friday</td>\n",
       "    </tr>\n",
       "    <tr>\n",
       "      <th>9</th>\n",
       "      <td>E772D5C0</td>\n",
       "      <td>Pessimist</td>\n",
       "      <td>NaN</td>\n",
       "      <td>dance</td>\n",
       "      <td>Saint-Petersburg</td>\n",
       "      <td>21:20:49</td>\n",
       "      <td>Wednesday</td>\n",
       "    </tr>\n",
       "  </tbody>\n",
       "</table>\n",
       "</div>"
      ],
      "text/plain": [
       "     userID                        Track            artist   genre  \\\n",
       "0  FFB692EC            Kamigata To Boots  The Mass Missile    rock   \n",
       "1  55204538  Delayed Because of Accident  Andreas Rönnberg    rock   \n",
       "2    20EC38            Funiculì funiculà       Mario Lanza     pop   \n",
       "3  A3DD03C9        Dragons in the Sunset        Fire + Ice    folk   \n",
       "4  E2DC1FAE                  Soul People        Space Echo   dance   \n",
       "5  842029A1                    Преданная         IMPERVTOR  rusrap   \n",
       "6  4CB90AA5                         True      Roman Messer   dance   \n",
       "7  F03E1C1F             Feeling This Way   Polina Griffith   dance   \n",
       "8  8FA1D3BE     И вновь продолжается бой               NaN  ruspop   \n",
       "9  E772D5C0                    Pessimist               NaN   dance   \n",
       "\n",
       "             City        time        Day  \n",
       "0  Saint-Petersburg  20:28:33  Wednesday  \n",
       "1            Moscow  14:07:09     Friday  \n",
       "2  Saint-Petersburg  20:58:07  Wednesday  \n",
       "3  Saint-Petersburg  08:37:09     Monday  \n",
       "4            Moscow  08:34:34     Monday  \n",
       "5  Saint-Petersburg  13:09:41     Friday  \n",
       "6            Moscow  13:00:07  Wednesday  \n",
       "7            Moscow  20:47:49  Wednesday  \n",
       "8            Moscow  09:17:40     Friday  \n",
       "9  Saint-Petersburg  21:20:49  Wednesday  "
      ]
     },
     "execution_count": 3,
     "metadata": {},
     "output_type": "execute_result"
    }
   ],
   "source": [
    "df.head(10)# получение первых 10 строк таблицы df"
   ]
  },
  {
   "cell_type": "markdown",
   "metadata": {},
   "source": [
    "Итак, в таблице семь столбцов. Тип данных во всех столбцах — `object`.\n",
    "\n",
    "Согласно документации к данным:\n",
    "* `userID` — идентификатор пользователя;\n",
    "* `Track` — название трека;  \n",
    "* `artist` — имя исполнителя;\n",
    "* `genre` — название жанра;\n",
    "* `City` — город пользователя;\n",
    "* `time` — время начала прослушивания;\n",
    "* `Day` — день недели."
   ]
  },
  {
   "cell_type": "markdown",
   "metadata": {
    "id": "EO73Kwic_Zct"
   },
   "source": [
    "При помощи команды info() получим общую информацию о таблице:"
   ]
  },
  {
   "cell_type": "code",
   "execution_count": 4,
   "metadata": {
    "id": "DSf2kIb-_Zct"
   },
   "outputs": [
    {
     "name": "stdout",
     "output_type": "stream",
     "text": [
      "<class 'pandas.core.frame.DataFrame'>\n",
      "RangeIndex: 65079 entries, 0 to 65078\n",
      "Data columns (total 7 columns):\n",
      " #   Column    Non-Null Count  Dtype \n",
      "---  ------    --------------  ----- \n",
      " 0     userID  65079 non-null  object\n",
      " 1   Track     63848 non-null  object\n",
      " 2   artist    57876 non-null  object\n",
      " 3   genre     63881 non-null  object\n",
      " 4     City    65079 non-null  object\n",
      " 5   time      65079 non-null  object\n",
      " 6   Day       65079 non-null  object\n",
      "dtypes: object(7)\n",
      "memory usage: 3.5+ MB\n"
     ]
    }
   ],
   "source": [
    "df.info() # получение общей информации о данных в таблице df"
   ]
  },
  {
   "cell_type": "markdown",
   "metadata": {
    "id": "TaQ2Iwbr_Zct"
   },
   "source": [
    "\n"
   ]
  },
  {
   "cell_type": "markdown",
   "metadata": {
    "id": "MCB6-dXG_Zct"
   },
   "source": [
    "**Выводы**\n",
    "\n",
    "В названиях колонок видны три ошибки:\n",
    "1. Строчные буквы сочетаются с прописными.\n",
    "2. Встречаются пробелы.\n",
    "3. Не используется змеиный регистр.\n",
    "\n",
    "\n",
    "Количество значений в столбцах различается.\n",
    "Значит, в столбцах `Track`,`artist`,`genre` есть пропущенные значения.\n"
   ]
  },
  {
   "cell_type": "markdown",
   "metadata": {
    "id": "SjYF6Ub9_Zct"
   },
   "source": [
    "## Предобработка данных\n",
    "Исправим ошибки в заголовках столбцов, исключим пропуски. Затем проверим данные на дубликаты."
   ]
  },
  {
   "cell_type": "markdown",
   "metadata": {
    "id": "dIaKXr29_Zct"
   },
   "source": [
    "### Стиль заголовков\n",
    "Выведем на экран названия столбцов:"
   ]
  },
  {
   "cell_type": "code",
   "execution_count": 5,
   "metadata": {
    "id": "oKOTdF_Q_Zct"
   },
   "outputs": [
    {
     "data": {
      "text/plain": [
       "Index(['  userID', 'Track', 'artist', 'genre', '  City  ', 'time', 'Day'], dtype='object')"
      ]
     },
     "execution_count": 5,
     "metadata": {},
     "output_type": "execute_result"
    }
   ],
   "source": [
    "df.columns# перечень названий столбцов таблицы df"
   ]
  },
  {
   "cell_type": "markdown",
   "metadata": {
    "id": "zj5534cv_Zct"
   },
   "source": [
    "Переименуем названия столбцов:\n",
    "* приведем некоторые названия к змеиному регистру,\n",
    "* все символы сделаем строчными,\n",
    "* устраним пробелы."
   ]
  },
  {
   "cell_type": "code",
   "execution_count": 6,
   "metadata": {
    "id": "ISlFqs5y_Zct"
   },
   "outputs": [],
   "source": [
    "df = df.rename(columns={'  userID': 'user_id', 'Track': 'track','  City  ':'city', 'Day':'day'})# переименование столбцов"
   ]
  },
  {
   "cell_type": "markdown",
   "metadata": {
    "id": "1dqbh00J_Zct"
   },
   "source": [
    "Проверим результат. Для этого ещё раз выведем на экран названия столбцов:"
   ]
  },
  {
   "cell_type": "code",
   "execution_count": 7,
   "metadata": {
    "id": "d4NOAmTW_Zct"
   },
   "outputs": [
    {
     "data": {
      "text/plain": [
       "Index(['user_id', 'track', 'artist', 'genre', 'city', 'time', 'day'], dtype='object')"
      ]
     },
     "execution_count": 7,
     "metadata": {},
     "output_type": "execute_result"
    }
   ],
   "source": [
    "df.columns# проверка результатов - перечень названий столбцов"
   ]
  },
  {
   "cell_type": "markdown",
   "metadata": {
    "id": "5ISfbcfY_Zct"
   },
   "source": [
    "### Пропуски значений\n",
    "Сначала посчитаем, сколько в таблице пропущенных значений. Для этого достаточно двух методов `pandas`:"
   ]
  },
  {
   "cell_type": "code",
   "execution_count": 8,
   "metadata": {
    "id": "RskX29qr_Zct"
   },
   "outputs": [
    {
     "data": {
      "text/plain": [
       "user_id       0\n",
       "track      1231\n",
       "artist     7203\n",
       "genre      1198\n",
       "city          0\n",
       "time          0\n",
       "day           0\n",
       "dtype: int64"
      ]
     },
     "execution_count": 8,
     "metadata": {},
     "output_type": "execute_result"
    }
   ],
   "source": [
    "df.isna().sum()# подсчёт пропусков"
   ]
  },
  {
   "cell_type": "markdown",
   "metadata": {
    "id": "qubhgnlO_Zct"
   },
   "source": [
    "Не все пропущенные значения влияют на исследование. Так в `track` и `artist` пропуски не важны для вашей работы. Достаточно заменить их явными обозначениями.\n",
    "\n",
    "Но пропуски в `genre` могут помешать сравнению музыкальных вкусов в Москве и Санкт-Петербурге. На практике было бы правильно установить причину пропусков и восстановить данные. \n",
    "\n",
    "Необходимо:\n",
    "* заполнить и эти пропуски явными обозначениями,\n",
    "* оценить, насколько они повредят расчётам. "
   ]
  },
  {
   "cell_type": "markdown",
   "metadata": {
    "id": "fSv2laPA_Zct"
   },
   "source": [
    "Заменим пропущенные значения в столбцах `track`, `artist` и `genre` на строку `'unknown'`. Для этого создадим список `columns_to_replace`, переберем его элементы циклом `for` и для каждого столбца выполним замену пропущенных значений:"
   ]
  },
  {
   "cell_type": "code",
   "execution_count": 9,
   "metadata": {
    "id": "KplB5qWs_Zct"
   },
   "outputs": [],
   "source": [
    "columns_to_replace = ['track', 'artist', 'genre']\n",
    "for column in columns_to_replace:\n",
    "    df[column] = df[column].fillna('unknown')# перебор названий столбцов в цикле и замена пропущенных значений на 'unknown'"
   ]
  },
  {
   "cell_type": "markdown",
   "metadata": {
    "id": "Ilsm-MZo_Zct"
   },
   "source": [
    "Убедимся, что в таблице не осталось пропусков. Для этого ещё раз посчитаем пропущенные значения."
   ]
  },
  {
   "cell_type": "code",
   "execution_count": 10,
   "metadata": {
    "id": "Tq4nYRX4_Zct"
   },
   "outputs": [
    {
     "data": {
      "text/plain": [
       "user_id    0\n",
       "track      0\n",
       "artist     0\n",
       "genre      0\n",
       "city       0\n",
       "time       0\n",
       "day        0\n",
       "dtype: int64"
      ]
     },
     "execution_count": 10,
     "metadata": {},
     "output_type": "execute_result"
    }
   ],
   "source": [
    "df.isna().sum()# подсчёт пропусков"
   ]
  },
  {
   "cell_type": "markdown",
   "metadata": {
    "id": "BWKRtBJ3_Zct"
   },
   "source": [
    "### Дубликаты\n",
    "Посчитаем явные дубликаты в таблице:"
   ]
  },
  {
   "cell_type": "code",
   "execution_count": 11,
   "metadata": {
    "id": "36eES_S0_Zct"
   },
   "outputs": [
    {
     "data": {
      "text/plain": [
       "3826"
      ]
     },
     "execution_count": 11,
     "metadata": {},
     "output_type": "execute_result"
    }
   ],
   "source": [
    "df.duplicated().sum()# подсчёт явных дубликатов"
   ]
  },
  {
   "cell_type": "markdown",
   "metadata": {
    "id": "Ot25h6XR_Zct"
   },
   "source": [
    "Вызовем специальный метод `pandas`, чтобы удалить явные дубликаты:"
   ]
  },
  {
   "cell_type": "code",
   "execution_count": 12,
   "metadata": {
    "id": "exFHq6tt_Zct"
   },
   "outputs": [],
   "source": [
    "df = df.drop_duplicates().reset_index(drop=True)# удаление явных дубликатов (с удалением старых индексов и формированием новых)"
   ]
  },
  {
   "cell_type": "markdown",
   "metadata": {
    "id": "Im2YwBEG_Zct"
   },
   "source": [
    "Ещё раз посчитаем явные дубликаты в таблице — убедимся, что полностью от них избавились:"
   ]
  },
  {
   "cell_type": "code",
   "execution_count": 13,
   "metadata": {
    "id": "-8PuNWQ0_Zct"
   },
   "outputs": [
    {
     "data": {
      "text/plain": [
       "0"
      ]
     },
     "execution_count": 13,
     "metadata": {},
     "output_type": "execute_result"
    }
   ],
   "source": [
    "df.duplicated().sum()# проверка на отсутствие дубликатов"
   ]
  },
  {
   "cell_type": "markdown",
   "metadata": {
    "id": "QlFBsxAr_Zct"
   },
   "source": [
    "Теперь избавимся от неявных дубликатов в колонке `genre`. Например, название одного и того же жанра может быть записано немного по-разному. Такие ошибки тоже повлияют на результат исследования."
   ]
  },
  {
   "cell_type": "markdown",
   "metadata": {
    "id": "eSjWwsOh_Zct"
   },
   "source": [
    "Выведем на экран список уникальных названий жанров, отсортированный в алфавитном порядке. Для этого:\n",
    "* извлечем нужный столбец датафрейма, \n",
    "* применим к нему метод сортировки,\n",
    "* для отсортированного столбца вызовем метод, который вернёт уникальные значения из столбца."
   ]
  },
  {
   "cell_type": "code",
   "execution_count": 14,
   "metadata": {
    "id": "JIUcqzZN_Zct"
   },
   "outputs": [
    {
     "data": {
      "text/plain": [
       "array(['acid', 'acoustic', 'action', 'adult', 'africa', 'afrikaans',\n",
       "       'alternative', 'alternativepunk', 'ambient', 'americana',\n",
       "       'animated', 'anime', 'arabesk', 'arabic', 'arena',\n",
       "       'argentinetango', 'art', 'audiobook', 'author', 'avantgarde',\n",
       "       'axé', 'baile', 'balkan', 'beats', 'bigroom', 'black', 'bluegrass',\n",
       "       'blues', 'bollywood', 'bossa', 'brazilian', 'breakbeat', 'breaks',\n",
       "       'broadway', 'cantautori', 'cantopop', 'canzone', 'caribbean',\n",
       "       'caucasian', 'celtic', 'chamber', 'chanson', 'children', 'chill',\n",
       "       'chinese', 'choral', 'christian', 'christmas', 'classical',\n",
       "       'classicmetal', 'club', 'colombian', 'comedy', 'conjazz',\n",
       "       'contemporary', 'country', 'cuban', 'dance', 'dancehall',\n",
       "       'dancepop', 'dark', 'death', 'deep', 'deutschrock', 'deutschspr',\n",
       "       'dirty', 'disco', 'dnb', 'documentary', 'downbeat', 'downtempo',\n",
       "       'drum', 'dub', 'dubstep', 'eastern', 'easy', 'electronic',\n",
       "       'electropop', 'emo', 'entehno', 'epicmetal', 'estrada', 'ethnic',\n",
       "       'eurofolk', 'european', 'experimental', 'extrememetal', 'fado',\n",
       "       'fairytail', 'film', 'fitness', 'flamenco', 'folk', 'folklore',\n",
       "       'folkmetal', 'folkrock', 'folktronica', 'forró', 'frankreich',\n",
       "       'französisch', 'french', 'funk', 'future', 'gangsta', 'garage',\n",
       "       'german', 'ghazal', 'gitarre', 'glitch', 'gospel', 'gothic',\n",
       "       'grime', 'grunge', 'gypsy', 'handsup', \"hard'n'heavy\", 'hardcore',\n",
       "       'hardstyle', 'hardtechno', 'hip', 'hip-hop', 'hiphop',\n",
       "       'historisch', 'holiday', 'hop', 'horror', 'house', 'hymn', 'idm',\n",
       "       'independent', 'indian', 'indie', 'indipop', 'industrial',\n",
       "       'inspirational', 'instrumental', 'international', 'irish', 'jam',\n",
       "       'japanese', 'jazz', 'jewish', 'jpop', 'jungle', 'k-pop',\n",
       "       'karadeniz', 'karaoke', 'kayokyoku', 'korean', 'laiko', 'latin',\n",
       "       'latino', 'leftfield', 'local', 'lounge', 'loungeelectronic',\n",
       "       'lovers', 'malaysian', 'mandopop', 'marschmusik', 'meditative',\n",
       "       'mediterranean', 'melodic', 'metal', 'metalcore', 'mexican',\n",
       "       'middle', 'minimal', 'miscellaneous', 'modern', 'mood', 'mpb',\n",
       "       'muslim', 'native', 'neoklassik', 'neue', 'new', 'newage',\n",
       "       'newwave', 'nu', 'nujazz', 'numetal', 'oceania', 'old', 'opera',\n",
       "       'orchestral', 'other', 'piano', 'podcasts', 'pop', 'popdance',\n",
       "       'popelectronic', 'popeurodance', 'poprussian', 'post',\n",
       "       'posthardcore', 'postrock', 'power', 'progmetal', 'progressive',\n",
       "       'psychedelic', 'punjabi', 'punk', 'quebecois', 'ragga', 'ram',\n",
       "       'rancheras', 'rap', 'rave', 'reggae', 'reggaeton', 'regional',\n",
       "       'relax', 'religious', 'retro', 'rhythm', 'rnb', 'rnr', 'rock',\n",
       "       'rockabilly', 'rockalternative', 'rockindie', 'rockother',\n",
       "       'romance', 'roots', 'ruspop', 'rusrap', 'rusrock', 'russian',\n",
       "       'salsa', 'samba', 'scenic', 'schlager', 'self', 'sertanejo',\n",
       "       'shanson', 'shoegazing', 'showtunes', 'singer', 'ska', 'skarock',\n",
       "       'slow', 'smooth', 'soft', 'soul', 'soulful', 'sound', 'soundtrack',\n",
       "       'southern', 'specialty', 'speech', 'spiritual', 'sport',\n",
       "       'stonerrock', 'surf', 'swing', 'synthpop', 'synthrock',\n",
       "       'sängerportrait', 'tango', 'tanzorchester', 'taraftar', 'tatar',\n",
       "       'tech', 'techno', 'teen', 'thrash', 'top', 'traditional',\n",
       "       'tradjazz', 'trance', 'tribal', 'trip', 'triphop', 'tropical',\n",
       "       'türk', 'türkçe', 'ukrrock', 'unknown', 'urban', 'uzbek',\n",
       "       'variété', 'vi', 'videogame', 'vocal', 'western', 'world',\n",
       "       'worldbeat', 'ïîï', 'электроника'], dtype=object)"
      ]
     },
     "execution_count": 14,
     "metadata": {},
     "output_type": "execute_result"
    }
   ],
   "source": [
    "df['genre'].sort_values().unique()# просмотр уникальных названий жанров"
   ]
  },
  {
   "cell_type": "markdown",
   "metadata": {
    "id": "qej-Qmuo_Zct"
   },
   "source": [
    "Просмотрим список и найдем неявные дубликаты названия `hiphop`. Это могут быть названия с ошибками или альтернативные названия того же жанра.\n",
    "\n",
    "Видим следующие неявные дубликаты:\n",
    "* *hip*,\n",
    "* *hop*,\n",
    "* *hip-hop*.\n",
    "\n",
    "Чтобы очистить от них таблицу, напишем функцию `replace_wrong_genres()` с двумя параметрами: \n",
    "* `wrong_genres` — список дубликатов,\n",
    "* `correct_genre` — строка с правильным значением.\n",
    "\n",
    "Функция должна исправить колонку `genre` в таблице `df`: заменить каждое значение из списка `wrong_genres` на значение из `correct_genre`."
   ]
  },
  {
   "cell_type": "code",
   "execution_count": 15,
   "metadata": {
    "id": "ErNDkmns_Zct"
   },
   "outputs": [],
   "source": [
    "def replace_wrong_genres(wrong_genres,correct_genre):\n",
    "    for wrong_genre in wrong_genres:\n",
    "        df['genre']= df['genre'].replace(wrong_genre,correct_genre)\n",
    "duplicates = ['hip','hop','hip-hop']\n",
    "name = 'hiphop'\n",
    "    # Функция для замены неявных дубликатов"
   ]
  },
  {
   "cell_type": "markdown",
   "metadata": {
    "id": "aDoBJxbA_Zct"
   },
   "source": [
    "Вызовем `replace_wrong_genres()` и передадим ей такие аргументы, чтобы она устранила неявные дубликаты: вместо `hip`, `hop` и `hip-hop` в таблице должно быть значение `hiphop`:"
   ]
  },
  {
   "cell_type": "code",
   "execution_count": 16,
   "metadata": {
    "id": "YN5i2hpmSo09"
   },
   "outputs": [],
   "source": [
    "replace_wrong_genres(duplicates, name)# устранение неявных дубликатов"
   ]
  },
  {
   "cell_type": "markdown",
   "metadata": {
    "id": "zQKF16_RG15m"
   },
   "source": [
    "Проверим, что заменили неправильные названия:\n",
    "\n",
    "*   hip\n",
    "*   hop\n",
    "*   hip-hop\n",
    "\n",
    "Выведем отсортированный список уникальных значений столбца `genre`:"
   ]
  },
  {
   "cell_type": "code",
   "execution_count": 17,
   "metadata": {
    "id": "wvixALnFG15m"
   },
   "outputs": [
    {
     "name": "stdout",
     "output_type": "stream",
     "text": [
      "['acid' 'acoustic' 'action' 'adult' 'africa' 'afrikaans' 'alternative'\n",
      " 'alternativepunk' 'ambient' 'americana' 'animated' 'anime' 'arabesk'\n",
      " 'arabic' 'arena' 'argentinetango' 'art' 'audiobook' 'author' 'avantgarde'\n",
      " 'axé' 'baile' 'balkan' 'beats' 'bigroom' 'black' 'bluegrass' 'blues'\n",
      " 'bollywood' 'bossa' 'brazilian' 'breakbeat' 'breaks' 'broadway'\n",
      " 'cantautori' 'cantopop' 'canzone' 'caribbean' 'caucasian' 'celtic'\n",
      " 'chamber' 'chanson' 'children' 'chill' 'chinese' 'choral' 'christian'\n",
      " 'christmas' 'classical' 'classicmetal' 'club' 'colombian' 'comedy'\n",
      " 'conjazz' 'contemporary' 'country' 'cuban' 'dance' 'dancehall' 'dancepop'\n",
      " 'dark' 'death' 'deep' 'deutschrock' 'deutschspr' 'dirty' 'disco' 'dnb'\n",
      " 'documentary' 'downbeat' 'downtempo' 'drum' 'dub' 'dubstep' 'eastern'\n",
      " 'easy' 'electronic' 'electropop' 'emo' 'entehno' 'epicmetal' 'estrada'\n",
      " 'ethnic' 'eurofolk' 'european' 'experimental' 'extrememetal' 'fado'\n",
      " 'fairytail' 'film' 'fitness' 'flamenco' 'folk' 'folklore' 'folkmetal'\n",
      " 'folkrock' 'folktronica' 'forró' 'frankreich' 'französisch' 'french'\n",
      " 'funk' 'future' 'gangsta' 'garage' 'german' 'ghazal' 'gitarre' 'glitch'\n",
      " 'gospel' 'gothic' 'grime' 'grunge' 'gypsy' 'handsup' \"hard'n'heavy\"\n",
      " 'hardcore' 'hardstyle' 'hardtechno' 'hiphop' 'historisch' 'holiday'\n",
      " 'horror' 'house' 'hymn' 'idm' 'independent' 'indian' 'indie' 'indipop'\n",
      " 'industrial' 'inspirational' 'instrumental' 'international' 'irish' 'jam'\n",
      " 'japanese' 'jazz' 'jewish' 'jpop' 'jungle' 'k-pop' 'karadeniz' 'karaoke'\n",
      " 'kayokyoku' 'korean' 'laiko' 'latin' 'latino' 'leftfield' 'local'\n",
      " 'lounge' 'loungeelectronic' 'lovers' 'malaysian' 'mandopop' 'marschmusik'\n",
      " 'meditative' 'mediterranean' 'melodic' 'metal' 'metalcore' 'mexican'\n",
      " 'middle' 'minimal' 'miscellaneous' 'modern' 'mood' 'mpb' 'muslim'\n",
      " 'native' 'neoklassik' 'neue' 'new' 'newage' 'newwave' 'nu' 'nujazz'\n",
      " 'numetal' 'oceania' 'old' 'opera' 'orchestral' 'other' 'piano' 'podcasts'\n",
      " 'pop' 'popdance' 'popelectronic' 'popeurodance' 'poprussian' 'post'\n",
      " 'posthardcore' 'postrock' 'power' 'progmetal' 'progressive' 'psychedelic'\n",
      " 'punjabi' 'punk' 'quebecois' 'ragga' 'ram' 'rancheras' 'rap' 'rave'\n",
      " 'reggae' 'reggaeton' 'regional' 'relax' 'religious' 'retro' 'rhythm'\n",
      " 'rnb' 'rnr' 'rock' 'rockabilly' 'rockalternative' 'rockindie' 'rockother'\n",
      " 'romance' 'roots' 'ruspop' 'rusrap' 'rusrock' 'russian' 'salsa' 'samba'\n",
      " 'scenic' 'schlager' 'self' 'sertanejo' 'shanson' 'shoegazing' 'showtunes'\n",
      " 'singer' 'ska' 'skarock' 'slow' 'smooth' 'soft' 'soul' 'soulful' 'sound'\n",
      " 'soundtrack' 'southern' 'specialty' 'speech' 'spiritual' 'sport'\n",
      " 'stonerrock' 'surf' 'swing' 'synthpop' 'synthrock' 'sängerportrait'\n",
      " 'tango' 'tanzorchester' 'taraftar' 'tatar' 'tech' 'techno' 'teen'\n",
      " 'thrash' 'top' 'traditional' 'tradjazz' 'trance' 'tribal' 'trip'\n",
      " 'triphop' 'tropical' 'türk' 'türkçe' 'ukrrock' 'unknown' 'urban' 'uzbek'\n",
      " 'variété' 'vi' 'videogame' 'vocal' 'western' 'world' 'worldbeat' 'ïîï'\n",
      " 'электроника']\n"
     ]
    }
   ],
   "source": [
    "print(df['genre'].sort_values().unique())# проверка на неявные дубликаты"
   ]
  },
  {
   "cell_type": "markdown",
   "metadata": {
    "id": "jz6a9-7HQUDd"
   },
   "source": [
    "**Выводы**\n",
    "\n",
    "В ходе предобработки данных обнаружили три проблемы в данных:\n",
    "\n",
    "- нарушения в стиле заголовков,\n",
    "- пропущенные значения,\n",
    "- дубликаты — явные и неявные.\n",
    "\n",
    "Исправили заголовки, чтобы упростить работу с таблицей. Без дубликатов исследование станет более точным.\n",
    "\n",
    "Пропущенные значения заменили на `'unknown'`. Ещё предстоит увидеть, не повредят ли исследованию пропуски в колонке `genre`.\n",
    "\n",
    "Теперь можно перейти к проверке гипотез. "
   ]
  },
  {
   "cell_type": "markdown",
   "metadata": {
    "id": "WttZHXH0SqKk"
   },
   "source": [
    "## Проверка гипотез"
   ]
  },
  {
   "cell_type": "markdown",
   "metadata": {
    "id": "Im936VVi_Zcu"
   },
   "source": [
    "### Сравнение поведения пользователей двух столиц"
   ]
  },
  {
   "cell_type": "markdown",
   "metadata": {
    "id": "nwt_MuaL_Zcu"
   },
   "source": [
    "Первая гипотеза утверждает, что пользователи по-разному слушают музыку в Москве и Санкт-Петербурге. Проверим это предположение по данным о трёх днях недели — понедельнике, среде и пятнице. Для этого:\n",
    "\n",
    "* Разделим пользователей Москвы и Санкт-Петербурга\n",
    "* Сравним, сколько треков послушала каждая группа пользователей в понедельник, среду и пятницу.\n"
   ]
  },
  {
   "cell_type": "markdown",
   "metadata": {
    "id": "8Dw_YMmT_Zcu"
   },
   "source": [
    "Для тренировки сначала выполним каждый из расчётов по отдельности. \n",
    "\n",
    "Оценим активность пользователей в каждом городе. Сгруппируем данные по городу и посчитаем прослушивания в каждой группе.\n",
    "\n"
   ]
  },
  {
   "cell_type": "code",
   "execution_count": 18,
   "metadata": {
    "id": "0_Qs96oh_Zcu"
   },
   "outputs": [
    {
     "data": {
      "text/plain": [
       "city\n",
       "Moscow              42741\n",
       "Saint-Petersburg    18512\n",
       "Name: city, dtype: int64"
      ]
     },
     "execution_count": 18,
     "metadata": {},
     "output_type": "execute_result"
    }
   ],
   "source": [
    "df.groupby('city')['city'].count()"
   ]
  },
  {
   "cell_type": "markdown",
   "metadata": {
    "id": "dzli3w8o_Zcu"
   },
   "source": [
    "В Москве прослушиваний больше, чем в Петербурге. Из этого не следует, что московские пользователи чаще слушают музыку. Просто самих пользователей в Санкт-Петербурге меньше.\n",
    "\n",
    "Теперь сгруппируем данные по дню недели и подсчитаем прослушивания в понедельник, среду и пятницу. Учтем, что в данных есть информация только о прослушиваниях только за эти дни.\n"
   ]
  },
  {
   "cell_type": "code",
   "execution_count": 19,
   "metadata": {
    "id": "uZMKjiJz_Zcu"
   },
   "outputs": [
    {
     "data": {
      "text/plain": [
       "day\n",
       "Friday       21840\n",
       "Monday       21354\n",
       "Wednesday    18059\n",
       "Name: genre, dtype: int64"
      ]
     },
     "execution_count": 19,
     "metadata": {},
     "output_type": "execute_result"
    }
   ],
   "source": [
    "df.groupby('day')['genre'].count()# подсчёт прослушиваний в каждый из трёх дней"
   ]
  },
  {
   "cell_type": "markdown",
   "metadata": {
    "id": "cC2tNrlL_Zcu"
   },
   "source": [
    "В среднем пользователи из двух городов менее активны по средам. Но картина может измениться, если рассмотреть каждый город в отдельности."
   ]
  },
  {
   "cell_type": "markdown",
   "metadata": {
    "id": "POzs8bGa_Zcu"
   },
   "source": [
    "Создадим функцию `number_tracks()`, которая посчитает прослушивания для заданного дня и города. Ей понадобятся два параметра:\n",
    "* день недели,\n",
    "* название города.\n",
    "\n",
    "В функции сохраним в переменную строки исходной таблицы, у которых значение:\n",
    "  * в колонке `day` равно параметру `day`,\n",
    "  * в колонке `city` равно параметру `city`.\n",
    "\n",
    "Для этого применим последовательную фильтрацию с логической индексацией.\n",
    "\n",
    "Затем посчитаем значения в столбце `user_id` получившейся таблицы. Результат сохраним в новую переменную. Вернем эту переменную из функции."
   ]
  },
  {
   "cell_type": "code",
   "execution_count": 20,
   "metadata": {
    "id": "Nz3GdQB1_Zcu"
   },
   "outputs": [],
   "source": [
    "def number_tracks(day, city): # <создание функции number_tracks()>\n",
    "# Объявляется функция с двумя параметрами: day, city.\n",
    "    track = df[df['day']==day]\n",
    "    track_list = track[track['city']==city]\n",
    "# В переменной track_list сохраняются те строки таблицы df, для которых \n",
    "# значение в столбце 'day' равно параметру day и одновременно значение\n",
    "# в столбце 'city' равно параметру city (используйте последовательную фильтрацию\n",
    "# с помощью логической индексации).\n",
    "    track_list_count = track_list['user_id'].count()\n",
    "# В переменной track_list_count сохраняется число значений столбца 'user_id',\n",
    "# рассчитанное методом count() для таблицы track_list.\n",
    "# Функция возвращает число - значение track_list_count.\n",
    "    return track_list_count\n",
    "\n",
    "# Функция для подсчёта прослушиваний для конкретного города и дня.\n",
    "# С помощью последовательной фильтрации с логической индексацией она \n",
    "# сначала получит из исходной таблицы строки с нужным днём,\n",
    "# затем из результата отфильтрует строки с нужным городом,\n",
    "# методом count() посчитает количество значений в колонке user_id. \n",
    "# Это количество функция вернёт в качестве результата"
   ]
  },
  {
   "cell_type": "markdown",
   "metadata": {
    "id": "ytf7xFrFJQ2r"
   },
   "source": [
    "Вызовем `number_tracks()` шесть раз, меняя значение параметров — так, чтобы получить данные для каждого города в каждый из трёх дней."
   ]
  },
  {
   "cell_type": "code",
   "execution_count": 21,
   "metadata": {
    "id": "rJcRATNQ_Zcu"
   },
   "outputs": [
    {
     "name": "stdout",
     "output_type": "stream",
     "text": [
      "15740\n"
     ]
    }
   ],
   "source": [
    "mon_moscow = number_tracks('Monday','Moscow')# количество прослушиваний в Москве по понедельникам\n",
    "print(mon_moscow)"
   ]
  },
  {
   "cell_type": "code",
   "execution_count": 22,
   "metadata": {
    "id": "hq_ncZ5T_Zcu"
   },
   "outputs": [
    {
     "name": "stdout",
     "output_type": "stream",
     "text": [
      "5614\n"
     ]
    }
   ],
   "source": [
    "mon_spb = number_tracks('Monday','Saint-Petersburg')# количество прослушиваний в Санкт-Петербурге по понедельникам\n",
    "print(mon_spb)"
   ]
  },
  {
   "cell_type": "code",
   "execution_count": 23,
   "metadata": {
    "id": "_NTy2VPU_Zcu"
   },
   "outputs": [
    {
     "name": "stdout",
     "output_type": "stream",
     "text": [
      "11056\n"
     ]
    }
   ],
   "source": [
    "wed_moscow = number_tracks('Wednesday','Moscow')# количество прослушиваний в Москве по средам\n",
    "print(wed_moscow)"
   ]
  },
  {
   "cell_type": "code",
   "execution_count": 24,
   "metadata": {
    "id": "j2y3TAwo_Zcu"
   },
   "outputs": [
    {
     "name": "stdout",
     "output_type": "stream",
     "text": [
      "7003\n"
     ]
    }
   ],
   "source": [
    "wed_spb = number_tracks('Wednesday','Saint-Petersburg')# количество прослушиваний в Санкт-Петербурге по средам\n",
    "print(wed_spb)"
   ]
  },
  {
   "cell_type": "code",
   "execution_count": 25,
   "metadata": {
    "id": "vYDw5u_K_Zcu"
   },
   "outputs": [
    {
     "name": "stdout",
     "output_type": "stream",
     "text": [
      "15945\n"
     ]
    }
   ],
   "source": [
    "fri_moscow = number_tracks('Friday','Moscow')# количество прослушиваний в Москве по пятницам\n",
    "print(fri_moscow)"
   ]
  },
  {
   "cell_type": "code",
   "execution_count": 26,
   "metadata": {
    "id": "8_yzFtW3_Zcu"
   },
   "outputs": [
    {
     "name": "stdout",
     "output_type": "stream",
     "text": [
      "5895\n"
     ]
    }
   ],
   "source": [
    "fri_spb = number_tracks('Friday','Saint-Petersburg')# количество прослушиваний в Санкт-Петербурге по пятницам\n",
    "print(fri_spb)"
   ]
  },
  {
   "cell_type": "markdown",
   "metadata": {
    "id": "7QXffbO-_Zcu"
   },
   "source": [
    "Создадим c помощью конструктора `pd.DataFrame` таблицу, где\n",
    "* названия колонок — `['city', 'monday', 'wednesday', 'friday']`;\n",
    "* данные — результаты, которые вы получили с помощью `number_tracks`."
   ]
  },
  {
   "cell_type": "code",
   "execution_count": 27,
   "metadata": {
    "id": "APAcLpOr_Zcu"
   },
   "outputs": [
    {
     "name": "stdout",
     "output_type": "stream",
     "text": [
      "               city  monday  wednesday  friday\n",
      "0            Moscow   15740      11056   15945\n",
      "1  Saint-Petersburg    5614       7003    5895\n"
     ]
    }
   ],
   "source": [
    "columns = ['city', 'monday', 'wednesday', 'friday']\n",
    "data = [['Moscow', mon_moscow, wed_moscow, fri_moscow],\n",
    "       ['Saint-Petersburg', mon_spb, wed_spb, fri_spb]]\n",
    "result = pd.DataFrame(data= data, columns = columns) # Таблица с результатами\n",
    "print(result)"
   ]
  },
  {
   "cell_type": "markdown",
   "metadata": {
    "id": "-EgPIHYu_Zcu"
   },
   "source": [
    "**Выводы**\n",
    "\n",
    "Данные показывают разницу поведения пользователей:\n",
    "\n",
    "- В Москве пик прослушиваний приходится на понедельник и пятницу, а в среду заметен спад.\n",
    "- В Петербурге, наоборот, больше слушают музыку по средам. Активность в понедельник и пятницу здесь почти в равной мере уступает среде.\n",
    "\n",
    "Значит, данные говорят в пользу первой гипотезы."
   ]
  },
  {
   "cell_type": "markdown",
   "metadata": {
    "id": "atZAxtq4_Zcu"
   },
   "source": [
    "### Музыка в начале и в конце недели"
   ]
  },
  {
   "cell_type": "markdown",
   "metadata": {
    "id": "eXrQqXFH_Zcu"
   },
   "source": [
    "Согласно второй гипотезе, вечером в понедельник в Москве преобладают одни жанры, а в Петербурге — другие. Так же утром пятницы преобладают разные жанры — в зависимости от города."
   ]
  },
  {
   "cell_type": "markdown",
   "metadata": {
    "id": "S8UcW6Hw_Zcu"
   },
   "source": [
    "Сохраним таблицы с данными в две переменные:\n",
    "* по Москве — в `moscow_general`;\n",
    "* по Санкт-Петербургу — в `spb_general`."
   ]
  },
  {
   "cell_type": "code",
   "execution_count": 28,
   "metadata": {
    "id": "qeaFfM_P_Zcu"
   },
   "outputs": [],
   "source": [
    "moscow_general = df[df['city']=='Moscow']# получение таблицы moscow_general из тех строк таблицы df, \n",
    "# для которых значение в столбце 'city' равно 'Moscow'"
   ]
  },
  {
   "cell_type": "code",
   "execution_count": 29,
   "metadata": {
    "id": "ORaVRKto_Zcu"
   },
   "outputs": [],
   "source": [
    "spb_general = df[df['city']=='Saint-Petersburg']# получение таблицы spb_general из тех строк таблицы df,\n",
    "# для которых значение в столбце 'city' равно 'Saint-Petersburg'"
   ]
  },
  {
   "cell_type": "markdown",
   "metadata": {
    "id": "MEJV-CX2_Zcu"
   },
   "source": [
    "Создадим функцию `genre_weekday()` с четырьмя параметрами:\n",
    "* таблица (датафрейм) с данными,\n",
    "* день недели,\n",
    "* начальная временная метка в формате 'hh:mm', \n",
    "* последняя временная метка в формате 'hh:mm'.\n",
    "\n",
    "Функция должна вернуть информацию о топ-10 жанров тех треков, которые прослушивали в указанный день, в промежутке между двумя отметками времени."
   ]
  },
  {
   "cell_type": "code",
   "execution_count": 30,
   "metadata": {
    "id": "laJT9BYl_Zcu"
   },
   "outputs": [],
   "source": [
    "def genre_weekday(table, day, time1, time2):# Объявление функции genre_weekday() с параметрами table, day, time1, time2,\n",
    "# которая возвращает информацию о самых популярных жанрах в указанный день в\n",
    "# заданное время:\n",
    "    genre_df1 = table[table['day']==day]\n",
    "    genre_df2 = genre_df1[genre_df1['time']>time1]\n",
    "    genre_df = genre_df2[genre_df2['time']<time2]\n",
    "# 1) в переменную genre_df сохраняются те строки переданного датафрейма table, для\n",
    "#    которых одновременно:\n",
    "#    - значение в столбце day равно значению аргумента day\n",
    "#    - значение в столбце time больше значения аргумента time1\n",
    "#    - значение в столбце time меньше значения аргумента time2\n",
    "#    Используйте последовательную фильтрацию с помощью логической индексации.\n",
    "    genre_df_count = genre_df.groupby('genre')['genre'].count()\n",
    "# 2) сгруппировать датафрейм genre_df по столбцу genre, взять один из его\n",
    "#    столбцов и посчитать методом count() количество записей для каждого из\n",
    "#    присутствующих жанров, получившийся Series записать в переменную\n",
    "#    genre_df_count\n",
    "    genre_df_sorted = genre_df_count.sort_values(ascending = False)\n",
    "# 3) отсортировать genre_df_count по убыванию встречаемости и сохранить\n",
    "#    в переменную genre_df_sorted\n",
    "    return genre_df_sorted.head(10)\n",
    "# 4) вернуть Series из 10 первых значений genre_df_sorted, это будут топ-10\n",
    "#    популярных жанров (в указанный день, в заданное время)"
   ]
  },
  {
   "cell_type": "markdown",
   "metadata": {
    "id": "la2s2_PF_Zcu"
   },
   "source": [
    "Cравним результаты функции `genre_weekday()` для Москвы и Санкт-Петербурга в понедельник вечером (с 17:00 до 23:00) и в пятницу утром (с 7:00 до 11:00) :"
   ]
  },
  {
   "cell_type": "code",
   "execution_count": 31,
   "metadata": {
    "id": "EzXVRE1o_Zcu",
    "scrolled": true
   },
   "outputs": [
    {
     "data": {
      "text/plain": [
       "genre\n",
       "pop            717\n",
       "dance          524\n",
       "rock           518\n",
       "electronic     485\n",
       "hiphop         238\n",
       "alternative    182\n",
       "classical      172\n",
       "world          172\n",
       "ruspop         149\n",
       "rusrap         133\n",
       "Name: genre, dtype: int64"
      ]
     },
     "execution_count": 31,
     "metadata": {},
     "output_type": "execute_result"
    }
   ],
   "source": [
    "genre_weekday(moscow_general, 'Monday', '17:00:00','23:00:00')# вызов функции для вечера понедельника в Москве"
   ]
  },
  {
   "cell_type": "code",
   "execution_count": 32,
   "metadata": {
    "id": "JZaEKu5v_Zcu"
   },
   "outputs": [
    {
     "data": {
      "text/plain": [
       "genre\n",
       "pop            263\n",
       "rock           208\n",
       "electronic     192\n",
       "dance          191\n",
       "hiphop         104\n",
       "alternative     72\n",
       "classical       71\n",
       "jazz            57\n",
       "rusrap          54\n",
       "ruspop          53\n",
       "Name: genre, dtype: int64"
      ]
     },
     "execution_count": 32,
     "metadata": {},
     "output_type": "execute_result"
    }
   ],
   "source": [
    "genre_weekday(spb_general, 'Monday', '17:00:00','23:00:00') # вызов функции для вечера понедельника в Петербурге"
   ]
  },
  {
   "cell_type": "code",
   "execution_count": 33,
   "metadata": {},
   "outputs": [
    {
     "data": {
      "text/plain": [
       "genre\n",
       "pop            789\n",
       "dance          585\n",
       "rock           509\n",
       "electronic     506\n",
       "hiphop         277\n",
       "ruspop         207\n",
       "classical      201\n",
       "world          174\n",
       "alternative    172\n",
       "rusrap         148\n",
       "Name: genre, dtype: int64"
      ]
     },
     "execution_count": 33,
     "metadata": {},
     "output_type": "execute_result"
    }
   ],
   "source": [
    "genre_weekday(moscow_general, 'Friday', '07:00:00', '11:00:00')# вызов функции для утра пятницы в Москве (вместо df — таблица moscow_general)\n",
    "# объекты, хранящие время, являются строками и сравниваются как строки"
   ]
  },
  {
   "cell_type": "code",
   "execution_count": 34,
   "metadata": {},
   "outputs": [
    {
     "data": {
      "text/plain": [
       "genre\n",
       "pop            211\n",
       "dance          192\n",
       "electronic     167\n",
       "rock           156\n",
       "hiphop         109\n",
       "classical       56\n",
       "rusrap          55\n",
       "alternative     55\n",
       "world           46\n",
       "ruspop          45\n",
       "Name: genre, dtype: int64"
      ]
     },
     "execution_count": 34,
     "metadata": {},
     "output_type": "execute_result"
    }
   ],
   "source": [
    "genre_weekday(spb_general, 'Friday', '07:00:00', '11:00:00')# вызов функции для утра пятницы в Петербурге (вместо df — таблица spb_general)"
   ]
  },
  {
   "cell_type": "markdown",
   "metadata": {
    "id": "wrCe4MNX_Zcu"
   },
   "source": [
    "**Выводы**\n",
    "\n",
    "Если сравнить топ-10 жанров в понедельник вечером, можно сделать такие выводы:\n",
    "\n",
    "1. В Москве и Петербурге слушают похожую музыку. Поп-музыка популярна, как в Москве, так и в Петербурге.  \n",
    "2. Танцевальную музыку в Москве любят немного больше. В Москве музыка в стиле \"dance\" на втором месте, в Санкт-Петербурге всего лишь на четвертом.\n",
    "\n",
    "3. Различия в жанровых предпочтениях двух городов все-таки есть, так в московский рейтинг вошёл жанр “world”, а в петербургский — джаз.\n",
    "\n",
    "\n",
    "Утром пятницы картина немного меняется, можно сделать такие выводы:\n",
    "1. Поп-музыка популярна в обоих городах, как в понедельник вечером, так и в пятницу утром.\n",
    "2. Танцевальная музыка по пятницам в Санкт-Петербурге становится более популярной, чем в понедельник. С приближением выходных люди начинают больше танцевать под музыку. \n",
    "3. В питерский рейтинг вошёл жанр “world”. В остальном небольшие различия по расположению мест музыкальных жанров. \n",
    "\n",
    "\n",
    "\n",
    "Таким образом, вторая гипотеза не подтвердилась:\n",
    "* Пользователи слушают похожую музыку в начале и в конце недели.\n",
    "* Разница между Москвой и Петербургом не слишком выражена. В Москве и в Петербурге чаще слушают русскую популярную музыку. В Санкт-Петербурге слушают джаз.\n",
    "\n",
    "Однако пропуски в данных ставят под сомнение этот результат. В Москве их так много, что рейтинг топ-10 мог бы выглядеть иначе, если бы не утерянные  данные о жанрах."
   ]
  },
  {
   "cell_type": "markdown",
   "metadata": {
    "id": "JolODAqr_Zcu"
   },
   "source": [
    "### Жанровые предпочтения в Москве и Петербурге\n",
    "\n",
    "Гипотеза: Москва — столица рэпа, музыку этого жанра там слушают чаще, чем в Москве. А Санкт-Петербург — город контрастов, в котором, тем не менее, преобладает поп-музыка."
   ]
  },
  {
   "cell_type": "markdown",
   "metadata": {
    "id": "DlegSvaT_Zcu"
   },
   "source": [
    "Сгруппируем таблицу `moscow_general` по жанру и посчитаем прослушивания треков каждого жанра методом `count()`. Затем отсортируем результат в порядке убывания и сохраним его в таблице `moscow_genres`."
   ]
  },
  {
   "cell_type": "code",
   "execution_count": 35,
   "metadata": {
    "id": "r19lIPke_Zcu"
   },
   "outputs": [],
   "source": [
    "moscow_genres=moscow_general.groupby('genre')['genre'].count().sort_values(ascending = False)# группировка таблицы moscow_general по столбцу 'genre', \n",
    "# подсчёт числа значений 'genre' в этой группировке методом count(), \n",
    "# сортировка получившегося Series в порядке убывания и сохранение в moscow_genres"
   ]
  },
  {
   "cell_type": "markdown",
   "metadata": {
    "id": "6kMuomxTiIr8"
   },
   "source": [
    "Выведем на экран первые десять строк `moscow_genres`:"
   ]
  },
  {
   "cell_type": "code",
   "execution_count": 36,
   "metadata": {
    "id": "WhCSooF8_Zcv"
   },
   "outputs": [
    {
     "data": {
      "text/plain": [
       "genre\n",
       "pop            5892\n",
       "dance          4435\n",
       "rock           3965\n",
       "electronic     3786\n",
       "hiphop         2096\n",
       "classical      1616\n",
       "world          1432\n",
       "alternative    1379\n",
       "ruspop         1372\n",
       "rusrap         1161\n",
       "Name: genre, dtype: int64"
      ]
     },
     "execution_count": 36,
     "metadata": {},
     "output_type": "execute_result"
    }
   ],
   "source": [
    "moscow_genres.head(10)# просмотр первых 10 строк moscow_genres"
   ]
  },
  {
   "cell_type": "markdown",
   "metadata": {
    "id": "cnPG2vnN_Zcv"
   },
   "source": [
    "Теперь повторим то же и для Петербурга.\n",
    "\n",
    "Сгруппируем таблицу `spb_general` по жанру. Посчитаем прослушивания треков каждого жанра. Результат отсортируем в порядке убывания и сохраним в таблице `spb_genres`:\n"
   ]
  },
  {
   "cell_type": "code",
   "execution_count": 37,
   "metadata": {
    "id": "gluLIpE7_Zcv"
   },
   "outputs": [],
   "source": [
    "spb_genres=spb_general.groupby('genre')['genre'].count().sort_values(ascending = False)# группировка таблицы spb_general по столбцу 'genre', \n",
    "# подсчёт числа значений 'genre' в этой группировке методом count(), \n",
    "# сортировка получившегося Series в порядке убывания и сохранение в spb_genres"
   ]
  },
  {
   "cell_type": "markdown",
   "metadata": {
    "id": "5Doha_ODgyQ8"
   },
   "source": [
    "Выведем на экран первые десять строк `spb_genres`:"
   ]
  },
  {
   "cell_type": "code",
   "execution_count": 38,
   "metadata": {
    "id": "uaGJHjVU_Zcv"
   },
   "outputs": [
    {
     "data": {
      "text/plain": [
       "genre\n",
       "pop            2431\n",
       "dance          1932\n",
       "rock           1879\n",
       "electronic     1736\n",
       "hiphop          960\n",
       "alternative     649\n",
       "classical       646\n",
       "rusrap          564\n",
       "ruspop          538\n",
       "world           515\n",
       "Name: genre, dtype: int64"
      ]
     },
     "execution_count": 38,
     "metadata": {},
     "output_type": "execute_result"
    }
   ],
   "source": [
    "spb_genres.head(10)# просмотр первых 10 строк spb_genres"
   ]
  },
  {
   "cell_type": "markdown",
   "metadata": {
    "id": "RY51YJYu_Zcv"
   },
   "source": [
    "**Выводы**"
   ]
  },
  {
   "cell_type": "markdown",
   "metadata": {
    "id": "nVhnJEm__Zcv"
   },
   "source": [
    "Гипотеза частично подтвердилась:\n",
    "* Поп-музыка — самый популярный жанр в Петербурге, как и предполагала гипотеза. Более того, в топ-10 жанров встречается близкий жанр — русская популярная музыка.\n",
    "* Вопреки ожиданиям, рэп более популярен в Петербурге, чем в Москве.\n"
   ]
  },
  {
   "cell_type": "markdown",
   "metadata": {
    "id": "ykKQ0N65_Zcv"
   },
   "source": [
    "## Итоги исследования"
   ]
  },
  {
   "cell_type": "markdown",
   "metadata": {
    "id": "tjUwbHb3_Zcv"
   },
   "source": [
    "Проверили три гипотезы и установили:\n",
    "\n",
    "1. День недели по-разному влияет на активность пользователей в Москве и Петербурге. \n",
    "\n",
    "Первая гипотеза полностью подтвердилась.\n",
    "\n",
    "2. Музыкальные предпочтения не сильно меняются в течение недели — будь то Москва или Петербург. Небольшие различия заметны:\n",
    "* в московских плейлистах присутствует музыка жанра “world” в понедельник вечером, а в Петербурге такую музыку слушают в пятницу утром\n",
    "* танцевальная музыка в Москве по вечерам понедельников более популярна, чеи в Петербурге. \n",
    "* вечерами понедельников в Санкт-Петербурге слушают джаз.\n",
    "\n",
    "Таким образом, вторая гипотеза не подтвердилась. Этот результат мог оказаться иным, если бы не пропуски в данных.\n",
    "\n",
    "3. Во вкусах пользователей Москвы и Петербурга больше общего чем различий. Вопреки ожиданиям, предпочтения жанров в Петербурге напоминают московские.\n",
    "\n",
    "Третья гипотеза частично подтвердилась. Если различия в предпочтениях и существуют, на основной массе пользователей они незаметны.\n",
    "\n",
    "**На практике исследования содержат проверки статистических гипотез.**\n",
    "Из данных одного сервиса не всегда можно сделать вывод о всех жителях города.\n",
    "Проверки статистических гипотез покажут, насколько они достоверны, исходя из имеющихся данных. "
   ]
  }
 ],
 "metadata": {
  "ExecuteTimeLog": [
   {
    "duration": 377,
    "start_time": "2021-11-12T15:54:33.920Z"
   },
   {
    "duration": 674,
    "start_time": "2021-11-12T15:54:42.028Z"
   },
   {
    "duration": 3267,
    "start_time": "2021-11-12T15:54:58.572Z"
   },
   {
    "duration": 131,
    "start_time": "2021-11-12T15:55:40.656Z"
   },
   {
    "duration": 15,
    "start_time": "2021-11-12T15:55:59.399Z"
   },
   {
    "duration": 21,
    "start_time": "2021-11-12T15:56:13.237Z"
   },
   {
    "duration": 4,
    "start_time": "2021-11-12T15:56:31.495Z"
   },
   {
    "duration": 19,
    "start_time": "2021-11-12T15:59:31.116Z"
   },
   {
    "duration": 4,
    "start_time": "2021-11-12T15:59:39.386Z"
   },
   {
    "duration": 21,
    "start_time": "2021-11-12T16:00:30.762Z"
   },
   {
    "duration": 15,
    "start_time": "2021-11-12T16:04:14.081Z"
   },
   {
    "duration": 20,
    "start_time": "2021-11-12T16:04:21.618Z"
   },
   {
    "duration": 57,
    "start_time": "2021-11-12T16:07:32.887Z"
   },
   {
    "duration": 62,
    "start_time": "2021-11-12T16:12:25.850Z"
   },
   {
    "duration": 48,
    "start_time": "2021-11-12T16:12:33.892Z"
   },
   {
    "duration": -12,
    "start_time": "2021-11-12T16:13:50.606Z"
   },
   {
    "duration": -14,
    "start_time": "2021-11-12T16:14:41.251Z"
   },
   {
    "duration": -12,
    "start_time": "2021-11-12T16:16:37.757Z"
   },
   {
    "duration": 8600,
    "start_time": "2021-11-12T16:16:46.888Z"
   },
   {
    "duration": 8584,
    "start_time": "2021-11-12T16:17:10.699Z"
   },
   {
    "duration": 121,
    "start_time": "2021-11-12T16:22:41.383Z"
   },
   {
    "duration": 9595,
    "start_time": "2021-11-12T16:22:50.876Z"
   },
   {
    "duration": 420,
    "start_time": "2021-11-13T09:36:44.381Z"
   },
   {
    "duration": 820,
    "start_time": "2021-11-13T09:36:59.877Z"
   },
   {
    "duration": 202,
    "start_time": "2021-11-13T09:37:00.891Z"
   },
   {
    "duration": 26,
    "start_time": "2021-11-13T09:37:01.703Z"
   },
   {
    "duration": 31,
    "start_time": "2021-11-13T09:37:02.403Z"
   },
   {
    "duration": 6,
    "start_time": "2021-11-13T09:37:03.488Z"
   },
   {
    "duration": 25,
    "start_time": "2021-11-13T09:37:04.409Z"
   },
   {
    "duration": 6,
    "start_time": "2021-11-13T09:37:05.500Z"
   },
   {
    "duration": 30,
    "start_time": "2021-11-13T09:37:07.035Z"
   },
   {
    "duration": 23,
    "start_time": "2021-11-13T09:37:09.457Z"
   },
   {
    "duration": 30,
    "start_time": "2021-11-13T09:37:11.269Z"
   },
   {
    "duration": 91,
    "start_time": "2021-11-13T09:37:16.248Z"
   },
   {
    "duration": 99,
    "start_time": "2021-11-13T09:37:18.985Z"
   },
   {
    "duration": 80,
    "start_time": "2021-11-13T09:37:33.576Z"
   },
   {
    "duration": 9781,
    "start_time": "2021-11-13T09:39:56.701Z"
   },
   {
    "duration": 10213,
    "start_time": "2021-11-13T09:45:24.430Z"
   },
   {
    "duration": 8963,
    "start_time": "2021-11-13T09:50:31.552Z"
   },
   {
    "duration": 4,
    "start_time": "2021-11-13T09:50:54.341Z"
   },
   {
    "duration": 9,
    "start_time": "2021-11-13T09:51:27.461Z"
   },
   {
    "duration": 440,
    "start_time": "2021-11-13T09:52:43.393Z"
   },
   {
    "duration": 10,
    "start_time": "2021-11-13T09:53:00.633Z"
   },
   {
    "duration": 58,
    "start_time": "2021-11-13T09:53:14.259Z"
   },
   {
    "duration": 131,
    "start_time": "2021-11-13T10:37:36.297Z"
   },
   {
    "duration": 361,
    "start_time": "2021-11-13T10:41:38.445Z"
   },
   {
    "duration": 357,
    "start_time": "2021-11-13T10:41:49.301Z"
   },
   {
    "duration": 15,
    "start_time": "2021-11-13T10:42:09.717Z"
   },
   {
    "duration": 4,
    "start_time": "2021-11-13T10:42:42.475Z"
   },
   {
    "duration": 15,
    "start_time": "2021-11-13T10:42:55.087Z"
   },
   {
    "duration": 58,
    "start_time": "2021-11-13T10:43:20.161Z"
   },
   {
    "duration": 5,
    "start_time": "2021-11-13T10:43:54.326Z"
   },
   {
    "duration": 14,
    "start_time": "2021-11-13T10:43:57.042Z"
   },
   {
    "duration": 56,
    "start_time": "2021-11-13T10:44:01.571Z"
   },
   {
    "duration": 11,
    "start_time": "2021-11-13T10:47:33.110Z"
   },
   {
    "duration": 1198,
    "start_time": "2021-11-13T10:47:59.348Z"
   },
   {
    "duration": 128,
    "start_time": "2021-11-13T10:48:22.692Z"
   },
   {
    "duration": 377,
    "start_time": "2021-11-13T10:48:27.503Z"
   },
   {
    "duration": 373,
    "start_time": "2021-11-13T10:49:16.591Z"
   },
   {
    "duration": 21,
    "start_time": "2021-11-13T10:50:03.678Z"
   },
   {
    "duration": 40,
    "start_time": "2021-11-13T10:50:44.103Z"
   },
   {
    "duration": 430,
    "start_time": "2021-11-13T10:55:07.800Z"
   },
   {
    "duration": 50,
    "start_time": "2021-11-13T10:55:16.987Z"
   },
   {
    "duration": 40,
    "start_time": "2021-11-13T10:56:01.465Z"
   },
   {
    "duration": 36,
    "start_time": "2021-11-13T10:56:05.156Z"
   },
   {
    "duration": 52,
    "start_time": "2021-11-13T10:56:16.844Z"
   },
   {
    "duration": 365,
    "start_time": "2021-11-13T10:56:48.565Z"
   },
   {
    "duration": 467,
    "start_time": "2021-11-13T10:56:57.389Z"
   },
   {
    "duration": 14,
    "start_time": "2021-11-13T10:57:09.061Z"
   },
   {
    "duration": 149,
    "start_time": "2021-11-13T11:03:22.373Z"
   },
   {
    "duration": 142,
    "start_time": "2021-11-13T11:03:38.348Z"
   },
   {
    "duration": 168,
    "start_time": "2021-11-13T11:03:57.781Z"
   },
   {
    "duration": 121,
    "start_time": "2021-11-13T11:04:17.794Z"
   },
   {
    "duration": 4,
    "start_time": "2021-11-13T11:04:22.788Z"
   },
   {
    "duration": 25,
    "start_time": "2021-11-13T11:05:31.343Z"
   },
   {
    "duration": 20,
    "start_time": "2021-11-13T11:05:57.306Z"
   },
   {
    "duration": 21,
    "start_time": "2021-11-13T11:06:31.471Z"
   },
   {
    "duration": 19,
    "start_time": "2021-11-13T11:06:46.182Z"
   },
   {
    "duration": 139,
    "start_time": "2021-11-13T11:07:21.571Z"
   },
   {
    "duration": 22,
    "start_time": "2021-11-13T11:07:29.537Z"
   },
   {
    "duration": 20,
    "start_time": "2021-11-13T11:07:32.928Z"
   },
   {
    "duration": 131,
    "start_time": "2021-11-13T11:09:23.630Z"
   },
   {
    "duration": 371,
    "start_time": "2021-11-13T11:09:40.526Z"
   },
   {
    "duration": 391,
    "start_time": "2021-11-13T11:11:50.820Z"
   },
   {
    "duration": 523,
    "start_time": "2021-11-13T11:12:26.317Z"
   },
   {
    "duration": 406,
    "start_time": "2021-11-13T11:14:10.947Z"
   },
   {
    "duration": 386,
    "start_time": "2021-11-13T11:14:58.453Z"
   },
   {
    "duration": 9,
    "start_time": "2021-11-13T11:15:10.622Z"
   },
   {
    "duration": 24,
    "start_time": "2021-11-13T11:26:13.287Z"
   },
   {
    "duration": 13,
    "start_time": "2021-11-13T11:26:36.893Z"
   },
   {
    "duration": 16,
    "start_time": "2021-11-13T11:27:14.308Z"
   },
   {
    "duration": 624,
    "start_time": "2021-11-13T11:37:58.773Z"
   },
   {
    "duration": 116,
    "start_time": "2021-11-13T11:40:37.927Z"
   },
   {
    "duration": 122,
    "start_time": "2021-11-13T11:41:13.479Z"
   },
   {
    "duration": 130,
    "start_time": "2021-11-13T11:42:03.897Z"
   },
   {
    "duration": 155,
    "start_time": "2021-11-13T11:42:18.843Z"
   },
   {
    "duration": 136,
    "start_time": "2021-11-13T11:42:51.016Z"
   },
   {
    "duration": 5,
    "start_time": "2021-11-13T11:43:05.924Z"
   },
   {
    "duration": 6,
    "start_time": "2021-11-13T11:43:10.305Z"
   },
   {
    "duration": 783,
    "start_time": "2021-11-13T11:44:52.035Z"
   },
   {
    "duration": 8,
    "start_time": "2021-11-13T11:46:13.374Z"
   },
   {
    "duration": 836,
    "start_time": "2021-11-13T11:46:17.543Z"
   },
   {
    "duration": 5,
    "start_time": "2021-11-13T11:46:38.990Z"
   },
   {
    "duration": 901,
    "start_time": "2021-11-13T11:46:43.930Z"
   },
   {
    "duration": 6,
    "start_time": "2021-11-13T11:48:52.174Z"
   },
   {
    "duration": 778,
    "start_time": "2021-11-13T11:48:56.058Z"
   },
   {
    "duration": 6,
    "start_time": "2021-11-13T11:50:55.287Z"
   },
   {
    "duration": 6,
    "start_time": "2021-11-13T11:50:56.705Z"
   },
   {
    "duration": 776,
    "start_time": "2021-11-13T11:50:59.174Z"
   },
   {
    "duration": 5,
    "start_time": "2021-11-13T11:51:21.701Z"
   },
   {
    "duration": 22,
    "start_time": "2021-11-13T11:51:27.223Z"
   },
   {
    "duration": 21,
    "start_time": "2021-11-13T11:51:40.635Z"
   },
   {
    "duration": 22,
    "start_time": "2021-11-13T11:52:44.837Z"
   },
   {
    "duration": 30,
    "start_time": "2021-11-13T11:52:59.213Z"
   },
   {
    "duration": 23,
    "start_time": "2021-11-13T11:53:22.139Z"
   },
   {
    "duration": 22,
    "start_time": "2021-11-13T11:53:48.322Z"
   },
   {
    "duration": 35,
    "start_time": "2021-11-13T11:53:51.255Z"
   },
   {
    "duration": 37,
    "start_time": "2021-11-13T11:54:35.036Z"
   },
   {
    "duration": 26,
    "start_time": "2021-11-13T11:54:50.577Z"
   },
   {
    "duration": 33,
    "start_time": "2021-11-13T11:55:05.679Z"
   },
   {
    "duration": 26,
    "start_time": "2021-11-13T11:55:08.223Z"
   },
   {
    "duration": 25,
    "start_time": "2021-11-13T11:55:20.376Z"
   },
   {
    "duration": 25,
    "start_time": "2021-11-13T11:55:47.805Z"
   },
   {
    "duration": 24,
    "start_time": "2021-11-13T11:55:51.193Z"
   },
   {
    "duration": 31,
    "start_time": "2021-11-13T11:56:07.473Z"
   },
   {
    "duration": 28,
    "start_time": "2021-11-13T11:56:29.861Z"
   },
   {
    "duration": 300,
    "start_time": "2021-11-14T22:58:36.876Z"
   },
   {
    "duration": 4,
    "start_time": "2021-11-14T22:58:53.910Z"
   },
   {
    "duration": 276,
    "start_time": "2021-11-14T22:58:57.797Z"
   },
   {
    "duration": 575,
    "start_time": "2021-11-14T22:59:06.207Z"
   },
   {
    "duration": 146,
    "start_time": "2021-11-14T22:59:07.635Z"
   },
   {
    "duration": 21,
    "start_time": "2021-11-14T22:59:09.122Z"
   },
   {
    "duration": 26,
    "start_time": "2021-11-14T22:59:10.373Z"
   },
   {
    "duration": 4,
    "start_time": "2021-11-14T22:59:11.830Z"
   },
   {
    "duration": 23,
    "start_time": "2021-11-14T22:59:12.360Z"
   },
   {
    "duration": 4,
    "start_time": "2021-11-14T22:59:14.021Z"
   },
   {
    "duration": 23,
    "start_time": "2021-11-14T22:59:14.984Z"
   },
   {
    "duration": 18,
    "start_time": "2021-11-14T22:59:15.586Z"
   },
   {
    "duration": 23,
    "start_time": "2021-11-14T22:59:15.962Z"
   },
   {
    "duration": 60,
    "start_time": "2021-11-14T22:59:16.483Z"
   },
   {
    "duration": 77,
    "start_time": "2021-11-14T22:59:17.022Z"
   },
   {
    "duration": 53,
    "start_time": "2021-11-14T22:59:17.679Z"
   },
   {
    "duration": 39,
    "start_time": "2021-11-14T22:59:19.276Z"
   },
   {
    "duration": 4,
    "start_time": "2021-11-14T22:59:19.676Z"
   },
   {
    "duration": 10,
    "start_time": "2021-11-14T22:59:20.150Z"
   },
   {
    "duration": 40,
    "start_time": "2021-11-14T22:59:20.629Z"
   },
   {
    "duration": 38,
    "start_time": "2021-11-14T22:59:22.169Z"
   },
   {
    "duration": 12,
    "start_time": "2021-11-14T22:59:22.658Z"
   },
   {
    "duration": 3,
    "start_time": "2021-11-14T22:59:23.586Z"
   },
   {
    "duration": 20,
    "start_time": "2021-11-14T22:59:24.405Z"
   },
   {
    "duration": 17,
    "start_time": "2021-11-14T22:59:24.803Z"
   },
   {
    "duration": 18,
    "start_time": "2021-11-14T22:59:25.383Z"
   },
   {
    "duration": 17,
    "start_time": "2021-11-14T22:59:25.932Z"
   },
   {
    "duration": 19,
    "start_time": "2021-11-14T22:59:26.746Z"
   },
   {
    "duration": 18,
    "start_time": "2021-11-14T22:59:27.326Z"
   },
   {
    "duration": 7,
    "start_time": "2021-11-14T22:59:29.138Z"
   },
   {
    "duration": 14,
    "start_time": "2021-11-14T22:59:31.668Z"
   },
   {
    "duration": 11,
    "start_time": "2021-11-14T22:59:32.149Z"
   },
   {
    "duration": 4,
    "start_time": "2021-11-14T22:59:33.425Z"
   },
   {
    "duration": 19,
    "start_time": "2021-11-14T22:59:34.553Z"
   },
   {
    "duration": 26,
    "start_time": "2021-11-14T22:59:35.863Z"
   },
   {
    "duration": 23,
    "start_time": "2021-11-14T22:59:36.393Z"
   },
   {
    "duration": 23,
    "start_time": "2021-11-14T22:59:36.878Z"
   },
   {
    "duration": 26,
    "start_time": "2021-11-14T23:00:18.919Z"
   },
   {
    "duration": 26,
    "start_time": "2021-11-14T23:00:29.396Z"
   },
   {
    "duration": 26,
    "start_time": "2021-11-14T23:00:33.348Z"
   },
   {
    "duration": 26,
    "start_time": "2021-11-14T23:00:55.480Z"
   },
   {
    "duration": 25,
    "start_time": "2021-11-14T23:01:03.867Z"
   },
   {
    "duration": 19,
    "start_time": "2021-11-14T23:02:11.247Z"
   },
   {
    "duration": 16,
    "start_time": "2021-11-14T23:02:27.247Z"
   },
   {
    "duration": 26,
    "start_time": "2021-11-14T23:03:49.886Z"
   },
   {
    "duration": 26,
    "start_time": "2021-11-14T23:03:53.741Z"
   },
   {
    "duration": 23,
    "start_time": "2021-11-14T23:04:22.868Z"
   },
   {
    "duration": 24,
    "start_time": "2021-11-14T23:04:34.040Z"
   },
   {
    "duration": 304,
    "start_time": "2021-11-14T23:05:07.082Z"
   },
   {
    "duration": 10,
    "start_time": "2021-11-14T23:07:17.254Z"
   },
   {
    "duration": 8,
    "start_time": "2021-11-14T23:07:26.945Z"
   },
   {
    "duration": 5,
    "start_time": "2021-11-14T23:07:31.232Z"
   },
   {
    "duration": 6,
    "start_time": "2021-11-14T23:07:59.146Z"
   },
   {
    "duration": 5,
    "start_time": "2021-11-14T23:08:02.737Z"
   },
   {
    "duration": 735,
    "start_time": "2021-11-15T14:15:48.885Z"
   },
   {
    "duration": 191,
    "start_time": "2021-11-15T14:15:51.361Z"
   },
   {
    "duration": 26,
    "start_time": "2021-11-15T14:15:54.208Z"
   },
   {
    "duration": 32,
    "start_time": "2021-11-15T14:16:32.116Z"
   },
   {
    "duration": 31,
    "start_time": "2021-11-15T14:16:49.464Z"
   },
   {
    "duration": 6697,
    "start_time": "2021-11-15T14:16:52.503Z"
   },
   {
    "duration": -673,
    "start_time": "2021-11-15T14:16:59.877Z"
   },
   {
    "duration": 4,
    "start_time": "2021-11-15T14:17:09.305Z"
   },
   {
    "duration": 181,
    "start_time": "2021-11-15T14:17:10.213Z"
   },
   {
    "duration": 24,
    "start_time": "2021-11-15T14:17:12.074Z"
   },
   {
    "duration": 32,
    "start_time": "2021-11-15T14:17:14.880Z"
   },
   {
    "duration": 7,
    "start_time": "2021-11-15T14:17:17.928Z"
   },
   {
    "duration": 30,
    "start_time": "2021-11-15T14:17:20.669Z"
   },
   {
    "duration": 5,
    "start_time": "2021-11-15T14:17:21.890Z"
   },
   {
    "duration": 30,
    "start_time": "2021-11-15T14:17:23.151Z"
   },
   {
    "duration": 23,
    "start_time": "2021-11-15T14:17:25.853Z"
   },
   {
    "duration": 31,
    "start_time": "2021-11-15T14:17:27.754Z"
   },
   {
    "duration": 87,
    "start_time": "2021-11-15T14:17:33.219Z"
   },
   {
    "duration": 108,
    "start_time": "2021-11-15T14:17:37.568Z"
   },
   {
    "duration": 77,
    "start_time": "2021-11-15T14:17:38.710Z"
   },
   {
    "duration": 58,
    "start_time": "2021-11-15T14:17:45.407Z"
   },
   {
    "duration": 5,
    "start_time": "2021-11-15T14:18:00.948Z"
   },
   {
    "duration": 14,
    "start_time": "2021-11-15T14:18:31.394Z"
   },
   {
    "duration": 65,
    "start_time": "2021-11-15T14:18:32.711Z"
   },
   {
    "duration": 53,
    "start_time": "2021-11-15T14:19:05.329Z"
   },
   {
    "duration": 15,
    "start_time": "2021-11-15T14:20:17.368Z"
   },
   {
    "duration": 6,
    "start_time": "2021-11-15T14:20:38.003Z"
   },
   {
    "duration": 22,
    "start_time": "2021-11-15T14:20:40.281Z"
   },
   {
    "duration": 30,
    "start_time": "2021-11-15T14:20:44.322Z"
   },
   {
    "duration": 23,
    "start_time": "2021-11-15T14:20:44.906Z"
   },
   {
    "duration": 19,
    "start_time": "2021-11-15T14:20:45.430Z"
   },
   {
    "duration": 22,
    "start_time": "2021-11-15T14:20:45.801Z"
   },
   {
    "duration": 23,
    "start_time": "2021-11-15T14:20:46.192Z"
   },
   {
    "duration": 10,
    "start_time": "2021-11-15T14:20:50.765Z"
   },
   {
    "duration": 6,
    "start_time": "2021-11-15T14:23:08.507Z"
   },
   {
    "duration": 6,
    "start_time": "2021-11-15T14:24:58.593Z"
   },
   {
    "duration": 287,
    "start_time": "2021-11-15T14:25:02.179Z"
   },
   {
    "duration": 35,
    "start_time": "2021-11-15T14:25:21.270Z"
   },
   {
    "duration": 29,
    "start_time": "2021-11-15T14:25:25.736Z"
   },
   {
    "duration": 8,
    "start_time": "2021-11-15T14:25:30.307Z"
   },
   {
    "duration": 45,
    "start_time": "2021-11-15T14:25:32.898Z"
   },
   {
    "duration": 42,
    "start_time": "2021-11-15T14:25:39.223Z"
   },
   {
    "duration": 27,
    "start_time": "2021-11-15T14:25:49.906Z"
   },
   {
    "duration": 26,
    "start_time": "2021-11-15T14:25:53.379Z"
   },
   {
    "duration": 30,
    "start_time": "2021-11-15T14:26:09.579Z"
   },
   {
    "duration": 33,
    "start_time": "2021-11-15T14:26:15.985Z"
   },
   {
    "duration": 29,
    "start_time": "2021-11-15T14:26:19.745Z"
   },
   {
    "duration": 31,
    "start_time": "2021-11-15T14:26:58.139Z"
   },
   {
    "duration": 32,
    "start_time": "2021-11-15T14:27:08.075Z"
   },
   {
    "duration": 32,
    "start_time": "2021-11-15T14:27:27.377Z"
   },
   {
    "duration": 31,
    "start_time": "2021-11-15T14:27:31.843Z"
   },
   {
    "duration": 31,
    "start_time": "2021-11-15T14:27:36.231Z"
   },
   {
    "duration": 27,
    "start_time": "2021-11-15T14:27:41.228Z"
   },
   {
    "duration": 32,
    "start_time": "2021-11-15T14:27:45.322Z"
   },
   {
    "duration": 32,
    "start_time": "2021-11-15T14:27:49.090Z"
   },
   {
    "duration": 29,
    "start_time": "2021-11-15T14:27:58.772Z"
   },
   {
    "duration": 32,
    "start_time": "2021-11-15T14:28:09.175Z"
   },
   {
    "duration": 29,
    "start_time": "2021-11-15T14:28:12.455Z"
   },
   {
    "duration": 26,
    "start_time": "2021-11-15T14:29:28.777Z"
   },
   {
    "duration": 26,
    "start_time": "2021-11-15T14:29:40.028Z"
   },
   {
    "duration": 581,
    "start_time": "2021-11-15T15:03:13.956Z"
   },
   {
    "duration": 155,
    "start_time": "2021-11-15T15:03:18.881Z"
   },
   {
    "duration": 6,
    "start_time": "2021-11-15T15:04:48.845Z"
   },
   {
    "duration": 27,
    "start_time": "2021-11-15T15:04:53.560Z"
   },
   {
    "duration": 19,
    "start_time": "2021-11-15T15:04:57.418Z"
   },
   {
    "duration": 24,
    "start_time": "2021-11-15T15:05:00.691Z"
   },
   {
    "duration": 18,
    "start_time": "2021-11-15T15:05:03.255Z"
   },
   {
    "duration": 62,
    "start_time": "2021-11-16T05:42:35.528Z"
   },
   {
    "duration": 314,
    "start_time": "2021-11-16T08:31:50.337Z"
   },
   {
    "duration": 564,
    "start_time": "2021-11-16T08:31:59.308Z"
   },
   {
    "duration": 149,
    "start_time": "2021-11-16T08:32:00.328Z"
   },
   {
    "duration": 18,
    "start_time": "2021-11-16T08:32:01.031Z"
   },
   {
    "duration": 24,
    "start_time": "2021-11-16T08:32:03.013Z"
   },
   {
    "duration": 4,
    "start_time": "2021-11-16T08:32:05.618Z"
   },
   {
    "duration": 20,
    "start_time": "2021-11-16T08:32:06.986Z"
   },
   {
    "duration": 4,
    "start_time": "2021-11-16T08:32:08.322Z"
   },
   {
    "duration": 24,
    "start_time": "2021-11-16T08:32:09.071Z"
   },
   {
    "duration": 18,
    "start_time": "2021-11-16T08:32:12.210Z"
   },
   {
    "duration": 28,
    "start_time": "2021-11-16T08:32:13.115Z"
   },
   {
    "duration": 64,
    "start_time": "2021-11-16T08:32:14.463Z"
   },
   {
    "duration": 74,
    "start_time": "2021-11-16T08:32:15.341Z"
   },
   {
    "duration": 56,
    "start_time": "2021-11-16T08:32:15.990Z"
   },
   {
    "duration": 39,
    "start_time": "2021-11-16T08:32:18.676Z"
   },
   {
    "duration": 3,
    "start_time": "2021-11-16T08:32:22.239Z"
   },
   {
    "duration": 9,
    "start_time": "2021-11-16T08:32:25.227Z"
   },
   {
    "duration": 41,
    "start_time": "2021-11-16T08:32:26.317Z"
   },
   {
    "duration": 54,
    "start_time": "2021-11-16T08:32:30.299Z"
   },
   {
    "duration": 50,
    "start_time": "2021-11-16T08:34:04.267Z"
   },
   {
    "duration": 88,
    "start_time": "2021-11-16T08:34:18.602Z"
   },
   {
    "duration": 88,
    "start_time": "2021-11-16T08:34:42.181Z"
   },
   {
    "duration": 175,
    "start_time": "2021-11-16T08:34:58.734Z"
   },
   {
    "duration": 11,
    "start_time": "2021-11-16T08:35:49.229Z"
   },
   {
    "duration": 12,
    "start_time": "2021-11-16T08:36:22.417Z"
   },
   {
    "duration": 12,
    "start_time": "2021-11-16T08:38:39.637Z"
   },
   {
    "duration": 9,
    "start_time": "2021-11-16T08:38:46.347Z"
   },
   {
    "duration": 41,
    "start_time": "2021-11-16T08:53:27.635Z"
   },
   {
    "duration": 299,
    "start_time": "2021-11-16T09:03:03.340Z"
   },
   {
    "duration": 4,
    "start_time": "2021-11-16T09:03:10.884Z"
   },
   {
    "duration": 23,
    "start_time": "2021-11-16T09:03:13.451Z"
   },
   {
    "duration": 18,
    "start_time": "2021-11-16T09:03:33.275Z"
   },
   {
    "duration": 17,
    "start_time": "2021-11-16T09:04:07.474Z"
   },
   {
    "duration": 17,
    "start_time": "2021-11-16T09:04:14.885Z"
   },
   {
    "duration": 16,
    "start_time": "2021-11-16T09:04:47.860Z"
   },
   {
    "duration": 16,
    "start_time": "2021-11-16T09:05:05.681Z"
   },
   {
    "duration": 18,
    "start_time": "2021-11-16T09:05:11.401Z"
   },
   {
    "duration": 17,
    "start_time": "2021-11-16T09:05:16.060Z"
   },
   {
    "duration": 19,
    "start_time": "2021-11-16T09:06:25.549Z"
   },
   {
    "duration": 19,
    "start_time": "2021-11-16T09:06:34.028Z"
   },
   {
    "duration": 254,
    "start_time": "2021-11-16T09:07:41.582Z"
   },
   {
    "duration": 20,
    "start_time": "2021-11-16T09:07:53.598Z"
   },
   {
    "duration": 16,
    "start_time": "2021-11-16T09:07:54.316Z"
   },
   {
    "duration": 17,
    "start_time": "2021-11-16T09:07:55.204Z"
   },
   {
    "duration": 15,
    "start_time": "2021-11-16T09:07:59.250Z"
   },
   {
    "duration": 18,
    "start_time": "2021-11-16T09:07:59.718Z"
   },
   {
    "duration": 18,
    "start_time": "2021-11-16T09:08:01.603Z"
   },
   {
    "duration": 10,
    "start_time": "2021-11-16T09:08:03.046Z"
   },
   {
    "duration": 3,
    "start_time": "2021-11-16T09:13:35.899Z"
   },
   {
    "duration": 147,
    "start_time": "2021-11-16T09:13:37.254Z"
   },
   {
    "duration": 12,
    "start_time": "2021-11-16T09:13:38.079Z"
   },
   {
    "duration": 27,
    "start_time": "2021-11-16T09:13:39.532Z"
   },
   {
    "duration": 3,
    "start_time": "2021-11-16T09:13:46.616Z"
   },
   {
    "duration": 20,
    "start_time": "2021-11-16T09:13:48.083Z"
   },
   {
    "duration": 5,
    "start_time": "2021-11-16T09:13:49.013Z"
   },
   {
    "duration": 24,
    "start_time": "2021-11-16T09:13:49.534Z"
   },
   {
    "duration": 19,
    "start_time": "2021-11-16T09:13:50.927Z"
   },
   {
    "duration": 23,
    "start_time": "2021-11-16T09:13:51.655Z"
   },
   {
    "duration": 55,
    "start_time": "2021-11-16T09:13:53.117Z"
   },
   {
    "duration": 63,
    "start_time": "2021-11-16T09:13:54.862Z"
   },
   {
    "duration": 52,
    "start_time": "2021-11-16T09:13:55.926Z"
   },
   {
    "duration": 41,
    "start_time": "2021-11-16T09:13:59.465Z"
   },
   {
    "duration": 4,
    "start_time": "2021-11-16T09:14:04.005Z"
   },
   {
    "duration": 10,
    "start_time": "2021-11-16T09:14:05.816Z"
   },
   {
    "duration": 40,
    "start_time": "2021-11-16T09:14:06.461Z"
   },
   {
    "duration": 12,
    "start_time": "2021-11-16T09:14:09.225Z"
   }
  ],
  "colab": {
   "collapsed_sections": [
    "E0vqbgi9ay0H",
    "VUC88oWjTJw2"
   ],
   "name": "yandex_music_project_2021.2.ipynb",
   "provenance": []
  },
  "kernelspec": {
   "display_name": "Python 3 (ipykernel)",
   "language": "python",
   "name": "python3"
  },
  "language_info": {
   "codemirror_mode": {
    "name": "ipython",
    "version": 3
   },
   "file_extension": ".py",
   "mimetype": "text/x-python",
   "name": "python",
   "nbconvert_exporter": "python",
   "pygments_lexer": "ipython3",
   "version": "3.9.5"
  },
  "toc": {
   "base_numbering": 1,
   "nav_menu": {},
   "number_sections": true,
   "sideBar": true,
   "skip_h1_title": true,
   "title_cell": "Table of Contents",
   "title_sidebar": "Contents",
   "toc_cell": false,
   "toc_position": {},
   "toc_section_display": true,
   "toc_window_display": true
  }
 },
 "nbformat": 4,
 "nbformat_minor": 1
}
