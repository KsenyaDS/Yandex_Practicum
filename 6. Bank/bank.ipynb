{
 "cells": [
  {
   "cell_type": "markdown",
   "metadata": {
    "toc": true
   },
   "source": [
    "\n",
    "# Структура проекта\n",
    "1. [Изучение данных](#start)\n",
    "2. [Предобработка данных](#preprocessing)\n",
    "3. [Баланс классов](#balance)\n",
    "4. [Построение моделей](#models)\n",
    "5. [Вывод](#conclusion)"
   ]
  },
  {
   "cell_type": "markdown",
   "metadata": {},
   "source": [
    "# Отток клиентов"
   ]
  },
  {
   "cell_type": "markdown",
   "metadata": {},
   "source": [
    "## 1.Изучение данных\n",
    "<a id=\"start\"></a>"
   ]
  },
  {
   "cell_type": "markdown",
   "metadata": {},
   "source": [
    "На данном этапе:\n",
    "- импортируем библиотеки,\n",
    "- откроем файл с данными и изучим его."
   ]
  },
  {
   "cell_type": "markdown",
   "metadata": {},
   "source": [
    "Импортируем все необходимые библиотеки."
   ]
  },
  {
   "cell_type": "code",
   "execution_count": 1,
   "metadata": {},
   "outputs": [
    {
     "name": "stderr",
     "output_type": "stream",
     "text": [
      "<frozen importlib._bootstrap>:228: RuntimeWarning: scipy._lib.messagestream.MessageStream size changed, may indicate binary incompatibility. Expected 56 from C header, got 64 from PyObject\n"
     ]
    }
   ],
   "source": [
    "import pandas as pd\n",
    "import matplotlib.pyplot as plt\n",
    "import numpy as np\n",
    "import sklearn as scikit_learn\n",
    "import warnings\n",
    "warnings.filterwarnings('ignore')\n",
    "from sklearn.tree import DecisionTreeClassifier\n",
    "from sklearn.ensemble import RandomForestClassifier\n",
    "from sklearn.linear_model import LogisticRegression\n",
    "from sklearn.model_selection import train_test_split\n",
    "from sklearn.preprocessing import OrdinalEncoder\n",
    "from sklearn.model_selection import GridSearchCV\n",
    "from sklearn.model_selection import RandomizedSearchCV\n",
    "from sklearn.preprocessing import StandardScaler\n",
    "from sklearn.metrics import f1_score\n",
    "from sklearn.metrics import accuracy_score\n",
    "from sklearn.utils import shuffle\n",
    "from sklearn.metrics import roc_curve\n",
    "from sklearn.metrics import roc_auc_score"
   ]
  },
  {
   "cell_type": "markdown",
   "metadata": {},
   "source": [
    "Откроем файл с данными."
   ]
  },
  {
   "cell_type": "code",
   "execution_count": 2,
   "metadata": {},
   "outputs": [],
   "source": [
    "data = pd.read_csv('Churn.csv')"
   ]
  },
  {
   "cell_type": "markdown",
   "metadata": {},
   "source": [
    "Изучим файл, посмотрим первые 10 строк датафрейма."
   ]
  },
  {
   "cell_type": "code",
   "execution_count": 3,
   "metadata": {},
   "outputs": [
    {
     "data": {
      "text/html": [
       "<div>\n",
       "<style scoped>\n",
       "    .dataframe tbody tr th:only-of-type {\n",
       "        vertical-align: middle;\n",
       "    }\n",
       "\n",
       "    .dataframe tbody tr th {\n",
       "        vertical-align: top;\n",
       "    }\n",
       "\n",
       "    .dataframe thead th {\n",
       "        text-align: right;\n",
       "    }\n",
       "</style>\n",
       "<table border=\"1\" class=\"dataframe\">\n",
       "  <thead>\n",
       "    <tr style=\"text-align: right;\">\n",
       "      <th></th>\n",
       "      <th>RowNumber</th>\n",
       "      <th>CustomerId</th>\n",
       "      <th>Surname</th>\n",
       "      <th>CreditScore</th>\n",
       "      <th>Geography</th>\n",
       "      <th>Gender</th>\n",
       "      <th>Age</th>\n",
       "      <th>Tenure</th>\n",
       "      <th>Balance</th>\n",
       "      <th>NumOfProducts</th>\n",
       "      <th>HasCrCard</th>\n",
       "      <th>IsActiveMember</th>\n",
       "      <th>EstimatedSalary</th>\n",
       "      <th>Exited</th>\n",
       "    </tr>\n",
       "  </thead>\n",
       "  <tbody>\n",
       "    <tr>\n",
       "      <th>0</th>\n",
       "      <td>1</td>\n",
       "      <td>15634602</td>\n",
       "      <td>Hargrave</td>\n",
       "      <td>619</td>\n",
       "      <td>France</td>\n",
       "      <td>Female</td>\n",
       "      <td>42</td>\n",
       "      <td>2.0</td>\n",
       "      <td>0.00</td>\n",
       "      <td>1</td>\n",
       "      <td>1</td>\n",
       "      <td>1</td>\n",
       "      <td>101348.88</td>\n",
       "      <td>1</td>\n",
       "    </tr>\n",
       "    <tr>\n",
       "      <th>1</th>\n",
       "      <td>2</td>\n",
       "      <td>15647311</td>\n",
       "      <td>Hill</td>\n",
       "      <td>608</td>\n",
       "      <td>Spain</td>\n",
       "      <td>Female</td>\n",
       "      <td>41</td>\n",
       "      <td>1.0</td>\n",
       "      <td>83807.86</td>\n",
       "      <td>1</td>\n",
       "      <td>0</td>\n",
       "      <td>1</td>\n",
       "      <td>112542.58</td>\n",
       "      <td>0</td>\n",
       "    </tr>\n",
       "    <tr>\n",
       "      <th>2</th>\n",
       "      <td>3</td>\n",
       "      <td>15619304</td>\n",
       "      <td>Onio</td>\n",
       "      <td>502</td>\n",
       "      <td>France</td>\n",
       "      <td>Female</td>\n",
       "      <td>42</td>\n",
       "      <td>8.0</td>\n",
       "      <td>159660.80</td>\n",
       "      <td>3</td>\n",
       "      <td>1</td>\n",
       "      <td>0</td>\n",
       "      <td>113931.57</td>\n",
       "      <td>1</td>\n",
       "    </tr>\n",
       "    <tr>\n",
       "      <th>3</th>\n",
       "      <td>4</td>\n",
       "      <td>15701354</td>\n",
       "      <td>Boni</td>\n",
       "      <td>699</td>\n",
       "      <td>France</td>\n",
       "      <td>Female</td>\n",
       "      <td>39</td>\n",
       "      <td>1.0</td>\n",
       "      <td>0.00</td>\n",
       "      <td>2</td>\n",
       "      <td>0</td>\n",
       "      <td>0</td>\n",
       "      <td>93826.63</td>\n",
       "      <td>0</td>\n",
       "    </tr>\n",
       "    <tr>\n",
       "      <th>4</th>\n",
       "      <td>5</td>\n",
       "      <td>15737888</td>\n",
       "      <td>Mitchell</td>\n",
       "      <td>850</td>\n",
       "      <td>Spain</td>\n",
       "      <td>Female</td>\n",
       "      <td>43</td>\n",
       "      <td>2.0</td>\n",
       "      <td>125510.82</td>\n",
       "      <td>1</td>\n",
       "      <td>1</td>\n",
       "      <td>1</td>\n",
       "      <td>79084.10</td>\n",
       "      <td>0</td>\n",
       "    </tr>\n",
       "    <tr>\n",
       "      <th>5</th>\n",
       "      <td>6</td>\n",
       "      <td>15574012</td>\n",
       "      <td>Chu</td>\n",
       "      <td>645</td>\n",
       "      <td>Spain</td>\n",
       "      <td>Male</td>\n",
       "      <td>44</td>\n",
       "      <td>8.0</td>\n",
       "      <td>113755.78</td>\n",
       "      <td>2</td>\n",
       "      <td>1</td>\n",
       "      <td>0</td>\n",
       "      <td>149756.71</td>\n",
       "      <td>1</td>\n",
       "    </tr>\n",
       "    <tr>\n",
       "      <th>6</th>\n",
       "      <td>7</td>\n",
       "      <td>15592531</td>\n",
       "      <td>Bartlett</td>\n",
       "      <td>822</td>\n",
       "      <td>France</td>\n",
       "      <td>Male</td>\n",
       "      <td>50</td>\n",
       "      <td>7.0</td>\n",
       "      <td>0.00</td>\n",
       "      <td>2</td>\n",
       "      <td>1</td>\n",
       "      <td>1</td>\n",
       "      <td>10062.80</td>\n",
       "      <td>0</td>\n",
       "    </tr>\n",
       "    <tr>\n",
       "      <th>7</th>\n",
       "      <td>8</td>\n",
       "      <td>15656148</td>\n",
       "      <td>Obinna</td>\n",
       "      <td>376</td>\n",
       "      <td>Germany</td>\n",
       "      <td>Female</td>\n",
       "      <td>29</td>\n",
       "      <td>4.0</td>\n",
       "      <td>115046.74</td>\n",
       "      <td>4</td>\n",
       "      <td>1</td>\n",
       "      <td>0</td>\n",
       "      <td>119346.88</td>\n",
       "      <td>1</td>\n",
       "    </tr>\n",
       "    <tr>\n",
       "      <th>8</th>\n",
       "      <td>9</td>\n",
       "      <td>15792365</td>\n",
       "      <td>He</td>\n",
       "      <td>501</td>\n",
       "      <td>France</td>\n",
       "      <td>Male</td>\n",
       "      <td>44</td>\n",
       "      <td>4.0</td>\n",
       "      <td>142051.07</td>\n",
       "      <td>2</td>\n",
       "      <td>0</td>\n",
       "      <td>1</td>\n",
       "      <td>74940.50</td>\n",
       "      <td>0</td>\n",
       "    </tr>\n",
       "    <tr>\n",
       "      <th>9</th>\n",
       "      <td>10</td>\n",
       "      <td>15592389</td>\n",
       "      <td>H?</td>\n",
       "      <td>684</td>\n",
       "      <td>France</td>\n",
       "      <td>Male</td>\n",
       "      <td>27</td>\n",
       "      <td>2.0</td>\n",
       "      <td>134603.88</td>\n",
       "      <td>1</td>\n",
       "      <td>1</td>\n",
       "      <td>1</td>\n",
       "      <td>71725.73</td>\n",
       "      <td>0</td>\n",
       "    </tr>\n",
       "  </tbody>\n",
       "</table>\n",
       "</div>"
      ],
      "text/plain": [
       "   RowNumber  CustomerId   Surname  CreditScore Geography  Gender  Age  \\\n",
       "0          1    15634602  Hargrave          619    France  Female   42   \n",
       "1          2    15647311      Hill          608     Spain  Female   41   \n",
       "2          3    15619304      Onio          502    France  Female   42   \n",
       "3          4    15701354      Boni          699    France  Female   39   \n",
       "4          5    15737888  Mitchell          850     Spain  Female   43   \n",
       "5          6    15574012       Chu          645     Spain    Male   44   \n",
       "6          7    15592531  Bartlett          822    France    Male   50   \n",
       "7          8    15656148    Obinna          376   Germany  Female   29   \n",
       "8          9    15792365        He          501    France    Male   44   \n",
       "9         10    15592389        H?          684    France    Male   27   \n",
       "\n",
       "   Tenure    Balance  NumOfProducts  HasCrCard  IsActiveMember  \\\n",
       "0     2.0       0.00              1          1               1   \n",
       "1     1.0   83807.86              1          0               1   \n",
       "2     8.0  159660.80              3          1               0   \n",
       "3     1.0       0.00              2          0               0   \n",
       "4     2.0  125510.82              1          1               1   \n",
       "5     8.0  113755.78              2          1               0   \n",
       "6     7.0       0.00              2          1               1   \n",
       "7     4.0  115046.74              4          1               0   \n",
       "8     4.0  142051.07              2          0               1   \n",
       "9     2.0  134603.88              1          1               1   \n",
       "\n",
       "   EstimatedSalary  Exited  \n",
       "0        101348.88       1  \n",
       "1        112542.58       0  \n",
       "2        113931.57       1  \n",
       "3         93826.63       0  \n",
       "4         79084.10       0  \n",
       "5        149756.71       1  \n",
       "6         10062.80       0  \n",
       "7        119346.88       1  \n",
       "8         74940.50       0  \n",
       "9         71725.73       0  "
      ]
     },
     "execution_count": 3,
     "metadata": {},
     "output_type": "execute_result"
    }
   ],
   "source": [
    "data.head(10)"
   ]
  },
  {
   "cell_type": "markdown",
   "metadata": {},
   "source": [
    "**Признаки**\n",
    "- RowNumber — индекс строки в данных\n",
    "- CustomerId — уникальный идентификатор клиента\n",
    "- Surname — фамилия\n",
    "- CreditScore — кредитный рейтинг\n",
    "- Geography — страна проживания\n",
    "- Gender — пол\n",
    "- Age — возраст\n",
    "- Tenure — сколько лет человек является клиентом банка\n",
    "- Balance — баланс на счёте\n",
    "- NumOfProducts — количество продуктов банка, используемых клиентом\n",
    "- HasCrCard — наличие кредитной карты\n",
    "- IsActiveMember — активность клиента\n",
    "- EstimatedSalary — предполагаемая зарплата\n",
    "\n",
    "**Целевой признак**\n",
    "- Exited — факт ухода клиента"
   ]
  },
  {
   "cell_type": "markdown",
   "metadata": {},
   "source": [
    "Изучим общую информацию."
   ]
  },
  {
   "cell_type": "code",
   "execution_count": 4,
   "metadata": {},
   "outputs": [
    {
     "name": "stdout",
     "output_type": "stream",
     "text": [
      "<class 'pandas.core.frame.DataFrame'>\n",
      "RangeIndex: 10000 entries, 0 to 9999\n",
      "Data columns (total 14 columns):\n",
      " #   Column           Non-Null Count  Dtype  \n",
      "---  ------           --------------  -----  \n",
      " 0   RowNumber        10000 non-null  int64  \n",
      " 1   CustomerId       10000 non-null  int64  \n",
      " 2   Surname          10000 non-null  object \n",
      " 3   CreditScore      10000 non-null  int64  \n",
      " 4   Geography        10000 non-null  object \n",
      " 5   Gender           10000 non-null  object \n",
      " 6   Age              10000 non-null  int64  \n",
      " 7   Tenure           9091 non-null   float64\n",
      " 8   Balance          10000 non-null  float64\n",
      " 9   NumOfProducts    10000 non-null  int64  \n",
      " 10  HasCrCard        10000 non-null  int64  \n",
      " 11  IsActiveMember   10000 non-null  int64  \n",
      " 12  EstimatedSalary  10000 non-null  float64\n",
      " 13  Exited           10000 non-null  int64  \n",
      "dtypes: float64(3), int64(8), object(3)\n",
      "memory usage: 1.1+ MB\n"
     ]
    }
   ],
   "source": [
    "data.info()"
   ]
  },
  {
   "cell_type": "markdown",
   "metadata": {},
   "source": [
    "В результате анализа данных замечаем, что:\n",
    "\n",
    "1. В столбце `Tenure` обнаружены пропущенные значения.\n",
    "2. Столбец `RowNumber` дублирует индекс, его нужно удалить. \n",
    "3. Столбцы `CustomerId`, ` Surname` также не несут полезной информации.\n",
    "\n",
    "Приступим к предобработке данных."
   ]
  },
  {
   "cell_type": "markdown",
   "metadata": {},
   "source": [
    "## 2.Предобработка данных\n",
    "<a id=\"preprocessing\"></a>"
   ]
  },
  {
   "cell_type": "markdown",
   "metadata": {},
   "source": [
    "В столбце `Tenure` обнаружены пропуски. Посмотрим на таблицу корреляции данных."
   ]
  },
  {
   "cell_type": "code",
   "execution_count": 5,
   "metadata": {},
   "outputs": [
    {
     "data": {
      "text/html": [
       "<div>\n",
       "<style scoped>\n",
       "    .dataframe tbody tr th:only-of-type {\n",
       "        vertical-align: middle;\n",
       "    }\n",
       "\n",
       "    .dataframe tbody tr th {\n",
       "        vertical-align: top;\n",
       "    }\n",
       "\n",
       "    .dataframe thead th {\n",
       "        text-align: right;\n",
       "    }\n",
       "</style>\n",
       "<table border=\"1\" class=\"dataframe\">\n",
       "  <thead>\n",
       "    <tr style=\"text-align: right;\">\n",
       "      <th></th>\n",
       "      <th>RowNumber</th>\n",
       "      <th>CustomerId</th>\n",
       "      <th>CreditScore</th>\n",
       "      <th>Age</th>\n",
       "      <th>Tenure</th>\n",
       "      <th>Balance</th>\n",
       "      <th>NumOfProducts</th>\n",
       "      <th>HasCrCard</th>\n",
       "      <th>IsActiveMember</th>\n",
       "      <th>EstimatedSalary</th>\n",
       "      <th>Exited</th>\n",
       "    </tr>\n",
       "  </thead>\n",
       "  <tbody>\n",
       "    <tr>\n",
       "      <th>RowNumber</th>\n",
       "      <td>1.000000</td>\n",
       "      <td>0.004202</td>\n",
       "      <td>0.005840</td>\n",
       "      <td>0.000783</td>\n",
       "      <td>-0.007322</td>\n",
       "      <td>-0.009067</td>\n",
       "      <td>0.007246</td>\n",
       "      <td>0.000599</td>\n",
       "      <td>0.012044</td>\n",
       "      <td>-0.005988</td>\n",
       "      <td>-0.016571</td>\n",
       "    </tr>\n",
       "    <tr>\n",
       "      <th>CustomerId</th>\n",
       "      <td>0.004202</td>\n",
       "      <td>1.000000</td>\n",
       "      <td>0.005308</td>\n",
       "      <td>0.009497</td>\n",
       "      <td>-0.021418</td>\n",
       "      <td>-0.012419</td>\n",
       "      <td>0.016972</td>\n",
       "      <td>-0.014025</td>\n",
       "      <td>0.001665</td>\n",
       "      <td>0.015271</td>\n",
       "      <td>-0.006248</td>\n",
       "    </tr>\n",
       "    <tr>\n",
       "      <th>CreditScore</th>\n",
       "      <td>0.005840</td>\n",
       "      <td>0.005308</td>\n",
       "      <td>1.000000</td>\n",
       "      <td>-0.003965</td>\n",
       "      <td>-0.000062</td>\n",
       "      <td>0.006268</td>\n",
       "      <td>0.012238</td>\n",
       "      <td>-0.005458</td>\n",
       "      <td>0.025651</td>\n",
       "      <td>-0.001384</td>\n",
       "      <td>-0.027094</td>\n",
       "    </tr>\n",
       "    <tr>\n",
       "      <th>Age</th>\n",
       "      <td>0.000783</td>\n",
       "      <td>0.009497</td>\n",
       "      <td>-0.003965</td>\n",
       "      <td>1.000000</td>\n",
       "      <td>-0.013134</td>\n",
       "      <td>0.028308</td>\n",
       "      <td>-0.030680</td>\n",
       "      <td>-0.011721</td>\n",
       "      <td>0.085472</td>\n",
       "      <td>-0.007201</td>\n",
       "      <td>0.285323</td>\n",
       "    </tr>\n",
       "    <tr>\n",
       "      <th>Tenure</th>\n",
       "      <td>-0.007322</td>\n",
       "      <td>-0.021418</td>\n",
       "      <td>-0.000062</td>\n",
       "      <td>-0.013134</td>\n",
       "      <td>1.000000</td>\n",
       "      <td>-0.007911</td>\n",
       "      <td>0.011979</td>\n",
       "      <td>0.027232</td>\n",
       "      <td>-0.032178</td>\n",
       "      <td>0.010520</td>\n",
       "      <td>-0.016761</td>\n",
       "    </tr>\n",
       "    <tr>\n",
       "      <th>Balance</th>\n",
       "      <td>-0.009067</td>\n",
       "      <td>-0.012419</td>\n",
       "      <td>0.006268</td>\n",
       "      <td>0.028308</td>\n",
       "      <td>-0.007911</td>\n",
       "      <td>1.000000</td>\n",
       "      <td>-0.304180</td>\n",
       "      <td>-0.014858</td>\n",
       "      <td>-0.010084</td>\n",
       "      <td>0.012797</td>\n",
       "      <td>0.118533</td>\n",
       "    </tr>\n",
       "    <tr>\n",
       "      <th>NumOfProducts</th>\n",
       "      <td>0.007246</td>\n",
       "      <td>0.016972</td>\n",
       "      <td>0.012238</td>\n",
       "      <td>-0.030680</td>\n",
       "      <td>0.011979</td>\n",
       "      <td>-0.304180</td>\n",
       "      <td>1.000000</td>\n",
       "      <td>0.003183</td>\n",
       "      <td>0.009612</td>\n",
       "      <td>0.014204</td>\n",
       "      <td>-0.047820</td>\n",
       "    </tr>\n",
       "    <tr>\n",
       "      <th>HasCrCard</th>\n",
       "      <td>0.000599</td>\n",
       "      <td>-0.014025</td>\n",
       "      <td>-0.005458</td>\n",
       "      <td>-0.011721</td>\n",
       "      <td>0.027232</td>\n",
       "      <td>-0.014858</td>\n",
       "      <td>0.003183</td>\n",
       "      <td>1.000000</td>\n",
       "      <td>-0.011866</td>\n",
       "      <td>-0.009933</td>\n",
       "      <td>-0.007138</td>\n",
       "    </tr>\n",
       "    <tr>\n",
       "      <th>IsActiveMember</th>\n",
       "      <td>0.012044</td>\n",
       "      <td>0.001665</td>\n",
       "      <td>0.025651</td>\n",
       "      <td>0.085472</td>\n",
       "      <td>-0.032178</td>\n",
       "      <td>-0.010084</td>\n",
       "      <td>0.009612</td>\n",
       "      <td>-0.011866</td>\n",
       "      <td>1.000000</td>\n",
       "      <td>-0.011421</td>\n",
       "      <td>-0.156128</td>\n",
       "    </tr>\n",
       "    <tr>\n",
       "      <th>EstimatedSalary</th>\n",
       "      <td>-0.005988</td>\n",
       "      <td>0.015271</td>\n",
       "      <td>-0.001384</td>\n",
       "      <td>-0.007201</td>\n",
       "      <td>0.010520</td>\n",
       "      <td>0.012797</td>\n",
       "      <td>0.014204</td>\n",
       "      <td>-0.009933</td>\n",
       "      <td>-0.011421</td>\n",
       "      <td>1.000000</td>\n",
       "      <td>0.012097</td>\n",
       "    </tr>\n",
       "    <tr>\n",
       "      <th>Exited</th>\n",
       "      <td>-0.016571</td>\n",
       "      <td>-0.006248</td>\n",
       "      <td>-0.027094</td>\n",
       "      <td>0.285323</td>\n",
       "      <td>-0.016761</td>\n",
       "      <td>0.118533</td>\n",
       "      <td>-0.047820</td>\n",
       "      <td>-0.007138</td>\n",
       "      <td>-0.156128</td>\n",
       "      <td>0.012097</td>\n",
       "      <td>1.000000</td>\n",
       "    </tr>\n",
       "  </tbody>\n",
       "</table>\n",
       "</div>"
      ],
      "text/plain": [
       "                 RowNumber  CustomerId  CreditScore       Age    Tenure  \\\n",
       "RowNumber         1.000000    0.004202     0.005840  0.000783 -0.007322   \n",
       "CustomerId        0.004202    1.000000     0.005308  0.009497 -0.021418   \n",
       "CreditScore       0.005840    0.005308     1.000000 -0.003965 -0.000062   \n",
       "Age               0.000783    0.009497    -0.003965  1.000000 -0.013134   \n",
       "Tenure           -0.007322   -0.021418    -0.000062 -0.013134  1.000000   \n",
       "Balance          -0.009067   -0.012419     0.006268  0.028308 -0.007911   \n",
       "NumOfProducts     0.007246    0.016972     0.012238 -0.030680  0.011979   \n",
       "HasCrCard         0.000599   -0.014025    -0.005458 -0.011721  0.027232   \n",
       "IsActiveMember    0.012044    0.001665     0.025651  0.085472 -0.032178   \n",
       "EstimatedSalary  -0.005988    0.015271    -0.001384 -0.007201  0.010520   \n",
       "Exited           -0.016571   -0.006248    -0.027094  0.285323 -0.016761   \n",
       "\n",
       "                  Balance  NumOfProducts  HasCrCard  IsActiveMember  \\\n",
       "RowNumber       -0.009067       0.007246   0.000599        0.012044   \n",
       "CustomerId      -0.012419       0.016972  -0.014025        0.001665   \n",
       "CreditScore      0.006268       0.012238  -0.005458        0.025651   \n",
       "Age              0.028308      -0.030680  -0.011721        0.085472   \n",
       "Tenure          -0.007911       0.011979   0.027232       -0.032178   \n",
       "Balance          1.000000      -0.304180  -0.014858       -0.010084   \n",
       "NumOfProducts   -0.304180       1.000000   0.003183        0.009612   \n",
       "HasCrCard       -0.014858       0.003183   1.000000       -0.011866   \n",
       "IsActiveMember  -0.010084       0.009612  -0.011866        1.000000   \n",
       "EstimatedSalary  0.012797       0.014204  -0.009933       -0.011421   \n",
       "Exited           0.118533      -0.047820  -0.007138       -0.156128   \n",
       "\n",
       "                 EstimatedSalary    Exited  \n",
       "RowNumber              -0.005988 -0.016571  \n",
       "CustomerId              0.015271 -0.006248  \n",
       "CreditScore            -0.001384 -0.027094  \n",
       "Age                    -0.007201  0.285323  \n",
       "Tenure                  0.010520 -0.016761  \n",
       "Balance                 0.012797  0.118533  \n",
       "NumOfProducts           0.014204 -0.047820  \n",
       "HasCrCard              -0.009933 -0.007138  \n",
       "IsActiveMember         -0.011421 -0.156128  \n",
       "EstimatedSalary         1.000000  0.012097  \n",
       "Exited                  0.012097  1.000000  "
      ]
     },
     "execution_count": 5,
     "metadata": {},
     "output_type": "execute_result"
    }
   ],
   "source": [
    "data.corr()"
   ]
  },
  {
   "cell_type": "markdown",
   "metadata": {},
   "source": [
    "Рассмотрим внимательно значения столбца `Tenure`. Видим, что корреляция с другимим столбцами низкая. Природа пропусков неизвестна и лучше их заполнить случайными числами, чтобы не влиять на распределение. Заполним пропущенные значения в столбце значением-маской. "
   ]
  },
  {
   "cell_type": "code",
   "execution_count": 6,
   "metadata": {},
   "outputs": [],
   "source": [
    "data['Tenure'].fillna(777, inplace=True)"
   ]
  },
  {
   "cell_type": "markdown",
   "metadata": {},
   "source": [
    "Приведем данные к типу данных int."
   ]
  },
  {
   "cell_type": "code",
   "execution_count": 7,
   "metadata": {},
   "outputs": [],
   "source": [
    "data['Tenure'] = data['Tenure'].astype('int64')"
   ]
  },
  {
   "cell_type": "markdown",
   "metadata": {},
   "source": [
    "Проверим пропуски."
   ]
  },
  {
   "cell_type": "code",
   "execution_count": 8,
   "metadata": {},
   "outputs": [
    {
     "data": {
      "text/plain": [
       "RowNumber          0\n",
       "CustomerId         0\n",
       "Surname            0\n",
       "CreditScore        0\n",
       "Geography          0\n",
       "Gender             0\n",
       "Age                0\n",
       "Tenure             0\n",
       "Balance            0\n",
       "NumOfProducts      0\n",
       "HasCrCard          0\n",
       "IsActiveMember     0\n",
       "EstimatedSalary    0\n",
       "Exited             0\n",
       "dtype: int64"
      ]
     },
     "execution_count": 8,
     "metadata": {},
     "output_type": "execute_result"
    }
   ],
   "source": [
    "data.isnull().sum()"
   ]
  },
  {
   "cell_type": "markdown",
   "metadata": {},
   "source": [
    "Столбец `RowNumber` дублирует индекс, его нужно удалить. Столбцы `CustomerId`, ` Surname` также не несут полезной информации, удаляем."
   ]
  },
  {
   "cell_type": "code",
   "execution_count": 9,
   "metadata": {},
   "outputs": [],
   "source": [
    "data = data.drop(['RowNumber','CustomerId','Surname'], axis=1)"
   ]
  },
  {
   "cell_type": "markdown",
   "metadata": {},
   "source": [
    "Избавимся от категориальных признаков методом One hot encoder."
   ]
  },
  {
   "cell_type": "code",
   "execution_count": 10,
   "metadata": {},
   "outputs": [],
   "source": [
    "data = pd.get_dummies(data, drop_first=True)"
   ]
  },
  {
   "cell_type": "markdown",
   "metadata": {},
   "source": [
    "Проверим данные снова."
   ]
  },
  {
   "cell_type": "code",
   "execution_count": 11,
   "metadata": {},
   "outputs": [
    {
     "data": {
      "text/html": [
       "<div>\n",
       "<style scoped>\n",
       "    .dataframe tbody tr th:only-of-type {\n",
       "        vertical-align: middle;\n",
       "    }\n",
       "\n",
       "    .dataframe tbody tr th {\n",
       "        vertical-align: top;\n",
       "    }\n",
       "\n",
       "    .dataframe thead th {\n",
       "        text-align: right;\n",
       "    }\n",
       "</style>\n",
       "<table border=\"1\" class=\"dataframe\">\n",
       "  <thead>\n",
       "    <tr style=\"text-align: right;\">\n",
       "      <th></th>\n",
       "      <th>CreditScore</th>\n",
       "      <th>Age</th>\n",
       "      <th>Tenure</th>\n",
       "      <th>Balance</th>\n",
       "      <th>NumOfProducts</th>\n",
       "      <th>HasCrCard</th>\n",
       "      <th>IsActiveMember</th>\n",
       "      <th>EstimatedSalary</th>\n",
       "      <th>Exited</th>\n",
       "      <th>Geography_Germany</th>\n",
       "      <th>Geography_Spain</th>\n",
       "      <th>Gender_Male</th>\n",
       "    </tr>\n",
       "  </thead>\n",
       "  <tbody>\n",
       "    <tr>\n",
       "      <th>0</th>\n",
       "      <td>619</td>\n",
       "      <td>42</td>\n",
       "      <td>2</td>\n",
       "      <td>0.00</td>\n",
       "      <td>1</td>\n",
       "      <td>1</td>\n",
       "      <td>1</td>\n",
       "      <td>101348.88</td>\n",
       "      <td>1</td>\n",
       "      <td>0</td>\n",
       "      <td>0</td>\n",
       "      <td>0</td>\n",
       "    </tr>\n",
       "    <tr>\n",
       "      <th>1</th>\n",
       "      <td>608</td>\n",
       "      <td>41</td>\n",
       "      <td>1</td>\n",
       "      <td>83807.86</td>\n",
       "      <td>1</td>\n",
       "      <td>0</td>\n",
       "      <td>1</td>\n",
       "      <td>112542.58</td>\n",
       "      <td>0</td>\n",
       "      <td>0</td>\n",
       "      <td>1</td>\n",
       "      <td>0</td>\n",
       "    </tr>\n",
       "    <tr>\n",
       "      <th>2</th>\n",
       "      <td>502</td>\n",
       "      <td>42</td>\n",
       "      <td>8</td>\n",
       "      <td>159660.80</td>\n",
       "      <td>3</td>\n",
       "      <td>1</td>\n",
       "      <td>0</td>\n",
       "      <td>113931.57</td>\n",
       "      <td>1</td>\n",
       "      <td>0</td>\n",
       "      <td>0</td>\n",
       "      <td>0</td>\n",
       "    </tr>\n",
       "    <tr>\n",
       "      <th>3</th>\n",
       "      <td>699</td>\n",
       "      <td>39</td>\n",
       "      <td>1</td>\n",
       "      <td>0.00</td>\n",
       "      <td>2</td>\n",
       "      <td>0</td>\n",
       "      <td>0</td>\n",
       "      <td>93826.63</td>\n",
       "      <td>0</td>\n",
       "      <td>0</td>\n",
       "      <td>0</td>\n",
       "      <td>0</td>\n",
       "    </tr>\n",
       "    <tr>\n",
       "      <th>4</th>\n",
       "      <td>850</td>\n",
       "      <td>43</td>\n",
       "      <td>2</td>\n",
       "      <td>125510.82</td>\n",
       "      <td>1</td>\n",
       "      <td>1</td>\n",
       "      <td>1</td>\n",
       "      <td>79084.10</td>\n",
       "      <td>0</td>\n",
       "      <td>0</td>\n",
       "      <td>1</td>\n",
       "      <td>0</td>\n",
       "    </tr>\n",
       "  </tbody>\n",
       "</table>\n",
       "</div>"
      ],
      "text/plain": [
       "   CreditScore  Age  Tenure    Balance  NumOfProducts  HasCrCard  \\\n",
       "0          619   42       2       0.00              1          1   \n",
       "1          608   41       1   83807.86              1          0   \n",
       "2          502   42       8  159660.80              3          1   \n",
       "3          699   39       1       0.00              2          0   \n",
       "4          850   43       2  125510.82              1          1   \n",
       "\n",
       "   IsActiveMember  EstimatedSalary  Exited  Geography_Germany  \\\n",
       "0               1        101348.88       1                  0   \n",
       "1               1        112542.58       0                  0   \n",
       "2               0        113931.57       1                  0   \n",
       "3               0         93826.63       0                  0   \n",
       "4               1         79084.10       0                  0   \n",
       "\n",
       "   Geography_Spain  Gender_Male  \n",
       "0                0            0  \n",
       "1                1            0  \n",
       "2                0            0  \n",
       "3                0            0  \n",
       "4                1            0  "
      ]
     },
     "execution_count": 11,
     "metadata": {},
     "output_type": "execute_result"
    }
   ],
   "source": [
    "data.head()"
   ]
  },
  {
   "cell_type": "markdown",
   "metadata": {},
   "source": [
    "Определим признаки в данных. Целевой признак - факт ухода клиента из банка."
   ]
  },
  {
   "cell_type": "code",
   "execution_count": 12,
   "metadata": {},
   "outputs": [],
   "source": [
    "features = data.drop(['Exited'],axis=1)\n",
    "target = data['Exited']"
   ]
  },
  {
   "cell_type": "markdown",
   "metadata": {},
   "source": [
    "Разделим данные на обучающую, валидационную и тестовую выборки."
   ]
  },
  {
   "cell_type": "code",
   "execution_count": 13,
   "metadata": {},
   "outputs": [],
   "source": [
    "train_features, valid_features, train_target, valid_target = train_test_split(features, target, test_size=0.4, \n",
    "                                                                              random_state=12345)\n",
    "valid_features, test_features, valid_target, test_target = train_test_split(valid_features, valid_target, test_size=0.5, \n",
    "                                                                              random_state=12345 )"
   ]
  },
  {
   "cell_type": "markdown",
   "metadata": {},
   "source": [
    "Численные признаки масштабируем — приводим к одному масштабу с помощью стандартизации данных."
   ]
  },
  {
   "cell_type": "code",
   "execution_count": 14,
   "metadata": {},
   "outputs": [],
   "source": [
    "numeric=['CreditScore', 'Age', 'Tenure', 'Balance', 'NumOfProducts', 'EstimatedSalary']\n",
    "scaler=StandardScaler()\n",
    "scaler.fit(train_features[numeric])\n",
    "train_features[numeric]=scaler.transform(train_features[numeric])\n",
    "valid_features[numeric]=scaler.transform(valid_features[numeric])\n",
    "test_features[numeric]=scaler.transform(test_features[numeric])"
   ]
  },
  {
   "cell_type": "code",
   "execution_count": 15,
   "metadata": {},
   "outputs": [
    {
     "data": {
      "text/html": [
       "<div>\n",
       "<style scoped>\n",
       "    .dataframe tbody tr th:only-of-type {\n",
       "        vertical-align: middle;\n",
       "    }\n",
       "\n",
       "    .dataframe tbody tr th {\n",
       "        vertical-align: top;\n",
       "    }\n",
       "\n",
       "    .dataframe thead th {\n",
       "        text-align: right;\n",
       "    }\n",
       "</style>\n",
       "<table border=\"1\" class=\"dataframe\">\n",
       "  <thead>\n",
       "    <tr style=\"text-align: right;\">\n",
       "      <th></th>\n",
       "      <th>CreditScore</th>\n",
       "      <th>Age</th>\n",
       "      <th>Tenure</th>\n",
       "      <th>Balance</th>\n",
       "      <th>NumOfProducts</th>\n",
       "      <th>HasCrCard</th>\n",
       "      <th>IsActiveMember</th>\n",
       "      <th>EstimatedSalary</th>\n",
       "      <th>Exited</th>\n",
       "      <th>Geography_Germany</th>\n",
       "      <th>Geography_Spain</th>\n",
       "      <th>Gender_Male</th>\n",
       "    </tr>\n",
       "  </thead>\n",
       "  <tbody>\n",
       "    <tr>\n",
       "      <th>0</th>\n",
       "      <td>619</td>\n",
       "      <td>42</td>\n",
       "      <td>2</td>\n",
       "      <td>0.00</td>\n",
       "      <td>1</td>\n",
       "      <td>1</td>\n",
       "      <td>1</td>\n",
       "      <td>101348.88</td>\n",
       "      <td>1</td>\n",
       "      <td>0</td>\n",
       "      <td>0</td>\n",
       "      <td>0</td>\n",
       "    </tr>\n",
       "    <tr>\n",
       "      <th>1</th>\n",
       "      <td>608</td>\n",
       "      <td>41</td>\n",
       "      <td>1</td>\n",
       "      <td>83807.86</td>\n",
       "      <td>1</td>\n",
       "      <td>0</td>\n",
       "      <td>1</td>\n",
       "      <td>112542.58</td>\n",
       "      <td>0</td>\n",
       "      <td>0</td>\n",
       "      <td>1</td>\n",
       "      <td>0</td>\n",
       "    </tr>\n",
       "    <tr>\n",
       "      <th>2</th>\n",
       "      <td>502</td>\n",
       "      <td>42</td>\n",
       "      <td>8</td>\n",
       "      <td>159660.80</td>\n",
       "      <td>3</td>\n",
       "      <td>1</td>\n",
       "      <td>0</td>\n",
       "      <td>113931.57</td>\n",
       "      <td>1</td>\n",
       "      <td>0</td>\n",
       "      <td>0</td>\n",
       "      <td>0</td>\n",
       "    </tr>\n",
       "    <tr>\n",
       "      <th>3</th>\n",
       "      <td>699</td>\n",
       "      <td>39</td>\n",
       "      <td>1</td>\n",
       "      <td>0.00</td>\n",
       "      <td>2</td>\n",
       "      <td>0</td>\n",
       "      <td>0</td>\n",
       "      <td>93826.63</td>\n",
       "      <td>0</td>\n",
       "      <td>0</td>\n",
       "      <td>0</td>\n",
       "      <td>0</td>\n",
       "    </tr>\n",
       "    <tr>\n",
       "      <th>4</th>\n",
       "      <td>850</td>\n",
       "      <td>43</td>\n",
       "      <td>2</td>\n",
       "      <td>125510.82</td>\n",
       "      <td>1</td>\n",
       "      <td>1</td>\n",
       "      <td>1</td>\n",
       "      <td>79084.10</td>\n",
       "      <td>0</td>\n",
       "      <td>0</td>\n",
       "      <td>1</td>\n",
       "      <td>0</td>\n",
       "    </tr>\n",
       "    <tr>\n",
       "      <th>...</th>\n",
       "      <td>...</td>\n",
       "      <td>...</td>\n",
       "      <td>...</td>\n",
       "      <td>...</td>\n",
       "      <td>...</td>\n",
       "      <td>...</td>\n",
       "      <td>...</td>\n",
       "      <td>...</td>\n",
       "      <td>...</td>\n",
       "      <td>...</td>\n",
       "      <td>...</td>\n",
       "      <td>...</td>\n",
       "    </tr>\n",
       "    <tr>\n",
       "      <th>9995</th>\n",
       "      <td>771</td>\n",
       "      <td>39</td>\n",
       "      <td>5</td>\n",
       "      <td>0.00</td>\n",
       "      <td>2</td>\n",
       "      <td>1</td>\n",
       "      <td>0</td>\n",
       "      <td>96270.64</td>\n",
       "      <td>0</td>\n",
       "      <td>0</td>\n",
       "      <td>0</td>\n",
       "      <td>1</td>\n",
       "    </tr>\n",
       "    <tr>\n",
       "      <th>9996</th>\n",
       "      <td>516</td>\n",
       "      <td>35</td>\n",
       "      <td>10</td>\n",
       "      <td>57369.61</td>\n",
       "      <td>1</td>\n",
       "      <td>1</td>\n",
       "      <td>1</td>\n",
       "      <td>101699.77</td>\n",
       "      <td>0</td>\n",
       "      <td>0</td>\n",
       "      <td>0</td>\n",
       "      <td>1</td>\n",
       "    </tr>\n",
       "    <tr>\n",
       "      <th>9997</th>\n",
       "      <td>709</td>\n",
       "      <td>36</td>\n",
       "      <td>7</td>\n",
       "      <td>0.00</td>\n",
       "      <td>1</td>\n",
       "      <td>0</td>\n",
       "      <td>1</td>\n",
       "      <td>42085.58</td>\n",
       "      <td>1</td>\n",
       "      <td>0</td>\n",
       "      <td>0</td>\n",
       "      <td>0</td>\n",
       "    </tr>\n",
       "    <tr>\n",
       "      <th>9998</th>\n",
       "      <td>772</td>\n",
       "      <td>42</td>\n",
       "      <td>3</td>\n",
       "      <td>75075.31</td>\n",
       "      <td>2</td>\n",
       "      <td>1</td>\n",
       "      <td>0</td>\n",
       "      <td>92888.52</td>\n",
       "      <td>1</td>\n",
       "      <td>1</td>\n",
       "      <td>0</td>\n",
       "      <td>1</td>\n",
       "    </tr>\n",
       "    <tr>\n",
       "      <th>9999</th>\n",
       "      <td>792</td>\n",
       "      <td>28</td>\n",
       "      <td>777</td>\n",
       "      <td>130142.79</td>\n",
       "      <td>1</td>\n",
       "      <td>1</td>\n",
       "      <td>0</td>\n",
       "      <td>38190.78</td>\n",
       "      <td>0</td>\n",
       "      <td>0</td>\n",
       "      <td>0</td>\n",
       "      <td>0</td>\n",
       "    </tr>\n",
       "  </tbody>\n",
       "</table>\n",
       "<p>10000 rows × 12 columns</p>\n",
       "</div>"
      ],
      "text/plain": [
       "      CreditScore  Age  Tenure    Balance  NumOfProducts  HasCrCard  \\\n",
       "0             619   42       2       0.00              1          1   \n",
       "1             608   41       1   83807.86              1          0   \n",
       "2             502   42       8  159660.80              3          1   \n",
       "3             699   39       1       0.00              2          0   \n",
       "4             850   43       2  125510.82              1          1   \n",
       "...           ...  ...     ...        ...            ...        ...   \n",
       "9995          771   39       5       0.00              2          1   \n",
       "9996          516   35      10   57369.61              1          1   \n",
       "9997          709   36       7       0.00              1          0   \n",
       "9998          772   42       3   75075.31              2          1   \n",
       "9999          792   28     777  130142.79              1          1   \n",
       "\n",
       "      IsActiveMember  EstimatedSalary  Exited  Geography_Germany  \\\n",
       "0                  1        101348.88       1                  0   \n",
       "1                  1        112542.58       0                  0   \n",
       "2                  0        113931.57       1                  0   \n",
       "3                  0         93826.63       0                  0   \n",
       "4                  1         79084.10       0                  0   \n",
       "...              ...              ...     ...                ...   \n",
       "9995               0         96270.64       0                  0   \n",
       "9996               1        101699.77       0                  0   \n",
       "9997               1         42085.58       1                  0   \n",
       "9998               0         92888.52       1                  1   \n",
       "9999               0         38190.78       0                  0   \n",
       "\n",
       "      Geography_Spain  Gender_Male  \n",
       "0                   0            0  \n",
       "1                   1            0  \n",
       "2                   0            0  \n",
       "3                   0            0  \n",
       "4                   1            0  \n",
       "...               ...          ...  \n",
       "9995                0            1  \n",
       "9996                0            1  \n",
       "9997                0            0  \n",
       "9998                0            1  \n",
       "9999                0            0  \n",
       "\n",
       "[10000 rows x 12 columns]"
      ]
     },
     "execution_count": 15,
     "metadata": {},
     "output_type": "execute_result"
    }
   ],
   "source": [
    "data"
   ]
  },
  {
   "cell_type": "markdown",
   "metadata": {},
   "source": [
    "На данном этапе подготовили данные для работы с ними. \n",
    "- Удалили ненужные столбцы \n",
    "- Заполнили пропущенные значения \n",
    "- Привели данные к необходимым типам\n",
    "- Закодировали категориальные данные \n",
    "- Масштабировали численные данные\n",
    "- Разделили данные на обучающую, тестовую и валидационную выборки. "
   ]
  },
  {
   "cell_type": "markdown",
   "metadata": {},
   "source": [
    "## 3. Баланс классов\n",
    "<a id=\"balance\"></a>"
   ]
  },
  {
   "cell_type": "markdown",
   "metadata": {},
   "source": [
    "Проверим сбалансированы классы или нет. Посчитаем значение accuracy на валидационной выборке."
   ]
  },
  {
   "cell_type": "code",
   "execution_count": 16,
   "metadata": {},
   "outputs": [
    {
     "name": "stdout",
     "output_type": "stream",
     "text": [
      "0.7855\n"
     ]
    }
   ],
   "source": [
    "model = DecisionTreeClassifier(random_state=12345)\n",
    "model.fit(train_features, train_target)\n",
    "valid_predicted = model.predict(valid_features)\n",
    "valid_accuracy = accuracy_score(valid_target, valid_predicted)\n",
    "print(valid_accuracy)"
   ]
  },
  {
   "cell_type": "markdown",
   "metadata": {},
   "source": [
    "Чтобы оценить адекватность модели, проверим, как часто в целевом признаке встречается класс «1» или «0». Количество уникальных значений подсчитывается методом value_counts(). Он группирует строго одинаковые величины."
   ]
  },
  {
   "cell_type": "code",
   "execution_count": 17,
   "metadata": {},
   "outputs": [
    {
     "name": "stdout",
     "output_type": "stream",
     "text": [
      "0    0.7963\n",
      "1    0.2037\n",
      "Name: Exited, dtype: float64\n"
     ]
    },
    {
     "data": {
      "image/png": "[encoded data removed]",
      "text/plain": [
       "<Figure size 432x288 with 1 Axes>"
      ]
     },
     "metadata": {
      "needs_background": "light"
     },
     "output_type": "display_data"
    }
   ],
   "source": [
    "class_frequency = data['Exited'].value_counts(normalize=True)\n",
    "print(class_frequency)\n",
    "class_frequency.plot(kind='bar')\n",
    "plt.show()"
   ]
  },
  {
   "cell_type": "markdown",
   "metadata": {},
   "source": [
    "Узнаем из данных, что 20 % клиентов ушли из банка. Проанализируем частоты классов в результатах предсказаний решающего дерева."
   ]
  },
  {
   "cell_type": "code",
   "execution_count": 18,
   "metadata": {},
   "outputs": [
    {
     "name": "stdout",
     "output_type": "stream",
     "text": [
      "0    0.7925\n",
      "1    0.2075\n",
      "dtype: float64\n"
     ]
    },
    {
     "data": {
      "image/png": "[encoded data removed]",
      "text/plain": [
       "<Figure size 432x288 with 1 Axes>"
      ]
     },
     "metadata": {
      "needs_background": "light"
     },
     "output_type": "display_data"
    }
   ],
   "source": [
    "model = DecisionTreeClassifier(random_state=12345)\n",
    "model.fit(train_features, train_target)\n",
    "valid_predicted = pd.Series(model.predict(valid_features))\n",
    "class_frequency = valid_predicted.value_counts(normalize=True)\n",
    "print(class_frequency)\n",
    "class_frequency.plot(kind='bar')\n",
    "plt.show()"
   ]
  },
  {
   "cell_type": "markdown",
   "metadata": {},
   "source": [
    "Мало, что изменилось. Создадим константную модель: любому объекту она прогнозирует класс «0». Сохраним её предсказания в переменной target_pred_constant. Напечатаем на экране значение accuracy."
   ]
  },
  {
   "cell_type": "code",
   "execution_count": 19,
   "metadata": {},
   "outputs": [
    {
     "name": "stdout",
     "output_type": "stream",
     "text": [
      "0.7963\n"
     ]
    }
   ],
   "source": [
    "target_pred_constant = pd.Series ([0] * len(target)) \n",
    "print(accuracy_score(target, target_pred_constant)) "
   ]
  },
  {
   "cell_type": "markdown",
   "metadata": {},
   "source": [
    "Значение accuracy_score не поменялось. Классы несбалансированны, когда их соотношение далеко от 1:1. Баланс классов наблюдается, если их количество примерно равно."
   ]
  },
  {
   "cell_type": "markdown",
   "metadata": {},
   "source": [
    "Создадим модель RandomForestClassifier и обучим ее с учетом дисбаланса."
   ]
  },
  {
   "cell_type": "code",
   "execution_count": 20,
   "metadata": {},
   "outputs": [
    {
     "name": "stdout",
     "output_type": "stream",
     "text": [
      "auc_roc: 0.8388819494431977\n",
      "F1: 0.584070796460177\n"
     ]
    }
   ],
   "source": [
    "model = RandomForestClassifier(random_state=12345)\n",
    "model.fit(train_features, train_target)\n",
    "\n",
    "predicted_valid = model.predict(valid_features)\n",
    "probabilities_valid = model.predict_proba(valid_features)\n",
    "probabilities_one_valid = probabilities_valid[:, 1]\n",
    "\n",
    "auc_roc_rfc = roc_auc_score(valid_target, probabilities_one_valid)\n",
    "f1_rfc = f1_score(valid_target, predicted_valid)\n",
    "\n",
    "print(\"auc_roc:\", auc_roc_rfc)\n",
    "print(\"F1:\", f1_rfc)"
   ]
  },
  {
   "cell_type": "markdown",
   "metadata": {},
   "source": [
    "Создадим модель DecisionTreeClassifier и обучим ее с учетом дисбаланса."
   ]
  },
  {
   "cell_type": "code",
   "execution_count": 21,
   "metadata": {},
   "outputs": [
    {
     "name": "stdout",
     "output_type": "stream",
     "text": [
      "auc_roc: 0.6743069459650736\n",
      "F1: 0.4849939975990396\n"
     ]
    }
   ],
   "source": [
    "model = DecisionTreeClassifier(random_state=12345)\n",
    "model.fit(train_features, train_target)\n",
    "\n",
    "predicted_valid = model.predict(valid_features) \n",
    "probabilities_valid = model.predict_proba(valid_features)\n",
    "probabilities_one_valid = probabilities_valid[:, 1]\n",
    " \n",
    "auc_roc_dtc = roc_auc_score(valid_target, probabilities_one_valid)\n",
    "f1_dtc =  f1_score(valid_target, predicted_valid)\n",
    "\n",
    "print(\"auc_roc:\", auc_roc_dtc)\n",
    "print(\"F1:\", f1_dtc)"
   ]
  },
  {
   "cell_type": "markdown",
   "metadata": {},
   "source": [
    "Создадим модель LogisticRegression и обучим ее с учетом дисбаланса."
   ]
  },
  {
   "cell_type": "code",
   "execution_count": 22,
   "metadata": {},
   "outputs": [
    {
     "name": "stdout",
     "output_type": "stream",
     "text": [
      "auc_roc: 0.7576140673485807\n",
      "F1: 0.3276450511945393\n"
     ]
    }
   ],
   "source": [
    "model = LogisticRegression(random_state=12345)\n",
    "model.fit(train_features, train_target)\n",
    "\n",
    "predicted_valid = model.predict(valid_features)   \n",
    "probabilities_valid = model.predict_proba(valid_features)\n",
    "probabilities_one_valid = probabilities_valid[:, 1]\n",
    " \n",
    "auc_roc_lr = roc_auc_score(valid_target, probabilities_one_valid)\n",
    "f1_lr=  f1_score(valid_target, predicted_valid)\n",
    "\n",
    "print(\"auc_roc:\", auc_roc_lr)\n",
    "print(\"F1:\", f1_lr)"
   ]
  },
  {
   "cell_type": "markdown",
   "metadata": {},
   "source": [
    "Попробуем увеличить выборку модели случайного леса с помощью функции upsample, т.к данных в датафрейме немного. Улучшим модель и посчитаем метрики f1, auc_roc после балансирования данных."
   ]
  },
  {
   "cell_type": "code",
   "execution_count": 23,
   "metadata": {},
   "outputs": [],
   "source": [
    "def upsample(features, target, repeat):\n",
    "    features_zeros = features[target == 0]\n",
    "    features_ones = features[target == 1]\n",
    "    target_zeros = target[target == 0]\n",
    "    target_ones = target[target == 1]\n",
    "\n",
    "    features_upsampled = pd.concat([features_zeros] + [features_ones] * repeat)\n",
    "    target_upsampled = pd.concat([target_zeros] + [target_ones] * repeat)\n",
    "    \n",
    "    features_upsampled, target_upsampled = shuffle(\n",
    "        features_upsampled, target_upsampled, random_state=12345)\n",
    "    \n",
    "    return features_upsampled, target_upsampled\n",
    "\n",
    "features_upsampled, target_upsampled = upsample(train_features, train_target, 5)"
   ]
  },
  {
   "cell_type": "markdown",
   "metadata": {},
   "source": [
    "Увеличим выборку модели RandomForestClassifier с помощью функции upsample для борьбы с дисбалансом данных. Посчитаем метрики f1, auc_roc после балансирования данных."
   ]
  },
  {
   "cell_type": "code",
   "execution_count": 24,
   "metadata": {},
   "outputs": [
    {
     "name": "stdout",
     "output_type": "stream",
     "text": [
      "auc_roc: 0.8373568676316697\n",
      "F1: 0.5978552278820375\n"
     ]
    }
   ],
   "source": [
    "model = RandomForestClassifier(random_state=12345)\n",
    "model.fit(features_upsampled, target_upsampled)\n",
    "predicted_valid = model.predict(valid_features)\n",
    "\n",
    "    \n",
    "probabilities_valid = model.predict_proba(valid_features)\n",
    "probabilities_one_valid = probabilities_valid[:, 1]\n",
    " \n",
    "auc_roc_rfc_up = roc_auc_score(valid_target, probabilities_one_valid)\n",
    "f1_rfc_up = f1_score(valid_target, predicted_valid)\n",
    "print(\"auc_roc:\", auc_roc_rfc_up)\n",
    "print(\"F1:\", f1_rfc_up)"
   ]
  },
  {
   "cell_type": "markdown",
   "metadata": {},
   "source": [
    "Метрика немного улучшилась. Увеличим выборку модели DecisionTreeClassifier с помощью функции upsample для борьбы с дисбалансом данных. Посчитаем метрики f1, auc_roc после балансирования данных."
   ]
  },
  {
   "cell_type": "code",
   "execution_count": 25,
   "metadata": {},
   "outputs": [
    {
     "name": "stdout",
     "output_type": "stream",
     "text": [
      "auc_roc: 0.6784156691003455\n",
      "F1: 0.4926829268292684\n"
     ]
    }
   ],
   "source": [
    "model = DecisionTreeClassifier(random_state=12345)\n",
    "model.fit(features_upsampled, target_upsampled)\n",
    "predicted_valid = model.predict(valid_features)\n",
    "\n",
    "    \n",
    "probabilities_valid = model.predict_proba(valid_features)\n",
    "probabilities_one_valid = probabilities_valid[:, 1]\n",
    " \n",
    "auc_roc_dtc_up = roc_auc_score(valid_target, probabilities_one_valid)\n",
    "f1_dtc_up = f1_score(valid_target, predicted_valid)\n",
    "print(\"auc_roc:\", auc_roc_dtc_up)\n",
    "print(\"F1:\", f1_dtc_up)"
   ]
  },
  {
   "cell_type": "markdown",
   "metadata": {},
   "source": [
    "Метрика немного улучшилась. Увеличим выборку модели LogisticRegression с помощью функции upsample для борьбы с дисбалансом данных. Посчитаем метрики f1, auc_roc после балансирования данных."
   ]
  },
  {
   "cell_type": "code",
   "execution_count": 26,
   "metadata": {},
   "outputs": [
    {
     "name": "stdout",
     "output_type": "stream",
     "text": [
      "auc_roc: 0.7629401339229007\n",
      "F1: 0.4873949579831933\n"
     ]
    }
   ],
   "source": [
    "model = LogisticRegression(random_state=12345)\n",
    "model.fit(features_upsampled, target_upsampled)\n",
    "predicted_valid = model.predict(valid_features)\n",
    "\n",
    "    \n",
    "probabilities_valid = model.predict_proba(valid_features)\n",
    "probabilities_one_valid = probabilities_valid[:, 1]\n",
    " \n",
    "auc_roc_lr_up = roc_auc_score(valid_target, probabilities_one_valid)\n",
    "f1_lr_up = f1_score(valid_target, predicted_valid)\n",
    "print(\"auc_roc:\", auc_roc_lr_up)\n",
    "print(\"F1:\", f1_lr_up)"
   ]
  },
  {
   "cell_type": "markdown",
   "metadata": {},
   "source": [
    "Метрика значительно улучшилась. "
   ]
  },
  {
   "cell_type": "markdown",
   "metadata": {},
   "source": [
    "В результате анализа баланса классов выясняли, что \n",
    "\n",
    "- классы не сбалансированы\n",
    "- увеличили выборку для баланса \n",
    "- сбалансировали классы и увеличили метрику\n",
    "  "
   ]
  },
  {
   "cell_type": "markdown",
   "metadata": {},
   "source": [
    "## 4.Построение моделей \n",
    "<a id=\"models\"></a>"
   ]
  },
  {
   "cell_type": "markdown",
   "metadata": {},
   "source": [
    "Подберем параметры для моделей с помощью функции GridSearchCV. Построим модели с подобранными параметрами и сбалансированными классами."
   ]
  },
  {
   "cell_type": "markdown",
   "metadata": {},
   "source": [
    "Подберем параметры для модели RandomForestClassifier."
   ]
  },
  {
   "cell_type": "code",
   "execution_count": 27,
   "metadata": {},
   "outputs": [
    {
     "name": "stdout",
     "output_type": "stream",
     "text": [
      "{'class_weight': 'balanced', 'max_depth': 9, 'n_estimators': 41}\n",
      "0.6081117491308069\n"
     ]
    }
   ],
   "source": [
    "RFC = RandomForestClassifier(random_state=12345)\n",
    "parametrs = { 'n_estimators': range (1, 51, 10),\n",
    "              'max_depth': range (1,13, 2),'class_weight': ['balanced', None]}\n",
    "grid_rfc = GridSearchCV(RFC, parametrs, scoring = \"f1\", cv=5)\n",
    "grid_rfc.fit(train_features, train_target)\n",
    "print(grid_rfc.best_params_)\n",
    "print(grid_rfc.best_score_)\n"
   ]
  },
  {
   "cell_type": "markdown",
   "metadata": {},
   "source": [
    "Подберем параметры для модели DecisionTreeClassifier."
   ]
  },
  {
   "cell_type": "code",
   "execution_count": 28,
   "metadata": {},
   "outputs": [
    {
     "name": "stdout",
     "output_type": "stream",
     "text": [
      "{'class_weight': None, 'criterion': 'gini', 'max_depth': 7}\n",
      "0.5720590860490296\n"
     ]
    }
   ],
   "source": [
    "DTС = DecisionTreeClassifier(random_state=12345)\n",
    "parametrs = {'max_depth': range (1,15,2), 'criterion':['gini', 'entropy', 'log_loss'],'class_weight': ['balanced', None]}\n",
    "grid_dtc = GridSearchCV(DTС, parametrs,scoring = \"f1\", cv=5)\n",
    "grid_dtc.fit(train_features, train_target)\n",
    "print(grid_dtc.best_params_)\n",
    "print(grid_dtc.best_score_)"
   ]
  },
  {
   "cell_type": "markdown",
   "metadata": {},
   "source": [
    "Подберем параметры для модели LogisticRegression."
   ]
  },
  {
   "cell_type": "code",
   "execution_count": 29,
   "metadata": {},
   "outputs": [
    {
     "name": "stdout",
     "output_type": "stream",
     "text": [
      "{'C': 0.1, 'class_weight': 'balanced', 'solver': 'liblinear'}\n",
      "0.4957786467913565\n"
     ]
    }
   ],
   "source": [
    "LR = LogisticRegression(random_state=12345)\n",
    "parametrs = {'C': [0.1, 1, 10,100,1000],\n",
    "          'class_weight': ['balanced', None],\n",
    "    'solver': ['newton-cg', 'lbfgs', 'liblinear', 'sag', 'saga']}\n",
    "grid_lr = GridSearchCV(LR, parametrs, scoring = 'f1',  cv=5)\n",
    "grid_lr.fit(train_features, train_target)\n",
    "print(grid_lr.best_params_)\n",
    "print(grid_lr.best_score_)"
   ]
  },
  {
   "cell_type": "markdown",
   "metadata": {},
   "source": [
    "Построим модель RandomForestClassifier с подобранными параметрами."
   ]
  },
  {
   "cell_type": "code",
   "execution_count": 30,
   "metadata": {},
   "outputs": [
    {
     "name": "stdout",
     "output_type": "stream",
     "text": [
      "auc_roc: 0.8511241902019732\n",
      "F1: 0.6270833333333334\n"
     ]
    }
   ],
   "source": [
    "model = RandomForestClassifier(random_state=12345, **grid_rfc.best_params_)\n",
    "model.fit(features_upsampled, target_upsampled)\n",
    "\n",
    "predicted_valid = model.predict(valid_features)\n",
    "probabilities_valid = model.predict_proba(valid_features)\n",
    "probabilities_one_valid = probabilities_valid[:, 1]\n",
    " \n",
    "auc_roc_rfc_best = roc_auc_score(valid_target, probabilities_one_valid)\n",
    "f1_rfc_best = f1_score(valid_target, predicted_valid)\n",
    "\n",
    "print(\"auc_roc:\", auc_roc_rfc_best)\n",
    "print(\"F1:\", f1_rfc_best)"
   ]
  },
  {
   "cell_type": "markdown",
   "metadata": {},
   "source": [
    "Построим модель DecisionTreeClassifier с подобранными параметрами."
   ]
  },
  {
   "cell_type": "code",
   "execution_count": 31,
   "metadata": {},
   "outputs": [
    {
     "name": "stdout",
     "output_type": "stream",
     "text": [
      "auc_roc: 0.8007518796992483\n",
      "F1: 0.5333333333333333\n"
     ]
    }
   ],
   "source": [
    "model = DecisionTreeClassifier(random_state=12345, **grid_dtc.best_params_)\n",
    "model.fit(features_upsampled, target_upsampled)\n",
    "\n",
    "predicted_valid = model.predict(valid_features)  \n",
    "probabilities_valid = model.predict_proba(valid_features)\n",
    "probabilities_one_valid = probabilities_valid[:, 1]\n",
    " \n",
    "auc_roc_dtc_best = roc_auc_score(valid_target, probabilities_one_valid)\n",
    "f1_dtc_best = f1_score(valid_target, predicted_valid)\n",
    "\n",
    "print(\"auc_roc:\", auc_roc_dtc_best)\n",
    "print(\"F1:\", f1_dtc_best)"
   ]
  },
  {
   "cell_type": "markdown",
   "metadata": {},
   "source": [
    "Построим модель LogisticRegression с подобранными параметрами."
   ]
  },
  {
   "cell_type": "code",
   "execution_count": 32,
   "metadata": {},
   "outputs": [
    {
     "name": "stdout",
     "output_type": "stream",
     "text": [
      "auc_roc: 0.7630732099758648\n",
      "F1: 0.48835202761000857\n"
     ]
    }
   ],
   "source": [
    "model = LogisticRegression(random_state=12345, **grid_lr.best_params_)\n",
    "model.fit(features_upsampled, target_upsampled)\n",
    "predicted_valid = model.predict(valid_features)\n",
    "\n",
    "    \n",
    "probabilities_valid = model.predict_proba(valid_features)\n",
    "probabilities_one_valid = probabilities_valid[:, 1]\n",
    " \n",
    "auc_roc_lr_best = roc_auc_score(valid_target, probabilities_one_valid)\n",
    "f1_lr_best = f1_score(valid_target, predicted_valid)\n",
    "print(\"auc_roc:\", auc_roc_lr_best)\n",
    "print(\"F1:\", f1_lr_best)"
   ]
  },
  {
   "cell_type": "markdown",
   "metadata": {},
   "source": [
    "## Тестирование модели"
   ]
  },
  {
   "cell_type": "markdown",
   "metadata": {},
   "source": [
    "Протестируем лучшую модель RandomForestClassifier с самыми высокими показателями метрик F1, ROC AUC. Распечатаем значения метрики F1 и ROC AUC на тестовой модели."
   ]
  },
  {
   "cell_type": "code",
   "execution_count": 33,
   "metadata": {},
   "outputs": [
    {
     "name": "stdout",
     "output_type": "stream",
     "text": [
      "0.6074380165289257\n"
     ]
    }
   ],
   "source": [
    "model = RandomForestClassifier(random_state=12345, **grid_rfc.best_params_)\n",
    "model.fit(features_upsampled, target_upsampled)\n",
    "test_predicted = model.predict(test_features)\n",
    "print(f1_score(test_target, test_predicted))"
   ]
  },
  {
   "cell_type": "markdown",
   "metadata": {},
   "source": [
    "Удалось довести метрику до требуемого результата. \n",
    "Выведем значения метрики ROC AUC на тестовой модели."
   ]
  },
  {
   "cell_type": "code",
   "execution_count": 34,
   "metadata": {},
   "outputs": [
    {
     "name": "stdout",
     "output_type": "stream",
     "text": [
      "0.8532090287240788\n"
     ]
    }
   ],
   "source": [
    "probabilities_test = model.predict_proba(test_features)\n",
    "probabilities_one_test = probabilities_test[:, 1]\n",
    "auc_roc = roc_auc_score(test_target, probabilities_one_test)\n",
    "print(auc_roc)"
   ]
  },
  {
   "cell_type": "markdown",
   "metadata": {},
   "source": [
    "Неплохие значения. Построим ROC-кривую."
   ]
  },
  {
   "cell_type": "code",
   "execution_count": 35,
   "metadata": {},
   "outputs": [
    {
     "data": {
      "image/png": "[encoded data removed]",
      "text/plain": [
       "<Figure size 432x288 with 1 Axes>"
      ]
     },
     "metadata": {
      "needs_background": "light"
     },
     "output_type": "display_data"
    }
   ],
   "source": [
    "fpr, tpr, thresholds = roc_curve(test_target, probabilities_one_test) \n",
    "plt.figure()\n",
    "plt.plot(fpr, tpr)\n",
    "plt.xlim([0.0, 1.0])\n",
    "plt.ylim([0.0, 1.0])\n",
    "plt.xlabel('False Positive Rate')\n",
    "plt.ylabel('True Positive Rate')\n",
    "plt.title('ROC-кривая')\n",
    "plt.plot([0, 1], [0, 1], linestyle='-')\n",
    "plt.show()"
   ]
  },
  {
   "cell_type": "markdown",
   "metadata": {},
   "source": [
    "По графику видно, что наша модель значительно отличается от случайной. Рассмотрим какие факторы важны при моделировании."
   ]
  },
  {
   "cell_type": "code",
   "execution_count": 36,
   "metadata": {},
   "outputs": [
    {
     "data": {
      "text/plain": [
       "array([0.06214006, 0.34037515, 0.03351393, 0.10448622, 0.22226844,\n",
       "       0.01007211, 0.06619832, 0.06566595, 0.06089464, 0.00661972,\n",
       "       0.02776546])"
      ]
     },
     "execution_count": 36,
     "metadata": {},
     "output_type": "execute_result"
    }
   ],
   "source": [
    "model.feature_importances_"
   ]
  },
  {
   "cell_type": "markdown",
   "metadata": {},
   "source": [
    "Выведем график важности факторов."
   ]
  },
  {
   "cell_type": "code",
   "execution_count": 37,
   "metadata": {},
   "outputs": [
    {
     "data": {
      "image/png": "[encoded data removed]",
      "text/plain": [
       "<Figure size 432x288 with 1 Axes>"
      ]
     },
     "metadata": {
      "needs_background": "light"
     },
     "output_type": "display_data"
    }
   ],
   "source": [
    "feat_importances = pd.Series(model.feature_importances_, index=features.columns)\n",
    "feat_importances.nlargest(20).plot(kind='barh')\n",
    "plt.show()"
   ]
  },
  {
   "cell_type": "markdown",
   "metadata": {},
   "source": [
    "Среди самых важных признаков, оказывающих наибольшее влияние на целевую переменную: \n",
    "- возраст клиента\n",
    "- количество продуктов банка \n",
    "- баланс счета "
   ]
  },
  {
   "cell_type": "markdown",
   "metadata": {},
   "source": [
    "## 5. Вывод:\n",
    "<a id=\"conclusion\"></a>"
   ]
  },
  {
   "cell_type": "markdown",
   "metadata": {},
   "source": [
    "Соберем все метрики в итоговую таблицу и подведем результат."
   ]
  },
  {
   "cell_type": "code",
   "execution_count": 38,
   "metadata": {},
   "outputs": [
    {
     "data": {
      "text/html": [
       "<div>\n",
       "<style scoped>\n",
       "    .dataframe tbody tr th:only-of-type {\n",
       "        vertical-align: middle;\n",
       "    }\n",
       "\n",
       "    .dataframe tbody tr th {\n",
       "        vertical-align: top;\n",
       "    }\n",
       "\n",
       "    .dataframe thead th {\n",
       "        text-align: right;\n",
       "    }\n",
       "</style>\n",
       "<table border=\"1\" class=\"dataframe\">\n",
       "  <thead>\n",
       "    <tr style=\"text-align: right;\">\n",
       "      <th></th>\n",
       "      <th>Model</th>\n",
       "      <th>f1_no_balance</th>\n",
       "      <th>f1_balance</th>\n",
       "      <th>f1_best</th>\n",
       "      <th>auc_roc</th>\n",
       "    </tr>\n",
       "  </thead>\n",
       "  <tbody>\n",
       "    <tr>\n",
       "      <th>0</th>\n",
       "      <td>RandomForestClassifier</td>\n",
       "      <td>0.584071</td>\n",
       "      <td>0.597855</td>\n",
       "      <td>0.627083</td>\n",
       "      <td>0.851124</td>\n",
       "    </tr>\n",
       "    <tr>\n",
       "      <th>1</th>\n",
       "      <td>DecisionTreeClassifier</td>\n",
       "      <td>0.484994</td>\n",
       "      <td>0.492683</td>\n",
       "      <td>0.533333</td>\n",
       "      <td>0.800752</td>\n",
       "    </tr>\n",
       "    <tr>\n",
       "      <th>2</th>\n",
       "      <td>LogisticRegression</td>\n",
       "      <td>0.327645</td>\n",
       "      <td>0.487395</td>\n",
       "      <td>0.488352</td>\n",
       "      <td>0.763073</td>\n",
       "    </tr>\n",
       "  </tbody>\n",
       "</table>\n",
       "</div>"
      ],
      "text/plain": [
       "                    Model  f1_no_balance  f1_balance   f1_best   auc_roc\n",
       "0  RandomForestClassifier       0.584071    0.597855  0.627083  0.851124\n",
       "1  DecisionTreeClassifier       0.484994    0.492683  0.533333  0.800752\n",
       "2      LogisticRegression       0.327645    0.487395  0.488352  0.763073"
      ]
     },
     "execution_count": 38,
     "metadata": {},
     "output_type": "execute_result"
    }
   ],
   "source": [
    "results = {\n",
    "    'Model' : ['RandomForestClassifier','DecisionTreeClassifier','LogisticRegression'],\n",
    "    'f1_no_balance' :pd.Series([f1_rfc, f1_dtc, f1_lr]),\n",
    "'f1_balance' :pd.Series([f1_rfc_up,f1_dtc_up, f1_lr_up]),\n",
    "'f1_best' :pd.Series([f1_rfc_best,f1_dtc_best, f1_lr_best]),\n",
    "'auc_roc' :pd.Series([auc_roc_rfc_best,auc_roc_dtc_best, auc_roc_lr_best])}\n",
    "results = pd.DataFrame(data=results)\n",
    "results"
   ]
  },
  {
   "cell_type": "markdown",
   "metadata": {},
   "source": [
    "В результате проектной работы: \n",
    "- изучили и обработали данные;\n",
    "- выяснили, что классы несбалансированны;\n",
    "- сбалансировали данные (увеличение выборки, изменение значения порога, балансирование веса классов;\n",
    "- улучшили метрики F1 для всех моделей;\n",
    "- измерили метрики ROC AUC у моделей;\n",
    "- выявили, что наилучшая модель RandomForestClassifier (наивысшие показатели F1, ROC AUC);\n",
    "- протестировали модель RandomForestClassifier;\n",
    "- достигли F1-меры не менее 0.59;"
   ]
  }
 ],
 "metadata": {
  "ExecuteTimeLog": [
   {
    "duration": 173,
    "start_time": "2022-02-16T15:43:21.394Z"
   },
   {
    "duration": 533,
    "start_time": "2022-02-16T15:43:31.804Z"
   },
   {
    "duration": 37,
    "start_time": "2022-02-16T15:43:41.233Z"
   },
   {
    "duration": 9,
    "start_time": "2022-02-16T15:43:51.099Z"
   },
   {
    "duration": 17,
    "start_time": "2022-02-16T15:44:51.505Z"
   },
   {
    "duration": 319,
    "start_time": "2022-02-16T15:58:56.921Z"
   },
   {
    "duration": 841,
    "start_time": "2022-02-16T16:01:19.118Z"
   },
   {
    "duration": 3126,
    "start_time": "2022-02-16T16:08:52.073Z"
   },
   {
    "duration": 7,
    "start_time": "2022-02-16T16:09:02.635Z"
   },
   {
    "duration": 71,
    "start_time": "2022-02-24T10:51:52.712Z"
   },
   {
    "duration": 382,
    "start_time": "2022-02-24T10:52:05.391Z"
   },
   {
    "duration": -18,
    "start_time": "2022-02-24T10:52:05.792Z"
   },
   {
    "duration": 594,
    "start_time": "2022-02-24T10:52:08.610Z"
   },
   {
    "duration": 70,
    "start_time": "2022-02-24T10:52:22.462Z"
   },
   {
    "duration": 54,
    "start_time": "2022-02-24T10:54:28.130Z"
   },
   {
    "duration": 32,
    "start_time": "2022-02-24T10:55:18.041Z"
   },
   {
    "duration": 16,
    "start_time": "2022-02-24T10:55:31.339Z"
   },
   {
    "duration": 9,
    "start_time": "2022-02-24T11:02:17.049Z"
   },
   {
    "duration": 5970,
    "start_time": "2022-02-24T11:57:44.111Z"
   },
   {
    "duration": 6354,
    "start_time": "2022-02-24T11:57:57.328Z"
   },
   {
    "duration": 6153,
    "start_time": "2022-02-24T11:58:09.192Z"
   },
   {
    "duration": 8,
    "start_time": "2022-02-24T11:58:35.354Z"
   },
   {
    "duration": 249,
    "start_time": "2022-02-24T12:00:18.038Z"
   },
   {
    "duration": 19,
    "start_time": "2022-02-24T12:00:22.900Z"
   },
   {
    "duration": 90,
    "start_time": "2022-02-24T12:00:54.888Z"
   },
   {
    "duration": 18,
    "start_time": "2022-02-24T12:00:59.466Z"
   },
   {
    "duration": 85,
    "start_time": "2022-02-24T12:01:52.056Z"
   },
   {
    "duration": 4,
    "start_time": "2022-02-24T12:03:26.512Z"
   },
   {
    "duration": 7,
    "start_time": "2022-02-24T12:03:29.055Z"
   },
   {
    "duration": 3,
    "start_time": "2022-02-24T12:03:31.555Z"
   },
   {
    "duration": 6,
    "start_time": "2022-02-24T12:03:32.449Z"
   },
   {
    "duration": 22,
    "start_time": "2022-02-24T12:03:40.328Z"
   },
   {
    "duration": 10,
    "start_time": "2022-02-24T12:03:47.381Z"
   },
   {
    "duration": 67,
    "start_time": "2022-02-24T12:04:18.962Z"
   },
   {
    "duration": 217,
    "start_time": "2022-02-24T12:04:31.544Z"
   },
   {
    "duration": 4,
    "start_time": "2022-02-24T12:11:50.703Z"
   },
   {
    "duration": 78,
    "start_time": "2022-02-24T12:13:08.054Z"
   },
   {
    "duration": 254,
    "start_time": "2022-02-24T12:46:09.455Z"
   },
   {
    "duration": 243,
    "start_time": "2022-02-24T12:55:11.905Z"
   },
   {
    "duration": 540,
    "start_time": "2022-02-24T12:55:31.742Z"
   },
   {
    "duration": 272,
    "start_time": "2022-02-24T12:55:38.351Z"
   },
   {
    "duration": 2,
    "start_time": "2022-02-24T12:56:19.897Z"
   },
   {
    "duration": 329,
    "start_time": "2022-02-24T12:56:21.612Z"
   },
   {
    "duration": 89,
    "start_time": "2022-02-24T13:00:28.119Z"
   },
   {
    "duration": 69,
    "start_time": "2022-02-24T13:00:42.007Z"
   },
   {
    "duration": 190,
    "start_time": "2022-02-24T13:01:25.772Z"
   },
   {
    "duration": 72,
    "start_time": "2022-02-24T13:07:02.400Z"
   },
   {
    "duration": 700,
    "start_time": "2022-02-24T14:09:51.754Z"
   },
   {
    "duration": 12,
    "start_time": "2022-02-24T14:10:09.257Z"
   },
   {
    "duration": 487,
    "start_time": "2022-02-24T14:10:14.143Z"
   },
   {
    "duration": 5,
    "start_time": "2022-02-24T14:10:38.015Z"
   },
   {
    "duration": 441,
    "start_time": "2022-02-24T14:10:42.691Z"
   },
   {
    "duration": 249,
    "start_time": "2022-02-24T14:19:05.314Z"
   },
   {
    "duration": 4,
    "start_time": "2022-02-24T14:19:27.543Z"
   },
   {
    "duration": 88185,
    "start_time": "2022-02-24T14:21:00.588Z"
   },
   {
    "duration": 1468,
    "start_time": "2022-02-24T14:34:24.084Z"
   },
   {
    "duration": 67,
    "start_time": "2022-02-24T14:37:23.936Z"
   },
   {
    "duration": 150,
    "start_time": "2022-02-24T14:37:36.206Z"
   },
   {
    "duration": 85,
    "start_time": "2022-02-24T14:37:41.255Z"
   },
   {
    "duration": 76,
    "start_time": "2022-02-24T14:38:03.711Z"
   },
   {
    "duration": 74,
    "start_time": "2022-02-24T14:39:13.917Z"
   },
   {
    "duration": 84,
    "start_time": "2022-02-24T14:39:24.822Z"
   },
   {
    "duration": 89350,
    "start_time": "2022-02-24T14:40:50.352Z"
   },
   {
    "duration": 89005,
    "start_time": "2022-02-24T14:43:34.807Z"
   },
   {
    "duration": 220,
    "start_time": "2022-02-24T14:53:51.265Z"
   },
   {
    "duration": 447,
    "start_time": "2022-02-24T14:54:24.384Z"
   },
   {
    "duration": 266,
    "start_time": "2022-02-24T14:54:26.728Z"
   },
   {
    "duration": 4268,
    "start_time": "2022-02-24T14:56:00.022Z"
   },
   {
    "duration": 9581,
    "start_time": "2022-02-24T14:56:36.188Z"
   },
   {
    "duration": 89607,
    "start_time": "2022-02-24T14:57:57.825Z"
   },
   {
    "duration": 73554,
    "start_time": "2022-02-24T14:59:54.452Z"
   },
   {
    "duration": 72790,
    "start_time": "2022-02-24T15:02:48.348Z"
   },
   {
    "duration": 72985,
    "start_time": "2022-02-24T15:11:30.357Z"
   },
   {
    "duration": 235,
    "start_time": "2022-02-24T15:14:43.708Z"
   },
   {
    "duration": 246,
    "start_time": "2022-02-24T15:14:55.000Z"
   },
   {
    "duration": 236,
    "start_time": "2022-02-24T15:15:30.310Z"
   },
   {
    "duration": 1331,
    "start_time": "2022-02-24T15:15:40.638Z"
   },
   {
    "duration": 42,
    "start_time": "2022-02-24T15:15:41.971Z"
   },
   {
    "duration": 22,
    "start_time": "2022-02-24T15:15:42.015Z"
   },
   {
    "duration": 27,
    "start_time": "2022-02-24T15:15:42.039Z"
   },
   {
    "duration": 22,
    "start_time": "2022-02-24T15:15:42.068Z"
   },
   {
    "duration": 3,
    "start_time": "2022-02-24T15:15:42.092Z"
   },
   {
    "duration": 22,
    "start_time": "2022-02-24T15:15:42.098Z"
   },
   {
    "duration": 214,
    "start_time": "2022-02-24T15:15:42.123Z"
   },
   {
    "duration": 531,
    "start_time": "2022-02-24T15:15:42.340Z"
   },
   {
    "duration": 1470,
    "start_time": "2022-02-24T15:15:42.873Z"
   },
   {
    "duration": 353,
    "start_time": "2022-02-24T15:15:44.345Z"
   },
   {
    "duration": -48,
    "start_time": "2022-02-24T15:15:44.748Z"
   },
   {
    "duration": 239,
    "start_time": "2022-02-24T15:19:04.695Z"
   },
   {
    "duration": 220,
    "start_time": "2022-02-24T15:19:50.615Z"
   },
   {
    "duration": 2932,
    "start_time": "2022-02-24T15:20:08.812Z"
   },
   {
    "duration": 5,
    "start_time": "2022-02-24T15:21:07.442Z"
   },
   {
    "duration": 267,
    "start_time": "2022-02-24T15:21:12.837Z"
   },
   {
    "duration": 1287,
    "start_time": "2022-02-24T15:22:12.549Z"
   },
   {
    "duration": 30,
    "start_time": "2022-02-24T15:22:13.838Z"
   },
   {
    "duration": 19,
    "start_time": "2022-02-24T15:22:13.870Z"
   },
   {
    "duration": 9,
    "start_time": "2022-02-24T15:22:13.891Z"
   },
   {
    "duration": 19,
    "start_time": "2022-02-24T15:22:13.901Z"
   },
   {
    "duration": 3,
    "start_time": "2022-02-24T15:22:13.922Z"
   },
   {
    "duration": 45,
    "start_time": "2022-02-24T15:22:13.927Z"
   },
   {
    "duration": 194,
    "start_time": "2022-02-24T15:22:13.975Z"
   },
   {
    "duration": 527,
    "start_time": "2022-02-24T15:22:14.172Z"
   },
   {
    "duration": 1465,
    "start_time": "2022-02-24T15:22:14.701Z"
   },
   {
    "duration": 331,
    "start_time": "2022-02-24T15:22:16.169Z"
   },
   {
    "duration": -63,
    "start_time": "2022-02-24T15:22:16.565Z"
   },
   {
    "duration": 1468,
    "start_time": "2022-02-24T15:23:13.373Z"
   },
   {
    "duration": 254,
    "start_time": "2022-02-24T15:24:13.165Z"
   },
   {
    "duration": 220,
    "start_time": "2022-02-24T15:24:32.220Z"
   },
   {
    "duration": 70200,
    "start_time": "2022-02-24T15:26:09.077Z"
   },
   {
    "duration": 220227,
    "start_time": "2022-02-24T15:29:31.803Z"
   },
   {
    "duration": 228,
    "start_time": "2022-02-24T15:37:39.507Z"
   },
   {
    "duration": 258,
    "start_time": "2022-02-24T15:38:46.515Z"
   },
   {
    "duration": 225,
    "start_time": "2022-02-24T15:38:52.601Z"
   },
   {
    "duration": 226,
    "start_time": "2022-02-24T15:42:42.065Z"
   },
   {
    "duration": 284,
    "start_time": "2022-02-24T15:43:13.672Z"
   },
   {
    "duration": 240,
    "start_time": "2022-02-24T15:44:05.198Z"
   },
   {
    "duration": 20866,
    "start_time": "2022-02-24T15:49:27.094Z"
   },
   {
    "duration": 106085,
    "start_time": "2022-02-24T15:51:14.516Z"
   },
   {
    "duration": 242,
    "start_time": "2022-02-24T15:53:29.309Z"
   },
   {
    "duration": 5487,
    "start_time": "2022-02-24T15:54:07.381Z"
   },
   {
    "duration": 229,
    "start_time": "2022-02-24T15:54:48.504Z"
   },
   {
    "duration": 241,
    "start_time": "2022-02-24T15:55:05.469Z"
   },
   {
    "duration": 755,
    "start_time": "2022-02-24T21:33:18.875Z"
   },
   {
    "duration": 3937,
    "start_time": "2022-02-24T21:34:21.770Z"
   },
   {
    "duration": 496,
    "start_time": "2022-02-24T21:35:48.784Z"
   },
   {
    "duration": 352,
    "start_time": "2022-02-24T21:36:35.972Z"
   },
   {
    "duration": 2474,
    "start_time": "2022-02-24T21:36:39.744Z"
   },
   {
    "duration": 225,
    "start_time": "2022-02-25T12:06:08.376Z"
   },
   {
    "duration": 1152,
    "start_time": "2022-02-25T12:06:25.119Z"
   },
   {
    "duration": 48,
    "start_time": "2022-02-25T12:06:26.273Z"
   },
   {
    "duration": 21,
    "start_time": "2022-02-25T12:06:26.323Z"
   },
   {
    "duration": 11,
    "start_time": "2022-02-25T12:06:26.347Z"
   },
   {
    "duration": 19,
    "start_time": "2022-02-25T12:06:26.361Z"
   },
   {
    "duration": 33,
    "start_time": "2022-02-25T12:06:26.382Z"
   },
   {
    "duration": 10,
    "start_time": "2022-02-25T12:06:26.417Z"
   },
   {
    "duration": 187,
    "start_time": "2022-02-25T12:06:26.430Z"
   },
   {
    "duration": 487,
    "start_time": "2022-02-25T12:06:26.619Z"
   },
   {
    "duration": 254,
    "start_time": "2022-02-25T12:06:27.108Z"
   },
   {
    "duration": -704,
    "start_time": "2022-02-25T12:06:28.068Z"
   },
   {
    "duration": -705,
    "start_time": "2022-02-25T12:06:28.070Z"
   },
   {
    "duration": -706,
    "start_time": "2022-02-25T12:06:28.072Z"
   },
   {
    "duration": -707,
    "start_time": "2022-02-25T12:06:28.074Z"
   },
   {
    "duration": -707,
    "start_time": "2022-02-25T12:06:28.075Z"
   },
   {
    "duration": -709,
    "start_time": "2022-02-25T12:06:28.078Z"
   },
   {
    "duration": 1181,
    "start_time": "2022-02-25T13:09:14.689Z"
   },
   {
    "duration": 32,
    "start_time": "2022-02-25T13:09:15.872Z"
   },
   {
    "duration": 17,
    "start_time": "2022-02-25T13:09:15.908Z"
   },
   {
    "duration": 17,
    "start_time": "2022-02-25T13:09:15.927Z"
   },
   {
    "duration": 22,
    "start_time": "2022-02-25T13:09:15.945Z"
   },
   {
    "duration": 4,
    "start_time": "2022-02-25T13:09:15.969Z"
   },
   {
    "duration": 39,
    "start_time": "2022-02-25T13:09:15.975Z"
   },
   {
    "duration": 165,
    "start_time": "2022-02-25T13:09:16.016Z"
   },
   {
    "duration": 468,
    "start_time": "2022-02-25T13:09:16.182Z"
   },
   {
    "duration": 108897,
    "start_time": "2022-02-25T13:09:16.652Z"
   },
   {
    "duration": 5223,
    "start_time": "2022-02-25T13:11:05.551Z"
   },
   {
    "duration": 341,
    "start_time": "2022-02-25T13:11:10.776Z"
   },
   {
    "duration": -698,
    "start_time": "2022-02-25T13:11:11.817Z"
   },
   {
    "duration": -702,
    "start_time": "2022-02-25T13:11:11.822Z"
   },
   {
    "duration": -706,
    "start_time": "2022-02-25T13:11:11.827Z"
   },
   {
    "duration": 172,
    "start_time": "2022-02-25T13:17:43.120Z"
   },
   {
    "duration": 166,
    "start_time": "2022-02-25T13:19:30.848Z"
   },
   {
    "duration": -701,
    "start_time": "2022-02-25T13:19:31.717Z"
   },
   {
    "duration": 289,
    "start_time": "2022-02-28T09:05:20.700Z"
   },
   {
    "duration": 1185,
    "start_time": "2022-02-28T09:05:26.726Z"
   },
   {
    "duration": 23,
    "start_time": "2022-02-28T09:05:27.913Z"
   },
   {
    "duration": 16,
    "start_time": "2022-02-28T09:05:27.938Z"
   },
   {
    "duration": 8,
    "start_time": "2022-02-28T09:05:27.964Z"
   },
   {
    "duration": 24,
    "start_time": "2022-02-28T09:05:27.974Z"
   },
   {
    "duration": 4,
    "start_time": "2022-02-28T09:05:27.999Z"
   },
   {
    "duration": 13,
    "start_time": "2022-02-28T09:05:28.004Z"
   },
   {
    "duration": 169,
    "start_time": "2022-02-28T09:05:28.020Z"
   },
   {
    "duration": 471,
    "start_time": "2022-02-28T09:05:28.192Z"
   },
   {
    "duration": 111691,
    "start_time": "2022-02-28T09:05:28.665Z"
   },
   {
    "duration": 6394,
    "start_time": "2022-02-28T09:07:20.358Z"
   },
   {
    "duration": 298,
    "start_time": "2022-02-28T09:07:26.753Z"
   },
   {
    "duration": -347,
    "start_time": "2022-02-28T09:07:27.400Z"
   },
   {
    "duration": -350,
    "start_time": "2022-02-28T09:07:27.404Z"
   },
   {
    "duration": -351,
    "start_time": "2022-02-28T09:07:27.406Z"
   },
   {
    "duration": 113366,
    "start_time": "2022-02-28T09:20:04.796Z"
   },
   {
    "duration": 175,
    "start_time": "2022-02-28T09:21:58.164Z"
   },
   {
    "duration": 112132,
    "start_time": "2022-02-28T09:25:31.495Z"
   },
   {
    "duration": 5060,
    "start_time": "2022-02-28T09:27:23.629Z"
   },
   {
    "duration": 399,
    "start_time": "2022-02-28T09:30:32.599Z"
   },
   {
    "duration": 575,
    "start_time": "2022-02-28T09:31:37.583Z"
   },
   {
    "duration": 170,
    "start_time": "2022-02-28T09:32:33.616Z"
   },
   {
    "duration": 462,
    "start_time": "2022-02-28T09:33:34.402Z"
   },
   {
    "duration": 4065,
    "start_time": "2022-02-28T09:36:05.615Z"
   },
   {
    "duration": 2384,
    "start_time": "2022-02-28T09:36:09.682Z"
   },
   {
    "duration": 3736,
    "start_time": "2022-02-28T09:36:12.068Z"
   },
   {
    "duration": 331,
    "start_time": "2022-02-28T09:36:15.806Z"
   },
   {
    "duration": 79534,
    "start_time": "2022-02-28T09:53:16.800Z"
   },
   {
    "duration": 2145,
    "start_time": "2022-02-28T09:55:34.466Z"
   },
   {
    "duration": 80831,
    "start_time": "2022-02-28T09:55:39.058Z"
   },
   {
    "duration": 343,
    "start_time": "2022-02-28T09:56:59.892Z"
   },
   {
    "duration": 1181,
    "start_time": "2022-02-28T09:58:11.741Z"
   },
   {
    "duration": 30,
    "start_time": "2022-02-28T09:58:12.924Z"
   },
   {
    "duration": 22,
    "start_time": "2022-02-28T09:58:12.956Z"
   },
   {
    "duration": 8,
    "start_time": "2022-02-28T09:58:12.980Z"
   },
   {
    "duration": 18,
    "start_time": "2022-02-28T09:58:12.990Z"
   },
   {
    "duration": 3,
    "start_time": "2022-02-28T09:58:13.010Z"
   },
   {
    "duration": 20,
    "start_time": "2022-02-28T09:58:13.015Z"
   },
   {
    "duration": 178,
    "start_time": "2022-02-28T09:58:13.039Z"
   },
   {
    "duration": 482,
    "start_time": "2022-02-28T09:58:13.219Z"
   },
   {
    "duration": 113192,
    "start_time": "2022-02-28T09:58:13.703Z"
   },
   {
    "duration": 5329,
    "start_time": "2022-02-28T10:00:06.897Z"
   },
   {
    "duration": 444,
    "start_time": "2022-02-28T10:00:12.228Z"
   },
   {
    "duration": 80817,
    "start_time": "2022-02-28T10:00:12.765Z"
   },
   {
    "duration": 2239,
    "start_time": "2022-02-28T10:01:33.584Z"
   },
   {
    "duration": 78800,
    "start_time": "2022-02-28T10:01:35.825Z"
   },
   {
    "duration": 321,
    "start_time": "2022-02-28T10:02:54.626Z"
   },
   {
    "duration": 6099,
    "start_time": "2022-02-28T10:03:25.031Z"
   },
   {
    "duration": 2049,
    "start_time": "2022-02-28T11:19:55.916Z"
   },
   {
    "duration": 744,
    "start_time": "2022-02-28T11:23:08.821Z"
   },
   {
    "duration": 1712,
    "start_time": "2022-02-28T11:29:41.751Z"
   },
   {
    "duration": 309,
    "start_time": "2022-02-28T11:29:51.869Z"
   },
   {
    "duration": 1828,
    "start_time": "2022-02-28T11:32:01.938Z"
   },
   {
    "duration": 380,
    "start_time": "2022-02-28T11:32:15.885Z"
   },
   {
    "duration": 2319,
    "start_time": "2022-02-28T11:51:06.363Z"
   },
   {
    "duration": 80960,
    "start_time": "2022-02-28T11:51:22.367Z"
   },
   {
    "duration": 83572,
    "start_time": "2022-02-28T11:54:28.855Z"
   },
   {
    "duration": 437,
    "start_time": "2022-02-28T12:03:46.933Z"
   },
   {
    "duration": 457,
    "start_time": "2022-02-28T12:04:07.213Z"
   },
   {
    "duration": 400,
    "start_time": "2022-02-28T12:04:35.070Z"
   },
   {
    "duration": 402,
    "start_time": "2022-02-28T12:04:43.467Z"
   },
   {
    "duration": 1752,
    "start_time": "2022-02-28T12:13:20.318Z"
   },
   {
    "duration": 2044,
    "start_time": "2022-02-28T12:14:38.821Z"
   },
   {
    "duration": 2147,
    "start_time": "2022-02-28T12:15:04.024Z"
   },
   {
    "duration": 78655,
    "start_time": "2022-02-28T12:15:17.974Z"
   },
   {
    "duration": 96799,
    "start_time": "2022-02-28T13:57:29.697Z"
   },
   {
    "duration": 83654,
    "start_time": "2022-02-28T14:00:10.194Z"
   },
   {
    "duration": 2245,
    "start_time": "2022-02-28T14:02:00.719Z"
   },
   {
    "duration": 1959,
    "start_time": "2022-02-28T14:03:08.905Z"
   },
   {
    "duration": 2115,
    "start_time": "2022-02-28T14:03:35.149Z"
   },
   {
    "duration": 2074,
    "start_time": "2022-02-28T14:04:50.189Z"
   },
   {
    "duration": 1990,
    "start_time": "2022-02-28T14:05:06.874Z"
   },
   {
    "duration": 2030,
    "start_time": "2022-02-28T14:05:33.438Z"
   },
   {
    "duration": 2020,
    "start_time": "2022-02-28T14:06:12.844Z"
   },
   {
    "duration": 2072,
    "start_time": "2022-02-28T14:06:28.093Z"
   },
   {
    "duration": 1988,
    "start_time": "2022-02-28T14:06:42.880Z"
   },
   {
    "duration": 2134,
    "start_time": "2022-02-28T14:06:50.730Z"
   },
   {
    "duration": 1989,
    "start_time": "2022-02-28T14:07:01.076Z"
   },
   {
    "duration": 2025,
    "start_time": "2022-02-28T14:07:11.044Z"
   },
   {
    "duration": 2012,
    "start_time": "2022-02-28T14:07:20.654Z"
   },
   {
    "duration": 2045,
    "start_time": "2022-02-28T14:07:28.624Z"
   },
   {
    "duration": 2526,
    "start_time": "2022-02-28T14:07:37.938Z"
   },
   {
    "duration": 2059,
    "start_time": "2022-02-28T14:07:48.007Z"
   },
   {
    "duration": 2050,
    "start_time": "2022-02-28T14:07:56.822Z"
   },
   {
    "duration": 2053,
    "start_time": "2022-02-28T14:08:04.213Z"
   },
   {
    "duration": 2016,
    "start_time": "2022-02-28T14:08:18.052Z"
   },
   {
    "duration": 2021,
    "start_time": "2022-02-28T14:08:29.448Z"
   },
   {
    "duration": 1935,
    "start_time": "2022-02-28T14:08:36.344Z"
   },
   {
    "duration": 2047,
    "start_time": "2022-02-28T14:08:48.416Z"
   },
   {
    "duration": 2026,
    "start_time": "2022-02-28T14:08:58.038Z"
   },
   {
    "duration": 2049,
    "start_time": "2022-02-28T14:09:10.917Z"
   },
   {
    "duration": 2182,
    "start_time": "2022-02-28T14:09:32.552Z"
   },
   {
    "duration": 2093,
    "start_time": "2022-02-28T14:09:48.292Z"
   },
   {
    "duration": 2102,
    "start_time": "2022-02-28T14:09:57.875Z"
   },
   {
    "duration": 2507,
    "start_time": "2022-02-28T14:10:12.575Z"
   },
   {
    "duration": 2187,
    "start_time": "2022-02-28T14:10:21.160Z"
   },
   {
    "duration": 2221,
    "start_time": "2022-02-28T14:10:31.393Z"
   },
   {
    "duration": 2237,
    "start_time": "2022-02-28T14:11:20.526Z"
   },
   {
    "duration": 5757,
    "start_time": "2022-02-28T14:18:26.782Z"
   },
   {
    "duration": 6385,
    "start_time": "2022-02-28T14:18:41.019Z"
   },
   {
    "duration": 5671,
    "start_time": "2022-02-28T14:18:53.992Z"
   },
   {
    "duration": 5101,
    "start_time": "2022-02-28T14:19:15.472Z"
   },
   {
    "duration": 467,
    "start_time": "2022-02-28T14:19:29.949Z"
   },
   {
    "duration": 5125,
    "start_time": "2022-02-28T14:19:37.172Z"
   },
   {
    "duration": 5103,
    "start_time": "2022-02-28T14:20:03.241Z"
   },
   {
    "duration": 5561,
    "start_time": "2022-02-28T14:20:21.731Z"
   },
   {
    "duration": 5663,
    "start_time": "2022-02-28T14:20:37.633Z"
   },
   {
    "duration": 5723,
    "start_time": "2022-02-28T14:21:01.822Z"
   },
   {
    "duration": 5502,
    "start_time": "2022-02-28T14:21:21.182Z"
   },
   {
    "duration": 2279,
    "start_time": "2022-02-28T14:21:53.706Z"
   },
   {
    "duration": 2682,
    "start_time": "2022-02-28T14:22:46.971Z"
   },
   {
    "duration": 2184,
    "start_time": "2022-02-28T14:23:02.352Z"
   },
   {
    "duration": 5338,
    "start_time": "2022-02-28T14:23:17.935Z"
   },
   {
    "duration": 131,
    "start_time": "2022-02-28T14:53:26.296Z"
   },
   {
    "duration": 1640,
    "start_time": "2022-02-28T14:54:29.424Z"
   },
   {
    "duration": 155,
    "start_time": "2022-02-28T14:55:37.512Z"
   },
   {
    "duration": 5,
    "start_time": "2022-02-28T14:55:58.248Z"
   },
   {
    "duration": 8,
    "start_time": "2022-02-28T14:56:11.016Z"
   },
   {
    "duration": 474,
    "start_time": "2022-02-28T15:00:08.818Z"
   },
   {
    "duration": 258,
    "start_time": "2022-02-28T15:09:00.581Z"
   },
   {
    "duration": 1087,
    "start_time": "2022-02-28T15:09:06.022Z"
   },
   {
    "duration": 24,
    "start_time": "2022-02-28T15:09:07.111Z"
   },
   {
    "duration": 17,
    "start_time": "2022-02-28T15:09:07.137Z"
   },
   {
    "duration": 9,
    "start_time": "2022-02-28T15:09:07.163Z"
   },
   {
    "duration": 16,
    "start_time": "2022-02-28T15:09:07.174Z"
   },
   {
    "duration": 3,
    "start_time": "2022-02-28T15:09:07.191Z"
   },
   {
    "duration": 11,
    "start_time": "2022-02-28T15:09:07.196Z"
   },
   {
    "duration": 272,
    "start_time": "2022-02-28T15:09:07.208Z"
   },
   {
    "duration": 275,
    "start_time": "2022-02-28T15:09:07.207Z"
   },
   {
    "duration": 274,
    "start_time": "2022-02-28T15:09:07.209Z"
   },
   {
    "duration": 273,
    "start_time": "2022-02-28T15:09:07.211Z"
   },
   {
    "duration": 273,
    "start_time": "2022-02-28T15:09:07.212Z"
   },
   {
    "duration": 272,
    "start_time": "2022-02-28T15:09:07.214Z"
   },
   {
    "duration": 272,
    "start_time": "2022-02-28T15:09:07.215Z"
   },
   {
    "duration": 272,
    "start_time": "2022-02-28T15:09:07.216Z"
   },
   {
    "duration": 268,
    "start_time": "2022-02-28T15:09:07.221Z"
   },
   {
    "duration": 267,
    "start_time": "2022-02-28T15:09:07.223Z"
   },
   {
    "duration": 267,
    "start_time": "2022-02-28T15:09:07.224Z"
   },
   {
    "duration": 266,
    "start_time": "2022-02-28T15:09:07.226Z"
   },
   {
    "duration": 265,
    "start_time": "2022-02-28T15:09:07.228Z"
   },
   {
    "duration": 265,
    "start_time": "2022-02-28T15:09:07.229Z"
   },
   {
    "duration": 187,
    "start_time": "2022-02-28T15:11:28.853Z"
   },
   {
    "duration": 225,
    "start_time": "2022-02-28T15:39:17.609Z"
   },
   {
    "duration": 201,
    "start_time": "2022-02-28T15:39:26.171Z"
   },
   {
    "duration": 260,
    "start_time": "2022-02-28T15:39:36.718Z"
   },
   {
    "duration": 193,
    "start_time": "2022-02-28T15:42:39.443Z"
   },
   {
    "duration": 208,
    "start_time": "2022-02-28T15:49:16.863Z"
   },
   {
    "duration": 479,
    "start_time": "2022-02-28T15:51:25.364Z"
   },
   {
    "duration": 140,
    "start_time": "2022-02-28T15:51:27.911Z"
   },
   {
    "duration": 304,
    "start_time": "2022-02-28T15:51:31.517Z"
   },
   {
    "duration": 8,
    "start_time": "2022-02-28T15:51:37.544Z"
   },
   {
    "duration": 304,
    "start_time": "2022-02-28T15:52:05.123Z"
   },
   {
    "duration": 139,
    "start_time": "2022-02-28T15:52:38.868Z"
   },
   {
    "duration": 287,
    "start_time": "2022-02-28T15:52:41.821Z"
   },
   {
    "duration": 8,
    "start_time": "2022-02-28T15:52:46.190Z"
   },
   {
    "duration": 428,
    "start_time": "2022-02-28T15:53:02.047Z"
   },
   {
    "duration": 286,
    "start_time": "2022-02-28T15:53:04.409Z"
   },
   {
    "duration": 433,
    "start_time": "2022-02-28T15:57:00.095Z"
   },
   {
    "duration": 386,
    "start_time": "2022-02-28T15:57:02.648Z"
   },
   {
    "duration": 23,
    "start_time": "2022-02-28T15:58:28.409Z"
   },
   {
    "duration": 440,
    "start_time": "2022-02-28T15:59:06.175Z"
   },
   {
    "duration": 308,
    "start_time": "2022-02-28T15:59:07.786Z"
   },
   {
    "duration": 426,
    "start_time": "2022-02-28T15:59:12.718Z"
   },
   {
    "duration": 26,
    "start_time": "2022-02-28T15:59:48.953Z"
   },
   {
    "duration": 164,
    "start_time": "2022-02-28T16:00:01.759Z"
   },
   {
    "duration": 456,
    "start_time": "2022-02-28T16:00:40.513Z"
   },
   {
    "duration": 595,
    "start_time": "2022-02-28T16:00:44.353Z"
   },
   {
    "duration": 433,
    "start_time": "2022-02-28T16:11:01.767Z"
   },
   {
    "duration": 386,
    "start_time": "2022-02-28T16:11:08.284Z"
   },
   {
    "duration": 657,
    "start_time": "2022-03-03T10:59:53.445Z"
   },
   {
    "duration": 281,
    "start_time": "2022-03-03T11:05:09.695Z"
   },
   {
    "duration": 496,
    "start_time": "2022-03-03T11:05:17.781Z"
   },
   {
    "duration": 31,
    "start_time": "2022-03-03T11:05:18.772Z"
   },
   {
    "duration": 160,
    "start_time": "2022-03-03T11:05:25.301Z"
   },
   {
    "duration": 254,
    "start_time": "2022-03-03T11:05:30.479Z"
   },
   {
    "duration": 7,
    "start_time": "2022-03-03T11:07:20.764Z"
   },
   {
    "duration": 166,
    "start_time": "2022-03-03T11:07:22.715Z"
   },
   {
    "duration": 1183,
    "start_time": "2022-03-03T11:11:06.149Z"
   },
   {
    "duration": 32,
    "start_time": "2022-03-03T11:11:07.334Z"
   },
   {
    "duration": 22,
    "start_time": "2022-03-03T11:11:07.369Z"
   },
   {
    "duration": 10,
    "start_time": "2022-03-03T11:11:07.393Z"
   },
   {
    "duration": 20,
    "start_time": "2022-03-03T11:11:07.405Z"
   },
   {
    "duration": 4,
    "start_time": "2022-03-03T11:11:07.427Z"
   },
   {
    "duration": 51,
    "start_time": "2022-03-03T11:11:07.432Z"
   },
   {
    "duration": 196,
    "start_time": "2022-03-03T11:11:07.486Z"
   },
   {
    "duration": 313,
    "start_time": "2022-03-03T11:11:07.684Z"
   },
   {
    "duration": -1009,
    "start_time": "2022-03-03T11:11:09.008Z"
   },
   {
    "duration": -1013,
    "start_time": "2022-03-03T11:11:09.013Z"
   },
   {
    "duration": -1014,
    "start_time": "2022-03-03T11:11:09.015Z"
   },
   {
    "duration": -1018,
    "start_time": "2022-03-03T11:11:09.020Z"
   },
   {
    "duration": -1019,
    "start_time": "2022-03-03T11:11:09.022Z"
   },
   {
    "duration": -1021,
    "start_time": "2022-03-03T11:11:09.025Z"
   },
   {
    "duration": -1022,
    "start_time": "2022-03-03T11:11:09.027Z"
   },
   {
    "duration": -1023,
    "start_time": "2022-03-03T11:11:09.029Z"
   },
   {
    "duration": -1023,
    "start_time": "2022-03-03T11:11:09.030Z"
   },
   {
    "duration": -1023,
    "start_time": "2022-03-03T11:11:09.032Z"
   },
   {
    "duration": 1283,
    "start_time": "2022-03-03T11:11:55.878Z"
   },
   {
    "duration": 41,
    "start_time": "2022-03-03T11:11:57.163Z"
   },
   {
    "duration": 19,
    "start_time": "2022-03-03T11:11:57.207Z"
   },
   {
    "duration": 11,
    "start_time": "2022-03-03T11:11:57.228Z"
   },
   {
    "duration": 37,
    "start_time": "2022-03-03T11:11:57.241Z"
   },
   {
    "duration": 3,
    "start_time": "2022-03-03T11:11:57.280Z"
   },
   {
    "duration": 12,
    "start_time": "2022-03-03T11:11:57.285Z"
   },
   {
    "duration": 198,
    "start_time": "2022-03-03T11:11:57.299Z"
   },
   {
    "duration": 485,
    "start_time": "2022-03-03T11:11:57.499Z"
   },
   {
    "duration": 7,
    "start_time": "2022-03-03T11:11:57.986Z"
   },
   {
    "duration": 455,
    "start_time": "2022-03-03T11:11:57.994Z"
   },
   {
    "duration": 102904,
    "start_time": "2022-03-03T11:11:58.451Z"
   },
   {
    "duration": 5318,
    "start_time": "2022-03-03T11:13:41.356Z"
   },
   {
    "duration": 424,
    "start_time": "2022-03-03T11:13:46.677Z"
   },
   {
    "duration": 73345,
    "start_time": "2022-03-03T11:13:47.103Z"
   },
   {
    "duration": 2270,
    "start_time": "2022-03-03T11:15:00.450Z"
   },
   {
    "duration": 2155,
    "start_time": "2022-03-03T11:15:02.722Z"
   },
   {
    "duration": 5981,
    "start_time": "2022-03-03T11:15:04.879Z"
   },
   {
    "duration": 326,
    "start_time": "2022-03-03T11:15:10.862Z"
   },
   {
    "duration": 390,
    "start_time": "2022-03-03T11:15:11.190Z"
   },
   {
    "duration": 876,
    "start_time": "2022-03-03T11:15:11.584Z"
   },
   {
    "duration": 9,
    "start_time": "2022-03-03T11:16:00.774Z"
   },
   {
    "duration": 728,
    "start_time": "2022-03-03T11:16:39.782Z"
   },
   {
    "duration": 1190,
    "start_time": "2022-03-03T11:21:01.883Z"
   },
   {
    "duration": 32,
    "start_time": "2022-03-03T11:21:03.075Z"
   },
   {
    "duration": 19,
    "start_time": "2022-03-03T11:21:03.109Z"
   },
   {
    "duration": 10,
    "start_time": "2022-03-03T11:21:03.131Z"
   },
   {
    "duration": 42,
    "start_time": "2022-03-03T11:21:03.143Z"
   },
   {
    "duration": 4,
    "start_time": "2022-03-03T11:21:03.187Z"
   },
   {
    "duration": 14,
    "start_time": "2022-03-03T11:21:03.193Z"
   },
   {
    "duration": 188,
    "start_time": "2022-03-03T11:21:03.211Z"
   },
   {
    "duration": 2097,
    "start_time": "2022-03-03T11:21:03.402Z"
   },
   {
    "duration": 8,
    "start_time": "2022-03-03T11:21:05.500Z"
   },
   {
    "duration": 478,
    "start_time": "2022-03-03T11:21:05.510Z"
   },
   {
    "duration": 100597,
    "start_time": "2022-03-03T11:21:05.989Z"
   },
   {
    "duration": 5105,
    "start_time": "2022-03-03T11:22:46.587Z"
   },
   {
    "duration": 486,
    "start_time": "2022-03-03T11:22:51.694Z"
   },
   {
    "duration": 72165,
    "start_time": "2022-03-03T11:22:52.183Z"
   },
   {
    "duration": 2198,
    "start_time": "2022-03-03T11:24:04.350Z"
   },
   {
    "duration": 2029,
    "start_time": "2022-03-03T11:24:06.550Z"
   },
   {
    "duration": 5906,
    "start_time": "2022-03-03T11:24:08.582Z"
   },
   {
    "duration": 319,
    "start_time": "2022-03-03T11:24:14.490Z"
   },
   {
    "duration": 368,
    "start_time": "2022-03-03T11:24:14.811Z"
   },
   {
    "duration": 96,
    "start_time": "2022-03-03T11:24:15.182Z"
   },
   {
    "duration": 68,
    "start_time": "2022-03-03T11:26:08.970Z"
   },
   {
    "duration": 74,
    "start_time": "2022-03-03T11:30:15.117Z"
   },
   {
    "duration": 206,
    "start_time": "2022-03-03T11:30:24.596Z"
   },
   {
    "duration": 76,
    "start_time": "2022-03-03T11:31:19.950Z"
   },
   {
    "duration": 43,
    "start_time": "2022-03-03T11:31:43.726Z"
   },
   {
    "duration": 165,
    "start_time": "2022-03-03T11:31:58.927Z"
   },
   {
    "duration": 110,
    "start_time": "2022-03-03T11:32:41.688Z"
   },
   {
    "duration": 25,
    "start_time": "2022-03-03T11:35:18.627Z"
   },
   {
    "duration": 1491,
    "start_time": "2022-03-03T11:42:56.902Z"
   },
   {
    "duration": 77,
    "start_time": "2022-03-03T11:45:27.105Z"
   },
   {
    "duration": 78,
    "start_time": "2022-03-03T11:45:54.759Z"
   },
   {
    "duration": 73,
    "start_time": "2022-03-03T11:49:29.029Z"
   },
   {
    "duration": 66,
    "start_time": "2022-03-03T11:53:10.915Z"
   },
   {
    "duration": 69,
    "start_time": "2022-03-03T11:55:35.828Z"
   },
   {
    "duration": 332,
    "start_time": "2022-03-03T12:02:30.494Z"
   },
   {
    "duration": 216,
    "start_time": "2022-03-03T12:08:59.400Z"
   },
   {
    "duration": 223,
    "start_time": "2022-03-03T12:09:06.316Z"
   },
   {
    "duration": 215,
    "start_time": "2022-03-03T12:09:17.143Z"
   },
   {
    "duration": 224,
    "start_time": "2022-03-03T12:15:23.345Z"
   },
   {
    "duration": 219,
    "start_time": "2022-03-03T12:15:34.999Z"
   },
   {
    "duration": 226,
    "start_time": "2022-03-03T12:16:33.672Z"
   },
   {
    "duration": 209,
    "start_time": "2022-03-03T12:17:54.258Z"
   },
   {
    "duration": 67,
    "start_time": "2022-03-03T12:19:26.055Z"
   },
   {
    "duration": 237,
    "start_time": "2022-03-03T12:19:35.650Z"
   },
   {
    "duration": 259,
    "start_time": "2022-03-03T12:19:51.401Z"
   },
   {
    "duration": 269,
    "start_time": "2022-03-03T12:20:00.789Z"
   },
   {
    "duration": 78,
    "start_time": "2022-03-03T12:20:34.733Z"
   },
   {
    "duration": 349,
    "start_time": "2022-03-03T12:20:36.612Z"
   },
   {
    "duration": 303,
    "start_time": "2022-03-03T12:20:50.281Z"
   },
   {
    "duration": 84,
    "start_time": "2022-03-03T12:21:02.650Z"
   },
   {
    "duration": 66,
    "start_time": "2022-03-03T12:21:10.915Z"
   },
   {
    "duration": 72,
    "start_time": "2022-03-03T12:24:47.355Z"
   },
   {
    "duration": 228,
    "start_time": "2022-03-03T12:27:16.540Z"
   },
   {
    "duration": 4,
    "start_time": "2022-03-03T12:27:34.358Z"
   },
   {
    "duration": 265,
    "start_time": "2022-03-03T12:29:00.767Z"
   },
   {
    "duration": 379,
    "start_time": "2022-03-03T12:29:15.943Z"
   },
   {
    "duration": 333,
    "start_time": "2022-03-03T12:29:26.299Z"
   },
   {
    "duration": 70,
    "start_time": "2022-03-03T12:29:35.848Z"
   },
   {
    "duration": 347,
    "start_time": "2022-03-03T12:29:40.958Z"
   },
   {
    "duration": 86,
    "start_time": "2022-03-03T12:29:56.097Z"
   },
   {
    "duration": 220,
    "start_time": "2022-03-03T12:30:14.081Z"
   },
   {
    "duration": 228,
    "start_time": "2022-03-03T12:30:39.610Z"
   },
   {
    "duration": 216,
    "start_time": "2022-03-03T12:30:54.721Z"
   },
   {
    "duration": 345,
    "start_time": "2022-03-03T12:30:58.800Z"
   },
   {
    "duration": 69,
    "start_time": "2022-03-03T12:31:19.557Z"
   },
   {
    "duration": 5032,
    "start_time": "2022-03-03T12:31:28.242Z"
   },
   {
    "duration": 227,
    "start_time": "2022-03-03T13:28:17.944Z"
   },
   {
    "duration": 70,
    "start_time": "2022-03-03T13:29:57.624Z"
   },
   {
    "duration": 234,
    "start_time": "2022-03-03T13:30:05.434Z"
   },
   {
    "duration": 81,
    "start_time": "2022-03-03T13:30:16.280Z"
   },
   {
    "duration": 76,
    "start_time": "2022-03-03T13:30:19.969Z"
   },
   {
    "duration": 71,
    "start_time": "2022-03-03T13:32:16.563Z"
   },
   {
    "duration": 83,
    "start_time": "2022-03-03T13:32:40.059Z"
   },
   {
    "duration": 4,
    "start_time": "2022-03-03T13:33:51.040Z"
   },
   {
    "duration": 279,
    "start_time": "2022-03-03T13:35:02.819Z"
   },
   {
    "duration": 1537,
    "start_time": "2022-03-03T13:36:02.741Z"
   },
   {
    "duration": 1397,
    "start_time": "2022-03-03T13:36:07.429Z"
   },
   {
    "duration": 7303,
    "start_time": "2022-03-03T13:36:18.480Z"
   },
   {
    "duration": 398,
    "start_time": "2022-03-03T13:41:24.773Z"
   },
   {
    "duration": 1091,
    "start_time": "2022-03-03T13:41:36.848Z"
   },
   {
    "duration": 62,
    "start_time": "2022-03-03T13:41:42.248Z"
   },
   {
    "duration": 510,
    "start_time": "2022-03-03T13:41:46.695Z"
   },
   {
    "duration": 85,
    "start_time": "2022-03-03T13:41:50.388Z"
   },
   {
    "duration": 66,
    "start_time": "2022-03-03T13:43:21.864Z"
   },
   {
    "duration": 70,
    "start_time": "2022-03-03T13:43:30.303Z"
   },
   {
    "duration": 73,
    "start_time": "2022-03-03T13:43:36.253Z"
   },
   {
    "duration": 4352,
    "start_time": "2022-03-03T13:44:05.524Z"
   },
   {
    "duration": 354,
    "start_time": "2022-03-03T13:44:43.517Z"
   },
   {
    "duration": 263,
    "start_time": "2022-03-03T13:44:58.530Z"
   },
   {
    "duration": 361,
    "start_time": "2022-03-03T13:45:08.181Z"
   },
   {
    "duration": 97,
    "start_time": "2022-03-03T13:45:22.508Z"
   },
   {
    "duration": 68,
    "start_time": "2022-03-03T13:45:26.578Z"
   },
   {
    "duration": 78,
    "start_time": "2022-03-03T13:45:32.707Z"
   },
   {
    "duration": 69,
    "start_time": "2022-03-03T13:45:38.396Z"
   },
   {
    "duration": 335,
    "start_time": "2022-03-03T13:45:44.068Z"
   },
   {
    "duration": 1147,
    "start_time": "2022-03-03T13:51:25.188Z"
   },
   {
    "duration": 30,
    "start_time": "2022-03-03T13:51:26.337Z"
   },
   {
    "duration": 18,
    "start_time": "2022-03-03T13:51:26.369Z"
   },
   {
    "duration": 11,
    "start_time": "2022-03-03T13:51:26.389Z"
   },
   {
    "duration": 19,
    "start_time": "2022-03-03T13:51:26.402Z"
   },
   {
    "duration": 3,
    "start_time": "2022-03-03T13:51:26.423Z"
   },
   {
    "duration": 14,
    "start_time": "2022-03-03T13:51:26.428Z"
   },
   {
    "duration": 190,
    "start_time": "2022-03-03T13:51:26.445Z"
   },
   {
    "duration": 228,
    "start_time": "2022-03-03T13:51:26.637Z"
   },
   {
    "duration": 71,
    "start_time": "2022-03-03T13:51:26.867Z"
   },
   {
    "duration": 185,
    "start_time": "2022-03-03T13:51:26.940Z"
   },
   {
    "duration": 26,
    "start_time": "2022-03-03T13:51:27.126Z"
   },
   {
    "duration": 1514,
    "start_time": "2022-03-03T13:51:27.154Z"
   },
   {
    "duration": 14,
    "start_time": "2022-03-03T13:51:28.670Z"
   },
   {
    "duration": 104316,
    "start_time": "2022-03-03T13:51:28.686Z"
   },
   {
    "duration": 5339,
    "start_time": "2022-03-03T13:53:13.004Z"
   },
   {
    "duration": 442,
    "start_time": "2022-03-03T13:53:18.345Z"
   },
   {
    "duration": 5124,
    "start_time": "2022-03-03T13:53:18.789Z"
   },
   {
    "duration": 4,
    "start_time": "2022-03-03T13:53:23.915Z"
   },
   {
    "duration": 7,
    "start_time": "2022-03-03T13:53:23.921Z"
   },
   {
    "duration": 75687,
    "start_time": "2022-03-03T13:53:23.930Z"
   },
   {
    "duration": 2251,
    "start_time": "2022-03-03T13:54:39.619Z"
   },
   {
    "duration": 2017,
    "start_time": "2022-03-03T13:54:41.874Z"
   },
   {
    "duration": 311,
    "start_time": "2022-03-03T14:09:19.882Z"
   },
   {
    "duration": 211,
    "start_time": "2022-03-03T14:09:28.525Z"
   },
   {
    "duration": 591,
    "start_time": "2022-03-03T14:09:32.887Z"
   },
   {
    "duration": 82,
    "start_time": "2022-03-03T14:10:10.263Z"
   },
   {
    "duration": 78,
    "start_time": "2022-03-03T14:10:30.742Z"
   },
   {
    "duration": 79,
    "start_time": "2022-03-03T14:10:38.296Z"
   },
   {
    "duration": 80,
    "start_time": "2022-03-03T14:10:43.102Z"
   },
   {
    "duration": 220,
    "start_time": "2022-03-03T14:10:51.696Z"
   },
   {
    "duration": 357,
    "start_time": "2022-03-03T14:11:02.651Z"
   },
   {
    "duration": 212,
    "start_time": "2022-03-03T14:11:18.524Z"
   },
   {
    "duration": 358,
    "start_time": "2022-03-03T14:11:34.878Z"
   },
   {
    "duration": 5001,
    "start_time": "2022-03-03T14:11:47.686Z"
   },
   {
    "duration": 78,
    "start_time": "2022-03-03T14:12:33.186Z"
   },
   {
    "duration": 79,
    "start_time": "2022-03-03T14:12:41.781Z"
   },
   {
    "duration": 68,
    "start_time": "2022-03-03T14:12:46.832Z"
   },
   {
    "duration": 78,
    "start_time": "2022-03-03T14:13:06.370Z"
   },
   {
    "duration": 69,
    "start_time": "2022-03-03T14:13:09.239Z"
   },
   {
    "duration": 71,
    "start_time": "2022-03-03T14:13:13.041Z"
   },
   {
    "duration": 262,
    "start_time": "2022-03-03T14:13:16.500Z"
   },
   {
    "duration": 349,
    "start_time": "2022-03-03T14:13:21.269Z"
   },
   {
    "duration": 359,
    "start_time": "2022-03-03T14:13:36.331Z"
   },
   {
    "duration": 80,
    "start_time": "2022-03-03T14:13:50.885Z"
   },
   {
    "duration": 69,
    "start_time": "2022-03-03T14:14:13.827Z"
   },
   {
    "duration": 212,
    "start_time": "2022-03-03T14:14:18.028Z"
   },
   {
    "duration": 5036,
    "start_time": "2022-03-03T14:14:42.846Z"
   },
   {
    "duration": 92,
    "start_time": "2022-03-03T14:15:34.262Z"
   },
   {
    "duration": 79,
    "start_time": "2022-03-03T14:15:38.362Z"
   },
   {
    "duration": 231,
    "start_time": "2022-03-03T14:15:41.941Z"
   },
   {
    "duration": 371,
    "start_time": "2022-03-03T14:15:45.540Z"
   },
   {
    "duration": 72,
    "start_time": "2022-03-03T14:15:48.743Z"
   },
   {
    "duration": 71,
    "start_time": "2022-03-03T14:16:38.708Z"
   },
   {
    "duration": 75,
    "start_time": "2022-03-03T14:16:54.745Z"
   },
   {
    "duration": 222,
    "start_time": "2022-03-03T14:16:58.684Z"
   },
   {
    "duration": 362,
    "start_time": "2022-03-03T14:17:03.549Z"
   },
   {
    "duration": 80,
    "start_time": "2022-03-03T14:17:05.871Z"
   },
   {
    "duration": 76,
    "start_time": "2022-03-03T14:17:10.729Z"
   },
   {
    "duration": 66,
    "start_time": "2022-03-03T14:17:13.931Z"
   },
   {
    "duration": 355,
    "start_time": "2022-03-03T14:17:17.936Z"
   },
   {
    "duration": 76,
    "start_time": "2022-03-03T14:17:49.977Z"
   },
   {
    "duration": 87,
    "start_time": "2022-03-03T14:18:21.781Z"
   },
   {
    "duration": 569,
    "start_time": "2022-03-03T14:18:45.348Z"
   },
   {
    "duration": 542,
    "start_time": "2022-03-03T14:19:12.444Z"
   },
   {
    "duration": 396,
    "start_time": "2022-03-03T14:19:25.890Z"
   },
   {
    "duration": 10072,
    "start_time": "2022-03-03T14:19:45.978Z"
   },
   {
    "duration": 4022,
    "start_time": "2022-03-03T14:21:38.392Z"
   },
   {
    "duration": 4045,
    "start_time": "2022-03-03T14:21:50.473Z"
   },
   {
    "duration": 4979,
    "start_time": "2022-03-03T14:22:30.566Z"
   },
   {
    "duration": 87,
    "start_time": "2022-03-03T14:23:50.135Z"
   },
   {
    "duration": 71332,
    "start_time": "2022-03-03T15:24:56.003Z"
   },
   {
    "duration": 72659,
    "start_time": "2022-03-03T15:26:43.637Z"
   },
   {
    "duration": 74,
    "start_time": "2022-03-03T15:41:55.704Z"
   },
   {
    "duration": 90433,
    "start_time": "2022-03-03T15:48:04.712Z"
   },
   {
    "duration": 90650,
    "start_time": "2022-03-03T15:51:24.860Z"
   },
   {
    "duration": 1012,
    "start_time": "2022-03-03T20:05:27.864Z"
   },
   {
    "duration": 30,
    "start_time": "2022-03-03T20:05:28.878Z"
   },
   {
    "duration": 15,
    "start_time": "2022-03-03T20:05:28.909Z"
   },
   {
    "duration": 11,
    "start_time": "2022-03-03T20:05:28.926Z"
   },
   {
    "duration": 16,
    "start_time": "2022-03-03T20:05:28.939Z"
   },
   {
    "duration": 3,
    "start_time": "2022-03-03T20:05:28.956Z"
   },
   {
    "duration": 24,
    "start_time": "2022-03-03T20:05:28.960Z"
   },
   {
    "duration": 136,
    "start_time": "2022-03-03T20:05:28.986Z"
   },
   {
    "duration": 200,
    "start_time": "2022-03-03T20:05:29.123Z"
   },
   {
    "duration": 75,
    "start_time": "2022-03-03T20:05:29.324Z"
   },
   {
    "duration": 171,
    "start_time": "2022-03-03T20:05:29.401Z"
   },
   {
    "duration": 24,
    "start_time": "2022-03-03T20:05:29.573Z"
   },
   {
    "duration": 1572,
    "start_time": "2022-03-03T20:05:29.598Z"
   },
   {
    "duration": 8,
    "start_time": "2022-03-03T20:05:31.172Z"
   },
   {
    "duration": 92717,
    "start_time": "2022-03-03T20:05:31.182Z"
   },
   {
    "duration": 4940,
    "start_time": "2022-03-03T20:07:03.900Z"
   },
   {
    "duration": 4761,
    "start_time": "2022-03-03T20:07:08.843Z"
   },
   {
    "duration": 76317,
    "start_time": "2022-03-03T20:07:13.606Z"
   },
   {
    "duration": 2183,
    "start_time": "2022-03-03T20:08:29.924Z"
   },
   {
    "duration": 2038,
    "start_time": "2022-03-03T20:08:32.109Z"
   },
   {
    "duration": 95463,
    "start_time": "2022-03-03T20:08:34.149Z"
   },
   {
    "duration": 44,
    "start_time": "2022-03-03T20:35:36.664Z"
   },
   {
    "duration": 2589,
    "start_time": "2022-03-03T20:37:49.605Z"
   },
   {
    "duration": 40,
    "start_time": "2022-03-03T20:38:23.069Z"
   },
   {
    "duration": 75860,
    "start_time": "2022-03-03T20:38:30.307Z"
   },
   {
    "duration": 226,
    "start_time": "2022-03-03T20:40:47.890Z"
   },
   {
    "duration": 155,
    "start_time": "2022-03-03T20:41:47.495Z"
   },
   {
    "duration": 155,
    "start_time": "2022-03-03T20:41:57.779Z"
   },
   {
    "duration": 41,
    "start_time": "2022-03-03T21:09:45.602Z"
   },
   {
    "duration": 50,
    "start_time": "2022-03-03T21:12:12.482Z"
   },
   {
    "duration": 46,
    "start_time": "2022-03-03T21:12:25.765Z"
   },
   {
    "duration": 158,
    "start_time": "2022-03-03T21:15:55.894Z"
   },
   {
    "duration": 43,
    "start_time": "2022-03-03T21:17:07.698Z"
   },
   {
    "duration": 48,
    "start_time": "2022-03-03T21:17:51.028Z"
   },
   {
    "duration": 42,
    "start_time": "2022-03-03T21:18:19.589Z"
   },
   {
    "duration": 46,
    "start_time": "2022-03-03T21:27:02.609Z"
   },
   {
    "duration": 1092,
    "start_time": "2022-03-03T21:28:29.269Z"
   },
   {
    "duration": 24,
    "start_time": "2022-03-03T21:28:30.363Z"
   },
   {
    "duration": 16,
    "start_time": "2022-03-03T21:28:30.388Z"
   },
   {
    "duration": 8,
    "start_time": "2022-03-03T21:28:30.406Z"
   },
   {
    "duration": 38,
    "start_time": "2022-03-03T21:28:30.415Z"
   },
   {
    "duration": 3,
    "start_time": "2022-03-03T21:28:30.455Z"
   },
   {
    "duration": 10,
    "start_time": "2022-03-03T21:28:30.459Z"
   },
   {
    "duration": 156,
    "start_time": "2022-03-03T21:28:30.472Z"
   },
   {
    "duration": 207,
    "start_time": "2022-03-03T21:28:30.630Z"
   },
   {
    "duration": 70,
    "start_time": "2022-03-03T21:28:30.839Z"
   },
   {
    "duration": 179,
    "start_time": "2022-03-03T21:28:30.911Z"
   },
   {
    "duration": 94,
    "start_time": "2022-03-03T21:28:31.092Z"
   },
   {
    "duration": 23,
    "start_time": "2022-03-03T21:28:31.187Z"
   },
   {
    "duration": 1115,
    "start_time": "2022-03-03T21:28:31.211Z"
   },
   {
    "duration": 11,
    "start_time": "2022-03-03T21:28:32.328Z"
   },
   {
    "duration": 52446,
    "start_time": "2022-03-03T21:28:32.341Z"
   },
   {
    "duration": 3556,
    "start_time": "2022-03-03T21:29:24.789Z"
   },
   {
    "duration": 4099,
    "start_time": "2022-03-03T21:29:28.347Z"
   },
   {
    "duration": 56406,
    "start_time": "2022-03-03T21:29:32.448Z"
   },
   {
    "duration": 1572,
    "start_time": "2022-03-03T21:30:28.856Z"
   },
   {
    "duration": 1808,
    "start_time": "2022-03-03T21:30:30.430Z"
   },
   {
    "duration": 58203,
    "start_time": "2022-03-03T21:30:32.241Z"
   },
   {
    "duration": 186,
    "start_time": "2022-03-03T21:31:30.447Z"
   },
   {
    "duration": 179,
    "start_time": "2022-03-03T21:31:30.638Z"
   },
   {
    "duration": 51,
    "start_time": "2022-03-03T21:31:50.688Z"
   },
   {
    "duration": 39326,
    "start_time": "2022-03-03T21:31:57.913Z"
   },
   {
    "duration": 1902,
    "start_time": "2022-03-03T21:33:30.937Z"
   },
   {
    "duration": 1088,
    "start_time": "2022-03-03T21:33:42.381Z"
   },
   {
    "duration": 24,
    "start_time": "2022-03-03T21:33:43.471Z"
   },
   {
    "duration": 26,
    "start_time": "2022-03-03T21:33:43.501Z"
   },
   {
    "duration": 12,
    "start_time": "2022-03-03T21:33:43.537Z"
   },
   {
    "duration": 15,
    "start_time": "2022-03-03T21:33:43.551Z"
   },
   {
    "duration": 3,
    "start_time": "2022-03-03T21:33:43.568Z"
   },
   {
    "duration": 11,
    "start_time": "2022-03-03T21:33:43.573Z"
   },
   {
    "duration": 166,
    "start_time": "2022-03-03T21:33:43.586Z"
   },
   {
    "duration": 211,
    "start_time": "2022-03-03T21:33:43.754Z"
   },
   {
    "duration": 74,
    "start_time": "2022-03-03T21:33:43.967Z"
   },
   {
    "duration": 170,
    "start_time": "2022-03-03T21:33:44.043Z"
   },
   {
    "duration": 76,
    "start_time": "2022-03-03T21:33:44.215Z"
   },
   {
    "duration": 23,
    "start_time": "2022-03-03T21:33:44.292Z"
   },
   {
    "duration": 1137,
    "start_time": "2022-03-03T21:33:44.318Z"
   },
   {
    "duration": 8,
    "start_time": "2022-03-03T21:33:45.457Z"
   },
   {
    "duration": 54533,
    "start_time": "2022-03-03T21:33:45.468Z"
   },
   {
    "duration": 3769,
    "start_time": "2022-03-03T21:34:40.003Z"
   },
   {
    "duration": 4202,
    "start_time": "2022-03-03T21:34:43.774Z"
   },
   {
    "duration": 6633,
    "start_time": "2022-03-03T21:34:47.978Z"
   },
   {
    "duration": 1595,
    "start_time": "2022-03-03T21:34:54.613Z"
   },
   {
    "duration": 1828,
    "start_time": "2022-03-03T21:34:56.210Z"
   },
   {
    "duration": 6257,
    "start_time": "2022-03-03T21:34:58.043Z"
   },
   {
    "duration": 56,
    "start_time": "2022-03-03T21:35:04.302Z"
   },
   {
    "duration": 182,
    "start_time": "2022-03-03T21:35:04.360Z"
   },
   {
    "duration": 230,
    "start_time": "2022-03-04T09:32:04.412Z"
   },
   {
    "duration": 1170,
    "start_time": "2022-03-04T09:32:11.237Z"
   },
   {
    "duration": 25,
    "start_time": "2022-03-04T09:32:12.409Z"
   },
   {
    "duration": 16,
    "start_time": "2022-03-04T09:32:12.436Z"
   },
   {
    "duration": 9,
    "start_time": "2022-03-04T09:32:12.462Z"
   },
   {
    "duration": 15,
    "start_time": "2022-03-04T09:32:12.472Z"
   },
   {
    "duration": 3,
    "start_time": "2022-03-04T09:32:12.489Z"
   },
   {
    "duration": 10,
    "start_time": "2022-03-04T09:32:12.493Z"
   },
   {
    "duration": 151,
    "start_time": "2022-03-04T09:32:12.505Z"
   },
   {
    "duration": 207,
    "start_time": "2022-03-04T09:32:12.662Z"
   },
   {
    "duration": 62,
    "start_time": "2022-03-04T09:32:12.870Z"
   },
   {
    "duration": 223,
    "start_time": "2022-03-04T09:32:12.934Z"
   },
   {
    "duration": 90,
    "start_time": "2022-03-04T09:32:13.159Z"
   },
   {
    "duration": 32,
    "start_time": "2022-03-04T09:32:13.251Z"
   },
   {
    "duration": 1355,
    "start_time": "2022-03-04T09:32:13.285Z"
   },
   {
    "duration": 21,
    "start_time": "2022-03-04T09:32:14.642Z"
   },
   {
    "duration": 70555,
    "start_time": "2022-03-04T09:32:14.665Z"
   },
   {
    "duration": 3690,
    "start_time": "2022-03-04T09:33:25.222Z"
   },
   {
    "duration": 4048,
    "start_time": "2022-03-04T09:33:28.914Z"
   },
   {
    "duration": 6465,
    "start_time": "2022-03-04T09:33:32.964Z"
   },
   {
    "duration": 1649,
    "start_time": "2022-03-04T09:33:39.431Z"
   },
   {
    "duration": 1693,
    "start_time": "2022-03-04T09:33:41.081Z"
   },
   {
    "duration": 6312,
    "start_time": "2022-03-04T09:33:42.776Z"
   },
   {
    "duration": 48,
    "start_time": "2022-03-04T09:33:49.091Z"
   },
   {
    "duration": 169,
    "start_time": "2022-03-04T09:33:49.140Z"
   },
   {
    "duration": 76740,
    "start_time": "2022-03-04T09:34:37.659Z"
   },
   {
    "duration": 1124,
    "start_time": "2022-03-04T09:37:45.071Z"
   },
   {
    "duration": 24,
    "start_time": "2022-03-04T09:37:46.197Z"
   },
   {
    "duration": 17,
    "start_time": "2022-03-04T09:37:46.223Z"
   },
   {
    "duration": 24,
    "start_time": "2022-03-04T09:37:46.242Z"
   },
   {
    "duration": 17,
    "start_time": "2022-03-04T09:37:46.268Z"
   },
   {
    "duration": 3,
    "start_time": "2022-03-04T09:37:46.287Z"
   },
   {
    "duration": 9,
    "start_time": "2022-03-04T09:37:46.292Z"
   },
   {
    "duration": 145,
    "start_time": "2022-03-04T09:37:46.304Z"
   },
   {
    "duration": 208,
    "start_time": "2022-03-04T09:37:46.451Z"
   },
   {
    "duration": 64,
    "start_time": "2022-03-04T09:37:46.661Z"
   },
   {
    "duration": 178,
    "start_time": "2022-03-04T09:37:46.727Z"
   },
   {
    "duration": 2,
    "start_time": "2022-03-04T09:37:46.906Z"
   },
   {
    "duration": 26,
    "start_time": "2022-03-04T09:37:46.910Z"
   },
   {
    "duration": 1086,
    "start_time": "2022-03-04T09:37:46.938Z"
   },
   {
    "duration": 6,
    "start_time": "2022-03-04T09:37:48.025Z"
   },
   {
    "duration": 76032,
    "start_time": "2022-03-04T09:37:48.033Z"
   },
   {
    "duration": 4606,
    "start_time": "2022-03-04T09:39:04.067Z"
   },
   {
    "duration": 4361,
    "start_time": "2022-03-04T09:39:08.676Z"
   },
   {
    "duration": 84151,
    "start_time": "2022-03-04T09:39:13.039Z"
   },
   {
    "duration": 2400,
    "start_time": "2022-03-04T09:40:37.192Z"
   },
   {
    "duration": 2272,
    "start_time": "2022-03-04T09:40:39.594Z"
   },
   {
    "duration": 8633,
    "start_time": "2022-03-04T09:40:41.868Z"
   },
   {
    "duration": -2025,
    "start_time": "2022-03-04T09:40:52.528Z"
   },
   {
    "duration": -2037,
    "start_time": "2022-03-04T09:40:52.541Z"
   },
   {
    "duration": 1795,
    "start_time": "2022-03-04T09:41:55.582Z"
   },
   {
    "duration": 1667,
    "start_time": "2022-03-04T09:42:01.925Z"
   },
   {
    "duration": 1572,
    "start_time": "2022-03-04T09:42:07.313Z"
   },
   {
    "duration": 1084,
    "start_time": "2022-03-04T09:42:18.316Z"
   },
   {
    "duration": 1082,
    "start_time": "2022-03-04T09:42:23.323Z"
   },
   {
    "duration": 1639,
    "start_time": "2022-03-04T09:42:29.906Z"
   },
   {
    "duration": 1120,
    "start_time": "2022-03-04T09:43:34.644Z"
   },
   {
    "duration": 23,
    "start_time": "2022-03-04T09:43:35.766Z"
   },
   {
    "duration": 16,
    "start_time": "2022-03-04T09:43:35.791Z"
   },
   {
    "duration": 12,
    "start_time": "2022-03-04T09:43:35.808Z"
   },
   {
    "duration": 16,
    "start_time": "2022-03-04T09:43:35.822Z"
   },
   {
    "duration": 22,
    "start_time": "2022-03-04T09:43:35.840Z"
   },
   {
    "duration": 7,
    "start_time": "2022-03-04T09:43:35.864Z"
   },
   {
    "duration": 157,
    "start_time": "2022-03-04T09:43:35.873Z"
   },
   {
    "duration": 203,
    "start_time": "2022-03-04T09:43:36.032Z"
   },
   {
    "duration": 66,
    "start_time": "2022-03-04T09:43:36.237Z"
   },
   {
    "duration": 269,
    "start_time": "2022-03-04T09:43:36.305Z"
   },
   {
    "duration": 71,
    "start_time": "2022-03-04T09:43:36.576Z"
   },
   {
    "duration": 29,
    "start_time": "2022-03-04T09:43:36.649Z"
   },
   {
    "duration": 1063,
    "start_time": "2022-03-04T09:43:36.679Z"
   },
   {
    "duration": 7,
    "start_time": "2022-03-04T09:43:37.743Z"
   },
   {
    "duration": 73683,
    "start_time": "2022-03-04T09:43:37.764Z"
   },
   {
    "duration": 3671,
    "start_time": "2022-03-04T09:44:51.448Z"
   },
   {
    "duration": 4031,
    "start_time": "2022-03-04T09:44:55.121Z"
   },
   {
    "duration": 56186,
    "start_time": "2022-03-04T09:44:59.154Z"
   },
   {
    "duration": 1507,
    "start_time": "2022-03-04T09:45:55.342Z"
   },
   {
    "duration": 1814,
    "start_time": "2022-03-04T09:45:56.850Z"
   },
   {
    "duration": 5923,
    "start_time": "2022-03-04T09:45:58.669Z"
   },
   {
    "duration": 49,
    "start_time": "2022-03-04T09:46:04.594Z"
   },
   {
    "duration": 164,
    "start_time": "2022-03-04T09:46:04.645Z"
   },
   {
    "duration": 55750,
    "start_time": "2022-03-04T09:47:29.988Z"
   },
   {
    "duration": 56510,
    "start_time": "2022-03-04T09:48:54.647Z"
   },
   {
    "duration": 55842,
    "start_time": "2022-03-04T09:50:43.298Z"
   },
   {
    "duration": 168,
    "start_time": "2022-03-04T09:54:31.603Z"
   },
   {
    "duration": 100225,
    "start_time": "2022-03-04T09:54:42.450Z"
   },
   {
    "duration": 1087,
    "start_time": "2022-03-04T10:01:28.214Z"
   },
   {
    "duration": 23,
    "start_time": "2022-03-04T10:01:29.303Z"
   },
   {
    "duration": 15,
    "start_time": "2022-03-04T10:01:29.328Z"
   },
   {
    "duration": 19,
    "start_time": "2022-03-04T10:01:29.345Z"
   },
   {
    "duration": 15,
    "start_time": "2022-03-04T10:01:29.365Z"
   },
   {
    "duration": 3,
    "start_time": "2022-03-04T10:01:29.382Z"
   },
   {
    "duration": 15,
    "start_time": "2022-03-04T10:01:29.386Z"
   },
   {
    "duration": 144,
    "start_time": "2022-03-04T10:01:29.403Z"
   },
   {
    "duration": 209,
    "start_time": "2022-03-04T10:01:29.549Z"
   },
   {
    "duration": 62,
    "start_time": "2022-03-04T10:01:29.762Z"
   },
   {
    "duration": 173,
    "start_time": "2022-03-04T10:01:29.825Z"
   },
   {
    "duration": 86,
    "start_time": "2022-03-04T10:01:30.000Z"
   },
   {
    "duration": 23,
    "start_time": "2022-03-04T10:01:30.088Z"
   },
   {
    "duration": 1102,
    "start_time": "2022-03-04T10:01:30.112Z"
   },
   {
    "duration": 7,
    "start_time": "2022-03-04T10:01:31.215Z"
   },
   {
    "duration": 75848,
    "start_time": "2022-03-04T10:01:31.223Z"
   },
   {
    "duration": 3702,
    "start_time": "2022-03-04T10:02:47.072Z"
   },
   {
    "duration": 4094,
    "start_time": "2022-03-04T10:02:50.776Z"
   },
   {
    "duration": 57857,
    "start_time": "2022-03-04T10:02:54.872Z"
   },
   {
    "duration": 1702,
    "start_time": "2022-03-04T10:03:52.731Z"
   },
   {
    "duration": 1733,
    "start_time": "2022-03-04T10:03:54.435Z"
   },
   {
    "duration": 56467,
    "start_time": "2022-03-04T10:03:56.170Z"
   },
   {
    "duration": 186,
    "start_time": "2022-03-04T10:04:52.640Z"
   },
   {
    "duration": 165,
    "start_time": "2022-03-04T10:04:52.829Z"
   },
   {
    "duration": 446,
    "start_time": "2022-03-04T11:32:21.374Z"
   },
   {
    "duration": 1098,
    "start_time": "2022-03-04T11:32:38.172Z"
   },
   {
    "duration": 24,
    "start_time": "2022-03-04T11:32:39.272Z"
   },
   {
    "duration": 22,
    "start_time": "2022-03-04T11:32:39.297Z"
   },
   {
    "duration": 32,
    "start_time": "2022-03-04T11:32:39.320Z"
   },
   {
    "duration": 33,
    "start_time": "2022-03-04T11:32:39.353Z"
   },
   {
    "duration": 6,
    "start_time": "2022-03-04T11:32:39.388Z"
   },
   {
    "duration": 31,
    "start_time": "2022-03-04T11:32:39.396Z"
   },
   {
    "duration": 128,
    "start_time": "2022-03-04T11:32:39.429Z"
   },
   {
    "duration": 204,
    "start_time": "2022-03-04T11:32:39.563Z"
   },
   {
    "duration": 61,
    "start_time": "2022-03-04T11:32:39.769Z"
   },
   {
    "duration": 176,
    "start_time": "2022-03-04T11:32:39.832Z"
   },
   {
    "duration": 84,
    "start_time": "2022-03-04T11:32:40.009Z"
   },
   {
    "duration": 458,
    "start_time": "2022-03-04T11:32:40.094Z"
   },
   {
    "duration": -2022,
    "start_time": "2022-03-04T11:32:42.576Z"
   },
   {
    "duration": -2039,
    "start_time": "2022-03-04T11:32:42.594Z"
   },
   {
    "duration": -2052,
    "start_time": "2022-03-04T11:32:42.608Z"
   },
   {
    "duration": -2060,
    "start_time": "2022-03-04T11:32:42.617Z"
   },
   {
    "duration": -2063,
    "start_time": "2022-03-04T11:32:42.621Z"
   },
   {
    "duration": -2071,
    "start_time": "2022-03-04T11:32:42.630Z"
   },
   {
    "duration": -2073,
    "start_time": "2022-03-04T11:32:42.633Z"
   },
   {
    "duration": -2076,
    "start_time": "2022-03-04T11:32:42.637Z"
   },
   {
    "duration": -2079,
    "start_time": "2022-03-04T11:32:42.641Z"
   },
   {
    "duration": -2088,
    "start_time": "2022-03-04T11:32:42.650Z"
   },
   {
    "duration": -2090,
    "start_time": "2022-03-04T11:32:42.653Z"
   },
   {
    "duration": 37,
    "start_time": "2022-03-04T11:33:58.055Z"
   },
   {
    "duration": 1132,
    "start_time": "2022-03-04T11:34:03.267Z"
   },
   {
    "duration": 25,
    "start_time": "2022-03-04T11:34:04.401Z"
   },
   {
    "duration": 20,
    "start_time": "2022-03-04T11:34:04.428Z"
   },
   {
    "duration": 19,
    "start_time": "2022-03-04T11:34:04.450Z"
   },
   {
    "duration": 28,
    "start_time": "2022-03-04T11:34:04.471Z"
   },
   {
    "duration": 10,
    "start_time": "2022-03-04T11:34:04.501Z"
   },
   {
    "duration": 35,
    "start_time": "2022-03-04T11:34:04.513Z"
   },
   {
    "duration": 164,
    "start_time": "2022-03-04T11:34:04.550Z"
   },
   {
    "duration": 210,
    "start_time": "2022-03-04T11:34:04.716Z"
   },
   {
    "duration": 70,
    "start_time": "2022-03-04T11:34:04.928Z"
   },
   {
    "duration": 32,
    "start_time": "2022-03-04T11:34:05.000Z"
   },
   {
    "duration": 177,
    "start_time": "2022-03-04T11:34:05.033Z"
   },
   {
    "duration": 76,
    "start_time": "2022-03-04T11:34:05.212Z"
   },
   {
    "duration": 447,
    "start_time": "2022-03-04T11:34:05.290Z"
   },
   {
    "duration": -1821,
    "start_time": "2022-03-04T11:34:07.560Z"
   },
   {
    "duration": -1828,
    "start_time": "2022-03-04T11:34:07.568Z"
   },
   {
    "duration": -1837,
    "start_time": "2022-03-04T11:34:07.578Z"
   },
   {
    "duration": -1845,
    "start_time": "2022-03-04T11:34:07.587Z"
   },
   {
    "duration": -1853,
    "start_time": "2022-03-04T11:34:07.596Z"
   },
   {
    "duration": -1882,
    "start_time": "2022-03-04T11:34:07.626Z"
   },
   {
    "duration": -1892,
    "start_time": "2022-03-04T11:34:07.637Z"
   },
   {
    "duration": -1899,
    "start_time": "2022-03-04T11:34:07.645Z"
   },
   {
    "duration": -1915,
    "start_time": "2022-03-04T11:34:07.662Z"
   },
   {
    "duration": -1942,
    "start_time": "2022-03-04T11:34:07.690Z"
   },
   {
    "duration": -1963,
    "start_time": "2022-03-04T11:34:07.712Z"
   },
   {
    "duration": 39,
    "start_time": "2022-03-04T11:35:04.630Z"
   },
   {
    "duration": 264,
    "start_time": "2022-03-04T11:35:07.474Z"
   },
   {
    "duration": 112,
    "start_time": "2022-03-04T11:35:08.726Z"
   },
   {
    "duration": 393,
    "start_time": "2022-03-04T11:35:08.963Z"
   },
   {
    "duration": 327,
    "start_time": "2022-03-04T11:35:20.523Z"
   },
   {
    "duration": 4,
    "start_time": "2022-03-04T11:35:26.991Z"
   },
   {
    "duration": 3,
    "start_time": "2022-03-04T11:35:42.284Z"
   },
   {
    "duration": 4,
    "start_time": "2022-03-04T11:36:08.410Z"
   },
   {
    "duration": 1097,
    "start_time": "2022-03-04T11:42:10.117Z"
   },
   {
    "duration": 26,
    "start_time": "2022-03-04T11:42:11.216Z"
   },
   {
    "duration": 22,
    "start_time": "2022-03-04T11:42:11.244Z"
   },
   {
    "duration": 10,
    "start_time": "2022-03-04T11:42:11.268Z"
   },
   {
    "duration": 18,
    "start_time": "2022-03-04T11:42:11.280Z"
   },
   {
    "duration": 4,
    "start_time": "2022-03-04T11:42:11.300Z"
   },
   {
    "duration": 10,
    "start_time": "2022-03-04T11:42:11.306Z"
   },
   {
    "duration": 171,
    "start_time": "2022-03-04T11:42:11.319Z"
   },
   {
    "duration": 221,
    "start_time": "2022-03-04T11:42:11.492Z"
   },
   {
    "duration": 67,
    "start_time": "2022-03-04T11:42:11.715Z"
   },
   {
    "duration": 176,
    "start_time": "2022-03-04T11:42:11.784Z"
   },
   {
    "duration": 74,
    "start_time": "2022-03-04T11:42:11.962Z"
   },
   {
    "duration": 36,
    "start_time": "2022-03-04T11:42:12.038Z"
   },
   {
    "duration": 1082,
    "start_time": "2022-03-04T11:42:12.075Z"
   },
   {
    "duration": 7,
    "start_time": "2022-03-04T11:42:13.163Z"
   },
   {
    "duration": 75080,
    "start_time": "2022-03-04T11:42:13.171Z"
   },
   {
    "duration": 3663,
    "start_time": "2022-03-04T11:43:28.253Z"
   },
   {
    "duration": 4041,
    "start_time": "2022-03-04T11:43:31.918Z"
   },
   {
    "duration": 57901,
    "start_time": "2022-03-04T11:43:35.962Z"
   },
   {
    "duration": 1530,
    "start_time": "2022-03-04T11:44:33.865Z"
   },
   {
    "duration": 1768,
    "start_time": "2022-03-04T11:44:35.396Z"
   },
   {
    "duration": 57201,
    "start_time": "2022-03-04T11:44:37.166Z"
   },
   {
    "duration": 195,
    "start_time": "2022-03-04T11:45:34.370Z"
   },
   {
    "duration": 157,
    "start_time": "2022-03-04T11:45:34.566Z"
   },
   {
    "duration": 5,
    "start_time": "2022-03-04T12:04:58.672Z"
   },
   {
    "duration": 6,
    "start_time": "2022-03-04T12:05:06.425Z"
   },
   {
    "duration": 20,
    "start_time": "2022-03-04T12:05:27.046Z"
   },
   {
    "duration": 12,
    "start_time": "2022-03-04T12:05:54.489Z"
   },
   {
    "duration": 13,
    "start_time": "2022-03-04T12:05:57.521Z"
   },
   {
    "duration": 401,
    "start_time": "2022-03-04T12:09:20.064Z"
   },
   {
    "duration": 6,
    "start_time": "2022-03-04T12:11:06.711Z"
   },
   {
    "duration": 12,
    "start_time": "2022-03-04T12:11:07.859Z"
   },
   {
    "duration": 86,
    "start_time": "2022-03-04T12:11:21.273Z"
   },
   {
    "duration": 4,
    "start_time": "2022-03-04T12:12:19.756Z"
   },
   {
    "duration": 9,
    "start_time": "2022-03-04T12:13:00.584Z"
   },
   {
    "duration": 1059,
    "start_time": "2022-03-04T12:14:36.039Z"
   },
   {
    "duration": 25,
    "start_time": "2022-03-04T12:14:37.100Z"
   },
   {
    "duration": 17,
    "start_time": "2022-03-04T12:14:37.127Z"
   },
   {
    "duration": 9,
    "start_time": "2022-03-04T12:14:37.145Z"
   },
   {
    "duration": 25,
    "start_time": "2022-03-04T12:14:37.155Z"
   },
   {
    "duration": 9,
    "start_time": "2022-03-04T12:14:37.181Z"
   },
   {
    "duration": 8,
    "start_time": "2022-03-04T12:14:37.191Z"
   },
   {
    "duration": 26,
    "start_time": "2022-03-04T12:14:37.201Z"
   },
   {
    "duration": 19,
    "start_time": "2022-03-04T12:14:37.228Z"
   },
   {
    "duration": 11,
    "start_time": "2022-03-04T12:14:37.248Z"
   },
   {
    "duration": 14,
    "start_time": "2022-03-04T12:14:37.260Z"
   },
   {
    "duration": 27,
    "start_time": "2022-03-04T12:14:37.275Z"
   },
   {
    "duration": 21,
    "start_time": "2022-03-04T12:14:37.304Z"
   },
   {
    "duration": 257,
    "start_time": "2022-03-04T12:14:37.327Z"
   },
   {
    "duration": -1913,
    "start_time": "2022-03-04T12:14:39.499Z"
   },
   {
    "duration": -1921,
    "start_time": "2022-03-04T12:14:39.508Z"
   },
   {
    "duration": -1928,
    "start_time": "2022-03-04T12:14:39.516Z"
   },
   {
    "duration": -1937,
    "start_time": "2022-03-04T12:14:39.526Z"
   },
   {
    "duration": -1944,
    "start_time": "2022-03-04T12:14:39.534Z"
   },
   {
    "duration": -1953,
    "start_time": "2022-03-04T12:14:39.543Z"
   },
   {
    "duration": -1960,
    "start_time": "2022-03-04T12:14:39.551Z"
   },
   {
    "duration": -1969,
    "start_time": "2022-03-04T12:14:39.561Z"
   },
   {
    "duration": -1987,
    "start_time": "2022-03-04T12:14:39.580Z"
   },
   {
    "duration": -1995,
    "start_time": "2022-03-04T12:14:39.589Z"
   },
   {
    "duration": -2001,
    "start_time": "2022-03-04T12:14:39.595Z"
   },
   {
    "duration": -2005,
    "start_time": "2022-03-04T12:14:39.601Z"
   },
   {
    "duration": 205,
    "start_time": "2022-03-04T12:18:37.619Z"
   },
   {
    "duration": 31,
    "start_time": "2022-03-04T12:18:51.486Z"
   },
   {
    "duration": 135,
    "start_time": "2022-03-04T12:18:58.660Z"
   },
   {
    "duration": 289,
    "start_time": "2022-03-04T12:19:01.829Z"
   },
   {
    "duration": 150,
    "start_time": "2022-03-04T12:19:49.495Z"
   },
   {
    "duration": 8,
    "start_time": "2022-03-04T12:20:30.091Z"
   },
   {
    "duration": 185,
    "start_time": "2022-03-04T12:32:41.405Z"
   },
   {
    "duration": 9278,
    "start_time": "2022-03-04T12:33:10.608Z"
   },
   {
    "duration": 6214,
    "start_time": "2022-03-04T12:33:48.826Z"
   },
   {
    "duration": 9339,
    "start_time": "2022-03-04T12:34:10.383Z"
   },
   {
    "duration": 5909,
    "start_time": "2022-03-04T12:34:41.860Z"
   },
   {
    "duration": 2109,
    "start_time": "2022-03-04T12:34:59.010Z"
   },
   {
    "duration": 1593,
    "start_time": "2022-03-04T12:35:16.119Z"
   },
   {
    "duration": 2249,
    "start_time": "2022-03-04T12:35:28.143Z"
   },
   {
    "duration": 2185,
    "start_time": "2022-03-04T12:35:41.616Z"
   },
   {
    "duration": 2021,
    "start_time": "2022-03-04T12:35:52.107Z"
   },
   {
    "duration": 2220,
    "start_time": "2022-03-04T12:35:58.704Z"
   },
   {
    "duration": 2148,
    "start_time": "2022-03-04T12:36:39.701Z"
   },
   {
    "duration": 2242,
    "start_time": "2022-03-04T12:36:45.016Z"
   },
   {
    "duration": 2307,
    "start_time": "2022-03-04T12:36:53.075Z"
   },
   {
    "duration": 2388,
    "start_time": "2022-03-04T12:36:58.320Z"
   },
   {
    "duration": 2289,
    "start_time": "2022-03-04T12:37:03.730Z"
   },
   {
    "duration": 2230,
    "start_time": "2022-03-04T12:37:09.981Z"
   },
   {
    "duration": 166,
    "start_time": "2022-03-04T12:37:28.227Z"
   },
   {
    "duration": 139,
    "start_time": "2022-03-04T12:37:39.170Z"
   },
   {
    "duration": 176,
    "start_time": "2022-03-04T12:37:43.874Z"
   },
   {
    "duration": 168,
    "start_time": "2022-03-04T12:37:49.238Z"
   },
   {
    "duration": 183,
    "start_time": "2022-03-04T12:37:52.925Z"
   },
   {
    "duration": 163,
    "start_time": "2022-03-04T12:37:55.762Z"
   },
   {
    "duration": 121,
    "start_time": "2022-03-04T12:39:24.280Z"
   },
   {
    "duration": 138,
    "start_time": "2022-03-04T12:39:36.263Z"
   },
   {
    "duration": 125,
    "start_time": "2022-03-04T12:39:45.489Z"
   },
   {
    "duration": 126,
    "start_time": "2022-03-04T12:39:50.202Z"
   },
   {
    "duration": 168,
    "start_time": "2022-03-04T12:39:56.182Z"
   },
   {
    "duration": 168,
    "start_time": "2022-03-04T12:39:59.409Z"
   },
   {
    "duration": 180,
    "start_time": "2022-03-04T12:40:04.870Z"
   },
   {
    "duration": 163,
    "start_time": "2022-03-04T12:40:12.933Z"
   },
   {
    "duration": 1064,
    "start_time": "2022-03-04T12:41:01.610Z"
   },
   {
    "duration": 3349,
    "start_time": "2022-03-04T12:46:13.170Z"
   },
   {
    "duration": 3238,
    "start_time": "2022-03-04T12:46:50.913Z"
   },
   {
    "duration": 3283,
    "start_time": "2022-03-04T12:47:02.724Z"
   },
   {
    "duration": 4818,
    "start_time": "2022-03-04T12:47:45.156Z"
   },
   {
    "duration": 9822,
    "start_time": "2022-03-04T12:48:02.553Z"
   },
   {
    "duration": 4321,
    "start_time": "2022-03-04T12:48:22.917Z"
   },
   {
    "duration": 3235,
    "start_time": "2022-03-04T12:49:02.496Z"
   },
   {
    "duration": 66,
    "start_time": "2022-03-04T12:50:03.906Z"
   },
   {
    "duration": 653,
    "start_time": "2022-03-04T12:50:51.168Z"
   },
   {
    "duration": 9417,
    "start_time": "2022-03-04T12:51:23.784Z"
   },
   {
    "duration": 660,
    "start_time": "2022-03-04T12:51:45.423Z"
   },
   {
    "duration": 3169,
    "start_time": "2022-03-04T12:52:15.489Z"
   },
   {
    "duration": 9789,
    "start_time": "2022-03-04T12:52:41.498Z"
   },
   {
    "duration": 3201,
    "start_time": "2022-03-04T12:53:09.565Z"
   },
   {
    "duration": 3210,
    "start_time": "2022-03-04T12:53:17.020Z"
   },
   {
    "duration": 67,
    "start_time": "2022-03-04T12:54:40.160Z"
   },
   {
    "duration": 61,
    "start_time": "2022-03-04T12:54:44.692Z"
   },
   {
    "duration": 64,
    "start_time": "2022-03-04T12:54:48.847Z"
   },
   {
    "duration": 300,
    "start_time": "2022-03-04T12:56:31.605Z"
   },
   {
    "duration": 48,
    "start_time": "2022-03-04T12:56:37.660Z"
   },
   {
    "duration": 67,
    "start_time": "2022-03-04T12:56:41.061Z"
   },
   {
    "duration": 1131,
    "start_time": "2022-03-04T12:57:23.172Z"
   },
   {
    "duration": 24,
    "start_time": "2022-03-04T12:57:24.305Z"
   },
   {
    "duration": 16,
    "start_time": "2022-03-04T12:57:24.331Z"
   },
   {
    "duration": 19,
    "start_time": "2022-03-04T12:57:24.349Z"
   },
   {
    "duration": 16,
    "start_time": "2022-03-04T12:57:24.369Z"
   },
   {
    "duration": 21,
    "start_time": "2022-03-04T12:57:24.386Z"
   },
   {
    "duration": 11,
    "start_time": "2022-03-04T12:57:24.408Z"
   },
   {
    "duration": 18,
    "start_time": "2022-03-04T12:57:24.420Z"
   },
   {
    "duration": 11,
    "start_time": "2022-03-04T12:57:24.442Z"
   },
   {
    "duration": 16,
    "start_time": "2022-03-04T12:57:24.455Z"
   },
   {
    "duration": 4,
    "start_time": "2022-03-04T12:57:24.472Z"
   },
   {
    "duration": 17,
    "start_time": "2022-03-04T12:57:24.478Z"
   },
   {
    "duration": 24,
    "start_time": "2022-03-04T12:57:24.497Z"
   },
   {
    "duration": 55,
    "start_time": "2022-03-04T12:57:24.523Z"
   },
   {
    "duration": 141,
    "start_time": "2022-03-04T12:57:24.580Z"
   },
   {
    "duration": 175,
    "start_time": "2022-03-04T12:57:24.722Z"
   },
   {
    "duration": 7,
    "start_time": "2022-03-04T12:57:24.899Z"
   },
   {
    "duration": 9901,
    "start_time": "2022-03-04T12:57:24.907Z"
   },
   {
    "duration": 175,
    "start_time": "2022-03-04T12:57:34.810Z"
   },
   {
    "duration": 977,
    "start_time": "2022-03-04T12:57:34.987Z"
   },
   {
    "duration": 65,
    "start_time": "2022-03-04T12:57:35.966Z"
   },
   {
    "duration": 271,
    "start_time": "2022-03-04T12:57:36.033Z"
   },
   {
    "duration": -1765,
    "start_time": "2022-03-04T12:57:38.071Z"
   },
   {
    "duration": -1767,
    "start_time": "2022-03-04T12:57:38.074Z"
   },
   {
    "duration": -1769,
    "start_time": "2022-03-04T12:57:38.077Z"
   },
   {
    "duration": 219,
    "start_time": "2022-03-04T13:02:18.977Z"
   },
   {
    "duration": 3202,
    "start_time": "2022-03-04T13:03:05.019Z"
   },
   {
    "duration": 67,
    "start_time": "2022-03-04T13:03:33.699Z"
   },
   {
    "duration": 168,
    "start_time": "2022-03-04T13:04:40.844Z"
   },
   {
    "duration": 809,
    "start_time": "2022-03-04T13:04:59.470Z"
   },
   {
    "duration": 64,
    "start_time": "2022-03-04T13:05:10.064Z"
   },
   {
    "duration": 64,
    "start_time": "2022-03-04T13:05:38.177Z"
   },
   {
    "duration": 66,
    "start_time": "2022-03-04T13:05:41.012Z"
   },
   {
    "duration": 63,
    "start_time": "2022-03-04T13:06:38.773Z"
   },
   {
    "duration": 65,
    "start_time": "2022-03-04T13:06:42.035Z"
   },
   {
    "duration": 1005,
    "start_time": "2022-03-04T13:06:58.568Z"
   },
   {
    "duration": 59,
    "start_time": "2022-03-04T13:07:04.683Z"
   },
   {
    "duration": 69,
    "start_time": "2022-03-04T13:07:30.140Z"
   },
   {
    "duration": 68,
    "start_time": "2022-03-04T13:07:32.190Z"
   },
   {
    "duration": 60,
    "start_time": "2022-03-04T13:08:26.108Z"
   },
   {
    "duration": 10320,
    "start_time": "2022-03-04T13:10:39.705Z"
   },
   {
    "duration": 1150,
    "start_time": "2022-03-04T13:11:09.547Z"
   },
   {
    "duration": 28,
    "start_time": "2022-03-04T13:11:10.699Z"
   },
   {
    "duration": 15,
    "start_time": "2022-03-04T13:11:10.728Z"
   },
   {
    "duration": 8,
    "start_time": "2022-03-04T13:11:10.745Z"
   },
   {
    "duration": 19,
    "start_time": "2022-03-04T13:11:10.754Z"
   },
   {
    "duration": 3,
    "start_time": "2022-03-04T13:11:10.775Z"
   },
   {
    "duration": 6,
    "start_time": "2022-03-04T13:11:10.780Z"
   },
   {
    "duration": 13,
    "start_time": "2022-03-04T13:11:10.787Z"
   },
   {
    "duration": 11,
    "start_time": "2022-03-04T13:11:10.803Z"
   },
   {
    "duration": 7,
    "start_time": "2022-03-04T13:11:10.816Z"
   },
   {
    "duration": 4,
    "start_time": "2022-03-04T13:11:10.824Z"
   },
   {
    "duration": 39,
    "start_time": "2022-03-04T13:11:10.830Z"
   },
   {
    "duration": 20,
    "start_time": "2022-03-04T13:11:10.871Z"
   },
   {
    "duration": 35,
    "start_time": "2022-03-04T13:11:10.892Z"
   },
   {
    "duration": 157,
    "start_time": "2022-03-04T13:11:10.928Z"
   },
   {
    "duration": 166,
    "start_time": "2022-03-04T13:11:11.087Z"
   },
   {
    "duration": 11,
    "start_time": "2022-03-04T13:11:11.254Z"
   },
   {
    "duration": 9805,
    "start_time": "2022-03-04T13:11:11.266Z"
   },
   {
    "duration": -1770,
    "start_time": "2022-03-04T13:11:22.843Z"
   },
   {
    "duration": -1773,
    "start_time": "2022-03-04T13:11:22.847Z"
   },
   {
    "duration": -1774,
    "start_time": "2022-03-04T13:11:22.849Z"
   },
   {
    "duration": -1775,
    "start_time": "2022-03-04T13:11:22.851Z"
   },
   {
    "duration": -1776,
    "start_time": "2022-03-04T13:11:22.853Z"
   },
   {
    "duration": -1777,
    "start_time": "2022-03-04T13:11:22.855Z"
   },
   {
    "duration": -1778,
    "start_time": "2022-03-04T13:11:22.856Z"
   },
   {
    "duration": -1779,
    "start_time": "2022-03-04T13:11:22.858Z"
   },
   {
    "duration": -1780,
    "start_time": "2022-03-04T13:11:22.860Z"
   },
   {
    "duration": 1155,
    "start_time": "2022-03-04T13:12:43.551Z"
   },
   {
    "duration": 24,
    "start_time": "2022-03-04T13:12:44.708Z"
   },
   {
    "duration": 14,
    "start_time": "2022-03-04T13:12:44.734Z"
   },
   {
    "duration": 18,
    "start_time": "2022-03-04T13:12:44.750Z"
   },
   {
    "duration": 16,
    "start_time": "2022-03-04T13:12:44.770Z"
   },
   {
    "duration": 4,
    "start_time": "2022-03-04T13:12:44.788Z"
   },
   {
    "duration": 5,
    "start_time": "2022-03-04T13:12:44.794Z"
   },
   {
    "duration": 13,
    "start_time": "2022-03-04T13:12:44.802Z"
   },
   {
    "duration": 11,
    "start_time": "2022-03-04T13:12:44.817Z"
   },
   {
    "duration": 8,
    "start_time": "2022-03-04T13:12:44.863Z"
   },
   {
    "duration": 6,
    "start_time": "2022-03-04T13:12:44.872Z"
   },
   {
    "duration": 14,
    "start_time": "2022-03-04T13:12:44.879Z"
   },
   {
    "duration": 22,
    "start_time": "2022-03-04T13:12:44.895Z"
   },
   {
    "duration": 52,
    "start_time": "2022-03-04T13:12:44.919Z"
   },
   {
    "duration": 149,
    "start_time": "2022-03-04T13:12:44.973Z"
   },
   {
    "duration": 177,
    "start_time": "2022-03-04T13:12:45.125Z"
   },
   {
    "duration": 8,
    "start_time": "2022-03-04T13:12:45.304Z"
   },
   {
    "duration": 9779,
    "start_time": "2022-03-04T13:12:45.314Z"
   },
   {
    "duration": 170,
    "start_time": "2022-03-04T13:12:55.095Z"
   },
   {
    "duration": 998,
    "start_time": "2022-03-04T13:12:55.266Z"
   },
   {
    "duration": 3310,
    "start_time": "2022-03-04T13:12:56.266Z"
   },
   {
    "duration": 63,
    "start_time": "2022-03-04T13:12:59.577Z"
   },
   {
    "duration": 76,
    "start_time": "2022-03-04T13:12:59.643Z"
   },
   {
    "duration": 144,
    "start_time": "2022-03-04T13:12:59.721Z"
   },
   {
    "duration": 3462,
    "start_time": "2022-03-04T13:12:59.867Z"
   },
   {
    "duration": -1747,
    "start_time": "2022-03-04T13:13:05.078Z"
   },
   {
    "duration": -1749,
    "start_time": "2022-03-04T13:13:05.081Z"
   },
   {
    "duration": 93,
    "start_time": "2022-03-04T13:13:45.671Z"
   },
   {
    "duration": 135,
    "start_time": "2022-03-04T13:13:52.528Z"
   },
   {
    "duration": 60,
    "start_time": "2022-03-04T13:13:56.136Z"
   },
   {
    "duration": 130,
    "start_time": "2022-03-04T13:14:14.137Z"
   },
   {
    "duration": 114,
    "start_time": "2022-03-04T13:14:21.252Z"
   },
   {
    "duration": 108,
    "start_time": "2022-03-04T13:14:37.656Z"
   },
   {
    "duration": 60,
    "start_time": "2022-03-04T13:14:46.204Z"
   },
   {
    "duration": 91,
    "start_time": "2022-03-04T13:14:54.374Z"
   },
   {
    "duration": 62,
    "start_time": "2022-03-04T13:15:02.411Z"
   },
   {
    "duration": 75,
    "start_time": "2022-03-04T13:15:04.691Z"
   },
   {
    "duration": 101,
    "start_time": "2022-03-04T13:15:18.870Z"
   },
   {
    "duration": 118,
    "start_time": "2022-03-04T13:15:33.747Z"
   },
   {
    "duration": 1127,
    "start_time": "2022-03-04T13:15:41.770Z"
   },
   {
    "duration": 23,
    "start_time": "2022-03-04T13:15:42.899Z"
   },
   {
    "duration": 15,
    "start_time": "2022-03-04T13:15:42.924Z"
   },
   {
    "duration": 10,
    "start_time": "2022-03-04T13:15:42.941Z"
   },
   {
    "duration": 15,
    "start_time": "2022-03-04T13:15:42.962Z"
   },
   {
    "duration": 4,
    "start_time": "2022-03-04T13:15:42.978Z"
   },
   {
    "duration": 17,
    "start_time": "2022-03-04T13:15:42.984Z"
   },
   {
    "duration": 13,
    "start_time": "2022-03-04T13:15:43.003Z"
   },
   {
    "duration": 10,
    "start_time": "2022-03-04T13:15:43.018Z"
   },
   {
    "duration": 6,
    "start_time": "2022-03-04T13:15:43.029Z"
   },
   {
    "duration": 3,
    "start_time": "2022-03-04T13:15:43.037Z"
   },
   {
    "duration": 28,
    "start_time": "2022-03-04T13:15:43.042Z"
   },
   {
    "duration": 21,
    "start_time": "2022-03-04T13:15:43.072Z"
   },
   {
    "duration": 34,
    "start_time": "2022-03-04T13:15:43.094Z"
   },
   {
    "duration": 152,
    "start_time": "2022-03-04T13:15:43.130Z"
   },
   {
    "duration": 162,
    "start_time": "2022-03-04T13:15:43.284Z"
   },
   {
    "duration": 6,
    "start_time": "2022-03-04T13:15:43.447Z"
   },
   {
    "duration": 9974,
    "start_time": "2022-03-04T13:15:43.454Z"
   },
   {
    "duration": 177,
    "start_time": "2022-03-04T13:15:53.430Z"
   },
   {
    "duration": 960,
    "start_time": "2022-03-04T13:15:53.610Z"
   },
   {
    "duration": 3266,
    "start_time": "2022-03-04T13:15:54.573Z"
   },
   {
    "duration": 69,
    "start_time": "2022-03-04T13:15:57.842Z"
   },
   {
    "duration": 75,
    "start_time": "2022-03-04T13:15:57.915Z"
   },
   {
    "duration": 461,
    "start_time": "2022-03-04T13:15:57.993Z"
   },
   {
    "duration": -1763,
    "start_time": "2022-03-04T13:16:00.219Z"
   },
   {
    "duration": -1766,
    "start_time": "2022-03-04T13:16:00.223Z"
   },
   {
    "duration": -1767,
    "start_time": "2022-03-04T13:16:00.225Z"
   },
   {
    "duration": 82,
    "start_time": "2022-03-04T13:17:34.382Z"
   },
   {
    "duration": 77,
    "start_time": "2022-03-04T13:17:50.587Z"
   },
   {
    "duration": 1128,
    "start_time": "2022-03-04T13:18:11.280Z"
   },
   {
    "duration": 29,
    "start_time": "2022-03-04T13:18:12.412Z"
   },
   {
    "duration": 16,
    "start_time": "2022-03-04T13:18:12.443Z"
   },
   {
    "duration": 8,
    "start_time": "2022-03-04T13:18:12.463Z"
   },
   {
    "duration": 16,
    "start_time": "2022-03-04T13:18:12.472Z"
   },
   {
    "duration": 3,
    "start_time": "2022-03-04T13:18:12.490Z"
   },
   {
    "duration": 8,
    "start_time": "2022-03-04T13:18:12.496Z"
   },
   {
    "duration": 14,
    "start_time": "2022-03-04T13:18:12.506Z"
   },
   {
    "duration": 10,
    "start_time": "2022-03-04T13:18:12.522Z"
   },
   {
    "duration": 8,
    "start_time": "2022-03-04T13:18:12.563Z"
   },
   {
    "duration": 4,
    "start_time": "2022-03-04T13:18:12.572Z"
   },
   {
    "duration": 11,
    "start_time": "2022-03-04T13:18:12.578Z"
   },
   {
    "duration": 23,
    "start_time": "2022-03-04T13:18:12.591Z"
   },
   {
    "duration": 59,
    "start_time": "2022-03-04T13:18:12.615Z"
   },
   {
    "duration": 142,
    "start_time": "2022-03-04T13:18:12.676Z"
   },
   {
    "duration": 166,
    "start_time": "2022-03-04T13:18:12.820Z"
   },
   {
    "duration": 7,
    "start_time": "2022-03-04T13:18:12.988Z"
   },
   {
    "duration": 9656,
    "start_time": "2022-03-04T13:18:12.996Z"
   },
   {
    "duration": 173,
    "start_time": "2022-03-04T13:18:22.654Z"
   },
   {
    "duration": 1035,
    "start_time": "2022-03-04T13:18:22.829Z"
   },
   {
    "duration": 3506,
    "start_time": "2022-03-04T13:18:23.866Z"
   },
   {
    "duration": 66,
    "start_time": "2022-03-04T13:18:27.375Z"
   },
   {
    "duration": 79,
    "start_time": "2022-03-04T13:18:27.443Z"
   },
   {
    "duration": 421,
    "start_time": "2022-03-04T13:18:27.523Z"
   },
   {
    "duration": -1763,
    "start_time": "2022-03-04T13:18:29.709Z"
   },
   {
    "duration": -1767,
    "start_time": "2022-03-04T13:18:29.714Z"
   },
   {
    "duration": -1775,
    "start_time": "2022-03-04T13:18:29.722Z"
   },
   {
    "duration": 62,
    "start_time": "2022-03-04T13:19:22.102Z"
   },
   {
    "duration": 61,
    "start_time": "2022-03-04T13:19:32.506Z"
   },
   {
    "duration": 109,
    "start_time": "2022-03-04T13:19:39.058Z"
   },
   {
    "duration": 90,
    "start_time": "2022-03-04T13:19:46.675Z"
   },
   {
    "duration": 60,
    "start_time": "2022-03-04T13:19:52.327Z"
   },
   {
    "duration": 116,
    "start_time": "2022-03-04T13:19:56.448Z"
   },
   {
    "duration": 128,
    "start_time": "2022-03-04T13:20:03.936Z"
   },
   {
    "duration": 99,
    "start_time": "2022-03-04T13:20:10.166Z"
   },
   {
    "duration": 107,
    "start_time": "2022-03-04T13:20:13.957Z"
   },
   {
    "duration": 127,
    "start_time": "2022-03-04T13:20:18.541Z"
   },
   {
    "duration": 134,
    "start_time": "2022-03-04T13:20:23.834Z"
   },
   {
    "duration": 108,
    "start_time": "2022-03-04T13:20:27.557Z"
   },
   {
    "duration": 26,
    "start_time": "2022-03-04T13:27:19.966Z"
   },
   {
    "duration": 60,
    "start_time": "2022-03-04T13:28:37.735Z"
   },
   {
    "duration": 66,
    "start_time": "2022-03-04T13:28:41.223Z"
   },
   {
    "duration": 65,
    "start_time": "2022-03-04T13:30:35.117Z"
   },
   {
    "duration": 3204,
    "start_time": "2022-03-04T13:31:51.830Z"
   },
   {
    "duration": 3271,
    "start_time": "2022-03-04T13:32:12.202Z"
   },
   {
    "duration": 3237,
    "start_time": "2022-03-04T13:32:54.421Z"
   },
   {
    "duration": 3212,
    "start_time": "2022-03-04T13:33:17.375Z"
   },
   {
    "duration": 3238,
    "start_time": "2022-03-04T13:33:59.097Z"
   },
   {
    "duration": 3113,
    "start_time": "2022-03-04T13:34:07.184Z"
   },
   {
    "duration": 172,
    "start_time": "2022-03-04T13:34:44.450Z"
   },
   {
    "duration": 179,
    "start_time": "2022-03-04T13:35:25.715Z"
   },
   {
    "duration": 100,
    "start_time": "2022-03-04T13:35:45.508Z"
   },
   {
    "duration": 178,
    "start_time": "2022-03-04T13:35:50.383Z"
   },
   {
    "duration": 219,
    "start_time": "2022-03-04T13:36:13.946Z"
   },
   {
    "duration": 53,
    "start_time": "2022-03-04T13:38:27.220Z"
   },
   {
    "duration": 43,
    "start_time": "2022-03-04T13:38:33.266Z"
   },
   {
    "duration": 178,
    "start_time": "2022-03-04T13:38:37.486Z"
   },
   {
    "duration": 68,
    "start_time": "2022-03-04T13:38:41.207Z"
   },
   {
    "duration": 71,
    "start_time": "2022-03-04T13:38:50.628Z"
   },
   {
    "duration": 65,
    "start_time": "2022-03-04T13:38:55.616Z"
   },
   {
    "duration": 184,
    "start_time": "2022-03-04T13:40:34.725Z"
   },
   {
    "duration": 63,
    "start_time": "2022-03-04T13:40:40.623Z"
   },
   {
    "duration": 117,
    "start_time": "2022-03-04T13:40:57.403Z"
   },
   {
    "duration": 138,
    "start_time": "2022-03-04T13:41:07.729Z"
   },
   {
    "duration": 49,
    "start_time": "2022-03-04T13:41:18.309Z"
   },
   {
    "duration": 56,
    "start_time": "2022-03-04T13:50:57.515Z"
   },
   {
    "duration": 7,
    "start_time": "2022-03-04T13:51:44.521Z"
   },
   {
    "duration": 4,
    "start_time": "2022-03-04T13:52:53.402Z"
   },
   {
    "duration": 196,
    "start_time": "2022-03-04T13:54:15.039Z"
   },
   {
    "duration": 37,
    "start_time": "2022-03-04T14:00:33.616Z"
   },
   {
    "duration": 57,
    "start_time": "2022-03-04T14:02:11.392Z"
   },
   {
    "duration": 1119,
    "start_time": "2022-03-04T14:05:14.680Z"
   },
   {
    "duration": 24,
    "start_time": "2022-03-04T14:05:15.801Z"
   },
   {
    "duration": 8,
    "start_time": "2022-03-04T14:05:15.827Z"
   },
   {
    "duration": 27,
    "start_time": "2022-03-04T14:05:15.836Z"
   },
   {
    "duration": 4,
    "start_time": "2022-03-04T14:05:15.864Z"
   },
   {
    "duration": 17,
    "start_time": "2022-03-04T14:05:15.869Z"
   },
   {
    "duration": 4,
    "start_time": "2022-03-04T14:05:15.888Z"
   },
   {
    "duration": 14,
    "start_time": "2022-03-04T14:05:15.894Z"
   },
   {
    "duration": 9,
    "start_time": "2022-03-04T14:05:15.909Z"
   },
   {
    "duration": 6,
    "start_time": "2022-03-04T14:05:15.920Z"
   },
   {
    "duration": 4,
    "start_time": "2022-03-04T14:05:15.927Z"
   },
   {
    "duration": 36,
    "start_time": "2022-03-04T14:05:15.932Z"
   },
   {
    "duration": 23,
    "start_time": "2022-03-04T14:05:15.970Z"
   },
   {
    "duration": 36,
    "start_time": "2022-03-04T14:05:15.995Z"
   },
   {
    "duration": 162,
    "start_time": "2022-03-04T14:05:16.033Z"
   },
   {
    "duration": 163,
    "start_time": "2022-03-04T14:05:16.197Z"
   },
   {
    "duration": 8,
    "start_time": "2022-03-04T14:05:16.363Z"
   },
   {
    "duration": 9969,
    "start_time": "2022-03-04T14:05:16.373Z"
   },
   {
    "duration": 149,
    "start_time": "2022-03-04T14:05:26.344Z"
   },
   {
    "duration": 977,
    "start_time": "2022-03-04T14:05:26.494Z"
   },
   {
    "duration": 3216,
    "start_time": "2022-03-04T14:05:27.472Z"
   },
   {
    "duration": 50,
    "start_time": "2022-03-04T14:05:30.690Z"
   },
   {
    "duration": 119,
    "start_time": "2022-03-04T14:05:30.744Z"
   },
   {
    "duration": 3214,
    "start_time": "2022-03-04T14:05:30.866Z"
   },
   {
    "duration": 114,
    "start_time": "2022-03-04T14:05:34.082Z"
   },
   {
    "duration": 161,
    "start_time": "2022-03-04T14:05:34.198Z"
   },
   {
    "duration": 3217,
    "start_time": "2022-03-04T14:06:53.064Z"
   },
   {
    "duration": 3054,
    "start_time": "2022-03-04T14:07:14.645Z"
   },
   {
    "duration": 3259,
    "start_time": "2022-03-04T14:07:27.719Z"
   },
   {
    "duration": 3099,
    "start_time": "2022-03-04T14:07:38.874Z"
   },
   {
    "duration": 1087,
    "start_time": "2022-03-04T14:07:55.976Z"
   },
   {
    "duration": 23,
    "start_time": "2022-03-04T14:07:57.065Z"
   },
   {
    "duration": 8,
    "start_time": "2022-03-04T14:07:57.090Z"
   },
   {
    "duration": 15,
    "start_time": "2022-03-04T14:07:57.099Z"
   },
   {
    "duration": 6,
    "start_time": "2022-03-04T14:07:57.116Z"
   },
   {
    "duration": 17,
    "start_time": "2022-03-04T14:07:57.124Z"
   },
   {
    "duration": 20,
    "start_time": "2022-03-04T14:07:57.143Z"
   },
   {
    "duration": 12,
    "start_time": "2022-03-04T14:07:57.166Z"
   },
   {
    "duration": 9,
    "start_time": "2022-03-04T14:07:57.180Z"
   },
   {
    "duration": 8,
    "start_time": "2022-03-04T14:07:57.191Z"
   },
   {
    "duration": 4,
    "start_time": "2022-03-04T14:07:57.201Z"
   },
   {
    "duration": 10,
    "start_time": "2022-03-04T14:07:57.207Z"
   },
   {
    "duration": 56,
    "start_time": "2022-03-04T14:07:57.218Z"
   },
   {
    "duration": 34,
    "start_time": "2022-03-04T14:07:57.276Z"
   },
   {
    "duration": 151,
    "start_time": "2022-03-04T14:07:57.313Z"
   },
   {
    "duration": 178,
    "start_time": "2022-03-04T14:07:57.467Z"
   },
   {
    "duration": 16,
    "start_time": "2022-03-04T14:07:57.648Z"
   },
   {
    "duration": 9732,
    "start_time": "2022-03-04T14:07:57.665Z"
   },
   {
    "duration": 151,
    "start_time": "2022-03-04T14:08:07.399Z"
   },
   {
    "duration": 815,
    "start_time": "2022-03-04T14:08:07.552Z"
   },
   {
    "duration": 3370,
    "start_time": "2022-03-04T14:08:08.369Z"
   },
   {
    "duration": 57,
    "start_time": "2022-03-04T14:08:11.740Z"
   },
   {
    "duration": 72,
    "start_time": "2022-03-04T14:08:11.799Z"
   },
   {
    "duration": 3250,
    "start_time": "2022-03-04T14:08:11.873Z"
   },
   {
    "duration": 158,
    "start_time": "2022-03-04T14:08:15.125Z"
   },
   {
    "duration": 195,
    "start_time": "2022-03-04T14:08:15.285Z"
   },
   {
    "duration": 399,
    "start_time": "2022-03-05T09:05:48.845Z"
   },
   {
    "duration": 1305,
    "start_time": "2022-03-05T09:13:42.454Z"
   },
   {
    "duration": 661,
    "start_time": "2022-03-05T09:13:53.414Z"
   },
   {
    "duration": 1501,
    "start_time": "2022-03-05T09:14:00.920Z"
   },
   {
    "duration": 35,
    "start_time": "2022-03-05T09:14:02.423Z"
   },
   {
    "duration": 11,
    "start_time": "2022-03-05T09:14:02.461Z"
   },
   {
    "duration": 33,
    "start_time": "2022-03-05T09:14:02.475Z"
   },
   {
    "duration": 10,
    "start_time": "2022-03-05T09:14:02.510Z"
   },
   {
    "duration": 25,
    "start_time": "2022-03-05T09:14:02.522Z"
   },
   {
    "duration": 2,
    "start_time": "2022-03-05T09:14:02.550Z"
   },
   {
    "duration": 534,
    "start_time": "2022-03-05T09:14:02.556Z"
   },
   {
    "duration": -24,
    "start_time": "2022-03-05T09:14:03.118Z"
   },
   {
    "duration": -24,
    "start_time": "2022-03-05T09:14:03.120Z"
   },
   {
    "duration": -25,
    "start_time": "2022-03-05T09:14:03.123Z"
   },
   {
    "duration": -25,
    "start_time": "2022-03-05T09:14:03.125Z"
   },
   {
    "duration": -28,
    "start_time": "2022-03-05T09:14:03.130Z"
   },
   {
    "duration": -31,
    "start_time": "2022-03-05T09:14:03.135Z"
   },
   {
    "duration": -32,
    "start_time": "2022-03-05T09:14:03.138Z"
   },
   {
    "duration": -31,
    "start_time": "2022-03-05T09:14:03.140Z"
   },
   {
    "duration": -31,
    "start_time": "2022-03-05T09:14:03.142Z"
   },
   {
    "duration": -33,
    "start_time": "2022-03-05T09:14:03.146Z"
   },
   {
    "duration": -36,
    "start_time": "2022-03-05T09:14:03.151Z"
   },
   {
    "duration": -36,
    "start_time": "2022-03-05T09:14:03.154Z"
   },
   {
    "duration": -84,
    "start_time": "2022-03-05T09:14:03.204Z"
   },
   {
    "duration": -84,
    "start_time": "2022-03-05T09:14:03.207Z"
   },
   {
    "duration": -86,
    "start_time": "2022-03-05T09:14:03.211Z"
   },
   {
    "duration": -91,
    "start_time": "2022-03-05T09:14:03.218Z"
   },
   {
    "duration": -92,
    "start_time": "2022-03-05T09:14:03.221Z"
   },
   {
    "duration": -93,
    "start_time": "2022-03-05T09:14:03.225Z"
   },
   {
    "duration": -43,
    "start_time": "2022-03-05T09:14:03.230Z"
   },
   {
    "duration": 6,
    "start_time": "2022-03-05T09:15:47.181Z"
   },
   {
    "duration": 25,
    "start_time": "2022-03-05T09:15:54.802Z"
   },
   {
    "duration": 18,
    "start_time": "2022-03-05T09:15:57.121Z"
   },
   {
    "duration": 10,
    "start_time": "2022-03-05T09:15:57.445Z"
   },
   {
    "duration": 6,
    "start_time": "2022-03-05T09:15:59.971Z"
   },
   {
    "duration": 13,
    "start_time": "2022-03-05T09:16:01.282Z"
   },
   {
    "duration": 842,
    "start_time": "2022-03-05T09:16:02.020Z"
   },
   {
    "duration": 1576,
    "start_time": "2022-03-05T09:16:44.647Z"
   },
   {
    "duration": 34,
    "start_time": "2022-03-05T09:16:46.226Z"
   },
   {
    "duration": 23,
    "start_time": "2022-03-05T09:16:46.264Z"
   },
   {
    "duration": 26,
    "start_time": "2022-03-05T09:16:46.290Z"
   },
   {
    "duration": 5,
    "start_time": "2022-03-05T09:16:46.318Z"
   },
   {
    "duration": 26,
    "start_time": "2022-03-05T09:16:46.325Z"
   },
   {
    "duration": 34,
    "start_time": "2022-03-05T09:16:46.354Z"
   },
   {
    "duration": 8,
    "start_time": "2022-03-05T09:16:46.391Z"
   },
   {
    "duration": 1215,
    "start_time": "2022-03-05T09:16:46.405Z"
   },
   {
    "duration": -51,
    "start_time": "2022-03-05T09:16:47.675Z"
   },
   {
    "duration": -53,
    "start_time": "2022-03-05T09:16:47.679Z"
   },
   {
    "duration": -57,
    "start_time": "2022-03-05T09:16:47.685Z"
   },
   {
    "duration": -58,
    "start_time": "2022-03-05T09:16:47.688Z"
   },
   {
    "duration": -56,
    "start_time": "2022-03-05T09:16:47.689Z"
   },
   {
    "duration": -57,
    "start_time": "2022-03-05T09:16:47.692Z"
   },
   {
    "duration": -58,
    "start_time": "2022-03-05T09:16:47.695Z"
   },
   {
    "duration": -63,
    "start_time": "2022-03-05T09:16:47.702Z"
   },
   {
    "duration": -62,
    "start_time": "2022-03-05T09:16:47.704Z"
   },
   {
    "duration": -62,
    "start_time": "2022-03-05T09:16:47.706Z"
   },
   {
    "duration": -63,
    "start_time": "2022-03-05T09:16:47.708Z"
   },
   {
    "duration": -64,
    "start_time": "2022-03-05T09:16:47.711Z"
   },
   {
    "duration": -67,
    "start_time": "2022-03-05T09:16:47.716Z"
   },
   {
    "duration": -69,
    "start_time": "2022-03-05T09:16:47.719Z"
   },
   {
    "duration": -69,
    "start_time": "2022-03-05T09:16:47.721Z"
   },
   {
    "duration": -70,
    "start_time": "2022-03-05T09:16:47.723Z"
   },
   {
    "duration": -70,
    "start_time": "2022-03-05T09:16:47.725Z"
   },
   {
    "duration": -72,
    "start_time": "2022-03-05T09:16:47.728Z"
   },
   {
    "duration": -76,
    "start_time": "2022-03-05T09:16:47.734Z"
   },
   {
    "duration": 8,
    "start_time": "2022-03-05T09:17:09.951Z"
   },
   {
    "duration": 1297,
    "start_time": "2022-03-05T09:17:12.680Z"
   },
   {
    "duration": 7,
    "start_time": "2022-03-05T09:17:37.101Z"
   },
   {
    "duration": 4,
    "start_time": "2022-03-05T09:17:39.946Z"
   },
   {
    "duration": 1436,
    "start_time": "2022-03-05T09:18:04.171Z"
   },
   {
    "duration": 30,
    "start_time": "2022-03-05T09:18:05.609Z"
   },
   {
    "duration": 11,
    "start_time": "2022-03-05T09:18:05.642Z"
   },
   {
    "duration": 47,
    "start_time": "2022-03-05T09:18:05.657Z"
   },
   {
    "duration": 6,
    "start_time": "2022-03-05T09:18:05.707Z"
   },
   {
    "duration": 29,
    "start_time": "2022-03-05T09:18:05.716Z"
   },
   {
    "duration": 3,
    "start_time": "2022-03-05T09:18:05.748Z"
   },
   {
    "duration": 33,
    "start_time": "2022-03-05T09:18:05.754Z"
   },
   {
    "duration": 13,
    "start_time": "2022-03-05T09:18:05.790Z"
   },
   {
    "duration": 26,
    "start_time": "2022-03-05T09:18:05.805Z"
   },
   {
    "duration": 19,
    "start_time": "2022-03-05T09:18:05.833Z"
   },
   {
    "duration": 10,
    "start_time": "2022-03-05T09:18:05.854Z"
   },
   {
    "duration": 22,
    "start_time": "2022-03-05T09:18:05.866Z"
   },
   {
    "duration": 21,
    "start_time": "2022-03-05T09:18:05.890Z"
   },
   {
    "duration": 32,
    "start_time": "2022-03-05T09:18:05.914Z"
   },
   {
    "duration": 66,
    "start_time": "2022-03-05T09:18:05.948Z"
   },
   {
    "duration": 233,
    "start_time": "2022-03-05T09:18:06.016Z"
   },
   {
    "duration": 259,
    "start_time": "2022-03-05T09:18:06.251Z"
   },
   {
    "duration": 9,
    "start_time": "2022-03-05T09:18:06.512Z"
   },
   {
    "duration": 413,
    "start_time": "2022-03-05T09:18:06.523Z"
   },
   {
    "duration": -38,
    "start_time": "2022-03-05T09:18:06.977Z"
   },
   {
    "duration": -42,
    "start_time": "2022-03-05T09:18:06.982Z"
   },
   {
    "duration": -44,
    "start_time": "2022-03-05T09:18:06.985Z"
   },
   {
    "duration": -44,
    "start_time": "2022-03-05T09:18:06.987Z"
   },
   {
    "duration": -46,
    "start_time": "2022-03-05T09:18:06.990Z"
   },
   {
    "duration": -47,
    "start_time": "2022-03-05T09:18:06.992Z"
   },
   {
    "duration": -48,
    "start_time": "2022-03-05T09:18:06.995Z"
   },
   {
    "duration": -49,
    "start_time": "2022-03-05T09:18:06.997Z"
   },
   {
    "duration": 14942,
    "start_time": "2022-03-05T09:20:25.841Z"
   },
   {
    "duration": 15099,
    "start_time": "2022-03-05T09:20:57.422Z"
   },
   {
    "duration": 14521,
    "start_time": "2022-03-05T09:21:35.349Z"
   },
   {
    "duration": 14918,
    "start_time": "2022-03-05T09:21:59.410Z"
   },
   {
    "duration": 29211,
    "start_time": "2022-03-05T09:22:32.753Z"
   },
   {
    "duration": 29118,
    "start_time": "2022-03-05T09:23:57.692Z"
   },
   {
    "duration": 30438,
    "start_time": "2022-03-05T09:26:10.025Z"
   },
   {
    "duration": 390,
    "start_time": "2022-03-05T09:27:27.701Z"
   },
   {
    "duration": 2345,
    "start_time": "2022-03-05T09:27:43.754Z"
   },
   {
    "duration": 86,
    "start_time": "2022-03-05T09:29:30.077Z"
   },
   {
    "duration": 5382,
    "start_time": "2022-03-05T09:30:49.191Z"
   },
   {
    "duration": 4713,
    "start_time": "2022-03-05T09:31:02.523Z"
   },
   {
    "duration": 5412,
    "start_time": "2022-03-05T09:31:14.815Z"
   },
   {
    "duration": 2676,
    "start_time": "2022-03-05T09:31:28.977Z"
   },
   {
    "duration": 2940,
    "start_time": "2022-03-05T09:31:38.050Z"
   },
   {
    "duration": 3654,
    "start_time": "2022-03-05T09:31:44.749Z"
   },
   {
    "duration": 3729,
    "start_time": "2022-03-05T09:31:51.423Z"
   },
   {
    "duration": 4079,
    "start_time": "2022-03-05T09:32:02.481Z"
   },
   {
    "duration": 4452,
    "start_time": "2022-03-05T09:32:13.279Z"
   },
   {
    "duration": 4615,
    "start_time": "2022-03-05T09:32:25.453Z"
   },
   {
    "duration": 4755,
    "start_time": "2022-03-05T09:32:33.610Z"
   },
   {
    "duration": 5098,
    "start_time": "2022-03-05T09:32:41.330Z"
   },
   {
    "duration": 5733,
    "start_time": "2022-03-05T09:32:50.292Z"
   },
   {
    "duration": 5154,
    "start_time": "2022-03-05T09:33:01.601Z"
   },
   {
    "duration": 5556,
    "start_time": "2022-03-05T09:33:15.081Z"
   },
   {
    "duration": 5875,
    "start_time": "2022-03-05T09:33:24.013Z"
   },
   {
    "duration": 6110,
    "start_time": "2022-03-05T09:33:33.780Z"
   },
   {
    "duration": 6289,
    "start_time": "2022-03-05T09:33:44.199Z"
   },
   {
    "duration": 3792,
    "start_time": "2022-03-05T09:34:00.512Z"
   },
   {
    "duration": 86,
    "start_time": "2022-03-05T09:34:39.858Z"
   },
   {
    "duration": 5341,
    "start_time": "2022-03-05T09:37:04.432Z"
   },
   {
    "duration": 61,
    "start_time": "2022-03-05T09:38:50.652Z"
   },
   {
    "duration": 208,
    "start_time": "2022-03-05T09:38:58.081Z"
   },
   {
    "duration": 5300,
    "start_time": "2022-03-05T09:39:46.789Z"
   },
   {
    "duration": 3722,
    "start_time": "2022-03-05T09:40:01.644Z"
   },
   {
    "duration": 3933,
    "start_time": "2022-03-05T09:40:09.197Z"
   },
   {
    "duration": 8754,
    "start_time": "2022-03-05T09:41:33.244Z"
   },
   {
    "duration": 5688,
    "start_time": "2022-03-05T09:41:45.990Z"
   },
   {
    "duration": 5369,
    "start_time": "2022-03-05T09:41:56.497Z"
   },
   {
    "duration": 153,
    "start_time": "2022-03-05T09:42:01.869Z"
   },
   {
    "duration": 249,
    "start_time": "2022-03-05T09:42:04.969Z"
   },
   {
    "duration": 301,
    "start_time": "2022-03-05T09:50:01.828Z"
   },
   {
    "duration": 6,
    "start_time": "2022-03-05T09:50:45.058Z"
   },
   {
    "duration": 258,
    "start_time": "2022-03-05T09:50:50.444Z"
   },
   {
    "duration": 9,
    "start_time": "2022-03-05T09:51:03.685Z"
   },
   {
    "duration": 302,
    "start_time": "2022-03-05T09:51:08.296Z"
   },
   {
    "duration": 277,
    "start_time": "2022-03-05T09:51:16.562Z"
   },
   {
    "duration": 42,
    "start_time": "2022-03-05T09:51:28.156Z"
   },
   {
    "duration": 312,
    "start_time": "2022-03-05T09:51:35.213Z"
   },
   {
    "duration": 342,
    "start_time": "2022-03-05T09:51:41.213Z"
   },
   {
    "duration": 43,
    "start_time": "2022-03-05T09:51:45.221Z"
   },
   {
    "duration": 272,
    "start_time": "2022-03-05T09:52:21.681Z"
   },
   {
    "duration": 454,
    "start_time": "2022-03-05T09:52:59.762Z"
   },
   {
    "duration": 333,
    "start_time": "2022-03-05T09:53:10.894Z"
   },
   {
    "duration": 324,
    "start_time": "2022-03-05T09:54:32.871Z"
   },
   {
    "duration": 41,
    "start_time": "2022-03-05T09:55:14.717Z"
   },
   {
    "duration": 303,
    "start_time": "2022-03-05T10:03:10.697Z"
   },
   {
    "duration": 95,
    "start_time": "2022-03-05T10:04:04.048Z"
   },
   {
    "duration": 1459,
    "start_time": "2022-03-05T10:07:47.911Z"
   },
   {
    "duration": 32,
    "start_time": "2022-03-05T10:07:49.373Z"
   },
   {
    "duration": 14,
    "start_time": "2022-03-05T10:07:49.408Z"
   },
   {
    "duration": 63,
    "start_time": "2022-03-05T10:07:49.426Z"
   },
   {
    "duration": 7,
    "start_time": "2022-03-05T10:07:49.491Z"
   },
   {
    "duration": 32,
    "start_time": "2022-03-05T10:07:49.501Z"
   },
   {
    "duration": 4,
    "start_time": "2022-03-05T10:07:49.535Z"
   },
   {
    "duration": 6,
    "start_time": "2022-03-05T10:07:49.545Z"
   },
   {
    "duration": 6,
    "start_time": "2022-03-05T10:07:49.588Z"
   },
   {
    "duration": 30,
    "start_time": "2022-03-05T10:07:49.597Z"
   },
   {
    "duration": 24,
    "start_time": "2022-03-05T10:07:49.630Z"
   },
   {
    "duration": 41,
    "start_time": "2022-03-05T10:07:49.657Z"
   },
   {
    "duration": 6,
    "start_time": "2022-03-05T10:07:49.701Z"
   },
   {
    "duration": 16,
    "start_time": "2022-03-05T10:07:49.710Z"
   },
   {
    "duration": 83,
    "start_time": "2022-03-05T10:07:49.729Z"
   },
   {
    "duration": 74,
    "start_time": "2022-03-05T10:07:49.815Z"
   },
   {
    "duration": 233,
    "start_time": "2022-03-05T10:07:49.892Z"
   },
   {
    "duration": 261,
    "start_time": "2022-03-05T10:07:50.128Z"
   },
   {
    "duration": 9,
    "start_time": "2022-03-05T10:07:50.391Z"
   },
   {
    "duration": 29939,
    "start_time": "2022-03-05T10:07:50.402Z"
   },
   {
    "duration": 407,
    "start_time": "2022-03-05T10:08:20.343Z"
   },
   {
    "duration": 2356,
    "start_time": "2022-03-05T10:08:20.752Z"
   },
   {
    "duration": 6756,
    "start_time": "2022-03-05T10:08:23.112Z"
   },
   {
    "duration": 73,
    "start_time": "2022-03-05T10:08:29.870Z"
   },
   {
    "duration": 242,
    "start_time": "2022-03-05T10:08:29.945Z"
   },
   {
    "duration": 5693,
    "start_time": "2022-03-05T10:08:30.190Z"
   },
   {
    "duration": 151,
    "start_time": "2022-03-05T10:08:35.885Z"
   },
   {
    "duration": 301,
    "start_time": "2022-03-05T10:08:36.039Z"
   },
   {
    "duration": 51,
    "start_time": "2022-03-05T10:08:36.343Z"
   },
   {
    "duration": 319,
    "start_time": "2022-03-05T10:08:36.397Z"
   },
   {
    "duration": 1157,
    "start_time": "2022-03-05T11:54:50.426Z"
   },
   {
    "duration": 651,
    "start_time": "2022-03-05T11:54:51.585Z"
   },
   {
    "duration": 9,
    "start_time": "2022-03-05T11:54:52.238Z"
   },
   {
    "duration": 18,
    "start_time": "2022-03-05T11:54:52.249Z"
   },
   {
    "duration": 6,
    "start_time": "2022-03-05T11:54:52.274Z"
   },
   {
    "duration": 21,
    "start_time": "2022-03-05T11:54:52.281Z"
   },
   {
    "duration": 2,
    "start_time": "2022-03-05T11:54:52.304Z"
   },
   {
    "duration": 7,
    "start_time": "2022-03-05T11:54:52.308Z"
   },
   {
    "duration": 19,
    "start_time": "2022-03-05T11:54:52.318Z"
   },
   {
    "duration": 13,
    "start_time": "2022-03-05T11:54:52.339Z"
   },
   {
    "duration": 11,
    "start_time": "2022-03-05T11:54:52.354Z"
   },
   {
    "duration": 7,
    "start_time": "2022-03-05T11:54:52.367Z"
   },
   {
    "duration": 11,
    "start_time": "2022-03-05T11:54:52.375Z"
   },
   {
    "duration": 12,
    "start_time": "2022-03-05T11:54:52.388Z"
   },
   {
    "duration": 49,
    "start_time": "2022-03-05T11:54:52.401Z"
   },
   {
    "duration": 21,
    "start_time": "2022-03-05T11:55:08.599Z"
   },
   {
    "duration": 16,
    "start_time": "2022-03-05T11:55:11.230Z"
   },
   {
    "duration": 16,
    "start_time": "2022-03-05T11:55:13.189Z"
   },
   {
    "duration": 15,
    "start_time": "2022-03-05T11:55:15.495Z"
   },
   {
    "duration": 19,
    "start_time": "2022-03-05T11:55:17.508Z"
   }
  ],
  "kernelspec": {
   "display_name": "Python 3",
   "language": "python",
   "name": "python3"
  },
  "language_info": {
   "codemirror_mode": {
    "name": "ipython",
    "version": 3
   },
   "file_extension": ".py",
   "mimetype": "text/x-python",
   "name": "python",
   "nbconvert_exporter": "python",
   "pygments_lexer": "ipython3",
   "version": "3.11.1 (tags/v3.11.1:a7a450f, Dec  6 2022, 19:58:39) [MSC v.1934 64 bit (AMD64)]"
  },
  "toc": {
   "base_numbering": 1,
   "nav_menu": {},
   "number_sections": true,
   "sideBar": true,
   "skip_h1_title": true,
   "title_cell": "Содержание",
   "title_sidebar": "Contents",
   "toc_cell": true,
   "toc_position": {
    "height": "calc(100% - 180px)",
    "left": "10px",
    "top": "150px",
    "width": "350px"
   },
   "toc_section_display": true,
   "toc_window_display": false
  },
  "vscode": {
   "interpreter": {
    "hash": "2222dc89b496ec69b83d830c1ad45a6a88210099d7ef654a44ec7ec794afeaf0"
   }
  }
 },
 "nbformat": 4,
 "nbformat_minor": 2
}
