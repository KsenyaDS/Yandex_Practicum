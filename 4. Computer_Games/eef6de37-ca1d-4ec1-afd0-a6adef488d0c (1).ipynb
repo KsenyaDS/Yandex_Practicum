{
 "cells": [
  {
   "cell_type": "markdown",
   "metadata": {},
   "source": [
    "# Описание проекта"
   ]
  },
  {
   "cell_type": "markdown",
   "metadata": {},
   "source": [
    "\n",
    "Интернет-магазин «Стримчик», продаёт по всему миру компьютерные игры. Из открытых источников доступны исторические данные о продажах игр, оценки пользователей и экспертов, жанры и платформы (например, Xbox или PlayStation). Вам нужно выявить определяющие успешность игры закономерности. Это позволит сделать ставку на потенциально популярный продукт и спланировать рекламные кампании.\n",
    "Перед вами данные до 2016 года. Представим, что сейчас декабрь 2016 г., и вы планируете кампанию на 2017-й. Нужно отработать принцип работы с данными. Неважно, прогнозируете ли вы продажи на 2017 год по данным 2016-го или же 2027-й — по данным 2026 года.\n",
    "В наборе данных попадается аббревиатура ESRB (Entertainment Software Rating Board) — это ассоциация, определяющая возрастной рейтинг компьютерных игр. ESRB оценивает игровой контент и присваивает ему подходящую возрастную категорию, например, «Для взрослых», «Для детей младшего возраста» или «Для подростков»."
   ]
  },
  {
   "cell_type": "markdown",
   "metadata": {},
   "source": [
    "# Структура проекта\n",
    "1. [Изучение данных](#start)\n",
    "\n",
    "2. [Предобработка данных](#preprocessing)\n",
    "\n",
    "    * [Переименование столбцов](#rename)\n",
    "    * [Обработка пропущенных значений](#null)\n",
    "    * [Замена типа данных](#type)\n",
    "    * [Добавление расчетов](#calculation)\n",
    "    \n",
    "    \n",
    "3. [Исследовательский анализ данных](#analysis)\n",
    "\n",
    "    * [Года выпуска игр](#year)\n",
    "    * [Продажи по платформам](#platforms)\n",
    "    * [Продажи по платформам в актуальное время](#relevant)\n",
    "    * [Boxplot по глобальным продажам игр  по платформам](#boxplot)\n",
    "    * [Влияние на продажи отзывы пользователей и критиков](#reviews)\n",
    "    * [Продажи игр на других платформах](#other)\n",
    "    * [Общее распределение игр по жанрам](#genres)\n",
    "    * [Портрет пользователя по регионам](#regions)   \n",
    "    \n",
    "    \n",
    "4. [Проверка гипотез](#hypothesis)\n",
    "\n",
    "5. [Вывод](#conclusion)\n"
   ]
  },
  {
   "cell_type": "markdown",
   "metadata": {
    "toc": true
   },
   "source": [
    "\n"
   ]
  },
  {
   "cell_type": "markdown",
   "metadata": {},
   "source": [
    "# Шаг 1. Изучение данных\n",
    "<a id=\"start\"></a>"
   ]
  },
  {
   "cell_type": "markdown",
   "metadata": {},
   "source": [
    "На данном этапе откроем файл с данными, посмотрим несколько строк таблицы и изучим общую информацию о типах данных, пропущенных значениях, названиях столбцов."
   ]
  },
  {
   "cell_type": "markdown",
   "metadata": {},
   "source": [
    "Импортируем для начала основные библиотеки."
   ]
  },
  {
   "cell_type": "code",
   "execution_count": 3,
   "metadata": {},
   "outputs": [
    {
     "name": "stderr",
     "output_type": "stream",
     "text": [
      "<frozen importlib._bootstrap>:228: RuntimeWarning: scipy._lib.messagestream.MessageStream size changed, may indicate binary incompatibility. Expected 56 from C header, got 64 from PyObject\n"
     ]
    }
   ],
   "source": [
    "import pandas as pd\n",
    "import numpy as np\n",
    "import matplotlib.pyplot as plt\n",
    "from scipy import stats as st"
   ]
  },
  {
   "cell_type": "markdown",
   "metadata": {},
   "source": [
    "Прочитаем таблицу games."
   ]
  },
  {
   "cell_type": "code",
   "execution_count": 13,
   "metadata": {},
   "outputs": [],
   "source": [
    "df = pd.read_csv('games.csv')"
   ]
  },
  {
   "cell_type": "markdown",
   "metadata": {},
   "source": [
    "Изучим первые пятнадцать строк таблицы."
   ]
  },
  {
   "cell_type": "code",
   "execution_count": 14,
   "metadata": {},
   "outputs": [
    {
     "data": {
      "text/html": [
       "<div>\n",
       "<style scoped>\n",
       "    .dataframe tbody tr th:only-of-type {\n",
       "        vertical-align: middle;\n",
       "    }\n",
       "\n",
       "    .dataframe tbody tr th {\n",
       "        vertical-align: top;\n",
       "    }\n",
       "\n",
       "    .dataframe thead th {\n",
       "        text-align: right;\n",
       "    }\n",
       "</style>\n",
       "<table border=\"1\" class=\"dataframe\">\n",
       "  <thead>\n",
       "    <tr style=\"text-align: right;\">\n",
       "      <th></th>\n",
       "      <th>Name</th>\n",
       "      <th>Platform</th>\n",
       "      <th>Year_of_Release</th>\n",
       "      <th>Genre</th>\n",
       "      <th>NA_sales</th>\n",
       "      <th>EU_sales</th>\n",
       "      <th>JP_sales</th>\n",
       "      <th>Other_sales</th>\n",
       "      <th>Critic_Score</th>\n",
       "      <th>User_Score</th>\n",
       "      <th>Rating</th>\n",
       "    </tr>\n",
       "  </thead>\n",
       "  <tbody>\n",
       "    <tr>\n",
       "      <th>0</th>\n",
       "      <td>Wii Sports</td>\n",
       "      <td>Wii</td>\n",
       "      <td>2006.0</td>\n",
       "      <td>Sports</td>\n",
       "      <td>41.36</td>\n",
       "      <td>28.96</td>\n",
       "      <td>3.77</td>\n",
       "      <td>8.45</td>\n",
       "      <td>76.0</td>\n",
       "      <td>8</td>\n",
       "      <td>E</td>\n",
       "    </tr>\n",
       "    <tr>\n",
       "      <th>1</th>\n",
       "      <td>Super Mario Bros.</td>\n",
       "      <td>NES</td>\n",
       "      <td>1985.0</td>\n",
       "      <td>Platform</td>\n",
       "      <td>29.08</td>\n",
       "      <td>3.58</td>\n",
       "      <td>6.81</td>\n",
       "      <td>0.77</td>\n",
       "      <td>NaN</td>\n",
       "      <td>NaN</td>\n",
       "      <td>NaN</td>\n",
       "    </tr>\n",
       "    <tr>\n",
       "      <th>2</th>\n",
       "      <td>Mario Kart Wii</td>\n",
       "      <td>Wii</td>\n",
       "      <td>2008.0</td>\n",
       "      <td>Racing</td>\n",
       "      <td>15.68</td>\n",
       "      <td>12.76</td>\n",
       "      <td>3.79</td>\n",
       "      <td>3.29</td>\n",
       "      <td>82.0</td>\n",
       "      <td>8.3</td>\n",
       "      <td>E</td>\n",
       "    </tr>\n",
       "    <tr>\n",
       "      <th>3</th>\n",
       "      <td>Wii Sports Resort</td>\n",
       "      <td>Wii</td>\n",
       "      <td>2009.0</td>\n",
       "      <td>Sports</td>\n",
       "      <td>15.61</td>\n",
       "      <td>10.93</td>\n",
       "      <td>3.28</td>\n",
       "      <td>2.95</td>\n",
       "      <td>80.0</td>\n",
       "      <td>8</td>\n",
       "      <td>E</td>\n",
       "    </tr>\n",
       "    <tr>\n",
       "      <th>4</th>\n",
       "      <td>Pokemon Red/Pokemon Blue</td>\n",
       "      <td>GB</td>\n",
       "      <td>1996.0</td>\n",
       "      <td>Role-Playing</td>\n",
       "      <td>11.27</td>\n",
       "      <td>8.89</td>\n",
       "      <td>10.22</td>\n",
       "      <td>1.00</td>\n",
       "      <td>NaN</td>\n",
       "      <td>NaN</td>\n",
       "      <td>NaN</td>\n",
       "    </tr>\n",
       "    <tr>\n",
       "      <th>5</th>\n",
       "      <td>Tetris</td>\n",
       "      <td>GB</td>\n",
       "      <td>1989.0</td>\n",
       "      <td>Puzzle</td>\n",
       "      <td>23.20</td>\n",
       "      <td>2.26</td>\n",
       "      <td>4.22</td>\n",
       "      <td>0.58</td>\n",
       "      <td>NaN</td>\n",
       "      <td>NaN</td>\n",
       "      <td>NaN</td>\n",
       "    </tr>\n",
       "    <tr>\n",
       "      <th>6</th>\n",
       "      <td>New Super Mario Bros.</td>\n",
       "      <td>DS</td>\n",
       "      <td>2006.0</td>\n",
       "      <td>Platform</td>\n",
       "      <td>11.28</td>\n",
       "      <td>9.14</td>\n",
       "      <td>6.50</td>\n",
       "      <td>2.88</td>\n",
       "      <td>89.0</td>\n",
       "      <td>8.5</td>\n",
       "      <td>E</td>\n",
       "    </tr>\n",
       "    <tr>\n",
       "      <th>7</th>\n",
       "      <td>Wii Play</td>\n",
       "      <td>Wii</td>\n",
       "      <td>2006.0</td>\n",
       "      <td>Misc</td>\n",
       "      <td>13.96</td>\n",
       "      <td>9.18</td>\n",
       "      <td>2.93</td>\n",
       "      <td>2.84</td>\n",
       "      <td>58.0</td>\n",
       "      <td>6.6</td>\n",
       "      <td>E</td>\n",
       "    </tr>\n",
       "    <tr>\n",
       "      <th>8</th>\n",
       "      <td>New Super Mario Bros. Wii</td>\n",
       "      <td>Wii</td>\n",
       "      <td>2009.0</td>\n",
       "      <td>Platform</td>\n",
       "      <td>14.44</td>\n",
       "      <td>6.94</td>\n",
       "      <td>4.70</td>\n",
       "      <td>2.24</td>\n",
       "      <td>87.0</td>\n",
       "      <td>8.4</td>\n",
       "      <td>E</td>\n",
       "    </tr>\n",
       "    <tr>\n",
       "      <th>9</th>\n",
       "      <td>Duck Hunt</td>\n",
       "      <td>NES</td>\n",
       "      <td>1984.0</td>\n",
       "      <td>Shooter</td>\n",
       "      <td>26.93</td>\n",
       "      <td>0.63</td>\n",
       "      <td>0.28</td>\n",
       "      <td>0.47</td>\n",
       "      <td>NaN</td>\n",
       "      <td>NaN</td>\n",
       "      <td>NaN</td>\n",
       "    </tr>\n",
       "    <tr>\n",
       "      <th>10</th>\n",
       "      <td>Nintendogs</td>\n",
       "      <td>DS</td>\n",
       "      <td>2005.0</td>\n",
       "      <td>Simulation</td>\n",
       "      <td>9.05</td>\n",
       "      <td>10.95</td>\n",
       "      <td>1.93</td>\n",
       "      <td>2.74</td>\n",
       "      <td>NaN</td>\n",
       "      <td>NaN</td>\n",
       "      <td>NaN</td>\n",
       "    </tr>\n",
       "    <tr>\n",
       "      <th>11</th>\n",
       "      <td>Mario Kart DS</td>\n",
       "      <td>DS</td>\n",
       "      <td>2005.0</td>\n",
       "      <td>Racing</td>\n",
       "      <td>9.71</td>\n",
       "      <td>7.47</td>\n",
       "      <td>4.13</td>\n",
       "      <td>1.90</td>\n",
       "      <td>91.0</td>\n",
       "      <td>8.6</td>\n",
       "      <td>E</td>\n",
       "    </tr>\n",
       "    <tr>\n",
       "      <th>12</th>\n",
       "      <td>Pokemon Gold/Pokemon Silver</td>\n",
       "      <td>GB</td>\n",
       "      <td>1999.0</td>\n",
       "      <td>Role-Playing</td>\n",
       "      <td>9.00</td>\n",
       "      <td>6.18</td>\n",
       "      <td>7.20</td>\n",
       "      <td>0.71</td>\n",
       "      <td>NaN</td>\n",
       "      <td>NaN</td>\n",
       "      <td>NaN</td>\n",
       "    </tr>\n",
       "    <tr>\n",
       "      <th>13</th>\n",
       "      <td>Wii Fit</td>\n",
       "      <td>Wii</td>\n",
       "      <td>2007.0</td>\n",
       "      <td>Sports</td>\n",
       "      <td>8.92</td>\n",
       "      <td>8.03</td>\n",
       "      <td>3.60</td>\n",
       "      <td>2.15</td>\n",
       "      <td>80.0</td>\n",
       "      <td>7.7</td>\n",
       "      <td>E</td>\n",
       "    </tr>\n",
       "    <tr>\n",
       "      <th>14</th>\n",
       "      <td>Kinect Adventures!</td>\n",
       "      <td>X360</td>\n",
       "      <td>2010.0</td>\n",
       "      <td>Misc</td>\n",
       "      <td>15.00</td>\n",
       "      <td>4.89</td>\n",
       "      <td>0.24</td>\n",
       "      <td>1.69</td>\n",
       "      <td>61.0</td>\n",
       "      <td>6.3</td>\n",
       "      <td>E</td>\n",
       "    </tr>\n",
       "  </tbody>\n",
       "</table>\n",
       "</div>"
      ],
      "text/plain": [
       "                           Name Platform  Year_of_Release         Genre  \\\n",
       "0                    Wii Sports      Wii           2006.0        Sports   \n",
       "1             Super Mario Bros.      NES           1985.0      Platform   \n",
       "2                Mario Kart Wii      Wii           2008.0        Racing   \n",
       "3             Wii Sports Resort      Wii           2009.0        Sports   \n",
       "4      Pokemon Red/Pokemon Blue       GB           1996.0  Role-Playing   \n",
       "5                        Tetris       GB           1989.0        Puzzle   \n",
       "6         New Super Mario Bros.       DS           2006.0      Platform   \n",
       "7                      Wii Play      Wii           2006.0          Misc   \n",
       "8     New Super Mario Bros. Wii      Wii           2009.0      Platform   \n",
       "9                     Duck Hunt      NES           1984.0       Shooter   \n",
       "10                   Nintendogs       DS           2005.0    Simulation   \n",
       "11                Mario Kart DS       DS           2005.0        Racing   \n",
       "12  Pokemon Gold/Pokemon Silver       GB           1999.0  Role-Playing   \n",
       "13                      Wii Fit      Wii           2007.0        Sports   \n",
       "14           Kinect Adventures!     X360           2010.0          Misc   \n",
       "\n",
       "    NA_sales  EU_sales  JP_sales  Other_sales  Critic_Score User_Score Rating  \n",
       "0      41.36     28.96      3.77         8.45          76.0          8      E  \n",
       "1      29.08      3.58      6.81         0.77           NaN        NaN    NaN  \n",
       "2      15.68     12.76      3.79         3.29          82.0        8.3      E  \n",
       "3      15.61     10.93      3.28         2.95          80.0          8      E  \n",
       "4      11.27      8.89     10.22         1.00           NaN        NaN    NaN  \n",
       "5      23.20      2.26      4.22         0.58           NaN        NaN    NaN  \n",
       "6      11.28      9.14      6.50         2.88          89.0        8.5      E  \n",
       "7      13.96      9.18      2.93         2.84          58.0        6.6      E  \n",
       "8      14.44      6.94      4.70         2.24          87.0        8.4      E  \n",
       "9      26.93      0.63      0.28         0.47           NaN        NaN    NaN  \n",
       "10      9.05     10.95      1.93         2.74           NaN        NaN    NaN  \n",
       "11      9.71      7.47      4.13         1.90          91.0        8.6      E  \n",
       "12      9.00      6.18      7.20         0.71           NaN        NaN    NaN  \n",
       "13      8.92      8.03      3.60         2.15          80.0        7.7      E  \n",
       "14     15.00      4.89      0.24         1.69          61.0        6.3      E  "
      ]
     },
     "execution_count": 14,
     "metadata": {},
     "output_type": "execute_result"
    }
   ],
   "source": [
    "df.head(15)"
   ]
  },
  {
   "cell_type": "code",
   "execution_count": 125,
   "metadata": {},
   "outputs": [
    {
     "data": {
      "text/html": [
       "<div>\n",
       "<style scoped>\n",
       "    .dataframe tbody tr th:only-of-type {\n",
       "        vertical-align: middle;\n",
       "    }\n",
       "\n",
       "    .dataframe tbody tr th {\n",
       "        vertical-align: top;\n",
       "    }\n",
       "\n",
       "    .dataframe thead th {\n",
       "        text-align: right;\n",
       "    }\n",
       "</style>\n",
       "<table border=\"1\" class=\"dataframe\">\n",
       "  <thead>\n",
       "    <tr style=\"text-align: right;\">\n",
       "      <th></th>\n",
       "      <th>name</th>\n",
       "      <th>platform</th>\n",
       "      <th>year_of_release</th>\n",
       "      <th>genre</th>\n",
       "      <th>na_sales</th>\n",
       "      <th>eu_sales</th>\n",
       "      <th>jp_sales</th>\n",
       "      <th>other_sales</th>\n",
       "      <th>critic_score</th>\n",
       "      <th>user_score</th>\n",
       "      <th>rating</th>\n",
       "      <th>total_sales</th>\n",
       "    </tr>\n",
       "  </thead>\n",
       "  <tbody>\n",
       "    <tr>\n",
       "      <th>0</th>\n",
       "      <td>Wii Sports</td>\n",
       "      <td>Wii</td>\n",
       "      <td>2006</td>\n",
       "      <td>Sports</td>\n",
       "      <td>41.36</td>\n",
       "      <td>28.96</td>\n",
       "      <td>3.77</td>\n",
       "      <td>8.45</td>\n",
       "      <td>76</td>\n",
       "      <td>8.0</td>\n",
       "      <td>E</td>\n",
       "      <td>82.54</td>\n",
       "    </tr>\n",
       "    <tr>\n",
       "      <th>1</th>\n",
       "      <td>Super Mario Bros.</td>\n",
       "      <td>NES</td>\n",
       "      <td>1985</td>\n",
       "      <td>Platform</td>\n",
       "      <td>29.08</td>\n",
       "      <td>3.58</td>\n",
       "      <td>6.81</td>\n",
       "      <td>0.77</td>\n",
       "      <td>-1</td>\n",
       "      <td>-1.0</td>\n",
       "      <td>no_rating</td>\n",
       "      <td>40.24</td>\n",
       "    </tr>\n",
       "    <tr>\n",
       "      <th>2</th>\n",
       "      <td>Mario Kart Wii</td>\n",
       "      <td>Wii</td>\n",
       "      <td>2008</td>\n",
       "      <td>Racing</td>\n",
       "      <td>15.68</td>\n",
       "      <td>12.76</td>\n",
       "      <td>3.79</td>\n",
       "      <td>3.29</td>\n",
       "      <td>82</td>\n",
       "      <td>8.3</td>\n",
       "      <td>E</td>\n",
       "      <td>35.52</td>\n",
       "    </tr>\n",
       "    <tr>\n",
       "      <th>3</th>\n",
       "      <td>Wii Sports Resort</td>\n",
       "      <td>Wii</td>\n",
       "      <td>2009</td>\n",
       "      <td>Sports</td>\n",
       "      <td>15.61</td>\n",
       "      <td>10.93</td>\n",
       "      <td>3.28</td>\n",
       "      <td>2.95</td>\n",
       "      <td>80</td>\n",
       "      <td>8.0</td>\n",
       "      <td>E</td>\n",
       "      <td>32.77</td>\n",
       "    </tr>\n",
       "    <tr>\n",
       "      <th>4</th>\n",
       "      <td>Pokemon Red/Pokemon Blue</td>\n",
       "      <td>GB</td>\n",
       "      <td>1996</td>\n",
       "      <td>Role-Playing</td>\n",
       "      <td>11.27</td>\n",
       "      <td>8.89</td>\n",
       "      <td>10.22</td>\n",
       "      <td>1.00</td>\n",
       "      <td>-1</td>\n",
       "      <td>-1.0</td>\n",
       "      <td>no_rating</td>\n",
       "      <td>31.38</td>\n",
       "    </tr>\n",
       "    <tr>\n",
       "      <th>...</th>\n",
       "      <td>...</td>\n",
       "      <td>...</td>\n",
       "      <td>...</td>\n",
       "      <td>...</td>\n",
       "      <td>...</td>\n",
       "      <td>...</td>\n",
       "      <td>...</td>\n",
       "      <td>...</td>\n",
       "      <td>...</td>\n",
       "      <td>...</td>\n",
       "      <td>...</td>\n",
       "      <td>...</td>\n",
       "    </tr>\n",
       "    <tr>\n",
       "      <th>16710</th>\n",
       "      <td>Samurai Warriors: Sanada Maru</td>\n",
       "      <td>PS3</td>\n",
       "      <td>2016</td>\n",
       "      <td>Action</td>\n",
       "      <td>0.00</td>\n",
       "      <td>0.00</td>\n",
       "      <td>0.01</td>\n",
       "      <td>0.00</td>\n",
       "      <td>-1</td>\n",
       "      <td>-1.0</td>\n",
       "      <td>no_rating</td>\n",
       "      <td>0.01</td>\n",
       "    </tr>\n",
       "    <tr>\n",
       "      <th>16711</th>\n",
       "      <td>LMA Manager 2007</td>\n",
       "      <td>X360</td>\n",
       "      <td>2006</td>\n",
       "      <td>Sports</td>\n",
       "      <td>0.00</td>\n",
       "      <td>0.01</td>\n",
       "      <td>0.00</td>\n",
       "      <td>0.00</td>\n",
       "      <td>-1</td>\n",
       "      <td>-1.0</td>\n",
       "      <td>no_rating</td>\n",
       "      <td>0.01</td>\n",
       "    </tr>\n",
       "    <tr>\n",
       "      <th>16712</th>\n",
       "      <td>Haitaka no Psychedelica</td>\n",
       "      <td>PSV</td>\n",
       "      <td>2016</td>\n",
       "      <td>Adventure</td>\n",
       "      <td>0.00</td>\n",
       "      <td>0.00</td>\n",
       "      <td>0.01</td>\n",
       "      <td>0.00</td>\n",
       "      <td>-1</td>\n",
       "      <td>-1.0</td>\n",
       "      <td>no_rating</td>\n",
       "      <td>0.01</td>\n",
       "    </tr>\n",
       "    <tr>\n",
       "      <th>16713</th>\n",
       "      <td>Spirits &amp; Spells</td>\n",
       "      <td>GBA</td>\n",
       "      <td>2003</td>\n",
       "      <td>Platform</td>\n",
       "      <td>0.01</td>\n",
       "      <td>0.00</td>\n",
       "      <td>0.00</td>\n",
       "      <td>0.00</td>\n",
       "      <td>-1</td>\n",
       "      <td>-1.0</td>\n",
       "      <td>no_rating</td>\n",
       "      <td>0.01</td>\n",
       "    </tr>\n",
       "    <tr>\n",
       "      <th>16714</th>\n",
       "      <td>Winning Post 8 2016</td>\n",
       "      <td>PSV</td>\n",
       "      <td>2016</td>\n",
       "      <td>Simulation</td>\n",
       "      <td>0.00</td>\n",
       "      <td>0.00</td>\n",
       "      <td>0.01</td>\n",
       "      <td>0.00</td>\n",
       "      <td>-1</td>\n",
       "      <td>-1.0</td>\n",
       "      <td>no_rating</td>\n",
       "      <td>0.01</td>\n",
       "    </tr>\n",
       "  </tbody>\n",
       "</table>\n",
       "<p>16715 rows × 12 columns</p>\n",
       "</div>"
      ],
      "text/plain": [
       "                                name platform  year_of_release         genre  \\\n",
       "0                         Wii Sports      Wii             2006        Sports   \n",
       "1                  Super Mario Bros.      NES             1985      Platform   \n",
       "2                     Mario Kart Wii      Wii             2008        Racing   \n",
       "3                  Wii Sports Resort      Wii             2009        Sports   \n",
       "4           Pokemon Red/Pokemon Blue       GB             1996  Role-Playing   \n",
       "...                              ...      ...              ...           ...   \n",
       "16710  Samurai Warriors: Sanada Maru      PS3             2016        Action   \n",
       "16711               LMA Manager 2007     X360             2006        Sports   \n",
       "16712        Haitaka no Psychedelica      PSV             2016     Adventure   \n",
       "16713               Spirits & Spells      GBA             2003      Platform   \n",
       "16714            Winning Post 8 2016      PSV             2016    Simulation   \n",
       "\n",
       "       na_sales  eu_sales  jp_sales  other_sales  critic_score  user_score  \\\n",
       "0         41.36     28.96      3.77         8.45            76         8.0   \n",
       "1         29.08      3.58      6.81         0.77            -1        -1.0   \n",
       "2         15.68     12.76      3.79         3.29            82         8.3   \n",
       "3         15.61     10.93      3.28         2.95            80         8.0   \n",
       "4         11.27      8.89     10.22         1.00            -1        -1.0   \n",
       "...         ...       ...       ...          ...           ...         ...   \n",
       "16710      0.00      0.00      0.01         0.00            -1        -1.0   \n",
       "16711      0.00      0.01      0.00         0.00            -1        -1.0   \n",
       "16712      0.00      0.00      0.01         0.00            -1        -1.0   \n",
       "16713      0.01      0.00      0.00         0.00            -1        -1.0   \n",
       "16714      0.00      0.00      0.01         0.00            -1        -1.0   \n",
       "\n",
       "          rating  total_sales  \n",
       "0              E        82.54  \n",
       "1      no_rating        40.24  \n",
       "2              E        35.52  \n",
       "3              E        32.77  \n",
       "4      no_rating        31.38  \n",
       "...          ...          ...  \n",
       "16710  no_rating         0.01  \n",
       "16711  no_rating         0.01  \n",
       "16712  no_rating         0.01  \n",
       "16713  no_rating         0.01  \n",
       "16714  no_rating         0.01  \n",
       "\n",
       "[16715 rows x 12 columns]"
      ]
     },
     "execution_count": 125,
     "metadata": {},
     "output_type": "execute_result"
    }
   ],
   "source": [
    "df"
   ]
  },
  {
   "cell_type": "code",
   "execution_count": 127,
   "metadata": {},
   "outputs": [
    {
     "data": {
      "text/plain": [
       "11560"
      ]
     },
     "execution_count": 127,
     "metadata": {},
     "output_type": "execute_result"
    }
   ],
   "source": [
    "len(df['name'].unique())"
   ]
  },
  {
   "cell_type": "markdown",
   "metadata": {},
   "source": [
    "- Name — название игры\n",
    "- Platform — платформа\n",
    "- Year_of_Release — год выпуска\n",
    "- Genre — жанр игры\n",
    "- NA_sales — продажи в Северной Америке (миллионы проданных копий)\n",
    "- EU_sales — продажи в Европе (миллионы проданных копий)\n",
    "- JP_sales — продажи в Японии (миллионы проданных копий)\n",
    "- Other_sales — продажи в других странах (миллионы проданных копий)\n",
    "- Critic_Score — оценка критиков (максимум 100)\n",
    "- User_Score — оценка пользователей (максимум 10)\n",
    "- Rating — рейтинг от организации ESRB (англ. Entertainment Software Rating Board). Эта ассоциация определяет рейтинг компьютерных игр и присваивает им подходящую возрастную категорию."
   ]
  },
  {
   "cell_type": "markdown",
   "metadata": {},
   "source": [
    "Изучим общую информацию."
   ]
  },
  {
   "cell_type": "code",
   "execution_count": 15,
   "metadata": {},
   "outputs": [
    {
     "name": "stdout",
     "output_type": "stream",
     "text": [
      "<class 'pandas.core.frame.DataFrame'>\n",
      "RangeIndex: 16715 entries, 0 to 16714\n",
      "Data columns (total 11 columns):\n",
      " #   Column           Non-Null Count  Dtype  \n",
      "---  ------           --------------  -----  \n",
      " 0   Name             16713 non-null  object \n",
      " 1   Platform         16715 non-null  object \n",
      " 2   Year_of_Release  16446 non-null  float64\n",
      " 3   Genre            16713 non-null  object \n",
      " 4   NA_sales         16715 non-null  float64\n",
      " 5   EU_sales         16715 non-null  float64\n",
      " 6   JP_sales         16715 non-null  float64\n",
      " 7   Other_sales      16715 non-null  float64\n",
      " 8   Critic_Score     8137 non-null   float64\n",
      " 9   User_Score       10014 non-null  object \n",
      " 10  Rating           9949 non-null   object \n",
      "dtypes: float64(6), object(5)\n",
      "memory usage: 1.4+ MB\n"
     ]
    }
   ],
   "source": [
    "games.info()"
   ]
  },
  {
   "cell_type": "markdown",
   "metadata": {},
   "source": [
    "# Вывод"
   ]
  },
  {
   "cell_type": "markdown",
   "metadata": {},
   "source": [
    "- Названия столбцов в верхнем регистре. Нужно привести названия к нижнему регистру.\n",
    "- В столбцах `Name`, `Genre`, `Critic_Score`, `Year_of_Release`,`User_Score`, `Rating` есть пропущенные значения. Необходимо обработать пропуски. \n",
    "- Столбцы `Year_of_Release` и `Critic_Score` типа данных float нужно преобразовать к типу данных int.\n",
    "\n",
    "Приступим к подготовке данных. "
   ]
  },
  {
   "cell_type": "markdown",
   "metadata": {},
   "source": [
    "# Шаг 2. Предобработка данных\n",
    "<a id=\"preprocessing\"></a>"
   ]
  },
  {
   "cell_type": "markdown",
   "metadata": {},
   "source": [
    "Подготовим данные:\n",
    "- переименуем столбцы\n",
    "- заполним пропуски\n",
    "- приведем данные к нужным типам"
   ]
  },
  {
   "cell_type": "markdown",
   "metadata": {},
   "source": [
    "## 2.1. Переименование столбцов\n",
    "<a id=\"rename\"></a>"
   ]
  },
  {
   "cell_type": "markdown",
   "metadata": {},
   "source": [
    "Приведем названия столбцов к нижнему регистру."
   ]
  },
  {
   "cell_type": "code",
   "execution_count": 16,
   "metadata": {},
   "outputs": [],
   "source": [
    "df.columns = df.columns.str.lower()"
   ]
  },
  {
   "cell_type": "markdown",
   "metadata": {},
   "source": [
    "Проверим название столбцов."
   ]
  },
  {
   "cell_type": "code",
   "execution_count": 17,
   "metadata": {},
   "outputs": [
    {
     "data": {
      "text/plain": [
       "Index(['name', 'platform', 'year_of_release', 'genre', 'na_sales', 'eu_sales',\n",
       "       'jp_sales', 'other_sales', 'critic_score', 'user_score', 'rating'],\n",
       "      dtype='object')"
      ]
     },
     "execution_count": 17,
     "metadata": {},
     "output_type": "execute_result"
    }
   ],
   "source": [
    "df.columns"
   ]
  },
  {
   "cell_type": "markdown",
   "metadata": {},
   "source": [
    "Теперь все в порядке."
   ]
  },
  {
   "cell_type": "markdown",
   "metadata": {},
   "source": [
    "## 2.2. Обработка пропущенных значений\n",
    "<a id=\"null\"></a>"
   ]
  },
  {
   "cell_type": "markdown",
   "metadata": {},
   "source": [
    "Посмотрим на кол-во пропусков в процентом соотношении."
   ]
  },
  {
   "cell_type": "code",
   "execution_count": 7,
   "metadata": {},
   "outputs": [
    {
     "data": {
      "text/plain": [
       "name                0.011965\n",
       "platform            0.000000\n",
       "year_of_release     1.609333\n",
       "genre               0.011965\n",
       "na_sales            0.000000\n",
       "eu_sales            0.000000\n",
       "jp_sales            0.000000\n",
       "other_sales         0.000000\n",
       "critic_score       51.319174\n",
       "user_score         40.089740\n",
       "rating             40.478612\n",
       "dtype: float64"
      ]
     },
     "execution_count": 7,
     "metadata": {},
     "output_type": "execute_result"
    }
   ],
   "source": [
    "games.isna().mean()*100"
   ]
  },
  {
   "cell_type": "markdown",
   "metadata": {},
   "source": [
    "Большое кол-во пропусков в столбцах `сritic_Score`, `user_Score`, `rating`. В остальных столбцах меньше 2 %."
   ]
  },
  {
   "cell_type": "markdown",
   "metadata": {},
   "source": [
    "Изучим сначала строки с минимальными пропусками. В столбцах `genre` и `name`."
   ]
  },
  {
   "cell_type": "code",
   "execution_count": 19,
   "metadata": {},
   "outputs": [
    {
     "data": {
      "text/html": [
       "<div>\n",
       "<style scoped>\n",
       "    .dataframe tbody tr th:only-of-type {\n",
       "        vertical-align: middle;\n",
       "    }\n",
       "\n",
       "    .dataframe tbody tr th {\n",
       "        vertical-align: top;\n",
       "    }\n",
       "\n",
       "    .dataframe thead th {\n",
       "        text-align: right;\n",
       "    }\n",
       "</style>\n",
       "<table border=\"1\" class=\"dataframe\">\n",
       "  <thead>\n",
       "    <tr style=\"text-align: right;\">\n",
       "      <th></th>\n",
       "      <th>name</th>\n",
       "      <th>platform</th>\n",
       "      <th>year_of_release</th>\n",
       "      <th>genre</th>\n",
       "      <th>na_sales</th>\n",
       "      <th>eu_sales</th>\n",
       "      <th>jp_sales</th>\n",
       "      <th>other_sales</th>\n",
       "      <th>critic_score</th>\n",
       "      <th>user_score</th>\n",
       "      <th>rating</th>\n",
       "    </tr>\n",
       "  </thead>\n",
       "  <tbody>\n",
       "    <tr>\n",
       "      <th>659</th>\n",
       "      <td>NaN</td>\n",
       "      <td>GEN</td>\n",
       "      <td>1993.0</td>\n",
       "      <td>NaN</td>\n",
       "      <td>1.78</td>\n",
       "      <td>0.53</td>\n",
       "      <td>0.00</td>\n",
       "      <td>0.08</td>\n",
       "      <td>NaN</td>\n",
       "      <td>NaN</td>\n",
       "      <td>NaN</td>\n",
       "    </tr>\n",
       "    <tr>\n",
       "      <th>14244</th>\n",
       "      <td>NaN</td>\n",
       "      <td>GEN</td>\n",
       "      <td>1993.0</td>\n",
       "      <td>NaN</td>\n",
       "      <td>0.00</td>\n",
       "      <td>0.00</td>\n",
       "      <td>0.03</td>\n",
       "      <td>0.00</td>\n",
       "      <td>NaN</td>\n",
       "      <td>NaN</td>\n",
       "      <td>NaN</td>\n",
       "    </tr>\n",
       "  </tbody>\n",
       "</table>\n",
       "</div>"
      ],
      "text/plain": [
       "      name platform  year_of_release genre  na_sales  eu_sales  jp_sales  \\\n",
       "659    NaN      GEN           1993.0   NaN      1.78      0.53      0.00   \n",
       "14244  NaN      GEN           1993.0   NaN      0.00      0.00      0.03   \n",
       "\n",
       "       other_sales  critic_score user_score rating  \n",
       "659           0.08           NaN        NaN    NaN  \n",
       "14244         0.00           NaN        NaN    NaN  "
      ]
     },
     "execution_count": 19,
     "metadata": {},
     "output_type": "execute_result"
    }
   ],
   "source": [
    "df[df['genre'].isna()]"
   ]
  },
  {
   "cell_type": "markdown",
   "metadata": {},
   "source": [
    "Пропуски оказались в одних и тех же строках."
   ]
  },
  {
   "cell_type": "code",
   "execution_count": 20,
   "metadata": {},
   "outputs": [
    {
     "data": {
      "text/html": [
       "<div>\n",
       "<style scoped>\n",
       "    .dataframe tbody tr th:only-of-type {\n",
       "        vertical-align: middle;\n",
       "    }\n",
       "\n",
       "    .dataframe tbody tr th {\n",
       "        vertical-align: top;\n",
       "    }\n",
       "\n",
       "    .dataframe thead th {\n",
       "        text-align: right;\n",
       "    }\n",
       "</style>\n",
       "<table border=\"1\" class=\"dataframe\">\n",
       "  <thead>\n",
       "    <tr style=\"text-align: right;\">\n",
       "      <th></th>\n",
       "      <th>name</th>\n",
       "      <th>platform</th>\n",
       "      <th>year_of_release</th>\n",
       "      <th>genre</th>\n",
       "      <th>na_sales</th>\n",
       "      <th>eu_sales</th>\n",
       "      <th>jp_sales</th>\n",
       "      <th>other_sales</th>\n",
       "      <th>critic_score</th>\n",
       "      <th>user_score</th>\n",
       "      <th>rating</th>\n",
       "    </tr>\n",
       "  </thead>\n",
       "  <tbody>\n",
       "    <tr>\n",
       "      <th>659</th>\n",
       "      <td>NaN</td>\n",
       "      <td>GEN</td>\n",
       "      <td>1993.0</td>\n",
       "      <td>NaN</td>\n",
       "      <td>1.78</td>\n",
       "      <td>0.53</td>\n",
       "      <td>0.00</td>\n",
       "      <td>0.08</td>\n",
       "      <td>NaN</td>\n",
       "      <td>NaN</td>\n",
       "      <td>NaN</td>\n",
       "    </tr>\n",
       "    <tr>\n",
       "      <th>14244</th>\n",
       "      <td>NaN</td>\n",
       "      <td>GEN</td>\n",
       "      <td>1993.0</td>\n",
       "      <td>NaN</td>\n",
       "      <td>0.00</td>\n",
       "      <td>0.00</td>\n",
       "      <td>0.03</td>\n",
       "      <td>0.00</td>\n",
       "      <td>NaN</td>\n",
       "      <td>NaN</td>\n",
       "      <td>NaN</td>\n",
       "    </tr>\n",
       "  </tbody>\n",
       "</table>\n",
       "</div>"
      ],
      "text/plain": [
       "      name platform  year_of_release genre  na_sales  eu_sales  jp_sales  \\\n",
       "659    NaN      GEN           1993.0   NaN      1.78      0.53      0.00   \n",
       "14244  NaN      GEN           1993.0   NaN      0.00      0.00      0.03   \n",
       "\n",
       "       other_sales  critic_score user_score rating  \n",
       "659           0.08           NaN        NaN    NaN  \n",
       "14244         0.00           NaN        NaN    NaN  "
      ]
     },
     "execution_count": 20,
     "metadata": {},
     "output_type": "execute_result"
    }
   ],
   "source": [
    "df[df['name'].isna()]"
   ]
  },
  {
   "cell_type": "markdown",
   "metadata": {},
   "source": [
    "Можно удалить строки или заменить на 'Unknown', чтобы не терять данные. Выберем второй вариант."
   ]
  },
  {
   "cell_type": "code",
   "execution_count": 24,
   "metadata": {},
   "outputs": [],
   "source": [
    "df['name'] = df['name'].fillna('Unknown')"
   ]
  },
  {
   "cell_type": "code",
   "execution_count": 25,
   "metadata": {},
   "outputs": [],
   "source": [
    "df['genre'] = df['genre'].fillna('Unknown')"
   ]
  },
  {
   "cell_type": "markdown",
   "metadata": {},
   "source": [
    "В столбце `year_of_release` заменим значения на маску -2222. "
   ]
  },
  {
   "cell_type": "code",
   "execution_count": 26,
   "metadata": {},
   "outputs": [],
   "source": [
    "df['year_of_release'] = df['year_of_release'].fillna('2222')"
   ]
  },
  {
   "cell_type": "markdown",
   "metadata": {},
   "source": [
    "Проверим значения в столбце `user_score`."
   ]
  },
  {
   "cell_type": "code",
   "execution_count": 27,
   "metadata": {},
   "outputs": [
    {
     "data": {
      "text/plain": [
       "array(['8', nan, '8.3', '8.5', '6.6', '8.4', '8.6', '7.7', '6.3', '7.4',\n",
       "       '8.2', '9', '7.9', '8.1', '8.7', '7.1', '3.4', '5.3', '4.8', '3.2',\n",
       "       '8.9', '6.4', '7.8', '7.5', '2.6', '7.2', '9.2', '7', '7.3', '4.3',\n",
       "       '7.6', '5.7', '5', '9.1', '6.5', 'tbd', '8.8', '6.9', '9.4', '6.8',\n",
       "       '6.1', '6.7', '5.4', '4', '4.9', '4.5', '9.3', '6.2', '4.2', '6',\n",
       "       '3.7', '4.1', '5.8', '5.6', '5.5', '4.4', '4.6', '5.9', '3.9',\n",
       "       '3.1', '2.9', '5.2', '3.3', '4.7', '5.1', '3.5', '2.5', '1.9', '3',\n",
       "       '2.7', '2.2', '2', '9.5', '2.1', '3.6', '2.8', '1.8', '3.8', '0',\n",
       "       '1.6', '9.6', '2.4', '1.7', '1.1', '0.3', '1.5', '0.7', '1.2',\n",
       "       '2.3', '0.5', '1.3', '0.2', '0.6', '1.4', '0.9', '1', '9.7'],\n",
       "      dtype=object)"
      ]
     },
     "execution_count": 27,
     "metadata": {},
     "output_type": "execute_result"
    }
   ],
   "source": [
    "df['user_score'].unique()"
   ]
  },
  {
   "cell_type": "markdown",
   "metadata": {},
   "source": [
    "Cреди численных значений встречается аббревиатура 'tbd'. Аббревиатура расшифровывается - To Be Determined, то есть \"Будет определено\". Посчитаем их кол-во."
   ]
  },
  {
   "cell_type": "code",
   "execution_count": 29,
   "metadata": {},
   "outputs": [
    {
     "data": {
      "text/plain": [
       "2424"
      ]
     },
     "execution_count": 29,
     "metadata": {},
     "output_type": "execute_result"
    }
   ],
   "source": [
    "df[df['user_score'] == 'tbd']['user_score'].count()"
   ]
  },
  {
   "cell_type": "markdown",
   "metadata": {},
   "source": [
    "Заменим значение пока на nan, т.к. значение не определено."
   ]
  },
  {
   "cell_type": "code",
   "execution_count": 31,
   "metadata": {},
   "outputs": [],
   "source": [
    "df.loc[df['user_score'] == 'tbd','user_score'] = np.nan"
   ]
  },
  {
   "cell_type": "markdown",
   "metadata": {},
   "source": [
    "Преобразуем столбец к типу float, чтобы вычесть корреляцию."
   ]
  },
  {
   "cell_type": "code",
   "execution_count": 33,
   "metadata": {},
   "outputs": [],
   "source": [
    "df['user_score'] = df.user_score.astype('float')"
   ]
  },
  {
   "cell_type": "markdown",
   "metadata": {},
   "source": [
    "Посмотрим матрицу корреляции."
   ]
  },
  {
   "cell_type": "code",
   "execution_count": 34,
   "metadata": {},
   "outputs": [
    {
     "data": {
      "text/html": [
       "<div>\n",
       "<style scoped>\n",
       "    .dataframe tbody tr th:only-of-type {\n",
       "        vertical-align: middle;\n",
       "    }\n",
       "\n",
       "    .dataframe tbody tr th {\n",
       "        vertical-align: top;\n",
       "    }\n",
       "\n",
       "    .dataframe thead th {\n",
       "        text-align: right;\n",
       "    }\n",
       "</style>\n",
       "<table border=\"1\" class=\"dataframe\">\n",
       "  <thead>\n",
       "    <tr style=\"text-align: right;\">\n",
       "      <th></th>\n",
       "      <th>na_sales</th>\n",
       "      <th>eu_sales</th>\n",
       "      <th>jp_sales</th>\n",
       "      <th>other_sales</th>\n",
       "      <th>critic_score</th>\n",
       "      <th>user_score</th>\n",
       "    </tr>\n",
       "  </thead>\n",
       "  <tbody>\n",
       "    <tr>\n",
       "      <th>na_sales</th>\n",
       "      <td>1.000000</td>\n",
       "      <td>0.765335</td>\n",
       "      <td>0.449594</td>\n",
       "      <td>0.638649</td>\n",
       "      <td>0.240755</td>\n",
       "      <td>0.086200</td>\n",
       "    </tr>\n",
       "    <tr>\n",
       "      <th>eu_sales</th>\n",
       "      <td>0.765335</td>\n",
       "      <td>1.000000</td>\n",
       "      <td>0.435061</td>\n",
       "      <td>0.722792</td>\n",
       "      <td>0.220752</td>\n",
       "      <td>0.055337</td>\n",
       "    </tr>\n",
       "    <tr>\n",
       "      <th>jp_sales</th>\n",
       "      <td>0.449594</td>\n",
       "      <td>0.435061</td>\n",
       "      <td>1.000000</td>\n",
       "      <td>0.291089</td>\n",
       "      <td>0.152593</td>\n",
       "      <td>0.125598</td>\n",
       "    </tr>\n",
       "    <tr>\n",
       "      <th>other_sales</th>\n",
       "      <td>0.638649</td>\n",
       "      <td>0.722792</td>\n",
       "      <td>0.291089</td>\n",
       "      <td>1.000000</td>\n",
       "      <td>0.198554</td>\n",
       "      <td>0.057119</td>\n",
       "    </tr>\n",
       "    <tr>\n",
       "      <th>critic_score</th>\n",
       "      <td>0.240755</td>\n",
       "      <td>0.220752</td>\n",
       "      <td>0.152593</td>\n",
       "      <td>0.198554</td>\n",
       "      <td>1.000000</td>\n",
       "      <td>0.580878</td>\n",
       "    </tr>\n",
       "    <tr>\n",
       "      <th>user_score</th>\n",
       "      <td>0.086200</td>\n",
       "      <td>0.055337</td>\n",
       "      <td>0.125598</td>\n",
       "      <td>0.057119</td>\n",
       "      <td>0.580878</td>\n",
       "      <td>1.000000</td>\n",
       "    </tr>\n",
       "  </tbody>\n",
       "</table>\n",
       "</div>"
      ],
      "text/plain": [
       "              na_sales  eu_sales  jp_sales  other_sales  critic_score  \\\n",
       "na_sales      1.000000  0.765335  0.449594     0.638649      0.240755   \n",
       "eu_sales      0.765335  1.000000  0.435061     0.722792      0.220752   \n",
       "jp_sales      0.449594  0.435061  1.000000     0.291089      0.152593   \n",
       "other_sales   0.638649  0.722792  0.291089     1.000000      0.198554   \n",
       "critic_score  0.240755  0.220752  0.152593     0.198554      1.000000   \n",
       "user_score    0.086200  0.055337  0.125598     0.057119      0.580878   \n",
       "\n",
       "              user_score  \n",
       "na_sales        0.086200  \n",
       "eu_sales        0.055337  \n",
       "jp_sales        0.125598  \n",
       "other_sales     0.057119  \n",
       "critic_score    0.580878  \n",
       "user_score      1.000000  "
      ]
     },
     "execution_count": 34,
     "metadata": {},
     "output_type": "execute_result"
    }
   ],
   "source": [
    "df.corr()"
   ]
  },
  {
   "cell_type": "markdown",
   "metadata": {},
   "source": [
    "Корреляция между `user_score` и `critic_score` высокая, но в данных столбцах много пропусков и эти пропуски совпадают. С остальными столбцами корреляция низкая, поэтому заменим пропущенные значения на маску, например -1. В стобце `rating` на no_rating. "
   ]
  },
  {
   "cell_type": "code",
   "execution_count": 35,
   "metadata": {},
   "outputs": [],
   "source": [
    "df['user_score'] = df['user_score'].fillna(-1)\n",
    "df['critic_score'] = df['critic_score'].fillna(-1)\n",
    "df['rating'] = df['rating'].fillna('no_rating')"
   ]
  },
  {
   "cell_type": "markdown",
   "metadata": {},
   "source": [
    "Посчитаем кол-во пропусков снова."
   ]
  },
  {
   "cell_type": "code",
   "execution_count": 36,
   "metadata": {},
   "outputs": [
    {
     "data": {
      "text/plain": [
       "name               0\n",
       "platform           0\n",
       "year_of_release    0\n",
       "genre              0\n",
       "na_sales           0\n",
       "eu_sales           0\n",
       "jp_sales           0\n",
       "other_sales        0\n",
       "critic_score       0\n",
       "user_score         0\n",
       "rating             0\n",
       "dtype: int64"
      ]
     },
     "execution_count": 36,
     "metadata": {},
     "output_type": "execute_result"
    }
   ],
   "source": [
    "df.isna().sum()"
   ]
  },
  {
   "cell_type": "markdown",
   "metadata": {},
   "source": [
    "## 2.3. Приведение типов данных\n",
    "<a id=\"type\"></a>"
   ]
  },
  {
   "cell_type": "markdown",
   "metadata": {},
   "source": [
    "Посмотрим на таблицу."
   ]
  },
  {
   "cell_type": "code",
   "execution_count": 37,
   "metadata": {},
   "outputs": [
    {
     "data": {
      "text/html": [
       "<div>\n",
       "<style scoped>\n",
       "    .dataframe tbody tr th:only-of-type {\n",
       "        vertical-align: middle;\n",
       "    }\n",
       "\n",
       "    .dataframe tbody tr th {\n",
       "        vertical-align: top;\n",
       "    }\n",
       "\n",
       "    .dataframe thead th {\n",
       "        text-align: right;\n",
       "    }\n",
       "</style>\n",
       "<table border=\"1\" class=\"dataframe\">\n",
       "  <thead>\n",
       "    <tr style=\"text-align: right;\">\n",
       "      <th></th>\n",
       "      <th>name</th>\n",
       "      <th>platform</th>\n",
       "      <th>year_of_release</th>\n",
       "      <th>genre</th>\n",
       "      <th>na_sales</th>\n",
       "      <th>eu_sales</th>\n",
       "      <th>jp_sales</th>\n",
       "      <th>other_sales</th>\n",
       "      <th>critic_score</th>\n",
       "      <th>user_score</th>\n",
       "      <th>rating</th>\n",
       "    </tr>\n",
       "  </thead>\n",
       "  <tbody>\n",
       "    <tr>\n",
       "      <th>0</th>\n",
       "      <td>Wii Sports</td>\n",
       "      <td>Wii</td>\n",
       "      <td>2006.0</td>\n",
       "      <td>Sports</td>\n",
       "      <td>41.36</td>\n",
       "      <td>28.96</td>\n",
       "      <td>3.77</td>\n",
       "      <td>8.45</td>\n",
       "      <td>76.0</td>\n",
       "      <td>8.0</td>\n",
       "      <td>E</td>\n",
       "    </tr>\n",
       "    <tr>\n",
       "      <th>1</th>\n",
       "      <td>Super Mario Bros.</td>\n",
       "      <td>NES</td>\n",
       "      <td>1985.0</td>\n",
       "      <td>Platform</td>\n",
       "      <td>29.08</td>\n",
       "      <td>3.58</td>\n",
       "      <td>6.81</td>\n",
       "      <td>0.77</td>\n",
       "      <td>-1.0</td>\n",
       "      <td>-1.0</td>\n",
       "      <td>no_rating</td>\n",
       "    </tr>\n",
       "    <tr>\n",
       "      <th>2</th>\n",
       "      <td>Mario Kart Wii</td>\n",
       "      <td>Wii</td>\n",
       "      <td>2008.0</td>\n",
       "      <td>Racing</td>\n",
       "      <td>15.68</td>\n",
       "      <td>12.76</td>\n",
       "      <td>3.79</td>\n",
       "      <td>3.29</td>\n",
       "      <td>82.0</td>\n",
       "      <td>8.3</td>\n",
       "      <td>E</td>\n",
       "    </tr>\n",
       "    <tr>\n",
       "      <th>3</th>\n",
       "      <td>Wii Sports Resort</td>\n",
       "      <td>Wii</td>\n",
       "      <td>2009.0</td>\n",
       "      <td>Sports</td>\n",
       "      <td>15.61</td>\n",
       "      <td>10.93</td>\n",
       "      <td>3.28</td>\n",
       "      <td>2.95</td>\n",
       "      <td>80.0</td>\n",
       "      <td>8.0</td>\n",
       "      <td>E</td>\n",
       "    </tr>\n",
       "    <tr>\n",
       "      <th>4</th>\n",
       "      <td>Pokemon Red/Pokemon Blue</td>\n",
       "      <td>GB</td>\n",
       "      <td>1996.0</td>\n",
       "      <td>Role-Playing</td>\n",
       "      <td>11.27</td>\n",
       "      <td>8.89</td>\n",
       "      <td>10.22</td>\n",
       "      <td>1.00</td>\n",
       "      <td>-1.0</td>\n",
       "      <td>-1.0</td>\n",
       "      <td>no_rating</td>\n",
       "    </tr>\n",
       "    <tr>\n",
       "      <th>5</th>\n",
       "      <td>Tetris</td>\n",
       "      <td>GB</td>\n",
       "      <td>1989.0</td>\n",
       "      <td>Puzzle</td>\n",
       "      <td>23.20</td>\n",
       "      <td>2.26</td>\n",
       "      <td>4.22</td>\n",
       "      <td>0.58</td>\n",
       "      <td>-1.0</td>\n",
       "      <td>-1.0</td>\n",
       "      <td>no_rating</td>\n",
       "    </tr>\n",
       "    <tr>\n",
       "      <th>6</th>\n",
       "      <td>New Super Mario Bros.</td>\n",
       "      <td>DS</td>\n",
       "      <td>2006.0</td>\n",
       "      <td>Platform</td>\n",
       "      <td>11.28</td>\n",
       "      <td>9.14</td>\n",
       "      <td>6.50</td>\n",
       "      <td>2.88</td>\n",
       "      <td>89.0</td>\n",
       "      <td>8.5</td>\n",
       "      <td>E</td>\n",
       "    </tr>\n",
       "    <tr>\n",
       "      <th>7</th>\n",
       "      <td>Wii Play</td>\n",
       "      <td>Wii</td>\n",
       "      <td>2006.0</td>\n",
       "      <td>Misc</td>\n",
       "      <td>13.96</td>\n",
       "      <td>9.18</td>\n",
       "      <td>2.93</td>\n",
       "      <td>2.84</td>\n",
       "      <td>58.0</td>\n",
       "      <td>6.6</td>\n",
       "      <td>E</td>\n",
       "    </tr>\n",
       "    <tr>\n",
       "      <th>8</th>\n",
       "      <td>New Super Mario Bros. Wii</td>\n",
       "      <td>Wii</td>\n",
       "      <td>2009.0</td>\n",
       "      <td>Platform</td>\n",
       "      <td>14.44</td>\n",
       "      <td>6.94</td>\n",
       "      <td>4.70</td>\n",
       "      <td>2.24</td>\n",
       "      <td>87.0</td>\n",
       "      <td>8.4</td>\n",
       "      <td>E</td>\n",
       "    </tr>\n",
       "    <tr>\n",
       "      <th>9</th>\n",
       "      <td>Duck Hunt</td>\n",
       "      <td>NES</td>\n",
       "      <td>1984.0</td>\n",
       "      <td>Shooter</td>\n",
       "      <td>26.93</td>\n",
       "      <td>0.63</td>\n",
       "      <td>0.28</td>\n",
       "      <td>0.47</td>\n",
       "      <td>-1.0</td>\n",
       "      <td>-1.0</td>\n",
       "      <td>no_rating</td>\n",
       "    </tr>\n",
       "  </tbody>\n",
       "</table>\n",
       "</div>"
      ],
      "text/plain": [
       "                        name platform year_of_release         genre  na_sales  \\\n",
       "0                 Wii Sports      Wii          2006.0        Sports     41.36   \n",
       "1          Super Mario Bros.      NES          1985.0      Platform     29.08   \n",
       "2             Mario Kart Wii      Wii          2008.0        Racing     15.68   \n",
       "3          Wii Sports Resort      Wii          2009.0        Sports     15.61   \n",
       "4   Pokemon Red/Pokemon Blue       GB          1996.0  Role-Playing     11.27   \n",
       "5                     Tetris       GB          1989.0        Puzzle     23.20   \n",
       "6      New Super Mario Bros.       DS          2006.0      Platform     11.28   \n",
       "7                   Wii Play      Wii          2006.0          Misc     13.96   \n",
       "8  New Super Mario Bros. Wii      Wii          2009.0      Platform     14.44   \n",
       "9                  Duck Hunt      NES          1984.0       Shooter     26.93   \n",
       "\n",
       "   eu_sales  jp_sales  other_sales  critic_score  user_score     rating  \n",
       "0     28.96      3.77         8.45          76.0         8.0          E  \n",
       "1      3.58      6.81         0.77          -1.0        -1.0  no_rating  \n",
       "2     12.76      3.79         3.29          82.0         8.3          E  \n",
       "3     10.93      3.28         2.95          80.0         8.0          E  \n",
       "4      8.89     10.22         1.00          -1.0        -1.0  no_rating  \n",
       "5      2.26      4.22         0.58          -1.0        -1.0  no_rating  \n",
       "6      9.14      6.50         2.88          89.0         8.5          E  \n",
       "7      9.18      2.93         2.84          58.0         6.6          E  \n",
       "8      6.94      4.70         2.24          87.0         8.4          E  \n",
       "9      0.63      0.28         0.47          -1.0        -1.0  no_rating  "
      ]
     },
     "execution_count": 37,
     "metadata": {},
     "output_type": "execute_result"
    }
   ],
   "source": [
    "df.head(10)"
   ]
  },
  {
   "cell_type": "markdown",
   "metadata": {},
   "source": [
    "Проверим общую информацию."
   ]
  },
  {
   "cell_type": "code",
   "execution_count": 38,
   "metadata": {},
   "outputs": [
    {
     "name": "stdout",
     "output_type": "stream",
     "text": [
      "<class 'pandas.core.frame.DataFrame'>\n",
      "RangeIndex: 16715 entries, 0 to 16714\n",
      "Data columns (total 11 columns):\n",
      " #   Column           Non-Null Count  Dtype  \n",
      "---  ------           --------------  -----  \n",
      " 0   Name             16713 non-null  object \n",
      " 1   Platform         16715 non-null  object \n",
      " 2   Year_of_Release  16446 non-null  float64\n",
      " 3   Genre            16713 non-null  object \n",
      " 4   NA_sales         16715 non-null  float64\n",
      " 5   EU_sales         16715 non-null  float64\n",
      " 6   JP_sales         16715 non-null  float64\n",
      " 7   Other_sales      16715 non-null  float64\n",
      " 8   Critic_Score     8137 non-null   float64\n",
      " 9   User_Score       10014 non-null  object \n",
      " 10  Rating           9949 non-null   object \n",
      "dtypes: float64(6), object(5)\n",
      "memory usage: 1.4+ MB\n"
     ]
    }
   ],
   "source": [
    "games.info()"
   ]
  },
  {
   "cell_type": "markdown",
   "metadata": {},
   "source": [
    "Хоть в столбце `year_of_release` отображается целое число. Тип данных стал object. Необходимо привести его к типу int."
   ]
  },
  {
   "cell_type": "code",
   "execution_count": 39,
   "metadata": {},
   "outputs": [],
   "source": [
    "df['year_of_release'] = df['year_of_release'].astype('int')"
   ]
  },
  {
   "cell_type": "markdown",
   "metadata": {},
   "source": [
    "Также поступим и с столбцом `critic_score`."
   ]
  },
  {
   "cell_type": "code",
   "execution_count": 40,
   "metadata": {},
   "outputs": [],
   "source": [
    "df['critic_score'] = df['critic_score'].astype('int')"
   ]
  },
  {
   "cell_type": "markdown",
   "metadata": {},
   "source": [
    "## 2.4. Добавление расчетов\n",
    "<a id=\"calculation\"></a>"
   ]
  },
  {
   "cell_type": "markdown",
   "metadata": {},
   "source": [
    "Посчитаем суммарные продажи во всех регионах и запишите их в отдельный столбец."
   ]
  },
  {
   "cell_type": "code",
   "execution_count": 41,
   "metadata": {},
   "outputs": [],
   "source": [
    "df['total_sales'] = df['na_sales']+df['eu_sales']+df['jp_sales']+df['other_sales']"
   ]
  },
  {
   "cell_type": "markdown",
   "metadata": {},
   "source": [
    "Проверим наличие нового столбца."
   ]
  },
  {
   "cell_type": "code",
   "execution_count": 43,
   "metadata": {},
   "outputs": [
    {
     "data": {
      "text/html": [
       "<div>\n",
       "<style scoped>\n",
       "    .dataframe tbody tr th:only-of-type {\n",
       "        vertical-align: middle;\n",
       "    }\n",
       "\n",
       "    .dataframe tbody tr th {\n",
       "        vertical-align: top;\n",
       "    }\n",
       "\n",
       "    .dataframe thead th {\n",
       "        text-align: right;\n",
       "    }\n",
       "</style>\n",
       "<table border=\"1\" class=\"dataframe\">\n",
       "  <thead>\n",
       "    <tr style=\"text-align: right;\">\n",
       "      <th></th>\n",
       "      <th>name</th>\n",
       "      <th>platform</th>\n",
       "      <th>year_of_release</th>\n",
       "      <th>genre</th>\n",
       "      <th>na_sales</th>\n",
       "      <th>eu_sales</th>\n",
       "      <th>jp_sales</th>\n",
       "      <th>other_sales</th>\n",
       "      <th>critic_score</th>\n",
       "      <th>user_score</th>\n",
       "      <th>rating</th>\n",
       "      <th>total_sales</th>\n",
       "    </tr>\n",
       "  </thead>\n",
       "  <tbody>\n",
       "    <tr>\n",
       "      <th>0</th>\n",
       "      <td>Wii Sports</td>\n",
       "      <td>Wii</td>\n",
       "      <td>2006</td>\n",
       "      <td>Sports</td>\n",
       "      <td>41.36</td>\n",
       "      <td>28.96</td>\n",
       "      <td>3.77</td>\n",
       "      <td>8.45</td>\n",
       "      <td>76</td>\n",
       "      <td>8.0</td>\n",
       "      <td>E</td>\n",
       "      <td>82.54</td>\n",
       "    </tr>\n",
       "    <tr>\n",
       "      <th>1</th>\n",
       "      <td>Super Mario Bros.</td>\n",
       "      <td>NES</td>\n",
       "      <td>1985</td>\n",
       "      <td>Platform</td>\n",
       "      <td>29.08</td>\n",
       "      <td>3.58</td>\n",
       "      <td>6.81</td>\n",
       "      <td>0.77</td>\n",
       "      <td>-1</td>\n",
       "      <td>-1.0</td>\n",
       "      <td>no_rating</td>\n",
       "      <td>40.24</td>\n",
       "    </tr>\n",
       "    <tr>\n",
       "      <th>2</th>\n",
       "      <td>Mario Kart Wii</td>\n",
       "      <td>Wii</td>\n",
       "      <td>2008</td>\n",
       "      <td>Racing</td>\n",
       "      <td>15.68</td>\n",
       "      <td>12.76</td>\n",
       "      <td>3.79</td>\n",
       "      <td>3.29</td>\n",
       "      <td>82</td>\n",
       "      <td>8.3</td>\n",
       "      <td>E</td>\n",
       "      <td>35.52</td>\n",
       "    </tr>\n",
       "    <tr>\n",
       "      <th>3</th>\n",
       "      <td>Wii Sports Resort</td>\n",
       "      <td>Wii</td>\n",
       "      <td>2009</td>\n",
       "      <td>Sports</td>\n",
       "      <td>15.61</td>\n",
       "      <td>10.93</td>\n",
       "      <td>3.28</td>\n",
       "      <td>2.95</td>\n",
       "      <td>80</td>\n",
       "      <td>8.0</td>\n",
       "      <td>E</td>\n",
       "      <td>32.77</td>\n",
       "    </tr>\n",
       "    <tr>\n",
       "      <th>4</th>\n",
       "      <td>Pokemon Red/Pokemon Blue</td>\n",
       "      <td>GB</td>\n",
       "      <td>1996</td>\n",
       "      <td>Role-Playing</td>\n",
       "      <td>11.27</td>\n",
       "      <td>8.89</td>\n",
       "      <td>10.22</td>\n",
       "      <td>1.00</td>\n",
       "      <td>-1</td>\n",
       "      <td>-1.0</td>\n",
       "      <td>no_rating</td>\n",
       "      <td>31.38</td>\n",
       "    </tr>\n",
       "    <tr>\n",
       "      <th>...</th>\n",
       "      <td>...</td>\n",
       "      <td>...</td>\n",
       "      <td>...</td>\n",
       "      <td>...</td>\n",
       "      <td>...</td>\n",
       "      <td>...</td>\n",
       "      <td>...</td>\n",
       "      <td>...</td>\n",
       "      <td>...</td>\n",
       "      <td>...</td>\n",
       "      <td>...</td>\n",
       "      <td>...</td>\n",
       "    </tr>\n",
       "    <tr>\n",
       "      <th>16710</th>\n",
       "      <td>Samurai Warriors: Sanada Maru</td>\n",
       "      <td>PS3</td>\n",
       "      <td>2016</td>\n",
       "      <td>Action</td>\n",
       "      <td>0.00</td>\n",
       "      <td>0.00</td>\n",
       "      <td>0.01</td>\n",
       "      <td>0.00</td>\n",
       "      <td>-1</td>\n",
       "      <td>-1.0</td>\n",
       "      <td>no_rating</td>\n",
       "      <td>0.01</td>\n",
       "    </tr>\n",
       "    <tr>\n",
       "      <th>16711</th>\n",
       "      <td>LMA Manager 2007</td>\n",
       "      <td>X360</td>\n",
       "      <td>2006</td>\n",
       "      <td>Sports</td>\n",
       "      <td>0.00</td>\n",
       "      <td>0.01</td>\n",
       "      <td>0.00</td>\n",
       "      <td>0.00</td>\n",
       "      <td>-1</td>\n",
       "      <td>-1.0</td>\n",
       "      <td>no_rating</td>\n",
       "      <td>0.01</td>\n",
       "    </tr>\n",
       "    <tr>\n",
       "      <th>16712</th>\n",
       "      <td>Haitaka no Psychedelica</td>\n",
       "      <td>PSV</td>\n",
       "      <td>2016</td>\n",
       "      <td>Adventure</td>\n",
       "      <td>0.00</td>\n",
       "      <td>0.00</td>\n",
       "      <td>0.01</td>\n",
       "      <td>0.00</td>\n",
       "      <td>-1</td>\n",
       "      <td>-1.0</td>\n",
       "      <td>no_rating</td>\n",
       "      <td>0.01</td>\n",
       "    </tr>\n",
       "    <tr>\n",
       "      <th>16713</th>\n",
       "      <td>Spirits &amp; Spells</td>\n",
       "      <td>GBA</td>\n",
       "      <td>2003</td>\n",
       "      <td>Platform</td>\n",
       "      <td>0.01</td>\n",
       "      <td>0.00</td>\n",
       "      <td>0.00</td>\n",
       "      <td>0.00</td>\n",
       "      <td>-1</td>\n",
       "      <td>-1.0</td>\n",
       "      <td>no_rating</td>\n",
       "      <td>0.01</td>\n",
       "    </tr>\n",
       "    <tr>\n",
       "      <th>16714</th>\n",
       "      <td>Winning Post 8 2016</td>\n",
       "      <td>PSV</td>\n",
       "      <td>2016</td>\n",
       "      <td>Simulation</td>\n",
       "      <td>0.00</td>\n",
       "      <td>0.00</td>\n",
       "      <td>0.01</td>\n",
       "      <td>0.00</td>\n",
       "      <td>-1</td>\n",
       "      <td>-1.0</td>\n",
       "      <td>no_rating</td>\n",
       "      <td>0.01</td>\n",
       "    </tr>\n",
       "  </tbody>\n",
       "</table>\n",
       "<p>16715 rows × 12 columns</p>\n",
       "</div>"
      ],
      "text/plain": [
       "                                name platform  year_of_release         genre  \\\n",
       "0                         Wii Sports      Wii             2006        Sports   \n",
       "1                  Super Mario Bros.      NES             1985      Platform   \n",
       "2                     Mario Kart Wii      Wii             2008        Racing   \n",
       "3                  Wii Sports Resort      Wii             2009        Sports   \n",
       "4           Pokemon Red/Pokemon Blue       GB             1996  Role-Playing   \n",
       "...                              ...      ...              ...           ...   \n",
       "16710  Samurai Warriors: Sanada Maru      PS3             2016        Action   \n",
       "16711               LMA Manager 2007     X360             2006        Sports   \n",
       "16712        Haitaka no Psychedelica      PSV             2016     Adventure   \n",
       "16713               Spirits & Spells      GBA             2003      Platform   \n",
       "16714            Winning Post 8 2016      PSV             2016    Simulation   \n",
       "\n",
       "       na_sales  eu_sales  jp_sales  other_sales  critic_score  user_score  \\\n",
       "0         41.36     28.96      3.77         8.45            76         8.0   \n",
       "1         29.08      3.58      6.81         0.77            -1        -1.0   \n",
       "2         15.68     12.76      3.79         3.29            82         8.3   \n",
       "3         15.61     10.93      3.28         2.95            80         8.0   \n",
       "4         11.27      8.89     10.22         1.00            -1        -1.0   \n",
       "...         ...       ...       ...          ...           ...         ...   \n",
       "16710      0.00      0.00      0.01         0.00            -1        -1.0   \n",
       "16711      0.00      0.01      0.00         0.00            -1        -1.0   \n",
       "16712      0.00      0.00      0.01         0.00            -1        -1.0   \n",
       "16713      0.01      0.00      0.00         0.00            -1        -1.0   \n",
       "16714      0.00      0.00      0.01         0.00            -1        -1.0   \n",
       "\n",
       "          rating  total_sales  \n",
       "0              E        82.54  \n",
       "1      no_rating        40.24  \n",
       "2              E        35.52  \n",
       "3              E        32.77  \n",
       "4      no_rating        31.38  \n",
       "...          ...          ...  \n",
       "16710  no_rating         0.01  \n",
       "16711  no_rating         0.01  \n",
       "16712  no_rating         0.01  \n",
       "16713  no_rating         0.01  \n",
       "16714  no_rating         0.01  \n",
       "\n",
       "[16715 rows x 12 columns]"
      ]
     },
     "execution_count": 43,
     "metadata": {},
     "output_type": "execute_result"
    }
   ],
   "source": [
    "df"
   ]
  },
  {
   "cell_type": "markdown",
   "metadata": {},
   "source": [
    "# Вывод"
   ]
  },
  {
   "cell_type": "markdown",
   "metadata": {},
   "source": [
    "Данные подготовлены:\n",
    "- привели столбцы к нижнему регистру\n",
    "- заполнили пропуски\n",
    "- преобразовали данные к нужным типам\n",
    "- посчитали суммарные продажи во всех регионах."
   ]
  },
  {
   "cell_type": "markdown",
   "metadata": {},
   "source": [
    "# Шаг 3. Исследовательский анализ данных\n",
    "<a id=\"analysis\"></a>"
   ]
  },
  {
   "cell_type": "markdown",
   "metadata": {},
   "source": [
    "На данном этапе:\n",
    "- Посмотрим, сколько игр выпускалось в разные годы. \n",
    "- Рассмотрим, как менялись продажи по платформам.\n",
    "- Возьмем данные за соответствующий актуальный период.\n",
    "- Определим rакие платформы лидируют по продажам, растут или падают? Выберем несколько потенциально прибыльных платформ.\n",
    "- Построим график «ящик с усами» по глобальным продажам игр в разбивке по платформам.\n",
    "- Разберем, как влияют на продажи внутри одной популярной платформы отзывы пользователей и критиков.\n",
    "- Построим диаграмму рассеяния и посчитаем корреляцию между отзывами и продажами. Сформулируем выводы.\n",
    "- Соотнесем выводы с продажами игр на других платформах.\n",
    "- Посмотрим на общее распределение игр по жанрам. "
   ]
  },
  {
   "cell_type": "markdown",
   "metadata": {},
   "source": [
    "## 3.1. Годы выпуска игр\n",
    "<a id=\"year\"></a>"
   ]
  },
  {
   "cell_type": "markdown",
   "metadata": {},
   "source": [
    "Посмотрим, сколько игр выпускалось в разные годы. Пропущенные данные учитывать не будем."
   ]
  },
  {
   "cell_type": "code",
   "execution_count": 46,
   "metadata": {},
   "outputs": [],
   "source": [
    "games_data = df[df['year_of_release']!=2222]"
   ]
  },
  {
   "cell_type": "markdown",
   "metadata": {},
   "source": [
    "Построим гистограмму."
   ]
  },
  {
   "cell_type": "code",
   "execution_count": 45,
   "metadata": {},
   "outputs": [
    {
     "data": {
      "image/png": "[encoded data removed]",
      "text/plain": [
       "<Figure size 1080x360 with 1 Axes>"
      ]
     },
     "metadata": {
      "needs_background": "light"
     },
     "output_type": "display_data"
    }
   ],
   "source": [
    "games_data['year_of_release'].plot(kind='hist', bins=36,grid=True,figsize=(15, 5)).legend()\n",
    "plt.xticks(np.arange(1980,2017,1),rotation=90)\n",
    "plt.title('Распределение по годам выпуска игр')\n",
    "plt.ylabel('Кол-во игр')\n",
    "plt.xlabel('Год выпуска')\n",
    "plt.show()"
   ]
  },
  {
   "cell_type": "markdown",
   "metadata": {},
   "source": [
    "По графику видно, что \n",
    "- с 1980 по 1994 год игровая индустрия почти не развивалась\n",
    "- c 1995 года началось постепенное увеличение выпущенных игр\n",
    "- на 2009-2010 годы приходится пик выпуска игр, далее игровая индустрия сбавила обороты\n",
    "- в 2016 году наблюдается заметный прирост выпущенных игр, по сравнению с  2012-2015 годами\n",
    "- данные за 2016 год могут быть неполными"
   ]
  },
  {
   "cell_type": "markdown",
   "metadata": {},
   "source": [
    "## 3.2. Продажи по платформам\n",
    "<a id=\"platforms\"></a>\n"
   ]
  },
  {
   "cell_type": "markdown",
   "metadata": {},
   "source": [
    "Cделаем сводную таблицу с итоговым продажам по платформам."
   ]
  },
  {
   "cell_type": "code",
   "execution_count": 118,
   "metadata": {},
   "outputs": [],
   "source": [
    "platform_sales = games_data.pivot_table(index='platform', values='total_sales').sort_values(by='total_sales',ascending=False)"
   ]
  },
  {
   "cell_type": "markdown",
   "metadata": {},
   "source": [
    "Изучим топовые платформы."
   ]
  },
  {
   "cell_type": "code",
   "execution_count": 119,
   "metadata": {},
   "outputs": [
    {
     "data": {
      "text/html": [
       "<div>\n",
       "<style scoped>\n",
       "    .dataframe tbody tr th:only-of-type {\n",
       "        vertical-align: middle;\n",
       "    }\n",
       "\n",
       "    .dataframe tbody tr th {\n",
       "        vertical-align: top;\n",
       "    }\n",
       "\n",
       "    .dataframe thead th {\n",
       "        text-align: right;\n",
       "    }\n",
       "</style>\n",
       "<table border=\"1\" class=\"dataframe\">\n",
       "  <thead>\n",
       "    <tr style=\"text-align: right;\">\n",
       "      <th></th>\n",
       "      <th>total_sales</th>\n",
       "    </tr>\n",
       "    <tr>\n",
       "      <th>platform</th>\n",
       "      <th></th>\n",
       "    </tr>\n",
       "  </thead>\n",
       "  <tbody>\n",
       "    <tr>\n",
       "      <th>GB</th>\n",
       "      <td>2.622990</td>\n",
       "    </tr>\n",
       "    <tr>\n",
       "      <th>NES</th>\n",
       "      <td>2.561735</td>\n",
       "    </tr>\n",
       "    <tr>\n",
       "      <th>GEN</th>\n",
       "      <td>1.061034</td>\n",
       "    </tr>\n",
       "    <tr>\n",
       "      <th>SNES</th>\n",
       "      <td>0.836987</td>\n",
       "    </tr>\n",
       "    <tr>\n",
       "      <th>PS4</th>\n",
       "      <td>0.801378</td>\n",
       "    </tr>\n",
       "  </tbody>\n",
       "</table>\n",
       "</div>"
      ],
      "text/plain": [
       "          total_sales\n",
       "platform             \n",
       "GB           2.622990\n",
       "NES          2.561735\n",
       "GEN          1.061034\n",
       "SNES         0.836987\n",
       "PS4          0.801378"
      ]
     },
     "execution_count": 119,
     "metadata": {},
     "output_type": "execute_result"
    }
   ],
   "source": [
    "platform_sales.head()"
   ]
  },
  {
   "cell_type": "markdown",
   "metadata": {},
   "source": [
    "Посмотрим таблицу с продажами игр на платформе GB."
   ]
  },
  {
   "cell_type": "code",
   "execution_count": 73,
   "metadata": {},
   "outputs": [
    {
     "data": {
      "image/png": "[encoded data removed]",
      "text/plain": [
       "<Figure size 1080x360 with 1 Axes>"
      ]
     },
     "metadata": {
      "needs_background": "light"
     },
     "output_type": "display_data"
    }
   ],
   "source": [
    "df[(df['platform'] == 'GB')&(df['year_of_release']!=2222)].pivot_table(index='year_of_release', values='total_sales', aggfunc='sum').plot(kind='bar', figsize=(15,5))\n",
    "plt.title('Распределение по годам выпуска игр на платфоре GB')\n",
    "plt.ylabel('Суммарные продажи')\n",
    "plt.xlabel('Год выпуска')\n",
    "plt.show()"
   ]
  },
  {
   "cell_type": "markdown",
   "metadata": {},
   "source": [
    "По графику видно, что\n",
    "- продажи игр на платформе GB начались в 1988 году\n",
    "- в 1989 году был пик продаж игр \n",
    "- после 2001 года продажи закончились\n",
    "- платформа выпускала игры 13 лет"
   ]
  },
  {
   "cell_type": "markdown",
   "metadata": {},
   "source": [
    "Посмотрим таблицу с продажами игр на платформе NES."
   ]
  },
  {
   "cell_type": "code",
   "execution_count": 51,
   "metadata": {},
   "outputs": [
    {
     "data": {
      "image/png": "[encoded data removed]",
      "text/plain": [
       "<Figure size 1080x360 with 1 Axes>"
      ]
     },
     "metadata": {
      "needs_background": "light"
     },
     "output_type": "display_data"
    }
   ],
   "source": [
    "df[(df['platform'] == 'NES')&(df['year_of_release']!=2222)].pivot_table(index='year_of_release', values='total_sales', aggfunc='sum').plot(kind='bar', figsize=(15,5))\n",
    "plt.title('Распределение по годам выпуска игр на платфоре NES')\n",
    "plt.ylabel('Суммарные продажи')\n",
    "plt.xlabel('Год выпуска')\n",
    "plt.show()"
   ]
  },
  {
   "cell_type": "markdown",
   "metadata": {},
   "source": [
    "По графику видно, что\n",
    "- продажи игр на платформе NES начались в 1983 году\n",
    "- в 1985 году был пик продаж игр \n",
    "- после 1994 года продажи закончились\n",
    "- платформа продержалась на рынке 12 лет"
   ]
  },
  {
   "cell_type": "markdown",
   "metadata": {},
   "source": [
    "Посмотрим таблицу с продажами игр на платформе GEN."
   ]
  },
  {
   "cell_type": "code",
   "execution_count": 52,
   "metadata": {},
   "outputs": [
    {
     "data": {
      "image/png": "[encoded data removed]",
      "text/plain": [
       "<Figure size 1080x360 with 1 Axes>"
      ]
     },
     "metadata": {
      "needs_background": "light"
     },
     "output_type": "display_data"
    }
   ],
   "source": [
    "df[(df['platform'] == 'GEN')&(df['year_of_release']!=2222)].pivot_table(index='year_of_release', values='total_sales', aggfunc='sum').plot(kind='bar', figsize=(15,5))\n",
    "plt.title('Распределение по годам выпуска игр на платфоре GEN')\n",
    "plt.ylabel('Суммарные продажи')\n",
    "plt.xlabel('Год выпуска')\n",
    "plt.show()"
   ]
  },
  {
   "cell_type": "markdown",
   "metadata": {},
   "source": [
    "По графику видно, что\n",
    "- продажи игр на платформе GEN начались в 1990 году\n",
    "- в 1992 году был пик продаж игр\n",
    "- после 1994 года продажи заверишились\n",
    "- платформа продержалась на рынке недолго, всего 5 лет"
   ]
  },
  {
   "cell_type": "markdown",
   "metadata": {},
   "source": [
    "Построим гистограмму с продажами игр на платформе SNES."
   ]
  },
  {
   "cell_type": "code",
   "execution_count": 54,
   "metadata": {},
   "outputs": [
    {
     "data": {
      "image/png": "[encoded data removed]",
      "text/plain": [
       "<Figure size 1080x360 with 1 Axes>"
      ]
     },
     "metadata": {
      "needs_background": "light"
     },
     "output_type": "display_data"
    }
   ],
   "source": [
    "df[(df['platform'] == 'SNES')&(df['year_of_release']!=2222)].pivot_table(index='year_of_release', values='total_sales', aggfunc='sum').plot(kind='bar', figsize=(15,5))\n",
    "plt.title('Распределение по годам выпуска игр на платфоре SNES')\n",
    "plt.ylabel('Суммарные продажи')\n",
    "plt.xlabel('Год выпуска')\n",
    "plt.show()"
   ]
  },
  {
   "cell_type": "markdown",
   "metadata": {},
   "source": [
    "По графику видно, что\n",
    "- продажи игр на платформе SNES начались в 1990 году\n",
    "- в 1993 году был пик продаж игр, затем продажи то увеличивались, то уменьшались\n",
    "- после 1999 года продажи заверишились.\n",
    "- латформа продержалась на рынке 10 лет."
   ]
  },
  {
   "cell_type": "markdown",
   "metadata": {},
   "source": [
    "Построим гистограмму с продажами игр на платформе PS4."
   ]
  },
  {
   "cell_type": "code",
   "execution_count": 55,
   "metadata": {},
   "outputs": [
    {
     "data": {
      "image/png": "[encoded data removed]",
      "text/plain": [
       "<Figure size 1080x360 with 1 Axes>"
      ]
     },
     "metadata": {
      "needs_background": "light"
     },
     "output_type": "display_data"
    }
   ],
   "source": [
    "df[(df['platform'] == 'PS4')&(df['year_of_release']!=2222)].pivot_table(index='year_of_release', values='total_sales', aggfunc='sum').plot(kind='bar', figsize=(15,5))\n",
    "plt.title('Распределение по годам выпуска игр на платфоре PS4')\n",
    "plt.ylabel('Суммарные продажи')\n",
    "plt.xlabel('Год выпуска')\n",
    "plt.show()"
   ]
  },
  {
   "cell_type": "markdown",
   "metadata": {},
   "source": [
    "По графику видно, что \n",
    "- в 2015 году был пик продаж, но это неточно, т.к данные за 2016 год могут быть неполными.\n",
    "- платформа находится на рынке 4 года (с 2013 по 2016 год).\n",
    "- вероятно, что в 2017 год будут продажи игр."
   ]
  },
  {
   "cell_type": "markdown",
   "metadata": {},
   "source": [
    "По данным графиков продаж популярных платформ сделаем вывод, что \n",
    "- средний срок жизнедеятельности платформы 9 лет. \n",
    "- в 2017 году вероятнее всего будут продажи игр PS4 "
   ]
  },
  {
   "cell_type": "markdown",
   "metadata": {},
   "source": [
    "## 3.3.  Лидеры платформ по продажам в актуальное время\n",
    "<a id=\"relevant\"></a>"
   ]
  },
  {
   "cell_type": "markdown",
   "metadata": {},
   "source": [
    "Возьмем данные за соответствующий актуальный период с 2014 по 2016 год, т.к. игры - динамично меняющаяся индустрия. Также отсечем из данных значение - 2222."
   ]
  },
  {
   "cell_type": "code",
   "execution_count": 77,
   "metadata": {},
   "outputs": [],
   "source": [
    "actual_games = df[(df['year_of_release']>=2014)&(df['year_of_release']<2221)]"
   ]
  },
  {
   "cell_type": "markdown",
   "metadata": {},
   "source": [
    "Создадим сводную таблицу по платформам и их итоговым продажам."
   ]
  },
  {
   "cell_type": "code",
   "execution_count": 78,
   "metadata": {},
   "outputs": [],
   "source": [
    "platform_actual = actual_games.pivot_table(index='platform', values='total_sales').sort_values(by='total_sales',ascending=False)"
   ]
  },
  {
   "cell_type": "markdown",
   "metadata": {},
   "source": [
    "Посмотрим список из 5 топовых платформ по продажам."
   ]
  },
  {
   "cell_type": "code",
   "execution_count": 123,
   "metadata": {},
   "outputs": [
    {
     "data": {
      "text/html": [
       "<div>\n",
       "<style scoped>\n",
       "    .dataframe tbody tr th:only-of-type {\n",
       "        vertical-align: middle;\n",
       "    }\n",
       "\n",
       "    .dataframe tbody tr th {\n",
       "        vertical-align: top;\n",
       "    }\n",
       "\n",
       "    .dataframe thead th {\n",
       "        text-align: right;\n",
       "    }\n",
       "</style>\n",
       "<table border=\"1\" class=\"dataframe\">\n",
       "  <thead>\n",
       "    <tr style=\"text-align: right;\">\n",
       "      <th></th>\n",
       "      <th>total_sales</th>\n",
       "    </tr>\n",
       "    <tr>\n",
       "      <th>platform</th>\n",
       "      <th></th>\n",
       "    </tr>\n",
       "  </thead>\n",
       "  <tbody>\n",
       "    <tr>\n",
       "      <th>PS4</th>\n",
       "      <td>0.766356</td>\n",
       "    </tr>\n",
       "    <tr>\n",
       "      <th>XOne</th>\n",
       "      <td>0.615614</td>\n",
       "    </tr>\n",
       "    <tr>\n",
       "      <th>WiiU</th>\n",
       "      <td>0.588767</td>\n",
       "    </tr>\n",
       "    <tr>\n",
       "      <th>Wii</th>\n",
       "      <td>0.460909</td>\n",
       "    </tr>\n",
       "    <tr>\n",
       "      <th>X360</th>\n",
       "      <td>0.434414</td>\n",
       "    </tr>\n",
       "  </tbody>\n",
       "</table>\n",
       "</div>"
      ],
      "text/plain": [
       "          total_sales\n",
       "platform             \n",
       "PS4          0.766356\n",
       "XOne         0.615614\n",
       "WiiU         0.588767\n",
       "Wii          0.460909\n",
       "X360         0.434414"
      ]
     },
     "execution_count": 123,
     "metadata": {},
     "output_type": "execute_result"
    }
   ],
   "source": [
    "top5 = platform_actual.head(5)\n",
    "top5"
   ]
  },
  {
   "cell_type": "markdown",
   "metadata": {},
   "source": [
    "Платформа PS4 лидирует по продажам в настоящее время. Рассмотрим график продаж игр платформы PS4."
   ]
  },
  {
   "cell_type": "code",
   "execution_count": 80,
   "metadata": {},
   "outputs": [
    {
     "data": {
      "image/png": "[encoded data removed]",
      "text/plain": [
       "<Figure size 1080x360 with 1 Axes>"
      ]
     },
     "metadata": {
      "needs_background": "light"
     },
     "output_type": "display_data"
    }
   ],
   "source": [
    "actual_games[actual_games['platform'] == 'PS4'].pivot_table(index='year_of_release', values='total_sales', aggfunc='sum').plot(kind='bar', figsize=(15,5))\n",
    "plt.title('Распределение по годам выпуска игр на платфоре PS4 (2014-2016 год)')\n",
    "plt.ylabel('Суммарные продажи')\n",
    "plt.xlabel('Год выпуска')\n",
    "plt.show()"
   ]
  },
  {
   "cell_type": "markdown",
   "metadata": {},
   "source": [
    "По графику видно, что \n",
    "- в 2015 году был пик продаж игр на платформе PS4\n",
    "- в 2016 году продаж было меньше, чем за 2015 год, но в описании проекта есть информация, что данные за 2016 год могут быть неполными. \n",
    "- платформа PS4 - вполне перспективная платформа для продаж игр в 2017 году."
   ]
  },
  {
   "cell_type": "markdown",
   "metadata": {},
   "source": [
    "Рассмотрим график продаж игр платформы XOne."
   ]
  },
  {
   "cell_type": "code",
   "execution_count": 81,
   "metadata": {},
   "outputs": [
    {
     "data": {
      "image/png": "[encoded data removed]",
      "text/plain": [
       "<Figure size 720x360 with 1 Axes>"
      ]
     },
     "metadata": {
      "needs_background": "light"
     },
     "output_type": "display_data"
    }
   ],
   "source": [
    "actual_games[actual_games['platform'] == 'XOne'].pivot_table(index='year_of_release', values='total_sales', aggfunc='sum').plot(kind='bar', figsize=(10,5))\n",
    "plt.title('Распределение по годам выпуска игр на платфоре XOne (2014 -2016 год)')\n",
    "plt.ylabel('Суммарные продажи')\n",
    "plt.xlabel('Год выпуска')\n",
    "plt.show()"
   ]
  },
  {
   "cell_type": "markdown",
   "metadata": {},
   "source": [
    "По графику видно, что \n",
    "- в 2015 году был пик продаж игр на платформе XOne\n",
    "- в 2016 году, судя по данным продаж меньше, чем за 2015 год, но в описании проекта есть информация, что данные за 2016 год могут быть неполными. \n",
    "- платформа XOne - вполне перспективная платформа для продаж игр в 2017 году."
   ]
  },
  {
   "cell_type": "markdown",
   "metadata": {},
   "source": [
    "Рассмотрим график продаж игр платформы WiiU."
   ]
  },
  {
   "cell_type": "code",
   "execution_count": 82,
   "metadata": {},
   "outputs": [
    {
     "data": {
      "image/png": "[encoded data removed]",
      "text/plain": [
       "<Figure size 1080x360 with 1 Axes>"
      ]
     },
     "metadata": {
      "needs_background": "light"
     },
     "output_type": "display_data"
    }
   ],
   "source": [
    "actual_games[actual_games['platform'] == 'WiiU'].pivot_table(index='year_of_release', values='total_sales', aggfunc='sum').plot(kind='bar', figsize=(15,5))\n",
    "plt.title('Распределение по годам выпуска игр на платфоре WiiU (2014-2016 год)')\n",
    "plt.ylabel('Суммарные продажи')\n",
    "plt.xlabel('Год выпуска')\n",
    "plt.show()"
   ]
  },
  {
   "cell_type": "markdown",
   "metadata": {},
   "source": [
    "По графику видно, что \n",
    "- в 2014 году был пик продаж на платформе WiiU\n",
    "- в 2015 году продаж стало меньше, по сравнению с 2014 годом.\n",
    "- в 2016 году продаж еще меньше, но в описании проекта есть информация, что данные за 2016 год могут быть неполными.\n",
    "- платформа WiiU - неперспективная платформа для продаж игр в 2017 году. Это связано с выходом более новых и перспективных платформ."
   ]
  },
  {
   "cell_type": "markdown",
   "metadata": {},
   "source": [
    "Рассмотрим график продаж игр платформы 3DS."
   ]
  },
  {
   "cell_type": "code",
   "execution_count": 83,
   "metadata": {},
   "outputs": [
    {
     "data": {
      "image/png": "[encoded data removed]",
      "text/plain": [
       "<Figure size 720x360 with 1 Axes>"
      ]
     },
     "metadata": {
      "needs_background": "light"
     },
     "output_type": "display_data"
    }
   ],
   "source": [
    "actual_games[actual_games['platform'] == '3DS'].pivot_table(index='year_of_release', values='total_sales', aggfunc='sum').plot(kind='bar', figsize=(10,5))\n",
    "plt.title('Распределение по годам выпуска игр на платфоре 3DS (2014-2016 год)')\n",
    "plt.ylabel('Суммарные продажи')\n",
    "plt.xlabel('Год выпуска')\n",
    "plt.show()"
   ]
  },
  {
   "cell_type": "markdown",
   "metadata": {},
   "source": [
    "По графику видно, что \n",
    "- в 2014 году был пик продаж игр на платформе 3DS.\n",
    "- в 2015 году продаж стало меньше, по сравнению с 2014 годом.\n",
    "- в 2016 году продаж еще меньше, но в описании проекта есть информация, что данные за 2016 год могут быть неполными.\n",
    "- платформа 3DS - неперспективная платформа для продаж игр в 2017 году. Это связано с выходом более новых и перспективных платформ."
   ]
  },
  {
   "cell_type": "markdown",
   "metadata": {},
   "source": [
    "Рассмотрим график продаж игр платформы X360."
   ]
  },
  {
   "cell_type": "code",
   "execution_count": 124,
   "metadata": {
    "scrolled": true
   },
   "outputs": [
    {
     "data": {
      "image/png": "[encoded data removed]",
      "text/plain": [
       "<Figure size 1080x360 with 1 Axes>"
      ]
     },
     "metadata": {
      "needs_background": "light"
     },
     "output_type": "display_data"
    }
   ],
   "source": [
    "actual_games[actual_games['platform'] == 'X360'].pivot_table(index='year_of_release', values='total_sales', aggfunc='sum').plot(kind='bar', figsize=(15,5))\n",
    "plt.title('Распределение по годам выпуска игр на платфоре X360 (2014-2016 год)')\n",
    "plt.ylabel('Суммарные продажи')\n",
    "plt.xlabel('Год выпуска')\n",
    "plt.show()"
   ]
  },
  {
   "cell_type": "markdown",
   "metadata": {},
   "source": [
    "По графику видно, что \n",
    "- в 2014 году был пик продаж игр на платформе X360. \n",
    "- в 2015 году продаж стало значительно меньше, по сравнению с 2014 годом. \n",
    "- в 2016 году продаж почти нет, но в описании проекта есть информация, что данные за 2016 год могут быть неполными.\n",
    "- платформа X360 - неперспективная платформа для продаж игр в 2017 году. Это связано с выходом более новых и перспективных платформ."
   ]
  },
  {
   "cell_type": "markdown",
   "metadata": {},
   "source": [
    "## 3.4. Boxplot по глобальным продажам игр  по платформам.\n",
    "<a id=\"boxplot\"></a>\n"
   ]
  },
  {
   "cell_type": "markdown",
   "metadata": {},
   "source": [
    "Отфильтруем данные для 5 топовых платформ актуального периода."
   ]
  },
  {
   "cell_type": "code",
   "execution_count": 84,
   "metadata": {},
   "outputs": [],
   "source": [
    "platform_top5_data = actual_games[(actual_games['platform']=='X360')|(actual_games['platform']=='PS4')|(actual_games['platform']=='3DS')|(actual_games['platform']=='XOne')|(actual_games['platform']=='WiiU')]"
   ]
  },
  {
   "cell_type": "markdown",
   "metadata": {},
   "source": [
    "Построим график  «Ящик с усами» по глобальным продажам игр  по платформам."
   ]
  },
  {
   "cell_type": "code",
   "execution_count": 85,
   "metadata": {
    "scrolled": true
   },
   "outputs": [
    {
     "data": {
      "image/png": "[encoded data removed]",
      "text/plain": [
       "<Figure size 1080x720 with 1 Axes>"
      ]
     },
     "metadata": {
      "needs_background": "light"
     },
     "output_type": "display_data"
    }
   ],
   "source": [
    "ax = platform_top5_data.boxplot('total_sales', by='platform', figsize=(15, 10))\n",
    "ax.set_yscale('log')"
   ]
  },
  {
   "cell_type": "markdown",
   "metadata": {},
   "source": [
    "По графику видно, что \n",
    "- Верхний квартиль у платформ X360, PS4 больше всех и находится примерно на одном уровне. Верхний квартиль чуть меньше у платформы у WiiU и X360. Меньше всегов верхний квартиль у платформы 3DS.\n",
    "- Нижний квартиль у платформы X360 больше всех. Далее чуть меньше квартиль у PS4, затем WiiU и Xone. Самый минимальный нижний квартиль у платформы 3DS.\n",
    "- Самый большой межквартильный размах у XOne, затем PS4, WiiU и 3DS, cамый маленький из топовых платформ у X360. \n",
    "- Наибольшее значение медианы y XOne, далее примерно на одном уровне PS4, WiiU, X360. Cамое наименьшая медиана у платформы 3DS. \n",
    "- Cамое минимальное значение у 3DS, затем примерно на одном уровне чуть больше у WiiU и XOne, далее PS4 и у X360 минимально значение больше всех топовых платформ.\n",
    "- Самое максимальное значение y PS4, затем чуть меньше XOne и WiiU, далее X360 и наименьшее значение у 3DS. \n",
    "- Cамое большое число выбросов у платформы PS4 и 3DS, меньше всего у WiiU и X360."
   ]
  },
  {
   "cell_type": "markdown",
   "metadata": {},
   "source": [
    "## 3.5. Влияние на продажи отзывы пользователей и критиков\n",
    "<a id=\"reviews\"></a>\n"
   ]
  },
  {
   "cell_type": "markdown",
   "metadata": {},
   "source": [
    "Рассмотрим влияние отзывов на продажи. Данные без оценок не будем рассматривать."
   ]
  },
  {
   "cell_type": "code",
   "execution_count": 102,
   "metadata": {},
   "outputs": [],
   "source": [
    "actual_score = actual_games[(actual_games['user_score']!=-1)&(actual_games['critic_score']!=-1)]"
   ]
  },
  {
   "cell_type": "markdown",
   "metadata": {},
   "source": [
    "На примере популярной платформы PS4."
   ]
  },
  {
   "cell_type": "code",
   "execution_count": 103,
   "metadata": {},
   "outputs": [],
   "source": [
    "PS4 = actual_score[actual_score['platform']=='PS4']"
   ]
  },
  {
   "cell_type": "markdown",
   "metadata": {},
   "source": [
    "Построим диаграмму рассеяния пользовательских оценок от всех продаж."
   ]
  },
  {
   "cell_type": "code",
   "execution_count": 104,
   "metadata": {},
   "outputs": [
    {
     "data": {
      "image/png": "[encoded data removed]",
      "text/plain": [
       "<Figure size 432x288 with 1 Axes>"
      ]
     },
     "metadata": {
      "needs_background": "light"
     },
     "output_type": "display_data"
    }
   ],
   "source": [
    "plt.scatter(PS4['user_score'], PS4['total_sales'], alpha=0.5, s=100, marker=\"o\")\n",
    "plt.title('Диаграмма рассеяния пользовательских оценок от всех продаж PS4')\n",
    "plt.ylabel('Суммарные продажи')\n",
    "plt.xlabel('Год выпуска')\n",
    "plt.show()"
   ]
  },
  {
   "cell_type": "markdown",
   "metadata": {},
   "source": [
    "По графику заметно, что нет прямой зависимости от оценок пользователей и продажами игр."
   ]
  },
  {
   "cell_type": "markdown",
   "metadata": {},
   "source": [
    "Корреляция низкая, отрицательная."
   ]
  },
  {
   "cell_type": "code",
   "execution_count": 105,
   "metadata": {},
   "outputs": [
    {
     "name": "stdout",
     "output_type": "stream",
     "text": [
      "-0.04318585997193634\n"
     ]
    }
   ],
   "source": [
    "print(PS4['user_score'].corr(PS4['total_sales']))"
   ]
  },
  {
   "cell_type": "markdown",
   "metadata": {},
   "source": [
    "Построим диаграму рассеяния оценок критиков от всех продаж."
   ]
  },
  {
   "cell_type": "code",
   "execution_count": 106,
   "metadata": {},
   "outputs": [
    {
     "data": {
      "image/png": "[encoded data removed]",
      "text/plain": [
       "<Figure size 432x288 with 1 Axes>"
      ]
     },
     "metadata": {
      "needs_background": "light"
     },
     "output_type": "display_data"
    }
   ],
   "source": [
    "plt.scatter(PS4['critic_score'], PS4['total_sales'], alpha=0.5, s=100, marker=\"o\")\n",
    "plt.title('Диаграмма рассеяния оценок критиков от всех продаж PS4')\n",
    "plt.ylabel('Суммарные продажи')\n",
    "plt.xlabel('Год выпуска')\n",
    "plt.show()"
   ]
  },
  {
   "cell_type": "markdown",
   "metadata": {},
   "source": [
    "На графике видно, что есть небольшая зависимость от оценок критиков и продажами игр."
   ]
  },
  {
   "cell_type": "code",
   "execution_count": 107,
   "metadata": {},
   "outputs": [
    {
     "name": "stdout",
     "output_type": "stream",
     "text": [
      "0.40190287811475334\n"
     ]
    }
   ],
   "source": [
    "print(PS4['critic_score'].corr(PS4['total_sales']))"
   ]
  },
  {
   "cell_type": "markdown",
   "metadata": {},
   "source": [
    "## 3.6. Продажи игр на других платформах\n",
    "<a id=\"other\"></a>\n"
   ]
  },
  {
   "cell_type": "markdown",
   "metadata": {},
   "source": [
    "Рассмотрим влияние отзывов на продажи среди 5 популярных платформ. "
   ]
  },
  {
   "cell_type": "code",
   "execution_count": 108,
   "metadata": {},
   "outputs": [],
   "source": [
    "X360 = actual_score[actual_score['platform']=='X360']"
   ]
  },
  {
   "cell_type": "code",
   "execution_count": 109,
   "metadata": {},
   "outputs": [],
   "source": [
    "DS3 = actual_score[actual_score['platform']=='3DS']"
   ]
  },
  {
   "cell_type": "code",
   "execution_count": 110,
   "metadata": {},
   "outputs": [],
   "source": [
    "XOne = actual_score[actual_score['platform']=='XOne']"
   ]
  },
  {
   "cell_type": "code",
   "execution_count": 111,
   "metadata": {},
   "outputs": [],
   "source": [
    "WiiU = actual_score[actual_score['platform']=='WiiU']"
   ]
  },
  {
   "cell_type": "code",
   "execution_count": 112,
   "metadata": {},
   "outputs": [
    {
     "data": {
      "image/png": "[encoded data removed]",
      "text/plain": [
       "<Figure size 1080x720 with 10 Axes>"
      ]
     },
     "metadata": {
      "needs_background": "light"
     },
     "output_type": "display_data"
    }
   ],
   "source": [
    "fig, ((ax1,ax2),(ax3,ax4),(ax5,ax6),(ax7,ax8),(ax9,ax10)) = plt.subplots(nrows=5, ncols=2, figsize=(15, 10))\n",
    "title = \"Normal title\"\n",
    "ax1.scatter(X360['user_score'], X360['total_sales'], alpha=0.5, s=100, marker=\"o\")\n",
    "\n",
    "ax2.scatter(X360['critic_score'], X360['total_sales'], alpha=0.5, s=100, marker=\"o\")\n",
    "\n",
    "ax3.scatter(DS3['user_score'], DS3['total_sales'], alpha=0.5, s=100, marker=\"o\")\n",
    "\n",
    "ax4.scatter(DS3['critic_score'], DS3['total_sales'], alpha=0.5, s=100, marker=\"o\")\n",
    "\n",
    "ax5.scatter(XOne['user_score'], XOne['total_sales'], alpha=0.5, s=100, marker=\"o\")\n",
    "\n",
    "ax6.scatter(XOne['critic_score'], XOne['total_sales'], alpha=0.5, s=100, marker=\"o\")\n",
    "\n",
    "ax7.scatter(WiiU['user_score'], WiiU['total_sales'], alpha=0.5, s=100, marker=\"o\")\n",
    "\n",
    "ax8.scatter(WiiU['critic_score'], WiiU['total_sales'], alpha=0.5, s=100, marker=\"o\")\n",
    "\n",
    "ax9.scatter(PS4['user_score'], PS4['total_sales'], alpha=0.5, s=100, marker=\"o\")\n",
    "\n",
    "ax10.scatter(PS4['critic_score'], PS4['total_sales'], alpha=0.5, s=100, marker=\"o\")\n",
    "\n",
    "ax1.set_title('Влияние отзывов пользователей на продажи X360')\n",
    "ax2.set_title('влияние отзывов критиков на продажи X360')\n",
    "ax3.set_title('Влияние отзывов пользователей на продажи 3DS')\n",
    "ax4.set_title('влияние отзывов критиков на продажи 3DS')\n",
    "ax5.set_title('Влияние отзывов пользователей на продажи XOne')\n",
    "ax6.set_title('влияние отзывов критиков на продажи XOne')\n",
    "ax7.set_title('Влияние отзывов пользователей на продажи WiiU')\n",
    "ax8.set_title('влияние отзывов критиков на продажи WiiU')\n",
    "ax9.set_title('Влияние отзывов пользователей на продажи PS4')\n",
    "ax10.set_title('влияние отзывов критиков на продажи PS4')\n",
    "plt.tight_layout(pad=0.8, w_pad=0.8, h_pad=1.0)\n",
    "plt.show()\n"
   ]
  },
  {
   "cell_type": "markdown",
   "metadata": {},
   "source": [
    "Посчитаем корреляцию отзывов пользователей и критиков для самых популярных платформ."
   ]
  },
  {
   "cell_type": "code",
   "execution_count": 113,
   "metadata": {},
   "outputs": [
    {
     "name": "stdout",
     "output_type": "stream",
     "text": [
      "Корреляция пользовательских оценок X360: 0.33651362483599345 \n",
      "\n",
      "Корреляция оценок критиков X360: 0.5257228356581523 \n",
      "\n",
      "Корреляция пользовательских оценок 3DS: 0.2798498792503281 \n",
      "\n",
      "Корреляция оценок критиков 3DS: 0.28468579095782925 \n",
      "\n",
      "Корреляция пользовательских оценок XOne: -0.0917343450331075 \n",
      "\n",
      "Корреляция оценок критиков XOne: 0.42211185105557647 \n",
      "\n",
      "Корреляция пользовательских оценок Wii: 0.4114513876908575 \n",
      "\n",
      "Корреляция оценок критиков Wii: 0.3756402218389979 \n",
      "\n"
     ]
    }
   ],
   "source": [
    "X360cor_user = X360['user_score'].corr(X360['total_sales'])\n",
    "print(f'Корреляция пользовательских оценок X360: {X360cor_user}','\\n')\n",
    "X360cor_critic = X360['critic_score'].corr(X360['total_sales'])\n",
    "print(f'Корреляция оценок критиков X360: {X360cor_critic}','\\n')\n",
    "DS3cor_user = DS3['user_score'].corr(DS3['total_sales'])\n",
    "print(f'Корреляция пользовательских оценок 3DS: {DS3cor_user}','\\n')\n",
    "DS3cor_critic = DS3['critic_score'].corr(DS3['total_sales'])\n",
    "print(f'Корреляция оценок критиков 3DS: {DS3cor_critic}','\\n')\n",
    "XOnecor_user = XOne['user_score'].corr(XOne['total_sales'])\n",
    "print(f'Корреляция пользовательских оценок XOne: {XOnecor_user}','\\n')\n",
    "XOnecor_critic = XOne['critic_score'].corr(XOne['total_sales'])\n",
    "print(f'Корреляция оценок критиков XOne: {XOnecor_critic}','\\n')\n",
    "WiiUcor_user = WiiU['user_score'].corr(WiiU['total_sales'])\n",
    "print(f'Корреляция пользовательских оценок Wii: {WiiUcor_user}','\\n')\n",
    "WiiUcor_critic = WiiU['critic_score'].corr(WiiU['total_sales'])\n",
    "print(f'Корреляция оценок критиков Wii: {WiiUcor_critic}','\\n')"
   ]
  },
  {
   "cell_type": "markdown",
   "metadata": {},
   "source": [
    "- корреляция между оценками критиков и пользователей на продажи присутствует, но она небольшая\n",
    "- у платформы WiiU корреляция пользовательских оценок выше, по сравнению с корреляцией оценок критиков\n",
    "- у остальных платформ наоборот корреляция оценок критиков выше, по сравнению с пользовательскими оценками\n",
    "- корреляция пользовательских оценок XOne отрицательная, т.е. есть небольшая тенденция, чем ниже оценка пользователя, тем больше продаж"
   ]
  },
  {
   "cell_type": "markdown",
   "metadata": {},
   "source": [
    "## 3.7. Общее распределение игр по жанрам.\n",
    "<a id=\"genres\"></a>"
   ]
  },
  {
   "cell_type": "markdown",
   "metadata": {},
   "source": [
    "Рассмотрим общее распределение игр по жанрам за актуальный период."
   ]
  },
  {
   "cell_type": "code",
   "execution_count": 114,
   "metadata": {},
   "outputs": [
    {
     "data": {
      "image/png": "[encoded data removed]",
      "text/plain": [
       "<Figure size 1080x360 with 1 Axes>"
      ]
     },
     "metadata": {
      "needs_background": "light"
     },
     "output_type": "display_data"
    }
   ],
   "source": [
    "actual_games.groupby(by='genre').agg({'total_sales':'median'}).sort_values(by='total_sales', ascending=False).head(10).plot(kind='bar',figsize=(15,5))\n",
    "plt.title('График распределения жанров игр по глобальным продажам')\n",
    "plt.ylabel('Суммарные продажи')\n",
    "plt.xlabel('Год выпуска')\n",
    "plt.show()"
   ]
  },
  {
   "cell_type": "markdown",
   "metadata": {},
   "source": [
    "- самый прибыльный жанр c большим отрывом - shooter.\n",
    "- в топ-3 жанров входит sports и platform games.\n",
    "- в топ-10 также входят игры жанров: fighting, role-playing, simulation, action, misc, racing, strategy\n"
   ]
  },
  {
   "cell_type": "markdown",
   "metadata": {},
   "source": [
    "## 3.8. Портрет пользователя каждого региона\n",
    "<a id=\"regions\"></a>"
   ]
  },
  {
   "cell_type": "markdown",
   "metadata": {},
   "source": [
    "На данном этапе определим для пользователя каждого региона (NA, EU, JP):\n",
    "- Самые популярные платформы (топ-5). Опишем различия в долях продаж.\n",
    "- Самые популярные жанры (топ-5). Поясним разницу.\n",
    "- Рассмотрим влияет ли рейтинг ESRB на продажи в отдельном регионе?"
   ]
  },
  {
   "cell_type": "markdown",
   "metadata": {},
   "source": [
    "### Топ платформ для каждого региона"
   ]
  },
  {
   "cell_type": "markdown",
   "metadata": {},
   "source": [
    "Рассмотрим популярные платформы для каждого региона, начнем с Северной Америки."
   ]
  },
  {
   "cell_type": "code",
   "execution_count": 58,
   "metadata": {},
   "outputs": [
    {
     "data": {
      "image/png": "[encoded data removed]",
      "text/plain": [
       "<Figure size 1080x360 with 1 Axes>"
      ]
     },
     "metadata": {
      "needs_background": "light"
     },
     "output_type": "display_data"
    }
   ],
   "source": [
    "actual_games.groupby(by='platform').agg({'na_sales':'sum'}).sort_values(by='na_sales', ascending=False).head(5).plot(kind='bar',figsize=(15,5))\n",
    "plt.title('График распределения платформ в Северной Америке по глобальным продажам')\n",
    "plt.ylabel('Суммарные продажи')\n",
    "plt.xlabel('Год выпуска')\n",
    "plt.show()"
   ]
  },
  {
   "cell_type": "markdown",
   "metadata": {},
   "source": [
    "Итак,\n",
    "- на первом месте по продажам в Северной Америке платформа PS4\n",
    "- на втором месте XOne\n",
    "- на третьем месте X360 с большим отрывом от XOne, далее 3DS и PS3 .\n",
    "\n",
    "Рассмотрим популярные платформы для Европы."
   ]
  },
  {
   "cell_type": "code",
   "execution_count": 99,
   "metadata": {},
   "outputs": [
    {
     "data": {
      "image/png": "[encoded data removed]",
      "text/plain": [
       "<Figure size 1080x360 with 1 Axes>"
      ]
     },
     "metadata": {
      "needs_background": "light"
     },
     "output_type": "display_data"
    }
   ],
   "source": [
    "actual_games.groupby(by='platform').agg({'eu_sales':'sum'}).sort_values(by='eu_sales', ascending=False).head(5).plot(kind='bar',figsize=(15,5))\n",
    "plt.title('График распределения платформ в Европе по глобальным продажам')\n",
    "plt.ylabel('Суммарные продажи')\n",
    "plt.xlabel('Год выпуска')\n",
    "plt.show()"
   ]
  },
  {
   "cell_type": "markdown",
   "metadata": {},
   "source": [
    "В Европе \n",
    "- на первом месте также, как и в Северной Америке, но с большим отрывом платформа PS4.\n",
    "- на втором месте также XOne, как и в Северной Америке\n",
    "- на третьем PS3, далее PC и 3DS \n",
    "\n",
    "Рассмотрим популярные платформы в Японии."
   ]
  },
  {
   "cell_type": "code",
   "execution_count": 100,
   "metadata": {},
   "outputs": [
    {
     "data": {
      "image/png": "[encoded data removed]",
      "text/plain": [
       "<Figure size 1080x360 with 1 Axes>"
      ]
     },
     "metadata": {
      "needs_background": "light"
     },
     "output_type": "display_data"
    }
   ],
   "source": [
    "actual_games.groupby(by='platform').agg({'jp_sales':'sum'}).sort_values(by='jp_sales', ascending=False).head(5).plot(kind='bar',figsize=(15,5))\n",
    "plt.title('График распределения платформ в Японии по глобальным продажам')\n",
    "plt.ylabel('Суммарные продажи')\n",
    "plt.xlabel('Год выпуска')\n",
    "plt.show()"
   ]
  },
  {
   "cell_type": "markdown",
   "metadata": {},
   "source": [
    "В Японии\n",
    "- на первом месте платформа 3DS с большим отрывом от второго места.\n",
    "- примерно на одинаковом уровне по продажам на втором месте PS4, на третьем месте PSV\n",
    "- далее PS3 и WiiU."
   ]
  },
  {
   "cell_type": "markdown",
   "metadata": {},
   "source": [
    "Сделаем вывод о пользователей в различных регионах:\n",
    "- в Северной Америке и в Европе очень схожие предпочтения, в Японии портрет пользователя значительно отличается.\n",
    "- в Северной Америке, как и в Европе самая топовая платформа - PS4, на втором месте XOne.\n",
    "- в Японии самая популярная платформа - 3DS, на втором месте PS4.\n",
    "- как в Северной Америке, так и в Европе популярны 3DS, PS3.\n",
    "- в Японии популярны PSV, WiiU и также PS3.\n"
   ]
  },
  {
   "cell_type": "markdown",
   "metadata": {},
   "source": [
    "### Топ-5 жанров для каждого региона"
   ]
  },
  {
   "cell_type": "markdown",
   "metadata": {},
   "source": [
    "Построим графики популярных жанров для каждого региона, начнем с Северной Америки."
   ]
  },
  {
   "cell_type": "code",
   "execution_count": 61,
   "metadata": {},
   "outputs": [
    {
     "data": {
      "image/png": "[encoded data removed]",
      "text/plain": [
       "<Figure size 1080x360 with 1 Axes>"
      ]
     },
     "metadata": {
      "needs_background": "light"
     },
     "output_type": "display_data"
    }
   ],
   "source": [
    "actual_games.groupby(by='genre').agg({'na_sales':'sum'}).sort_values(by='na_sales', ascending=False).head(5).plot(kind='bar',figsize=(15,5))\n",
    "plt.title('График распределения жанров в Северной Америке по глобальным продажам')\n",
    "plt.ylabel('Суммарные продажи')\n",
    "plt.xlabel('Год выпуска')\n",
    "plt.show()"
   ]
  },
  {
   "cell_type": "markdown",
   "metadata": {},
   "source": [
    "Судя по графику жанров в Северной Америке:\n",
    "- самые популярный жанр - это shooter.\n",
    "- в тройку популярных жанров также входит action и sports. \n",
    "- также пользуются популярностью Role-playing и Misc.\n",
    "\n",
    "Рассмотрим топ жанров в Европе."
   ]
  },
  {
   "cell_type": "code",
   "execution_count": 62,
   "metadata": {},
   "outputs": [
    {
     "data": {
      "image/png": "[encoded data removed]",
      "text/plain": [
       "<Figure size 1080x360 with 1 Axes>"
      ]
     },
     "metadata": {
      "needs_background": "light"
     },
     "output_type": "display_data"
    }
   ],
   "source": [
    "actual_games.groupby(by='genre').agg({'eu_sales':'sum'}).sort_values(by='eu_sales', ascending=False).head(5).plot(kind='bar',figsize=(15,5))\n",
    "plt.title('График распределения жанров игр в Европе по глобальным продажам')\n",
    "plt.ylabel('Суммарные продажи')\n",
    "plt.xlabel('Год выпуска')\n",
    "plt.show()"
   ]
  },
  {
   "cell_type": "markdown",
   "metadata": {},
   "source": [
    "Судя по графику жанров в Европе :\n",
    "- распределение жанров в Европе и Северной Америке очень схожи.\n",
    "- самые популярный жанр - это action.\n",
    "- в тройку популярных жанров также, как и в Cеверном Америке входит shooter и sports. \n",
    "- также пользуются популярностью Role-playing, как и в Северной Америке.\n",
    "- в пятерку популярных жанров в Европе входит racing, вместо жанра misc.\n",
    "\n",
    "Рассмотрим топ жанров в Японии."
   ]
  },
  {
   "cell_type": "code",
   "execution_count": 135,
   "metadata": {},
   "outputs": [
    {
     "data": {
      "image/png": "[encoded data removed]",
      "text/plain": [
       "<Figure size 1080x360 with 1 Axes>"
      ]
     },
     "metadata": {
      "needs_background": "light"
     },
     "output_type": "display_data"
    }
   ],
   "source": [
    "actual_games.groupby(by='genre').agg({'jp_sales':'sum'}).sort_values(by='jp_sales', ascending=False).head(5).plot(kind='bar',figsize=(15,5))\n",
    "plt.title('График распределения платформ в Японии по глобальным продажам')\n",
    "plt.ylabel('Суммарные продажи')\n",
    "plt.xlabel('Год выпуска')\n",
    "plt.show()"
   ]
  },
  {
   "cell_type": "markdown",
   "metadata": {},
   "source": [
    "Судя по распределению жанров в Японии :\n",
    "- предпочтения к жанрам значительно отличается от Северной Америки и Европы.\n",
    "- cамый популярный жанр - Role-Playing, который в других регионах не входит в топ-3.\n",
    "- чуть менее популярен жанр Action, который также обладает большой популярностью в других регионах\n",
    "- в пятерку популярных жанров входит shooter, который более популярен в других регионах, fighting и misc"
   ]
  },
  {
   "cell_type": "markdown",
   "metadata": {},
   "source": [
    "Рассмотрев все распределения жанров в трех регионах, можно сказать, что\n",
    "- в Северной Америке и в Европе жанровые предпочтения во многом очень схожи.\n",
    "- В Японии предпочтения к жанрам немного отличается."
   ]
  },
  {
   "cell_type": "markdown",
   "metadata": {},
   "source": [
    "### Влияние рейтинга на продажи в регионах"
   ]
  },
  {
   "cell_type": "markdown",
   "metadata": {},
   "source": [
    "Рассмотрим влияние рейтинга на продажи в регионах. Исключим из данных строки без рейтинга."
   ]
  },
  {
   "cell_type": "markdown",
   "metadata": {},
   "source": [
    "Построим диаграмму с влиянием рейтинга на продажи в Северной Америке."
   ]
  },
  {
   "cell_type": "code",
   "execution_count": 65,
   "metadata": {},
   "outputs": [
    {
     "data": {
      "image/png": "[encoded data removed]",
      "text/plain": [
       "<Figure size 1080x360 with 1 Axes>"
      ]
     },
     "metadata": {
      "needs_background": "light"
     },
     "output_type": "display_data"
    }
   ],
   "source": [
    "actual_games.groupby(by='rating').agg({'na_sales':'sum'}).sort_values(by='na_sales', ascending=False).head(5).plot(kind='bar',figsize=(15,5))\n",
    "plt.title('График распределения влияния рейтинга на продажи в Северной Америке')\n",
    "plt.ylabel('Суммарные продажи')\n",
    "plt.xlabel('Год выпуска')\n",
    "plt.show()"
   ]
  },
  {
   "cell_type": "markdown",
   "metadata": {},
   "source": [
    "- Самые продаваемые игры в Северной Америке с M-рейтингом для взрослых. \n",
    "- На втором месте в списке игры без рейтинга. \n",
    "- Далее игры с E-рейтингом («Everyone») — «Для всех». Содержание вполне подходит для возрастной категории от 6 лет. Такие игры могут понравиться и взрослым. \n",
    "- Также в продажах популярны игры с T-рейтингом для подростков.\n",
    "- На пятом месте E10+ - игры для всех от 10 лет и старше и на пятом игры EC для детей младшего возраста. "
   ]
  },
  {
   "cell_type": "markdown",
   "metadata": {},
   "source": [
    "Построим диаграмму с влиянием рейтинга на продажи в Европе."
   ]
  },
  {
   "cell_type": "code",
   "execution_count": 66,
   "metadata": {},
   "outputs": [
    {
     "data": {
      "image/png": "[encoded data removed]",
      "text/plain": [
       "<Figure size 1080x360 with 1 Axes>"
      ]
     },
     "metadata": {
      "needs_background": "light"
     },
     "output_type": "display_data"
    }
   ],
   "source": [
    "actual_games.groupby(by='rating').agg({'eu_sales':'sum'}).sort_values(by='eu_sales', ascending=False).head(5).plot(kind='bar',figsize=(15,5))\n",
    "plt.title('График распределения влияния рейтинга на продажи в Европе')\n",
    "plt.ylabel('Суммарные продажи')\n",
    "plt.xlabel('Год выпуска')\n",
    "plt.show()"
   ]
  },
  {
   "cell_type": "markdown",
   "metadata": {},
   "source": [
    "- распределение влияния рейтинга на продажи в Европе очень схоже с распределением Северной Америки\n",
    "- игр с рейтингом E в Европе больше, чем в Cеверной Америке"
   ]
  },
  {
   "cell_type": "markdown",
   "metadata": {},
   "source": [
    "Построим диаграмму с влиянием рейтинга на продажи в Японии."
   ]
  },
  {
   "cell_type": "code",
   "execution_count": 67,
   "metadata": {},
   "outputs": [
    {
     "data": {
      "image/png": "[encoded data removed]",
      "text/plain": [
       "<Figure size 1080x360 with 1 Axes>"
      ]
     },
     "metadata": {
      "needs_background": "light"
     },
     "output_type": "display_data"
    }
   ],
   "source": [
    "actual_games.groupby(by='rating').agg({'jp_sales':'sum'}).sort_values(by='jp_sales', ascending=False).head(5).plot(kind='bar',figsize=(15,5))\n",
    "plt.title('График распределения влияния рейтинга на продажи в Японии')\n",
    "plt.ylabel('Суммарные продажи')\n",
    "plt.xlabel('Год выпуска')\n",
    "plt.show()"
   ]
  },
  {
   "cell_type": "markdown",
   "metadata": {},
   "source": [
    "- распределение рейтинга в Японии отличается от распределения других стран.\n",
    "- в график распределения Японии входят те же рейтинги, что и в других странах, но различается порядок их распределения.\n",
    "- самые продаваемые игры в Японии без рейтинга.\n",
    "- на втором месте игры с T-рейтингом для подростков.\n",
    "- на третьем иесте игры с E-рейтингом («Everyone») — «Для всех».\n",
    "- далее игры с М-рейтингом для взрослых. \n",
    "- на пятом месте, как и в других регионах E10+ - игры для всех от 10 лет и старше."
   ]
  },
  {
   "cell_type": "markdown",
   "metadata": {},
   "source": [
    "Рассмотрев графики распределения влияния рейтинга на продажи в различных регионах, можно сделать вывод о том, что\n",
    "- Влияние рейтинга на продажи в Северной Америке и в Европе примерно одинаковое.\n",
    "- Самые продаваемые игры в Северной Америке и Европе с M-рейтингом для взрослых. На втором месте в списке игры без рейтинга. Далее игры с E-рейтингом («Everyone») — «Для всех». Также в продажах популярны игры с T-рейтингом для подростков. На пятом месте E10+ - игры для всех от 10 лет и старше и на пятом игры EC для детей младшего возраста.\n",
    "- В Японии влияние рейтинга немного отличается. Самые продаваемые игры в Японии без рейтинга, на втором месте игры с T-рейтингом для подростков, далее с E-рейтингом («Everyone») — «Для всех», затем с М-рейтингом для взрослых. На пятом месте, как и в других регионах E10+ - игры для всех от 10 лет и старше."
   ]
  },
  {
   "cell_type": "markdown",
   "metadata": {},
   "source": [
    "## Вывод"
   ]
  },
  {
   "cell_type": "markdown",
   "metadata": {},
   "source": [
    "В результате исследовательского анализа данных:\n",
    "- Посмотрели, сколько игр выпускалось в разные годы. И выяснили, что с 1980 по 1994 год игровая индустрия почти не развивалась. С 1995 года началось постепенное увеличение выпущенных игр. На 2009-2010 годы приходится пик выпуска игр. Далее игровая индустрия сбавила обороты.\n",
    "- Рассмотрели, как менялись продажи по платформам. И выявили, что средний срок жизнедеятельности платформы 9 лет.\n",
    "- Определили и взяли данные за актуальный период с 2014 по 2016 год.\n",
    "- Определили что платформа PS4 лидируют по продажам. Выбрали потенциально прибыльные платформы на следующий 2017 год: PS4 и XOne.\n",
    "- Построили график «ящик с усами» по глобальным продажам игр в разбивке по платформам.\n",
    "- Разобрали, как влияют на продажи внутри одной популярной платформы отзывы пользователей и критиков.\n",
    "- Построли диаграмму рассеяния и посчитали корреляцию между отзывами и продажами. Соотнесли выводы с продажами игр на других платформах. Сформулировали выводы, что корреляция оценок критиков и пользователей низкая.\n",
    "- Посмотрели на общее распределение игр по жанрам. И выяснили, что самый прибыльный жанр - shooter.\n",
    "- Изучили портрет пользователя для трех регионов - Северной Америки, Европы и Японии. Выявили, что пользователи Северной Америки и Европы очень схожи. Пользователи Японии отличаются от других регионов."
   ]
  },
  {
   "cell_type": "markdown",
   "metadata": {},
   "source": [
    "## Шаг 4. Проверка гипотез\n",
    "<a id=\"hypothesis\"></a>"
   ]
  },
  {
   "cell_type": "markdown",
   "metadata": {},
   "source": [
    "Cформулируем нулевую и альтернативную гипотезу."
   ]
  },
  {
   "cell_type": "markdown",
   "metadata": {},
   "source": [
    "H0: средний пользовательский рейтинг платформ Xbox One и PS одинаковый\n",
    "\n",
    "H1: средний пользовательский рейтинг платформ Xbox One и PS различается"
   ]
  },
  {
   "cell_type": "code",
   "execution_count": 68,
   "metadata": {},
   "outputs": [
    {
     "name": "stdout",
     "output_type": "stream",
     "text": [
      "p-значение: 1.3896435533548819e-05\n",
      "Отвергаем нулевую гипотезу\n"
     ]
    }
   ],
   "source": [
    "xbox = games[(games['platform']=='XOne')&(games['user_score'] > 0)]['user_score']\n",
    "pc = games[(games['platform']=='PC')&(games['user_score'] > 0)]['user_score']\n",
    "alpha = .05 # критический уровень статистической значимости\n",
    "\n",
    "results = st.ttest_ind(xbox, pc)\n",
    "print('p-значение:', results.pvalue)\n",
    "\n",
    "if (results.pvalue < alpha):\n",
    "    print(\"Отвергаем нулевую гипотезу\")\n",
    "else:\n",
    "    print(\"Не получилось отвергнуть нулевую гипотез\")"
   ]
  },
  {
   "cell_type": "markdown",
   "metadata": {},
   "source": [
    "Нулевая гипотеза отвергнута, это дает основание полагать, что средний пользовательский рейтинг платформ Xbox One и PS различается."
   ]
  },
  {
   "cell_type": "markdown",
   "metadata": {},
   "source": [
    "Проверим вторую гипотезу. Cформулируем нулевую и альтернативную гипотезу."
   ]
  },
  {
   "cell_type": "markdown",
   "metadata": {},
   "source": [
    "H0: средний пользовательский рейтинг жанров Action и Sports одинаковый\n",
    "\n",
    "H1: средний пользовательский рейтинг жанров Action и Sports различается"
   ]
  },
  {
   "cell_type": "code",
   "execution_count": 69,
   "metadata": {},
   "outputs": [
    {
     "name": "stdout",
     "output_type": "stream",
     "text": [
      "p-значение: 0.10406951359049141\n",
      "Не получилось отвергнуть нулевую гипотезу\n"
     ]
    }
   ],
   "source": [
    "action = games[(games['genre'] == 'Action') & (games['user_score'] > 0)]['user_score']\n",
    "sports = games[(games['genre'] == 'Sports') & (games['user_score'] > 0)]['user_score']\n",
    "alpha = .05 # критический уровень статистической значимости\n",
    "results = st.ttest_ind(action, sports)\n",
    "print('p-значение:', results.pvalue)\n",
    "\n",
    "if (results.pvalue < alpha):\n",
    "    print(\"Отвергаем нулевую гипотезу\")\n",
    "else:\n",
    "    print(\"Не получилось отвергнуть нулевую гипотезу\")"
   ]
  },
  {
   "cell_type": "markdown",
   "metadata": {},
   "source": [
    "Не получилось отвергнуть нулевую гипотезу, это дает основание полагать, что средний пользовательский рейтинг жанров Action и Sports одинаковый."
   ]
  },
  {
   "cell_type": "markdown",
   "metadata": {},
   "source": [
    "# Вывод\n",
    "<a id=\"conclusion\"></a>"
   ]
  },
  {
   "cell_type": "markdown",
   "metadata": {},
   "source": [
    "В результате проектной работы: \n",
    "- Подготовили данные для анализа - привели столбцы к нижнему регистру, заполнили пропуски, преобразовали данные к нужным типам, посчитали суммарные продажи во всех регионах.\n",
    "- Провели исследовательский анализ данных.\n",
    "- Выявили, что с 1980 по 1994 год игровая индустрия почти не развивалась. С 1995 года началось постепенное увеличение выпущенных игр. На 2009-2010 годы приходится пик выпуска игр. Далее игровая индустрия сбавила обороты. \n",
    "- Обнаружили, что примерно за 9 лет появляются новые и исчезают старые платформы.\n",
    "- Актуализировали данные, взяли период с 2014 по 2016 год.\n",
    "- Определили лидера продажа среди платформенных игр и выяснили, что перспективные и прибыльные платформы PS4 и XOne.\n",
    "- Рассмотрели влияние отзывов на продажи. Узнали, что отызвы слабо влияют на продажи. \n",
    "- Установили, что самый прибыльный жанр среди игр - shooter, также в топ-3 жанров входит sports и platform games.\n",
    "- Увидели, что в регионах различные лидеры по продажам среди платформ. В Северной Америке самая топовая платформа - X-360, в Европе - PS3, в Японии DS. Также во всех регионах популярны Wii, PS4, 3DS, PSP.\n",
    "- Узнали, что в Северной Америке и в Европе жанровые предпочтения очень схожи. Самый популярный жанр action, затем sports, shooter и musc. В Японии предпочтения к жанрам немного отличается. Cамый продаваемый жанр role-playing.\n",
    "- Выяснили, что самые популярные платформмы в Северной Америке и в Европе - PS4 и XOne. В Японии - 3DS и PS4. Описали различия в долях продаж.\n",
    "- Определили самые популярные жанры (топ-5) в регионах. Обнаружили, что в Северной Америке и в Европе жанровые предпочтения во многом очень схожи. Самый популярные жанры это action, sports, shooter. В Японии предпочтения к жанрам немного отличается. Cамый продаваемый жанр role-playing. Таже в Японии популярны, как и в других регионах игры жанра action. Пояснили разницу.\n",
    "- Определили влияет ли рейтинг ESRB на продажи в отдельном регионе? Выяснили, что влияние рейтинга на продажи в Северной Америке и в Европе примерно одинаковое. Самые продаваемые игры в Северной Америке и Европе с M-рейтингом для взрослых. На втором месте в списке игры без рейтинга. Далее игры с E-рейтингом («Everyone») — «Для всех». Также в продажах популярны игры с T-рейтингом для подростков. На пятом месте E10+ - игры для всех от 10 лет и старше и на пятом игры EC для детей младшего возраста. В Японии влияние рейтинга немного отличается. Самые продаваемые игры в Японии, без рейтинга, на втором месте игры с T-рейтингом для подростков, далее с E-рейтингом («Everyone») — «Для всех», затем с М-рейтингом для взрослых. На пятом месте, как и в других регионах E10+ - игры для всех от 10 лет и старше.\n",
    "- Проверили гипотезы и предположили, что средний пользовательский рейтинг платформ Xbox One и PS различается, о средний пользовательский рейтинг жанров Action и Sports одинаковый."
   ]
  }
 ],
 "metadata": {
  "ExecuteTimeLog": [
   {
    "duration": 698,
    "start_time": "2022-01-11T20:52:10.069Z"
   },
   {
    "duration": 47,
    "start_time": "2022-01-11T20:52:59.455Z"
   },
   {
    "duration": 32,
    "start_time": "2022-01-11T20:53:08.504Z"
   },
   {
    "duration": 173,
    "start_time": "2022-01-12T08:58:27.677Z"
   },
   {
    "duration": 532,
    "start_time": "2022-01-12T08:58:32.618Z"
   },
   {
    "duration": 38,
    "start_time": "2022-01-12T08:58:33.152Z"
   },
   {
    "duration": 20,
    "start_time": "2022-01-12T08:58:33.192Z"
   },
   {
    "duration": 9,
    "start_time": "2022-01-12T08:58:33.214Z"
   },
   {
    "duration": 21,
    "start_time": "2022-01-12T09:04:56.767Z"
   },
   {
    "duration": 21,
    "start_time": "2022-01-12T09:10:30.321Z"
   },
   {
    "duration": 29,
    "start_time": "2022-01-12T09:11:44.784Z"
   },
   {
    "duration": 3772,
    "start_time": "2022-01-12T09:12:20.711Z"
   },
   {
    "duration": 21,
    "start_time": "2022-01-12T09:13:07.121Z"
   },
   {
    "duration": 3895,
    "start_time": "2022-01-12T09:13:08.761Z"
   },
   {
    "duration": 575,
    "start_time": "2022-01-12T09:13:18.769Z"
   },
   {
    "duration": 37,
    "start_time": "2022-01-12T09:13:19.346Z"
   },
   {
    "duration": 26,
    "start_time": "2022-01-12T09:13:19.385Z"
   },
   {
    "duration": 13,
    "start_time": "2022-01-12T09:13:19.413Z"
   },
   {
    "duration": 20,
    "start_time": "2022-01-12T09:13:19.428Z"
   },
   {
    "duration": 3779,
    "start_time": "2022-01-12T09:13:19.450Z"
   },
   {
    "duration": 3394,
    "start_time": "2022-01-12T09:13:52.499Z"
   },
   {
    "duration": 20,
    "start_time": "2022-01-12T09:14:08.845Z"
   },
   {
    "duration": 7,
    "start_time": "2022-01-12T09:14:20.294Z"
   },
   {
    "duration": 149,
    "start_time": "2022-01-12T09:14:25.679Z"
   },
   {
    "duration": 2,
    "start_time": "2022-01-12T09:16:07.135Z"
   },
   {
    "duration": 11,
    "start_time": "2022-01-12T09:16:12.866Z"
   },
   {
    "duration": 130,
    "start_time": "2022-01-12T09:16:46.724Z"
   },
   {
    "duration": 9,
    "start_time": "2022-01-12T09:16:55.938Z"
   },
   {
    "duration": 2057,
    "start_time": "2022-01-12T09:19:23.314Z"
   },
   {
    "duration": 1080,
    "start_time": "2022-01-12T09:19:25.373Z"
   },
   {
    "duration": 38,
    "start_time": "2022-01-12T09:19:26.455Z"
   },
   {
    "duration": 25,
    "start_time": "2022-01-12T09:19:26.495Z"
   },
   {
    "duration": 11,
    "start_time": "2022-01-12T09:19:26.522Z"
   },
   {
    "duration": 22,
    "start_time": "2022-01-12T09:19:26.535Z"
   },
   {
    "duration": 15,
    "start_time": "2022-01-12T09:19:26.558Z"
   },
   {
    "duration": 23,
    "start_time": "2022-01-12T09:19:26.575Z"
   },
   {
    "duration": 226,
    "start_time": "2022-01-12T09:19:26.600Z"
   },
   {
    "duration": 887,
    "start_time": "2022-01-12T09:19:42.723Z"
   },
   {
    "duration": 19,
    "start_time": "2022-01-12T09:21:52.263Z"
   },
   {
    "duration": 3906,
    "start_time": "2022-01-12T09:22:19.490Z"
   },
   {
    "duration": 7,
    "start_time": "2022-01-12T09:22:30.359Z"
   },
   {
    "duration": 11,
    "start_time": "2022-01-12T09:22:53.638Z"
   },
   {
    "duration": 15,
    "start_time": "2022-01-12T09:23:40.285Z"
   },
   {
    "duration": 15,
    "start_time": "2022-01-12T09:24:16.853Z"
   },
   {
    "duration": 15,
    "start_time": "2022-01-12T09:24:28.569Z"
   },
   {
    "duration": 14,
    "start_time": "2022-01-12T09:25:24.533Z"
   },
   {
    "duration": 13,
    "start_time": "2022-01-12T09:25:32.719Z"
   },
   {
    "duration": 15,
    "start_time": "2022-01-12T09:25:54.732Z"
   },
   {
    "duration": 15,
    "start_time": "2022-01-12T09:26:43.266Z"
   },
   {
    "duration": 12,
    "start_time": "2022-01-12T09:27:23.641Z"
   },
   {
    "duration": 937,
    "start_time": "2022-01-12T09:28:47.084Z"
   },
   {
    "duration": 13,
    "start_time": "2022-01-12T09:34:42.171Z"
   },
   {
    "duration": 5,
    "start_time": "2022-01-12T09:35:38.851Z"
   },
   {
    "duration": 20,
    "start_time": "2022-01-12T09:37:32.381Z"
   },
   {
    "duration": 145,
    "start_time": "2022-01-12T10:00:44.408Z"
   },
   {
    "duration": 133,
    "start_time": "2022-01-12T10:00:49.182Z"
   },
   {
    "duration": 1927,
    "start_time": "2022-01-12T10:00:56.189Z"
   },
   {
    "duration": 1941,
    "start_time": "2022-01-12T10:00:58.119Z"
   },
   {
    "duration": 38,
    "start_time": "2022-01-12T10:01:00.063Z"
   },
   {
    "duration": 23,
    "start_time": "2022-01-12T10:01:00.103Z"
   },
   {
    "duration": 20,
    "start_time": "2022-01-12T10:01:00.127Z"
   },
   {
    "duration": 6,
    "start_time": "2022-01-12T10:01:00.149Z"
   },
   {
    "duration": 15,
    "start_time": "2022-01-12T10:01:00.157Z"
   },
   {
    "duration": 21,
    "start_time": "2022-01-12T10:01:00.173Z"
   },
   {
    "duration": 928,
    "start_time": "2022-01-12T10:01:00.197Z"
   },
   {
    "duration": 14,
    "start_time": "2022-01-12T10:01:01.127Z"
   },
   {
    "duration": 13,
    "start_time": "2022-01-12T10:01:01.143Z"
   },
   {
    "duration": 35,
    "start_time": "2022-01-12T10:01:01.157Z"
   },
   {
    "duration": 274,
    "start_time": "2022-01-12T10:01:01.194Z"
   },
   {
    "duration": 10,
    "start_time": "2022-01-12T10:01:11.093Z"
   },
   {
    "duration": 48,
    "start_time": "2022-01-12T10:03:21.209Z"
   },
   {
    "duration": 635,
    "start_time": "2022-01-12T10:03:38.054Z"
   },
   {
    "duration": 4,
    "start_time": "2022-01-12T10:03:50.984Z"
   },
   {
    "duration": 617,
    "start_time": "2022-01-12T10:04:04.015Z"
   },
   {
    "duration": 1884,
    "start_time": "2022-01-12T10:04:12.760Z"
   },
   {
    "duration": 1217,
    "start_time": "2022-01-12T10:04:14.647Z"
   },
   {
    "duration": 39,
    "start_time": "2022-01-12T10:04:15.865Z"
   },
   {
    "duration": 24,
    "start_time": "2022-01-12T10:04:15.906Z"
   },
   {
    "duration": 28,
    "start_time": "2022-01-12T10:04:15.931Z"
   },
   {
    "duration": 2945,
    "start_time": "2022-01-12T10:04:15.961Z"
   },
   {
    "duration": -1764,
    "start_time": "2022-01-12T10:04:20.672Z"
   },
   {
    "duration": -1773,
    "start_time": "2022-01-12T10:04:20.683Z"
   },
   {
    "duration": -1776,
    "start_time": "2022-01-12T10:04:20.687Z"
   },
   {
    "duration": -1785,
    "start_time": "2022-01-12T10:04:20.697Z"
   },
   {
    "duration": -1788,
    "start_time": "2022-01-12T10:04:20.701Z"
   },
   {
    "duration": -1791,
    "start_time": "2022-01-12T10:04:20.705Z"
   },
   {
    "duration": -1801,
    "start_time": "2022-01-12T10:04:20.716Z"
   },
   {
    "duration": 7,
    "start_time": "2022-01-12T10:05:19.809Z"
   },
   {
    "duration": 20,
    "start_time": "2022-01-12T10:05:29.658Z"
   },
   {
    "duration": 11,
    "start_time": "2022-01-12T10:07:53.689Z"
   },
   {
    "duration": 6,
    "start_time": "2022-01-12T10:07:54.648Z"
   },
   {
    "duration": 4,
    "start_time": "2022-01-12T10:07:56.820Z"
   },
   {
    "duration": 10,
    "start_time": "2022-01-12T10:07:58.754Z"
   },
   {
    "duration": 5,
    "start_time": "2022-01-12T10:07:59.120Z"
   },
   {
    "duration": 20,
    "start_time": "2022-01-12T10:07:59.429Z"
   },
   {
    "duration": 10,
    "start_time": "2022-01-12T10:07:59.758Z"
   },
   {
    "duration": 6,
    "start_time": "2022-01-12T10:08:59.082Z"
   },
   {
    "duration": 18,
    "start_time": "2022-01-12T10:09:02.565Z"
   },
   {
    "duration": 14,
    "start_time": "2022-01-12T10:09:28.493Z"
   },
   {
    "duration": 617,
    "start_time": "2022-01-12T10:10:04.925Z"
   },
   {
    "duration": 5,
    "start_time": "2022-01-12T10:10:46.085Z"
   },
   {
    "duration": 12,
    "start_time": "2022-01-12T10:10:47.863Z"
   },
   {
    "duration": 13,
    "start_time": "2022-01-12T10:11:10.233Z"
   },
   {
    "duration": 556,
    "start_time": "2022-01-12T10:11:11.350Z"
   },
   {
    "duration": 14,
    "start_time": "2022-01-12T10:12:44.500Z"
   },
   {
    "duration": 4,
    "start_time": "2022-01-12T10:30:16.172Z"
   },
   {
    "duration": 10,
    "start_time": "2022-01-12T10:30:38.909Z"
   },
   {
    "duration": 9,
    "start_time": "2022-01-12T10:30:40.747Z"
   },
   {
    "duration": 5,
    "start_time": "2022-01-12T10:31:52.483Z"
   },
   {
    "duration": 7,
    "start_time": "2022-01-12T10:32:09.102Z"
   },
   {
    "duration": 5,
    "start_time": "2022-01-12T10:32:24.484Z"
   },
   {
    "duration": 7,
    "start_time": "2022-01-12T10:33:22.413Z"
   },
   {
    "duration": 20,
    "start_time": "2022-01-12T10:33:39.569Z"
   },
   {
    "duration": 156,
    "start_time": "2022-01-12T10:34:27.409Z"
   },
   {
    "duration": 7,
    "start_time": "2022-01-12T10:34:35.916Z"
   },
   {
    "duration": 10,
    "start_time": "2022-01-12T10:34:46.667Z"
   },
   {
    "duration": 12,
    "start_time": "2022-01-12T10:35:52.553Z"
   },
   {
    "duration": 186,
    "start_time": "2022-01-12T10:36:37.841Z"
   },
   {
    "duration": 440,
    "start_time": "2022-01-12T10:36:51.833Z"
   },
   {
    "duration": 5,
    "start_time": "2022-01-12T10:41:41.764Z"
   },
   {
    "duration": 16,
    "start_time": "2022-01-12T10:41:46.675Z"
   },
   {
    "duration": 4008,
    "start_time": "2022-01-12T10:59:21.913Z"
   },
   {
    "duration": 6,
    "start_time": "2022-01-12T10:59:42.948Z"
   },
   {
    "duration": 19,
    "start_time": "2022-01-12T10:59:48.373Z"
   },
   {
    "duration": 6,
    "start_time": "2022-01-12T11:00:25.219Z"
   },
   {
    "duration": 143,
    "start_time": "2022-01-12T11:00:47.331Z"
   },
   {
    "duration": 4,
    "start_time": "2022-01-12T11:01:32.335Z"
   },
   {
    "duration": 497,
    "start_time": "2022-01-12T11:05:24.719Z"
   },
   {
    "duration": 20,
    "start_time": "2022-01-12T11:05:32.025Z"
   },
   {
    "duration": 17,
    "start_time": "2022-01-12T11:05:37.945Z"
   },
   {
    "duration": 1085,
    "start_time": "2022-01-12T11:06:41.096Z"
   },
   {
    "duration": 38,
    "start_time": "2022-01-12T11:06:42.183Z"
   },
   {
    "duration": 24,
    "start_time": "2022-01-12T11:06:42.225Z"
   },
   {
    "duration": 11,
    "start_time": "2022-01-12T11:06:42.251Z"
   },
   {
    "duration": 6,
    "start_time": "2022-01-12T11:06:42.264Z"
   },
   {
    "duration": 12,
    "start_time": "2022-01-12T11:06:42.290Z"
   },
   {
    "duration": 14,
    "start_time": "2022-01-12T11:06:42.304Z"
   },
   {
    "duration": 12,
    "start_time": "2022-01-12T11:06:42.321Z"
   },
   {
    "duration": 5,
    "start_time": "2022-01-12T11:06:42.335Z"
   },
   {
    "duration": 6,
    "start_time": "2022-01-12T11:06:42.341Z"
   },
   {
    "duration": 7,
    "start_time": "2022-01-12T11:06:42.348Z"
   },
   {
    "duration": 49,
    "start_time": "2022-01-12T11:06:42.357Z"
   },
   {
    "duration": 4,
    "start_time": "2022-01-12T11:06:42.408Z"
   },
   {
    "duration": 9,
    "start_time": "2022-01-12T11:06:42.414Z"
   },
   {
    "duration": 9,
    "start_time": "2022-01-12T11:06:42.425Z"
   },
   {
    "duration": 19,
    "start_time": "2022-01-12T11:06:42.436Z"
   },
   {
    "duration": 40,
    "start_time": "2022-01-12T11:06:42.457Z"
   },
   {
    "duration": 7,
    "start_time": "2022-01-12T11:06:42.499Z"
   },
   {
    "duration": 10,
    "start_time": "2022-01-12T11:06:42.508Z"
   },
   {
    "duration": 13,
    "start_time": "2022-01-12T11:06:42.520Z"
   },
   {
    "duration": 7,
    "start_time": "2022-01-12T11:06:42.535Z"
   },
   {
    "duration": 48,
    "start_time": "2022-01-12T11:06:42.545Z"
   },
   {
    "duration": 2,
    "start_time": "2022-01-12T11:07:16.414Z"
   },
   {
    "duration": 223,
    "start_time": "2022-01-12T11:07:36.707Z"
   },
   {
    "duration": 138,
    "start_time": "2022-01-12T11:07:42.758Z"
   },
   {
    "duration": 135,
    "start_time": "2022-01-12T11:07:45.560Z"
   },
   {
    "duration": 137,
    "start_time": "2022-01-12T11:07:58.566Z"
   },
   {
    "duration": 1121,
    "start_time": "2022-01-12T11:08:08.957Z"
   },
   {
    "duration": 39,
    "start_time": "2022-01-12T11:08:10.080Z"
   },
   {
    "duration": 27,
    "start_time": "2022-01-12T11:08:10.121Z"
   },
   {
    "duration": 15,
    "start_time": "2022-01-12T11:08:10.150Z"
   },
   {
    "duration": 27,
    "start_time": "2022-01-12T11:08:10.167Z"
   },
   {
    "duration": 291,
    "start_time": "2022-01-12T11:08:10.196Z"
   },
   {
    "duration": -1743,
    "start_time": "2022-01-12T11:08:12.234Z"
   },
   {
    "duration": -1763,
    "start_time": "2022-01-12T11:08:12.255Z"
   },
   {
    "duration": -1810,
    "start_time": "2022-01-12T11:08:12.304Z"
   },
   {
    "duration": -1847,
    "start_time": "2022-01-12T11:08:12.342Z"
   },
   {
    "duration": -1886,
    "start_time": "2022-01-12T11:08:12.382Z"
   },
   {
    "duration": -1892,
    "start_time": "2022-01-12T11:08:12.389Z"
   },
   {
    "duration": -1897,
    "start_time": "2022-01-12T11:08:12.395Z"
   },
   {
    "duration": -1900,
    "start_time": "2022-01-12T11:08:12.400Z"
   },
   {
    "duration": -1906,
    "start_time": "2022-01-12T11:08:12.407Z"
   },
   {
    "duration": -1910,
    "start_time": "2022-01-12T11:08:12.412Z"
   },
   {
    "duration": -1912,
    "start_time": "2022-01-12T11:08:12.418Z"
   },
   {
    "duration": -1915,
    "start_time": "2022-01-12T11:08:12.422Z"
   },
   {
    "duration": -1919,
    "start_time": "2022-01-12T11:08:12.427Z"
   },
   {
    "duration": -1923,
    "start_time": "2022-01-12T11:08:12.433Z"
   },
   {
    "duration": -1967,
    "start_time": "2022-01-12T11:08:12.478Z"
   },
   {
    "duration": -1971,
    "start_time": "2022-01-12T11:08:12.484Z"
   },
   {
    "duration": -1989,
    "start_time": "2022-01-12T11:08:12.503Z"
   },
   {
    "duration": 13,
    "start_time": "2022-01-12T11:08:34.865Z"
   },
   {
    "duration": 4,
    "start_time": "2022-01-12T11:08:47.005Z"
   },
   {
    "duration": 1076,
    "start_time": "2022-01-12T11:09:05.574Z"
   },
   {
    "duration": 37,
    "start_time": "2022-01-12T11:09:06.652Z"
   },
   {
    "duration": 18,
    "start_time": "2022-01-12T11:09:06.691Z"
   },
   {
    "duration": 10,
    "start_time": "2022-01-12T11:09:06.711Z"
   },
   {
    "duration": 5,
    "start_time": "2022-01-12T11:09:06.722Z"
   },
   {
    "duration": 8,
    "start_time": "2022-01-12T11:09:06.729Z"
   },
   {
    "duration": 11,
    "start_time": "2022-01-12T11:09:06.738Z"
   },
   {
    "duration": 39,
    "start_time": "2022-01-12T11:09:06.752Z"
   },
   {
    "duration": 13,
    "start_time": "2022-01-12T11:09:06.794Z"
   },
   {
    "duration": 7,
    "start_time": "2022-01-12T11:09:06.809Z"
   },
   {
    "duration": 13,
    "start_time": "2022-01-12T11:09:06.818Z"
   },
   {
    "duration": 11,
    "start_time": "2022-01-12T11:09:06.833Z"
   },
   {
    "duration": 18,
    "start_time": "2022-01-12T11:09:06.846Z"
   },
   {
    "duration": 7,
    "start_time": "2022-01-12T11:09:06.866Z"
   },
   {
    "duration": 22,
    "start_time": "2022-01-12T11:09:06.874Z"
   },
   {
    "duration": 9,
    "start_time": "2022-01-12T11:09:06.898Z"
   },
   {
    "duration": 18,
    "start_time": "2022-01-12T11:09:06.908Z"
   },
   {
    "duration": 6,
    "start_time": "2022-01-12T11:09:06.927Z"
   },
   {
    "duration": 7,
    "start_time": "2022-01-12T11:09:06.935Z"
   },
   {
    "duration": 8,
    "start_time": "2022-01-12T11:09:06.943Z"
   },
   {
    "duration": 43,
    "start_time": "2022-01-12T11:09:06.953Z"
   },
   {
    "duration": 5,
    "start_time": "2022-01-12T11:09:06.998Z"
   },
   {
    "duration": 17,
    "start_time": "2022-01-12T11:09:07.006Z"
   },
   {
    "duration": 12,
    "start_time": "2022-01-12T11:10:06.983Z"
   },
   {
    "duration": 5,
    "start_time": "2022-01-12T11:10:11.314Z"
   },
   {
    "duration": 12,
    "start_time": "2022-01-12T11:10:12.691Z"
   },
   {
    "duration": 3,
    "start_time": "2022-01-12T11:10:53.578Z"
   },
   {
    "duration": 9,
    "start_time": "2022-01-12T11:11:14.760Z"
   },
   {
    "duration": 10,
    "start_time": "2022-01-12T11:11:29.184Z"
   },
   {
    "duration": 12,
    "start_time": "2022-01-12T11:11:36.040Z"
   },
   {
    "duration": 15,
    "start_time": "2022-01-12T11:11:40.821Z"
   },
   {
    "duration": 5,
    "start_time": "2022-01-12T11:12:56.199Z"
   },
   {
    "duration": 17,
    "start_time": "2022-01-12T11:13:02.652Z"
   },
   {
    "duration": 3668,
    "start_time": "2022-01-12T11:43:21.020Z"
   },
   {
    "duration": 5,
    "start_time": "2022-01-12T11:43:31.509Z"
   },
   {
    "duration": 20,
    "start_time": "2022-01-12T11:43:34.455Z"
   },
   {
    "duration": 6,
    "start_time": "2022-01-12T11:44:57.792Z"
   },
   {
    "duration": 6,
    "start_time": "2022-01-12T11:45:39.959Z"
   },
   {
    "duration": 5,
    "start_time": "2022-01-12T11:45:46.008Z"
   },
   {
    "duration": 6,
    "start_time": "2022-01-12T11:46:32.562Z"
   },
   {
    "duration": 159,
    "start_time": "2022-01-12T11:47:12.975Z"
   },
   {
    "duration": 6,
    "start_time": "2022-01-12T11:47:22.581Z"
   },
   {
    "duration": 143,
    "start_time": "2022-01-12T11:47:52.430Z"
   },
   {
    "duration": 7,
    "start_time": "2022-01-12T11:48:03.234Z"
   },
   {
    "duration": 7,
    "start_time": "2022-01-12T11:55:09.264Z"
   },
   {
    "duration": 8,
    "start_time": "2022-01-12T11:55:27.526Z"
   },
   {
    "duration": 7,
    "start_time": "2022-01-12T11:55:35.512Z"
   },
   {
    "duration": 193,
    "start_time": "2022-01-12T11:58:12.443Z"
   },
   {
    "duration": 7,
    "start_time": "2022-01-12T11:58:24.370Z"
   },
   {
    "duration": 12,
    "start_time": "2022-01-12T11:59:37.808Z"
   },
   {
    "duration": 9,
    "start_time": "2022-01-12T11:59:43.515Z"
   },
   {
    "duration": 173,
    "start_time": "2022-01-12T12:00:03.468Z"
   },
   {
    "duration": 668,
    "start_time": "2022-01-12T12:00:15.033Z"
   },
   {
    "duration": 16,
    "start_time": "2022-01-12T12:00:20.572Z"
   },
   {
    "duration": 10,
    "start_time": "2022-01-12T12:00:51.535Z"
   },
   {
    "duration": 190,
    "start_time": "2022-01-12T12:01:04.903Z"
   },
   {
    "duration": 11,
    "start_time": "2022-01-12T12:01:10.045Z"
   },
   {
    "duration": 10,
    "start_time": "2022-01-12T12:01:17.384Z"
   },
   {
    "duration": 142,
    "start_time": "2022-01-12T12:01:35.719Z"
   },
   {
    "duration": 4,
    "start_time": "2022-01-12T12:01:39.269Z"
   },
   {
    "duration": 183,
    "start_time": "2022-01-12T12:01:41.125Z"
   },
   {
    "duration": 9,
    "start_time": "2022-01-12T12:01:50.409Z"
   },
   {
    "duration": 312,
    "start_time": "2022-01-12T14:45:39.699Z"
   },
   {
    "duration": 285,
    "start_time": "2022-01-12T14:45:46.359Z"
   },
   {
    "duration": 108,
    "start_time": "2022-01-12T14:46:09.169Z"
   },
   {
    "duration": 244,
    "start_time": "2022-01-12T14:46:11.518Z"
   },
   {
    "duration": 249,
    "start_time": "2022-01-12T14:46:43.775Z"
   },
   {
    "duration": 1162,
    "start_time": "2022-01-12T14:46:54.949Z"
   },
   {
    "duration": -31,
    "start_time": "2022-01-12T14:46:56.147Z"
   },
   {
    "duration": -35,
    "start_time": "2022-01-12T14:46:56.152Z"
   },
   {
    "duration": -36,
    "start_time": "2022-01-12T14:46:56.155Z"
   },
   {
    "duration": -36,
    "start_time": "2022-01-12T14:46:56.156Z"
   },
   {
    "duration": -36,
    "start_time": "2022-01-12T14:46:56.158Z"
   },
   {
    "duration": -35,
    "start_time": "2022-01-12T14:46:56.159Z"
   },
   {
    "duration": -39,
    "start_time": "2022-01-12T14:46:56.164Z"
   },
   {
    "duration": -40,
    "start_time": "2022-01-12T14:46:56.166Z"
   },
   {
    "duration": -40,
    "start_time": "2022-01-12T14:46:56.168Z"
   },
   {
    "duration": -40,
    "start_time": "2022-01-12T14:46:56.169Z"
   },
   {
    "duration": -40,
    "start_time": "2022-01-12T14:46:56.171Z"
   },
   {
    "duration": -40,
    "start_time": "2022-01-12T14:46:56.173Z"
   },
   {
    "duration": -40,
    "start_time": "2022-01-12T14:46:56.174Z"
   },
   {
    "duration": -39,
    "start_time": "2022-01-12T14:46:56.175Z"
   },
   {
    "duration": -38,
    "start_time": "2022-01-12T14:46:56.176Z"
   },
   {
    "duration": -41,
    "start_time": "2022-01-12T14:46:56.180Z"
   },
   {
    "duration": -41,
    "start_time": "2022-01-12T14:46:56.182Z"
   },
   {
    "duration": -42,
    "start_time": "2022-01-12T14:46:56.185Z"
   },
   {
    "duration": -46,
    "start_time": "2022-01-12T14:46:56.190Z"
   },
   {
    "duration": -46,
    "start_time": "2022-01-12T14:46:56.192Z"
   },
   {
    "duration": -47,
    "start_time": "2022-01-12T14:46:56.194Z"
   },
   {
    "duration": -47,
    "start_time": "2022-01-12T14:46:56.196Z"
   },
   {
    "duration": -49,
    "start_time": "2022-01-12T14:46:56.199Z"
   },
   {
    "duration": -48,
    "start_time": "2022-01-12T14:46:56.200Z"
   },
   {
    "duration": -49,
    "start_time": "2022-01-12T14:46:56.202Z"
   },
   {
    "duration": -49,
    "start_time": "2022-01-12T14:46:56.204Z"
   },
   {
    "duration": -53,
    "start_time": "2022-01-12T14:46:56.209Z"
   },
   {
    "duration": -54,
    "start_time": "2022-01-12T14:46:56.211Z"
   },
   {
    "duration": -48,
    "start_time": "2022-01-12T14:46:56.212Z"
   },
   {
    "duration": -48,
    "start_time": "2022-01-12T14:46:56.213Z"
   },
   {
    "duration": 1107,
    "start_time": "2022-01-12T14:47:04.032Z"
   },
   {
    "duration": -42,
    "start_time": "2022-01-12T14:47:05.187Z"
   },
   {
    "duration": -43,
    "start_time": "2022-01-12T14:47:05.189Z"
   },
   {
    "duration": -44,
    "start_time": "2022-01-12T14:47:05.191Z"
   },
   {
    "duration": -45,
    "start_time": "2022-01-12T14:47:05.194Z"
   },
   {
    "duration": -51,
    "start_time": "2022-01-12T14:47:05.201Z"
   },
   {
    "duration": -50,
    "start_time": "2022-01-12T14:47:05.202Z"
   },
   {
    "duration": -49,
    "start_time": "2022-01-12T14:47:05.203Z"
   },
   {
    "duration": -49,
    "start_time": "2022-01-12T14:47:05.204Z"
   },
   {
    "duration": -49,
    "start_time": "2022-01-12T14:47:05.206Z"
   },
   {
    "duration": -49,
    "start_time": "2022-01-12T14:47:05.207Z"
   },
   {
    "duration": -50,
    "start_time": "2022-01-12T14:47:05.210Z"
   },
   {
    "duration": -50,
    "start_time": "2022-01-12T14:47:05.211Z"
   },
   {
    "duration": -54,
    "start_time": "2022-01-12T14:47:05.217Z"
   },
   {
    "duration": -55,
    "start_time": "2022-01-12T14:47:05.219Z"
   },
   {
    "duration": -53,
    "start_time": "2022-01-12T14:47:05.221Z"
   },
   {
    "duration": -52,
    "start_time": "2022-01-12T14:47:05.222Z"
   },
   {
    "duration": -49,
    "start_time": "2022-01-12T14:47:05.223Z"
   },
   {
    "duration": -48,
    "start_time": "2022-01-12T14:47:05.224Z"
   },
   {
    "duration": -45,
    "start_time": "2022-01-12T14:47:05.225Z"
   },
   {
    "duration": -44,
    "start_time": "2022-01-12T14:47:05.226Z"
   },
   {
    "duration": -42,
    "start_time": "2022-01-12T14:47:05.227Z"
   },
   {
    "duration": -41,
    "start_time": "2022-01-12T14:47:05.228Z"
   },
   {
    "duration": -46,
    "start_time": "2022-01-12T14:47:05.235Z"
   },
   {
    "duration": -45,
    "start_time": "2022-01-12T14:47:05.236Z"
   },
   {
    "duration": -44,
    "start_time": "2022-01-12T14:47:05.238Z"
   },
   {
    "duration": -43,
    "start_time": "2022-01-12T14:47:05.239Z"
   },
   {
    "duration": -75,
    "start_time": "2022-01-12T14:47:05.273Z"
   },
   {
    "duration": -76,
    "start_time": "2022-01-12T14:47:05.276Z"
   },
   {
    "duration": -83,
    "start_time": "2022-01-12T14:47:05.284Z"
   },
   {
    "duration": -83,
    "start_time": "2022-01-12T14:47:05.286Z"
   },
   {
    "duration": 867,
    "start_time": "2022-01-12T14:47:16.548Z"
   },
   {
    "duration": 57,
    "start_time": "2022-01-12T14:47:17.418Z"
   },
   {
    "duration": 30,
    "start_time": "2022-01-12T14:47:17.478Z"
   },
   {
    "duration": 16,
    "start_time": "2022-01-12T14:47:17.511Z"
   },
   {
    "duration": 34,
    "start_time": "2022-01-12T14:47:17.529Z"
   },
   {
    "duration": 9,
    "start_time": "2022-01-12T14:47:17.565Z"
   },
   {
    "duration": 23,
    "start_time": "2022-01-12T14:47:17.576Z"
   },
   {
    "duration": 24,
    "start_time": "2022-01-12T14:47:17.605Z"
   },
   {
    "duration": 51,
    "start_time": "2022-01-12T14:47:17.632Z"
   },
   {
    "duration": 8,
    "start_time": "2022-01-12T14:47:17.686Z"
   },
   {
    "duration": 8,
    "start_time": "2022-01-12T14:47:17.696Z"
   },
   {
    "duration": 9,
    "start_time": "2022-01-12T14:47:17.706Z"
   },
   {
    "duration": 8,
    "start_time": "2022-01-12T14:47:17.717Z"
   },
   {
    "duration": 13,
    "start_time": "2022-01-12T14:47:17.764Z"
   },
   {
    "duration": 9,
    "start_time": "2022-01-12T14:47:17.780Z"
   },
   {
    "duration": 6,
    "start_time": "2022-01-12T14:47:17.792Z"
   },
   {
    "duration": 17,
    "start_time": "2022-01-12T14:47:17.800Z"
   },
   {
    "duration": 51,
    "start_time": "2022-01-12T14:47:17.820Z"
   },
   {
    "duration": 27,
    "start_time": "2022-01-12T14:47:17.874Z"
   },
   {
    "duration": 12,
    "start_time": "2022-01-12T14:47:17.903Z"
   },
   {
    "duration": 14,
    "start_time": "2022-01-12T14:47:17.917Z"
   },
   {
    "duration": 26,
    "start_time": "2022-01-12T14:47:17.963Z"
   },
   {
    "duration": 5,
    "start_time": "2022-01-12T14:47:17.993Z"
   },
   {
    "duration": 7,
    "start_time": "2022-01-12T14:47:18.001Z"
   },
   {
    "duration": 69,
    "start_time": "2022-01-12T14:47:18.011Z"
   },
   {
    "duration": 7,
    "start_time": "2022-01-12T14:47:18.084Z"
   },
   {
    "duration": 36,
    "start_time": "2022-01-12T14:47:18.094Z"
   },
   {
    "duration": 38,
    "start_time": "2022-01-12T14:47:18.132Z"
   },
   {
    "duration": 826,
    "start_time": "2022-01-12T14:47:18.174Z"
   },
   {
    "duration": -46,
    "start_time": "2022-01-12T14:47:19.049Z"
   },
   {
    "duration": -49,
    "start_time": "2022-01-12T14:47:19.053Z"
   },
   {
    "duration": 485,
    "start_time": "2022-01-12T14:48:19.302Z"
   },
   {
    "duration": 368,
    "start_time": "2022-01-12T14:48:43.155Z"
   },
   {
    "duration": 13,
    "start_time": "2022-01-12T14:48:52.057Z"
   },
   {
    "duration": 263,
    "start_time": "2022-01-12T14:49:16.454Z"
   },
   {
    "duration": 9,
    "start_time": "2022-01-12T14:49:43.186Z"
   },
   {
    "duration": 452,
    "start_time": "2022-01-12T14:50:24.031Z"
   },
   {
    "duration": 525,
    "start_time": "2022-01-12T14:50:36.529Z"
   },
   {
    "duration": 10,
    "start_time": "2022-01-12T14:52:09.442Z"
   },
   {
    "duration": 388,
    "start_time": "2022-01-12T14:54:21.280Z"
   },
   {
    "duration": 656,
    "start_time": "2022-01-12T14:54:32.204Z"
   },
   {
    "duration": 429,
    "start_time": "2022-01-12T14:54:50.950Z"
   },
   {
    "duration": 452,
    "start_time": "2022-01-12T14:55:02.904Z"
   },
   {
    "duration": 781,
    "start_time": "2022-01-12T15:12:31.065Z"
   },
   {
    "duration": 702,
    "start_time": "2022-01-12T15:12:53.080Z"
   },
   {
    "duration": 471,
    "start_time": "2022-01-12T15:13:28.641Z"
   },
   {
    "duration": 782,
    "start_time": "2022-01-12T15:13:44.709Z"
   },
   {
    "duration": 940,
    "start_time": "2022-01-12T15:13:54.787Z"
   },
   {
    "duration": 892,
    "start_time": "2022-01-12T15:14:14.260Z"
   },
   {
    "duration": 6,
    "start_time": "2022-01-12T15:15:06.896Z"
   },
   {
    "duration": 8,
    "start_time": "2022-01-12T15:15:38.390Z"
   },
   {
    "duration": 673,
    "start_time": "2022-01-12T15:16:07.376Z"
   },
   {
    "duration": 1090,
    "start_time": "2022-01-12T15:16:14.267Z"
   },
   {
    "duration": 708,
    "start_time": "2022-01-12T15:18:10.472Z"
   },
   {
    "duration": 776,
    "start_time": "2022-01-12T15:18:23.287Z"
   },
   {
    "duration": 21,
    "start_time": "2022-01-12T15:18:46.156Z"
   },
   {
    "duration": 11,
    "start_time": "2022-01-12T15:18:47.843Z"
   },
   {
    "duration": 516,
    "start_time": "2022-01-12T15:19:18.420Z"
   },
   {
    "duration": 867,
    "start_time": "2022-01-12T15:20:09.833Z"
   },
   {
    "duration": 501,
    "start_time": "2022-01-12T15:20:41.936Z"
   },
   {
    "duration": -39,
    "start_time": "2022-01-12T15:23:49.571Z"
   },
   {
    "duration": 6314,
    "start_time": "2022-01-12T15:23:59.562Z"
   },
   {
    "duration": 882,
    "start_time": "2022-01-12T15:25:50.834Z"
   },
   {
    "duration": 52,
    "start_time": "2022-01-12T15:25:51.719Z"
   },
   {
    "duration": 36,
    "start_time": "2022-01-12T15:25:51.775Z"
   },
   {
    "duration": 14,
    "start_time": "2022-01-12T15:25:51.814Z"
   },
   {
    "duration": 40,
    "start_time": "2022-01-12T15:25:51.831Z"
   },
   {
    "duration": 7,
    "start_time": "2022-01-12T15:25:51.875Z"
   },
   {
    "duration": 24,
    "start_time": "2022-01-12T15:25:51.886Z"
   },
   {
    "duration": 20,
    "start_time": "2022-01-12T15:25:51.914Z"
   },
   {
    "duration": 24,
    "start_time": "2022-01-12T15:25:51.964Z"
   },
   {
    "duration": 8,
    "start_time": "2022-01-12T15:25:51.990Z"
   },
   {
    "duration": 6,
    "start_time": "2022-01-12T15:25:52.002Z"
   },
   {
    "duration": 9,
    "start_time": "2022-01-12T15:25:52.011Z"
   },
   {
    "duration": 52,
    "start_time": "2022-01-12T15:25:52.024Z"
   },
   {
    "duration": 16,
    "start_time": "2022-01-12T15:25:52.080Z"
   },
   {
    "duration": 9,
    "start_time": "2022-01-12T15:25:52.098Z"
   },
   {
    "duration": 9,
    "start_time": "2022-01-12T15:25:52.109Z"
   },
   {
    "duration": 52,
    "start_time": "2022-01-12T15:25:52.120Z"
   },
   {
    "duration": 11,
    "start_time": "2022-01-12T15:25:52.174Z"
   },
   {
    "duration": 28,
    "start_time": "2022-01-12T15:25:52.187Z"
   },
   {
    "duration": 15,
    "start_time": "2022-01-12T15:25:52.218Z"
   },
   {
    "duration": 46,
    "start_time": "2022-01-12T15:25:52.236Z"
   },
   {
    "duration": 21,
    "start_time": "2022-01-12T15:25:52.285Z"
   },
   {
    "duration": 5,
    "start_time": "2022-01-12T15:25:52.310Z"
   },
   {
    "duration": 53,
    "start_time": "2022-01-12T15:25:52.318Z"
   },
   {
    "duration": 38,
    "start_time": "2022-01-12T15:25:52.374Z"
   },
   {
    "duration": 7,
    "start_time": "2022-01-12T15:25:52.414Z"
   },
   {
    "duration": 62,
    "start_time": "2022-01-12T15:25:52.424Z"
   },
   {
    "duration": 9,
    "start_time": "2022-01-12T15:25:52.489Z"
   },
   {
    "duration": 734,
    "start_time": "2022-01-12T15:25:52.500Z"
   },
   {
    "duration": 28,
    "start_time": "2022-01-12T15:25:53.238Z"
   },
   {
    "duration": 20,
    "start_time": "2022-01-12T15:25:53.269Z"
   },
   {
    "duration": 959,
    "start_time": "2022-01-12T15:28:22.049Z"
   },
   {
    "duration": 64,
    "start_time": "2022-01-12T15:28:23.011Z"
   },
   {
    "duration": 28,
    "start_time": "2022-01-12T15:28:23.078Z"
   },
   {
    "duration": 15,
    "start_time": "2022-01-12T15:28:23.109Z"
   },
   {
    "duration": 8,
    "start_time": "2022-01-12T15:28:23.126Z"
   },
   {
    "duration": 5,
    "start_time": "2022-01-12T15:28:23.136Z"
   },
   {
    "duration": 38,
    "start_time": "2022-01-12T15:28:23.164Z"
   },
   {
    "duration": 19,
    "start_time": "2022-01-12T15:28:23.205Z"
   },
   {
    "duration": 43,
    "start_time": "2022-01-12T15:28:23.227Z"
   },
   {
    "duration": 6,
    "start_time": "2022-01-12T15:28:23.274Z"
   },
   {
    "duration": 7,
    "start_time": "2022-01-12T15:28:23.283Z"
   },
   {
    "duration": 9,
    "start_time": "2022-01-12T15:28:23.293Z"
   },
   {
    "duration": 9,
    "start_time": "2022-01-12T15:28:23.304Z"
   },
   {
    "duration": 58,
    "start_time": "2022-01-12T15:28:23.316Z"
   },
   {
    "duration": 10,
    "start_time": "2022-01-12T15:28:23.377Z"
   },
   {
    "duration": 10,
    "start_time": "2022-01-12T15:28:23.390Z"
   },
   {
    "duration": 24,
    "start_time": "2022-01-12T15:28:23.402Z"
   },
   {
    "duration": 42,
    "start_time": "2022-01-12T15:28:23.428Z"
   },
   {
    "duration": 31,
    "start_time": "2022-01-12T15:28:23.479Z"
   },
   {
    "duration": 12,
    "start_time": "2022-01-12T15:28:23.513Z"
   },
   {
    "duration": 37,
    "start_time": "2022-01-12T15:28:23.527Z"
   },
   {
    "duration": 23,
    "start_time": "2022-01-12T15:28:23.567Z"
   },
   {
    "duration": 5,
    "start_time": "2022-01-12T15:28:23.595Z"
   },
   {
    "duration": 6,
    "start_time": "2022-01-12T15:28:23.603Z"
   },
   {
    "duration": 78,
    "start_time": "2022-01-12T15:28:23.612Z"
   },
   {
    "duration": 6,
    "start_time": "2022-01-12T15:28:23.693Z"
   },
   {
    "duration": 63,
    "start_time": "2022-01-12T15:28:23.702Z"
   },
   {
    "duration": 10,
    "start_time": "2022-01-12T15:28:23.768Z"
   },
   {
    "duration": 725,
    "start_time": "2022-01-12T15:28:23.780Z"
   },
   {
    "duration": 14,
    "start_time": "2022-01-12T15:28:24.507Z"
   },
   {
    "duration": 12,
    "start_time": "2022-01-12T15:28:24.524Z"
   },
   {
    "duration": 6885,
    "start_time": "2022-01-12T15:28:24.539Z"
   },
   {
    "duration": 6199,
    "start_time": "2022-01-12T15:29:02.444Z"
   },
   {
    "duration": 23,
    "start_time": "2022-01-12T15:32:16.201Z"
   },
   {
    "duration": 265,
    "start_time": "2022-01-12T15:32:17.918Z"
   },
   {
    "duration": 46,
    "start_time": "2022-01-12T15:32:34.700Z"
   },
   {
    "duration": 871,
    "start_time": "2022-01-12T15:33:31.084Z"
   },
   {
    "duration": 15,
    "start_time": "2022-01-12T15:34:27.932Z"
   },
   {
    "duration": 254,
    "start_time": "2022-01-12T15:34:31.370Z"
   },
   {
    "duration": 16,
    "start_time": "2022-01-12T15:34:37.753Z"
   },
   {
    "duration": 14,
    "start_time": "2022-01-12T15:34:57.246Z"
   },
   {
    "duration": 15,
    "start_time": "2022-01-12T15:35:07.762Z"
   },
   {
    "duration": 13,
    "start_time": "2022-01-12T15:35:12.296Z"
   },
   {
    "duration": 33,
    "start_time": "2022-01-12T15:35:56.067Z"
   },
   {
    "duration": 11,
    "start_time": "2022-01-12T15:36:51.586Z"
   },
   {
    "duration": 5,
    "start_time": "2022-01-12T15:37:17.206Z"
   },
   {
    "duration": 5,
    "start_time": "2022-01-12T15:37:25.438Z"
   },
   {
    "duration": 11,
    "start_time": "2022-01-12T15:37:29.844Z"
   },
   {
    "duration": 10,
    "start_time": "2022-01-12T15:38:26.902Z"
   },
   {
    "duration": 131,
    "start_time": "2022-01-12T15:39:26.423Z"
   },
   {
    "duration": 9,
    "start_time": "2022-01-12T15:39:43.289Z"
   },
   {
    "duration": 2136,
    "start_time": "2022-01-12T15:41:02.149Z"
   },
   {
    "duration": 17,
    "start_time": "2022-01-12T15:51:10.338Z"
   },
   {
    "duration": 504,
    "start_time": "2022-01-12T15:51:28.848Z"
   },
   {
    "duration": 24,
    "start_time": "2022-01-12T15:56:53.474Z"
   },
   {
    "duration": 7910,
    "start_time": "2022-01-12T15:56:59.362Z"
   },
   {
    "duration": 8563,
    "start_time": "2022-01-12T15:57:19.426Z"
   },
   {
    "duration": 45,
    "start_time": "2022-01-12T15:57:54.519Z"
   },
   {
    "duration": 2,
    "start_time": "2022-01-13T09:41:48.852Z"
   },
   {
    "duration": 285,
    "start_time": "2022-01-13T09:48:08.403Z"
   },
   {
    "duration": 627,
    "start_time": "2022-01-13T09:48:14.281Z"
   },
   {
    "duration": 34,
    "start_time": "2022-01-13T09:48:14.910Z"
   },
   {
    "duration": 19,
    "start_time": "2022-01-13T09:48:14.946Z"
   },
   {
    "duration": 11,
    "start_time": "2022-01-13T09:48:14.967Z"
   },
   {
    "duration": 32,
    "start_time": "2022-01-13T09:48:14.980Z"
   },
   {
    "duration": 5,
    "start_time": "2022-01-13T09:48:15.014Z"
   },
   {
    "duration": 12,
    "start_time": "2022-01-13T09:48:15.021Z"
   },
   {
    "duration": 14,
    "start_time": "2022-01-13T09:48:15.037Z"
   },
   {
    "duration": 16,
    "start_time": "2022-01-13T09:48:15.053Z"
   },
   {
    "duration": 5,
    "start_time": "2022-01-13T09:48:15.070Z"
   },
   {
    "duration": 35,
    "start_time": "2022-01-13T09:48:15.077Z"
   },
   {
    "duration": 5,
    "start_time": "2022-01-13T09:48:15.114Z"
   },
   {
    "duration": 10,
    "start_time": "2022-01-13T09:48:15.120Z"
   },
   {
    "duration": 9,
    "start_time": "2022-01-13T09:48:15.131Z"
   },
   {
    "duration": 7,
    "start_time": "2022-01-13T09:48:15.142Z"
   },
   {
    "duration": 7,
    "start_time": "2022-01-13T09:48:15.151Z"
   },
   {
    "duration": 17,
    "start_time": "2022-01-13T09:48:15.159Z"
   },
   {
    "duration": 35,
    "start_time": "2022-01-13T09:48:15.177Z"
   },
   {
    "duration": 15,
    "start_time": "2022-01-13T09:48:15.214Z"
   },
   {
    "duration": 11,
    "start_time": "2022-01-13T09:48:15.230Z"
   },
   {
    "duration": 11,
    "start_time": "2022-01-13T09:48:15.243Z"
   },
   {
    "duration": 12,
    "start_time": "2022-01-13T09:48:15.256Z"
   },
   {
    "duration": 9,
    "start_time": "2022-01-13T09:48:15.272Z"
   },
   {
    "duration": 30,
    "start_time": "2022-01-13T09:48:15.283Z"
   },
   {
    "duration": 28,
    "start_time": "2022-01-13T09:48:15.314Z"
   },
   {
    "duration": 5,
    "start_time": "2022-01-13T09:48:15.344Z"
   },
   {
    "duration": 20,
    "start_time": "2022-01-13T09:48:15.351Z"
   },
   {
    "duration": 6,
    "start_time": "2022-01-13T09:48:15.372Z"
   },
   {
    "duration": 405,
    "start_time": "2022-01-13T09:48:15.380Z"
   },
   {
    "duration": 11,
    "start_time": "2022-01-13T09:48:15.787Z"
   },
   {
    "duration": 19,
    "start_time": "2022-01-13T09:48:15.799Z"
   },
   {
    "duration": 8,
    "start_time": "2022-01-13T09:48:15.819Z"
   },
   {
    "duration": 12,
    "start_time": "2022-01-13T09:48:15.828Z"
   },
   {
    "duration": 4218,
    "start_time": "2022-01-13T09:48:15.841Z"
   },
   {
    "duration": 772,
    "start_time": "2022-01-13T09:51:43.403Z"
   },
   {
    "duration": 1043,
    "start_time": "2022-01-13T09:52:11.484Z"
   },
   {
    "duration": 146,
    "start_time": "2022-01-13T10:03:32.419Z"
   },
   {
    "duration": 147,
    "start_time": "2022-01-13T10:03:56.327Z"
   },
   {
    "duration": 166,
    "start_time": "2022-01-13T10:04:24.660Z"
   },
   {
    "duration": 159,
    "start_time": "2022-01-13T10:04:43.602Z"
   },
   {
    "duration": 149,
    "start_time": "2022-01-13T10:05:30.354Z"
   },
   {
    "duration": 2,
    "start_time": "2022-01-13T10:06:03.820Z"
   },
   {
    "duration": 296,
    "start_time": "2022-01-13T10:09:01.133Z"
   },
   {
    "duration": 153,
    "start_time": "2022-01-13T10:09:05.335Z"
   },
   {
    "duration": 148,
    "start_time": "2022-01-13T10:09:46.525Z"
   },
   {
    "duration": 150,
    "start_time": "2022-01-13T10:09:59.738Z"
   },
   {
    "duration": 162,
    "start_time": "2022-01-13T10:16:00.206Z"
   },
   {
    "duration": 146,
    "start_time": "2022-01-13T10:16:17.780Z"
   },
   {
    "duration": 160,
    "start_time": "2022-01-13T10:16:44.986Z"
   },
   {
    "duration": 2,
    "start_time": "2022-01-13T10:23:34.934Z"
   },
   {
    "duration": 479,
    "start_time": "2022-01-13T10:26:53.304Z"
   },
   {
    "duration": 9,
    "start_time": "2022-01-13T10:27:11.632Z"
   },
   {
    "duration": 6108,
    "start_time": "2022-01-13T10:29:49.226Z"
   },
   {
    "duration": 4,
    "start_time": "2022-01-13T10:30:36.634Z"
   },
   {
    "duration": 6,
    "start_time": "2022-01-13T10:30:48.623Z"
   },
   {
    "duration": 6,
    "start_time": "2022-01-13T10:30:50.813Z"
   },
   {
    "duration": 17,
    "start_time": "2022-01-13T10:31:02.378Z"
   },
   {
    "duration": 9,
    "start_time": "2022-01-13T10:31:19.684Z"
   },
   {
    "duration": 5,
    "start_time": "2022-01-13T10:31:44.909Z"
   },
   {
    "duration": 8,
    "start_time": "2022-01-13T10:32:02.830Z"
   },
   {
    "duration": 6,
    "start_time": "2022-01-13T10:32:13.008Z"
   },
   {
    "duration": 12,
    "start_time": "2022-01-13T10:32:25.593Z"
   },
   {
    "duration": 6,
    "start_time": "2022-01-13T10:32:43.324Z"
   },
   {
    "duration": 232,
    "start_time": "2022-01-13T10:32:50.189Z"
   },
   {
    "duration": 6,
    "start_time": "2022-01-13T10:32:53.720Z"
   },
   {
    "duration": 20,
    "start_time": "2022-01-13T10:34:18.228Z"
   },
   {
    "duration": 8,
    "start_time": "2022-01-13T10:34:30.381Z"
   },
   {
    "duration": 3009,
    "start_time": "2022-01-13T10:34:49.516Z"
   },
   {
    "duration": 3278,
    "start_time": "2022-01-13T10:34:52.668Z"
   },
   {
    "duration": 7,
    "start_time": "2022-01-13T10:35:07.770Z"
   },
   {
    "duration": 89,
    "start_time": "2022-01-13T10:35:53.096Z"
   },
   {
    "duration": 11,
    "start_time": "2022-01-13T10:35:59.215Z"
   },
   {
    "duration": 75,
    "start_time": "2022-01-13T10:37:39.997Z"
   },
   {
    "duration": 10,
    "start_time": "2022-01-13T10:38:18.699Z"
   },
   {
    "duration": 11,
    "start_time": "2022-01-13T10:38:28.861Z"
   },
   {
    "duration": 5,
    "start_time": "2022-01-13T10:38:48.660Z"
   },
   {
    "duration": 10,
    "start_time": "2022-01-13T10:39:06.777Z"
   },
   {
    "duration": 4,
    "start_time": "2022-01-13T10:39:44.556Z"
   },
   {
    "duration": 4,
    "start_time": "2022-01-13T10:39:50.503Z"
   },
   {
    "duration": 4,
    "start_time": "2022-01-13T10:40:09.665Z"
   },
   {
    "duration": 5,
    "start_time": "2022-01-13T10:40:15.327Z"
   },
   {
    "duration": 16,
    "start_time": "2022-01-13T10:40:30.633Z"
   },
   {
    "duration": 4,
    "start_time": "2022-01-13T10:40:41.069Z"
   },
   {
    "duration": 299,
    "start_time": "2022-01-13T10:56:22.954Z"
   },
   {
    "duration": -917,
    "start_time": "2022-01-13T10:57:25.387Z"
   },
   {
    "duration": 233,
    "start_time": "2022-01-13T10:57:53.597Z"
   },
   {
    "duration": 215,
    "start_time": "2022-01-13T10:57:57.720Z"
   },
   {
    "duration": 1019,
    "start_time": "2022-01-13T10:58:11.694Z"
   },
   {
    "duration": 35,
    "start_time": "2022-01-13T10:58:12.715Z"
   },
   {
    "duration": 18,
    "start_time": "2022-01-13T10:58:12.752Z"
   },
   {
    "duration": 10,
    "start_time": "2022-01-13T10:58:12.772Z"
   },
   {
    "duration": 6,
    "start_time": "2022-01-13T10:58:12.784Z"
   },
   {
    "duration": 6,
    "start_time": "2022-01-13T10:58:12.811Z"
   },
   {
    "duration": 16,
    "start_time": "2022-01-13T10:58:12.818Z"
   },
   {
    "duration": 18,
    "start_time": "2022-01-13T10:58:12.837Z"
   },
   {
    "duration": 13,
    "start_time": "2022-01-13T10:58:12.857Z"
   },
   {
    "duration": 5,
    "start_time": "2022-01-13T10:58:12.872Z"
   },
   {
    "duration": 35,
    "start_time": "2022-01-13T10:58:12.879Z"
   },
   {
    "duration": 8,
    "start_time": "2022-01-13T10:58:12.916Z"
   },
   {
    "duration": 6,
    "start_time": "2022-01-13T10:58:12.925Z"
   },
   {
    "duration": 8,
    "start_time": "2022-01-13T10:58:12.933Z"
   },
   {
    "duration": 8,
    "start_time": "2022-01-13T10:58:12.943Z"
   },
   {
    "duration": 8,
    "start_time": "2022-01-13T10:58:12.953Z"
   },
   {
    "duration": 14,
    "start_time": "2022-01-13T10:58:12.962Z"
   },
   {
    "duration": 34,
    "start_time": "2022-01-13T10:58:12.978Z"
   },
   {
    "duration": 23,
    "start_time": "2022-01-13T10:58:13.014Z"
   },
   {
    "duration": 11,
    "start_time": "2022-01-13T10:58:13.038Z"
   },
   {
    "duration": 13,
    "start_time": "2022-01-13T10:58:13.051Z"
   },
   {
    "duration": 48,
    "start_time": "2022-01-13T10:58:13.066Z"
   },
   {
    "duration": 4,
    "start_time": "2022-01-13T10:58:13.118Z"
   },
   {
    "duration": 6,
    "start_time": "2022-01-13T10:58:13.124Z"
   },
   {
    "duration": 20,
    "start_time": "2022-01-13T10:58:13.132Z"
   },
   {
    "duration": 4,
    "start_time": "2022-01-13T10:58:13.154Z"
   },
   {
    "duration": 23,
    "start_time": "2022-01-13T10:58:13.159Z"
   },
   {
    "duration": 30,
    "start_time": "2022-01-13T10:58:13.184Z"
   },
   {
    "duration": 414,
    "start_time": "2022-01-13T10:58:13.216Z"
   },
   {
    "duration": 11,
    "start_time": "2022-01-13T10:58:13.631Z"
   },
   {
    "duration": 8,
    "start_time": "2022-01-13T10:58:13.643Z"
   },
   {
    "duration": 5706,
    "start_time": "2022-01-13T10:58:13.653Z"
   },
   {
    "duration": -934,
    "start_time": "2022-01-13T10:58:20.295Z"
   },
   {
    "duration": -937,
    "start_time": "2022-01-13T10:58:20.299Z"
   },
   {
    "duration": -941,
    "start_time": "2022-01-13T10:58:20.304Z"
   },
   {
    "duration": -942,
    "start_time": "2022-01-13T10:58:20.306Z"
   },
   {
    "duration": -943,
    "start_time": "2022-01-13T10:58:20.308Z"
   },
   {
    "duration": -944,
    "start_time": "2022-01-13T10:58:20.310Z"
   },
   {
    "duration": -945,
    "start_time": "2022-01-13T10:58:20.312Z"
   },
   {
    "duration": -946,
    "start_time": "2022-01-13T10:58:20.314Z"
   },
   {
    "duration": -950,
    "start_time": "2022-01-13T10:58:20.318Z"
   },
   {
    "duration": -950,
    "start_time": "2022-01-13T10:58:20.320Z"
   },
   {
    "duration": -952,
    "start_time": "2022-01-13T10:58:20.322Z"
   },
   {
    "duration": -952,
    "start_time": "2022-01-13T10:58:20.323Z"
   },
   {
    "duration": -952,
    "start_time": "2022-01-13T10:58:20.324Z"
   },
   {
    "duration": 227,
    "start_time": "2022-01-13T11:00:23.998Z"
   },
   {
    "duration": 4,
    "start_time": "2022-01-13T11:00:31.223Z"
   },
   {
    "duration": 3,
    "start_time": "2022-01-13T11:00:37.860Z"
   },
   {
    "duration": 7,
    "start_time": "2022-01-13T11:00:42.550Z"
   },
   {
    "duration": 5472,
    "start_time": "2022-01-13T11:00:53.180Z"
   },
   {
    "duration": 5811,
    "start_time": "2022-01-13T11:00:59.728Z"
   },
   {
    "duration": 2504,
    "start_time": "2022-01-13T11:01:44.861Z"
   },
   {
    "duration": 10,
    "start_time": "2022-01-13T11:04:20.713Z"
   },
   {
    "duration": 6,
    "start_time": "2022-01-13T11:04:28.746Z"
   },
   {
    "duration": 7,
    "start_time": "2022-01-13T11:04:44.132Z"
   },
   {
    "duration": 12,
    "start_time": "2022-01-13T11:05:11.084Z"
   },
   {
    "duration": 4,
    "start_time": "2022-01-13T11:05:15.855Z"
   },
   {
    "duration": 1445,
    "start_time": "2022-01-13T11:05:55.190Z"
   },
   {
    "duration": 1252,
    "start_time": "2022-01-13T11:06:16.002Z"
   },
   {
    "duration": 1261,
    "start_time": "2022-01-13T11:06:29.060Z"
   },
   {
    "duration": 329,
    "start_time": "2022-01-13T11:07:33.743Z"
   },
   {
    "duration": 234,
    "start_time": "2022-01-13T11:08:02.469Z"
   },
   {
    "duration": 11,
    "start_time": "2022-01-13T11:08:15.708Z"
   },
   {
    "duration": 13,
    "start_time": "2022-01-13T11:08:27.919Z"
   },
   {
    "duration": 10,
    "start_time": "2022-01-13T11:09:02.793Z"
   },
   {
    "duration": 9,
    "start_time": "2022-01-13T11:09:04.670Z"
   },
   {
    "duration": 6,
    "start_time": "2022-01-13T11:09:15.403Z"
   },
   {
    "duration": 10,
    "start_time": "2022-01-13T11:09:28.884Z"
   },
   {
    "duration": 8,
    "start_time": "2022-01-13T11:09:30.909Z"
   },
   {
    "duration": 6,
    "start_time": "2022-01-13T11:09:33.881Z"
   },
   {
    "duration": 212,
    "start_time": "2022-01-13T11:10:01.860Z"
   },
   {
    "duration": 241,
    "start_time": "2022-01-13T11:10:17.961Z"
   },
   {
    "duration": 234,
    "start_time": "2022-01-13T11:10:28.307Z"
   },
   {
    "duration": 77,
    "start_time": "2022-01-13T11:10:31.388Z"
   },
   {
    "duration": 209,
    "start_time": "2022-01-13T11:10:35.110Z"
   },
   {
    "duration": 8,
    "start_time": "2022-01-13T11:11:57.251Z"
   },
   {
    "duration": 250,
    "start_time": "2022-01-13T11:12:09.319Z"
   },
   {
    "duration": 260,
    "start_time": "2022-01-13T11:12:38.900Z"
   },
   {
    "duration": 249,
    "start_time": "2022-01-13T11:12:45.607Z"
   },
   {
    "duration": 250,
    "start_time": "2022-01-13T11:13:07.003Z"
   },
   {
    "duration": 218,
    "start_time": "2022-01-13T11:13:12.553Z"
   },
   {
    "duration": 583,
    "start_time": "2022-01-13T11:15:39.647Z"
   },
   {
    "duration": 248,
    "start_time": "2022-01-13T11:15:50.053Z"
   },
   {
    "duration": 289,
    "start_time": "2022-01-13T11:16:08.802Z"
   },
   {
    "duration": 488,
    "start_time": "2022-01-13T11:16:46.609Z"
   },
   {
    "duration": 76,
    "start_time": "2022-01-13T11:17:04.100Z"
   },
   {
    "duration": 74,
    "start_time": "2022-01-13T11:17:07.548Z"
   },
   {
    "duration": 233,
    "start_time": "2022-01-13T11:17:14.364Z"
   },
   {
    "duration": 464,
    "start_time": "2022-01-13T11:17:17.789Z"
   },
   {
    "duration": 447,
    "start_time": "2022-01-13T11:17:26.806Z"
   },
   {
    "duration": 449,
    "start_time": "2022-01-13T11:17:32.767Z"
   },
   {
    "duration": 218,
    "start_time": "2022-01-13T11:17:37.849Z"
   },
   {
    "duration": 473,
    "start_time": "2022-01-13T11:18:31.494Z"
   },
   {
    "duration": 451,
    "start_time": "2022-01-13T11:18:35.593Z"
   },
   {
    "duration": 452,
    "start_time": "2022-01-13T11:19:19.148Z"
   },
   {
    "duration": 476,
    "start_time": "2022-01-13T11:19:39.517Z"
   },
   {
    "duration": 277,
    "start_time": "2022-01-13T11:19:43.685Z"
   },
   {
    "duration": 86,
    "start_time": "2022-01-13T11:30:18.301Z"
   },
   {
    "duration": 5,
    "start_time": "2022-01-13T11:32:48.326Z"
   },
   {
    "duration": 79,
    "start_time": "2022-01-13T11:33:49.568Z"
   },
   {
    "duration": 5764,
    "start_time": "2022-01-13T11:34:10.635Z"
   },
   {
    "duration": 256,
    "start_time": "2022-01-13T11:34:31.108Z"
   },
   {
    "duration": 249,
    "start_time": "2022-01-13T11:34:40.603Z"
   },
   {
    "duration": 95,
    "start_time": "2022-01-13T13:04:20.688Z"
   },
   {
    "duration": 3,
    "start_time": "2022-01-13T13:04:25.562Z"
   },
   {
    "duration": 5,
    "start_time": "2022-01-13T13:05:12.793Z"
   },
   {
    "duration": 19,
    "start_time": "2022-01-13T13:05:15.587Z"
   },
   {
    "duration": 241,
    "start_time": "2022-01-13T13:06:35.068Z"
   },
   {
    "duration": 5,
    "start_time": "2022-01-13T13:06:45.662Z"
   },
   {
    "duration": 10,
    "start_time": "2022-01-13T13:06:47.067Z"
   },
   {
    "duration": 8,
    "start_time": "2022-01-13T13:06:52.785Z"
   },
   {
    "duration": 7,
    "start_time": "2022-01-13T13:07:16.446Z"
   },
   {
    "duration": 257,
    "start_time": "2022-01-13T13:08:02.804Z"
   },
   {
    "duration": 237,
    "start_time": "2022-01-13T13:08:12.685Z"
   },
   {
    "duration": 274,
    "start_time": "2022-01-13T13:10:14.377Z"
   },
   {
    "duration": 7,
    "start_time": "2022-01-13T13:10:42.150Z"
   },
   {
    "duration": 5,
    "start_time": "2022-01-13T13:11:16.236Z"
   },
   {
    "duration": 6,
    "start_time": "2022-01-13T13:11:23.304Z"
   },
   {
    "duration": 29,
    "start_time": "2022-01-13T13:11:41.149Z"
   },
   {
    "duration": 5,
    "start_time": "2022-01-13T13:11:52.595Z"
   },
   {
    "duration": 22,
    "start_time": "2022-01-13T13:11:53.902Z"
   },
   {
    "duration": 359,
    "start_time": "2022-01-13T13:12:43.115Z"
   },
   {
    "duration": 239,
    "start_time": "2022-01-13T13:13:02.810Z"
   },
   {
    "duration": 83,
    "start_time": "2022-01-13T13:13:49.022Z"
   },
   {
    "duration": 72,
    "start_time": "2022-01-13T13:14:10.413Z"
   },
   {
    "duration": 226,
    "start_time": "2022-01-13T13:14:14.326Z"
   },
   {
    "duration": 73,
    "start_time": "2022-01-13T13:14:31.995Z"
   },
   {
    "duration": 194,
    "start_time": "2022-01-13T13:14:36.155Z"
   },
   {
    "duration": 80,
    "start_time": "2022-01-13T13:14:43.221Z"
   },
   {
    "duration": 226,
    "start_time": "2022-01-13T13:14:45.919Z"
   },
   {
    "duration": 259,
    "start_time": "2022-01-13T13:14:58.421Z"
   },
   {
    "duration": 231,
    "start_time": "2022-01-13T13:15:08.691Z"
   },
   {
    "duration": 83,
    "start_time": "2022-01-13T13:15:15.643Z"
   },
   {
    "duration": 230,
    "start_time": "2022-01-13T13:15:17.945Z"
   },
   {
    "duration": 227,
    "start_time": "2022-01-13T13:15:27.466Z"
   },
   {
    "duration": 233,
    "start_time": "2022-01-13T13:15:37.014Z"
   },
   {
    "duration": 80,
    "start_time": "2022-01-13T13:15:43.435Z"
   },
   {
    "duration": 67,
    "start_time": "2022-01-13T13:16:01.197Z"
   },
   {
    "duration": 214,
    "start_time": "2022-01-13T13:16:13.011Z"
   },
   {
    "duration": 6,
    "start_time": "2022-01-13T13:17:01.976Z"
   },
   {
    "duration": 9,
    "start_time": "2022-01-13T13:17:08.912Z"
   },
   {
    "duration": 7,
    "start_time": "2022-01-13T13:17:10.116Z"
   },
   {
    "duration": 218,
    "start_time": "2022-01-13T13:17:22.472Z"
   },
   {
    "duration": 6,
    "start_time": "2022-01-13T13:17:36.299Z"
   },
   {
    "duration": 9,
    "start_time": "2022-01-13T13:17:39.015Z"
   },
   {
    "duration": 6,
    "start_time": "2022-01-13T13:17:39.624Z"
   },
   {
    "duration": 216,
    "start_time": "2022-01-13T13:17:42.354Z"
   },
   {
    "duration": 202,
    "start_time": "2022-01-13T13:18:03.611Z"
   },
   {
    "duration": 171,
    "start_time": "2022-01-13T13:18:15.843Z"
   },
   {
    "duration": 200,
    "start_time": "2022-01-13T13:18:27.792Z"
   },
   {
    "duration": 245,
    "start_time": "2022-01-13T13:18:39.096Z"
   },
   {
    "duration": 235,
    "start_time": "2022-01-13T13:18:45.401Z"
   },
   {
    "duration": 239,
    "start_time": "2022-01-13T13:18:55.593Z"
   },
   {
    "duration": 153,
    "start_time": "2022-01-13T13:19:09.126Z"
   },
   {
    "duration": 242,
    "start_time": "2022-01-13T13:19:25.353Z"
   },
   {
    "duration": 172,
    "start_time": "2022-01-13T13:19:34.646Z"
   },
   {
    "duration": 171,
    "start_time": "2022-01-13T13:19:44.371Z"
   },
   {
    "duration": 194,
    "start_time": "2022-01-13T13:20:01.002Z"
   },
   {
    "duration": 174,
    "start_time": "2022-01-13T13:20:09.091Z"
   },
   {
    "duration": 147,
    "start_time": "2022-01-13T13:24:54.080Z"
   },
   {
    "duration": 148,
    "start_time": "2022-01-13T13:25:07.925Z"
   },
   {
    "duration": 5,
    "start_time": "2022-01-13T13:34:40.126Z"
   },
   {
    "duration": 73,
    "start_time": "2022-01-13T13:38:07.844Z"
   },
   {
    "duration": 1101,
    "start_time": "2022-01-13T13:38:22.366Z"
   },
   {
    "duration": 1360,
    "start_time": "2022-01-13T13:38:57.439Z"
   },
   {
    "duration": 787,
    "start_time": "2022-01-13T13:41:02.260Z"
   },
   {
    "duration": 781,
    "start_time": "2022-01-13T13:41:39.093Z"
   },
   {
    "duration": 818,
    "start_time": "2022-01-13T13:42:21.713Z"
   },
   {
    "duration": 276,
    "start_time": "2022-01-13T13:44:07.537Z"
   },
   {
    "duration": 248,
    "start_time": "2022-01-13T13:46:15.029Z"
   },
   {
    "duration": 259,
    "start_time": "2022-01-13T13:46:22.775Z"
   },
   {
    "duration": 150,
    "start_time": "2022-01-13T13:46:35.602Z"
   },
   {
    "duration": 147,
    "start_time": "2022-01-13T13:46:48.924Z"
   },
   {
    "duration": 150,
    "start_time": "2022-01-13T13:47:33.740Z"
   },
   {
    "duration": 150,
    "start_time": "2022-01-13T13:48:20.047Z"
   },
   {
    "duration": 370,
    "start_time": "2022-01-13T13:48:28.429Z"
   },
   {
    "duration": 268,
    "start_time": "2022-01-13T13:48:53.485Z"
   },
   {
    "duration": -924,
    "start_time": "2022-01-13T13:49:18.615Z"
   },
   {
    "duration": 6054,
    "start_time": "2022-01-13T13:49:22.328Z"
   },
   {
    "duration": 153,
    "start_time": "2022-01-13T13:51:27.495Z"
   },
   {
    "duration": 1364,
    "start_time": "2022-01-14T08:50:12.112Z"
   },
   {
    "duration": 46,
    "start_time": "2022-01-14T08:50:13.478Z"
   },
   {
    "duration": 26,
    "start_time": "2022-01-14T08:50:13.527Z"
   },
   {
    "duration": 19,
    "start_time": "2022-01-14T08:50:13.556Z"
   },
   {
    "duration": 7,
    "start_time": "2022-01-14T08:50:13.577Z"
   },
   {
    "duration": 32,
    "start_time": "2022-01-14T08:50:13.587Z"
   },
   {
    "duration": 15,
    "start_time": "2022-01-14T08:50:13.621Z"
   },
   {
    "duration": 18,
    "start_time": "2022-01-14T08:50:13.639Z"
   },
   {
    "duration": 58,
    "start_time": "2022-01-14T08:50:13.660Z"
   },
   {
    "duration": 5,
    "start_time": "2022-01-14T08:50:13.721Z"
   },
   {
    "duration": 10,
    "start_time": "2022-01-14T08:50:13.728Z"
   },
   {
    "duration": 11,
    "start_time": "2022-01-14T08:50:13.740Z"
   },
   {
    "duration": 8,
    "start_time": "2022-01-14T08:50:13.754Z"
   },
   {
    "duration": 17,
    "start_time": "2022-01-14T08:50:13.765Z"
   },
   {
    "duration": 41,
    "start_time": "2022-01-14T08:50:13.785Z"
   },
   {
    "duration": 13,
    "start_time": "2022-01-14T08:50:13.828Z"
   },
   {
    "duration": 27,
    "start_time": "2022-01-14T08:50:13.843Z"
   },
   {
    "duration": 8,
    "start_time": "2022-01-14T08:50:13.872Z"
   },
   {
    "duration": 51,
    "start_time": "2022-01-14T08:50:13.882Z"
   },
   {
    "duration": 13,
    "start_time": "2022-01-14T08:50:13.935Z"
   },
   {
    "duration": 15,
    "start_time": "2022-01-14T08:50:13.950Z"
   },
   {
    "duration": 50,
    "start_time": "2022-01-14T08:50:13.967Z"
   },
   {
    "duration": 5,
    "start_time": "2022-01-14T08:50:14.024Z"
   },
   {
    "duration": 6,
    "start_time": "2022-01-14T08:50:14.034Z"
   },
   {
    "duration": 32,
    "start_time": "2022-01-14T08:50:14.043Z"
   },
   {
    "duration": 44,
    "start_time": "2022-01-14T08:50:14.078Z"
   },
   {
    "duration": 32,
    "start_time": "2022-01-14T08:50:14.125Z"
   },
   {
    "duration": 10,
    "start_time": "2022-01-14T08:50:14.160Z"
   },
   {
    "duration": 47,
    "start_time": "2022-01-14T08:50:14.173Z"
   },
   {
    "duration": 668,
    "start_time": "2022-01-14T08:50:14.223Z"
   },
   {
    "duration": 30,
    "start_time": "2022-01-14T08:50:14.894Z"
   },
   {
    "duration": 11,
    "start_time": "2022-01-14T08:50:14.927Z"
   },
   {
    "duration": 459,
    "start_time": "2022-01-14T08:50:14.941Z"
   },
   {
    "duration": 436,
    "start_time": "2022-01-14T08:50:15.404Z"
   },
   {
    "duration": 370,
    "start_time": "2022-01-14T08:50:15.843Z"
   },
   {
    "duration": 421,
    "start_time": "2022-01-14T08:50:16.217Z"
   },
   {
    "duration": 359,
    "start_time": "2022-01-14T08:50:16.641Z"
   },
   {
    "duration": 427,
    "start_time": "2022-01-14T08:50:17.003Z"
   },
   {
    "duration": 413,
    "start_time": "2022-01-14T08:50:17.433Z"
   },
   {
    "duration": 493,
    "start_time": "2022-01-14T08:50:17.849Z"
   },
   {
    "duration": 427,
    "start_time": "2022-01-14T08:50:18.344Z"
   },
   {
    "duration": 386,
    "start_time": "2022-01-14T08:50:18.773Z"
   },
   {
    "duration": 8,
    "start_time": "2022-01-14T08:50:19.161Z"
   },
   {
    "duration": 15,
    "start_time": "2022-01-14T08:50:19.171Z"
   },
   {
    "duration": 30,
    "start_time": "2022-01-14T08:50:19.188Z"
   },
   {
    "duration": 357,
    "start_time": "2022-01-14T08:50:19.221Z"
   },
   {
    "duration": 309,
    "start_time": "2022-01-14T08:50:19.580Z"
   },
   {
    "duration": 368,
    "start_time": "2022-01-14T08:50:19.891Z"
   },
   {
    "duration": 310,
    "start_time": "2022-01-14T08:50:20.262Z"
   },
   {
    "duration": 377,
    "start_time": "2022-01-14T08:50:20.575Z"
   },
   {
    "duration": 295,
    "start_time": "2022-01-14T08:50:20.954Z"
   },
   {
    "duration": 311,
    "start_time": "2022-01-14T08:50:21.251Z"
   },
   {
    "duration": 321,
    "start_time": "2022-01-14T08:50:21.564Z"
   },
   {
    "duration": 414,
    "start_time": "2022-01-14T08:50:21.887Z"
   },
   {
    "duration": 324,
    "start_time": "2022-01-14T08:50:22.303Z"
   },
   {
    "duration": 330,
    "start_time": "2022-01-14T08:50:22.630Z"
   },
   {
    "duration": 6,
    "start_time": "2022-01-14T08:50:22.962Z"
   },
   {
    "duration": 1384,
    "start_time": "2022-01-14T08:50:22.970Z"
   },
   {
    "duration": 1334,
    "start_time": "2022-01-14T08:50:24.356Z"
   },
   {
    "duration": 284,
    "start_time": "2022-01-14T08:50:25.693Z"
   },
   {
    "duration": 265,
    "start_time": "2022-01-14T08:50:25.979Z"
   },
   {
    "duration": 274,
    "start_time": "2022-01-14T08:50:26.246Z"
   },
   {
    "duration": 258,
    "start_time": "2022-01-14T08:50:26.523Z"
   },
   {
    "duration": 338,
    "start_time": "2022-01-14T08:50:26.783Z"
   },
   {
    "duration": 267,
    "start_time": "2022-01-14T08:50:27.123Z"
   },
   {
    "duration": 265,
    "start_time": "2022-01-14T08:50:27.392Z"
   },
   {
    "duration": 271,
    "start_time": "2022-01-14T08:50:27.660Z"
   },
   {
    "duration": 277,
    "start_time": "2022-01-14T08:50:27.939Z"
   },
   {
    "duration": 15,
    "start_time": "2022-01-14T08:50:28.218Z"
   },
   {
    "duration": 15,
    "start_time": "2022-01-14T08:50:28.236Z"
   },
   {
    "duration": 3,
    "start_time": "2022-01-14T09:17:51.379Z"
   },
   {
    "duration": 10,
    "start_time": "2022-01-14T09:17:55.455Z"
   },
   {
    "duration": 99,
    "start_time": "2022-01-14T09:18:20.174Z"
   },
   {
    "duration": 10,
    "start_time": "2022-01-14T09:18:57.343Z"
   },
   {
    "duration": 120,
    "start_time": "2022-01-14T09:19:08.237Z"
   },
   {
    "duration": 624,
    "start_time": "2022-01-14T09:20:29.363Z"
   },
   {
    "duration": 688,
    "start_time": "2022-01-14T09:20:44.811Z"
   },
   {
    "duration": 718,
    "start_time": "2022-01-14T09:21:06.606Z"
   },
   {
    "duration": 985,
    "start_time": "2022-01-14T09:21:45.813Z"
   },
   {
    "duration": 4,
    "start_time": "2022-01-14T09:22:29.476Z"
   },
   {
    "duration": 439,
    "start_time": "2022-01-14T09:22:47.045Z"
   },
   {
    "duration": 480,
    "start_time": "2022-01-14T09:30:31.623Z"
   },
   {
    "duration": 648,
    "start_time": "2022-01-14T09:30:41.634Z"
   },
   {
    "duration": 2891,
    "start_time": "2022-01-14T09:30:51.029Z"
   },
   {
    "duration": 405,
    "start_time": "2022-01-14T09:31:02.841Z"
   },
   {
    "duration": 410,
    "start_time": "2022-01-14T09:32:35.663Z"
   },
   {
    "duration": 460,
    "start_time": "2022-01-14T09:33:01.845Z"
   },
   {
    "duration": 352,
    "start_time": "2022-01-14T09:33:34.913Z"
   },
   {
    "duration": 308,
    "start_time": "2022-01-14T09:33:39.711Z"
   },
   {
    "duration": 358,
    "start_time": "2022-01-14T09:34:21.655Z"
   },
   {
    "duration": 1168,
    "start_time": "2022-01-14T09:34:50.399Z"
   },
   {
    "duration": 526,
    "start_time": "2022-01-14T09:35:18.593Z"
   },
   {
    "duration": 629,
    "start_time": "2022-01-14T09:35:45.926Z"
   },
   {
    "duration": 1050,
    "start_time": "2022-01-14T09:35:50.354Z"
   },
   {
    "duration": 288,
    "start_time": "2022-01-14T09:37:51.626Z"
   },
   {
    "duration": 319,
    "start_time": "2022-01-14T09:37:59.390Z"
   },
   {
    "duration": 707,
    "start_time": "2022-01-14T09:43:58.857Z"
   },
   {
    "duration": 721,
    "start_time": "2022-01-14T09:50:37.485Z"
   },
   {
    "duration": 437,
    "start_time": "2022-01-14T09:50:51.937Z"
   },
   {
    "duration": 841,
    "start_time": "2022-01-14T09:52:20.538Z"
   },
   {
    "duration": 380,
    "start_time": "2022-01-14T09:52:29.644Z"
   },
   {
    "duration": 678,
    "start_time": "2022-01-14T09:52:46.293Z"
   },
   {
    "duration": 402,
    "start_time": "2022-01-14T09:53:20.134Z"
   },
   {
    "duration": 98,
    "start_time": "2022-01-14T09:59:34.703Z"
   },
   {
    "duration": 852,
    "start_time": "2022-01-14T10:00:02.602Z"
   },
   {
    "duration": 383,
    "start_time": "2022-01-14T10:02:44.137Z"
   },
   {
    "duration": 695,
    "start_time": "2022-01-14T10:02:55.076Z"
   },
   {
    "duration": 101,
    "start_time": "2022-01-14T10:03:09.116Z"
   },
   {
    "duration": 747,
    "start_time": "2022-01-14T10:03:12.196Z"
   },
   {
    "duration": 737,
    "start_time": "2022-01-14T10:03:17.742Z"
   },
   {
    "duration": 741,
    "start_time": "2022-01-14T10:03:23.066Z"
   },
   {
    "duration": 609,
    "start_time": "2022-01-14T10:03:58.525Z"
   },
   {
    "duration": 410,
    "start_time": "2022-01-14T10:04:08.428Z"
   },
   {
    "duration": 319,
    "start_time": "2022-01-14T10:05:12.479Z"
   },
   {
    "duration": 293,
    "start_time": "2022-01-14T10:05:30.183Z"
   },
   {
    "duration": 708,
    "start_time": "2022-01-14T10:05:38.929Z"
   },
   {
    "duration": 380,
    "start_time": "2022-01-14T10:05:49.246Z"
   },
   {
    "duration": 342,
    "start_time": "2022-01-14T10:07:11.694Z"
   },
   {
    "duration": 322,
    "start_time": "2022-01-14T10:07:34.359Z"
   },
   {
    "duration": 395,
    "start_time": "2022-01-14T10:08:08.828Z"
   },
   {
    "duration": 790,
    "start_time": "2022-01-14T10:09:41.657Z"
   },
   {
    "duration": 380,
    "start_time": "2022-01-14T10:10:57.045Z"
   },
   {
    "duration": 780,
    "start_time": "2022-01-14T10:11:15.719Z"
   },
   {
    "duration": 3557,
    "start_time": "2022-01-14T10:11:26.637Z"
   },
   {
    "duration": 395,
    "start_time": "2022-01-14T10:11:43.037Z"
   },
   {
    "duration": 687,
    "start_time": "2022-01-14T10:12:41.204Z"
   },
   {
    "duration": 670,
    "start_time": "2022-01-14T10:13:10.602Z"
   },
   {
    "duration": 410,
    "start_time": "2022-01-14T10:13:16.979Z"
   },
   {
    "duration": 401,
    "start_time": "2022-01-14T10:14:18.437Z"
   },
   {
    "duration": 730,
    "start_time": "2022-01-14T10:14:34.781Z"
   },
   {
    "duration": 643,
    "start_time": "2022-01-14T10:14:44.871Z"
   },
   {
    "duration": 562,
    "start_time": "2022-01-14T10:14:52.385Z"
   },
   {
    "duration": 494,
    "start_time": "2022-01-14T10:15:09.995Z"
   },
   {
    "duration": 527,
    "start_time": "2022-01-14T10:15:17.453Z"
   },
   {
    "duration": 518,
    "start_time": "2022-01-14T10:15:29.523Z"
   },
   {
    "duration": 484,
    "start_time": "2022-01-14T10:15:45.742Z"
   },
   {
    "duration": 9,
    "start_time": "2022-01-14T10:16:58.070Z"
   },
   {
    "duration": 98,
    "start_time": "2022-01-14T10:18:25.562Z"
   },
   {
    "duration": 345,
    "start_time": "2022-01-14T10:18:53.436Z"
   },
   {
    "duration": 299,
    "start_time": "2022-01-14T10:19:05.522Z"
   },
   {
    "duration": 123,
    "start_time": "2022-01-14T10:19:09.362Z"
   },
   {
    "duration": 325,
    "start_time": "2022-01-14T10:19:12.737Z"
   },
   {
    "duration": 5,
    "start_time": "2022-01-14T10:24:10.315Z"
   },
   {
    "duration": 5,
    "start_time": "2022-01-14T10:24:24.669Z"
   },
   {
    "duration": 105,
    "start_time": "2022-01-14T10:24:26.344Z"
   },
   {
    "duration": 95,
    "start_time": "2022-01-14T10:24:38.106Z"
   },
   {
    "duration": 31,
    "start_time": "2022-01-14T10:26:32.242Z"
   },
   {
    "duration": 286,
    "start_time": "2022-01-14T10:27:15.721Z"
   },
   {
    "duration": 10,
    "start_time": "2022-01-14T10:27:20.767Z"
   },
   {
    "duration": 3,
    "start_time": "2022-01-14T10:27:23.799Z"
   },
   {
    "duration": 101,
    "start_time": "2022-01-14T10:27:32.682Z"
   },
   {
    "duration": 116,
    "start_time": "2022-01-14T10:27:38.327Z"
   },
   {
    "duration": 100,
    "start_time": "2022-01-14T10:27:40.817Z"
   },
   {
    "duration": 116,
    "start_time": "2022-01-14T10:28:00.534Z"
   },
   {
    "duration": 108,
    "start_time": "2022-01-14T10:28:41.885Z"
   },
   {
    "duration": 11,
    "start_time": "2022-01-14T10:29:39.675Z"
   },
   {
    "duration": 94,
    "start_time": "2022-01-14T10:31:21.660Z"
   },
   {
    "duration": 96,
    "start_time": "2022-01-14T10:31:29.741Z"
   },
   {
    "duration": 9,
    "start_time": "2022-01-14T10:32:20.103Z"
   },
   {
    "duration": 693,
    "start_time": "2022-01-14T10:32:35.517Z"
   },
   {
    "duration": 702,
    "start_time": "2022-01-14T10:32:53.253Z"
   },
   {
    "duration": 12,
    "start_time": "2022-01-14T10:33:04.799Z"
   },
   {
    "duration": 31,
    "start_time": "2022-01-14T10:33:26.481Z"
   },
   {
    "duration": 10,
    "start_time": "2022-01-14T10:34:08.147Z"
   },
   {
    "duration": 36,
    "start_time": "2022-01-14T10:34:09.439Z"
   },
   {
    "duration": 30,
    "start_time": "2022-01-14T10:34:15.639Z"
   },
   {
    "duration": 11,
    "start_time": "2022-01-14T10:34:44.952Z"
   },
   {
    "duration": 32,
    "start_time": "2022-01-14T10:34:47.503Z"
   },
   {
    "duration": 500,
    "start_time": "2022-01-14T10:35:01.037Z"
   },
   {
    "duration": 381,
    "start_time": "2022-01-14T10:41:04.402Z"
   },
   {
    "duration": 397,
    "start_time": "2022-01-14T10:41:11.493Z"
   },
   {
    "duration": 565,
    "start_time": "2022-01-14T10:41:14.771Z"
   },
   {
    "duration": 341,
    "start_time": "2022-01-14T10:41:18.747Z"
   },
   {
    "duration": 361,
    "start_time": "2022-01-14T10:41:37.122Z"
   },
   {
    "duration": 99,
    "start_time": "2022-01-14T10:41:45.220Z"
   },
   {
    "duration": 375,
    "start_time": "2022-01-14T10:41:51.488Z"
   },
   {
    "duration": 543,
    "start_time": "2022-01-14T10:42:02.861Z"
   },
   {
    "duration": 395,
    "start_time": "2022-01-14T10:42:08.339Z"
   },
   {
    "duration": 560,
    "start_time": "2022-01-14T10:42:55.779Z"
   },
   {
    "duration": 395,
    "start_time": "2022-01-14T10:43:03.494Z"
   },
   {
    "duration": 391,
    "start_time": "2022-01-14T10:43:07.914Z"
   },
   {
    "duration": 347,
    "start_time": "2022-01-14T10:43:11.643Z"
   },
   {
    "duration": 49,
    "start_time": "2022-01-14T10:43:27.866Z"
   },
   {
    "duration": 104,
    "start_time": "2022-01-14T10:44:05.286Z"
   },
   {
    "duration": 1316,
    "start_time": "2022-01-14T10:44:17.225Z"
   },
   {
    "duration": 467,
    "start_time": "2022-01-14T10:44:31.881Z"
   },
   {
    "duration": 6,
    "start_time": "2022-01-14T10:46:37.046Z"
   },
   {
    "duration": 9,
    "start_time": "2022-01-14T10:47:46.090Z"
   },
   {
    "duration": 9,
    "start_time": "2022-01-14T10:47:51.775Z"
   },
   {
    "duration": 389,
    "start_time": "2022-01-14T10:47:59.415Z"
   },
   {
    "duration": 395,
    "start_time": "2022-01-14T10:48:18.809Z"
   },
   {
    "duration": 342,
    "start_time": "2022-01-14T10:48:31.958Z"
   },
   {
    "duration": 6,
    "start_time": "2022-01-14T10:49:19.003Z"
   },
   {
    "duration": 6,
    "start_time": "2022-01-14T10:49:40.220Z"
   },
   {
    "duration": 377,
    "start_time": "2022-01-14T10:50:08.425Z"
   },
   {
    "duration": 352,
    "start_time": "2022-01-14T10:50:15.644Z"
   },
   {
    "duration": 6,
    "start_time": "2022-01-14T10:50:52.348Z"
   },
   {
    "duration": 93,
    "start_time": "2022-01-14T10:51:42.693Z"
   },
   {
    "duration": 31,
    "start_time": "2022-01-14T10:51:44.629Z"
   },
   {
    "duration": 372,
    "start_time": "2022-01-14T10:53:11.428Z"
   },
   {
    "duration": 169768,
    "start_time": "2022-01-14T11:05:55.261Z"
   },
   {
    "duration": 515,
    "start_time": "2022-01-14T12:42:21.493Z"
   },
   {
    "duration": 11,
    "start_time": "2022-01-14T12:42:33.361Z"
   },
   {
    "duration": 10,
    "start_time": "2022-01-14T13:06:46.390Z"
   },
   {
    "duration": 14,
    "start_time": "2022-01-14T13:06:47.027Z"
   },
   {
    "duration": 9,
    "start_time": "2022-01-14T13:06:47.935Z"
   },
   {
    "duration": 8,
    "start_time": "2022-01-14T13:07:42.084Z"
   },
   {
    "duration": 15,
    "start_time": "2022-01-14T13:07:44.717Z"
   },
   {
    "duration": 10,
    "start_time": "2022-01-14T13:07:45.513Z"
   },
   {
    "duration": 25,
    "start_time": "2022-01-14T13:09:58.753Z"
   },
   {
    "duration": 8,
    "start_time": "2022-01-14T13:10:06.517Z"
   },
   {
    "duration": 34,
    "start_time": "2022-01-14T13:10:41.475Z"
   },
   {
    "duration": 445,
    "start_time": "2022-01-14T13:11:05.416Z"
   },
   {
    "duration": 580,
    "start_time": "2022-01-14T13:13:30.373Z"
   },
   {
    "duration": 372,
    "start_time": "2022-01-14T13:13:32.866Z"
   },
   {
    "duration": 8,
    "start_time": "2022-01-14T13:17:33.782Z"
   },
   {
    "duration": 555,
    "start_time": "2022-01-14T13:17:36.996Z"
   },
   {
    "duration": 12,
    "start_time": "2022-01-14T13:17:52.705Z"
   },
   {
    "duration": 524,
    "start_time": "2022-01-14T13:17:53.148Z"
   },
   {
    "duration": 406,
    "start_time": "2022-01-14T13:18:10.014Z"
   },
   {
    "duration": 9,
    "start_time": "2022-01-14T13:19:15.841Z"
   },
   {
    "duration": 599,
    "start_time": "2022-01-14T13:19:16.272Z"
   },
   {
    "duration": 401,
    "start_time": "2022-01-14T13:19:22.914Z"
   },
   {
    "duration": 1404,
    "start_time": "2022-01-14T13:19:35.983Z"
   },
   {
    "duration": 46,
    "start_time": "2022-01-14T13:19:37.390Z"
   },
   {
    "duration": 28,
    "start_time": "2022-01-14T13:19:37.439Z"
   },
   {
    "duration": 17,
    "start_time": "2022-01-14T13:19:37.469Z"
   },
   {
    "duration": 29,
    "start_time": "2022-01-14T13:19:37.488Z"
   },
   {
    "duration": 5,
    "start_time": "2022-01-14T13:19:37.520Z"
   },
   {
    "duration": 14,
    "start_time": "2022-01-14T13:19:37.528Z"
   },
   {
    "duration": 20,
    "start_time": "2022-01-14T13:19:37.547Z"
   },
   {
    "duration": 61,
    "start_time": "2022-01-14T13:19:37.570Z"
   },
   {
    "duration": 6,
    "start_time": "2022-01-14T13:19:37.642Z"
   },
   {
    "duration": 11,
    "start_time": "2022-01-14T13:19:37.650Z"
   },
   {
    "duration": 12,
    "start_time": "2022-01-14T13:19:37.663Z"
   },
   {
    "duration": 39,
    "start_time": "2022-01-14T13:19:37.677Z"
   },
   {
    "duration": 17,
    "start_time": "2022-01-14T13:19:37.719Z"
   },
   {
    "duration": 15,
    "start_time": "2022-01-14T13:19:37.739Z"
   },
   {
    "duration": 30,
    "start_time": "2022-01-14T13:19:37.758Z"
   },
   {
    "duration": 32,
    "start_time": "2022-01-14T13:19:37.790Z"
   },
   {
    "duration": 10,
    "start_time": "2022-01-14T13:19:37.825Z"
   },
   {
    "duration": 34,
    "start_time": "2022-01-14T13:19:37.837Z"
   },
   {
    "duration": 19,
    "start_time": "2022-01-14T13:19:37.874Z"
   },
   {
    "duration": 14,
    "start_time": "2022-01-14T13:19:37.918Z"
   },
   {
    "duration": 23,
    "start_time": "2022-01-14T13:19:37.934Z"
   },
   {
    "duration": 5,
    "start_time": "2022-01-14T13:19:37.965Z"
   },
   {
    "duration": 44,
    "start_time": "2022-01-14T13:19:37.973Z"
   },
   {
    "duration": 32,
    "start_time": "2022-01-14T13:19:38.019Z"
   },
   {
    "duration": 26,
    "start_time": "2022-01-14T13:19:38.053Z"
   },
   {
    "duration": 42,
    "start_time": "2022-01-14T13:19:38.081Z"
   },
   {
    "duration": 10,
    "start_time": "2022-01-14T13:19:38.125Z"
   },
   {
    "duration": 9,
    "start_time": "2022-01-14T13:19:38.137Z"
   },
   {
    "duration": 686,
    "start_time": "2022-01-14T13:19:38.148Z"
   },
   {
    "duration": 15,
    "start_time": "2022-01-14T13:19:38.836Z"
   },
   {
    "duration": 9,
    "start_time": "2022-01-14T13:19:38.853Z"
   },
   {
    "duration": 469,
    "start_time": "2022-01-14T13:19:38.865Z"
   },
   {
    "duration": 430,
    "start_time": "2022-01-14T13:19:39.336Z"
   },
   {
    "duration": 367,
    "start_time": "2022-01-14T13:19:39.768Z"
   },
   {
    "duration": 427,
    "start_time": "2022-01-14T13:19:40.138Z"
   },
   {
    "duration": 362,
    "start_time": "2022-01-14T13:19:40.568Z"
   },
   {
    "duration": 434,
    "start_time": "2022-01-14T13:19:40.933Z"
   },
   {
    "duration": 422,
    "start_time": "2022-01-14T13:19:41.369Z"
   },
   {
    "duration": 595,
    "start_time": "2022-01-14T13:19:41.793Z"
   },
   {
    "duration": 410,
    "start_time": "2022-01-14T13:19:42.390Z"
   },
   {
    "duration": 383,
    "start_time": "2022-01-14T13:19:42.802Z"
   },
   {
    "duration": 7,
    "start_time": "2022-01-14T13:19:43.188Z"
   },
   {
    "duration": 26,
    "start_time": "2022-01-14T13:19:43.198Z"
   },
   {
    "duration": 9,
    "start_time": "2022-01-14T13:19:43.227Z"
   },
   {
    "duration": 5,
    "start_time": "2022-01-14T13:19:43.238Z"
   },
   {
    "duration": 33,
    "start_time": "2022-01-14T13:19:43.245Z"
   },
   {
    "duration": 46,
    "start_time": "2022-01-14T13:19:43.280Z"
   },
   {
    "duration": 32,
    "start_time": "2022-01-14T13:19:43.328Z"
   },
   {
    "duration": 372,
    "start_time": "2022-01-14T13:19:43.362Z"
   },
   {
    "duration": 305,
    "start_time": "2022-01-14T13:19:43.737Z"
   },
   {
    "duration": 359,
    "start_time": "2022-01-14T13:19:44.045Z"
   },
   {
    "duration": 307,
    "start_time": "2022-01-14T13:19:44.406Z"
   },
   {
    "duration": 364,
    "start_time": "2022-01-14T13:19:44.716Z"
   },
   {
    "duration": 395,
    "start_time": "2022-01-14T13:19:45.082Z"
   },
   {
    "duration": 308,
    "start_time": "2022-01-14T13:19:45.480Z"
   },
   {
    "duration": 329,
    "start_time": "2022-01-14T13:19:45.790Z"
   },
   {
    "duration": 414,
    "start_time": "2022-01-14T13:19:46.122Z"
   },
   {
    "duration": 319,
    "start_time": "2022-01-14T13:19:46.539Z"
   },
   {
    "duration": 504,
    "start_time": "2022-01-14T13:19:46.861Z"
   },
   {
    "duration": 8,
    "start_time": "2022-01-14T13:19:47.367Z"
   },
   {
    "duration": 559,
    "start_time": "2022-01-14T13:19:47.377Z"
   },
   {
    "duration": 413,
    "start_time": "2022-01-14T13:19:47.939Z"
   },
   {
    "duration": -847,
    "start_time": "2022-01-14T13:19:49.202Z"
   },
   {
    "duration": -850,
    "start_time": "2022-01-14T13:19:49.206Z"
   },
   {
    "duration": -850,
    "start_time": "2022-01-14T13:19:49.208Z"
   },
   {
    "duration": -852,
    "start_time": "2022-01-14T13:19:49.211Z"
   },
   {
    "duration": -854,
    "start_time": "2022-01-14T13:19:49.214Z"
   },
   {
    "duration": -855,
    "start_time": "2022-01-14T13:19:49.217Z"
   },
   {
    "duration": -856,
    "start_time": "2022-01-14T13:19:49.220Z"
   },
   {
    "duration": -858,
    "start_time": "2022-01-14T13:19:49.223Z"
   },
   {
    "duration": -859,
    "start_time": "2022-01-14T13:19:49.226Z"
   },
   {
    "duration": -859,
    "start_time": "2022-01-14T13:19:49.228Z"
   },
   {
    "duration": -862,
    "start_time": "2022-01-14T13:19:49.232Z"
   },
   {
    "duration": -868,
    "start_time": "2022-01-14T13:19:49.240Z"
   },
   {
    "duration": -870,
    "start_time": "2022-01-14T13:19:49.243Z"
   },
   {
    "duration": -872,
    "start_time": "2022-01-14T13:19:49.246Z"
   },
   {
    "duration": 9,
    "start_time": "2022-01-14T13:23:24.385Z"
   },
   {
    "duration": 439,
    "start_time": "2022-01-14T13:23:26.073Z"
   },
   {
    "duration": 317,
    "start_time": "2022-01-14T13:24:33.369Z"
   },
   {
    "duration": 117,
    "start_time": "2022-01-14T13:26:37.101Z"
   },
   {
    "duration": 144,
    "start_time": "2022-01-14T13:26:40.980Z"
   },
   {
    "duration": 6,
    "start_time": "2022-01-14T13:27:26.348Z"
   },
   {
    "duration": 409,
    "start_time": "2022-01-14T13:27:33.885Z"
   },
   {
    "duration": 5,
    "start_time": "2022-01-14T13:27:56.614Z"
   },
   {
    "duration": 410,
    "start_time": "2022-01-14T13:27:58.903Z"
   },
   {
    "duration": 6,
    "start_time": "2022-01-14T13:28:01.520Z"
   },
   {
    "duration": 9,
    "start_time": "2022-01-14T13:28:40.800Z"
   },
   {
    "duration": 6,
    "start_time": "2022-01-14T13:29:08.083Z"
   },
   {
    "duration": 413,
    "start_time": "2022-01-14T13:29:14.687Z"
   },
   {
    "duration": 399,
    "start_time": "2022-01-14T13:29:34.630Z"
   },
   {
    "duration": 389,
    "start_time": "2022-01-14T13:29:43.833Z"
   },
   {
    "duration": 9,
    "start_time": "2022-01-14T13:30:11.188Z"
   },
   {
    "duration": 357,
    "start_time": "2022-01-14T13:32:17.931Z"
   },
   {
    "duration": 429,
    "start_time": "2022-01-14T13:32:20.240Z"
   },
   {
    "duration": 6,
    "start_time": "2022-01-14T13:32:43.868Z"
   },
   {
    "duration": 389,
    "start_time": "2022-01-14T13:32:58.309Z"
   },
   {
    "duration": 370,
    "start_time": "2022-01-14T13:33:00.224Z"
   },
   {
    "duration": 729,
    "start_time": "2022-01-14T13:38:34.601Z"
   },
   {
    "duration": 618,
    "start_time": "2022-01-14T13:39:08.028Z"
   },
   {
    "duration": 8,
    "start_time": "2022-01-14T13:41:34.577Z"
   },
   {
    "duration": 847,
    "start_time": "2022-01-14T13:42:20.937Z"
   },
   {
    "duration": 763,
    "start_time": "2022-01-14T13:43:03.390Z"
   },
   {
    "duration": 1629,
    "start_time": "2022-01-14T13:43:10.262Z"
   },
   {
    "duration": 2171,
    "start_time": "2022-01-14T13:44:06.180Z"
   },
   {
    "duration": 320,
    "start_time": "2022-01-14T13:44:27.274Z"
   },
   {
    "duration": 356,
    "start_time": "2022-01-14T13:44:47.849Z"
   },
   {
    "duration": 6,
    "start_time": "2022-01-14T13:44:51.231Z"
   },
   {
    "duration": 32,
    "start_time": "2022-01-14T13:44:51.609Z"
   },
   {
    "duration": 1631,
    "start_time": "2022-01-14T13:44:56.117Z"
   },
   {
    "duration": 1882,
    "start_time": "2022-01-14T13:45:14.554Z"
   },
   {
    "duration": 2058,
    "start_time": "2022-01-14T13:45:24.572Z"
   },
   {
    "duration": 831,
    "start_time": "2022-01-14T13:46:08.385Z"
   },
   {
    "duration": 996,
    "start_time": "2022-01-14T13:46:23.599Z"
   },
   {
    "duration": 1312,
    "start_time": "2022-01-14T13:46:44.561Z"
   },
   {
    "duration": 2154,
    "start_time": "2022-01-14T13:47:03.384Z"
   },
   {
    "duration": 1601,
    "start_time": "2022-01-14T13:47:26.166Z"
   },
   {
    "duration": 1912,
    "start_time": "2022-01-14T13:47:55.714Z"
   },
   {
    "duration": 2719,
    "start_time": "2022-01-14T13:49:02.514Z"
   },
   {
    "duration": 2297,
    "start_time": "2022-01-14T13:49:41.856Z"
   },
   {
    "duration": 3,
    "start_time": "2022-01-14T13:50:16.767Z"
   },
   {
    "duration": 253,
    "start_time": "2022-01-14T14:02:12.773Z"
   },
   {
    "duration": 243,
    "start_time": "2022-01-14T14:02:35.712Z"
   },
   {
    "duration": 284,
    "start_time": "2022-01-14T14:02:47.069Z"
   },
   {
    "duration": 390,
    "start_time": "2022-01-14T14:02:56.747Z"
   },
   {
    "duration": 301,
    "start_time": "2022-01-14T14:03:10.630Z"
   },
   {
    "duration": 14,
    "start_time": "2022-01-14T14:04:24.424Z"
   },
   {
    "duration": 528,
    "start_time": "2022-01-14T14:04:30.438Z"
   },
   {
    "duration": 1497,
    "start_time": "2022-01-14T14:04:53.600Z"
   },
   {
    "duration": 49,
    "start_time": "2022-01-14T14:04:55.099Z"
   },
   {
    "duration": 28,
    "start_time": "2022-01-14T14:04:55.151Z"
   },
   {
    "duration": 36,
    "start_time": "2022-01-14T14:04:55.182Z"
   },
   {
    "duration": 8,
    "start_time": "2022-01-14T14:04:55.221Z"
   },
   {
    "duration": 11,
    "start_time": "2022-01-14T14:04:55.232Z"
   },
   {
    "duration": 16,
    "start_time": "2022-01-14T14:04:55.245Z"
   },
   {
    "duration": 52,
    "start_time": "2022-01-14T14:04:55.265Z"
   },
   {
    "duration": 20,
    "start_time": "2022-01-14T14:04:55.321Z"
   },
   {
    "duration": 11,
    "start_time": "2022-01-14T14:04:55.344Z"
   },
   {
    "duration": 16,
    "start_time": "2022-01-14T14:04:55.357Z"
   },
   {
    "duration": 12,
    "start_time": "2022-01-14T14:04:55.376Z"
   },
   {
    "duration": 30,
    "start_time": "2022-01-14T14:04:55.390Z"
   },
   {
    "duration": 19,
    "start_time": "2022-01-14T14:04:55.422Z"
   },
   {
    "duration": 11,
    "start_time": "2022-01-14T14:04:55.444Z"
   },
   {
    "duration": 11,
    "start_time": "2022-01-14T14:04:55.457Z"
   },
   {
    "duration": 48,
    "start_time": "2022-01-14T14:04:55.471Z"
   },
   {
    "duration": 9,
    "start_time": "2022-01-14T14:04:55.522Z"
   },
   {
    "duration": 35,
    "start_time": "2022-01-14T14:04:55.533Z"
   },
   {
    "duration": 13,
    "start_time": "2022-01-14T14:04:55.571Z"
   },
   {
    "duration": 45,
    "start_time": "2022-01-14T14:04:55.587Z"
   },
   {
    "duration": 23,
    "start_time": "2022-01-14T14:04:55.634Z"
   },
   {
    "duration": 5,
    "start_time": "2022-01-14T14:04:55.666Z"
   },
   {
    "duration": 43,
    "start_time": "2022-01-14T14:04:55.674Z"
   },
   {
    "duration": 34,
    "start_time": "2022-01-14T14:04:55.720Z"
   },
   {
    "duration": 8,
    "start_time": "2022-01-14T14:04:55.757Z"
   },
   {
    "duration": 65,
    "start_time": "2022-01-14T14:04:55.768Z"
   },
   {
    "duration": 11,
    "start_time": "2022-01-14T14:04:55.836Z"
   },
   {
    "duration": 9,
    "start_time": "2022-01-14T14:04:55.849Z"
   },
   {
    "duration": 801,
    "start_time": "2022-01-14T14:04:55.861Z"
   },
   {
    "duration": 17,
    "start_time": "2022-01-14T14:04:56.665Z"
   },
   {
    "duration": 31,
    "start_time": "2022-01-14T14:04:56.685Z"
   },
   {
    "duration": 451,
    "start_time": "2022-01-14T14:04:56.718Z"
   },
   {
    "duration": 433,
    "start_time": "2022-01-14T14:04:57.172Z"
   },
   {
    "duration": 368,
    "start_time": "2022-01-14T14:04:57.607Z"
   },
   {
    "duration": 429,
    "start_time": "2022-01-14T14:04:57.978Z"
   },
   {
    "duration": 356,
    "start_time": "2022-01-14T14:04:58.417Z"
   },
   {
    "duration": 435,
    "start_time": "2022-01-14T14:04:58.776Z"
   },
   {
    "duration": 427,
    "start_time": "2022-01-14T14:04:59.213Z"
   },
   {
    "duration": 531,
    "start_time": "2022-01-14T14:04:59.642Z"
   },
   {
    "duration": 435,
    "start_time": "2022-01-14T14:05:00.175Z"
   },
   {
    "duration": 382,
    "start_time": "2022-01-14T14:05:00.613Z"
   },
   {
    "duration": 20,
    "start_time": "2022-01-14T14:05:00.998Z"
   },
   {
    "duration": 14,
    "start_time": "2022-01-14T14:05:01.021Z"
   },
   {
    "duration": 16,
    "start_time": "2022-01-14T14:05:01.038Z"
   },
   {
    "duration": 13,
    "start_time": "2022-01-14T14:05:01.056Z"
   },
   {
    "duration": 53,
    "start_time": "2022-01-14T14:05:01.072Z"
   },
   {
    "duration": 14,
    "start_time": "2022-01-14T14:05:01.128Z"
   },
   {
    "duration": 53,
    "start_time": "2022-01-14T14:05:01.144Z"
   },
   {
    "duration": 383,
    "start_time": "2022-01-14T14:05:01.199Z"
   },
   {
    "duration": 325,
    "start_time": "2022-01-14T14:05:01.584Z"
   },
   {
    "duration": 374,
    "start_time": "2022-01-14T14:05:01.911Z"
   },
   {
    "duration": 309,
    "start_time": "2022-01-14T14:05:02.288Z"
   },
   {
    "duration": 394,
    "start_time": "2022-01-14T14:05:02.599Z"
   },
   {
    "duration": 311,
    "start_time": "2022-01-14T14:05:02.995Z"
   },
   {
    "duration": 325,
    "start_time": "2022-01-14T14:05:03.309Z"
   },
   {
    "duration": 341,
    "start_time": "2022-01-14T14:05:03.636Z"
   },
   {
    "duration": 438,
    "start_time": "2022-01-14T14:05:03.979Z"
   },
   {
    "duration": 348,
    "start_time": "2022-01-14T14:05:04.419Z"
   },
   {
    "duration": 541,
    "start_time": "2022-01-14T14:05:04.770Z"
   },
   {
    "duration": 7,
    "start_time": "2022-01-14T14:05:05.317Z"
   },
   {
    "duration": 9,
    "start_time": "2022-01-14T14:05:05.326Z"
   },
   {
    "duration": 498,
    "start_time": "2022-01-14T14:05:05.337Z"
   },
   {
    "duration": 6,
    "start_time": "2022-01-14T14:05:05.837Z"
   },
   {
    "duration": 397,
    "start_time": "2022-01-14T14:05:05.846Z"
   },
   {
    "duration": 6,
    "start_time": "2022-01-14T14:05:06.245Z"
   },
   {
    "duration": 8,
    "start_time": "2022-01-14T14:05:06.253Z"
   },
   {
    "duration": 6,
    "start_time": "2022-01-14T14:05:06.269Z"
   },
   {
    "duration": 13,
    "start_time": "2022-01-14T14:05:06.277Z"
   },
   {
    "duration": 6,
    "start_time": "2022-01-14T14:05:06.317Z"
   },
   {
    "duration": 2564,
    "start_time": "2022-01-14T14:05:06.325Z"
   },
   {
    "duration": 321,
    "start_time": "2022-01-14T14:05:08.891Z"
   },
   {
    "duration": 414,
    "start_time": "2022-01-14T14:05:09.218Z"
   },
   {
    "duration": 278,
    "start_time": "2022-01-14T14:05:09.635Z"
   },
   {
    "duration": 271,
    "start_time": "2022-01-14T14:05:09.916Z"
   },
   {
    "duration": 387,
    "start_time": "2022-01-14T14:05:10.189Z"
   },
   {
    "duration": 269,
    "start_time": "2022-01-14T14:05:10.578Z"
   },
   {
    "duration": 268,
    "start_time": "2022-01-14T14:05:10.849Z"
   },
   {
    "duration": 282,
    "start_time": "2022-01-14T14:05:11.119Z"
   },
   {
    "duration": 271,
    "start_time": "2022-01-14T14:05:11.404Z"
   },
   {
    "duration": 292,
    "start_time": "2022-01-14T14:05:11.678Z"
   },
   {
    "duration": 280,
    "start_time": "2022-01-14T14:05:11.973Z"
   },
   {
    "duration": 16,
    "start_time": "2022-01-14T14:05:12.255Z"
   },
   {
    "duration": 17,
    "start_time": "2022-01-14T14:05:12.273Z"
   },
   {
    "duration": 3,
    "start_time": "2022-01-14T14:06:27.794Z"
   },
   {
    "duration": 4,
    "start_time": "2022-01-14T14:08:30.520Z"
   },
   {
    "duration": 106,
    "start_time": "2022-01-14T14:10:40.203Z"
   },
   {
    "duration": 13,
    "start_time": "2022-01-14T14:11:10.094Z"
   },
   {
    "duration": 13,
    "start_time": "2022-01-14T14:15:57.664Z"
   },
   {
    "duration": 104,
    "start_time": "2022-01-14T14:18:50.536Z"
   },
   {
    "duration": 106,
    "start_time": "2022-01-14T14:24:30.316Z"
   },
   {
    "duration": 105,
    "start_time": "2022-01-14T14:30:10.992Z"
   },
   {
    "duration": 113,
    "start_time": "2022-01-14T14:33:53.788Z"
   },
   {
    "duration": 22,
    "start_time": "2022-01-14T14:34:03.183Z"
   },
   {
    "duration": 14,
    "start_time": "2022-01-14T14:34:12.891Z"
   },
   {
    "duration": 111,
    "start_time": "2022-01-14T14:43:27.395Z"
   },
   {
    "duration": 8,
    "start_time": "2022-01-14T14:43:55.916Z"
   },
   {
    "duration": 110,
    "start_time": "2022-01-14T14:46:06.739Z"
   },
   {
    "duration": 103,
    "start_time": "2022-01-14T14:47:43.218Z"
   },
   {
    "duration": 4,
    "start_time": "2022-01-14T14:47:50.780Z"
   },
   {
    "duration": 23,
    "start_time": "2022-01-14T14:48:17.856Z"
   },
   {
    "duration": 96,
    "start_time": "2022-01-14T14:51:28.049Z"
   },
   {
    "duration": 9,
    "start_time": "2022-01-14T15:02:24.148Z"
   },
   {
    "duration": 136,
    "start_time": "2022-01-14T15:02:48.053Z"
   },
   {
    "duration": 12,
    "start_time": "2022-01-14T15:02:54.829Z"
   },
   {
    "duration": 1325,
    "start_time": "2022-01-14T15:09:57.258Z"
   },
   {
    "duration": 47,
    "start_time": "2022-01-14T15:09:58.586Z"
   },
   {
    "duration": 27,
    "start_time": "2022-01-14T15:09:58.636Z"
   },
   {
    "duration": 16,
    "start_time": "2022-01-14T15:09:58.665Z"
   },
   {
    "duration": 37,
    "start_time": "2022-01-14T15:09:58.683Z"
   },
   {
    "duration": 5,
    "start_time": "2022-01-14T15:09:58.723Z"
   },
   {
    "duration": 16,
    "start_time": "2022-01-14T15:09:58.730Z"
   },
   {
    "duration": 19,
    "start_time": "2022-01-14T15:09:59.414Z"
   },
   {
    "duration": 20,
    "start_time": "2022-01-14T15:09:59.435Z"
   },
   {
    "duration": 6,
    "start_time": "2022-01-14T15:09:59.458Z"
   },
   {
    "duration": 7,
    "start_time": "2022-01-14T15:09:59.466Z"
   },
   {
    "duration": 7,
    "start_time": "2022-01-14T15:09:59.885Z"
   },
   {
    "duration": 19,
    "start_time": "2022-01-14T15:09:59.894Z"
   },
   {
    "duration": 25,
    "start_time": "2022-01-14T15:09:59.915Z"
   },
   {
    "duration": 10,
    "start_time": "2022-01-14T15:09:59.943Z"
   },
   {
    "duration": 9,
    "start_time": "2022-01-14T15:09:59.956Z"
   },
   {
    "duration": 54,
    "start_time": "2022-01-14T15:09:59.969Z"
   },
   {
    "duration": 9,
    "start_time": "2022-01-14T15:10:00.027Z"
   },
   {
    "duration": 15,
    "start_time": "2022-01-14T15:10:00.039Z"
   },
   {
    "duration": 25,
    "start_time": "2022-01-14T15:10:00.056Z"
   },
   {
    "duration": 21,
    "start_time": "2022-01-14T15:10:00.117Z"
   },
   {
    "duration": 22,
    "start_time": "2022-01-14T15:10:00.140Z"
   },
   {
    "duration": 53,
    "start_time": "2022-01-14T15:10:00.166Z"
   },
   {
    "duration": 6,
    "start_time": "2022-01-14T15:10:00.223Z"
   },
   {
    "duration": 53,
    "start_time": "2022-01-14T15:10:00.232Z"
   },
   {
    "duration": 30,
    "start_time": "2022-01-14T15:10:00.287Z"
   },
   {
    "duration": 16,
    "start_time": "2022-01-14T15:10:00.319Z"
   },
   {
    "duration": 478,
    "start_time": "2022-01-14T15:10:00.337Z"
   },
   {
    "duration": -3261,
    "start_time": "2022-01-14T15:10:04.080Z"
   },
   {
    "duration": -3281,
    "start_time": "2022-01-14T15:10:04.102Z"
   },
   {
    "duration": -3304,
    "start_time": "2022-01-14T15:10:04.126Z"
   },
   {
    "duration": -3323,
    "start_time": "2022-01-14T15:10:04.147Z"
   },
   {
    "duration": -3341,
    "start_time": "2022-01-14T15:10:04.166Z"
   },
   {
    "duration": -3391,
    "start_time": "2022-01-14T15:10:04.217Z"
   },
   {
    "duration": -3406,
    "start_time": "2022-01-14T15:10:04.234Z"
   },
   {
    "duration": -3425,
    "start_time": "2022-01-14T15:10:04.254Z"
   },
   {
    "duration": -3444,
    "start_time": "2022-01-14T15:10:04.274Z"
   },
   {
    "duration": -3466,
    "start_time": "2022-01-14T15:10:04.297Z"
   },
   {
    "duration": -3521,
    "start_time": "2022-01-14T15:10:04.354Z"
   },
   {
    "duration": -3539,
    "start_time": "2022-01-14T15:10:04.373Z"
   },
   {
    "duration": -3554,
    "start_time": "2022-01-14T15:10:04.389Z"
   },
   {
    "duration": -3568,
    "start_time": "2022-01-14T15:10:04.406Z"
   },
   {
    "duration": -3585,
    "start_time": "2022-01-14T15:10:04.424Z"
   },
   {
    "duration": -3602,
    "start_time": "2022-01-14T15:10:04.442Z"
   },
   {
    "duration": -3646,
    "start_time": "2022-01-14T15:10:04.488Z"
   },
   {
    "duration": -3663,
    "start_time": "2022-01-14T15:10:04.506Z"
   },
   {
    "duration": -3678,
    "start_time": "2022-01-14T15:10:04.522Z"
   },
   {
    "duration": -3697,
    "start_time": "2022-01-14T15:10:04.543Z"
   },
   {
    "duration": -3714,
    "start_time": "2022-01-14T15:10:04.561Z"
   },
   {
    "duration": -3733,
    "start_time": "2022-01-14T15:10:04.581Z"
   },
   {
    "duration": -3775,
    "start_time": "2022-01-14T15:10:04.625Z"
   },
   {
    "duration": -3793,
    "start_time": "2022-01-14T15:10:04.644Z"
   },
   {
    "duration": -3808,
    "start_time": "2022-01-14T15:10:04.660Z"
   },
   {
    "duration": -3826,
    "start_time": "2022-01-14T15:10:04.679Z"
   },
   {
    "duration": -3840,
    "start_time": "2022-01-14T15:10:04.695Z"
   },
   {
    "duration": -3856,
    "start_time": "2022-01-14T15:10:04.712Z"
   },
   {
    "duration": -3892,
    "start_time": "2022-01-14T15:10:04.749Z"
   },
   {
    "duration": -3906,
    "start_time": "2022-01-14T15:10:04.764Z"
   },
   {
    "duration": -3919,
    "start_time": "2022-01-14T15:10:04.778Z"
   },
   {
    "duration": -3877,
    "start_time": "2022-01-14T15:10:04.793Z"
   },
   {
    "duration": -3888,
    "start_time": "2022-01-14T15:10:04.806Z"
   },
   {
    "duration": -3902,
    "start_time": "2022-01-14T15:10:04.821Z"
   },
   {
    "duration": -4239,
    "start_time": "2022-01-14T15:10:05.159Z"
   },
   {
    "duration": -4256,
    "start_time": "2022-01-14T15:10:05.178Z"
   },
   {
    "duration": -4270,
    "start_time": "2022-01-14T15:10:05.193Z"
   },
   {
    "duration": -4286,
    "start_time": "2022-01-14T15:10:05.211Z"
   },
   {
    "duration": -4302,
    "start_time": "2022-01-14T15:10:05.228Z"
   },
   {
    "duration": -4318,
    "start_time": "2022-01-14T15:10:05.245Z"
   },
   {
    "duration": -4364,
    "start_time": "2022-01-14T15:10:05.293Z"
   },
   {
    "duration": -4384,
    "start_time": "2022-01-14T15:10:05.314Z"
   },
   {
    "duration": -4398,
    "start_time": "2022-01-14T15:10:05.330Z"
   },
   {
    "duration": -4414,
    "start_time": "2022-01-14T15:10:05.347Z"
   },
   {
    "duration": -4428,
    "start_time": "2022-01-14T15:10:05.362Z"
   },
   {
    "duration": -4442,
    "start_time": "2022-01-14T15:10:05.378Z"
   },
   {
    "duration": -4460,
    "start_time": "2022-01-14T15:10:05.397Z"
   },
   {
    "duration": -4467,
    "start_time": "2022-01-14T15:10:05.405Z"
   },
   {
    "duration": -4473,
    "start_time": "2022-01-14T15:10:05.413Z"
   },
   {
    "duration": -4482,
    "start_time": "2022-01-14T15:10:05.423Z"
   },
   {
    "duration": -4486,
    "start_time": "2022-01-14T15:10:05.429Z"
   },
   {
    "duration": -4493,
    "start_time": "2022-01-14T15:10:05.437Z"
   },
   {
    "duration": -4498,
    "start_time": "2022-01-14T15:10:05.444Z"
   },
   {
    "duration": -4507,
    "start_time": "2022-01-14T15:10:05.454Z"
   },
   {
    "duration": 19,
    "start_time": "2022-01-14T15:12:15.976Z"
   },
   {
    "duration": 7,
    "start_time": "2022-01-14T15:12:38.779Z"
   },
   {
    "duration": 91,
    "start_time": "2022-01-14T15:12:53.032Z"
   },
   {
    "duration": 94,
    "start_time": "2022-01-14T15:14:13.062Z"
   },
   {
    "duration": 5,
    "start_time": "2022-01-14T15:14:22.983Z"
   },
   {
    "duration": 135,
    "start_time": "2022-01-14T15:14:53.992Z"
   },
   {
    "duration": 4,
    "start_time": "2022-01-14T15:15:00.821Z"
   },
   {
    "duration": 100,
    "start_time": "2022-01-14T15:15:42.379Z"
   },
   {
    "duration": 33,
    "start_time": "2022-01-14T15:15:48.910Z"
   },
   {
    "duration": 107,
    "start_time": "2022-01-14T15:17:40.363Z"
   },
   {
    "duration": 21,
    "start_time": "2022-01-14T15:18:36.897Z"
   },
   {
    "duration": 8,
    "start_time": "2022-01-14T15:20:31.345Z"
   },
   {
    "duration": 9,
    "start_time": "2022-01-14T15:20:31.848Z"
   },
   {
    "duration": 656,
    "start_time": "2022-01-14T15:20:46.793Z"
   },
   {
    "duration": 94,
    "start_time": "2022-01-14T15:21:14.216Z"
   },
   {
    "duration": 113,
    "start_time": "2022-01-14T15:22:25.886Z"
   },
   {
    "duration": 96,
    "start_time": "2022-01-14T15:32:29.680Z"
   },
   {
    "duration": 16,
    "start_time": "2022-01-14T15:32:39.773Z"
   },
   {
    "duration": 9,
    "start_time": "2022-01-14T15:32:42.499Z"
   },
   {
    "duration": 101,
    "start_time": "2022-01-14T15:33:08.226Z"
   },
   {
    "duration": 638,
    "start_time": "2022-01-14T15:34:21.366Z"
   },
   {
    "duration": 15,
    "start_time": "2022-01-14T15:34:31.605Z"
   },
   {
    "duration": 9,
    "start_time": "2022-01-14T15:34:34.522Z"
   },
   {
    "duration": 118,
    "start_time": "2022-01-14T15:35:26.613Z"
   },
   {
    "duration": 301,
    "start_time": "2022-01-14T15:35:37.388Z"
   },
   {
    "duration": 439,
    "start_time": "2022-01-14T15:35:52.611Z"
   },
   {
    "duration": 89,
    "start_time": "2022-01-14T15:36:28.259Z"
   },
   {
    "duration": 346,
    "start_time": "2022-01-14T15:36:33.377Z"
   },
   {
    "duration": 315,
    "start_time": "2022-01-14T15:36:48.018Z"
   },
   {
    "duration": 293,
    "start_time": "2022-01-14T15:36:50.154Z"
   },
   {
    "duration": 339,
    "start_time": "2022-01-14T15:37:52.179Z"
   },
   {
    "duration": 362,
    "start_time": "2022-01-14T15:38:00.895Z"
   },
   {
    "duration": 336,
    "start_time": "2022-01-14T15:38:11.056Z"
   },
   {
    "duration": 351,
    "start_time": "2022-01-14T15:38:22.007Z"
   },
   {
    "duration": 414,
    "start_time": "2022-01-14T15:38:47.086Z"
   },
   {
    "duration": 364,
    "start_time": "2022-01-14T15:39:31.299Z"
   },
   {
    "duration": 408,
    "start_time": "2022-01-14T15:39:35.423Z"
   },
   {
    "duration": 360,
    "start_time": "2022-01-14T15:39:37.705Z"
   },
   {
    "duration": 436,
    "start_time": "2022-01-14T15:39:40.180Z"
   },
   {
    "duration": 484,
    "start_time": "2022-01-14T15:39:42.185Z"
   },
   {
    "duration": 409,
    "start_time": "2022-01-14T15:39:44.672Z"
   },
   {
    "duration": 409,
    "start_time": "2022-01-14T15:39:46.685Z"
   },
   {
    "duration": 378,
    "start_time": "2022-01-14T15:39:48.550Z"
   },
   {
    "duration": 398,
    "start_time": "2022-01-14T15:40:12.094Z"
   },
   {
    "duration": 423,
    "start_time": "2022-01-14T15:40:20.098Z"
   },
   {
    "duration": 95,
    "start_time": "2022-01-14T15:41:30.588Z"
   },
   {
    "duration": 100,
    "start_time": "2022-01-14T15:43:13.533Z"
   },
   {
    "duration": 12,
    "start_time": "2022-01-14T15:44:45.902Z"
   },
   {
    "duration": 96,
    "start_time": "2022-01-14T15:49:40.679Z"
   },
   {
    "duration": 126,
    "start_time": "2022-01-14T15:52:36.295Z"
   },
   {
    "duration": 982,
    "start_time": "2022-01-16T17:02:16.494Z"
   },
   {
    "duration": 33,
    "start_time": "2022-01-16T17:02:17.477Z"
   },
   {
    "duration": 16,
    "start_time": "2022-01-16T17:02:17.512Z"
   },
   {
    "duration": 9,
    "start_time": "2022-01-16T17:02:17.530Z"
   },
   {
    "duration": 5,
    "start_time": "2022-01-16T17:02:17.541Z"
   },
   {
    "duration": 7,
    "start_time": "2022-01-16T17:02:17.547Z"
   },
   {
    "duration": 12,
    "start_time": "2022-01-16T17:02:17.556Z"
   },
   {
    "duration": 12,
    "start_time": "2022-01-16T17:02:17.570Z"
   },
   {
    "duration": 35,
    "start_time": "2022-01-16T17:02:17.584Z"
   },
   {
    "duration": 5,
    "start_time": "2022-01-16T17:02:17.621Z"
   },
   {
    "duration": 6,
    "start_time": "2022-01-16T17:02:17.628Z"
   },
   {
    "duration": 9,
    "start_time": "2022-01-16T17:02:17.635Z"
   },
   {
    "duration": 7,
    "start_time": "2022-01-16T17:02:17.645Z"
   },
   {
    "duration": 8,
    "start_time": "2022-01-16T17:02:17.654Z"
   },
   {
    "duration": 6,
    "start_time": "2022-01-16T17:02:17.664Z"
   },
   {
    "duration": 6,
    "start_time": "2022-01-16T17:02:17.672Z"
   },
   {
    "duration": 39,
    "start_time": "2022-01-16T17:02:17.680Z"
   },
   {
    "duration": 4,
    "start_time": "2022-01-16T17:02:17.721Z"
   },
   {
    "duration": 7,
    "start_time": "2022-01-16T17:02:17.727Z"
   },
   {
    "duration": 12,
    "start_time": "2022-01-16T17:02:17.735Z"
   },
   {
    "duration": 6,
    "start_time": "2022-01-16T17:02:17.748Z"
   },
   {
    "duration": 5,
    "start_time": "2022-01-16T17:02:17.755Z"
   },
   {
    "duration": 6,
    "start_time": "2022-01-16T17:02:17.763Z"
   },
   {
    "duration": 43,
    "start_time": "2022-01-16T17:02:17.771Z"
   },
   {
    "duration": 6,
    "start_time": "2022-01-16T17:02:17.815Z"
   },
   {
    "duration": 387,
    "start_time": "2022-01-16T17:02:17.822Z"
   },
   {
    "duration": 9,
    "start_time": "2022-01-16T17:02:18.211Z"
   },
   {
    "duration": 5,
    "start_time": "2022-01-16T17:02:18.221Z"
   },
   {
    "duration": 255,
    "start_time": "2022-01-16T17:02:18.228Z"
   },
   {
    "duration": 241,
    "start_time": "2022-01-16T17:02:18.484Z"
   },
   {
    "duration": 201,
    "start_time": "2022-01-16T17:02:18.727Z"
   },
   {
    "duration": 233,
    "start_time": "2022-01-16T17:02:18.930Z"
   },
   {
    "duration": 212,
    "start_time": "2022-01-16T17:02:19.164Z"
   },
   {
    "duration": 5,
    "start_time": "2022-01-16T17:02:19.377Z"
   },
   {
    "duration": 9,
    "start_time": "2022-01-16T17:02:19.383Z"
   },
   {
    "duration": 6,
    "start_time": "2022-01-16T17:02:19.393Z"
   },
   {
    "duration": 2,
    "start_time": "2022-01-16T17:02:19.412Z"
   },
   {
    "duration": 22,
    "start_time": "2022-01-16T17:02:19.416Z"
   },
   {
    "duration": 8,
    "start_time": "2022-01-16T17:02:19.440Z"
   },
   {
    "duration": 18,
    "start_time": "2022-01-16T17:02:19.450Z"
   },
   {
    "duration": 226,
    "start_time": "2022-01-16T17:02:19.469Z"
   },
   {
    "duration": 181,
    "start_time": "2022-01-16T17:02:19.696Z"
   },
   {
    "duration": 261,
    "start_time": "2022-01-16T17:02:19.878Z"
   },
   {
    "duration": 180,
    "start_time": "2022-01-16T17:02:20.140Z"
   },
   {
    "duration": 212,
    "start_time": "2022-01-16T17:02:20.321Z"
   },
   {
    "duration": 163,
    "start_time": "2022-01-16T17:02:20.534Z"
   },
   {
    "duration": 179,
    "start_time": "2022-01-16T17:02:20.698Z"
   },
   {
    "duration": 195,
    "start_time": "2022-01-16T17:02:20.879Z"
   },
   {
    "duration": 192,
    "start_time": "2022-01-16T17:02:21.075Z"
   },
   {
    "duration": 187,
    "start_time": "2022-01-16T17:02:21.268Z"
   },
   {
    "duration": 315,
    "start_time": "2022-01-16T17:02:21.456Z"
   },
   {
    "duration": 6,
    "start_time": "2022-01-16T17:02:21.773Z"
   },
   {
    "duration": 16,
    "start_time": "2022-01-16T17:02:21.781Z"
   },
   {
    "duration": 291,
    "start_time": "2022-01-16T17:02:21.798Z"
   },
   {
    "duration": 3,
    "start_time": "2022-01-16T17:02:22.091Z"
   },
   {
    "duration": 294,
    "start_time": "2022-01-16T17:02:22.096Z"
   },
   {
    "duration": 3,
    "start_time": "2022-01-16T17:02:22.392Z"
   },
   {
    "duration": 16,
    "start_time": "2022-01-16T17:02:22.397Z"
   },
   {
    "duration": 4,
    "start_time": "2022-01-16T17:02:22.414Z"
   },
   {
    "duration": 5,
    "start_time": "2022-01-16T17:02:22.419Z"
   },
   {
    "duration": 5,
    "start_time": "2022-01-16T17:02:22.425Z"
   },
   {
    "duration": 1464,
    "start_time": "2022-01-16T17:02:22.432Z"
   },
   {
    "duration": 195,
    "start_time": "2022-01-16T17:02:23.898Z"
   },
   {
    "duration": 189,
    "start_time": "2022-01-16T17:02:24.096Z"
   },
   {
    "duration": 155,
    "start_time": "2022-01-16T17:02:24.287Z"
   },
   {
    "duration": 153,
    "start_time": "2022-01-16T17:02:24.443Z"
   },
   {
    "duration": 157,
    "start_time": "2022-01-16T17:02:24.597Z"
   },
   {
    "duration": 152,
    "start_time": "2022-01-16T17:02:24.758Z"
   },
   {
    "duration": 205,
    "start_time": "2022-01-16T17:02:24.912Z"
   },
   {
    "duration": 164,
    "start_time": "2022-01-16T17:02:25.118Z"
   },
   {
    "duration": 154,
    "start_time": "2022-01-16T17:02:25.284Z"
   },
   {
    "duration": 158,
    "start_time": "2022-01-16T17:02:25.439Z"
   },
   {
    "duration": 165,
    "start_time": "2022-01-16T17:02:25.598Z"
   },
   {
    "duration": 12,
    "start_time": "2022-01-16T17:02:25.764Z"
   },
   {
    "duration": 11,
    "start_time": "2022-01-16T17:02:25.777Z"
   },
   {
    "duration": 5,
    "start_time": "2022-01-16T20:10:35.132Z"
   },
   {
    "duration": 94,
    "start_time": "2022-01-16T20:13:48.600Z"
   },
   {
    "duration": 80,
    "start_time": "2022-01-16T20:14:28.968Z"
   },
   {
    "duration": 76,
    "start_time": "2022-01-16T20:14:58.588Z"
   },
   {
    "duration": 10,
    "start_time": "2022-01-16T20:19:08.111Z"
   },
   {
    "duration": 7,
    "start_time": "2022-01-16T20:19:10.229Z"
   },
   {
    "duration": 6,
    "start_time": "2022-01-16T20:25:42.548Z"
   },
   {
    "duration": 6,
    "start_time": "2022-01-16T20:25:48.291Z"
   },
   {
    "duration": 8,
    "start_time": "2022-01-16T20:40:33.805Z"
   },
   {
    "duration": 84,
    "start_time": "2022-01-16T20:41:04.133Z"
   },
   {
    "duration": 283,
    "start_time": "2022-01-16T20:42:09.767Z"
   },
   {
    "duration": 75,
    "start_time": "2022-01-16T20:46:20.798Z"
   },
   {
    "duration": 475,
    "start_time": "2022-01-16T20:46:24.195Z"
   },
   {
    "duration": 575,
    "start_time": "2022-01-16T20:47:13.958Z"
   },
   {
    "duration": 497,
    "start_time": "2022-01-16T20:47:29.117Z"
   },
   {
    "duration": 544,
    "start_time": "2022-01-16T20:47:50.548Z"
   },
   {
    "duration": 6,
    "start_time": "2022-01-16T20:50:26.724Z"
   },
   {
    "duration": 19,
    "start_time": "2022-01-16T20:50:33.892Z"
   },
   {
    "duration": 73,
    "start_time": "2022-01-16T20:57:59.355Z"
   },
   {
    "duration": 10,
    "start_time": "2022-01-16T21:02:28.653Z"
   },
   {
    "duration": 1450,
    "start_time": "2022-01-16T21:02:59.173Z"
   },
   {
    "duration": 1413,
    "start_time": "2022-01-16T21:03:17.288Z"
   },
   {
    "duration": 10,
    "start_time": "2022-01-16T21:03:23.863Z"
   },
   {
    "duration": 194,
    "start_time": "2022-01-16T21:05:06.243Z"
   },
   {
    "duration": 14,
    "start_time": "2022-01-16T21:09:10.221Z"
   },
   {
    "duration": 79,
    "start_time": "2022-01-16T21:09:42.614Z"
   },
   {
    "duration": 69,
    "start_time": "2022-01-16T21:10:11.040Z"
   },
   {
    "duration": 69,
    "start_time": "2022-01-16T21:10:21.742Z"
   },
   {
    "duration": 90,
    "start_time": "2022-01-16T21:10:25.281Z"
   },
   {
    "duration": 12,
    "start_time": "2022-01-16T21:10:31.779Z"
   },
   {
    "duration": 62,
    "start_time": "2022-01-17T10:01:23.532Z"
   },
   {
    "duration": 223,
    "start_time": "2022-01-17T10:09:46.293Z"
   },
   {
    "duration": 525,
    "start_time": "2022-01-17T10:09:50.706Z"
   },
   {
    "duration": 1280,
    "start_time": "2022-01-17T10:10:02.034Z"
   },
   {
    "duration": 35,
    "start_time": "2022-01-17T10:10:03.316Z"
   },
   {
    "duration": 36,
    "start_time": "2022-01-17T10:10:03.353Z"
   },
   {
    "duration": 26,
    "start_time": "2022-01-17T10:10:03.391Z"
   },
   {
    "duration": 23,
    "start_time": "2022-01-17T10:10:03.419Z"
   },
   {
    "duration": 15,
    "start_time": "2022-01-17T10:10:03.444Z"
   },
   {
    "duration": 47,
    "start_time": "2022-01-17T10:10:03.461Z"
   },
   {
    "duration": 36,
    "start_time": "2022-01-17T10:10:03.511Z"
   },
   {
    "duration": 39,
    "start_time": "2022-01-17T10:10:03.550Z"
   },
   {
    "duration": 39,
    "start_time": "2022-01-17T10:10:03.591Z"
   },
   {
    "duration": 19,
    "start_time": "2022-01-17T10:10:03.632Z"
   },
   {
    "duration": 40,
    "start_time": "2022-01-17T10:10:03.653Z"
   },
   {
    "duration": 37,
    "start_time": "2022-01-17T10:10:03.694Z"
   },
   {
    "duration": 28,
    "start_time": "2022-01-17T10:10:03.733Z"
   },
   {
    "duration": 52,
    "start_time": "2022-01-17T10:10:03.762Z"
   },
   {
    "duration": 23,
    "start_time": "2022-01-17T10:10:03.816Z"
   },
   {
    "duration": 49,
    "start_time": "2022-01-17T10:10:03.841Z"
   },
   {
    "duration": 23,
    "start_time": "2022-01-17T10:10:03.891Z"
   },
   {
    "duration": 47,
    "start_time": "2022-01-17T10:10:03.916Z"
   },
   {
    "duration": 49,
    "start_time": "2022-01-17T10:10:03.965Z"
   },
   {
    "duration": 26,
    "start_time": "2022-01-17T10:10:04.016Z"
   },
   {
    "duration": 35,
    "start_time": "2022-01-17T10:10:04.044Z"
   },
   {
    "duration": 67,
    "start_time": "2022-01-17T10:10:04.082Z"
   },
   {
    "duration": 42,
    "start_time": "2022-01-17T10:10:04.151Z"
   },
   {
    "duration": 33,
    "start_time": "2022-01-17T10:10:04.195Z"
   },
   {
    "duration": 405,
    "start_time": "2022-01-17T10:10:04.229Z"
   },
   {
    "duration": 12,
    "start_time": "2022-01-17T10:10:04.636Z"
   },
   {
    "duration": 16,
    "start_time": "2022-01-17T10:10:04.650Z"
   },
   {
    "duration": 283,
    "start_time": "2022-01-17T10:10:04.668Z"
   },
   {
    "duration": 256,
    "start_time": "2022-01-17T10:10:04.953Z"
   },
   {
    "duration": 218,
    "start_time": "2022-01-17T10:10:05.210Z"
   },
   {
    "duration": 237,
    "start_time": "2022-01-17T10:10:05.430Z"
   },
   {
    "duration": 202,
    "start_time": "2022-01-17T10:10:05.669Z"
   },
   {
    "duration": 6,
    "start_time": "2022-01-17T10:10:05.873Z"
   },
   {
    "duration": 44,
    "start_time": "2022-01-17T10:10:05.881Z"
   },
   {
    "duration": 36,
    "start_time": "2022-01-17T10:10:05.926Z"
   },
   {
    "duration": 226,
    "start_time": "2022-01-17T10:10:05.964Z"
   },
   {
    "duration": 171,
    "start_time": "2022-01-17T10:10:06.191Z"
   },
   {
    "duration": 269,
    "start_time": "2022-01-17T10:10:06.363Z"
   },
   {
    "duration": 170,
    "start_time": "2022-01-17T10:10:06.641Z"
   },
   {
    "duration": 199,
    "start_time": "2022-01-17T10:10:06.812Z"
   },
   {
    "duration": 8,
    "start_time": "2022-01-17T10:10:07.013Z"
   },
   {
    "duration": 663,
    "start_time": "2022-01-17T10:10:07.023Z"
   },
   {
    "duration": 7,
    "start_time": "2022-01-17T10:10:07.688Z"
   },
   {
    "duration": 21,
    "start_time": "2022-01-17T10:10:07.696Z"
   },
   {
    "duration": 325,
    "start_time": "2022-01-17T10:10:07.718Z"
   },
   {
    "duration": 4,
    "start_time": "2022-01-17T10:10:08.044Z"
   },
   {
    "duration": 286,
    "start_time": "2022-01-17T10:10:08.049Z"
   },
   {
    "duration": 4,
    "start_time": "2022-01-17T10:10:08.340Z"
   },
   {
    "duration": 8,
    "start_time": "2022-01-17T10:10:08.346Z"
   },
   {
    "duration": 6,
    "start_time": "2022-01-17T10:10:08.355Z"
   },
   {
    "duration": 7,
    "start_time": "2022-01-17T10:10:08.363Z"
   },
   {
    "duration": 6,
    "start_time": "2022-01-17T10:10:08.372Z"
   },
   {
    "duration": 1474,
    "start_time": "2022-01-17T10:10:08.379Z"
   },
   {
    "duration": 14,
    "start_time": "2022-01-17T10:10:09.854Z"
   },
   {
    "duration": 184,
    "start_time": "2022-01-17T10:10:09.869Z"
   },
   {
    "duration": 182,
    "start_time": "2022-01-17T10:10:10.054Z"
   },
   {
    "duration": 146,
    "start_time": "2022-01-17T10:10:10.238Z"
   },
   {
    "duration": 156,
    "start_time": "2022-01-17T10:10:10.386Z"
   },
   {
    "duration": 153,
    "start_time": "2022-01-17T10:10:10.544Z"
   },
   {
    "duration": 145,
    "start_time": "2022-01-17T10:10:10.698Z"
   },
   {
    "duration": 148,
    "start_time": "2022-01-17T10:10:10.844Z"
   },
   {
    "duration": 231,
    "start_time": "2022-01-17T10:10:10.994Z"
   },
   {
    "duration": 145,
    "start_time": "2022-01-17T10:10:11.227Z"
   },
   {
    "duration": 154,
    "start_time": "2022-01-17T10:10:11.373Z"
   },
   {
    "duration": 158,
    "start_time": "2022-01-17T10:10:11.529Z"
   },
   {
    "duration": 10,
    "start_time": "2022-01-17T10:10:11.689Z"
   },
   {
    "duration": 9,
    "start_time": "2022-01-17T10:10:11.703Z"
   },
   {
    "duration": 11,
    "start_time": "2022-01-17T10:10:46.324Z"
   },
   {
    "duration": 12,
    "start_time": "2022-01-17T10:10:56.038Z"
   },
   {
    "duration": 11,
    "start_time": "2022-01-17T10:11:06.014Z"
   },
   {
    "duration": 14,
    "start_time": "2022-01-17T10:11:26.292Z"
   },
   {
    "duration": 65,
    "start_time": "2022-01-17T10:11:50.932Z"
   },
   {
    "duration": 122,
    "start_time": "2022-01-17T10:12:04.896Z"
   },
   {
    "duration": 12,
    "start_time": "2022-01-17T10:12:48.293Z"
   },
   {
    "duration": 13,
    "start_time": "2022-01-17T10:12:55.369Z"
   },
   {
    "duration": 68,
    "start_time": "2022-01-17T10:19:35.720Z"
   },
   {
    "duration": 62,
    "start_time": "2022-01-17T10:20:20.979Z"
   },
   {
    "duration": 70,
    "start_time": "2022-01-17T10:20:57.424Z"
   },
   {
    "duration": 69,
    "start_time": "2022-01-17T10:21:09.162Z"
   },
   {
    "duration": 95,
    "start_time": "2022-01-17T10:21:15.303Z"
   },
   {
    "duration": 63,
    "start_time": "2022-01-17T10:21:22.841Z"
   },
   {
    "duration": 62,
    "start_time": "2022-01-17T10:21:52.495Z"
   },
   {
    "duration": 13,
    "start_time": "2022-01-17T10:22:03.300Z"
   },
   {
    "duration": 12,
    "start_time": "2022-01-17T10:22:23.309Z"
   },
   {
    "duration": 151,
    "start_time": "2022-01-17T10:35:31.477Z"
   },
   {
    "duration": 61,
    "start_time": "2022-01-17T10:36:17.812Z"
   },
   {
    "duration": 139,
    "start_time": "2022-01-17T10:37:19.893Z"
   },
   {
    "duration": 152,
    "start_time": "2022-01-17T10:37:40.233Z"
   },
   {
    "duration": 142,
    "start_time": "2022-01-17T10:37:48.276Z"
   },
   {
    "duration": 145,
    "start_time": "2022-01-17T10:38:19.438Z"
   },
   {
    "duration": 137,
    "start_time": "2022-01-17T10:38:24.463Z"
   },
   {
    "duration": 65,
    "start_time": "2022-01-17T10:38:39.124Z"
   },
   {
    "duration": 91,
    "start_time": "2022-01-17T10:39:52.133Z"
   },
   {
    "duration": 71,
    "start_time": "2022-01-17T10:41:02.081Z"
   },
   {
    "duration": 136,
    "start_time": "2022-01-17T10:41:46.165Z"
   },
   {
    "duration": 172,
    "start_time": "2022-01-17T10:45:47.809Z"
   },
   {
    "duration": 196,
    "start_time": "2022-01-17T10:45:51.020Z"
   },
   {
    "duration": 213,
    "start_time": "2022-01-17T10:46:04.213Z"
   },
   {
    "duration": 284,
    "start_time": "2022-01-17T10:46:10.781Z"
   },
   {
    "duration": 168,
    "start_time": "2022-01-17T11:22:03.644Z"
   },
   {
    "duration": 148,
    "start_time": "2022-01-17T11:22:10.082Z"
   },
   {
    "duration": 156,
    "start_time": "2022-01-17T11:30:59.287Z"
   },
   {
    "duration": 143,
    "start_time": "2022-01-17T11:39:44.573Z"
   },
   {
    "duration": 140,
    "start_time": "2022-01-17T11:40:15.347Z"
   },
   {
    "duration": 135,
    "start_time": "2022-01-17T11:40:20.898Z"
   },
   {
    "duration": 144,
    "start_time": "2022-01-17T11:40:33.788Z"
   },
   {
    "duration": 144,
    "start_time": "2022-01-17T11:40:37.587Z"
   },
   {
    "duration": 141,
    "start_time": "2022-01-17T11:40:50.000Z"
   },
   {
    "duration": 5,
    "start_time": "2022-01-17T11:53:53.356Z"
   },
   {
    "duration": 148,
    "start_time": "2022-01-17T11:53:58.654Z"
   },
   {
    "duration": 74,
    "start_time": "2022-01-17T11:54:42.980Z"
   },
   {
    "duration": 5,
    "start_time": "2022-01-17T11:54:55.785Z"
   },
   {
    "duration": 159,
    "start_time": "2022-01-17T11:55:05.190Z"
   },
   {
    "duration": 65,
    "start_time": "2022-01-17T11:56:10.159Z"
   },
   {
    "duration": 74,
    "start_time": "2022-01-17T11:56:28.985Z"
   },
   {
    "duration": 153,
    "start_time": "2022-01-17T11:56:45.934Z"
   },
   {
    "duration": 133,
    "start_time": "2022-01-17T11:56:50.359Z"
   },
   {
    "duration": 72,
    "start_time": "2022-01-17T12:02:47.151Z"
   },
   {
    "duration": 11,
    "start_time": "2022-01-17T12:13:58.516Z"
   },
   {
    "duration": 91,
    "start_time": "2022-01-17T12:14:40.137Z"
   },
   {
    "duration": 67,
    "start_time": "2022-01-17T12:18:16.288Z"
   },
   {
    "duration": 60,
    "start_time": "2022-01-17T12:41:54.805Z"
   },
   {
    "duration": 86,
    "start_time": "2022-01-17T12:44:52.006Z"
   },
   {
    "duration": 495,
    "start_time": "2022-01-17T12:49:55.549Z"
   },
   {
    "duration": 397,
    "start_time": "2022-01-17T12:49:59.583Z"
   },
   {
    "duration": 279,
    "start_time": "2022-01-17T12:51:00.206Z"
   },
   {
    "duration": 266,
    "start_time": "2022-01-17T12:51:10.899Z"
   },
   {
    "duration": 258,
    "start_time": "2022-01-17T12:51:43.031Z"
   },
   {
    "duration": 220,
    "start_time": "2022-01-17T12:51:59.373Z"
   },
   {
    "duration": 253,
    "start_time": "2022-01-17T12:52:10.901Z"
   },
   {
    "duration": 208,
    "start_time": "2022-01-17T12:52:29.226Z"
   },
   {
    "duration": 248,
    "start_time": "2022-01-17T12:53:29.902Z"
   },
   {
    "duration": 253,
    "start_time": "2022-01-17T12:54:04.713Z"
   },
   {
    "duration": 256,
    "start_time": "2022-01-17T12:54:09.017Z"
   },
   {
    "duration": 188,
    "start_time": "2022-01-17T12:54:39.826Z"
   },
   {
    "duration": 512,
    "start_time": "2022-01-17T12:55:08.355Z"
   },
   {
    "duration": 252,
    "start_time": "2022-01-17T12:55:25.706Z"
   },
   {
    "duration": 261,
    "start_time": "2022-01-17T12:55:47.082Z"
   },
   {
    "duration": 211,
    "start_time": "2022-01-17T12:55:54.721Z"
   },
   {
    "duration": 265,
    "start_time": "2022-01-17T12:56:01.058Z"
   },
   {
    "duration": 211,
    "start_time": "2022-01-17T12:56:08.684Z"
   },
   {
    "duration": 244,
    "start_time": "2022-01-17T12:56:48.227Z"
   },
   {
    "duration": 185,
    "start_time": "2022-01-17T12:56:59.064Z"
   },
   {
    "duration": 269,
    "start_time": "2022-01-17T12:58:36.888Z"
   },
   {
    "duration": 246,
    "start_time": "2022-01-17T12:58:43.469Z"
   },
   {
    "duration": 212,
    "start_time": "2022-01-17T12:58:49.986Z"
   },
   {
    "duration": 244,
    "start_time": "2022-01-17T12:58:58.678Z"
   },
   {
    "duration": 239,
    "start_time": "2022-01-17T12:59:02.360Z"
   },
   {
    "duration": 327,
    "start_time": "2022-01-17T12:59:07.206Z"
   },
   {
    "duration": 254,
    "start_time": "2022-01-17T12:59:10.763Z"
   },
   {
    "duration": 359,
    "start_time": "2022-01-17T13:13:26.606Z"
   },
   {
    "duration": 341,
    "start_time": "2022-01-17T13:13:37.451Z"
   },
   {
    "duration": 183,
    "start_time": "2022-01-17T13:13:44.629Z"
   },
   {
    "duration": 193,
    "start_time": "2022-01-17T13:13:50.641Z"
   },
   {
    "duration": 195,
    "start_time": "2022-01-17T13:13:55.925Z"
   },
   {
    "duration": 331,
    "start_time": "2022-01-17T13:14:08.339Z"
   },
   {
    "duration": 362,
    "start_time": "2022-01-17T13:14:27.015Z"
   },
   {
    "duration": 193,
    "start_time": "2022-01-17T13:14:40.032Z"
   },
   {
    "duration": 354,
    "start_time": "2022-01-17T13:15:12.602Z"
   },
   {
    "duration": 177,
    "start_time": "2022-01-17T13:15:29.180Z"
   },
   {
    "duration": 221,
    "start_time": "2022-01-17T13:15:53.909Z"
   },
   {
    "duration": 248,
    "start_time": "2022-01-17T13:16:07.293Z"
   },
   {
    "duration": 252,
    "start_time": "2022-01-17T13:16:30.943Z"
   },
   {
    "duration": 255,
    "start_time": "2022-01-17T13:16:42.119Z"
   },
   {
    "duration": 345,
    "start_time": "2022-01-17T13:16:56.645Z"
   },
   {
    "duration": 232,
    "start_time": "2022-01-17T13:17:11.973Z"
   },
   {
    "duration": 269,
    "start_time": "2022-01-17T13:17:22.716Z"
   },
   {
    "duration": 268,
    "start_time": "2022-01-17T13:17:38.109Z"
   },
   {
    "duration": 370,
    "start_time": "2022-01-17T13:18:05.667Z"
   },
   {
    "duration": 389,
    "start_time": "2022-01-17T13:18:15.472Z"
   },
   {
    "duration": 248,
    "start_time": "2022-01-17T13:18:21.641Z"
   },
   {
    "duration": 260,
    "start_time": "2022-01-17T13:18:27.408Z"
   },
   {
    "duration": 1361,
    "start_time": "2022-01-17T13:19:29.188Z"
   },
   {
    "duration": 1437,
    "start_time": "2022-01-17T13:19:35.882Z"
   },
   {
    "duration": 1379,
    "start_time": "2022-01-17T13:19:45.300Z"
   },
   {
    "duration": 1439,
    "start_time": "2022-01-17T13:21:39.039Z"
   },
   {
    "duration": 1349,
    "start_time": "2022-01-17T13:21:59.147Z"
   },
   {
    "duration": 1378,
    "start_time": "2022-01-17T13:22:47.574Z"
   },
   {
    "duration": 1595,
    "start_time": "2022-01-17T13:23:43.315Z"
   },
   {
    "duration": 1376,
    "start_time": "2022-01-17T13:23:51.158Z"
   },
   {
    "duration": 2110,
    "start_time": "2022-01-17T13:24:50.558Z"
   },
   {
    "duration": 1688,
    "start_time": "2022-01-17T13:25:04.789Z"
   },
   {
    "duration": 1358,
    "start_time": "2022-01-17T13:25:11.403Z"
   },
   {
    "duration": 1580,
    "start_time": "2022-01-17T13:25:16.721Z"
   },
   {
    "duration": 2255,
    "start_time": "2022-01-17T13:25:30.395Z"
   },
   {
    "duration": 1328,
    "start_time": "2022-01-17T13:25:45.601Z"
   },
   {
    "duration": 1858,
    "start_time": "2022-01-17T13:25:52.299Z"
   },
   {
    "duration": 1458,
    "start_time": "2022-01-17T13:26:12.851Z"
   },
   {
    "duration": 1399,
    "start_time": "2022-01-17T13:27:43.955Z"
   },
   {
    "duration": 1461,
    "start_time": "2022-01-17T13:28:28.623Z"
   },
   {
    "duration": 1884,
    "start_time": "2022-01-17T13:28:42.832Z"
   },
   {
    "duration": 1429,
    "start_time": "2022-01-17T13:28:55.019Z"
   },
   {
    "duration": 1400,
    "start_time": "2022-01-17T13:29:29.981Z"
   },
   {
    "duration": 1437,
    "start_time": "2022-01-17T13:29:41.794Z"
   },
   {
    "duration": 1676,
    "start_time": "2022-01-17T13:30:07.314Z"
   },
   {
    "duration": 1425,
    "start_time": "2022-01-17T13:30:14.319Z"
   },
   {
    "duration": 1398,
    "start_time": "2022-01-17T13:30:19.120Z"
   },
   {
    "duration": 1421,
    "start_time": "2022-01-17T13:30:27.609Z"
   },
   {
    "duration": 1762,
    "start_time": "2022-01-17T13:31:32.125Z"
   },
   {
    "duration": 1652,
    "start_time": "2022-01-17T13:31:53.640Z"
   },
   {
    "duration": 1489,
    "start_time": "2022-01-17T13:32:05.371Z"
   },
   {
    "duration": 1637,
    "start_time": "2022-01-17T13:32:22.119Z"
   },
   {
    "duration": 2017,
    "start_time": "2022-01-17T13:33:27.665Z"
   },
   {
    "duration": 1801,
    "start_time": "2022-01-17T13:33:42.457Z"
   },
   {
    "duration": 1669,
    "start_time": "2022-01-17T13:33:51.216Z"
   },
   {
    "duration": 1840,
    "start_time": "2022-01-17T13:34:03.921Z"
   },
   {
    "duration": 82,
    "start_time": "2022-01-17T13:34:49.465Z"
   },
   {
    "duration": 337,
    "start_time": "2022-01-17T13:35:56.231Z"
   },
   {
    "duration": 460,
    "start_time": "2022-01-17T13:36:17.988Z"
   },
   {
    "duration": 324,
    "start_time": "2022-01-17T13:36:27.034Z"
   },
   {
    "duration": 548,
    "start_time": "2022-01-17T13:36:51.414Z"
   },
   {
    "duration": 246,
    "start_time": "2022-01-17T13:37:34.587Z"
   },
   {
    "duration": 213,
    "start_time": "2022-01-17T13:37:56.532Z"
   },
   {
    "duration": 317,
    "start_time": "2022-01-17T13:38:17.500Z"
   },
   {
    "duration": 233,
    "start_time": "2022-01-17T13:39:10.691Z"
   },
   {
    "duration": 200,
    "start_time": "2022-01-17T13:39:42.517Z"
   },
   {
    "duration": 204,
    "start_time": "2022-01-17T13:40:10.474Z"
   },
   {
    "duration": 211,
    "start_time": "2022-01-17T13:40:41.037Z"
   },
   {
    "duration": 211,
    "start_time": "2022-01-17T13:40:59.972Z"
   },
   {
    "duration": 207,
    "start_time": "2022-01-17T13:41:09.649Z"
   },
   {
    "duration": 198,
    "start_time": "2022-01-17T13:41:42.632Z"
   },
   {
    "duration": 219,
    "start_time": "2022-01-17T13:42:02.588Z"
   },
   {
    "duration": 186,
    "start_time": "2022-01-17T13:42:14.719Z"
   },
   {
    "duration": 6,
    "start_time": "2022-01-17T13:47:53.604Z"
   },
   {
    "duration": 543,
    "start_time": "2022-01-17T13:50:40.459Z"
   },
   {
    "duration": 487,
    "start_time": "2022-01-17T13:50:45.754Z"
   },
   {
    "duration": 529,
    "start_time": "2022-01-17T13:50:49.363Z"
   },
   {
    "duration": 7,
    "start_time": "2022-01-17T13:52:37.680Z"
   },
   {
    "duration": 6,
    "start_time": "2022-01-17T14:04:19.056Z"
   },
   {
    "duration": 178,
    "start_time": "2022-01-17T14:05:05.417Z"
   },
   {
    "duration": 227,
    "start_time": "2022-01-17T14:06:28.378Z"
   },
   {
    "duration": 169,
    "start_time": "2022-01-17T14:07:11.553Z"
   },
   {
    "duration": 776,
    "start_time": "2022-01-20T14:28:41.796Z"
   },
   {
    "duration": 758,
    "start_time": "2022-01-20T14:28:41.816Z"
   },
   {
    "duration": 756,
    "start_time": "2022-01-20T14:28:41.820Z"
   },
   {
    "duration": 754,
    "start_time": "2022-01-20T14:28:41.824Z"
   },
   {
    "duration": 743,
    "start_time": "2022-01-20T14:28:41.837Z"
   },
   {
    "duration": 736,
    "start_time": "2022-01-20T14:28:41.846Z"
   },
   {
    "duration": 729,
    "start_time": "2022-01-20T14:28:41.855Z"
   },
   {
    "duration": 723,
    "start_time": "2022-01-20T14:28:41.864Z"
   },
   {
    "duration": 713,
    "start_time": "2022-01-20T14:28:41.876Z"
   },
   {
    "duration": 709,
    "start_time": "2022-01-20T14:28:41.881Z"
   },
   {
    "duration": 707,
    "start_time": "2022-01-20T14:28:41.885Z"
   },
   {
    "duration": 704,
    "start_time": "2022-01-20T14:28:41.890Z"
   },
   {
    "duration": 703,
    "start_time": "2022-01-20T14:28:41.893Z"
   },
   {
    "duration": 700,
    "start_time": "2022-01-20T14:28:41.898Z"
   },
   {
    "duration": 760,
    "start_time": "2022-01-20T14:28:41.902Z"
   },
   {
    "duration": 758,
    "start_time": "2022-01-20T14:28:41.906Z"
   },
   {
    "duration": 756,
    "start_time": "2022-01-20T14:28:41.910Z"
   },
   {
    "duration": 754,
    "start_time": "2022-01-20T14:28:41.914Z"
   },
   {
    "duration": 753,
    "start_time": "2022-01-20T14:28:41.917Z"
   },
   {
    "duration": 751,
    "start_time": "2022-01-20T14:28:41.921Z"
   },
   {
    "duration": 743,
    "start_time": "2022-01-20T14:28:41.931Z"
   },
   {
    "duration": 741,
    "start_time": "2022-01-20T14:28:41.935Z"
   },
   {
    "duration": 739,
    "start_time": "2022-01-20T14:28:41.939Z"
   },
   {
    "duration": 737,
    "start_time": "2022-01-20T14:28:41.943Z"
   },
   {
    "duration": 703,
    "start_time": "2022-01-20T14:28:41.979Z"
   },
   {
    "duration": 701,
    "start_time": "2022-01-20T14:28:41.983Z"
   },
   {
    "duration": 699,
    "start_time": "2022-01-20T14:28:41.987Z"
   },
   {
    "duration": 696,
    "start_time": "2022-01-20T14:28:41.991Z"
   },
   {
    "duration": 445,
    "start_time": "2022-01-20T14:28:42.244Z"
   },
   {
    "duration": 443,
    "start_time": "2022-01-20T14:28:42.248Z"
   },
   {
    "duration": 441,
    "start_time": "2022-01-20T14:28:42.252Z"
   },
   {
    "duration": 439,
    "start_time": "2022-01-20T14:28:42.256Z"
   },
   {
    "duration": 437,
    "start_time": "2022-01-20T14:28:42.259Z"
   },
   {
    "duration": 496,
    "start_time": "2022-01-20T14:28:42.263Z"
   },
   {
    "duration": 494,
    "start_time": "2022-01-20T14:28:42.267Z"
   },
   {
    "duration": 459,
    "start_time": "2022-01-20T14:28:42.304Z"
   },
   {
    "duration": 457,
    "start_time": "2022-01-20T14:28:42.308Z"
   },
   {
    "duration": 432,
    "start_time": "2022-01-20T14:28:42.335Z"
   },
   {
    "duration": 411,
    "start_time": "2022-01-20T14:28:42.359Z"
   },
   {
    "duration": 409,
    "start_time": "2022-01-20T14:28:42.363Z"
   },
   {
    "duration": 157,
    "start_time": "2022-01-20T14:28:42.617Z"
   },
   {
    "duration": 70,
    "start_time": "2022-01-20T14:28:42.706Z"
   },
   {
    "duration": 68,
    "start_time": "2022-01-20T14:28:42.710Z"
   },
   {
    "duration": 66,
    "start_time": "2022-01-20T14:28:42.714Z"
   },
   {
    "duration": 64,
    "start_time": "2022-01-20T14:28:42.718Z"
   },
   {
    "duration": 62,
    "start_time": "2022-01-20T14:28:42.722Z"
   },
   {
    "duration": 62,
    "start_time": "2022-01-20T14:28:42.725Z"
   },
   {
    "duration": 60,
    "start_time": "2022-01-20T14:28:42.729Z"
   },
   {
    "duration": 58,
    "start_time": "2022-01-20T14:28:42.733Z"
   },
   {
    "duration": 56,
    "start_time": "2022-01-20T14:28:42.737Z"
   },
   {
    "duration": 54,
    "start_time": "2022-01-20T14:28:42.741Z"
   },
   {
    "duration": 116,
    "start_time": "2022-01-20T14:28:42.745Z"
   },
   {
    "duration": 108,
    "start_time": "2022-01-20T14:28:42.756Z"
   },
   {
    "duration": 107,
    "start_time": "2022-01-20T14:28:42.760Z"
   },
   {
    "duration": 105,
    "start_time": "2022-01-20T14:28:42.764Z"
   },
   {
    "duration": 103,
    "start_time": "2022-01-20T14:28:42.768Z"
   },
   {
    "duration": 101,
    "start_time": "2022-01-20T14:28:42.772Z"
   },
   {
    "duration": 100,
    "start_time": "2022-01-20T14:28:42.775Z"
   },
   {
    "duration": 98,
    "start_time": "2022-01-20T14:28:42.780Z"
   },
   {
    "duration": 96,
    "start_time": "2022-01-20T14:28:42.784Z"
   },
   {
    "duration": 94,
    "start_time": "2022-01-20T14:28:42.788Z"
   },
   {
    "duration": 92,
    "start_time": "2022-01-20T14:28:42.792Z"
   },
   {
    "duration": 93,
    "start_time": "2022-01-20T14:28:42.795Z"
   },
   {
    "duration": 91,
    "start_time": "2022-01-20T14:28:42.799Z"
   },
   {
    "duration": 89,
    "start_time": "2022-01-20T14:28:42.803Z"
   },
   {
    "duration": 87,
    "start_time": "2022-01-20T14:28:42.807Z"
   },
   {
    "duration": 84,
    "start_time": "2022-01-20T14:28:42.811Z"
   },
   {
    "duration": 84,
    "start_time": "2022-01-20T14:28:42.815Z"
   },
   {
    "duration": 82,
    "start_time": "2022-01-20T14:28:42.818Z"
   },
   {
    "duration": 4,
    "start_time": "2022-01-20T15:38:26.697Z"
   },
   {
    "duration": 54,
    "start_time": "2022-01-20T15:38:26.703Z"
   },
   {
    "duration": 28,
    "start_time": "2022-01-20T15:38:26.759Z"
   },
   {
    "duration": 15,
    "start_time": "2022-01-20T15:38:26.789Z"
   },
   {
    "duration": 28,
    "start_time": "2022-01-20T15:38:26.808Z"
   },
   {
    "duration": 5,
    "start_time": "2022-01-20T15:38:26.839Z"
   },
   {
    "duration": 17,
    "start_time": "2022-01-20T15:38:26.846Z"
   },
   {
    "duration": 18,
    "start_time": "2022-01-20T15:38:26.865Z"
   },
   {
    "duration": 53,
    "start_time": "2022-01-20T15:38:26.885Z"
   },
   {
    "duration": 17,
    "start_time": "2022-01-20T15:38:26.940Z"
   },
   {
    "duration": 7,
    "start_time": "2022-01-20T15:38:26.960Z"
   },
   {
    "duration": 10,
    "start_time": "2022-01-20T15:38:26.969Z"
   },
   {
    "duration": 7,
    "start_time": "2022-01-20T15:38:26.981Z"
   },
   {
    "duration": 12,
    "start_time": "2022-01-20T15:38:26.990Z"
   },
   {
    "duration": 34,
    "start_time": "2022-01-20T15:38:27.004Z"
   },
   {
    "duration": 15,
    "start_time": "2022-01-20T15:38:27.040Z"
   },
   {
    "duration": 34,
    "start_time": "2022-01-20T15:38:27.057Z"
   },
   {
    "duration": 7,
    "start_time": "2022-01-20T15:38:27.093Z"
   },
   {
    "duration": 12,
    "start_time": "2022-01-20T15:38:27.102Z"
   },
   {
    "duration": 21,
    "start_time": "2022-01-20T15:38:27.136Z"
   },
   {
    "duration": 6,
    "start_time": "2022-01-20T15:38:27.161Z"
   },
   {
    "duration": 10,
    "start_time": "2022-01-20T15:38:27.169Z"
   },
   {
    "duration": 9,
    "start_time": "2022-01-20T15:38:27.181Z"
   },
   {
    "duration": 66,
    "start_time": "2022-01-20T15:38:27.192Z"
   },
   {
    "duration": 9,
    "start_time": "2022-01-20T15:38:27.261Z"
   },
   {
    "duration": 686,
    "start_time": "2022-01-20T15:38:27.273Z"
   },
   {
    "duration": 15,
    "start_time": "2022-01-20T15:38:27.962Z"
   },
   {
    "duration": 9,
    "start_time": "2022-01-20T15:38:27.979Z"
   },
   {
    "duration": 453,
    "start_time": "2022-01-20T15:38:27.990Z"
   },
   {
    "duration": 428,
    "start_time": "2022-01-20T15:38:28.445Z"
   },
   {
    "duration": 371,
    "start_time": "2022-01-20T15:38:28.876Z"
   },
   {
    "duration": 429,
    "start_time": "2022-01-20T15:38:29.249Z"
   },
   {
    "duration": 368,
    "start_time": "2022-01-20T15:38:29.680Z"
   },
   {
    "duration": 8,
    "start_time": "2022-01-20T15:38:30.050Z"
   },
   {
    "duration": 22,
    "start_time": "2022-01-20T15:38:30.060Z"
   },
   {
    "duration": 11,
    "start_time": "2022-01-20T15:38:30.085Z"
   },
   {
    "duration": 448,
    "start_time": "2022-01-20T15:38:30.099Z"
   },
   {
    "duration": 338,
    "start_time": "2022-01-20T15:38:30.549Z"
   },
   {
    "duration": 483,
    "start_time": "2022-01-20T15:38:30.890Z"
   },
   {
    "duration": 329,
    "start_time": "2022-01-20T15:38:31.375Z"
   },
   {
    "duration": 422,
    "start_time": "2022-01-20T15:38:31.706Z"
   },
   {
    "duration": 13,
    "start_time": "2022-01-20T15:38:32.131Z"
   },
   {
    "duration": 1264,
    "start_time": "2022-01-20T15:38:32.147Z"
   },
   {
    "duration": 19,
    "start_time": "2022-01-20T15:38:33.414Z"
   },
   {
    "duration": 5,
    "start_time": "2022-01-20T15:38:33.435Z"
   },
   {
    "duration": 402,
    "start_time": "2022-01-20T15:38:33.443Z"
   },
   {
    "duration": 6,
    "start_time": "2022-01-20T15:38:33.848Z"
   },
   {
    "duration": 398,
    "start_time": "2022-01-20T15:38:33.856Z"
   },
   {
    "duration": 6,
    "start_time": "2022-01-20T15:38:34.257Z"
   },
   {
    "duration": 7,
    "start_time": "2022-01-20T15:38:34.265Z"
   },
   {
    "duration": 5,
    "start_time": "2022-01-20T15:38:34.274Z"
   },
   {
    "duration": 9,
    "start_time": "2022-01-20T15:38:34.282Z"
   },
   {
    "duration": 41,
    "start_time": "2022-01-20T15:38:34.293Z"
   },
   {
    "duration": 2935,
    "start_time": "2022-01-20T15:38:34.336Z"
   },
   {
    "duration": 19,
    "start_time": "2022-01-20T15:38:37.273Z"
   },
   {
    "duration": 417,
    "start_time": "2022-01-20T15:38:37.295Z"
   },
   {
    "duration": 372,
    "start_time": "2022-01-20T15:38:37.714Z"
   },
   {
    "duration": 367,
    "start_time": "2022-01-20T15:38:38.089Z"
   },
   {
    "duration": 111,
    "start_time": "2022-01-20T15:38:38.458Z"
   },
   {
    "duration": 753,
    "start_time": "2022-01-20T15:38:37.819Z"
   },
   {
    "duration": 749,
    "start_time": "2022-01-20T15:38:37.824Z"
   },
   {
    "duration": 746,
    "start_time": "2022-01-20T15:38:37.829Z"
   },
   {
    "duration": 744,
    "start_time": "2022-01-20T15:38:37.833Z"
   },
   {
    "duration": 741,
    "start_time": "2022-01-20T15:38:37.837Z"
   },
   {
    "duration": 738,
    "start_time": "2022-01-20T15:38:37.842Z"
   },
   {
    "duration": 736,
    "start_time": "2022-01-20T15:38:37.845Z"
   },
   {
    "duration": 734,
    "start_time": "2022-01-20T15:38:37.849Z"
   },
   {
    "duration": 731,
    "start_time": "2022-01-20T15:38:37.853Z"
   },
   {
    "duration": 729,
    "start_time": "2022-01-20T15:38:37.857Z"
   },
   {
    "duration": 1441,
    "start_time": "2022-01-20T15:41:43.145Z"
   },
   {
    "duration": 46,
    "start_time": "2022-01-20T15:41:44.589Z"
   },
   {
    "duration": 27,
    "start_time": "2022-01-20T15:41:44.638Z"
   },
   {
    "duration": 22,
    "start_time": "2022-01-20T15:41:44.668Z"
   },
   {
    "duration": 8,
    "start_time": "2022-01-20T15:41:44.692Z"
   },
   {
    "duration": 7,
    "start_time": "2022-01-20T15:41:44.702Z"
   },
   {
    "duration": 14,
    "start_time": "2022-01-20T15:41:44.733Z"
   },
   {
    "duration": 20,
    "start_time": "2022-01-20T15:41:44.749Z"
   },
   {
    "duration": 20,
    "start_time": "2022-01-20T15:41:44.773Z"
   },
   {
    "duration": 5,
    "start_time": "2022-01-20T15:41:44.833Z"
   },
   {
    "duration": 23,
    "start_time": "2022-01-20T15:41:44.841Z"
   },
   {
    "duration": 18,
    "start_time": "2022-01-20T15:41:44.866Z"
   },
   {
    "duration": 10,
    "start_time": "2022-01-20T15:41:44.887Z"
   },
   {
    "duration": 16,
    "start_time": "2022-01-20T15:41:44.899Z"
   },
   {
    "duration": 22,
    "start_time": "2022-01-20T15:41:44.918Z"
   },
   {
    "duration": 12,
    "start_time": "2022-01-20T15:41:44.942Z"
   },
   {
    "duration": 22,
    "start_time": "2022-01-20T15:41:44.956Z"
   },
   {
    "duration": 8,
    "start_time": "2022-01-20T15:41:44.981Z"
   },
   {
    "duration": 43,
    "start_time": "2022-01-20T15:41:44.991Z"
   },
   {
    "duration": 21,
    "start_time": "2022-01-20T15:41:45.037Z"
   },
   {
    "duration": 27,
    "start_time": "2022-01-20T15:41:45.061Z"
   },
   {
    "duration": 14,
    "start_time": "2022-01-20T15:41:45.091Z"
   },
   {
    "duration": 22,
    "start_time": "2022-01-20T15:41:45.107Z"
   },
   {
    "duration": 45,
    "start_time": "2022-01-20T15:41:45.131Z"
   },
   {
    "duration": 11,
    "start_time": "2022-01-20T15:41:45.179Z"
   },
   {
    "duration": 819,
    "start_time": "2022-01-20T15:41:45.192Z"
   },
   {
    "duration": 24,
    "start_time": "2022-01-20T15:41:46.020Z"
   },
   {
    "duration": 10,
    "start_time": "2022-01-20T15:41:46.049Z"
   },
   {
    "duration": 488,
    "start_time": "2022-01-20T15:41:46.062Z"
   },
   {
    "duration": 443,
    "start_time": "2022-01-20T15:41:46.554Z"
   },
   {
    "duration": 377,
    "start_time": "2022-01-20T15:41:46.999Z"
   },
   {
    "duration": 443,
    "start_time": "2022-01-20T15:41:47.380Z"
   },
   {
    "duration": 399,
    "start_time": "2022-01-20T15:41:47.833Z"
   },
   {
    "duration": 9,
    "start_time": "2022-01-20T15:41:48.234Z"
   },
   {
    "duration": 20,
    "start_time": "2022-01-20T15:41:48.245Z"
   },
   {
    "duration": 12,
    "start_time": "2022-01-20T15:41:48.268Z"
   },
   {
    "duration": 477,
    "start_time": "2022-01-20T15:41:48.283Z"
   },
   {
    "duration": 352,
    "start_time": "2022-01-20T15:41:48.762Z"
   },
   {
    "duration": 549,
    "start_time": "2022-01-20T15:41:49.118Z"
   },
   {
    "duration": 334,
    "start_time": "2022-01-20T15:41:49.670Z"
   },
   {
    "duration": 438,
    "start_time": "2022-01-20T15:41:50.007Z"
   },
   {
    "duration": 14,
    "start_time": "2022-01-20T15:41:50.449Z"
   },
   {
    "duration": 1159,
    "start_time": "2022-01-20T15:41:50.465Z"
   },
   {
    "duration": 9,
    "start_time": "2022-01-20T15:41:51.631Z"
   },
   {
    "duration": 6,
    "start_time": "2022-01-20T15:41:51.643Z"
   },
   {
    "duration": 417,
    "start_time": "2022-01-20T15:41:51.652Z"
   },
   {
    "duration": 6,
    "start_time": "2022-01-20T15:41:52.073Z"
   },
   {
    "duration": 440,
    "start_time": "2022-01-20T15:41:52.082Z"
   },
   {
    "duration": 6,
    "start_time": "2022-01-20T15:41:52.532Z"
   },
   {
    "duration": 11,
    "start_time": "2022-01-20T15:41:52.540Z"
   },
   {
    "duration": 12,
    "start_time": "2022-01-20T15:41:52.554Z"
   },
   {
    "duration": 12,
    "start_time": "2022-01-20T15:41:52.568Z"
   },
   {
    "duration": 10,
    "start_time": "2022-01-20T15:41:52.582Z"
   },
   {
    "duration": 3380,
    "start_time": "2022-01-20T15:41:52.594Z"
   },
   {
    "duration": 26,
    "start_time": "2022-01-20T15:41:55.977Z"
   },
   {
    "duration": 429,
    "start_time": "2022-01-20T15:41:56.031Z"
   },
   {
    "duration": 373,
    "start_time": "2022-01-20T15:41:56.463Z"
   },
   {
    "duration": 370,
    "start_time": "2022-01-20T15:41:56.839Z"
   },
   {
    "duration": 112,
    "start_time": "2022-01-20T15:41:57.212Z"
   },
   {
    "duration": 748,
    "start_time": "2022-01-20T15:41:56.579Z"
   },
   {
    "duration": 745,
    "start_time": "2022-01-20T15:41:56.583Z"
   },
   {
    "duration": 743,
    "start_time": "2022-01-20T15:41:56.587Z"
   },
   {
    "duration": 731,
    "start_time": "2022-01-20T15:41:56.601Z"
   },
   {
    "duration": 728,
    "start_time": "2022-01-20T15:41:56.605Z"
   },
   {
    "duration": 726,
    "start_time": "2022-01-20T15:41:56.609Z"
   },
   {
    "duration": 724,
    "start_time": "2022-01-20T15:41:56.613Z"
   },
   {
    "duration": 721,
    "start_time": "2022-01-20T15:41:56.617Z"
   },
   {
    "duration": 719,
    "start_time": "2022-01-20T15:41:56.621Z"
   },
   {
    "duration": 711,
    "start_time": "2022-01-20T15:41:56.630Z"
   },
   {
    "duration": 353,
    "start_time": "2022-01-20T15:44:34.545Z"
   },
   {
    "duration": 348,
    "start_time": "2022-01-20T15:44:39.605Z"
   },
   {
    "duration": 370,
    "start_time": "2022-01-20T15:44:41.885Z"
   },
   {
    "duration": 358,
    "start_time": "2022-01-20T15:44:43.365Z"
   },
   {
    "duration": 7,
    "start_time": "2022-01-20T15:44:46.534Z"
   },
   {
    "duration": 432,
    "start_time": "2022-01-20T15:44:47.874Z"
   },
   {
    "duration": 365,
    "start_time": "2022-01-20T15:44:50.944Z"
   },
   {
    "duration": 343,
    "start_time": "2022-01-20T15:44:53.434Z"
   },
   {
    "duration": 20,
    "start_time": "2022-01-20T15:44:56.124Z"
   },
   {
    "duration": 17,
    "start_time": "2022-01-20T15:44:59.383Z"
   },
   {
    "duration": 305,
    "start_time": "2022-01-20T17:19:38.835Z"
   },
   {
    "duration": 1081,
    "start_time": "2022-01-20T17:19:44.370Z"
   },
   {
    "duration": 35,
    "start_time": "2022-01-20T17:19:45.453Z"
   },
   {
    "duration": 16,
    "start_time": "2022-01-20T17:19:45.491Z"
   },
   {
    "duration": 10,
    "start_time": "2022-01-20T17:19:45.509Z"
   },
   {
    "duration": 6,
    "start_time": "2022-01-20T17:19:45.521Z"
   },
   {
    "duration": 4,
    "start_time": "2022-01-20T17:19:45.529Z"
   },
   {
    "duration": 44,
    "start_time": "2022-01-20T17:19:45.534Z"
   },
   {
    "duration": 12,
    "start_time": "2022-01-20T17:19:45.580Z"
   },
   {
    "duration": 12,
    "start_time": "2022-01-20T17:19:45.594Z"
   },
   {
    "duration": 6,
    "start_time": "2022-01-20T17:19:45.607Z"
   },
   {
    "duration": 5,
    "start_time": "2022-01-20T17:19:45.614Z"
   },
   {
    "duration": 6,
    "start_time": "2022-01-20T17:19:45.620Z"
   },
   {
    "duration": 6,
    "start_time": "2022-01-20T17:19:45.627Z"
   },
   {
    "duration": 37,
    "start_time": "2022-01-20T17:19:45.634Z"
   },
   {
    "duration": 6,
    "start_time": "2022-01-20T17:19:45.673Z"
   },
   {
    "duration": 6,
    "start_time": "2022-01-20T17:19:45.680Z"
   },
   {
    "duration": 14,
    "start_time": "2022-01-20T17:19:45.687Z"
   },
   {
    "duration": 5,
    "start_time": "2022-01-20T17:19:45.702Z"
   },
   {
    "duration": 9,
    "start_time": "2022-01-20T17:19:45.708Z"
   },
   {
    "duration": 12,
    "start_time": "2022-01-20T17:19:45.719Z"
   },
   {
    "duration": 5,
    "start_time": "2022-01-20T17:19:45.733Z"
   },
   {
    "duration": 32,
    "start_time": "2022-01-20T17:19:45.740Z"
   },
   {
    "duration": 4,
    "start_time": "2022-01-20T17:19:45.775Z"
   },
   {
    "duration": 23,
    "start_time": "2022-01-20T17:19:45.781Z"
   },
   {
    "duration": 6,
    "start_time": "2022-01-20T17:19:45.805Z"
   },
   {
    "duration": 410,
    "start_time": "2022-01-20T17:19:45.813Z"
   },
   {
    "duration": 9,
    "start_time": "2022-01-20T17:19:46.225Z"
   },
   {
    "duration": 5,
    "start_time": "2022-01-20T17:19:46.236Z"
   },
   {
    "duration": 257,
    "start_time": "2022-01-20T17:19:46.242Z"
   },
   {
    "duration": 244,
    "start_time": "2022-01-20T17:19:46.500Z"
   },
   {
    "duration": 213,
    "start_time": "2022-01-20T17:19:46.746Z"
   },
   {
    "duration": 248,
    "start_time": "2022-01-20T17:19:46.961Z"
   },
   {
    "duration": 222,
    "start_time": "2022-01-20T17:19:47.211Z"
   },
   {
    "duration": 5,
    "start_time": "2022-01-20T17:19:47.435Z"
   },
   {
    "duration": 9,
    "start_time": "2022-01-20T17:19:47.442Z"
   },
   {
    "duration": 21,
    "start_time": "2022-01-20T17:19:47.452Z"
   },
   {
    "duration": 274,
    "start_time": "2022-01-20T17:19:47.474Z"
   },
   {
    "duration": 236,
    "start_time": "2022-01-20T17:19:47.750Z"
   },
   {
    "duration": 317,
    "start_time": "2022-01-20T17:19:47.988Z"
   },
   {
    "duration": 204,
    "start_time": "2022-01-20T17:19:48.308Z"
   },
   {
    "duration": 260,
    "start_time": "2022-01-20T17:19:48.514Z"
   },
   {
    "duration": 10,
    "start_time": "2022-01-20T17:19:48.776Z"
   },
   {
    "duration": 755,
    "start_time": "2022-01-20T17:19:48.787Z"
   },
   {
    "duration": 5,
    "start_time": "2022-01-20T17:19:49.544Z"
   },
   {
    "duration": 5,
    "start_time": "2022-01-20T17:19:49.551Z"
   },
   {
    "duration": 359,
    "start_time": "2022-01-20T17:19:49.571Z"
   },
   {
    "duration": 4,
    "start_time": "2022-01-20T17:19:49.932Z"
   },
   {
    "duration": 294,
    "start_time": "2022-01-20T17:19:49.937Z"
   },
   {
    "duration": 3,
    "start_time": "2022-01-20T17:19:50.233Z"
   },
   {
    "duration": 6,
    "start_time": "2022-01-20T17:19:50.238Z"
   },
   {
    "duration": 6,
    "start_time": "2022-01-20T17:19:50.245Z"
   },
   {
    "duration": 20,
    "start_time": "2022-01-20T17:19:50.252Z"
   },
   {
    "duration": 4,
    "start_time": "2022-01-20T17:19:50.274Z"
   },
   {
    "duration": 2014,
    "start_time": "2022-01-20T17:19:50.280Z"
   },
   {
    "duration": 12,
    "start_time": "2022-01-20T17:19:52.295Z"
   },
   {
    "duration": 358,
    "start_time": "2022-01-20T17:19:52.309Z"
   },
   {
    "duration": -1071,
    "start_time": "2022-01-20T17:19:53.740Z"
   },
   {
    "duration": -1082,
    "start_time": "2022-01-20T17:19:53.752Z"
   },
   {
    "duration": -1090,
    "start_time": "2022-01-20T17:19:53.761Z"
   },
   {
    "duration": -1101,
    "start_time": "2022-01-20T17:19:53.773Z"
   },
   {
    "duration": -1110,
    "start_time": "2022-01-20T17:19:53.783Z"
   },
   {
    "duration": -1147,
    "start_time": "2022-01-20T17:19:53.821Z"
   },
   {
    "duration": -1155,
    "start_time": "2022-01-20T17:19:53.830Z"
   },
   {
    "duration": -1162,
    "start_time": "2022-01-20T17:19:53.838Z"
   },
   {
    "duration": -1169,
    "start_time": "2022-01-20T17:19:53.845Z"
   },
   {
    "duration": -1176,
    "start_time": "2022-01-20T17:19:53.853Z"
   },
   {
    "duration": -1182,
    "start_time": "2022-01-20T17:19:53.860Z"
   },
   {
    "duration": -1191,
    "start_time": "2022-01-20T17:19:53.869Z"
   },
   {
    "duration": 244,
    "start_time": "2022-01-20T17:20:47.847Z"
   },
   {
    "duration": 100,
    "start_time": "2022-01-21T10:40:22.052Z"
   },
   {
    "duration": 119,
    "start_time": "2022-01-21T11:44:29.892Z"
   },
   {
    "duration": 418,
    "start_time": "2022-01-21T12:02:38.275Z"
   },
   {
    "duration": 1443,
    "start_time": "2022-01-21T12:11:20.893Z"
   },
   {
    "duration": 46,
    "start_time": "2022-01-21T12:11:22.339Z"
   },
   {
    "duration": 27,
    "start_time": "2022-01-21T12:11:22.388Z"
   },
   {
    "duration": 15,
    "start_time": "2022-01-21T12:11:22.418Z"
   },
   {
    "duration": 33,
    "start_time": "2022-01-21T12:11:22.436Z"
   },
   {
    "duration": 7,
    "start_time": "2022-01-21T12:11:22.472Z"
   },
   {
    "duration": 17,
    "start_time": "2022-01-21T12:11:22.482Z"
   },
   {
    "duration": 19,
    "start_time": "2022-01-21T12:11:22.504Z"
   },
   {
    "duration": 21,
    "start_time": "2022-01-21T12:11:22.571Z"
   },
   {
    "duration": 8,
    "start_time": "2022-01-21T12:11:22.595Z"
   },
   {
    "duration": 9,
    "start_time": "2022-01-21T12:11:22.607Z"
   },
   {
    "duration": 10,
    "start_time": "2022-01-21T12:11:22.618Z"
   },
   {
    "duration": 45,
    "start_time": "2022-01-21T12:11:22.631Z"
   },
   {
    "duration": 14,
    "start_time": "2022-01-21T12:11:22.679Z"
   },
   {
    "duration": 9,
    "start_time": "2022-01-21T12:11:22.696Z"
   },
   {
    "duration": 9,
    "start_time": "2022-01-21T12:11:22.709Z"
   },
   {
    "duration": 64,
    "start_time": "2022-01-21T12:11:22.720Z"
   },
   {
    "duration": 11,
    "start_time": "2022-01-21T12:11:22.787Z"
   },
   {
    "duration": 15,
    "start_time": "2022-01-21T12:11:22.800Z"
   },
   {
    "duration": 57,
    "start_time": "2022-01-21T12:11:22.818Z"
   },
   {
    "duration": 8,
    "start_time": "2022-01-21T12:11:22.878Z"
   },
   {
    "duration": 7,
    "start_time": "2022-01-21T12:11:22.888Z"
   },
   {
    "duration": 6,
    "start_time": "2022-01-21T12:11:22.901Z"
   },
   {
    "duration": 69,
    "start_time": "2022-01-21T12:11:22.911Z"
   },
   {
    "duration": 19,
    "start_time": "2022-01-21T12:11:22.982Z"
   },
   {
    "duration": 726,
    "start_time": "2022-01-21T12:11:23.004Z"
   },
   {
    "duration": 15,
    "start_time": "2022-01-21T12:11:23.733Z"
   },
   {
    "duration": 25,
    "start_time": "2022-01-21T12:11:23.751Z"
   },
   {
    "duration": 470,
    "start_time": "2022-01-21T12:11:23.778Z"
   },
   {
    "duration": 446,
    "start_time": "2022-01-21T12:11:24.250Z"
   },
   {
    "duration": 390,
    "start_time": "2022-01-21T12:11:24.698Z"
   },
   {
    "duration": 455,
    "start_time": "2022-01-21T12:11:25.091Z"
   },
   {
    "duration": 379,
    "start_time": "2022-01-21T12:11:25.549Z"
   },
   {
    "duration": 8,
    "start_time": "2022-01-21T12:11:25.930Z"
   },
   {
    "duration": 37,
    "start_time": "2022-01-21T12:11:25.940Z"
   },
   {
    "duration": 8,
    "start_time": "2022-01-21T12:11:25.980Z"
   },
   {
    "duration": 381,
    "start_time": "2022-01-21T12:11:25.991Z"
   },
   {
    "duration": 326,
    "start_time": "2022-01-21T12:11:26.374Z"
   },
   {
    "duration": 453,
    "start_time": "2022-01-21T12:11:26.703Z"
   },
   {
    "duration": 323,
    "start_time": "2022-01-21T12:11:27.159Z"
   },
   {
    "duration": 370,
    "start_time": "2022-01-21T12:11:27.485Z"
   },
   {
    "duration": 17,
    "start_time": "2022-01-21T12:11:27.857Z"
   },
   {
    "duration": 1097,
    "start_time": "2022-01-21T12:11:27.876Z"
   },
   {
    "duration": 8,
    "start_time": "2022-01-21T12:11:28.976Z"
   },
   {
    "duration": 11,
    "start_time": "2022-01-21T12:11:28.986Z"
   },
   {
    "duration": 385,
    "start_time": "2022-01-21T12:11:28.999Z"
   },
   {
    "duration": 6,
    "start_time": "2022-01-21T12:11:29.387Z"
   },
   {
    "duration": 388,
    "start_time": "2022-01-21T12:11:29.397Z"
   },
   {
    "duration": 5,
    "start_time": "2022-01-21T12:11:29.789Z"
   },
   {
    "duration": 12,
    "start_time": "2022-01-21T12:11:29.797Z"
   },
   {
    "duration": 10,
    "start_time": "2022-01-21T12:11:29.811Z"
   },
   {
    "duration": 19,
    "start_time": "2022-01-21T12:11:29.824Z"
   },
   {
    "duration": 24,
    "start_time": "2022-01-21T12:11:29.845Z"
   },
   {
    "duration": 3089,
    "start_time": "2022-01-21T12:11:29.872Z"
   },
   {
    "duration": 16,
    "start_time": "2022-01-21T12:11:32.963Z"
   },
   {
    "duration": 449,
    "start_time": "2022-01-21T12:11:32.981Z"
   },
   {
    "duration": 389,
    "start_time": "2022-01-21T12:11:33.432Z"
   },
   {
    "duration": 392,
    "start_time": "2022-01-21T12:11:33.823Z"
   },
   {
    "duration": 372,
    "start_time": "2022-01-21T12:11:34.218Z"
   },
   {
    "duration": 394,
    "start_time": "2022-01-21T12:11:34.592Z"
   },
   {
    "duration": 395,
    "start_time": "2022-01-21T12:11:34.988Z"
   },
   {
    "duration": 368,
    "start_time": "2022-01-21T12:11:35.385Z"
   },
   {
    "duration": 3,
    "start_time": "2022-01-21T12:11:35.755Z"
   },
   {
    "duration": 483,
    "start_time": "2022-01-21T12:11:35.761Z"
   },
   {
    "duration": 367,
    "start_time": "2022-01-21T12:11:36.247Z"
   },
   {
    "duration": 373,
    "start_time": "2022-01-21T12:11:36.616Z"
   },
   {
    "duration": 18,
    "start_time": "2022-01-21T12:11:36.992Z"
   },
   {
    "duration": 18,
    "start_time": "2022-01-21T12:11:37.018Z"
   },
   {
    "duration": 1443,
    "start_time": "2022-01-21T12:45:52.184Z"
   },
   {
    "duration": 47,
    "start_time": "2022-01-21T12:45:53.630Z"
   },
   {
    "duration": 29,
    "start_time": "2022-01-21T12:45:53.680Z"
   },
   {
    "duration": 17,
    "start_time": "2022-01-21T12:45:53.712Z"
   },
   {
    "duration": 38,
    "start_time": "2022-01-21T12:45:53.732Z"
   },
   {
    "duration": 8,
    "start_time": "2022-01-21T12:45:53.773Z"
   },
   {
    "duration": 21,
    "start_time": "2022-01-21T12:45:53.783Z"
   },
   {
    "duration": 18,
    "start_time": "2022-01-21T12:45:53.807Z"
   },
   {
    "duration": 53,
    "start_time": "2022-01-21T12:45:53.828Z"
   },
   {
    "duration": 6,
    "start_time": "2022-01-21T12:45:53.884Z"
   },
   {
    "duration": 8,
    "start_time": "2022-01-21T12:45:53.892Z"
   },
   {
    "duration": 8,
    "start_time": "2022-01-21T12:45:53.902Z"
   },
   {
    "duration": 8,
    "start_time": "2022-01-21T12:45:53.912Z"
   },
   {
    "duration": 49,
    "start_time": "2022-01-21T12:45:53.922Z"
   },
   {
    "duration": 9,
    "start_time": "2022-01-21T12:45:53.973Z"
   },
   {
    "duration": 13,
    "start_time": "2022-01-21T12:45:53.985Z"
   },
   {
    "duration": 19,
    "start_time": "2022-01-21T12:45:54.000Z"
   },
   {
    "duration": 8,
    "start_time": "2022-01-21T12:45:54.021Z"
   },
   {
    "duration": 46,
    "start_time": "2022-01-21T12:45:54.031Z"
   },
   {
    "duration": 21,
    "start_time": "2022-01-21T12:45:54.079Z"
   },
   {
    "duration": 7,
    "start_time": "2022-01-21T12:45:54.102Z"
   },
   {
    "duration": 8,
    "start_time": "2022-01-21T12:45:54.111Z"
   },
   {
    "duration": 6,
    "start_time": "2022-01-21T12:45:54.127Z"
   },
   {
    "duration": 39,
    "start_time": "2022-01-21T12:45:54.170Z"
   },
   {
    "duration": 10,
    "start_time": "2022-01-21T12:45:54.212Z"
   },
   {
    "duration": 748,
    "start_time": "2022-01-21T12:45:54.226Z"
   },
   {
    "duration": 16,
    "start_time": "2022-01-21T12:45:54.977Z"
   },
   {
    "duration": 8,
    "start_time": "2022-01-21T12:45:54.995Z"
   },
   {
    "duration": 481,
    "start_time": "2022-01-21T12:45:55.006Z"
   },
   {
    "duration": 542,
    "start_time": "2022-01-21T12:45:55.490Z"
   },
   {
    "duration": 389,
    "start_time": "2022-01-21T12:45:56.034Z"
   },
   {
    "duration": 441,
    "start_time": "2022-01-21T12:45:56.426Z"
   },
   {
    "duration": 375,
    "start_time": "2022-01-21T12:45:56.869Z"
   },
   {
    "duration": 8,
    "start_time": "2022-01-21T12:45:57.246Z"
   },
   {
    "duration": 14,
    "start_time": "2022-01-21T12:45:57.269Z"
   },
   {
    "duration": 11,
    "start_time": "2022-01-21T12:45:57.286Z"
   },
   {
    "duration": 372,
    "start_time": "2022-01-21T12:45:57.299Z"
   },
   {
    "duration": 307,
    "start_time": "2022-01-21T12:45:57.674Z"
   },
   {
    "duration": 426,
    "start_time": "2022-01-21T12:45:57.984Z"
   },
   {
    "duration": 311,
    "start_time": "2022-01-21T12:45:58.412Z"
   },
   {
    "duration": 365,
    "start_time": "2022-01-21T12:45:58.726Z"
   },
   {
    "duration": 12,
    "start_time": "2022-01-21T12:45:59.094Z"
   },
   {
    "duration": 1062,
    "start_time": "2022-01-21T12:45:59.108Z"
   },
   {
    "duration": 7,
    "start_time": "2022-01-21T12:46:00.173Z"
   },
   {
    "duration": 20,
    "start_time": "2022-01-21T12:46:00.182Z"
   },
   {
    "duration": 404,
    "start_time": "2022-01-21T12:46:00.205Z"
   },
   {
    "duration": 6,
    "start_time": "2022-01-21T12:46:00.611Z"
   },
   {
    "duration": 442,
    "start_time": "2022-01-21T12:46:00.619Z"
   },
   {
    "duration": 10,
    "start_time": "2022-01-21T12:46:01.063Z"
   },
   {
    "duration": 13,
    "start_time": "2022-01-21T12:46:01.075Z"
   },
   {
    "duration": 11,
    "start_time": "2022-01-21T12:46:01.091Z"
   },
   {
    "duration": 32,
    "start_time": "2022-01-21T12:46:01.105Z"
   },
   {
    "duration": 22,
    "start_time": "2022-01-21T12:46:01.140Z"
   },
   {
    "duration": 3152,
    "start_time": "2022-01-21T12:46:01.164Z"
   },
   {
    "duration": 17,
    "start_time": "2022-01-21T12:46:04.318Z"
   },
   {
    "duration": 455,
    "start_time": "2022-01-21T12:46:04.337Z"
   },
   {
    "duration": 386,
    "start_time": "2022-01-21T12:46:04.795Z"
   },
   {
    "duration": 404,
    "start_time": "2022-01-21T12:46:05.183Z"
   },
   {
    "duration": 400,
    "start_time": "2022-01-21T12:46:05.590Z"
   },
   {
    "duration": 385,
    "start_time": "2022-01-21T12:46:05.993Z"
   },
   {
    "duration": 500,
    "start_time": "2022-01-21T12:46:06.381Z"
   },
   {
    "duration": 494,
    "start_time": "2022-01-21T12:46:06.885Z"
   },
   {
    "duration": 4,
    "start_time": "2022-01-21T12:46:07.382Z"
   },
   {
    "duration": 448,
    "start_time": "2022-01-21T12:46:07.388Z"
   },
   {
    "duration": 385,
    "start_time": "2022-01-21T12:46:07.838Z"
   },
   {
    "duration": 366,
    "start_time": "2022-01-21T12:46:08.226Z"
   },
   {
    "duration": 16,
    "start_time": "2022-01-21T12:46:08.594Z"
   },
   {
    "duration": 17,
    "start_time": "2022-01-21T12:46:08.617Z"
   },
   {
    "duration": 362,
    "start_time": "2022-01-21T12:49:26.056Z"
   },
   {
    "duration": 7,
    "start_time": "2022-01-21T12:49:57.977Z"
   },
   {
    "duration": 546,
    "start_time": "2022-01-21T12:50:08.248Z"
   },
   {
    "duration": 363,
    "start_time": "2022-01-21T12:57:28.992Z"
   },
   {
    "duration": 330,
    "start_time": "2022-01-21T12:57:42.819Z"
   },
   {
    "duration": 309,
    "start_time": "2022-01-21T12:58:39.023Z"
   },
   {
    "duration": 310,
    "start_time": "2022-01-21T12:58:45.107Z"
   },
   {
    "duration": 345,
    "start_time": "2022-01-21T12:58:59.440Z"
   },
   {
    "duration": 304,
    "start_time": "2022-01-21T13:01:19.038Z"
   },
   {
    "duration": 376,
    "start_time": "2022-01-21T13:02:12.066Z"
   },
   {
    "duration": 12,
    "start_time": "2022-01-21T13:29:13.956Z"
   },
   {
    "duration": 1063,
    "start_time": "2022-01-21T13:29:23.056Z"
   },
   {
    "duration": 9,
    "start_time": "2022-01-21T13:29:51.544Z"
   },
   {
    "duration": 120,
    "start_time": "2022-01-21T13:54:52.749Z"
   },
   {
    "duration": 100,
    "start_time": "2022-01-21T13:55:22.502Z"
   },
   {
    "duration": 6,
    "start_time": "2022-01-21T13:55:33.860Z"
   },
   {
    "duration": 101,
    "start_time": "2022-01-21T13:56:03.851Z"
   },
   {
    "duration": 6,
    "start_time": "2022-01-21T13:56:06.680Z"
   },
   {
    "duration": 130,
    "start_time": "2022-01-21T13:56:08.895Z"
   },
   {
    "duration": 3352,
    "start_time": "2022-01-21T13:56:21.149Z"
   },
   {
    "duration": 7,
    "start_time": "2022-01-21T13:56:26.458Z"
   },
   {
    "duration": 4044,
    "start_time": "2022-01-21T13:56:28.396Z"
   },
   {
    "duration": 6,
    "start_time": "2022-01-21T13:57:09.707Z"
   },
   {
    "duration": 6,
    "start_time": "2022-01-21T13:57:10.075Z"
   },
   {
    "duration": 5,
    "start_time": "2022-01-21T13:57:10.347Z"
   },
   {
    "duration": 5,
    "start_time": "2022-01-21T13:57:10.597Z"
   },
   {
    "duration": 4757,
    "start_time": "2022-01-21T13:57:10.850Z"
   },
   {
    "duration": 17,
    "start_time": "2022-01-21T13:58:52.542Z"
   },
   {
    "duration": 11,
    "start_time": "2022-01-21T14:00:00.089Z"
   },
   {
    "duration": 31,
    "start_time": "2022-01-21T14:00:05.815Z"
   },
   {
    "duration": 405,
    "start_time": "2022-01-21T14:06:02.264Z"
   },
   {
    "duration": 115,
    "start_time": "2022-01-21T14:27:27.273Z"
   },
   {
    "duration": 357,
    "start_time": "2022-01-21T14:27:47.398Z"
   },
   {
    "duration": 348,
    "start_time": "2022-01-21T14:30:31.814Z"
   },
   {
    "duration": 346,
    "start_time": "2022-01-21T14:31:58.383Z"
   },
   {
    "duration": 466,
    "start_time": "2022-01-21T14:40:32.370Z"
   },
   {
    "duration": 359,
    "start_time": "2022-01-21T14:41:42.010Z"
   },
   {
    "duration": 347,
    "start_time": "2022-01-21T14:42:44.402Z"
   },
   {
    "duration": 384,
    "start_time": "2022-01-21T14:50:39.884Z"
   },
   {
    "duration": 380,
    "start_time": "2022-01-21T14:51:17.511Z"
   },
   {
    "duration": 550,
    "start_time": "2022-01-21T14:51:57.827Z"
   },
   {
    "duration": 167,
    "start_time": "2022-01-21T15:07:29.006Z"
   },
   {
    "duration": 1372,
    "start_time": "2022-01-21T15:09:50.470Z"
   },
   {
    "duration": 47,
    "start_time": "2022-01-21T15:09:51.847Z"
   },
   {
    "duration": 28,
    "start_time": "2022-01-21T15:09:51.897Z"
   },
   {
    "duration": 15,
    "start_time": "2022-01-21T15:09:51.927Z"
   },
   {
    "duration": 7,
    "start_time": "2022-01-21T15:09:51.970Z"
   },
   {
    "duration": 14,
    "start_time": "2022-01-21T15:09:51.980Z"
   },
   {
    "duration": 21,
    "start_time": "2022-01-21T15:09:51.996Z"
   },
   {
    "duration": 19,
    "start_time": "2022-01-21T15:09:52.022Z"
   },
   {
    "duration": 19,
    "start_time": "2022-01-21T15:09:52.069Z"
   },
   {
    "duration": 11,
    "start_time": "2022-01-21T15:09:52.091Z"
   },
   {
    "duration": 12,
    "start_time": "2022-01-21T15:09:52.104Z"
   },
   {
    "duration": 10,
    "start_time": "2022-01-21T15:09:52.119Z"
   },
   {
    "duration": 10,
    "start_time": "2022-01-21T15:09:52.131Z"
   },
   {
    "duration": 11,
    "start_time": "2022-01-21T15:09:52.170Z"
   },
   {
    "duration": 8,
    "start_time": "2022-01-21T15:09:52.184Z"
   },
   {
    "duration": 9,
    "start_time": "2022-01-21T15:09:52.195Z"
   },
   {
    "duration": 19,
    "start_time": "2022-01-21T15:09:52.206Z"
   },
   {
    "duration": 46,
    "start_time": "2022-01-21T15:09:52.228Z"
   },
   {
    "duration": 12,
    "start_time": "2022-01-21T15:09:52.277Z"
   },
   {
    "duration": 21,
    "start_time": "2022-01-21T15:09:52.292Z"
   },
   {
    "duration": 53,
    "start_time": "2022-01-21T15:09:52.316Z"
   },
   {
    "duration": 8,
    "start_time": "2022-01-21T15:09:52.373Z"
   },
   {
    "duration": 9,
    "start_time": "2022-01-21T15:09:52.384Z"
   },
   {
    "duration": 41,
    "start_time": "2022-01-21T15:09:52.395Z"
   },
   {
    "duration": 37,
    "start_time": "2022-01-21T15:09:52.438Z"
   },
   {
    "duration": 724,
    "start_time": "2022-01-21T15:09:52.480Z"
   },
   {
    "duration": 15,
    "start_time": "2022-01-21T15:09:53.207Z"
   },
   {
    "duration": 8,
    "start_time": "2022-01-21T15:09:53.225Z"
   },
   {
    "duration": 471,
    "start_time": "2022-01-21T15:09:53.236Z"
   },
   {
    "duration": 439,
    "start_time": "2022-01-21T15:09:53.709Z"
   },
   {
    "duration": 387,
    "start_time": "2022-01-21T15:09:54.150Z"
   },
   {
    "duration": 434,
    "start_time": "2022-01-21T15:09:54.540Z"
   },
   {
    "duration": 364,
    "start_time": "2022-01-21T15:09:54.977Z"
   },
   {
    "duration": 7,
    "start_time": "2022-01-21T15:09:55.344Z"
   },
   {
    "duration": 26,
    "start_time": "2022-01-21T15:09:55.354Z"
   },
   {
    "duration": 9,
    "start_time": "2022-01-21T15:09:55.382Z"
   },
   {
    "duration": 378,
    "start_time": "2022-01-21T15:09:55.393Z"
   },
   {
    "duration": 431,
    "start_time": "2022-01-21T15:09:55.774Z"
   },
   {
    "duration": 455,
    "start_time": "2022-01-21T15:09:56.208Z"
   },
   {
    "duration": 340,
    "start_time": "2022-01-21T15:09:56.665Z"
   },
   {
    "duration": 373,
    "start_time": "2022-01-21T15:09:57.007Z"
   },
   {
    "duration": 11,
    "start_time": "2022-01-21T15:09:57.382Z"
   },
   {
    "duration": 1184,
    "start_time": "2022-01-21T15:09:57.396Z"
   },
   {
    "duration": 9,
    "start_time": "2022-01-21T15:09:58.582Z"
   },
   {
    "duration": 7,
    "start_time": "2022-01-21T15:09:58.593Z"
   },
   {
    "duration": 5,
    "start_time": "2022-01-21T15:09:58.603Z"
   },
   {
    "duration": 491,
    "start_time": "2022-01-21T15:09:58.610Z"
   },
   {
    "duration": 4,
    "start_time": "2022-01-21T15:09:59.103Z"
   },
   {
    "duration": 390,
    "start_time": "2022-01-21T15:09:59.110Z"
   },
   {
    "duration": 5,
    "start_time": "2022-01-21T15:09:59.502Z"
   },
   {
    "duration": 19,
    "start_time": "2022-01-21T15:09:59.509Z"
   },
   {
    "duration": 8,
    "start_time": "2022-01-21T15:09:59.530Z"
   },
   {
    "duration": 7,
    "start_time": "2022-01-21T15:09:59.540Z"
   },
   {
    "duration": 20,
    "start_time": "2022-01-21T15:09:59.550Z"
   },
   {
    "duration": 3070,
    "start_time": "2022-01-21T15:09:59.572Z"
   },
   {
    "duration": 34,
    "start_time": "2022-01-21T15:10:02.644Z"
   },
   {
    "duration": 429,
    "start_time": "2022-01-21T15:10:02.680Z"
   },
   {
    "duration": 368,
    "start_time": "2022-01-21T15:10:03.111Z"
   },
   {
    "duration": 371,
    "start_time": "2022-01-21T15:10:03.481Z"
   },
   {
    "duration": 366,
    "start_time": "2022-01-21T15:10:03.855Z"
   },
   {
    "duration": 406,
    "start_time": "2022-01-21T15:10:04.224Z"
   },
   {
    "duration": 389,
    "start_time": "2022-01-21T15:10:04.632Z"
   },
   {
    "duration": 393,
    "start_time": "2022-01-21T15:10:05.027Z"
   },
   {
    "duration": 3,
    "start_time": "2022-01-21T15:10:05.423Z"
   },
   {
    "duration": 486,
    "start_time": "2022-01-21T15:10:05.428Z"
   },
   {
    "duration": 373,
    "start_time": "2022-01-21T15:10:05.917Z"
   },
   {
    "duration": 372,
    "start_time": "2022-01-21T15:10:06.292Z"
   },
   {
    "duration": 16,
    "start_time": "2022-01-21T15:10:06.669Z"
   },
   {
    "duration": 18,
    "start_time": "2022-01-21T15:10:06.688Z"
   },
   {
    "duration": 101,
    "start_time": "2022-01-21T15:18:15.672Z"
   }
  ],
  "kernelspec": {
   "display_name": "Python 3 (ipykernel)",
   "language": "python",
   "name": "python3"
  },
  "language_info": {
   "codemirror_mode": {
    "name": "ipython",
    "version": 3
   },
   "file_extension": ".py",
   "mimetype": "text/x-python",
   "name": "python",
   "nbconvert_exporter": "python",
   "pygments_lexer": "ipython3",
   "version": "3.9.5"
  },
  "toc": {
   "base_numbering": 1,
   "nav_menu": {},
   "number_sections": false,
   "sideBar": true,
   "skip_h1_title": false,
   "title_cell": "Table of Contents",
   "title_sidebar": "Contents",
   "toc_cell": true,
   "toc_position": {
    "height": "calc(100% - 180px)",
    "left": "10px",
    "top": "150px",
    "width": "350.797px"
   },
   "toc_section_display": true,
   "toc_window_display": true
  }
 },
 "nbformat": 4,
 "nbformat_minor": 2
}
